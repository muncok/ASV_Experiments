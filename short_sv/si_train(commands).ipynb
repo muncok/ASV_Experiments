{
 "cells": [
  {
   "cell_type": "code",
   "execution_count": 1,
   "metadata": {},
   "outputs": [
    {
     "name": "stdout",
     "output_type": "stream",
     "text": [
      "Populating the interactive namespace from numpy and matplotlib\n"
     ]
    }
   ],
   "source": [
    "%load_ext autoreload\n",
    "%autoreload 2\n",
    "%pylab inline\n",
    "import pandas as pd\n",
    "import os"
   ]
  },
  {
   "cell_type": "code",
   "execution_count": 2,
   "metadata": {},
   "outputs": [],
   "source": [
    "import sys\n",
    "sys.path.append(\"/home/muncok/DL/projects/\")"
   ]
  },
  {
   "cell_type": "code",
   "execution_count": 3,
   "metadata": {},
   "outputs": [],
   "source": [
    "from sv_system.data import dataloader as dloader\n",
    "from sv_system.data.dataset import SpeechDataset\n",
    "from sv_system.model.AuxModels import SimpleCNN\n",
    "from sv_system.model.SpeechModel import SpeechResModel\n",
    "from sv_system.train import si_train\n",
    "from sv_system.utils import secToSample, secToFrames\n",
    "from sv_system.utils.data_utils import split_df\n",
    "from sv_system.utils.parser import test_config, train_parser"
   ]
  },
  {
   "cell_type": "code",
   "execution_count": 4,
   "metadata": {},
   "outputs": [],
   "source": [
    "def secToSample(sec):\n",
    "    return int(16000 * sec)"
   ]
  },
  {
   "cell_type": "code",
   "execution_count": 5,
   "metadata": {},
   "outputs": [],
   "source": [
    "si_config = test_config('res15')\n",
    "si_config['input_clip'] = True\n",
    "si_config['input_length'] = secToSample(1)\n",
    "si_config['input_frames'] = secToFrames(1)\n",
    "si_config['splice_frames'] = secToFrames(0.1)\n",
    "si_config['stride_frames'] = secToFrames(0.1)\n",
    "si_config['input_format'] = 'fbank'\n",
    "\n",
    "si_config['n_epochs'] = 50\n",
    "si_config['print_step'] = 100\n",
    "si_config['lr'] = [0.001, 0.0001]\n",
    "si_config['schedule'] = [np.inf]\n",
    "si_config['s_epoch'] = 0\n",
    "\n",
    "si_config['batch_size'] = 64\n",
    "si_config['num_workers'] = 48"
   ]
  },
  {
   "cell_type": "markdown",
   "metadata": {},
   "source": [
    "# Dataset Split"
   ]
  },
  {
   "cell_type": "code",
   "execution_count": 6,
   "metadata": {},
   "outputs": [],
   "source": [
    "si_df = pd.read_pickle(\"../trials/commands/final/equal_num_102spk_iden.pkl\")\n",
    "si_config['data_folder'] = \"/home/muncok/DL/dataset/SV_sets/speech_commands/vad/\"\n",
    "n_labels = 1881"
   ]
  },
  {
   "cell_type": "code",
   "execution_count": 7,
   "metadata": {},
   "outputs": [],
   "source": [
    "train_df = si_df.sample(frac=0.9)\n",
    "val_df = si_df.drop(index=train_df.index)\n",
    "test_df = val_df\n",
    "dfs = [train_df, val_df, test_df]"
   ]
  },
  {
   "cell_type": "markdown",
   "metadata": {},
   "source": [
    "# SI Train"
   ]
  },
  {
   "cell_type": "code",
   "execution_count": 8,
   "metadata": {},
   "outputs": [],
   "source": [
    "si_model = SpeechResModel('res15', n_labels)\n",
    "si_config['output_file'] = \"si_commands_res15.pt\""
   ]
  },
  {
   "cell_type": "code",
   "execution_count": 9,
   "metadata": {},
   "outputs": [],
   "source": [
    "loaders = []\n",
    "for i, df in enumerate(dfs):\n",
    "    if i == 0:\n",
    "        dataset = SpeechDataset.read_df(si_config, df, \"train\")\n",
    "        loader = dloader.init_default_loader(si_config, dataset, True)\n",
    "    else:\n",
    "        dataset = SpeechDataset.read_df(si_config, df, \"test\")\n",
    "        loader = dloader.init_default_loader(si_config, dataset, False)\n",
    "    loaders.append(loader)    "
   ]
  },
  {
   "cell_type": "code",
   "execution_count": 10,
   "metadata": {
    "scrolled": false
   },
   "outputs": [
    {
     "data": {
      "application/vnd.jupyter.widget-view+json": {
       "model_id": "f89c6f3fabf94ff0b0553f9c4f37ba52",
       "version_major": 2,
       "version_minor": 0
      },
      "text/plain": [
       "HBox(children=(IntProgress(value=0, max=523), HTML(value='')))"
      ]
     },
     "metadata": {},
     "output_type": "display_data"
    },
    {
     "name": "stdout",
     "output_type": "stream",
     "text": [
      "train step #99 accuracy: 0.0, loss: 0.6827135848999023\n",
      "train step #999 accuracy: 0.0, loss: 0.6813288307189942\n",
      "train step #1899 accuracy: 0.0, loss: 0.6756486129760743\n",
      "train step #2799 accuracy: 0.0, loss: 0.6762716817855835\n",
      "train step #3699 accuracy: 0.0, loss: 0.6646338796615601\n",
      "train step #4599 accuracy: 0.0, loss: 0.6662137937545777\n",
      "\n",
      "epoch #0, dev accuracy: 0.009269068017601967\n",
      "saving best model...\n",
      "saved to si_commands_res15.pt\n"
     ]
    },
    {
     "data": {
      "application/vnd.jupyter.widget-view+json": {
       "model_id": "0ac1c767f77048949e0b53436267009b",
       "version_major": 2,
       "version_minor": 0
      },
      "text/plain": [
       "HBox(children=(IntProgress(value=0, max=523), HTML(value='')))"
      ]
     },
     "metadata": {},
     "output_type": "display_data"
    },
    {
     "name": "stdout",
     "output_type": "stream",
     "text": [
      "train step #5499 accuracy: 0.0, loss: 0.6624167776107788\n",
      "train step #6399 accuracy: 0.015625, loss: 0.6460580158233643\n",
      "train step #7299 accuracy: 0.0, loss: 0.6549857521057129\n",
      "train step #8199 accuracy: 0.03125, loss: 0.637544355392456\n",
      "train step #9099 accuracy: 0.015625, loss: 0.6307898569107055\n",
      "\n",
      "epoch #1, dev accuracy: 0.024894068017601967\n",
      "saving best model...\n",
      "saved to si_commands_res15.pt\n"
     ]
    },
    {
     "data": {
      "application/vnd.jupyter.widget-view+json": {
       "model_id": "1ed96a5d5efb474b8346a6a8369c8340",
       "version_major": 2,
       "version_minor": 0
      },
      "text/plain": [
       "HBox(children=(IntProgress(value=0, max=523), HTML(value='')))"
      ]
     },
     "metadata": {},
     "output_type": "display_data"
    },
    {
     "name": "stdout",
     "output_type": "stream",
     "text": [
      "train step #9999 accuracy: 0.078125, loss: 0.6058948755264282\n",
      "train step #10899 accuracy: 0.03125, loss: 0.6190637731552124\n",
      "train step #11799 accuracy: 0.0625, loss: 0.6172317552566529\n",
      "train step #12699 accuracy: 0.0625, loss: 0.6123465251922607\n",
      "train step #13599 accuracy: 0.03125, loss: 0.623330044746399\n",
      "\n",
      "epoch #2, dev accuracy: 0.039724577218294144\n",
      "saving best model...\n",
      "saved to si_commands_res15.pt\n"
     ]
    },
    {
     "data": {
      "application/vnd.jupyter.widget-view+json": {
       "model_id": "4cea841e714d42598bbd54af803527b6",
       "version_major": 2,
       "version_minor": 0
      },
      "text/plain": [
       "HBox(children=(IntProgress(value=0, max=523), HTML(value='')))"
      ]
     },
     "metadata": {},
     "output_type": "display_data"
    },
    {
     "name": "stdout",
     "output_type": "stream",
     "text": [
      "train step #14499 accuracy: 0.03125, loss: 0.599116907119751\n",
      "train step #15399 accuracy: 0.015625, loss: 0.5813847541809082\n",
      "train step #16299 accuracy: 0.0625, loss: 0.5701432704925538\n",
      "train step #17199 accuracy: 0.078125, loss: 0.5889225292205811\n",
      "train step #18099 accuracy: 0.015625, loss: 0.5669043731689453\n",
      "\n",
      "epoch #3, dev accuracy: 0.051906779408454895\n",
      "saving best model...\n",
      "saved to si_commands_res15.pt\n"
     ]
    },
    {
     "data": {
      "application/vnd.jupyter.widget-view+json": {
       "model_id": "dd0ead4860174529973eca98884712aa",
       "version_major": 2,
       "version_minor": 0
      },
      "text/plain": [
       "HBox(children=(IntProgress(value=0, max=523), HTML(value='')))"
      ]
     },
     "metadata": {},
     "output_type": "display_data"
    },
    {
     "name": "stdout",
     "output_type": "stream",
     "text": [
      "train step #18999 accuracy: 0.0625, loss: 0.5606108999252319\n",
      "train step #19899 accuracy: 0.09375, loss: 0.5457285785675049\n",
      "train step #20799 accuracy: 0.0625, loss: 0.5559947633743286\n",
      "train step #21699 accuracy: 0.0625, loss: 0.5573415613174438\n",
      "train step #22599 accuracy: 0.03125, loss: 0.5782790040969848\n",
      "train step #23499 accuracy: 0.015625, loss: 0.5698913145065307\n",
      "\n",
      "epoch #4, dev accuracy: 0.06038135662674904\n",
      "saving best model...\n",
      "saved to si_commands_res15.pt\n"
     ]
    },
    {
     "data": {
      "application/vnd.jupyter.widget-view+json": {
       "model_id": "e81e63a16db2428cba56546dc5755a6b",
       "version_major": 2,
       "version_minor": 0
      },
      "text/plain": [
       "HBox(children=(IntProgress(value=0, max=523), HTML(value='')))"
      ]
     },
     "metadata": {},
     "output_type": "display_data"
    },
    {
     "name": "stdout",
     "output_type": "stream",
     "text": [
      "train step #24399 accuracy: 0.0625, loss: 0.5686067581176758\n",
      "train step #25299 accuracy: 0.015625, loss: 0.5560477495193481\n",
      "train step #26199 accuracy: 0.078125, loss: 0.537742109298706\n",
      "train step #27099 accuracy: 0.046875, loss: 0.565395655632019\n",
      "train step #27999 accuracy: 0.09375, loss: 0.5366461706161499\n",
      "\n",
      "epoch #5, dev accuracy: 0.06832627207040787\n",
      "saving best model...\n",
      "saved to si_commands_res15.pt\n"
     ]
    },
    {
     "data": {
      "application/vnd.jupyter.widget-view+json": {
       "model_id": "a42031089f3a4455b143aee550cb3510",
       "version_major": 2,
       "version_minor": 0
      },
      "text/plain": [
       "HBox(children=(IntProgress(value=0, max=523), HTML(value='')))"
      ]
     },
     "metadata": {},
     "output_type": "display_data"
    },
    {
     "name": "stdout",
     "output_type": "stream",
     "text": [
      "train step #28899 accuracy: 0.046875, loss: 0.5434550380706787\n",
      "train step #29799 accuracy: 0.03125, loss: 0.5447401237487793\n",
      "train step #30699 accuracy: 0.09375, loss: 0.5365974569320678\n",
      "train step #31599 accuracy: 0.078125, loss: 0.5318559026718139\n",
      "train step #32499 accuracy: 0.09375, loss: 0.5228138446807862\n",
      "\n",
      "epoch #6, dev accuracy: 0.07706567645072937\n",
      "saving best model...\n",
      "saved to si_commands_res15.pt\n"
     ]
    },
    {
     "data": {
      "application/vnd.jupyter.widget-view+json": {
       "model_id": "f1dfb7893e7c443ab1743a0321dbb50d",
       "version_major": 2,
       "version_minor": 0
      },
      "text/plain": [
       "HBox(children=(IntProgress(value=0, max=523), HTML(value='')))"
      ]
     },
     "metadata": {},
     "output_type": "display_data"
    },
    {
     "name": "stdout",
     "output_type": "stream",
     "text": [
      "train step #33399 accuracy: 0.109375, loss: 0.5260312938690186\n",
      "train step #34299 accuracy: 0.078125, loss: 0.5069258499145508\n",
      "train step #35199 accuracy: 0.078125, loss: 0.5091567564010621\n",
      "train step #36099 accuracy: 0.078125, loss: 0.5223797464370727\n",
      "train step #36999 accuracy: 0.09375, loss: 0.5074206113815307\n",
      "\n",
      "epoch #7, dev accuracy: 0.08792372792959213\n",
      "saving best model...\n",
      "saved to si_commands_res15.pt\n"
     ]
    },
    {
     "data": {
      "application/vnd.jupyter.widget-view+json": {
       "model_id": "b2eaf3e3539b450ea626eddc74c95e75",
       "version_major": 2,
       "version_minor": 0
      },
      "text/plain": [
       "HBox(children=(IntProgress(value=0, max=523), HTML(value='')))"
      ]
     },
     "metadata": {},
     "output_type": "display_data"
    },
    {
     "name": "stdout",
     "output_type": "stream",
     "text": [
      "train step #37899 accuracy: 0.140625, loss: 0.4845786809921265\n",
      "train step #38799 accuracy: 0.0625, loss: 0.5182599973678589\n",
      "train step #39699 accuracy: 0.0625, loss: 0.5131562614440918\n",
      "train step #40599 accuracy: 0.140625, loss: 0.4831253576278687\n",
      "train step #41499 accuracy: 0.0625, loss: 0.5095175504684448\n",
      "\n",
      "epoch #8, dev accuracy: 0.0918961837887764\n",
      "saving best model...\n",
      "saved to si_commands_res15.pt\n"
     ]
    },
    {
     "data": {
      "application/vnd.jupyter.widget-view+json": {
       "model_id": "81b87c75f9c24dc1a133d491f0fc5d96",
       "version_major": 2,
       "version_minor": 0
      },
      "text/plain": [
       "HBox(children=(IntProgress(value=0, max=523), HTML(value='')))"
      ]
     },
     "metadata": {},
     "output_type": "display_data"
    },
    {
     "name": "stdout",
     "output_type": "stream",
     "text": [
      "train step #42399 accuracy: 0.140625, loss: 0.4826147890090942\n",
      "train step #43299 accuracy: 0.15625, loss: 0.4746039390563965\n",
      "train step #44199 accuracy: 0.140625, loss: 0.47823739528656006\n",
      "train step #45099 accuracy: 0.109375, loss: 0.5005766868591308\n",
      "train step #45999 accuracy: 0.140625, loss: 0.4790498352050781\n",
      "train step #46899 accuracy: 0.09375, loss: 0.49797634601593016\n",
      "\n",
      "epoch #9, dev accuracy: 0.09825211763381958\n",
      "saving best model...\n",
      "saved to si_commands_res15.pt\n"
     ]
    },
    {
     "data": {
      "application/vnd.jupyter.widget-view+json": {
       "model_id": "f63b402ec6d94994afa8783ea83c170b",
       "version_major": 2,
       "version_minor": 0
      },
      "text/plain": [
       "HBox(children=(IntProgress(value=0, max=523), HTML(value='')))"
      ]
     },
     "metadata": {},
     "output_type": "display_data"
    },
    {
     "name": "stdout",
     "output_type": "stream",
     "text": [
      "train step #47799 accuracy: 0.09375, loss: 0.49123873710632326\n",
      "train step #48699 accuracy: 0.0625, loss: 0.5178489351272583\n",
      "train step #49599 accuracy: 0.09375, loss: 0.47847607612609866\n",
      "train step #50499 accuracy: 0.078125, loss: 0.47585479259490965\n",
      "train step #51399 accuracy: 0.046875, loss: 0.49003288745880125\n",
      "\n",
      "epoch #10, dev accuracy: 0.09507415443658829\n"
     ]
    },
    {
     "data": {
      "application/vnd.jupyter.widget-view+json": {
       "model_id": "7ea3c15cac284411b2a055ba276f20c5",
       "version_major": 2,
       "version_minor": 0
      },
      "text/plain": [
       "HBox(children=(IntProgress(value=0, max=523), HTML(value='')))"
      ]
     },
     "metadata": {},
     "output_type": "display_data"
    },
    {
     "name": "stdout",
     "output_type": "stream",
     "text": [
      "train step #52299 accuracy: 0.125, loss: 0.45151334285736083\n",
      "train step #53199 accuracy: 0.109375, loss: 0.48896501541137694\n",
      "train step #54099 accuracy: 0.03125, loss: 0.49124923706054685\n",
      "train step #54999 accuracy: 0.140625, loss: 0.46866955280303957\n",
      "train step #55899 accuracy: 0.125, loss: 0.47501111030578613\n",
      "\n",
      "epoch #11, dev accuracy: 0.11820268630981445\n",
      "saving best model...\n",
      "saved to si_commands_res15.pt\n"
     ]
    },
    {
     "data": {
      "application/vnd.jupyter.widget-view+json": {
       "model_id": "b23f9e1d24f949fabc572e1128280109",
       "version_major": 2,
       "version_minor": 0
      },
      "text/plain": [
       "HBox(children=(IntProgress(value=0, max=523), HTML(value='')))"
      ]
     },
     "metadata": {},
     "output_type": "display_data"
    },
    {
     "name": "stdout",
     "output_type": "stream",
     "text": [
      "train step #56799 accuracy: 0.140625, loss: 0.450955867767334\n",
      "train step #57699 accuracy: 0.109375, loss: 0.4856631517410278\n",
      "train step #58599 accuracy: 0.125, loss: 0.4843849468231201\n",
      "train step #59499 accuracy: 0.09375, loss: 0.47774418830871584\n",
      "train step #60399 accuracy: 0.09375, loss: 0.4624241542816162\n",
      "\n",
      "epoch #12, dev accuracy: 0.1075211837887764\n"
     ]
    },
    {
     "data": {
      "application/vnd.jupyter.widget-view+json": {
       "model_id": "ed0b326eaeed4f549760b032013b77fa",
       "version_major": 2,
       "version_minor": 0
      },
      "text/plain": [
       "HBox(children=(IntProgress(value=0, max=523), HTML(value='')))"
      ]
     },
     "metadata": {},
     "output_type": "display_data"
    },
    {
     "name": "stdout",
     "output_type": "stream",
     "text": [
      "train step #61299 accuracy: 0.15625, loss: 0.45174012660980223\n",
      "train step #62199 accuracy: 0.09375, loss: 0.45884946823120115\n",
      "train step #63099 accuracy: 0.234375, loss: 0.4269350337982178\n",
      "train step #63999 accuracy: 0.140625, loss: 0.45315850734710694\n",
      "train step #64899 accuracy: 0.15625, loss: 0.4520711612701416\n",
      "train step #65799 accuracy: 0.09375, loss: 0.46816203117370603\n",
      "\n",
      "epoch #13, dev accuracy: 0.13382768630981445\n",
      "saving best model...\n",
      "saved to si_commands_res15.pt\n"
     ]
    },
    {
     "data": {
      "application/vnd.jupyter.widget-view+json": {
       "model_id": "2bcdffd333ca4d33b57e0a5b2a443d4e",
       "version_major": 2,
       "version_minor": 0
      },
      "text/plain": [
       "HBox(children=(IntProgress(value=0, max=523), HTML(value='')))"
      ]
     },
     "metadata": {},
     "output_type": "display_data"
    },
    {
     "name": "stdout",
     "output_type": "stream",
     "text": [
      "train step #66699 accuracy: 0.125, loss: 0.4497050428390503\n",
      "train step #67599 accuracy: 0.109375, loss: 0.4563652276992798\n",
      "train step #68499 accuracy: 0.125, loss: 0.41605492115020754\n",
      "train step #69399 accuracy: 0.203125, loss: 0.42202617168426515\n",
      "train step #70299 accuracy: 0.078125, loss: 0.4531887722015381\n",
      "\n",
      "epoch #14, dev accuracy: 0.13488700985908508\n",
      "saving best model...\n",
      "saved to si_commands_res15.pt\n"
     ]
    },
    {
     "data": {
      "application/vnd.jupyter.widget-view+json": {
       "model_id": "b70f08b929684edfb0fe2374413d5b7b",
       "version_major": 2,
       "version_minor": 0
      },
      "text/plain": [
       "HBox(children=(IntProgress(value=0, max=523), HTML(value='')))"
      ]
     },
     "metadata": {},
     "output_type": "display_data"
    },
    {
     "name": "stdout",
     "output_type": "stream",
     "text": [
      "train step #71199 accuracy: 0.171875, loss: 0.4368182897567749\n",
      "train step #72099 accuracy: 0.125, loss: 0.43210147380828856\n",
      "train step #72999 accuracy: 0.203125, loss: 0.41111408710479735\n",
      "train step #73899 accuracy: 0.15625, loss: 0.4251935863494873\n",
      "train step #74799 accuracy: 0.09375, loss: 0.4504315519332886\n",
      "\n",
      "epoch #15, dev accuracy: 0.13303320109844208\n"
     ]
    },
    {
     "data": {
      "application/vnd.jupyter.widget-view+json": {
       "model_id": "b229b38d7ec54f56a434b833b60c1f3d",
       "version_major": 2,
       "version_minor": 0
      },
      "text/plain": [
       "HBox(children=(IntProgress(value=0, max=523), HTML(value='')))"
      ]
     },
     "metadata": {},
     "output_type": "display_data"
    },
    {
     "name": "stdout",
     "output_type": "stream",
     "text": [
      "train step #75699 accuracy: 0.109375, loss: 0.4413644790649414\n",
      "train step #76599 accuracy: 0.15625, loss: 0.422746319770813\n",
      "train step #77499 accuracy: 0.109375, loss: 0.43656960010528567\n",
      "train step #78399 accuracy: 0.1875, loss: 0.4085861349105835\n",
      "train step #79299 accuracy: 0.15625, loss: 0.43422421455383303\n",
      "\n",
      "epoch #16, dev accuracy: 0.1355932205915451\n",
      "saving best model...\n",
      "saved to si_commands_res15.pt\n"
     ]
    },
    {
     "data": {
      "application/vnd.jupyter.widget-view+json": {
       "model_id": "2185cdc0b2ef4d43b24d698d9b3a4db6",
       "version_major": 2,
       "version_minor": 0
      },
      "text/plain": [
       "HBox(children=(IntProgress(value=0, max=523), HTML(value='')))"
      ]
     },
     "metadata": {},
     "output_type": "display_data"
    },
    {
     "name": "stdout",
     "output_type": "stream",
     "text": [
      "train step #80199 accuracy: 0.171875, loss: 0.4312601709365845\n",
      "train step #81099 accuracy: 0.140625, loss: 0.41631081104278567\n",
      "train step #81999 accuracy: 0.140625, loss: 0.41966651439666747\n",
      "train step #82899 accuracy: 0.15625, loss: 0.4242503070831299\n",
      "train step #83799 accuracy: 0.140625, loss: 0.42606675148010253\n",
      "train step #84699 accuracy: 0.1875, loss: 0.3983140993118286\n",
      "\n",
      "epoch #17, dev accuracy: 0.1374470293521881\n",
      "saving best model...\n",
      "saved to si_commands_res15.pt\n"
     ]
    },
    {
     "data": {
      "application/vnd.jupyter.widget-view+json": {
       "model_id": "c62b80150c464278b31135f35c434222",
       "version_major": 2,
       "version_minor": 0
      },
      "text/plain": [
       "HBox(children=(IntProgress(value=0, max=523), HTML(value='')))"
      ]
     },
     "metadata": {},
     "output_type": "display_data"
    },
    {
     "name": "stdout",
     "output_type": "stream",
     "text": [
      "train step #85599 accuracy: 0.21875, loss: 0.4122589159011841\n",
      "train step #86499 accuracy: 0.21875, loss: 0.4242351770401001\n",
      "train step #87399 accuracy: 0.15625, loss: 0.4500133466720581\n",
      "train step #88299 accuracy: 0.09375, loss: 0.4604083156585693\n",
      "train step #89199 accuracy: 0.140625, loss: 0.41982139587402345\n",
      "\n",
      "epoch #18, dev accuracy: 0.1631355881690979\n",
      "saving best model...\n",
      "saved to si_commands_res15.pt\n"
     ]
    },
    {
     "data": {
      "application/vnd.jupyter.widget-view+json": {
       "model_id": "ae46ade9a133481a86934958d832fcdf",
       "version_major": 2,
       "version_minor": 0
      },
      "text/plain": [
       "HBox(children=(IntProgress(value=0, max=523), HTML(value='')))"
      ]
     },
     "metadata": {},
     "output_type": "display_data"
    },
    {
     "name": "stdout",
     "output_type": "stream",
     "text": [
      "train step #90099 accuracy: 0.171875, loss: 0.406778450012207\n",
      "train step #90999 accuracy: 0.1875, loss: 0.4123406457901001\n",
      "train step #91899 accuracy: 0.28125, loss: 0.3706554961204529\n",
      "train step #92799 accuracy: 0.140625, loss: 0.40464225769042966\n",
      "train step #93699 accuracy: 0.171875, loss: 0.4067523002624512\n",
      "\n",
      "epoch #19, dev accuracy: 0.16957980394363403\n",
      "saving best model...\n",
      "saved to si_commands_res15.pt\n"
     ]
    },
    {
     "data": {
      "application/vnd.jupyter.widget-view+json": {
       "model_id": "b64257cb842a47c0baa2f285b3880630",
       "version_major": 2,
       "version_minor": 0
      },
      "text/plain": [
       "HBox(children=(IntProgress(value=0, max=523), HTML(value='')))"
      ]
     },
     "metadata": {},
     "output_type": "display_data"
    },
    {
     "name": "stdout",
     "output_type": "stream",
     "text": [
      "train step #94599 accuracy: 0.1875, loss: 0.40673218250274656\n",
      "train step #95499 accuracy: 0.09375, loss: 0.4181342601776123\n",
      "train step #96399 accuracy: 0.15625, loss: 0.4019781732559204\n",
      "train step #97299 accuracy: 0.25, loss: 0.38309134483337404\n",
      "train step #98199 accuracy: 0.15625, loss: 0.40466511726379395\n",
      "\n",
      "epoch #20, dev accuracy: 0.1663135588169098\n"
     ]
    },
    {
     "data": {
      "application/vnd.jupyter.widget-view+json": {
       "model_id": "9aec56cbe6db460fbb4c95d408303909",
       "version_major": 2,
       "version_minor": 0
      },
      "text/plain": [
       "HBox(children=(IntProgress(value=0, max=523), HTML(value='')))"
      ]
     },
     "metadata": {},
     "output_type": "display_data"
    },
    {
     "name": "stdout",
     "output_type": "stream",
     "text": [
      "train step #99099 accuracy: 0.171875, loss: 0.39986113548278807\n",
      "train step #99999 accuracy: 0.234375, loss: 0.38767638206481936\n",
      "train step #100899 accuracy: 0.28125, loss: 0.37465993881225584\n",
      "train step #101799 accuracy: 0.25, loss: 0.3862666702270508\n",
      "train step #102699 accuracy: 0.078125, loss: 0.4316872978210449\n",
      "\n",
      "epoch #21, dev accuracy: 0.18149717152118683\n",
      "saving best model...\n",
      "saved to si_commands_res15.pt\n"
     ]
    },
    {
     "data": {
      "application/vnd.jupyter.widget-view+json": {
       "model_id": "c8dde23ffeb84df2b9ff22b1b3b5a2a3",
       "version_major": 2,
       "version_minor": 0
      },
      "text/plain": [
       "HBox(children=(IntProgress(value=0, max=523), HTML(value='')))"
      ]
     },
     "metadata": {},
     "output_type": "display_data"
    },
    {
     "name": "stdout",
     "output_type": "stream",
     "text": [
      "train step #103599 accuracy: 0.21875, loss: 0.39211230754852294\n",
      "train step #104499 accuracy: 0.234375, loss: 0.3786127948760986\n",
      "train step #105399 accuracy: 0.21875, loss: 0.3887010097503662\n",
      "train step #106299 accuracy: 0.171875, loss: 0.38819097995758056\n",
      "train step #107199 accuracy: 0.15625, loss: 0.4057229661941528\n",
      "train step #108099 accuracy: 0.25, loss: 0.3661907696723938\n",
      "\n",
      "epoch #22, dev accuracy: 0.19544491171836853\n",
      "saving best model...\n",
      "saved to si_commands_res15.pt\n"
     ]
    },
    {
     "data": {
      "application/vnd.jupyter.widget-view+json": {
       "model_id": "1f403095946e40b0acc4a7826ff4cf23",
       "version_major": 2,
       "version_minor": 0
      },
      "text/plain": [
       "HBox(children=(IntProgress(value=0, max=523), HTML(value='')))"
      ]
     },
     "metadata": {},
     "output_type": "display_data"
    },
    {
     "name": "stdout",
     "output_type": "stream",
     "text": [
      "train step #108999 accuracy: 0.15625, loss: 0.4014511346817017\n",
      "train step #109899 accuracy: 0.171875, loss: 0.39002605438232424\n",
      "train step #110799 accuracy: 0.3125, loss: 0.36468770027160646\n",
      "train step #111699 accuracy: 0.234375, loss: 0.37546463012695314\n",
      "train step #112599 accuracy: 0.171875, loss: 0.40248974800109866\n",
      "\n",
      "epoch #23, dev accuracy: 0.1649894118309021\n"
     ]
    },
    {
     "data": {
      "application/vnd.jupyter.widget-view+json": {
       "model_id": "640d7befc9fe4c4f98c0994ea194de93",
       "version_major": 2,
       "version_minor": 0
      },
      "text/plain": [
       "HBox(children=(IntProgress(value=0, max=523), HTML(value='')))"
      ]
     },
     "metadata": {},
     "output_type": "display_data"
    },
    {
     "name": "stdout",
     "output_type": "stream",
     "text": [
      "train step #113499 accuracy: 0.203125, loss: 0.37143654823303224\n",
      "train step #114399 accuracy: 0.234375, loss: 0.3697064447402954\n",
      "train step #115299 accuracy: 0.234375, loss: 0.3784562301635742\n",
      "train step #116199 accuracy: 0.3125, loss: 0.3515620708465576\n",
      "train step #117099 accuracy: 0.203125, loss: 0.3754337954521179\n",
      "\n",
      "epoch #24, dev accuracy: 0.1787605881690979\n"
     ]
    },
    {
     "data": {
      "application/vnd.jupyter.widget-view+json": {
       "model_id": "cdbda38fc50b43e59a5a62d747843921",
       "version_major": 2,
       "version_minor": 0
      },
      "text/plain": [
       "HBox(children=(IntProgress(value=0, max=523), HTML(value='')))"
      ]
     },
     "metadata": {},
     "output_type": "display_data"
    },
    {
     "name": "stdout",
     "output_type": "stream",
     "text": [
      "train step #117999 accuracy: 0.265625, loss: 0.3707352900505066\n",
      "train step #118899 accuracy: 0.1875, loss: 0.36308836698532104\n",
      "train step #119799 accuracy: 0.203125, loss: 0.3907145643234253\n",
      "train step #120699 accuracy: 0.265625, loss: 0.356884765625\n",
      "train step #121599 accuracy: 0.25, loss: 0.3565273356437683\n",
      "\n",
      "epoch #25, dev accuracy: 0.22987288236618042\n",
      "saving best model...\n",
      "saved to si_commands_res15.pt\n"
     ]
    },
    {
     "data": {
      "application/vnd.jupyter.widget-view+json": {
       "model_id": "65f6788ae2974caaad3d97ca9b415b35",
       "version_major": 2,
       "version_minor": 0
      },
      "text/plain": [
       "HBox(children=(IntProgress(value=0, max=523), HTML(value='')))"
      ]
     },
     "metadata": {},
     "output_type": "display_data"
    },
    {
     "name": "stdout",
     "output_type": "stream",
     "text": [
      "train step #122499 accuracy: 0.21875, loss: 0.3973276662826538\n",
      "train step #123399 accuracy: 0.265625, loss: 0.36013202667236327\n",
      "train step #124299 accuracy: 0.171875, loss: 0.37164403915405275\n",
      "train step #125199 accuracy: 0.234375, loss: 0.3668247652053833\n",
      "train step #126099 accuracy: 0.296875, loss: 0.373590886592865\n",
      "train step #126999 accuracy: 0.203125, loss: 0.39543880939483644\n",
      "\n",
      "epoch #26, dev accuracy: 0.21451270580291748\n"
     ]
    },
    {
     "data": {
      "application/vnd.jupyter.widget-view+json": {
       "model_id": "d0ff76da702b4ea0b052c2a14988acb6",
       "version_major": 2,
       "version_minor": 0
      },
      "text/plain": [
       "HBox(children=(IntProgress(value=0, max=523), HTML(value='')))"
      ]
     },
     "metadata": {},
     "output_type": "display_data"
    },
    {
     "name": "stdout",
     "output_type": "stream",
     "text": [
      "train step #127899 accuracy: 0.328125, loss: 0.35284096002578735\n",
      "train step #128799 accuracy: 0.140625, loss: 0.4138175392150879\n",
      "train step #129699 accuracy: 0.234375, loss: 0.37695746183395384\n",
      "train step #130599 accuracy: 0.25, loss: 0.37964715957641604\n",
      "train step #131499 accuracy: 0.265625, loss: 0.35208038091659544\n",
      "\n",
      "epoch #27, dev accuracy: 0.2304908186197281\n",
      "saving best model...\n",
      "saved to si_commands_res15.pt\n"
     ]
    },
    {
     "data": {
      "application/vnd.jupyter.widget-view+json": {
       "model_id": "73eedf7c31f9479cbb7e5b0433a6f989",
       "version_major": 2,
       "version_minor": 0
      },
      "text/plain": [
       "HBox(children=(IntProgress(value=0, max=523), HTML(value='')))"
      ]
     },
     "metadata": {},
     "output_type": "display_data"
    },
    {
     "name": "stdout",
     "output_type": "stream",
     "text": [
      "train step #132399 accuracy: 0.265625, loss: 0.33606616497039793\n",
      "train step #133299 accuracy: 0.234375, loss: 0.37901095151901243\n",
      "train step #134199 accuracy: 0.28125, loss: 0.37335973024368285\n",
      "train step #135099 accuracy: 0.28125, loss: 0.3705158185958862\n",
      "train step #135999 accuracy: 0.203125, loss: 0.3817829322814941\n",
      "\n",
      "epoch #28, dev accuracy: 0.21751411259174347\n"
     ]
    },
    {
     "data": {
      "application/vnd.jupyter.widget-view+json": {
       "model_id": "5dab6c52e7514b3ba87dd9d62ca7055c",
       "version_major": 2,
       "version_minor": 0
      },
      "text/plain": [
       "HBox(children=(IntProgress(value=0, max=523), HTML(value='')))"
      ]
     },
     "metadata": {},
     "output_type": "display_data"
    },
    {
     "name": "stdout",
     "output_type": "stream",
     "text": [
      "train step #136899 accuracy: 0.265625, loss: 0.3361757516860962\n",
      "train step #137799 accuracy: 0.359375, loss: 0.33883694648742674\n",
      "train step #138699 accuracy: 0.171875, loss: 0.38293440341949464\n",
      "train step #139599 accuracy: 0.203125, loss: 0.3665883541107178\n",
      "train step #140499 accuracy: 0.3125, loss: 0.3391099834442139\n",
      "\n",
      "epoch #29, dev accuracy: 0.25\n",
      "saving best model...\n",
      "saved to si_commands_res15.pt\n"
     ]
    },
    {
     "data": {
      "application/vnd.jupyter.widget-view+json": {
       "model_id": "950fe9b93ff34d0c85989ea7ddc775d9",
       "version_major": 2,
       "version_minor": 0
      },
      "text/plain": [
       "HBox(children=(IntProgress(value=0, max=523), HTML(value='')))"
      ]
     },
     "metadata": {},
     "output_type": "display_data"
    },
    {
     "name": "stdout",
     "output_type": "stream",
     "text": [
      "train step #141399 accuracy: 0.1875, loss: 0.4208962392807007\n",
      "train step #142299 accuracy: 0.296875, loss: 0.3568073606491089\n",
      "train step #143199 accuracy: 0.28125, loss: 0.3594950819015503\n",
      "train step #144099 accuracy: 0.328125, loss: 0.35383076906204225\n",
      "train step #144999 accuracy: 0.25, loss: 0.3818432545661926\n",
      "train step #145899 accuracy: 0.28125, loss: 0.3533649230003357\n",
      "\n",
      "epoch #30, dev accuracy: 0.24761652946472168\n"
     ]
    },
    {
     "data": {
      "application/vnd.jupyter.widget-view+json": {
       "model_id": "d89029f3f05c48bead8126eee380c7ee",
       "version_major": 2,
       "version_minor": 0
      },
      "text/plain": [
       "HBox(children=(IntProgress(value=0, max=523), HTML(value='')))"
      ]
     },
     "metadata": {},
     "output_type": "display_data"
    },
    {
     "name": "stdout",
     "output_type": "stream",
     "text": [
      "train step #146799 accuracy: 0.25, loss: 0.3554678845405579\n",
      "train step #147699 accuracy: 0.3125, loss: 0.33680009365081787\n",
      "train step #148599 accuracy: 0.234375, loss: 0.3769461464881897\n",
      "train step #149499 accuracy: 0.3125, loss: 0.3454606294631958\n",
      "train step #150399 accuracy: 0.359375, loss: 0.31465893745422363\n",
      "\n",
      "epoch #31, dev accuracy: 0.24761652946472168\n"
     ]
    },
    {
     "data": {
      "application/vnd.jupyter.widget-view+json": {
       "model_id": "a15abd4db3874090b7a56adecd45243a",
       "version_major": 2,
       "version_minor": 0
      },
      "text/plain": [
       "HBox(children=(IntProgress(value=0, max=523), HTML(value='')))"
      ]
     },
     "metadata": {},
     "output_type": "display_data"
    },
    {
     "name": "stdout",
     "output_type": "stream",
     "text": [
      "train step #151299 accuracy: 0.265625, loss: 0.35032339334487916\n",
      "train step #152199 accuracy: 0.328125, loss: 0.32427578687667846\n",
      "train step #153099 accuracy: 0.34375, loss: 0.3170394730567932\n",
      "train step #153999 accuracy: 0.21875, loss: 0.3544157314300537\n",
      "train step #154899 accuracy: 0.390625, loss: 0.34350535869598386\n",
      "\n",
      "epoch #32, dev accuracy: 0.2688029706478119\n",
      "saving best model...\n",
      "saved to si_commands_res15.pt\n"
     ]
    },
    {
     "data": {
      "application/vnd.jupyter.widget-view+json": {
       "model_id": "83276b51b4c84fc89001eada2c341311",
       "version_major": 2,
       "version_minor": 0
      },
      "text/plain": [
       "HBox(children=(IntProgress(value=0, max=523), HTML(value='')))"
      ]
     },
     "metadata": {},
     "output_type": "display_data"
    },
    {
     "name": "stdout",
     "output_type": "stream",
     "text": [
      "train step #155799 accuracy: 0.3125, loss: 0.32388015508651735\n",
      "train step #156699 accuracy: 0.21875, loss: 0.3536994504928589\n",
      "train step #157599 accuracy: 0.390625, loss: 0.32451303482055666\n",
      "train step #158499 accuracy: 0.359375, loss: 0.3361026239395142\n",
      "train step #159399 accuracy: 0.3125, loss: 0.3609678053855896\n",
      "\n",
      "epoch #33, dev accuracy: 0.277542382478714\n",
      "saving best model...\n",
      "saved to si_commands_res15.pt\n"
     ]
    },
    {
     "data": {
      "application/vnd.jupyter.widget-view+json": {
       "model_id": "bbce308c40d44a7a938365f5df9bf6e2",
       "version_major": 2,
       "version_minor": 0
      },
      "text/plain": [
       "HBox(children=(IntProgress(value=0, max=523), HTML(value='')))"
      ]
     },
     "metadata": {},
     "output_type": "display_data"
    },
    {
     "name": "stdout",
     "output_type": "stream",
     "text": [
      "train step #160299 accuracy: 0.3125, loss: 0.3497221183776855\n",
      "train step #161199 accuracy: 0.296875, loss: 0.32978598356246946\n",
      "train step #162099 accuracy: 0.234375, loss: 0.3911727333068848\n",
      "train step #162999 accuracy: 0.296875, loss: 0.30868250608444214\n",
      "train step #163899 accuracy: 0.265625, loss: 0.33678951263427737\n",
      "\n",
      "epoch #34, dev accuracy: 0.27542373538017273\n"
     ]
    },
    {
     "data": {
      "application/vnd.jupyter.widget-view+json": {
       "model_id": "740cb09b5ff04febb921041fb4eaaabc",
       "version_major": 2,
       "version_minor": 0
      },
      "text/plain": [
       "HBox(children=(IntProgress(value=0, max=523), HTML(value='')))"
      ]
     },
     "metadata": {},
     "output_type": "display_data"
    },
    {
     "name": "stdout",
     "output_type": "stream",
     "text": [
      "train step #164799 accuracy: 0.234375, loss: 0.32763018608093264\n",
      "train step #165699 accuracy: 0.296875, loss: 0.34755107402801516\n",
      "train step #166599 accuracy: 0.359375, loss: 0.3381015658378601\n",
      "train step #167499 accuracy: 0.390625, loss: 0.3223743200302124\n",
      "train step #168399 accuracy: 0.328125, loss: 0.3371780109405518\n",
      "train step #169299 accuracy: 0.34375, loss: 0.3365334534645081\n",
      "\n",
      "epoch #35, dev accuracy: 0.26536017656326294\n"
     ]
    },
    {
     "data": {
      "application/vnd.jupyter.widget-view+json": {
       "model_id": "4867eda877534a3c9f33bb25992017cf",
       "version_major": 2,
       "version_minor": 0
      },
      "text/plain": [
       "HBox(children=(IntProgress(value=0, max=523), HTML(value='')))"
      ]
     },
     "metadata": {},
     "output_type": "display_data"
    },
    {
     "name": "stdout",
     "output_type": "stream",
     "text": [
      "train step #170199 accuracy: 0.3125, loss: 0.34679264783859254\n",
      "train step #171099 accuracy: 0.359375, loss: 0.32432299613952636\n",
      "train step #171999 accuracy: 0.21875, loss: 0.36298170804977414\n",
      "train step #172899 accuracy: 0.359375, loss: 0.3190582180023193\n",
      "train step #173799 accuracy: 0.265625, loss: 0.3468919348716736\n",
      "\n",
      "epoch #36, dev accuracy: 0.30031779408454895\n",
      "saving best model...\n",
      "saved to si_commands_res15.pt\n"
     ]
    },
    {
     "data": {
      "application/vnd.jupyter.widget-view+json": {
       "model_id": "8363b319bc3042d4bcb3f4f41cc724b9",
       "version_major": 2,
       "version_minor": 0
      },
      "text/plain": [
       "HBox(children=(IntProgress(value=0, max=523), HTML(value='')))"
      ]
     },
     "metadata": {},
     "output_type": "display_data"
    },
    {
     "name": "stdout",
     "output_type": "stream",
     "text": [
      "train step #174699 accuracy: 0.28125, loss: 0.33030333757400515\n",
      "train step #175599 accuracy: 0.359375, loss: 0.30387451171875\n",
      "train step #176499 accuracy: 0.328125, loss: 0.3330812907218933\n",
      "train step #177399 accuracy: 0.34375, loss: 0.31414008378982544\n",
      "train step #178299 accuracy: 0.265625, loss: 0.32210105657577515\n",
      "\n",
      "epoch #37, dev accuracy: 0.30888065695762634\n",
      "saving best model...\n",
      "saved to si_commands_res15.pt\n"
     ]
    },
    {
     "data": {
      "application/vnd.jupyter.widget-view+json": {
       "model_id": "93d001d9618a4468be8d4fa5cd221dfb",
       "version_major": 2,
       "version_minor": 0
      },
      "text/plain": [
       "HBox(children=(IntProgress(value=0, max=523), HTML(value='')))"
      ]
     },
     "metadata": {},
     "output_type": "display_data"
    },
    {
     "name": "stdout",
     "output_type": "stream",
     "text": [
      "train step #179199 accuracy: 0.421875, loss: 0.31564817190170286\n",
      "train step #180099 accuracy: 0.4375, loss: 0.30672977209091185\n",
      "train step #180999 accuracy: 0.375, loss: 0.3240946125984192\n",
      "train step #181899 accuracy: 0.359375, loss: 0.3270117354393005\n",
      "train step #182799 accuracy: 0.46875, loss: 0.2760814690589905\n",
      "\n",
      "epoch #38, dev accuracy: 0.3082627058029175\n"
     ]
    },
    {
     "data": {
      "application/vnd.jupyter.widget-view+json": {
       "model_id": "d87482b2c00e44bebf2e89d21fa939cd",
       "version_major": 2,
       "version_minor": 0
      },
      "text/plain": [
       "HBox(children=(IntProgress(value=0, max=523), HTML(value='')))"
      ]
     },
     "metadata": {},
     "output_type": "display_data"
    },
    {
     "name": "stdout",
     "output_type": "stream",
     "text": [
      "train step #183699 accuracy: 0.375, loss: 0.29746445894241336\n",
      "train step #184599 accuracy: 0.25, loss: 0.32566741466522214\n",
      "train step #185499 accuracy: 0.375, loss: 0.3316008949279785\n",
      "train step #186399 accuracy: 0.28125, loss: 0.3382986354827881\n",
      "train step #187299 accuracy: 0.328125, loss: 0.33658891201019286\n",
      "train step #188199 accuracy: 0.28125, loss: 0.33494044303894044\n",
      "\n",
      "epoch #39, dev accuracy: 0.3050847351551056\n"
     ]
    },
    {
     "data": {
      "application/vnd.jupyter.widget-view+json": {
       "model_id": "ecceef0078ac401e8e6109789cb5ca9d",
       "version_major": 2,
       "version_minor": 0
      },
      "text/plain": [
       "HBox(children=(IntProgress(value=0, max=523), HTML(value='')))"
      ]
     },
     "metadata": {},
     "output_type": "display_data"
    },
    {
     "name": "stdout",
     "output_type": "stream",
     "text": [
      "train step #189099 accuracy: 0.46875, loss: 0.30911444425582885\n",
      "train step #189999 accuracy: 0.328125, loss: 0.321153085231781\n",
      "train step #190899 accuracy: 0.265625, loss: 0.31756991863250733\n",
      "train step #191799 accuracy: 0.34375, loss: 0.3025013208389282\n",
      "train step #192699 accuracy: 0.375, loss: 0.32766557693481446\n",
      "\n",
      "epoch #40, dev accuracy: 0.28919491171836853\n"
     ]
    },
    {
     "data": {
      "application/vnd.jupyter.widget-view+json": {
       "model_id": "25b367050e4f415dbdc1ab72440c69ca",
       "version_major": 2,
       "version_minor": 0
      },
      "text/plain": [
       "HBox(children=(IntProgress(value=0, max=523), HTML(value='')))"
      ]
     },
     "metadata": {},
     "output_type": "display_data"
    },
    {
     "name": "stdout",
     "output_type": "stream",
     "text": [
      "train step #193599 accuracy: 0.265625, loss: 0.3014810848236084\n",
      "train step #194499 accuracy: 0.375, loss: 0.30325252771377564\n",
      "train step #195399 accuracy: 0.296875, loss: 0.31804642677307127\n",
      "train step #196299 accuracy: 0.484375, loss: 0.2753501582145691\n",
      "train step #197199 accuracy: 0.390625, loss: 0.31004602670669557\n",
      "\n",
      "epoch #41, dev accuracy: 0.3271539509296417\n",
      "saving best model...\n",
      "saved to si_commands_res15.pt\n"
     ]
    },
    {
     "data": {
      "application/vnd.jupyter.widget-view+json": {
       "model_id": "851cb67f495543578456845e9ac931b5",
       "version_major": 2,
       "version_minor": 0
      },
      "text/plain": [
       "HBox(children=(IntProgress(value=0, max=523), HTML(value='')))"
      ]
     },
     "metadata": {},
     "output_type": "display_data"
    },
    {
     "name": "stdout",
     "output_type": "stream",
     "text": [
      "train step #198099 accuracy: 0.4375, loss: 0.29269808530807495\n",
      "train step #198999 accuracy: 0.3125, loss: 0.31229989290237425\n",
      "train step #199899 accuracy: 0.4375, loss: 0.29216977119445803\n",
      "train step #200799 accuracy: 0.359375, loss: 0.31279237508773805\n",
      "train step #201699 accuracy: 0.40625, loss: 0.31193425416946413\n",
      "\n",
      "epoch #42, dev accuracy: 0.28769421577453613\n"
     ]
    },
    {
     "data": {
      "application/vnd.jupyter.widget-view+json": {
       "model_id": "0d4fb571c91e4efa9b2412ca45d27c9c",
       "version_major": 2,
       "version_minor": 0
      },
      "text/plain": [
       "HBox(children=(IntProgress(value=0, max=523), HTML(value='')))"
      ]
     },
     "metadata": {},
     "output_type": "display_data"
    },
    {
     "name": "stdout",
     "output_type": "stream",
     "text": [
      "train step #202599 accuracy: 0.3125, loss: 0.3035204839706421\n",
      "train step #203499 accuracy: 0.421875, loss: 0.2977035117149353\n",
      "train step #204399 accuracy: 0.359375, loss: 0.3160953736305237\n",
      "train step #205299 accuracy: 0.328125, loss: 0.3031093692779541\n",
      "train step #206199 accuracy: 0.375, loss: 0.31151637315750125\n",
      "train step #207099 accuracy: 0.3125, loss: 0.33538389444351197\n",
      "\n",
      "epoch #43, dev accuracy: 0.33827683329582214\n",
      "saving best model...\n",
      "saved to si_commands_res15.pt\n"
     ]
    },
    {
     "data": {
      "application/vnd.jupyter.widget-view+json": {
       "model_id": "5aa8d92d0c50452fb88cad4234998a63",
       "version_major": 2,
       "version_minor": 0
      },
      "text/plain": [
       "HBox(children=(IntProgress(value=0, max=523), HTML(value='')))"
      ]
     },
     "metadata": {},
     "output_type": "display_data"
    },
    {
     "name": "stdout",
     "output_type": "stream",
     "text": [
      "train step #207999 accuracy: 0.453125, loss: 0.28943002700805665\n",
      "train step #208899 accuracy: 0.40625, loss: 0.28846012592315673\n",
      "train step #209799 accuracy: 0.359375, loss: 0.3226681852340698\n",
      "train step #210699 accuracy: 0.390625, loss: 0.30875998973846436\n",
      "train step #211599 accuracy: 0.359375, loss: 0.3268018937110901\n",
      "\n",
      "epoch #44, dev accuracy: 0.3229166865348816\n"
     ]
    },
    {
     "data": {
      "application/vnd.jupyter.widget-view+json": {
       "model_id": "eac3ba8294684594a338c333f8c853a4",
       "version_major": 2,
       "version_minor": 0
      },
      "text/plain": [
       "HBox(children=(IntProgress(value=0, max=523), HTML(value='')))"
      ]
     },
     "metadata": {},
     "output_type": "display_data"
    },
    {
     "name": "stdout",
     "output_type": "stream",
     "text": [
      "train step #212499 accuracy: 0.359375, loss: 0.2928708839416504\n",
      "train step #213399 accuracy: 0.421875, loss: 0.30255234956741334\n",
      "train step #214299 accuracy: 0.46875, loss: 0.2746545696258545\n",
      "train step #215199 accuracy: 0.40625, loss: 0.3145617485046387\n",
      "train step #216099 accuracy: 0.359375, loss: 0.2962902045249939\n",
      "\n",
      "epoch #45, dev accuracy: 0.3238877058029175\n"
     ]
    },
    {
     "data": {
      "application/vnd.jupyter.widget-view+json": {
       "model_id": "9dbdb152bef34b899b01f4ac7f051b1d",
       "version_major": 2,
       "version_minor": 0
      },
      "text/plain": [
       "HBox(children=(IntProgress(value=0, max=523), HTML(value='')))"
      ]
     },
     "metadata": {},
     "output_type": "display_data"
    },
    {
     "name": "stdout",
     "output_type": "stream",
     "text": [
      "train step #216999 accuracy: 0.296875, loss: 0.3267512798309326\n",
      "train step #217899 accuracy: 0.328125, loss: 0.30900935411453245\n",
      "train step #218799 accuracy: 0.359375, loss: 0.30824084997177126\n",
      "train step #219699 accuracy: 0.421875, loss: 0.29772502183914185\n",
      "train step #220599 accuracy: 0.484375, loss: 0.29784201860427856\n",
      "\n",
      "epoch #46, dev accuracy: 0.3353637158870697\n"
     ]
    },
    {
     "data": {
      "application/vnd.jupyter.widget-view+json": {
       "model_id": "6e60bfc87015424aa1f04dda17ca972e",
       "version_major": 2,
       "version_minor": 0
      },
      "text/plain": [
       "HBox(children=(IntProgress(value=0, max=523), HTML(value='')))"
      ]
     },
     "metadata": {},
     "output_type": "display_data"
    },
    {
     "name": "stdout",
     "output_type": "stream",
     "text": [
      "train step #221499 accuracy: 0.453125, loss: 0.28010029315948487\n",
      "train step #222399 accuracy: 0.375, loss: 0.30229587078094483\n",
      "train step #223299 accuracy: 0.390625, loss: 0.3006960582733154\n",
      "train step #224199 accuracy: 0.453125, loss: 0.275835440158844\n",
      "train step #225099 accuracy: 0.4375, loss: 0.30256143569946287\n",
      "\n",
      "epoch #47, dev accuracy: 0.34198448061943054\n",
      "saving best model...\n",
      "saved to si_commands_res15.pt\n"
     ]
    },
    {
     "data": {
      "application/vnd.jupyter.widget-view+json": {
       "model_id": "a7e7a8c3eee9481e88d804fdf1375e80",
       "version_major": 2,
       "version_minor": 0
      },
      "text/plain": [
       "HBox(children=(IntProgress(value=0, max=523), HTML(value='')))"
      ]
     },
     "metadata": {},
     "output_type": "display_data"
    },
    {
     "name": "stdout",
     "output_type": "stream",
     "text": [
      "train step #225999 accuracy: 0.390625, loss: 0.2970332431793213\n",
      "train step #226899 accuracy: 0.359375, loss: 0.3203025984764099\n",
      "train step #227799 accuracy: 0.359375, loss: 0.29841295480728147\n",
      "train step #228699 accuracy: 0.421875, loss: 0.33692647218704225\n",
      "train step #229599 accuracy: 0.3125, loss: 0.310739004611969\n",
      "train step #230499 accuracy: 0.375, loss: 0.30715557098388674\n",
      "\n",
      "epoch #48, dev accuracy: 0.32706567645072937\n"
     ]
    },
    {
     "data": {
      "application/vnd.jupyter.widget-view+json": {
       "model_id": "279033c9e5584bae945aa398c1b9cbd3",
       "version_major": 2,
       "version_minor": 0
      },
      "text/plain": [
       "HBox(children=(IntProgress(value=0, max=523), HTML(value='')))"
      ]
     },
     "metadata": {},
     "output_type": "display_data"
    },
    {
     "name": "stdout",
     "output_type": "stream",
     "text": [
      "train step #231399 accuracy: 0.484375, loss: 0.2602988862991333\n",
      "train step #232299 accuracy: 0.453125, loss: 0.26720137357711793\n",
      "train step #233199 accuracy: 0.453125, loss: 0.27115747690200803\n",
      "train step #234099 accuracy: 0.375, loss: 0.3111178517341614\n",
      "train step #234999 accuracy: 0.359375, loss: 0.29401872634887694\n",
      "\n",
      "epoch #49, dev accuracy: 0.3718220293521881\n",
      "saving best model...\n",
      "saved to si_commands_res15.pt\n"
     ]
    },
    {
     "data": {
      "application/vnd.jupyter.widget-view+json": {
       "model_id": "c6b538b3803a47d9941fc1aa8915789e",
       "version_major": 2,
       "version_minor": 0
      },
      "text/plain": [
       "HBox(children=(IntProgress(value=0, max=59), HTML(value='')))"
      ]
     },
     "metadata": {},
     "output_type": "display_data"
    },
    {
     "name": "stdout",
     "output_type": "stream",
     "text": [
      "\n",
      "final test accuracy: 0.25564971566200256\n"
     ]
    }
   ],
   "source": [
    "from tqdm import tqdm_notebook\n",
    "si_train.set_seed(si_config)\n",
    "si_train.si_train(si_config, model=si_model, loaders=loaders, tqdm_v=tqdm_notebook)"
   ]
  },
  {
   "cell_type": "code",
   "execution_count": null,
   "metadata": {},
   "outputs": [],
   "source": []
  }
 ],
 "metadata": {
  "kernelspec": {
   "display_name": "Pytorch",
   "language": "python",
   "name": "pytorch"
  },
  "language_info": {
   "codemirror_mode": {
    "name": "ipython",
    "version": 3
   },
   "file_extension": ".py",
   "mimetype": "text/x-python",
   "name": "python",
   "nbconvert_exporter": "python",
   "pygments_lexer": "ipython3",
   "version": "3.6.2"
  }
 },
 "nbformat": 4,
 "nbformat_minor": 2
}
