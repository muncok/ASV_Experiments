{
 "cells": [
  {
   "cell_type": "code",
   "execution_count": 1,
   "metadata": {},
   "outputs": [
    {
     "name": "stdout",
     "output_type": "stream",
     "text": [
      "Populating the interactive namespace from numpy and matplotlib\n"
     ]
    }
   ],
   "source": [
    "%load_ext autoreload\n",
    "%autoreload 2\n",
    "%pylab inline\n",
    "import pandas as pd\n",
    "import os"
   ]
  },
  {
   "cell_type": "code",
   "execution_count": 2,
   "metadata": {},
   "outputs": [],
   "source": [
    "import itertools\n",
    "import pickle\n",
    "from dnn.parser import get_sv_parser\n",
    "from dnn.data.dataloader import init_default_loaders, init_embed_loaders\n",
    "from dnn.train.model import init_seed, init_speechnet\n",
    "from sklearn.discriminant_analysis import LinearDiscriminantAnalysis as LDA"
   ]
  },
  {
   "cell_type": "code",
   "execution_count": 3,
   "metadata": {},
   "outputs": [],
   "source": [
    "from tqdm import tqdm_notebook\n",
    "import torch\n",
    "from torch.autograd import Variable\n",
    "\n",
    "def embeds(opt, val_dataloader, model):\n",
    "    val_iter = iter(val_dataloader)\n",
    "    model.eval()\n",
    "    splice_dim = opt.splice_frames\n",
    "    embeddings = []\n",
    "    labels = []\n",
    "    for batch in tqdm_notebook(val_iter):\n",
    "        x, y = batch\n",
    "        time_dim = x.size(2)\n",
    "        split_points = range(0, time_dim-splice_dim+1, splice_dim)\n",
    "        model_outputs = []\n",
    "        for point in split_points:\n",
    "            x_in = Variable(x.narrow(2, point, splice_dim))\n",
    "            if opt.cuda:\n",
    "                x_in = x_in.cuda()\n",
    "            model_outputs.append(model.embed(x_in).cpu().data)\n",
    "            \n",
    "        # snippet scale LDA\n",
    "        model_output = torch.cat(model_outputs, dim=0)\n",
    "        y = torch.cat([y]*len(model_outputs), dim=0)\n",
    "        \n",
    "        ## uttrs scale LDA, it's better now\n",
    "#         model_output = torch.stack(model_outputs, dim=0)\n",
    "#         model_output = model_output.mean(0)\n",
    "\n",
    "        embeddings.append(model_output.numpy())\n",
    "        labels.append(y.numpy())\n",
    "    embeddings = np.vstack(embeddings)\n",
    "    labels = np.hstack(labels)\n",
    "    return embeddings, labels"
   ]
  },
  {
   "cell_type": "code",
   "execution_count": 4,
   "metadata": {},
   "outputs": [],
   "source": [
    "import resource\n",
    "rlimit = resource.getrlimit(resource.RLIMIT_NOFILE)\n",
    "resource.setrlimit(resource.RLIMIT_NOFILE, (4096, rlimit[1]))"
   ]
  },
  {
   "cell_type": "code",
   "execution_count": 5,
   "metadata": {},
   "outputs": [],
   "source": [
    "def secToSample(sec):\n",
    "    return int(16000 * sec)"
   ]
  },
  {
   "cell_type": "code",
   "execution_count": 6,
   "metadata": {},
   "outputs": [],
   "source": [
    "options = get_sv_parser().parse_args(args=[])\n",
    "\n",
    "options.n_dct_filters = 40\n",
    "options.n_mels = 40\n",
    "options.timeshift_ms = 100\n",
    "options.window_size= 0.025\n",
    "options.window_stride= 0.010\n",
    "options.cache_size = 32768\n",
    "options.input_format = \"mfcc\"\n",
    "options.input_clip = True\n",
    "options.input_length = secToSample(3)\n",
    "options.splice_frames = secToSample(0.1)//160+1"
   ]
  },
  {
   "cell_type": "markdown",
   "metadata": {},
   "source": [
    "### Load Dataset"
   ]
  },
  {
   "cell_type": "code",
   "execution_count": 7,
   "metadata": {},
   "outputs": [],
   "source": [
    "options.data_folder = \"/home/muncok/DL/dataset/SV_sets/reddots_r2015q4_v1/wav/\"\n",
    "val_df = pd.read_pickle(\"trials/reddots/m_part1/m_part1_files.pkl\")\n",
    "val_df['spk'] = val_df.file.apply(lambda x: x.split('/')[0])\n",
    "reddots_spks = val_df.spk.unique().tolist()\n",
    "val_df['label'] = val_df.spk.apply(lambda x: reddots_spks.index(x))\n",
    "val_df.to_pickle(\"trials/reddots/m_part1/m_part1_files.pkl\")"
   ]
  },
  {
   "cell_type": "code",
   "execution_count": 8,
   "metadata": {},
   "outputs": [],
   "source": [
    "options.data_folder = \"/home/muncok/DL/dataset/SV_sets/speech_commands/\"\n",
    "val_df = pd.read_pickle(\"trials/commands/final/equal_num_102spk_iden.pkl\")\n",
    "val_df['file'] = val_df.apply(lambda x: os.path.join(x.sent, x.file), axis=1)"
   ]
  },
  {
   "cell_type": "code",
   "execution_count": 9,
   "metadata": {},
   "outputs": [],
   "source": [
    "# valid_spks = val_df.spk.value_counts()[val_df.spk.value_counts() > 10].index\n",
    "# val_df_valid = val_df[val_df.spk.isin(valid_spks)]\n",
    "# len(val_df)"
   ]
  },
  {
   "cell_type": "markdown",
   "metadata": {},
   "source": [
    "### Load Model"
   ]
  },
  {
   "cell_type": "code",
   "execution_count": 10,
   "metadata": {},
   "outputs": [
    {
     "name": "stdout",
     "output_type": "stream",
     "text": [
      "models/commands/equal_num_102spk_dot1.pt is loaded\n"
     ]
    }
   ],
   "source": [
    "# options.val_manifest = \"manifests/commands/words/si/si_uni_manifest.csv\"\n",
    "options.input_format = 'fbank'\n",
    "options.input = \"models/commands/equal_num_102spk_dot1.pt\"\n",
    "options.model = \"SimpleCNN\"\n",
    "model = init_speechnet(options)"
   ]
  },
  {
   "cell_type": "code",
   "execution_count": 11,
   "metadata": {},
   "outputs": [
    {
     "name": "stdout",
     "output_type": "stream",
     "text": [
      "models/voxc/si_train/full_train/si_voxc_res15_0.1s_full_1.pt is loaded\n"
     ]
    }
   ],
   "source": [
    "options.input_format = 'mfcc'\n",
    "options.input = \"models/voxc/si_train/full_train/si_voxc_res15_0.1s_full_1.pt\"\n",
    "options.model = \"res15\"\n",
    "model = init_speechnet(options)"
   ]
  },
  {
   "cell_type": "markdown",
   "metadata": {},
   "source": [
    "### Embedings"
   ]
  },
  {
   "cell_type": "code",
   "execution_count": 12,
   "metadata": {},
   "outputs": [
    {
     "data": {
      "application/vnd.jupyter.widget-view+json": {
       "model_id": "b335c651ab564bde88f4338fad23a571",
       "version_major": 2,
       "version_minor": 0
      },
      "text/html": [
       "<p>Failed to display Jupyter Widget of type <code>HBox</code>.</p>\n",
       "<p>\n",
       "  If you're reading this message in the Jupyter Notebook or JupyterLab Notebook, it may mean\n",
       "  that the widgets JavaScript is still loading. If this message persists, it\n",
       "  likely means that the widgets JavaScript library is either not installed or\n",
       "  not enabled. See the <a href=\"https://ipywidgets.readthedocs.io/en/stable/user_install.html\">Jupyter\n",
       "  Widgets Documentation</a> for setup instructions.\n",
       "</p>\n",
       "<p>\n",
       "  If you're reading this message in another frontend (for example, a static\n",
       "  rendering on GitHub or <a href=\"https://nbviewer.jupyter.org/\">NBViewer</a>),\n",
       "  it may mean that your frontend doesn't currently support widgets.\n",
       "</p>\n"
      ],
      "text/plain": [
       "HBox(children=(IntProgress(value=0, max=581), HTML(value='')))"
      ]
     },
     "metadata": {},
     "output_type": "display_data"
    },
    {
     "name": "stdout",
     "output_type": "stream",
     "text": [
      "\n"
     ]
    }
   ],
   "source": [
    "val_dataloader = init_embed_loaders(options, val_df)\n",
    "embedings, labels = embeds(options, val_dataloader, model) # embeddings: sample x emb_size"
   ]
  },
  {
   "cell_type": "markdown",
   "metadata": {},
   "source": [
    "### LDA Estimator"
   ]
  },
  {
   "cell_type": "code",
   "execution_count": 13,
   "metadata": {},
   "outputs": [],
   "source": [
    "n_test = 100 # for test samples"
   ]
  },
  {
   "cell_type": "code",
   "execution_count": 14,
   "metadata": {},
   "outputs": [
    {
     "data": {
      "text/plain": [
       "LinearDiscriminantAnalysis(n_components=None, priors=None, shrinkage=None,\n",
       "              solver='svd', store_covariance=False, tol=0.0001)"
      ]
     },
     "execution_count": 14,
     "metadata": {},
     "output_type": "execute_result"
    }
   ],
   "source": [
    "n_samples = embedings.shape[0]\n",
    "clf = LDA()\n",
    "random_idx = np.random.permutation(np.arange(0,n_samples))\n",
    "train_X, train_y = embedings[random_idx[:n_samples-n_test]], labels[random_idx[:n_samples-n_test]]\n",
    "test_X, test_y = embedings[random_idx[-n_test:]], labels[random_idx[-n_test:]]\n",
    "clf.fit(train_X, train_y)"
   ]
  },
  {
   "cell_type": "code",
   "execution_count": 15,
   "metadata": {},
   "outputs": [
    {
     "name": "stdout",
     "output_type": "stream",
     "text": [
      "0.1\n"
     ]
    }
   ],
   "source": [
    "score = clf.score(test_X, test_y)\n",
    "print(score) # test_score"
   ]
  },
  {
   "cell_type": "code",
   "execution_count": 16,
   "metadata": {},
   "outputs": [],
   "source": [
    "lda_out = \"models/lda/{}_splice_lda.pkl\".format(options.input.split('/')[-1][:-3])\n",
    "pickle.dump(clf, open(lda_out, \"wb\"))"
   ]
  }
 ],
 "metadata": {
  "kernelspec": {
   "display_name": "Pytorch",
   "language": "python",
   "name": "pytorch"
  },
  "language_info": {
   "codemirror_mode": {
    "name": "ipython",
    "version": 3
   },
   "file_extension": ".py",
   "mimetype": "text/x-python",
   "name": "python",
   "nbconvert_exporter": "python",
   "pygments_lexer": "ipython3",
   "version": "3.6.2"
  }
 },
 "nbformat": 4,
 "nbformat_minor": 2
}
