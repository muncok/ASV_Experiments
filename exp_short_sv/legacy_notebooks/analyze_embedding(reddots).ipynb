{
 "cells": [
  {
   "cell_type": "code",
   "execution_count": 1,
   "metadata": {},
   "outputs": [],
   "source": [
    "%load_ext autoreload\n",
    "%autoreload 2\n",
    "import numpy as np\n",
    "import pandas as pd\n",
    "import os"
   ]
  },
  {
   "cell_type": "code",
   "execution_count": 2,
   "metadata": {},
   "outputs": [],
   "source": [
    "import librosa\n",
    "import librosa.display\n",
    "import IPython.display as ipd"
   ]
  },
  {
   "cell_type": "code",
   "execution_count": 3,
   "metadata": {},
   "outputs": [],
   "source": [
    "import sys\n",
    "sys.path.append(\"../\")"
   ]
  },
  {
   "cell_type": "code",
   "execution_count": 6,
   "metadata": {},
   "outputs": [],
   "source": [
    "from dnn.parser import ConfigBuilder\n",
    "import dnn.data.dataset as dset\n",
    "import dnn.train.model as mod\n",
    "from dnn.si_train import set_seed\n",
    "from pydub import AudioSegment"
   ]
  },
  {
   "cell_type": "markdown",
   "metadata": {},
   "source": [
    "### SI_Model"
   ]
  },
  {
   "cell_type": "code",
   "execution_count": 5,
   "metadata": {},
   "outputs": [],
   "source": [
    "model = \"SimpleCNN\"\n",
    "dataset = \"reddots\"\n",
    "\n",
    "global_config = dict(model=model, dataset=dataset,\n",
    "                     no_cuda=False,  gpu_no=0,\n",
    "                     n_epochs=100, batch_size=64,\n",
    "                     lr=[0.01], schedule=[np.inf], dev_every=1, seed=0, use_nesterov=False,\n",
    "                     cache_size=32768, momentum=0.9, weight_decay=0.00001,\n",
    "                     num_workers=16, print_step=100,\n",
    "                     )\n",
    "\n",
    "builder = ConfigBuilder(\n",
    "                dset.SpeechDataset.default_config(),\n",
    "                global_config)\n",
    "parser = builder.build_argparse()\n",
    "si_config = builder.config_from_argparse(parser)\n",
    "si_config['model_class'] = mod.SimpleCNN\n",
    "set_seed(si_config)"
   ]
  },
  {
   "cell_type": "code",
   "execution_count": 6,
   "metadata": {},
   "outputs": [],
   "source": [
    "si_model = si_config['model_class']()"
   ]
  },
  {
   "cell_type": "code",
   "execution_count": 7,
   "metadata": {},
   "outputs": [
    {
     "name": "stdout",
     "output_type": "stream",
     "text": [
      "models/commands/right_adapted.pt is loaded\n"
     ]
    }
   ],
   "source": [
    "si_model.load_partial(\"models/commands/right_adapted.pt\")"
   ]
  },
  {
   "cell_type": "code",
   "execution_count": 8,
   "metadata": {},
   "outputs": [],
   "source": [
    "from dnn.data.manage_audio import preprocess_from_path\n",
    "from torch.autograd import Variable\n",
    "import torch\n",
    "\n",
    "def embed(config, model, audio_path, splice_sec):                           \n",
    "    data = preprocess_from_path(config, audio_path)\n",
    "    if not config[\"no_cuda\"]:                                   \n",
    "        torch.cuda.set_device(config[\"gpu_no\"])                 \n",
    "        model.cuda()                                            \n",
    "    model.eval()                                                \n",
    "\n",
    "    splice_len = int(splice_sec*100)\n",
    "    data = torch.split(data, splice_len , dim=1)\n",
    "    data = torch.stack(data[:-1], dim=0)\n",
    "    data_in = Variable(data, requires_grad=False)\n",
    "    if not config[\"no_cuda\"]:                                   \n",
    "        data_in = data_in.cuda()                                \n",
    "    feature = model.embed(data_in).cpu().data           \n",
    "    return feature                                              "
   ]
  },
  {
   "cell_type": "markdown",
   "metadata": {},
   "source": [
    "### LDA Transformation"
   ]
  },
  {
   "cell_type": "code",
   "execution_count": 9,
   "metadata": {},
   "outputs": [],
   "source": [
    "from sklearn.discriminant_analysis import LinearDiscriminantAnalysis as LDA\n",
    "import pickle\n",
    "def lda_tf(emb, lda_path=\"models/\"):\n",
    "    lda_model = pickle.load(open(\"models/lda/si_reddots_0.2s_random_2_lda.pkl\", \"rb\"))\n",
    "    return torch.from_numpy(lda_model.transform(emb).astype(np.float32))"
   ]
  },
  {
   "cell_type": "code",
   "execution_count": 10,
   "metadata": {},
   "outputs": [],
   "source": [
    "def cos_sim(a, b, lda=False):\n",
    "    if lda:\n",
    "        print(\"lda\")\n",
    "        print(F.cosine_similarity(lda_tf(a), lda_tf(b)))\n",
    "    else:\n",
    "        print(F.cosine_similarity(a, b))\n"
   ]
  },
  {
   "cell_type": "markdown",
   "metadata": {},
   "source": [
    "### Voice "
   ]
  },
  {
   "cell_type": "markdown",
   "metadata": {},
   "source": [
    "Positive Samples (Same Phrase)"
   ]
  },
  {
   "cell_type": "code",
   "execution_count": 71,
   "metadata": {},
   "outputs": [],
   "source": [
    "sound1_file = \"/home/muncok/DL/dataset/SV_sets/reddots_r2015q4_v1/wav/m0001/20150130084154554_m0001_31.wav\"\n",
    "sound2_file = \"/home/muncok/DL/dataset/SV_sets/reddots_r2015q4_v1/wav/m0001/20150130084155412_m0001_31.wav\"\n",
    "sound3_file = \"/home/muncok/DL/dataset/SV_sets/reddots_r2015q4_v1/wav/m0001/20150130084156114_m0001_31.wav\"\n",
    "sound1 = AudioSegment.from_file(sound1_file)\n",
    "sound2 = AudioSegment.from_file(sound2_file)\n",
    "sound3 = AudioSegment.from_file(sound3_file)"
   ]
  },
  {
   "cell_type": "code",
   "execution_count": 72,
   "metadata": {},
   "outputs": [],
   "source": [
    "si_config['input_length'] = int(16000*1)\n",
    "splice_sec = 0.2\n",
    "sound1_embed = embed(si_config, si_model, sound1_file, splice_sec)\n",
    "sound2_embed = embed(si_config, si_model, sound2_file, splice_sec)\n",
    "sound3_embed = embed(si_config, si_model, sound3_file, splice_sec)"
   ]
  },
  {
   "cell_type": "code",
   "execution_count": 74,
   "metadata": {},
   "outputs": [],
   "source": [
    "isLda = False"
   ]
  },
  {
   "cell_type": "code",
   "execution_count": 133,
   "metadata": {},
   "outputs": [
    {
     "name": "stdout",
     "output_type": "stream",
     "text": [
      "\n",
      " 0.5764\n",
      " 0.7022\n",
      " 0.8319\n",
      " 0.8105\n",
      " 0.6234\n",
      "[torch.FloatTensor of size 5]\n",
      "\n",
      "\n",
      " 0.6371\n",
      " 0.8398\n",
      " 0.9137\n",
      " 0.8662\n",
      " 0.8483\n",
      "[torch.FloatTensor of size 5]\n",
      "\n",
      "\n",
      " 0.9415\n",
      "[torch.FloatTensor of size 1]\n",
      "\n"
     ]
    }
   ],
   "source": [
    "cos_sim(sound2_embed, sound1_embed, isLda)\n",
    "cos_sim(sound2_embed.mean(0, True), sound1_embed, isLda)\n",
    "cos_sim(sound2_embed.mean(0, keepdim=True), sound1_embed.mean(0, keepdim=True), isLda)"
   ]
  },
  {
   "cell_type": "markdown",
   "metadata": {},
   "source": [
    "Positive Samples (Different Phrase)"
   ]
  },
  {
   "cell_type": "code",
   "execution_count": 87,
   "metadata": {},
   "outputs": [],
   "source": [
    "sound4_file = \"/home/muncok/DL/dataset/SV_sets/reddots_r2015q4_v1/wav/m0001/20150129213255824_m0001_48.wav\"\n",
    "sound4 = AudioSegment.from_file(sound4_file)\n",
    "sound4_embed = embed(si_config, si_model, sound4_file, splice_sec)"
   ]
  },
  {
   "cell_type": "markdown",
   "metadata": {},
   "source": [
    "Positive Samples (Different Phrase)"
   ]
  },
  {
   "cell_type": "code",
   "execution_count": 130,
   "metadata": {},
   "outputs": [],
   "source": [
    "isLda = False"
   ]
  },
  {
   "cell_type": "code",
   "execution_count": 131,
   "metadata": {},
   "outputs": [
    {
     "name": "stdout",
     "output_type": "stream",
     "text": [
      "\n",
      " 0.4508\n",
      " 0.3643\n",
      " 0.2171\n",
      " 0.4376\n",
      " 0.4484\n",
      "[torch.FloatTensor of size 5]\n",
      "\n",
      "\n",
      " 0.4803\n",
      " 0.4186\n",
      " 0.3396\n",
      " 0.4651\n",
      " 0.5204\n",
      "[torch.FloatTensor of size 5]\n",
      "\n",
      "\n",
      " 0.5052\n",
      "[torch.FloatTensor of size 1]\n",
      "\n"
     ]
    }
   ],
   "source": [
    "from scipy.spatial.distance import cosine\n",
    "import torch.nn.functional as F\n",
    "import itertools\n",
    "\n",
    "# for spk1, spk2 in itertools.combinations(enroll_spks,2):\n",
    "#     score = 1-cosine(spk_models[spk1], spk_models[spk2])\n",
    "#     print(\"{}, {}: {:.2f}\".format(spk1, spk2, score))\n",
    "\n",
    "cos_sim(sound2_embed, sound4_embed, isLda)\n",
    "cos_sim(sound2_embed.mean(0, True), sound4_embed, isLda)\n",
    "cos_sim(sound2_embed.mean(0, keepdim=True), sound4_embed.mean(0, keepdim=True), isLda)"
   ]
  },
  {
   "cell_type": "markdown",
   "metadata": {},
   "source": [
    "Negative Samples (Same Phrase)"
   ]
  },
  {
   "cell_type": "code",
   "execution_count": 78,
   "metadata": {},
   "outputs": [],
   "source": [
    "sound5_file = \"/home/muncok/DL/dataset/SV_sets/reddots_r2015q4_v1/wav/m0002/20150129105431142_m0002_31.wav\"\n",
    "sound6_file = \"/home/muncok/DL/dataset/SV_sets/reddots_r2015q4_v1/wav/m0002/20150129105601404_m0002_31.wav\"\n",
    "sound5 = AudioSegment.from_file(sound4_file)\n",
    "sound6 = AudioSegment.from_file(sound5_file)\n",
    "\n",
    "sound5_embed = embed(si_config, si_model, sound4_file, splice_sec)\n",
    "sound6_embed = embed(si_config, si_model, sound5_file, splice_sec)"
   ]
  },
  {
   "cell_type": "code",
   "execution_count": 81,
   "metadata": {},
   "outputs": [
    {
     "name": "stdout",
     "output_type": "stream",
     "text": [
      "\n",
      " 0.4091\n",
      " 0.3727\n",
      " 0.5050\n",
      " 0.4403\n",
      " 0.4528\n",
      "[torch.FloatTensor of size 5]\n",
      "\n",
      "\n",
      " 0.5068\n",
      " 0.4053\n",
      " 0.5231\n",
      " 0.4455\n",
      " 0.4581\n",
      "[torch.FloatTensor of size 5]\n",
      "\n",
      "\n",
      " 0.5715\n",
      "[torch.FloatTensor of size 1]\n",
      "\n"
     ]
    }
   ],
   "source": [
    "# cos_sim(sound2_embed, sound4_embed))\n",
    "cos_sim(sound2_embed, sound5_embed, isLda)\n",
    "cos_sim(sound2_embed.mean(0, True), sound5_embed, isLda)\n",
    "cos_sim(sound2_embed.mean(0, keepdim=True), sound5_embed.mean(0, keepdim=True), isLda)"
   ]
  },
  {
   "cell_type": "markdown",
   "metadata": {},
   "source": [
    "Negative Samples (Difference Phrase)"
   ]
  },
  {
   "cell_type": "code",
   "execution_count": 22,
   "metadata": {},
   "outputs": [],
   "source": [
    "sound7_file = \"/home/muncok/DL/dataset/SV_sets/reddots_r2015q4_v1/wav/m0002/20150129105428584_m0002_39.wav\"\n",
    "sound8_file = \"/home/muncok/DL/dataset/SV_sets/reddots_r2015q4_v1/wav/m0002/20150129105431766_m0002_61.wav\"\n",
    "sound7 = AudioSegment.from_file(sound6_file)\n",
    "sound8 = AudioSegment.from_file(sound7_file)\n",
    "sound7_embed = embed(si_config, si_model, sound6_file, splice_sec)\n",
    "sound8_embed = embed(si_config, si_model, sound7_file, splice_sec)"
   ]
  },
  {
   "cell_type": "code",
   "execution_count": 139,
   "metadata": {},
   "outputs": [
    {
     "name": "stdout",
     "output_type": "stream",
     "text": [
      "lda\n",
      "\n",
      "-0.0923\n",
      "-0.2041\n",
      "-0.0719\n",
      "-0.1298\n",
      " 0.0513\n",
      "[torch.FloatTensor of size 5]\n",
      "\n",
      "lda\n",
      "\n",
      "-0.0961\n",
      "-0.1669\n",
      "-0.0554\n",
      "-0.1500\n",
      " 0.0149\n",
      "[torch.FloatTensor of size 5]\n",
      "\n",
      "lda\n",
      "\n",
      "-0.1079\n",
      "[torch.FloatTensor of size 1]\n",
      "\n"
     ]
    }
   ],
   "source": [
    "cos_sim(sound2_embed, sound7_embed, True)\n",
    "cos_sim(sound2_embed.mean(0, True), sound7_embed, True)\n",
    "cos_sim(sound2_embed.mean(0, keepdim=True), sound7_embed.mean(0, keepdim=True), True)"
   ]
  },
  {
   "cell_type": "code",
   "execution_count": 140,
   "metadata": {},
   "outputs": [
    {
     "data": {
      "text/plain": [
       "-0.08936"
      ]
     },
     "execution_count": 140,
     "metadata": {},
     "output_type": "execute_result"
    }
   ],
   "source": [
    "np.mean([-0.0923,\n",
    "-0.2041,\n",
    "-0.0719,\n",
    "-0.1298,\n",
    " 0.0513])"
   ]
  },
  {
   "cell_type": "markdown",
   "metadata": {},
   "source": [
    "## SpeechCommand"
   ]
  },
  {
   "cell_type": "code",
   "execution_count": 4,
   "metadata": {},
   "outputs": [],
   "source": [
    "def audioToembed(audio):\n",
    "    seg = AudioSegment.from_file(audio)\n",
    "    emb = embed(si_config, si_model, audio, splice_sec)\n",
    "    return seg, emb"
   ]
  },
  {
   "cell_type": "code",
   "execution_count": 149,
   "metadata": {},
   "outputs": [],
   "source": [
    "si_config['input_length'] = int(16000*1)\n",
    "splice_sec = 0.2"
   ]
  },
  {
   "cell_type": "code",
   "execution_count": 161,
   "metadata": {},
   "outputs": [],
   "source": [
    "seg1, command1 = audioToembed(\"/home/muncok/DL/dataset/SV_sets/speech_commands/eight/0132a06d_nohash_1.wav\")\n",
    "seg2, command2 = audioToembed(\"/home/muncok/DL/dataset/SV_sets/speech_commands/eight/0132a06d_nohash_2.wav\")"
   ]
  },
  {
   "cell_type": "code",
   "execution_count": 146,
   "metadata": {},
   "outputs": [],
   "source": [
    "audioToembed(yes_command1)"
   ]
  },
  {
   "cell_type": "code",
   "execution_count": 162,
   "metadata": {},
   "outputs": [
    {
     "data": {
      "text/html": [
       "\n",
       "                    <audio controls>\n",
       "                        <source src=\"data:audio/mpeg;base64,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\" type=\"audio/mpeg\"/>\n",
       "                        Your browser does not support the audio element.\n",
       "                    </audio>\n",
       "                  "
      ],
      "text/plain": [
       "<pydub.audio_segment.AudioSegment at 0x7fe3f30e9978>"
      ]
     },
     "execution_count": 162,
     "metadata": {},
     "output_type": "execute_result"
    }
   ],
   "source": [
    "seg1"
   ]
  },
  {
   "cell_type": "code",
   "execution_count": 160,
   "metadata": {},
   "outputs": [
    {
     "data": {
      "text/html": [
       "\n",
       "                    <audio controls>\n",
       "                        <source src=\"data:audio/mpeg;base64,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\" type=\"audio/mpeg\"/>\n",
       "                        Your browser does not support the audio element.\n",
       "                    </audio>\n",
       "                  "
      ],
      "text/plain": [
       "<pydub.audio_segment.AudioSegment at 0x7fe3f30e0208>"
      ]
     },
     "execution_count": 160,
     "metadata": {},
     "output_type": "execute_result"
    }
   ],
   "source": [
    "seg2"
   ]
  },
  {
   "cell_type": "code",
   "execution_count": 163,
   "metadata": {},
   "outputs": [
    {
     "name": "stdout",
     "output_type": "stream",
     "text": [
      "\n",
      " 0.5855\n",
      " 0.6131\n",
      " 0.5157\n",
      " 0.4796\n",
      " 0.5134\n",
      "[torch.FloatTensor of size 5]\n",
      "\n",
      "\n",
      " 0.5283\n",
      " 0.7741\n",
      " 0.6913\n",
      " 0.6655\n",
      " 0.6659\n",
      "[torch.FloatTensor of size 5]\n",
      "\n"
     ]
    }
   ],
   "source": [
    "cos_sim(command1, command2, False)\n",
    "cos_sim(command1.mean(0,True), command2, False)"
   ]
  }
 ],
 "metadata": {
  "kernelspec": {
   "display_name": "Pytorch",
   "language": "python",
   "name": "pytorch"
  },
  "language_info": {
   "codemirror_mode": {
    "name": "ipython",
    "version": 3
   },
   "file_extension": ".py",
   "mimetype": "text/x-python",
   "name": "python",
   "nbconvert_exporter": "python",
   "pygments_lexer": "ipython3",
   "version": "3.6.2"
  }
 },
 "nbformat": 4,
 "nbformat_minor": 2
}
