{
 "cells": [
  {
   "cell_type": "code",
   "execution_count": 1,
   "metadata": {},
   "outputs": [
    {
     "name": "stdout",
     "output_type": "stream",
     "text": [
      "Populating the interactive namespace from numpy and matplotlib\n"
     ]
    }
   ],
   "source": [
    "%load_ext autoreload\n",
    "%autoreload 2\n",
    "%pylab inline\n",
    "import pandas as pd\n",
    "import os\n",
    "import sys\n",
    "import pprint\n",
    "pp = pprint.PrettyPrinter(indent=4)\n",
    "sys.path.append(\"/home/muncok/DL/projects/sv_system/\")"
   ]
  },
  {
   "cell_type": "markdown",
   "metadata": {},
   "source": [
    "# Dataframes"
   ]
  },
  {
   "cell_type": "code",
   "execution_count": 2,
   "metadata": {},
   "outputs": [],
   "source": [
    "dataframe_dir = '/home/muncok/DL/dataset/SV_sets/dataframes/'\n",
    "data_dir = '/home/muncok/DL/dataset/SV_sets/voxceleb/'\n",
    "data_df = pd.read_pickle('/home/muncok/DL/dataset/SV_sets/dataframes/Voxc_Dataframe.pkl')"
   ]
  },
  {
   "cell_type": "code",
   "execution_count": 5,
   "metadata": {},
   "outputs": [],
   "source": [
    "## sentence duration ###\n",
    "\n",
    "import librosa\n",
    "audio_lengths = []\n",
    "for idx, row in data_df.sample(n=10000).iterrows():\n",
    "    file_path = os.path.join(data_dir, row.spk, row.file)\n",
    "    x, sr = librosa.load(file_path, sr=16000)\n",
    "    audio_lengths.append(len(x)/16000)"
   ]
  },
  {
   "cell_type": "code",
   "execution_count": 6,
   "metadata": {},
   "outputs": [
    {
     "data": {
      "text/plain": [
       "8.2367185"
      ]
     },
     "execution_count": 6,
     "metadata": {},
     "output_type": "execute_result"
    }
   ],
   "source": [
    "mean(audio_lengths)"
   ]
  },
  {
   "cell_type": "markdown",
   "metadata": {},
   "source": [
    "### Dataset split"
   ]
  },
  {
   "cell_type": "code",
   "execution_count": 7,
   "metadata": {},
   "outputs": [],
   "source": [
    "#TODO: correct splits\n",
    "all_spks = data_df.spk.unique()\n",
    "uttrs_counts = data_df.spk.value_counts()"
   ]
  },
  {
   "cell_type": "code",
   "execution_count": 9,
   "metadata": {},
   "outputs": [],
   "source": [
    "# # for normal si train\n",
    "# import random\n",
    "# si_spks = list(uttrs_counts.index[:-30])\n",
    "# sv_spks = list(uttrs_counts.index[-30:])\n",
    "# si_df = data_df[data_df.spk.isin(si_spks)]\n",
    "# si_train = si_df.sample(frac=0.8)\n",
    "# si_val = si_df.drop(index=si_train.index)\n",
    "# si_test = si_val\n",
    "# sv_df = data_df[data_df.spk.isin(sv_spks)]\n",
    "# print(\"[si] train:{}, val:{}, test:{}\".format(len(si_train), len(si_val), len(si_test)))\n",
    "# print(\"[sv]: {}\".format(len(sv_df)))"
   ]
  },
  {
   "cell_type": "code",
   "execution_count": 9,
   "metadata": {},
   "outputs": [
    {
     "name": "stdout",
     "output_type": "stream",
     "text": [
      "[si] train:137553, val:6816, test:8186\n"
     ]
    }
   ],
   "source": [
    "si_train = data_df[data_df.set == 'train']\n",
    "si_val = data_df[data_df.set == 'val']\n",
    "si_test = data_df[data_df.set == 'test']\n",
    "print(\"[si] train:{}, val:{}, test:{}\".format(len(si_train), len(si_val), len(si_test)))"
   ]
  },
  {
   "cell_type": "code",
   "execution_count": 11,
   "metadata": {},
   "outputs": [
    {
     "data": {
      "text/plain": [
       "1251"
      ]
     },
     "execution_count": 11,
     "metadata": {},
     "output_type": "execute_result"
    }
   ],
   "source": [
    "len(all_spks)"
   ]
  },
  {
   "cell_type": "code",
   "execution_count": 10,
   "metadata": {},
   "outputs": [
    {
     "data": {
      "text/plain": [
       "152555"
      ]
     },
     "execution_count": 10,
     "metadata": {},
     "output_type": "execute_result"
    }
   ],
   "source": [
    "len(si_train) + len(si_val) + len (si_test)"
   ]
  },
  {
   "cell_type": "code",
   "execution_count": 12,
   "metadata": {},
   "outputs": [],
   "source": [
    "si_train.to_pickle(\"../manifests/voxc/official_split/si_train.pkl\")\n",
    "si_val.to_pickle(\"../manifests/voxc/official_split/si_val.pkl\")\n",
    "si_test.to_pickle(\"../manifests/voxc/official_split/si_test.pkl\")\n",
    "# sv_df.to_pickle(\"manifests/voxc/sv_df.pkl\")"
   ]
  },
  {
   "cell_type": "code",
   "execution_count": 38,
   "metadata": {},
   "outputs": [
    {
     "name": "stdout",
     "output_type": "stream",
     "text": [
      "[fewshot] train:146605, val:2365\n"
     ]
    }
   ],
   "source": [
    "# # for fewshot\n",
    "# import random\n",
    "# # valid_spks = uttrs_counts[uttrs_counts > 20].index\n",
    "# # random_idx = np.random.permutation(np.arange(len(valid_spks)))\n",
    "# # fewshot_train_spks = valid_spks[random_idx[:1200]]\n",
    "# # fewshot_val_spks = list(valid_spks[1200:])\n",
    "# fewshot_train = data_df[data_df.spk.isin(fewshot_train_spks)]\n",
    "# fewshot_val = data_df[data_df.spk.isin(fewshot_val_spks)]\n",
    "# print(\"[fewshot] train:{}, val:{}\".format(len(fewshot_train), len(fewshot_val)))"
   ]
  },
  {
   "cell_type": "markdown",
   "metadata": {},
   "source": [
    "### Write Manifests"
   ]
  },
  {
   "cell_type": "code",
   "execution_count": 13,
   "metadata": {},
   "outputs": [
    {
     "name": "stdout",
     "output_type": "stream",
     "text": [
      "../manifests/voxc/official_split/si_voxc_train_manifest.csv was written\n",
      "../manifests/voxc/official_split/si_voxc_val_manifest.csv was written\n",
      "../manifests/voxc/official_split/si_voxc_test_manifest.csv was written\n"
     ]
    }
   ],
   "source": [
    "import csv\n",
    "import random\n",
    "\n",
    "tags = ['train', 'val', 'test']\n",
    "# choose a si split\n",
    "sets = {'train':si_train, 'val':si_val, 'test':si_test}\n",
    "manifest_dir = \"../manifests/voxc/official_split/\"\n",
    "all_spks = list(all_spks)\n",
    "for tag in tags:\n",
    "    samples = []\n",
    "    save_path = os.path.join(manifest_dir,'si_{}_{}_manifest.csv'.format(\"voxc\", tag))\n",
    "    with open(save_path, 'w') as f:\n",
    "        for index, row in sets[tag].iterrows():\n",
    "            file_path = os.path.join(data_dir, row.spk, row.file)\n",
    "            label = all_spks.index(row.spk)\n",
    "            sample = ','.join([file_path, str(label)])\n",
    "            samples.append(sample)\n",
    "        random.shuffle(samples)\n",
    "        writer = csv.writer(f, delimiter='\\n', quoting=csv.QUOTE_NONE)\n",
    "        writer.writerow(samples)\n",
    "        print(\"{} was written\".format(save_path))"
   ]
  },
  {
   "cell_type": "code",
   "execution_count": 13,
   "metadata": {},
   "outputs": [
    {
     "name": "stdout",
     "output_type": "stream",
     "text": [
      "manifests/voxc/sv_voxc_manifest.csv was written\n"
     ]
    }
   ],
   "source": [
    "import csv\n",
    "import random\n",
    "\n",
    "tags = ['sv']\n",
    "# choose a si split\n",
    "sets = {'sv':sv_df}\n",
    "manifest_dir = \"manifests/voxc/\"\n",
    "all_spks = list(all_spks)\n",
    "for tag in tags:\n",
    "    samples = []\n",
    "    save_path = os.path.join(manifest_dir,'sv_{}_manifest.csv'.format(\"voxc\"))\n",
    "    with open(save_path, 'w') as f:\n",
    "        for index, row in sets[tag].iterrows():\n",
    "            file_path = os.path.join(data_dir, row.spk, row.file)\n",
    "            label = all_spks.index(row.spk)\n",
    "            sample = ','.join([file_path, str(label)])\n",
    "            samples.append(sample)\n",
    "        random.shuffle(samples)\n",
    "        writer = csv.writer(f, delimiter='\\n', quoting=csv.QUOTE_NONE)\n",
    "        writer.writerow(samples)\n",
    "        print(\"{} was written\".format(save_path))"
   ]
  }
 ],
 "metadata": {
  "kernelspec": {
   "display_name": "Pytorch",
   "language": "python",
   "name": "pytorch"
  },
  "language_info": {
   "codemirror_mode": {
    "name": "ipython",
    "version": 3
   },
   "file_extension": ".py",
   "mimetype": "text/x-python",
   "name": "python",
   "nbconvert_exporter": "python",
   "pygments_lexer": "ipython3",
   "version": "3.6.2"
  }
 },
 "nbformat": 4,
 "nbformat_minor": 2
}
