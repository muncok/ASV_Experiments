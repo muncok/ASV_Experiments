{
 "cells": [
  {
   "cell_type": "markdown",
   "metadata": {},
   "source": [
    "### Imports"
   ]
  },
  {
   "cell_type": "code",
   "execution_count": 1,
   "metadata": {},
   "outputs": [],
   "source": [
    "%load_ext autoreload\n",
    "%autoreload 2\n",
    "import os, itertools, random\n",
    "import wave, contextlib\n",
    "import collections\n",
    "from shutil import copyfile\n",
    "from pydub import AudioSegment\n",
    "import pandas as pd"
   ]
  },
  {
   "cell_type": "markdown",
   "metadata": {},
   "source": [
    "### Paths"
   ]
  },
  {
   "cell_type": "code",
   "execution_count": 10,
   "metadata": {
    "collapsed": true
   },
   "outputs": [],
   "source": [
    "chopped = False\n",
    "chopped_UBM = False\n",
    "chopping_len = 1\n",
    "\n",
    "commands_datahome = '/home/ideal_kar/Dataset/speech_commands_v0.01/'\n",
    "commands_clip_datahome = '/home/ideal_kar/Dataset/speech_commands_clip_' + str(chopping_len) + 's/'\n",
    "if not os.path.exists(commands_clip_datahome):\n",
    "    os.makedirs(commands_clip_datahome)\n",
    "    \n",
    "commands_home = '/home/ideal_kar/kaldi/egs/voxceleb/s1/'\n",
    "datahome = os.path.join(commands_home, 'data')\n",
    "\n",
    "train_dir = os.path.join(datahome, 'commands_train_clip_' + str(chopping_len) + 's') if chopped_UBM else os.path.join(datahome, 'commands_train')\n",
    "if not os.path.exists(train_dir):\n",
    "    os.makedirs(train_dir)\n",
    "    \n",
    "test_dir = os.path.join(datahome, 'commands_test_clip_' + str(chopping_len) + 's') if chopped else os.path.join(datahome, 'commands_test')\n",
    "if not os.path.exists(test_dir):\n",
    "    os.makedirs(test_dir)"
   ]
  },
  {
   "cell_type": "markdown",
   "metadata": {},
   "source": [
    "### File Chopping"
   ]
  },
  {
   "cell_type": "code",
   "execution_count": 22,
   "metadata": {
    "collapsed": true
   },
   "outputs": [],
   "source": [
    "for path_name, dir_names, _ in os.walk(commands_datahome):\n",
    "    structure = os.path.join(commands_chop_datahome, path_name[len(commands_datahome):])   \n",
    "    if not os.path.isdir(structure):\n",
    "        os.makedirs(structure)\n",
    "\n",
    "for file_name in os.listdir(commands_datahome):\n",
    "    full_path = os.path.join(commands_datahome, file_name)\n",
    "    if (os.path.isfile(full_path)):\n",
    "        copyfile(full_path, os.path.join(commands_chop_datahome, file_name))"
   ]
  },
  {
   "cell_type": "code",
   "execution_count": 23,
   "metadata": {
    "collapsed": true
   },
   "outputs": [],
   "source": [
    "for path_name, dir_names, file_names in os.walk(voxdatahome):\n",
    "    structure = os.path.join(vox_chop_datahome, path_name[len(voxdatahome):])\n",
    "\n",
    "    for dir_name in dir_names:\n",
    "        for file_name in sorted(os.listdir(os.path.join(voxdatahome, dir_name))):\n",
    "            try:\n",
    "                sound = AudioSegment.from_file(os.path.join(path_name, dir_name, file_name))\n",
    "                length = chopping_len * 1000\n",
    "                chopped = sound[:length]\n",
    "                chopped.export(vox_chop_datahome + dir_name + '/' + file_name, format='wav')\n",
    "            except:\n",
    "                sound = AudioSegment.from_file(os.path.join(path_name, dir_name, file_name))\n",
    "                res = chopping_len * 1000 - len(sound)\n",
    "                sound = sound + AudioSegment.silent(duration=res)\n",
    "                sound.export(vox_chop_datahome + dir_name + '/' + file_name, format='wav')\n",
    "                pass"
   ]
  },
  {
   "cell_type": "markdown",
   "metadata": {},
   "source": [
    "### Split File Processing"
   ]
  },
  {
   "cell_type": "code",
   "execution_count": 18,
   "metadata": {
    "collapsed": true
   },
   "outputs": [],
   "source": [
    "spk2utts_train = dict()\n",
    "spk2utts_test = dict()\n",
    "\n",
    "utt2spks_dur_path_train = []\n",
    "utt2spks_dur_path_test = []\n",
    "\n",
    "targethome = commands_chop_datahome if chopped else commands_datahome\n",
    "\n",
    "train_df = pd.read_pickle('/home/ideal_kar/PyTorch/Workspace/interspeech2018_bk/trials/commands/equal_num_102spk_iden.pkl')\n",
    "test_df = pd.read_pickle('/home/ideal_kar/PyTorch/Workspace/interspeech2018_bk/trials/commands/equal_num_102spk_veri.pkl')\n",
    "\n",
    "for index, row in train_df.iterrows():\n",
    "    spk = row['spk']\n",
    "    sent = row['sent']\n",
    "    filename = row['file']\n",
    "    \n",
    "    uniqID = spk + '-' + sent + filename.split('.')[0]\n",
    "    filepath = os.path.join(targethome, sent, filename)\n",
    "    \n",
    "    if spk not in spk2utts_train.keys():\n",
    "        spk2utts_train[spk] = [uniqID]\n",
    "    else:\n",
    "        spk2utts_train[spk].append(uniqID)\n",
    "        \n",
    "    with contextlib.closing(wave.open(filepath, 'r')) as f:\n",
    "        frames = f.getnframes()\n",
    "        rate = f.getframerate()\n",
    "        duration = frames / float(rate)\n",
    "        \n",
    "        utt2spks_dur_path_train.append((uniqID, spk, duration, filepath))\n",
    "    \n",
    "for index, row in test_df.iterrows():\n",
    "    spk = row['spk']\n",
    "    sent = row['sent']\n",
    "    filename = row['file']\n",
    "    \n",
    "    uniqID = spk + '-' + sent + filename.split('.')[0]\n",
    "    filepath = os.path.join(targethome, sent, filename)\n",
    "    \n",
    "    if spk not in spk2utts_test.keys():\n",
    "        spk2utts_test[spk] = [uniqID]\n",
    "    else:\n",
    "        spk2utts_test[spk].append(uniqID)\n",
    "        \n",
    "    with contextlib.closing(wave.open(filepath, 'r')) as f:\n",
    "        frames = f.getnframes()\n",
    "        rate = f.getframerate()\n",
    "        duration = frames / float(rate)\n",
    "        \n",
    "        utt2spks_dur_path_test.append((uniqID, spk, duration, filepath))\n",
    "\n",
    "utt2spks_dur_path_train = sorted(utt2spks_dur_path_train, key = lambda x: x[0])\n",
    "utt2spks_dur_path_test = sorted(utt2spks_dur_path_test, key = lambda x: x[0])"
   ]
  },
  {
   "cell_type": "code",
   "execution_count": 19,
   "metadata": {},
   "outputs": [
    {
     "data": {
      "text/plain": [
       "spk\n",
       "00176480     4\n",
       "004ae714    24\n",
       "00b01445    21\n",
       "00f0204f    13\n",
       "012c8314    22\n",
       "0135f3f2    18\n",
       "014f9f65    23\n",
       "01648c51    17\n",
       "016e2c6d    17\n",
       "019fa366    21\n",
       "01b4757a    17\n",
       "01bb6a2a    87\n",
       "01bcfc0c    21\n",
       "01d22d03    21\n",
       "0227998e    22\n",
       "022cd682    20\n",
       "023808be     7\n",
       "023a61ad    25\n",
       "026290a7    19\n",
       "02746d24    25\n",
       "02e85b60    24\n",
       "02fcd241     4\n",
       "030ec18b    21\n",
       "035de8fe    20\n",
       "0362539c    20\n",
       "037c445a    22\n",
       "0397ecda    18\n",
       "03c96658    19\n",
       "03cf93b1    19\n",
       "042186b8    21\n",
       "            ..\n",
       "fb24c826    16\n",
       "fb2f3242    18\n",
       "fb495c43     3\n",
       "fb7c9b3b    21\n",
       "fb7cfe0e    20\n",
       "fb969eb4     1\n",
       "fb9d6d23    19\n",
       "fbdc07bb    20\n",
       "fbe51750    17\n",
       "fbf3dd31    19\n",
       "fc2411fe    20\n",
       "fc28c8d8    14\n",
       "fc94edb0    17\n",
       "fcb25a78    21\n",
       "fce65496    21\n",
       "fce96bac    24\n",
       "fd32732a    24\n",
       "fd395b74    99\n",
       "fda46b78    23\n",
       "fde2dee7    17\n",
       "fe1916ba    18\n",
       "fe291fa9    15\n",
       "fe5c4a7a    18\n",
       "feb1d305    23\n",
       "ff21fb59    15\n",
       "ff63ab0b    19\n",
       "ffa76c4a    22\n",
       "ffb86d3c    18\n",
       "ffbb695d    21\n",
       "fffcabd1    18\n",
       "Length: 1766, dtype: int64"
      ]
     },
     "execution_count": 19,
     "metadata": {},
     "output_type": "execute_result"
    }
   ],
   "source": [
    "train_df.groupby(['spk']).size()"
   ]
  },
  {
   "cell_type": "markdown",
   "metadata": {},
   "source": [
    "### Kaldi Stats File Writing"
   ]
  },
  {
   "cell_type": "code",
   "execution_count": 20,
   "metadata": {
    "collapsed": true
   },
   "outputs": [],
   "source": [
    "with open(train_dir + '/utt2spk', 'w') as u2s, \\\n",
    "open(train_dir + '/utt2dur', 'w') as u2d, \\\n",
    "open(train_dir + '/wav.scp', 'w') as ws:\n",
    "    for uniqID, spk, dur, path in utt2spks_dur_path_train:\n",
    "        u2s.write(uniqID + ' ' + spk + '\\n')\n",
    "        u2d.write(uniqID + ' ' + str(dur) + '\\n')\n",
    "        ws.write(uniqID + ' ' + path + '\\n')\n",
    "\n",
    "with open(test_dir + '/utt2spk', 'w') as u2s, \\\n",
    "open(test_dir + '/utt2dur', 'w') as u2d, \\\n",
    "open(test_dir + '/wav.scp', 'w') as ws:\n",
    "    for uniqID, spk, dur, path in utt2spks_dur_path_test:\n",
    "        u2s.write(uniqID + ' ' + spk + '\\n')\n",
    "        u2d.write(uniqID + ' ' + str(dur) + '\\n')\n",
    "        ws.write(uniqID + ' ' + path + '\\n')"
   ]
  },
  {
   "cell_type": "code",
   "execution_count": 21,
   "metadata": {
    "collapsed": true
   },
   "outputs": [],
   "source": [
    "with open(train_dir + '/spk2utt', 'w') as s2u:\n",
    "    for key in sorted(spk2utts_train.keys()):\n",
    "        line = key\n",
    "        for utt in sorted(spk2utts_train[key]):\n",
    "            line += ' ' + utt\n",
    "        s2u.write(line + '\\n')\n",
    "        \n",
    "with open(test_dir + '/spk2utt', 'w') as s2u:\n",
    "    for key in sorted(spk2utts_test.keys()):\n",
    "        line = key\n",
    "        for utt in sorted(spk2utts_test[key]):\n",
    "            line += ' ' + utt\n",
    "        s2u.write(line + '\\n')"
   ]
  },
  {
   "cell_type": "code",
   "execution_count": null,
   "metadata": {
    "collapsed": true
   },
   "outputs": [],
   "source": []
  }
 ],
 "metadata": {
  "kernelspec": {
   "display_name": "Python 3",
   "language": "python",
   "name": "python3"
  },
  "language_info": {
   "codemirror_mode": {
    "name": "ipython",
    "version": 3
   },
   "file_extension": ".py",
   "mimetype": "text/x-python",
   "name": "python",
   "nbconvert_exporter": "python",
   "pygments_lexer": "ipython3",
   "version": "3.6.2"
  }
 },
 "nbformat": 4,
 "nbformat_minor": 2
}
