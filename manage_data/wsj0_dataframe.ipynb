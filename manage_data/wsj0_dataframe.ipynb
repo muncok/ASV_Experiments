{
 "cells": [
  {
   "cell_type": "code",
   "execution_count": 1,
   "metadata": {},
   "outputs": [],
   "source": [
    "import sys\n",
    "import os\n",
    "import pickle\n",
    "import glob\n",
    "\n",
    "import pandas as pd\n",
    "import numpy as np"
   ]
  },
  {
   "cell_type": "code",
   "execution_count": 2,
   "metadata": {},
   "outputs": [],
   "source": [
    "sys.path.append(\"../exp_adaptive_sv/\")"
   ]
  },
  {
   "cell_type": "markdown",
   "metadata": {},
   "source": [
    "## Kaldi feat "
   ]
  },
  {
   "cell_type": "code",
   "execution_count": 3,
   "metadata": {},
   "outputs": [],
   "source": [
    "test_trial = pd.read_csv(\"../../speaker_extraction/verification/keys/mixture_set/trials\", delimiter=' ')\n",
    "\n",
    "enr_ids = test_trial.Enrollment.unique().tolist()\n",
    "test_ids = test_trial.Test.unique().tolist()"
   ]
  },
  {
   "cell_type": "code",
   "execution_count": 4,
   "metadata": {},
   "outputs": [],
   "source": [
    "ids = np.concatenate([enr_ids, test_ids]) \n",
    "wsj0_df = pd.DataFrame(ids, columns=['id'])\n",
    "wsj0_df['file'] = wsj0_df.id.apply(lambda x: os.path.join(\"/dataset/SV_sets/wsj0/fbank64/\", x))\n",
    "# wsj0_df.to_pickle(\"/dataset/SV_sets/wsj0/wsj0_df.pkl\")"
   ]
  },
  {
   "cell_type": "code",
   "execution_count": 55,
   "metadata": {},
   "outputs": [],
   "source": [
    "enr_wavs = list(map(lambda x: os.path.join(\"/dataset/SV_sets/wsj0/wav/\", x[:3], x+'.wv1'), enr_ids))\n",
    "test_wavs = list(map(lambda x: os.path.join(\"/dataset/SV_sets/wsj0/max_mixed/tt/mix/\", x+\".wav\"), test_ids))\n",
    "wavs = np.concatenate([enr_wavs, test_wavs])"
   ]
  },
  {
   "cell_type": "code",
   "execution_count": 56,
   "metadata": {},
   "outputs": [],
   "source": [
    "with open(\"/dataset/SV_sets/wsj0/wav.scp\", \"w\") as f:\n",
    "    for id, wav in zip(ids, wavs):\n",
    "        f.write(id+' '+wav+'\\n')"
   ]
  },
  {
   "cell_type": "code",
   "execution_count": 38,
   "metadata": {},
   "outputs": [],
   "source": [
    "wsj0_df['spk'] = wsj0_df.id.apply(lambda x: x[:3])\n",
    "wsj0_df = wsj0_df.set_index('id')\n",
    "wsj0_df = wsj0_df.sort_index()"
   ]
  },
  {
   "cell_type": "code",
   "execution_count": 39,
   "metadata": {},
   "outputs": [],
   "source": [
    "spks = wsj0_df.spk.unique().tolist()\n",
    "spk2utt_dict = dict()\n",
    "for spk in spks:\n",
    "    spk2utt_dict[spk] = ' '.join(wsj0_df[wsj0_df.spk == spk].index.tolist())\n",
    "\n",
    "with open(\"/dataset/SV_sets/wsj0//spk2utt\", \"w\") as f:\n",
    "    for spk, utt in spk2utt_dict.items():\n",
    "        f.write(spk+\" \"+utt+\"\\n\")\n",
    "\n",
    "with open(\"/dataset/SV_sets/wsj0//utt2spk\", \"w\") as f:\n",
    "    for idx, row in wsj0_df.iterrows():\n",
    "        f.write(idx+\" \"+row.spk+\"\\n\")"
   ]
  },
  {
   "cell_type": "markdown",
   "metadata": {},
   "source": [
    "## test_trial"
   ]
  },
  {
   "cell_type": "code",
   "execution_count": 8,
   "metadata": {},
   "outputs": [],
   "source": [
    "sv_key = pickle.load(open(\"../sv_system/wsj0_embeds/sv_keys.pkl\", \"rb\"))\n",
    "sv_embeds = np.load(\"../sv_system/wsj0_embeds/sv_embeds.npy\")"
   ]
  },
  {
   "cell_type": "code",
   "execution_count": 16,
   "metadata": {},
   "outputs": [],
   "source": [
    "id2idx = {row.id:k for k, row in wsj0_df.iterrows()}\n",
    "enr_idx = test_trial.Enrollment.apply(lambda x: id2idx[x])\n",
    "test_idx = test_trial.Test.apply(lambda x: id2idx[x])"
   ]
  },
  {
   "cell_type": "code",
   "execution_count": 9,
   "metadata": {},
   "outputs": [],
   "source": [
    "enr_embeds = sv_embeds[enr_idx]\n",
    "enr_embeds = enr_embeds / np.linalg.norm(enr_embeds, axis=1, keepdims=True)"
   ]
  },
  {
   "cell_type": "code",
   "execution_count": 10,
   "metadata": {},
   "outputs": [],
   "source": [
    "test_embeds = sv_embeds[test_idx]\n",
    "test_embeds = test_embeds / np.linalg.norm(test_embeds, axis=1, keepdims=True)"
   ]
  },
  {
   "cell_type": "code",
   "execution_count": 11,
   "metadata": {},
   "outputs": [],
   "source": [
    "cosine_score = (enr_embeds * test_embeds).sum(1)"
   ]
  },
  {
   "cell_type": "code",
   "execution_count": 12,
   "metadata": {},
   "outputs": [],
   "source": [
    "labels = test_trial.Key.tolist()\n",
    "labels = list(map(lambda x: 1 if x=='target' else 0, labels))"
   ]
  },
  {
   "cell_type": "code",
   "execution_count": 40,
   "metadata": {},
   "outputs": [
    {
     "name": "stdout",
     "output_type": "stream",
     "text": [
      "eer: 46.83%, fpr: 46.82%, fnr: 46.83%\n"
     ]
    },
    {
     "data": {
      "text/plain": [
       "(0.4683333333333334, 0.46820833333333334, 0.4683333333333334, 0.8536409)"
      ]
     },
     "execution_count": 40,
     "metadata": {},
     "output_type": "execute_result"
    }
   ],
   "source": [
    "from utils import compute_eer\n",
    "compute_eer(cosine_score, labels)"
   ]
  },
  {
   "cell_type": "code",
   "execution_count": 53,
   "metadata": {},
   "outputs": [
    {
     "data": {
      "text/plain": [
       "0     445o030e\n",
       "1     22ho0110\n",
       "2     050a050v\n",
       "3     051a050o\n",
       "4     052a050h\n",
       "5     053c0115\n",
       "6     420o030a\n",
       "7     421a010a\n",
       "8     422a0105\n",
       "9     423c020x\n",
       "10    440c020x\n",
       "11    441o030w\n",
       "12    442c020a\n",
       "13    443c0202\n",
       "14    444c020l\n",
       "15    446c020d\n",
       "16    447c020x\n",
       "17    420c020u\n",
       "18    22gc0101\n",
       "19    22ho010u\n",
       "Name: Enrollment, dtype: object"
      ]
     },
     "execution_count": 53,
     "metadata": {},
     "output_type": "execute_result"
    }
   ],
   "source": [
    "test_trial.Enrollment[:20]"
   ]
  },
  {
   "cell_type": "code",
   "execution_count": 54,
   "metadata": {},
   "outputs": [
    {
     "data": {
      "text/plain": [
       "0.8453253"
      ]
     },
     "execution_count": 54,
     "metadata": {},
     "output_type": "execute_result"
    }
   ],
   "source": [
    "(enr_embeds[0] * enr_embeds[3]).sum()"
   ]
  }
 ],
 "metadata": {
  "kernelspec": {
   "display_name": "Python 3",
   "language": "python",
   "name": "python3"
  },
  "language_info": {
   "codemirror_mode": {
    "name": "ipython",
    "version": 3
   },
   "file_extension": ".py",
   "mimetype": "text/x-python",
   "name": "python",
   "nbconvert_exporter": "python",
   "pygments_lexer": "ipython3",
   "version": "3.6.5"
  }
 },
 "nbformat": 4,
 "nbformat_minor": 2
}
