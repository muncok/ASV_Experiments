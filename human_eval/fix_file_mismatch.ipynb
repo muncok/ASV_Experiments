{
 "cells": [
  {
   "cell_type": "code",
   "execution_count": 1,
   "metadata": {},
   "outputs": [],
   "source": [
    "import pandas as pd"
   ]
  },
  {
   "cell_type": "code",
   "execution_count": 64,
   "metadata": {},
   "outputs": [],
   "source": [
    "from IPython.display import Audio\n",
    "import os"
   ]
  },
  {
   "cell_type": "code",
   "execution_count": 100,
   "metadata": {},
   "outputs": [],
   "source": [
    "import hashlib\n",
    "def md5(fname):\n",
    "    hash_md5 = hashlib.md5()\n",
    "    with open(fname, \"rb\") as f:\n",
    "        for chunk in iter(lambda: f.read(4096), b\"\"):\n",
    "            hash_md5.update(chunk)\n",
    "    return hash_md5.hexdigest()"
   ]
  },
  {
   "cell_type": "code",
   "execution_count": 140,
   "metadata": {},
   "outputs": [],
   "source": [
    "from pathlib import Path\n",
    "trial_folder = Path(\"wavs/reddots/m0008_39/\")\n",
    "df = pd.read_pickle(trial_folder / \"test_audios.pkl\")\n",
    "files = df.file"
   ]
  },
  {
   "cell_type": "code",
   "execution_count": 141,
   "metadata": {},
   "outputs": [],
   "source": [
    "data_dir = \"/home/muncok/DL/dataset/SV_sets/reddots_r2015q4_v1/wav/\" "
   ]
  },
  {
   "cell_type": "code",
   "execution_count": 142,
   "metadata": {},
   "outputs": [],
   "source": [
    "orig_files_md5 = []\n",
    "for file in files.iteritems():\n",
    "    orig_files_md5.append(md5(os.path.join(data_dir, file[1])))"
   ]
  },
  {
   "cell_type": "code",
   "execution_count": 146,
   "metadata": {},
   "outputs": [],
   "source": [
    "copied_files_md5 = []\n",
    "for i in range(10):\n",
    "    copied_files_md5.append(md5(trial_folder / \"t_{}.wav\".format(i)))"
   ]
  },
  {
   "cell_type": "code",
   "execution_count": 156,
   "metadata": {},
   "outputs": [],
   "source": [
    "labels = []\n",
    "for i, code in enumerate(copied_files_md5):\n",
    "#     print(\"t_{}.wav is {}\".format(i, files.iloc[orig_files_md5.index(code)]))\n",
    "    labels.append(df.iloc[orig_files_md5.index(code)].trial_type)"
   ]
  },
  {
   "cell_type": "code",
   "execution_count": 149,
   "metadata": {},
   "outputs": [],
   "source": [
    "with open(trial_folder/\"test_labels.txt\", \"w\") as f:\n",
    "    for i, label in enumerate(labels):\n",
    "        if label == 0:\n",
    "            f.write(\"t_{}.wav\\t{}\\n\".format(i, \"1\"))\n",
    "        else:\n",
    "            f.write(\"t_{}.wav\\t{}\\n\".format(i, \"0\"))"
   ]
  }
 ],
 "metadata": {
  "kernelspec": {
   "display_name": "Pytorch",
   "language": "python",
   "name": "pytorch"
  },
  "language_info": {
   "codemirror_mode": {
    "name": "ipython",
    "version": 3
   },
   "file_extension": ".py",
   "mimetype": "text/x-python",
   "name": "python",
   "nbconvert_exporter": "python",
   "pygments_lexer": "ipython3",
   "version": "3.6.2"
  }
 },
 "nbformat": 4,
 "nbformat_minor": 2
}
