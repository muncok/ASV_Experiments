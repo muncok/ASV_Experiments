{
 "cells": [
  {
   "cell_type": "code",
   "execution_count": 55,
   "metadata": {},
   "outputs": [
    {
     "name": "stdout",
     "output_type": "stream",
     "text": [
      "Using matplotlib backend: TkAgg\n",
      "Populating the interactive namespace from numpy and matplotlib\n"
     ]
    },
    {
     "name": "stderr",
     "output_type": "stream",
     "text": [
      "/opt/conda/envs/pytorch-py3.6/lib/python3.6/site-packages/IPython/core/magics/pylab.py:160: UserWarning: pylab import has clobbered these variables: ['subplot']\n",
      "`%matplotlib` prevents importing * from pylab and numpy\n",
      "  \"\\n`%matplotlib` prevents importing * from pylab and numpy\"\n"
     ]
    }
   ],
   "source": [
    "import pandas as pd\n",
    "import pickle\n",
    "import numpy as np\n",
    "%pylab\n",
    "%matplotlib inline"
   ]
  },
  {
   "cell_type": "code",
   "execution_count": 57,
   "metadata": {},
   "outputs": [],
   "source": [
    "trial = pd.read_pickle(\"./voxc_trial.pkl\")\n",
    "sv_df = pd.read_pickle(\"../dataset/dataframes/voxc1/sv_voxc_dataframe.pkl\")"
   ]
  },
  {
   "cell_type": "code",
   "execution_count": 58,
   "metadata": {},
   "outputs": [],
   "source": [
    "data_folder = \"../dataset/kaldi/voxceleb/feats/data-fbank/xvector_npy/\""
   ]
  },
  {
   "cell_type": "code",
   "execution_count": 59,
   "metadata": {},
   "outputs": [],
   "source": [
    "sv_df['frames'] = sv_df.feat.apply(lambda x: np.load(data_folder + x).shape[0])"
   ]
  },
  {
   "cell_type": "code",
   "execution_count": 60,
   "metadata": {},
   "outputs": [],
   "source": [
    "voxc1_meta = pd.read_csv(\"../dataset/voxceleb1/vox1_meta.csv\", delimiter=\"\\t\")"
   ]
  },
  {
   "cell_type": "code",
   "execution_count": 61,
   "metadata": {},
   "outputs": [],
   "source": [
    "# frame_diff = trial.apply(lambda x: sv_df.iloc[x.enrolment_id].frames - sv_df.iloc[x.test_id].frames, axis=1)\n",
    "\n",
    "# equal_gender = trial.apply(lambda x: voxc1_meta.loc[sv_df.iloc[x.enrolment_id].spk].Gender == \n",
    "#             voxc1_meta.loc[sv_df.iloc[x.test_id].spk].Gender, axis=1)\n",
    "\n",
    "# equal_nation = trial.apply(lambda x: voxc1_meta.loc[neg_trials.iloc[x.enrolment_id].spk].Nationality == \n",
    "#             voxc1_meta.loc[neg_trials.iloc[x.test_id].spk].Nationality, axis=1)"
   ]
  },
  {
   "cell_type": "markdown",
   "metadata": {},
   "source": [
    "## gender dependent trials"
   ]
  },
  {
   "cell_type": "markdown",
   "metadata": {},
   "source": [
    "trial 중 gender equal case에서 남자가 훨씬 많지만, 여자의 케이스와 통계를 비교하면 거의 비슷하다."
   ]
  },
  {
   "cell_type": "code",
   "execution_count": 68,
   "metadata": {},
   "outputs": [],
   "source": [
    "gender_equal_trial = trial[trial.gender_equal]"
   ]
  },
  {
   "cell_type": "code",
   "execution_count": 69,
   "metadata": {},
   "outputs": [],
   "source": [
    "mens = voxc1_meta[voxc1_meta.Gender == 'm']['VGGFace1 ID'].unique().tolist()"
   ]
  },
  {
   "cell_type": "code",
   "execution_count": 70,
   "metadata": {},
   "outputs": [],
   "source": [
    "girls = voxc1_meta[voxc1_meta.Gender == 'f']['VGGFace1 ID'].unique().tolist()"
   ]
  },
  {
   "cell_type": "code",
   "execution_count": 71,
   "metadata": {},
   "outputs": [],
   "source": [
    "m_gender_equal = gender_equal_trial[sv_df.iloc[gender_equal_trial.enrolment_id].spk.isin(mens).values]"
   ]
  },
  {
   "cell_type": "markdown",
   "metadata": {},
   "source": [
    "## Scores"
   ]
  },
  {
   "cell_type": "code",
   "execution_count": 110,
   "metadata": {},
   "outputs": [],
   "source": [
    "scores = pickle.load(open(\"../best_models/voxc12/cosine_scores_approx.pkl\", \"rb\"))"
   ]
  },
  {
   "cell_type": "code",
   "execution_count": 111,
   "metadata": {},
   "outputs": [],
   "source": [
    "trial['score'] = scores"
   ]
  },
  {
   "cell_type": "code",
   "execution_count": 112,
   "metadata": {},
   "outputs": [],
   "source": [
    "pos_trials = trial[(trial.label == 1)]\n",
    "neg_trials = trial[(trial.label == 0)]"
   ]
  },
  {
   "cell_type": "markdown",
   "metadata": {},
   "source": [
    "### Gender"
   ]
  },
  {
   "cell_type": "code",
   "execution_count": 113,
   "metadata": {},
   "outputs": [],
   "source": [
    "neg_equal_gender = neg_trials[neg_trials.gender_equal]\n",
    "neg_diff_gender = neg_trials[~neg_trials.gender_equal]"
   ]
  },
  {
   "cell_type": "code",
   "execution_count": 114,
   "metadata": {},
   "outputs": [
    {
     "data": {
      "text/plain": [
       "(0, 1.0)"
      ]
     },
     "execution_count": 114,
     "metadata": {},
     "output_type": "execute_result"
    },
    {
     "data": {
      "image/png": "[encoded data removed]",
      "text/plain": [
       "<Figure size 432x288 with 1 Axes>"
      ]
     },
     "metadata": {},
     "output_type": "display_data"
    }
   ],
   "source": [
    "subplot = pos_trials.score.hist()\n",
    "subplot.set_xlim(0, 1.0)"
   ]
  },
  {
   "cell_type": "code",
   "execution_count": 115,
   "metadata": {},
   "outputs": [
    {
     "data": {
      "text/plain": [
       "(0, 1.0)"
      ]
     },
     "execution_count": 115,
     "metadata": {},
     "output_type": "execute_result"
    },
    {
     "data": {
      "image/png": "[encoded data removed]",
      "text/plain": [
       "<Figure size 432x288 with 1 Axes>"
      ]
     },
     "metadata": {},
     "output_type": "display_data"
    }
   ],
   "source": [
    "subplot = neg_trials.score.hist()\n",
    "subplot.set_xlim(0, 1.0)"
   ]
  },
  {
   "cell_type": "code",
   "execution_count": 116,
   "metadata": {},
   "outputs": [
    {
     "data": {
      "text/plain": [
       "(0, 1.0)"
      ]
     },
     "execution_count": 116,
     "metadata": {},
     "output_type": "execute_result"
    },
    {
     "data": {
      "image/png": "[encoded data removed]",
      "text/plain": [
       "<Figure size 432x288 with 1 Axes>"
      ]
     },
     "metadata": {},
     "output_type": "display_data"
    }
   ],
   "source": [
    "subplot = neg_equal_gender.score.hist()\n",
    "plt.title(\"equal_gender\")\n",
    "subplot.set_xlim(0, 1.0)"
   ]
  },
  {
   "cell_type": "code",
   "execution_count": 107,
   "metadata": {},
   "outputs": [
    {
     "data": {
      "text/plain": [
       "count    10727.000000\n",
       "mean         0.619682\n",
       "std          0.083101\n",
       "min          0.310341\n",
       "25%          0.563285\n",
       "50%          0.622712\n",
       "75%          0.677226\n",
       "max          0.885724\n",
       "Name: score, dtype: float64"
      ]
     },
     "execution_count": 107,
     "metadata": {},
     "output_type": "execute_result"
    }
   ],
   "source": [
    "neg_equal_gender.score.describe()"
   ]
  },
  {
   "cell_type": "code",
   "execution_count": 108,
   "metadata": {},
   "outputs": [
    {
     "data": {
      "text/plain": [
       "(0, 1.0)"
      ]
     },
     "execution_count": 108,
     "metadata": {},
     "output_type": "execute_result"
    },
    {
     "data": {
      "image/png": "[encoded data removed]",
      "text/plain": [
       "<Figure size 432x288 with 1 Axes>"
      ]
     },
     "metadata": {},
     "output_type": "display_data"
    }
   ],
   "source": [
    "subplot = neg_diff_gender.score.hist()\n",
    "plt.title(\"diff_gender\")\n",
    "subplot.set_xlim(0, 1.0)"
   ]
  },
  {
   "cell_type": "code",
   "execution_count": 109,
   "metadata": {},
   "outputs": [
    {
     "data": {
      "text/plain": [
       "<matplotlib.legend.Legend at 0x7f4dcc248160>"
      ]
     },
     "execution_count": 109,
     "metadata": {},
     "output_type": "execute_result"
    },
    {
     "data": {
      "image/png": "[encoded data removed]",
      "text/plain": [
       "<Figure size 720x576 with 1 Axes>"
      ]
     },
     "metadata": {},
     "output_type": "display_data"
    }
   ],
   "source": [
    "plt.figure(figsize=(10,8))\n",
    "plt.title(\"neg_trials.scores\", fontsize=20)\n",
    "plt.xlabel(\"score\", fontsize=15)\n",
    "subplot1 = neg_diff_gender.score.hist(label='diff_gender')\n",
    "subplot2 = neg_equal_gender.score.hist(label='equal_gender')\n",
    "plt.legend()"
   ]
  },
  {
   "cell_type": "markdown",
   "metadata": {},
   "source": [
    "### gender equality에 따라 eer을 계산해보면?"
   ]
  },
  {
   "cell_type": "code",
   "execution_count": 117,
   "metadata": {},
   "outputs": [
    {
     "data": {
      "text/plain": [
       "0.03971887977851134"
      ]
     },
     "execution_count": 117,
     "metadata": {},
     "output_type": "execute_result"
    }
   ],
   "source": [
    "# Don't know\n",
    "score_vector = pos_trials.score.tolist() + neg_trials.score.tolist()\n",
    "label_vector = [1] * len(pos_trials) + [0] * len(neg_trials)\n",
    "from sklearn.metrics import roc_curve\n",
    "fpr, tpr, thres = roc_curve(\n",
    "        label_vector, score_vector, pos_label=1)\n",
    "eer = fpr[np.nanargmin(np.abs(fpr - (1 - tpr)))]\n",
    "eer"
   ]
  },
  {
   "cell_type": "code",
   "execution_count": 119,
   "metadata": {},
   "outputs": [
    {
     "data": {
      "text/plain": [
       "0.0517386035238184"
      ]
     },
     "execution_count": 119,
     "metadata": {},
     "output_type": "execute_result"
    }
   ],
   "source": [
    "# Equal gender\n",
    "score_vector = pos_trials.score.tolist() + neg_equal_gender.score.tolist()\n",
    "label_vector = [1] * len(pos_trials) + [0] * len(neg_equal_gender)\n",
    "\n",
    "from sklearn.metrics import roc_curve\n",
    "fpr, tpr, thres = roc_curve(\n",
    "        label_vector, score_vector, pos_label=1)\n",
    "eer = fpr[np.nanargmin(np.abs(fpr - (1 - tpr)))]\n",
    "eer"
   ]
  },
  {
   "cell_type": "code",
   "execution_count": 121,
   "metadata": {},
   "outputs": [
    {
     "data": {
      "text/plain": [
       "0.01675977653631285"
      ]
     },
     "execution_count": 121,
     "metadata": {},
     "output_type": "execute_result"
    }
   ],
   "source": [
    "# Diff gender\n",
    "score_vector = pos_trials.score.tolist() + neg_diff_gender.score.tolist()\n",
    "label_vector = [1] * len(pos_trials) + [0] * len(neg_diff_gender)\n",
    "\n",
    "from sklearn.metrics import roc_curve\n",
    "fpr, tpr, thres = roc_curve(\n",
    "        label_vector, score_vector, pos_label=1)\n",
    "eer = fpr[np.nanargmin(np.abs(fpr - (1 - tpr)))]\n",
    "eer"
   ]
  },
  {
   "cell_type": "markdown",
   "metadata": {},
   "source": [
    "###  Nationality"
   ]
  },
  {
   "cell_type": "code",
   "execution_count": null,
   "metadata": {},
   "outputs": [],
   "source": [
    "neg_equal_nation = neg_trials[neg_trials.nation_equal]\n",
    "neg_diff_nation = neg_trials[~neg_trials.nation_equal]"
   ]
  },
  {
   "cell_type": "code",
   "execution_count": null,
   "metadata": {},
   "outputs": [],
   "source": [
    "neg_equal_nation.score.hist()\n",
    "plt.title(\"equal_nation\")\n",
    "plt.xlim(0, 1.0)"
   ]
  },
  {
   "cell_type": "code",
   "execution_count": null,
   "metadata": {
    "scrolled": true
   },
   "outputs": [],
   "source": [
    "neg_equal_nation.score.describe()"
   ]
  },
  {
   "cell_type": "code",
   "execution_count": null,
   "metadata": {},
   "outputs": [],
   "source": [
    "neg_diff_nation.score.hist()\n",
    "plt.title(\"diff_nation\")\n",
    "plt.xlim(0, 1.0)"
   ]
  },
  {
   "cell_type": "code",
   "execution_count": null,
   "metadata": {},
   "outputs": [],
   "source": [
    "voxc1_meta[voxc1_meta.Nationality == 'Italy']"
   ]
  },
  {
   "cell_type": "code",
   "execution_count": null,
   "metadata": {},
   "outputs": [],
   "source": [
    "import IPython.display as ipd"
   ]
  },
  {
   "cell_type": "code",
   "execution_count": null,
   "metadata": {},
   "outputs": [],
   "source": [
    "scores"
   ]
  }
 ],
 "metadata": {
  "kernelspec": {
   "display_name": "Python 3",
   "language": "python",
   "name": "python3"
  },
  "language_info": {
   "codemirror_mode": {
    "name": "ipython",
    "version": 3
   },
   "file_extension": ".py",
   "mimetype": "text/x-python",
   "name": "python",
   "nbconvert_exporter": "python",
   "pygments_lexer": "ipython3",
   "version": "3.6.5"
  }
 },
 "nbformat": 4,
 "nbformat_minor": 2
}
