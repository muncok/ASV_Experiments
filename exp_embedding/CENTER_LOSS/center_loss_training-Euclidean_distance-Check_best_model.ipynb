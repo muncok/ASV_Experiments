{
 "cells": [
  {
   "cell_type": "markdown",
   "metadata": {},
   "source": [
    "# center_loss training\n",
    "\n",
    "paper:  http://ydwen.github.io/papers/WenECCV16.pdf  \n",
    "code: https://github.com/KaiyangZhou/pytorch-center-loss"
   ]
  },
  {
   "cell_type": "markdown",
   "metadata": {},
   "source": [
    "## Environment"
   ]
  },
  {
   "cell_type": "code",
   "execution_count": 1,
   "metadata": {},
   "outputs": [
    {
     "name": "stdout",
     "output_type": "stream",
     "text": [
      "Using matplotlib backend: TkAgg\n",
      "Populating the interactive namespace from numpy and matplotlib\n"
     ]
    }
   ],
   "source": [
    "%load_ext autoreload\n",
    "%autoreload 2\n",
    "%pylab\n",
    "%matplotlib inline\n",
    "\n",
    "import pandas as pd\n",
    "import pickle\n",
    "import numpy as np\n",
    "import sys\n",
    "import os"
   ]
  },
  {
   "cell_type": "code",
   "execution_count": 2,
   "metadata": {},
   "outputs": [],
   "source": [
    "sys.path.append('../')\n",
    "os.environ[\"CUDA_DEVICE_ORDER\"]=\"PCI_BUS_ID\"   # see issue #152\n",
    "os.environ[\"CUDA_VISIBLE_DEVICES\"]=\"1\""
   ]
  },
  {
   "cell_type": "markdown",
   "metadata": {},
   "source": [
    "### Center-loss algorithm"
   ]
  },
  {
   "cell_type": "code",
   "execution_count": 3,
   "metadata": {},
   "outputs": [],
   "source": [
    "import torch                                                                                                                                                                                                                                                                 \n",
    "import torch.nn as nn                                                                                                                                                                                                                                                        \n",
    "\n",
    "class CenterLoss(nn.Module):                                                                                                                                                                                                                                                 \n",
    "    \"\"\"Center loss.                                                                                                                                                                                                                                                          \n",
    "\n",
    "    Reference:                                                                                                                                                                                                                                                               \n",
    "    Wen et al. A Discriminative Feature Learning Approach for Deep Face Recognition. ECCV 2016.                                                                                                                                                                              \n",
    "\n",
    "    Args:                                                                                                                                                                                                                                                                    \n",
    "     num_classes (int): number of classes.                                                                                                                                                                                                                                \n",
    "     feat_dim (int): feature dimension.                                                                                                                                                                                                                                   \n",
    "    \"\"\"                                                                                                                                                                                                                                                                      \n",
    "    def __init__(self, num_classes=10, feat_dim=2, use_gpu=True):                                                                                                                                                                                                            \n",
    "        super(CenterLoss, self).__init__()                                                                                                                                                                                                                                   \n",
    "        self.num_classes = num_classes                                                                                                                                                                                                                                       \n",
    "        self.feat_dim = feat_dim                                                                                                                                                                                                                                             \n",
    "        self.use_gpu = use_gpu                                                                                                                                                                                                                                               \n",
    "\n",
    "        if self.use_gpu:                                                                                                                                                                                                                                                     \n",
    "            self.centers = nn.Parameter(torch.randn(self.num_classes, self.feat_dim).cuda())                                                                                                                                                                                 \n",
    "        else:                                                                                                                                                                                                                                                                \n",
    "            self.centers = nn.Parameter(torch.randn(self.num_classes, self.feat_dim))                                                                                                                                                                                        \n",
    "\n",
    "    def forward(self, x, labels):                                                                                                                                                                                                                                            \n",
    "        \"\"\"                                                                                                                                                                                                                                                                  \n",
    "        Args:                                                                                                                                                                                                                                                                \n",
    "         x: feature matrix with shape (batch_size, feat_dim).                                                                                                                                                                                                             \n",
    "         labels: ground truth labels with shape (num_classes).                                                                                                                                                                                                            \n",
    "        \"\"\"                                                                                                                                                                                                                                                                  \n",
    "        batch_size = x.size(0)                                                                                                                                                                                                                                               \n",
    "        distmat = torch.pow(x, 2).sum(dim=1, keepdim=True).expand(batch_size, self.num_classes) + \\\n",
    "            torch.pow(self.centers, 2).sum(dim=1, keepdim=True).expand(self.num_classes, batch_size).t()                                                                                                                                                               \n",
    "        distmat.addmm_(1, -2, x, self.centers.t())                                                                                                                                                                                                                           \n",
    "\n",
    "        classes = torch.arange(self.num_classes).long()                                                                                                                                                                                                                      \n",
    "        if self.use_gpu: classes = classes.cuda()                                                                                                                                                                                                                            \n",
    "        labels = labels.unsqueeze(1).expand(batch_size, self.num_classes)                                                                                                                                                                                                    \n",
    "        mask = labels.eq(classes.expand(batch_size, self.num_classes))                                                                                                                                                                                                       \n",
    "\n",
    "        dist = []                                                                                                                                                                                                                                                            \n",
    "        for i in range(batch_size):                                                                                                                                                                                                                                          \n",
    "            value = distmat[i][mask[i]]                                                                                                                                                                                                                                      \n",
    "            value = value.clamp(min=1e-12, max=1e+12) # for numerical stability                                                                                                                                                                                              \n",
    "            dist.append(value)                                                                                                                                                                                                                                               \n",
    "        dist = torch.cat(dist)                                                                                                                                                                                                                                               \n",
    "        loss = dist.mean()                                                                                                                                                                                                                                                   \n",
    "\n",
    "        return loss"
   ]
  },
  {
   "cell_type": "markdown",
   "metadata": {},
   "source": [
    "### Configuration"
   ]
  },
  {
   "cell_type": "code",
   "execution_count": 4,
   "metadata": {},
   "outputs": [],
   "source": [
    "from sv_system.utils.parser import set_train_config\n",
    "import easydict\n",
    "args = easydict.EasyDict(dict(dataset=\"voxc1_fbank_xvector\",\n",
    "                              input_frames=800, splice_frames=[300, 800], stride_frames=1, input_format='fbank',\n",
    "                              cuda=True,\n",
    "                              lrs=[0.1, 0.01], lr_schedule=[20], seed=1337,\n",
    "                              no_eer=False,\n",
    "                              batch_size=64,\n",
    "                              arch=\"ResNet34_v4\", loss=\"softmax\",\n",
    "                              n_epochs=50\n",
    "                             ))\n",
    "config = set_train_config(args)"
   ]
  },
  {
   "cell_type": "markdown",
   "metadata": {},
   "source": [
    "### Dataset and Dataloader"
   ]
  },
  {
   "cell_type": "code",
   "execution_count": 5,
   "metadata": {},
   "outputs": [],
   "source": [
    "from sv_system.data.data_utils import find_dataset, find_trial\n",
    "\n",
    "_, datasets = find_dataset(config, basedir='../')\n",
    "trial = find_trial(config, basedir='../')"
   ]
  },
  {
   "cell_type": "code",
   "execution_count": 6,
   "metadata": {},
   "outputs": [],
   "source": [
    "from sv_system.data.dataloader import init_loaders\n",
    "\n",
    "dataloaders = init_loaders(config, datasets)"
   ]
  },
  {
   "cell_type": "markdown",
   "metadata": {},
   "source": [
    "### Define Model"
   ]
  },
  {
   "cell_type": "code",
   "execution_count": 7,
   "metadata": {},
   "outputs": [],
   "source": [
    "from sv_system.model.model_utils import find_model\n",
    "model = find_model(config)"
   ]
  },
  {
   "cell_type": "code",
   "execution_count": 8,
   "metadata": {},
   "outputs": [],
   "source": [
    "saved_model = torch.load(\"../best_models/voxc1/ResNet34_v4_softmax/ResNet34_v4_softmax_best.pth.tar\")\n",
    "\n",
    "import itertools\n",
    "model_state = model.state_dict()\n",
    "for k1, k2 in zip(saved_model['state_dict'], model_state):\n",
    "#     print(k1, k2)\n",
    "    assert saved_model['state_dict'][k1].shape == model_state[k2].shape\n",
    "    model_state[k2] = saved_model['state_dict'][k1]\n",
    "    \n",
    "\n",
    "model.load_state_dict(model_state)"
   ]
  },
  {
   "cell_type": "code",
   "execution_count": 9,
   "metadata": {},
   "outputs": [],
   "source": [
    "if not config['no_cuda']:\n",
    "    model = model.cuda()"
   ]
  },
  {
   "cell_type": "markdown",
   "metadata": {},
   "source": [
    "### Model Train"
   ]
  },
  {
   "cell_type": "code",
   "execution_count": 10,
   "metadata": {},
   "outputs": [],
   "source": [
    "import torch\n",
    "\n",
    "is_cuda = True\n",
    "weight_cent = 0.01\n",
    "criterion_xent = nn.CrossEntropyLoss()\n",
    "criterion_cent = CenterLoss(num_classes=config['n_labels'], feat_dim=128, use_gpu=is_cuda)\n",
    "optimizer_model = torch.optim.SGD(model.parameters(), lr=config['lrs'][0], weight_decay=5e-04, momentum=0.9)\n",
    "optimizer_centloss = torch.optim.SGD(criterion_cent.parameters(), lr=0.5)"
   ]
  },
  {
   "cell_type": "code",
   "execution_count": 11,
   "metadata": {},
   "outputs": [],
   "source": [
    "from sv_system.train.train_utils import set_seed, find_optimizer\n",
    "\n",
    "criterion, optimizer = find_optimizer(config, model)"
   ]
  },
  {
   "cell_type": "code",
   "execution_count": 12,
   "metadata": {},
   "outputs": [],
   "source": [
    "set_seed(config)"
   ]
  },
  {
   "cell_type": "code",
   "execution_count": 13,
   "metadata": {},
   "outputs": [],
   "source": [
    "if not config['no_eer']:\n",
    "    train_loader, val_loader, test_loader, sv_loader = dataloaders\n",
    "else:\n",
    "    train_loader, val_loader, test_loader = dataloaders"
   ]
  },
  {
   "cell_type": "code",
   "execution_count": 14,
   "metadata": {},
   "outputs": [],
   "source": [
    "def train(model):\n",
    "    model.train()\n",
    "    loss_sum = 0\n",
    "    xent_loss_sum = 0\n",
    "    cent_loss_sum = 0\n",
    "    n_corrects = 0\n",
    "    total = 0\n",
    "    for batch_idx, (X, y) in enumerate(train_loader):\n",
    "        if is_cuda:\n",
    "            X = X.cuda()\n",
    "            y = y.cuda()\n",
    "\n",
    "        feats, outs  = model.feat_output(X)\n",
    "        loss_xent = criterion_xent(outs, y)\n",
    "        loss_cent = criterion_cent(feats, y)\n",
    "        loss_cent *= weight_cent\n",
    "        loss = loss_xent + loss_cent\n",
    "\n",
    "#         optimizer_model.zero_grad()\n",
    "#         optimizer_centloss.zero_grad()\n",
    "#         loss.backward()\n",
    "#         optimizer_model.step()\n",
    "#         for param in criterion_cent.parameters():                                                                                 \n",
    "#             param.grad.data *= (1. / weight_cent)                                                                            \n",
    "#         optimizer_centloss.step()                                                                                                 \n",
    "                        \n",
    "        loss_sum += loss.item()\n",
    "        xent_loss_sum += loss_xent.item()\n",
    "        cent_loss_sum += loss_cent.item()\n",
    "        n_corrects += torch.sum(torch.eq(torch.argmax(outs, dim=1), y)).item()\n",
    "        total += y.size(0)\n",
    "        \n",
    "        if (batch_idx+1) % 100 == 0:\n",
    "            print(\"Batch {}/{}\\t Loss {:.6f} XentLoss {:.6f} CenterLoss {:.6f}\" \\\n",
    "                  .format(batch_idx+1, len(train_loader), loss_sum /(batch_idx+1), \n",
    "                        xent_loss_sum/(batch_idx+1), \n",
    "                        cent_loss_sum/(batch_idx+1))\n",
    "                 )\n",
    "        acc = n_corrects / total\n",
    "\n",
    "    acc = n_corrects / total\n",
    "    return loss_sum, acc "
   ]
  },
  {
   "cell_type": "code",
   "execution_count": 15,
   "metadata": {
    "scrolled": false
   },
   "outputs": [
    {
     "name": "stdout",
     "output_type": "stream",
     "text": [
      "------------------------------\n",
      "curr_lr: 0.1\n",
      "Batch 100/2083\t Loss 18.785474 XentLoss 0.034589 CenterLoss 18.750886\n",
      "Batch 200/2083\t Loss 18.736295 XentLoss 0.033912 CenterLoss 18.702383\n",
      "Batch 300/2083\t Loss 18.736580 XentLoss 0.034453 CenterLoss 18.702127\n",
      "Batch 400/2083\t Loss 18.754517 XentLoss 0.034049 CenterLoss 18.720467\n",
      "Batch 500/2083\t Loss 18.753808 XentLoss 0.034063 CenterLoss 18.719745\n",
      "Batch 600/2083\t Loss 18.766041 XentLoss 0.034014 CenterLoss 18.732027\n",
      "Batch 700/2083\t Loss 18.765635 XentLoss 0.034057 CenterLoss 18.731578\n",
      "Batch 800/2083\t Loss 18.756245 XentLoss 0.034337 CenterLoss 18.721908\n",
      "Batch 900/2083\t Loss 18.760749 XentLoss 0.033946 CenterLoss 18.726803\n",
      "Batch 1000/2083\t Loss 18.761072 XentLoss 0.033973 CenterLoss 18.727099\n",
      "Batch 1100/2083\t Loss 18.761380 XentLoss 0.033785 CenterLoss 18.727595\n",
      "Batch 1200/2083\t Loss 18.766533 XentLoss 0.033868 CenterLoss 18.732665\n",
      "Batch 1300/2083\t Loss 18.768227 XentLoss 0.033738 CenterLoss 18.734489\n",
      "Batch 1400/2083\t Loss 18.766510 XentLoss 0.033927 CenterLoss 18.732583\n",
      "Batch 1500/2083\t Loss 18.768459 XentLoss 0.033691 CenterLoss 18.734769\n",
      "Batch 1600/2083\t Loss 18.768019 XentLoss 0.033684 CenterLoss 18.734336\n",
      "Batch 1700/2083\t Loss 18.765957 XentLoss 0.033852 CenterLoss 18.732105\n",
      "Batch 1800/2083\t Loss 18.767121 XentLoss 0.033745 CenterLoss 18.733376\n",
      "Batch 1900/2083\t Loss 18.768276 XentLoss 0.033595 CenterLoss 18.734681\n",
      "Batch 2000/2083\t Loss 18.766292 XentLoss 0.033451 CenterLoss 18.732840\n",
      "epoch #0, train accuracy: 0.9978243418634137\n"
     ]
    },
    {
     "data": {
      "application/vnd.jupyter.widget-view+json": {
       "model_id": "0bf23597b76e4d5fb0bdc55b0c519ccd",
       "version_major": 2,
       "version_minor": 0
      },
      "text/plain": [
       "HBox(children=(IntProgress(value=0, layout=Layout(flex='2'), max=105), HTML(value='')), layout=Layout(display=…"
      ]
     },
     "metadata": {},
     "output_type": "display_data"
    },
    {
     "name": "stdout",
     "output_type": "stream",
     "text": [
      "\n",
      "epoch #0, val accuracy: 0.8543792963027954\n"
     ]
    },
    {
     "data": {
      "application/vnd.jupyter.widget-view+json": {
       "model_id": "c435e60e6b0c47588d1d085d4dd4a972",
       "version_major": 2,
       "version_minor": 0
      },
      "text/plain": [
       "HBox(children=(IntProgress(value=0, layout=Layout(flex='2'), max=76), HTML(value='')), layout=Layout(display='…"
      ]
     },
     "metadata": {},
     "output_type": "display_data"
    },
    {
     "name": "stdout",
     "output_type": "stream",
     "text": [
      "\n",
      "epoch #0, sv eer: 0.20535619209881803\n"
     ]
    }
   ],
   "source": [
    "from sv_system.train.si_train import val, sv_test, sv_euc_test\n",
    "from tqdm import tqdm_notebook\n",
    "\n",
    "for epoch_idx in range(0, 1):\n",
    "    print(\"-\"*30)\n",
    "    curr_lr = optimizer.state_dict()['param_groups'][0]['lr']\n",
    "    idx = 0\n",
    "    while(epoch_idx >= config['lr_schedule'][idx]):\n",
    "    # use new lr from schedule epoch not a next epoch\n",
    "        idx += 1\n",
    "        if idx == len(config['lr_schedule']):\n",
    "            break\n",
    "    curr_lr = config['lrs'][idx]\n",
    "    optimizer.state_dict()['param_groups'][0]['lr'] = curr_lr\n",
    "    print(\"curr_lr: {}\".format(curr_lr))\n",
    "\n",
    "#     train code\n",
    "    train_loss, train_acc = train(model)\n",
    "    print(\"epoch #{}, train accuracy: {}\".format(epoch_idx, train_acc))\n",
    "\n",
    "#     validation code\n",
    "    val_loss, val_acc = val(config, val_loader, model, criterion, tqdm=tqdm_notebook)\n",
    "    print(\"epoch #{}, val accuracy: {}\".format(epoch_idx, val_acc))\n",
    "\n",
    "#     evaluate best_metric\n",
    "    if not config['no_eer']:\n",
    "        # eer validation code\n",
    "#         eer, label, score = sv_test(config, sv_loader, model, trial, tqdm=tqdm_notebook)\n",
    "        eer, label, score = sv_euc_test(config, sv_loader, model, trial, tqdm=tqdm_notebook)\n",
    "        print(\"epoch #{}, sv eer: {}\".format(epoch_idx, eer))"
   ]
  },
  {
   "cell_type": "code",
   "execution_count": 18,
   "metadata": {},
   "outputs": [
    {
     "data": {
      "application/vnd.jupyter.widget-view+json": {
       "model_id": "2b54cfdf2cbc4cc4bb17326cb01aaa3d",
       "version_major": 2,
       "version_minor": 0
      },
      "text/plain": [
       "HBox(children=(IntProgress(value=0, layout=Layout(flex='2'), max=76), HTML(value='')), layout=Layout(display='…"
      ]
     },
     "metadata": {},
     "output_type": "display_data"
    },
    {
     "name": "stdout",
     "output_type": "stream",
     "text": [
      "\n"
     ]
    },
    {
     "data": {
      "text/plain": [
       "0.05675646895964221"
      ]
     },
     "execution_count": 18,
     "metadata": {},
     "output_type": "execute_result"
    }
   ],
   "source": [
    "eer, label, score = sv_test(config, sv_loader, model, trial, tqdm=tqdm_notebook)\n",
    "eer"
   ]
  },
  {
   "cell_type": "code",
   "execution_count": 20,
   "metadata": {},
   "outputs": [
    {
     "data": {
      "application/vnd.jupyter.widget-view+json": {
       "model_id": "87806d4c2c69407bbf467b8bc05ab5ce",
       "version_major": 2,
       "version_minor": 0
      },
      "text/plain": [
       "HBox(children=(IntProgress(value=0, layout=Layout(flex='2'), max=76), HTML(value='')), layout=Layout(display='…"
      ]
     },
     "metadata": {},
     "output_type": "display_data"
    },
    {
     "name": "stdout",
     "output_type": "stream",
     "text": [
      "\n"
     ]
    }
   ],
   "source": [
    "eer, label, score = sv_euc_test(config, sv_loader, model, trial, tqdm=tqdm_notebook)"
   ]
  },
  {
   "cell_type": "code",
   "execution_count": 21,
   "metadata": {},
   "outputs": [
    {
     "data": {
      "text/plain": [
       "0.05675646895964221"
      ]
     },
     "execution_count": 21,
     "metadata": {},
     "output_type": "execute_result"
    }
   ],
   "source": [
    "eer"
   ]
  },
  {
   "cell_type": "code",
   "execution_count": null,
   "metadata": {},
   "outputs": [],
   "source": []
  }
 ],
 "metadata": {
  "kernelspec": {
   "display_name": "Python 3",
   "language": "python",
   "name": "python3"
  },
  "language_info": {
   "codemirror_mode": {
    "name": "ipython",
    "version": 3
   },
   "file_extension": ".py",
   "mimetype": "text/x-python",
   "name": "python",
   "nbconvert_exporter": "python",
   "pygments_lexer": "ipython3",
   "version": "3.6.5"
  }
 },
 "nbformat": 4,
 "nbformat_minor": 2
}
