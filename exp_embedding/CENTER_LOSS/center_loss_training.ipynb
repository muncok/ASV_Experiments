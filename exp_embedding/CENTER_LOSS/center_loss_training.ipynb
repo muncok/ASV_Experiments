{
 "cells": [
  {
   "cell_type": "markdown",
   "metadata": {},
   "source": [
    "# center_loss training\n",
    "\n",
    "paper:  http://ydwen.github.io/papers/WenECCV16.pdf  \n",
    "code: https://github.com/KaiyangZhou/pytorch-center-loss"
   ]
  },
  {
   "cell_type": "markdown",
   "metadata": {},
   "source": [
    "## Environment"
   ]
  },
  {
   "cell_type": "code",
   "execution_count": 1,
   "metadata": {},
   "outputs": [
    {
     "name": "stdout",
     "output_type": "stream",
     "text": [
      "Using matplotlib backend: TkAgg\n",
      "Populating the interactive namespace from numpy and matplotlib\n"
     ]
    }
   ],
   "source": [
    "%load_ext autoreload\n",
    "%autoreload 2\n",
    "%pylab\n",
    "%matplotlib inline\n",
    "\n",
    "import pandas as pd\n",
    "import pickle\n",
    "import numpy as np\n",
    "import sys\n",
    "import os"
   ]
  },
  {
   "cell_type": "code",
   "execution_count": 2,
   "metadata": {},
   "outputs": [],
   "source": [
    "sys.path.append('../')\n",
    "os.environ[\"CUDA_DEVICE_ORDER\"]=\"PCI_BUS_ID\"   # see issue #152\n",
    "os.environ[\"CUDA_VISIBLE_DEVICES\"]=\"2\""
   ]
  },
  {
   "cell_type": "markdown",
   "metadata": {},
   "source": [
    "### Center-loss algorithm"
   ]
  },
  {
   "cell_type": "code",
   "execution_count": 3,
   "metadata": {},
   "outputs": [],
   "source": [
    "import torch                                                                                                                                                                                                                                                                 \n",
    "import torch.nn as nn                                                                                                                                                                                                                                                        \n",
    "\n",
    "class CenterLoss(nn.Module):                                                                                                                                                                                                                                                 \n",
    "    \"\"\"Center loss.                                                                                                                                                                                                                                                          \n",
    "\n",
    "    Reference:                                                                                                                                                                                                                                                               \n",
    "    Wen et al. A Discriminative Feature Learning Approach for Deep Face Recognition. ECCV 2016.                                                                                                                                                                              \n",
    "\n",
    "    Args:                                                                                                                                                                                                                                                                    \n",
    "     num_classes (int): number of classes.                                                                                                                                                                                                                                \n",
    "     feat_dim (int): feature dimension.                                                                                                                                                                                                                                   \n",
    "    \"\"\"                                                                                                                                                                                                                                                                      \n",
    "    def __init__(self, num_classes=10, feat_dim=2, use_gpu=True):                                                                                                                                                                                                            \n",
    "        super(CenterLoss, self).__init__()                                                                                                                                                                                                                                   \n",
    "        self.num_classes = num_classes                                                                                                                                                                                                                                       \n",
    "        self.feat_dim = feat_dim                                                                                                                                                                                                                                             \n",
    "        self.use_gpu = use_gpu                                                                                                                                                                                                                                               \n",
    "\n",
    "        if self.use_gpu:                                                                                                                                                                                                                                                     \n",
    "            self.centers = nn.Parameter(torch.randn(self.num_classes, self.feat_dim).cuda())                                                                                                                                                                                 \n",
    "        else:                                                                                                                                                                                                                                                                \n",
    "            self.centers = nn.Parameter(torch.randn(self.num_classes, self.feat_dim))                                                                                                                                                                                        \n",
    "\n",
    "    def forward(self, x, labels):                                                                                                                                                                                                                                            \n",
    "        \"\"\"                                                                                                                                                                                                                                                                  \n",
    "        Args:                                                                                                                                                                                                                                                                \n",
    "         x: feature matrix with shape (batch_size, feat_dim).                                                                                                                                                                                                             \n",
    "         labels: ground truth labels with shape (num_classes).                                                                                                                                                                                                            \n",
    "        \"\"\"                                                                                                                                                                                                                                                                  \n",
    "        batch_size = x.size(0)                                                                                                                                                                                                                                               \n",
    "        distmat = torch.pow(x, 2).sum(dim=1, keepdim=True).expand(batch_size, self.num_classes) + \\\n",
    "            torch.pow(self.centers, 2).sum(dim=1, keepdim=True).expand(self.num_classes, batch_size).t()                                                                                                                                                               \n",
    "        distmat.addmm_(1, -2, x, self.centers.t())                                                                                                                                                                                                                           \n",
    "\n",
    "        classes = torch.arange(self.num_classes).long()                                                                                                                                                                                                                      \n",
    "        if self.use_gpu: classes = classes.cuda()                                                                                                                                                                                                                            \n",
    "        labels = labels.unsqueeze(1).expand(batch_size, self.num_classes)                                                                                                                                                                                                    \n",
    "        mask = labels.eq(classes.expand(batch_size, self.num_classes))                                                                                                                                                                                                       \n",
    "\n",
    "        dist = []                                                                                                                                                                                                                                                            \n",
    "        for i in range(batch_size):                                                                                                                                                                                                                                          \n",
    "            value = distmat[i][mask[i]]                                                                                                                                                                                                                                      \n",
    "            value = value.clamp(min=1e-12, max=1e+12) # for numerical stability                                                                                                                                                                                              \n",
    "            dist.append(value)                                                                                                                                                                                                                                               \n",
    "        dist = torch.cat(dist)                                                                                                                                                                                                                                               \n",
    "        loss = dist.mean()                                                                                                                                                                                                                                                   \n",
    "\n",
    "        return loss"
   ]
  },
  {
   "cell_type": "markdown",
   "metadata": {},
   "source": [
    "### Configuration"
   ]
  },
  {
   "cell_type": "code",
   "execution_count": 4,
   "metadata": {},
   "outputs": [],
   "source": [
    "from sv_system.utils.parser import set_train_config\n",
    "import easydict\n",
    "args = easydict.EasyDict(dict(dataset=\"voxc1_fbank_xvector\",\n",
    "                              input_frames=800, splice_frames=[300, 800], stride_frames=1, input_format='fbank',\n",
    "                              cuda=True,\n",
    "                              lrs=[0.1, 0.01], lr_schedule=[20], seed=1337,\n",
    "                              no_eer=False,\n",
    "                              batch_size=128,\n",
    "                              arch=\"ResNet34\", loss=\"softmax\",\n",
    "                              n_epochs=50\n",
    "                             ))\n",
    "config = set_train_config(args)"
   ]
  },
  {
   "cell_type": "markdown",
   "metadata": {},
   "source": [
    "### Dataset and Dataloader"
   ]
  },
  {
   "cell_type": "code",
   "execution_count": 5,
   "metadata": {},
   "outputs": [],
   "source": [
    "from sv_system.data.data_utils import find_dataset, find_trial\n",
    "\n",
    "_, datasets = find_dataset(config, basedir='../')\n",
    "trial = find_trial(config, basedir='../')"
   ]
  },
  {
   "cell_type": "code",
   "execution_count": 6,
   "metadata": {},
   "outputs": [],
   "source": [
    "from sv_system.data.dataloader import init_loaders\n",
    "\n",
    "dataloaders = init_loaders(config, datasets)"
   ]
  },
  {
   "cell_type": "markdown",
   "metadata": {},
   "source": [
    "### Define Model"
   ]
  },
  {
   "cell_type": "code",
   "execution_count": 7,
   "metadata": {},
   "outputs": [],
   "source": [
    "# from sv_system.model.model_utils import find_model\n",
    "# model = find_model(config)"
   ]
  },
  {
   "cell_type": "code",
   "execution_count": 8,
   "metadata": {},
   "outputs": [],
   "source": [
    "from sv_system.model.ResNet34 import ResNet34\n",
    "\n",
    "class ResNet34_v1(ResNet34):\n",
    "    \"\"\"\n",
    "        additional fc layer before output layer\n",
    "    \"\"\"\n",
    "    def __init__(self, config, inplanes=16, n_labels=1000, fc_dims=None):\n",
    "        super().__init__(config, inplanes, n_labels)\n",
    "\n",
    "        extractor_output_dim = 8*inplanes\n",
    "        if not fc_dims:\n",
    "            fc_dims = extractor_output_dim\n",
    "\n",
    "        classifier = [nn.Linear(extractor_output_dim,\n",
    "            fc_dims),\n",
    "            nn.ReLU(inplace=True)]\n",
    "\n",
    "        loss_type = config[\"loss\"]\n",
    "        if loss_type == \"angular\":\n",
    "            classifier.append(AngleLinear(fc_dims, n_labels))\n",
    "        elif loss_type == \"softmax\":\n",
    "            classifier.append(nn.Linear(fc_dims, n_labels))\n",
    "        else:\n",
    "            print(\"not implemented loss\")\n",
    "            raise NotImplementedError\n",
    "\n",
    "        self.classifier = nn.Sequential(*classifier)\n",
    "        \n",
    "    def forward(self, x):\n",
    "        feat = self.embed(x)\n",
    "        out = self.classifier(feat)\n",
    "        \n",
    "        return out\n",
    "    \n",
    "    def feat_output(self, x):\n",
    "        feat = self.embed(x)\n",
    "        out = self.classifier(feat)\n",
    "        \n",
    "        return feat, out"
   ]
  },
  {
   "cell_type": "code",
   "execution_count": 9,
   "metadata": {},
   "outputs": [],
   "source": [
    "model = ResNet34_v1(config, n_labels=config['n_labels'])\n",
    "\n",
    "if not config['no_cuda']:\n",
    "    model = model.cuda()"
   ]
  },
  {
   "cell_type": "markdown",
   "metadata": {},
   "source": [
    "### Model Train"
   ]
  },
  {
   "cell_type": "code",
   "execution_count": 10,
   "metadata": {},
   "outputs": [],
   "source": [
    "import torch\n",
    "\n",
    "is_cuda = True\n",
    "weight_cent = 0.01\n",
    "criterion_xent = nn.CrossEntropyLoss()\n",
    "criterion_cent = CenterLoss(num_classes=config['n_labels'], feat_dim=128, use_gpu=is_cuda)\n",
    "optimizer_model = torch.optim.SGD(model.parameters(), lr=config['lrs'][0], weight_decay=5e-04, momentum=0.9)\n",
    "optimizer_centloss = torch.optim.SGD(criterion_cent.parameters(), lr=0.5)"
   ]
  },
  {
   "cell_type": "code",
   "execution_count": 11,
   "metadata": {},
   "outputs": [],
   "source": [
    "from sv_system.train.train_utils import set_seed, find_optimizer\n",
    "\n",
    "criterion, optimizer = find_optimizer(config, model)"
   ]
  },
  {
   "cell_type": "code",
   "execution_count": 12,
   "metadata": {},
   "outputs": [],
   "source": [
    "set_seed(config)"
   ]
  },
  {
   "cell_type": "code",
   "execution_count": 13,
   "metadata": {},
   "outputs": [],
   "source": [
    "if not config['no_eer']:\n",
    "    train_loader, val_loader, test_loader, sv_loader = dataloaders\n",
    "else:\n",
    "    train_loader, val_loader, test_loader = dataloaders"
   ]
  },
  {
   "cell_type": "code",
   "execution_count": 14,
   "metadata": {},
   "outputs": [],
   "source": [
    "def train(model):\n",
    "    model.train()\n",
    "    loss_sum = 0\n",
    "    xent_loss_sum = 0\n",
    "    cent_loss_sum = 0\n",
    "    n_corrects = 0\n",
    "    total = 0\n",
    "    for batch_idx, (X, y) in enumerate(train_loader):\n",
    "        if is_cuda:\n",
    "            X = X.cuda()\n",
    "            y = y.cuda()\n",
    "\n",
    "        feats, outs  = model.feat_output(X)\n",
    "        loss_xent = criterion_xent(outs, y)\n",
    "        loss_cent = criterion_cent(feats, y)\n",
    "        loss_cent *= weight_cent\n",
    "        loss = loss_xent + loss_cent\n",
    "\n",
    "        optimizer_model.zero_grad()\n",
    "        optimizer_centloss.zero_grad()\n",
    "        loss.backward()\n",
    "        optimizer_model.step()\n",
    "        for param in criterion_cent.parameters():                                                                                 \n",
    "            param.grad.data *= (1. / weight_cent)                                                                            \n",
    "        optimizer_centloss.step()                                                                                                 \n",
    "                        \n",
    "        loss_sum += loss.item()\n",
    "        xent_loss_sum += loss_xent.item()\n",
    "        cent_loss_sum += loss_cent.item()\n",
    "        n_corrects += torch.sum(torch.eq(torch.argmax(outs, dim=1), y)).item()\n",
    "        total += y.size(0)\n",
    "        \n",
    "        if (batch_idx+1) % 100 == 0:\n",
    "            print(\"Batch {}/{}\\t Loss {:.6f} XentLoss {:.6f} CenterLoss {:.6f}\" \\\n",
    "                  .format(batch_idx+1, len(train_loader), loss_sum /(batch_idx+1), \n",
    "                        xent_loss_sum/(batch_idx+1), \n",
    "                        cent_loss_sum/(batch_idx+1))\n",
    "                 )\n",
    "        acc = n_corrects / total\n",
    "\n",
    "    acc = n_corrects / total\n",
    "    return loss_sum, acc "
   ]
  },
  {
   "cell_type": "code",
   "execution_count": 15,
   "metadata": {
    "scrolled": true
   },
   "outputs": [
    {
     "name": "stdout",
     "output_type": "stream",
     "text": [
      "------------------------------\n",
      "curr_lr: 0.1\n",
      "Batch 100/1042\t Loss 8.295369 XentLoss 7.084845 CenterLoss 1.210524\n",
      "Batch 200/1042\t Loss 8.081959 XentLoss 7.013971 CenterLoss 1.067988\n",
      "Batch 300/1042\t Loss 7.937473 XentLoss 6.974930 CenterLoss 0.962543\n",
      "Batch 400/1042\t Loss 7.826577 XentLoss 6.948269 CenterLoss 0.878307\n",
      "Batch 500/1042\t Loss 7.734439 XentLoss 6.926818 CenterLoss 0.807621\n",
      "Batch 600/1042\t Loss 7.657057 XentLoss 6.909604 CenterLoss 0.747452\n",
      "Batch 700/1042\t Loss 7.590579 XentLoss 6.894642 CenterLoss 0.695937\n",
      "Batch 800/1042\t Loss 7.530280 XentLoss 6.879703 CenterLoss 0.650578\n",
      "Batch 900/1042\t Loss 7.465851 XentLoss 6.854147 CenterLoss 0.611704\n",
      "Batch 1000/1042\t Loss 7.392661 XentLoss 6.815485 CenterLoss 0.577176\n"
     ]
    },
    {
     "data": {
      "application/vnd.jupyter.widget-view+json": {
       "model_id": "4e581b4214b4483b981b760c1560d699",
       "version_major": 2,
       "version_minor": 0
      },
      "text/plain": [
       "HBox(children=(IntProgress(value=0, layout=Layout(flex='2'), max=53), HTML(value='')), layout=Layout(display='…"
      ]
     },
     "metadata": {},
     "output_type": "display_data"
    },
    {
     "name": "stdout",
     "output_type": "stream",
     "text": [
      "\n",
      "epoch #0, val accuracy: 0.003095518797636032\n"
     ]
    },
    {
     "data": {
      "application/vnd.jupyter.widget-view+json": {
       "model_id": "1813a8cbb1684ba89d4b4b2d3e406d92",
       "version_major": 2,
       "version_minor": 0
      },
      "text/plain": [
       "HBox(children=(IntProgress(value=0, layout=Layout(flex='2'), max=38), HTML(value='')), layout=Layout(display='…"
      ]
     },
     "metadata": {},
     "output_type": "display_data"
    },
    {
     "name": "stdout",
     "output_type": "stream",
     "text": [
      "\n",
      "epoch #0, sv eer: 0.3408050260888084\n",
      "------------------------------\n",
      "curr_lr: 0.1\n",
      "Batch 100/1042\t Loss 6.548639 XentLoss 6.329305 CenterLoss 0.219334\n",
      "Batch 200/1042\t Loss 6.503753 XentLoss 6.295949 CenterLoss 0.207804\n",
      "Batch 300/1042\t Loss 6.464415 XentLoss 6.268030 CenterLoss 0.196386\n",
      "Batch 400/1042\t Loss 6.424708 XentLoss 6.237873 CenterLoss 0.186835\n",
      "Batch 500/1042\t Loss 6.385294 XentLoss 6.206939 CenterLoss 0.178355\n",
      "Batch 600/1042\t Loss 6.344319 XentLoss 6.173460 CenterLoss 0.170859\n",
      "Batch 700/1042\t Loss 6.304958 XentLoss 6.140875 CenterLoss 0.164083\n",
      "Batch 800/1042\t Loss 6.265977 XentLoss 6.108087 CenterLoss 0.157889\n",
      "Batch 900/1042\t Loss 6.225379 XentLoss 6.072972 CenterLoss 0.152407\n",
      "Batch 1000/1042\t Loss 6.183302 XentLoss 6.035934 CenterLoss 0.147368\n"
     ]
    },
    {
     "data": {
      "application/vnd.jupyter.widget-view+json": {
       "model_id": "a169780c9057416e9876573d22e6a394",
       "version_major": 2,
       "version_minor": 0
      },
      "text/plain": [
       "HBox(children=(IntProgress(value=0, layout=Layout(flex='2'), max=53), HTML(value='')), layout=Layout(display='…"
      ]
     },
     "metadata": {},
     "output_type": "display_data"
    },
    {
     "name": "stdout",
     "output_type": "stream",
     "text": [
      "\n",
      "epoch #1, val accuracy: 0.008402122184634209\n"
     ]
    },
    {
     "data": {
      "application/vnd.jupyter.widget-view+json": {
       "model_id": "cdbbb9e718274637900e4cce7c187307",
       "version_major": 2,
       "version_minor": 0
      },
      "text/plain": [
       "HBox(children=(IntProgress(value=0, layout=Layout(flex='2'), max=38), HTML(value='')), layout=Layout(display='…"
      ]
     },
     "metadata": {},
     "output_type": "display_data"
    },
    {
     "name": "stdout",
     "output_type": "stream",
     "text": [
      "\n",
      "epoch #1, sv eer: 0.2595570226812906\n",
      "------------------------------\n",
      "curr_lr: 0.1\n",
      "Batch 100/1042\t Loss 5.624514 XentLoss 5.529137 CenterLoss 0.095377\n",
      "Batch 200/1042\t Loss 5.565505 XentLoss 5.470582 CenterLoss 0.094922\n",
      "Batch 300/1042\t Loss 5.494192 XentLoss 5.400556 CenterLoss 0.093636\n",
      "Batch 400/1042\t Loss 5.422380 XentLoss 5.330403 CenterLoss 0.091978\n",
      "Batch 500/1042\t Loss 5.360223 XentLoss 5.269383 CenterLoss 0.090840\n",
      "Batch 600/1042\t Loss 5.293192 XentLoss 5.203536 CenterLoss 0.089656\n",
      "Batch 700/1042\t Loss 5.231572 XentLoss 5.143157 CenterLoss 0.088415\n",
      "Batch 800/1042\t Loss 5.167709 XentLoss 5.080266 CenterLoss 0.087443\n",
      "Batch 900/1042\t Loss 5.105486 XentLoss 5.018936 CenterLoss 0.086549\n",
      "Batch 1000/1042\t Loss 5.043514 XentLoss 4.957705 CenterLoss 0.085810\n"
     ]
    },
    {
     "data": {
      "application/vnd.jupyter.widget-view+json": {
       "model_id": "730c3a06cf264f739c3bd06a4712dd9f",
       "version_major": 2,
       "version_minor": 0
      },
      "text/plain": [
       "HBox(children=(IntProgress(value=0, layout=Layout(flex='2'), max=53), HTML(value='')), layout=Layout(display='…"
      ]
     },
     "metadata": {},
     "output_type": "display_data"
    },
    {
     "name": "stdout",
     "output_type": "stream",
     "text": [
      "\n",
      "epoch #2, val accuracy: 0.02086842991411686\n"
     ]
    },
    {
     "data": {
      "application/vnd.jupyter.widget-view+json": {
       "model_id": "07b3a15f4bcf459fa1068e8346df2f75",
       "version_major": 2,
       "version_minor": 0
      },
      "text/plain": [
       "HBox(children=(IntProgress(value=0, layout=Layout(flex='2'), max=38), HTML(value='')), layout=Layout(display='…"
      ]
     },
     "metadata": {},
     "output_type": "display_data"
    },
    {
     "name": "stdout",
     "output_type": "stream",
     "text": [
      "\n",
      "epoch #2, sv eer: 0.18049196038760515\n",
      "------------------------------\n",
      "curr_lr: 0.1\n",
      "Batch 100/1042\t Loss 4.308973 XentLoss 4.228033 CenterLoss 0.080940\n",
      "Batch 200/1042\t Loss 4.247752 XentLoss 4.167886 CenterLoss 0.079866\n",
      "Batch 300/1042\t Loss 4.204179 XentLoss 4.125961 CenterLoss 0.078219\n",
      "Batch 400/1042\t Loss 4.155425 XentLoss 4.078333 CenterLoss 0.077093\n",
      "Batch 500/1042\t Loss 4.117288 XentLoss 4.040751 CenterLoss 0.076537\n",
      "Batch 600/1042\t Loss 4.078967 XentLoss 4.003003 CenterLoss 0.075964\n",
      "Batch 700/1042\t Loss 4.044163 XentLoss 3.968668 CenterLoss 0.075495\n",
      "Batch 800/1042\t Loss 4.012984 XentLoss 3.937979 CenterLoss 0.075005\n",
      "Batch 900/1042\t Loss 3.983745 XentLoss 3.909192 CenterLoss 0.074553\n",
      "Batch 1000/1042\t Loss 3.951303 XentLoss 3.877131 CenterLoss 0.074172\n"
     ]
    },
    {
     "data": {
      "application/vnd.jupyter.widget-view+json": {
       "model_id": "24c9c6608ebe4b7ea38bf21ce8cdc03c",
       "version_major": 2,
       "version_minor": 0
      },
      "text/plain": [
       "HBox(children=(IntProgress(value=0, layout=Layout(flex='2'), max=53), HTML(value='')), layout=Layout(display='…"
      ]
     },
     "metadata": {},
     "output_type": "display_data"
    },
    {
     "name": "stdout",
     "output_type": "stream",
     "text": [
      "\n",
      "epoch #3, val accuracy: 0.045253537595272064\n"
     ]
    },
    {
     "data": {
      "application/vnd.jupyter.widget-view+json": {
       "model_id": "2bf38b0e00444ea0a314943bd298020e",
       "version_major": 2,
       "version_minor": 0
      },
      "text/plain": [
       "HBox(children=(IntProgress(value=0, layout=Layout(flex='2'), max=38), HTML(value='')), layout=Layout(display='…"
      ]
     },
     "metadata": {},
     "output_type": "display_data"
    },
    {
     "name": "stdout",
     "output_type": "stream",
     "text": [
      "\n",
      "epoch #3, sv eer: 0.15200724097540197\n",
      "------------------------------\n",
      "curr_lr: 0.1\n",
      "Batch 100/1042\t Loss 3.538851 XentLoss 3.466756 CenterLoss 0.072095\n",
      "Batch 200/1042\t Loss 3.517075 XentLoss 3.445084 CenterLoss 0.071991\n",
      "Batch 300/1042\t Loss 3.504513 XentLoss 3.432784 CenterLoss 0.071729\n",
      "Batch 400/1042\t Loss 3.472516 XentLoss 3.400661 CenterLoss 0.071855\n",
      "Batch 500/1042\t Loss 3.451250 XentLoss 3.379406 CenterLoss 0.071844\n",
      "Batch 600/1042\t Loss 3.431125 XentLoss 3.359334 CenterLoss 0.071791\n",
      "Batch 700/1042\t Loss 3.409439 XentLoss 3.337538 CenterLoss 0.071901\n",
      "Batch 800/1042\t Loss 3.382385 XentLoss 3.310302 CenterLoss 0.072083\n",
      "Batch 900/1042\t Loss 3.360121 XentLoss 3.288019 CenterLoss 0.072101\n",
      "Batch 1000/1042\t Loss 3.334802 XentLoss 3.262379 CenterLoss 0.072423\n"
     ]
    },
    {
     "data": {
      "application/vnd.jupyter.widget-view+json": {
       "model_id": "ee2954ee011242eaa98e31cab6598700",
       "version_major": 2,
       "version_minor": 0
      },
      "text/plain": [
       "HBox(children=(IntProgress(value=0, layout=Layout(flex='2'), max=53), HTML(value='')), layout=Layout(display='…"
      ]
     },
     "metadata": {},
     "output_type": "display_data"
    },
    {
     "name": "stdout",
     "output_type": "stream",
     "text": [
      "\n",
      "epoch #4, val accuracy: 0.08977004885673523\n"
     ]
    },
    {
     "data": {
      "application/vnd.jupyter.widget-view+json": {
       "model_id": "916c39012cb44717a265f26d1c4fa62f",
       "version_major": 2,
       "version_minor": 0
      },
      "text/plain": [
       "HBox(children=(IntProgress(value=0, layout=Layout(flex='2'), max=38), HTML(value='')), layout=Layout(display='…"
      ]
     },
     "metadata": {},
     "output_type": "display_data"
    },
    {
     "name": "stdout",
     "output_type": "stream",
     "text": [
      "\n",
      "epoch #4, sv eer: 0.14993078479395167\n",
      "------------------------------\n",
      "curr_lr: 0.1\n",
      "Batch 100/1042\t Loss 3.007389 XentLoss 2.931135 CenterLoss 0.076254\n",
      "Batch 200/1042\t Loss 2.983461 XentLoss 2.906379 CenterLoss 0.077082\n",
      "Batch 300/1042\t Loss 2.952342 XentLoss 2.874618 CenterLoss 0.077724\n",
      "Batch 400/1042\t Loss 2.938598 XentLoss 2.860819 CenterLoss 0.077779\n",
      "Batch 500/1042\t Loss 2.918159 XentLoss 2.840509 CenterLoss 0.077650\n",
      "Batch 600/1042\t Loss 2.891992 XentLoss 2.813934 CenterLoss 0.078059\n",
      "Batch 700/1042\t Loss 2.868759 XentLoss 2.790556 CenterLoss 0.078203\n",
      "Batch 800/1042\t Loss 2.849800 XentLoss 2.771458 CenterLoss 0.078342\n",
      "Batch 900/1042\t Loss 2.833800 XentLoss 2.755293 CenterLoss 0.078507\n",
      "Batch 1000/1042\t Loss 2.817240 XentLoss 2.738678 CenterLoss 0.078561\n"
     ]
    },
    {
     "data": {
      "application/vnd.jupyter.widget-view+json": {
       "model_id": "fd217cf02e9646ca8aba2d36d4dccc03",
       "version_major": 2,
       "version_minor": 0
      },
      "text/plain": [
       "HBox(children=(IntProgress(value=0, layout=Layout(flex='2'), max=53), HTML(value='')), layout=Layout(display='…"
      ]
     },
     "metadata": {},
     "output_type": "display_data"
    },
    {
     "name": "stdout",
     "output_type": "stream",
     "text": [
      "\n",
      "epoch #5, val accuracy: 0.13110680878162384\n"
     ]
    },
    {
     "data": {
      "application/vnd.jupyter.widget-view+json": {
       "model_id": "75a27bc07df04d6b9b2dfc0fd7d8e7da",
       "version_major": 2,
       "version_minor": 0
      },
      "text/plain": [
       "HBox(children=(IntProgress(value=0, layout=Layout(flex='2'), max=38), HTML(value='')), layout=Layout(display='…"
      ]
     },
     "metadata": {},
     "output_type": "display_data"
    },
    {
     "name": "stdout",
     "output_type": "stream",
     "text": [
      "\n",
      "epoch #5, sv eer: 0.1236822489617719\n",
      "------------------------------\n",
      "curr_lr: 0.1\n",
      "Batch 100/1042\t Loss 2.531209 XentLoss 2.450866 CenterLoss 0.080343\n",
      "Batch 200/1042\t Loss 2.519884 XentLoss 2.438465 CenterLoss 0.081420\n",
      "Batch 300/1042\t Loss 2.522353 XentLoss 2.440700 CenterLoss 0.081654\n",
      "Batch 400/1042\t Loss 2.514684 XentLoss 2.433268 CenterLoss 0.081417\n",
      "Batch 500/1042\t Loss 2.503767 XentLoss 2.421911 CenterLoss 0.081855\n",
      "Batch 600/1042\t Loss 2.490726 XentLoss 2.408802 CenterLoss 0.081924\n",
      "Batch 700/1042\t Loss 2.475773 XentLoss 2.393672 CenterLoss 0.082101\n",
      "Batch 800/1042\t Loss 2.461065 XentLoss 2.378609 CenterLoss 0.082456\n",
      "Batch 900/1042\t Loss 2.449362 XentLoss 2.366720 CenterLoss 0.082643\n",
      "Batch 1000/1042\t Loss 2.439224 XentLoss 2.356329 CenterLoss 0.082895\n"
     ]
    },
    {
     "data": {
      "application/vnd.jupyter.widget-view+json": {
       "model_id": "1a6c4a50da67427aa4e490806913c607",
       "version_major": 2,
       "version_minor": 0
      },
      "text/plain": [
       "HBox(children=(IntProgress(value=0, layout=Layout(flex='2'), max=53), HTML(value='')), layout=Layout(display='…"
      ]
     },
     "metadata": {},
     "output_type": "display_data"
    },
    {
     "name": "stdout",
     "output_type": "stream",
     "text": [
      "\n",
      "epoch #6, val accuracy: 0.18326735496520996\n"
     ]
    },
    {
     "data": {
      "application/vnd.jupyter.widget-view+json": {
       "model_id": "ad4f49aa256942b88a530268072777d6",
       "version_major": 2,
       "version_minor": 0
      },
      "text/plain": [
       "HBox(children=(IntProgress(value=0, layout=Layout(flex='2'), max=38), HTML(value='')), layout=Layout(display='…"
      ]
     },
     "metadata": {},
     "output_type": "display_data"
    },
    {
     "name": "stdout",
     "output_type": "stream",
     "text": [
      "\n",
      "epoch #6, sv eer: 0.11665424342455542\n",
      "------------------------------\n",
      "curr_lr: 0.1\n",
      "Batch 100/1042\t Loss 2.203820 XentLoss 2.114977 CenterLoss 0.088844\n",
      "Batch 200/1042\t Loss 2.197834 XentLoss 2.109313 CenterLoss 0.088521\n",
      "Batch 300/1042\t Loss 2.193972 XentLoss 2.105601 CenterLoss 0.088371\n",
      "Batch 400/1042\t Loss 2.179990 XentLoss 2.091439 CenterLoss 0.088551\n",
      "Batch 500/1042\t Loss 2.174585 XentLoss 2.085950 CenterLoss 0.088635\n",
      "Batch 600/1042\t Loss 2.165865 XentLoss 2.076962 CenterLoss 0.088903\n",
      "Batch 700/1042\t Loss 2.156916 XentLoss 2.067810 CenterLoss 0.089106\n",
      "Batch 800/1042\t Loss 2.141161 XentLoss 2.051881 CenterLoss 0.089279\n",
      "Batch 900/1042\t Loss 2.129356 XentLoss 2.039691 CenterLoss 0.089665\n",
      "Batch 1000/1042\t Loss 2.119044 XentLoss 2.029028 CenterLoss 0.090016\n"
     ]
    },
    {
     "data": {
      "application/vnd.jupyter.widget-view+json": {
       "model_id": "9de3c665c0b549e4b50c5d0dfc15f9cf",
       "version_major": 2,
       "version_minor": 0
      },
      "text/plain": [
       "HBox(children=(IntProgress(value=0, layout=Layout(flex='2'), max=53), HTML(value='')), layout=Layout(display='…"
      ]
     },
     "metadata": {},
     "output_type": "display_data"
    },
    {
     "name": "stdout",
     "output_type": "stream",
     "text": [
      "\n",
      "epoch #7, val accuracy: 0.21451735496520996\n"
     ]
    },
    {
     "data": {
      "application/vnd.jupyter.widget-view+json": {
       "model_id": "c5d3c1c62b414dfbb2482396175ae692",
       "version_major": 2,
       "version_minor": 0
      },
      "text/plain": [
       "HBox(children=(IntProgress(value=0, layout=Layout(flex='2'), max=38), HTML(value='')), layout=Layout(display='…"
      ]
     },
     "metadata": {},
     "output_type": "display_data"
    },
    {
     "name": "stdout",
     "output_type": "stream",
     "text": [
      "\n",
      "epoch #7, sv eer: 0.11090405707592375\n",
      "------------------------------\n",
      "curr_lr: 0.1\n",
      "Batch 100/1042\t Loss 1.886051 XentLoss 1.790903 CenterLoss 0.095148\n",
      "Batch 200/1042\t Loss 1.878373 XentLoss 1.782876 CenterLoss 0.095497\n",
      "Batch 300/1042\t Loss 1.869279 XentLoss 1.773620 CenterLoss 0.095659\n",
      "Batch 400/1042\t Loss 1.880700 XentLoss 1.784996 CenterLoss 0.095705\n",
      "Batch 500/1042\t Loss 1.877818 XentLoss 1.781777 CenterLoss 0.096041\n",
      "Batch 600/1042\t Loss 1.867816 XentLoss 1.771567 CenterLoss 0.096249\n",
      "Batch 700/1042\t Loss 1.861599 XentLoss 1.765140 CenterLoss 0.096459\n",
      "Batch 800/1042\t Loss 1.857501 XentLoss 1.760774 CenterLoss 0.096727\n",
      "Batch 900/1042\t Loss 1.853362 XentLoss 1.756369 CenterLoss 0.096993\n",
      "Batch 1000/1042\t Loss 1.848443 XentLoss 1.751233 CenterLoss 0.097210\n"
     ]
    },
    {
     "data": {
      "application/vnd.jupyter.widget-view+json": {
       "model_id": "d06995a54ab045a59e5f90033c191f79",
       "version_major": 2,
       "version_minor": 0
      },
      "text/plain": [
       "HBox(children=(IntProgress(value=0, layout=Layout(flex='2'), max=53), HTML(value='')), layout=Layout(display='…"
      ]
     },
     "metadata": {},
     "output_type": "display_data"
    },
    {
     "name": "stdout",
     "output_type": "stream",
     "text": [
      "\n",
      "epoch #8, val accuracy: 0.1521226465702057\n"
     ]
    },
    {
     "data": {
      "application/vnd.jupyter.widget-view+json": {
       "model_id": "a8342d2b09a74e76a05e5d2ea025855d",
       "version_major": 2,
       "version_minor": 0
      },
      "text/plain": [
       "HBox(children=(IntProgress(value=0, layout=Layout(flex='2'), max=38), HTML(value='')), layout=Layout(display='…"
      ]
     },
     "metadata": {},
     "output_type": "display_data"
    },
    {
     "name": "stdout",
     "output_type": "stream",
     "text": [
      "\n",
      "epoch #8, sv eer: 0.11031838994782238\n",
      "------------------------------\n",
      "curr_lr: 0.1\n",
      "Batch 100/1042\t Loss 1.688897 XentLoss 1.587704 CenterLoss 0.101194\n",
      "Batch 200/1042\t Loss 1.698164 XentLoss 1.595708 CenterLoss 0.102456\n",
      "Batch 300/1042\t Loss 1.705941 XentLoss 1.603833 CenterLoss 0.102107\n",
      "Batch 400/1042\t Loss 1.705973 XentLoss 1.603837 CenterLoss 0.102136\n",
      "Batch 500/1042\t Loss 1.699208 XentLoss 1.596995 CenterLoss 0.102212\n",
      "Batch 600/1042\t Loss 1.694027 XentLoss 1.591613 CenterLoss 0.102415\n",
      "Batch 700/1042\t Loss 1.694371 XentLoss 1.591804 CenterLoss 0.102567\n",
      "Batch 800/1042\t Loss 1.687707 XentLoss 1.584871 CenterLoss 0.102836\n",
      "Batch 900/1042\t Loss 1.686560 XentLoss 1.583634 CenterLoss 0.102925\n",
      "Batch 1000/1042\t Loss 1.682496 XentLoss 1.579447 CenterLoss 0.103049\n"
     ]
    },
    {
     "data": {
      "application/vnd.jupyter.widget-view+json": {
       "model_id": "e77c1037e8914d3bb5a534c5518d12be",
       "version_major": 2,
       "version_minor": 0
      },
      "text/plain": [
       "HBox(children=(IntProgress(value=0, layout=Layout(flex='2'), max=53), HTML(value='')), layout=Layout(display='…"
      ]
     },
     "metadata": {},
     "output_type": "display_data"
    },
    {
     "name": "stdout",
     "output_type": "stream",
     "text": [
      "\n",
      "epoch #9, val accuracy: 0.16642099618911743\n"
     ]
    },
    {
     "data": {
      "application/vnd.jupyter.widget-view+json": {
       "model_id": "86c0beb45138499bba783878343411c7",
       "version_major": 2,
       "version_minor": 0
      },
      "text/plain": [
       "HBox(children=(IntProgress(value=0, layout=Layout(flex='2'), max=38), HTML(value='')), layout=Layout(display='…"
      ]
     },
     "metadata": {},
     "output_type": "display_data"
    },
    {
     "name": "stdout",
     "output_type": "stream",
     "text": [
      "\n",
      "epoch #9, sv eer: 0.1114364817378341\n",
      "------------------------------\n",
      "curr_lr: 0.1\n",
      "Batch 100/1042\t Loss 1.533313 XentLoss 1.428720 CenterLoss 0.104593\n",
      "Batch 200/1042\t Loss 1.549450 XentLoss 1.443557 CenterLoss 0.105893\n",
      "Batch 300/1042\t Loss 1.553871 XentLoss 1.447723 CenterLoss 0.106148\n",
      "Batch 400/1042\t Loss 1.558307 XentLoss 1.452105 CenterLoss 0.106202\n",
      "Batch 500/1042\t Loss 1.560112 XentLoss 1.453873 CenterLoss 0.106239\n",
      "Batch 600/1042\t Loss 1.564741 XentLoss 1.458412 CenterLoss 0.106329\n",
      "Batch 700/1042\t Loss 1.554304 XentLoss 1.447936 CenterLoss 0.106368\n",
      "Batch 800/1042\t Loss 1.556450 XentLoss 1.450088 CenterLoss 0.106362\n",
      "Batch 900/1042\t Loss 1.556589 XentLoss 1.450046 CenterLoss 0.106544\n",
      "Batch 1000/1042\t Loss 1.554199 XentLoss 1.447488 CenterLoss 0.106711\n"
     ]
    },
    {
     "data": {
      "application/vnd.jupyter.widget-view+json": {
       "model_id": "e6bcb0ad5f3147f8ad2cac92c21ea30c",
       "version_major": 2,
       "version_minor": 0
      },
      "text/plain": [
       "HBox(children=(IntProgress(value=0, layout=Layout(flex='2'), max=53), HTML(value='')), layout=Layout(display='…"
      ]
     },
     "metadata": {},
     "output_type": "display_data"
    },
    {
     "name": "stdout",
     "output_type": "stream",
     "text": [
      "\n",
      "epoch #10, val accuracy: 0.22786809504032135\n"
     ]
    },
    {
     "data": {
      "application/vnd.jupyter.widget-view+json": {
       "model_id": "2956a7869f14416a8f73a0f26178528a",
       "version_major": 2,
       "version_minor": 0
      },
      "text/plain": [
       "HBox(children=(IntProgress(value=0, layout=Layout(flex='2'), max=38), HTML(value='')), layout=Layout(display='…"
      ]
     },
     "metadata": {},
     "output_type": "display_data"
    },
    {
     "name": "stdout",
     "output_type": "stream",
     "text": [
      "\n",
      "epoch #10, sv eer: 0.10163986795868385\n",
      "------------------------------\n",
      "curr_lr: 0.1\n",
      "Batch 100/1042\t Loss 1.450591 XentLoss 1.341185 CenterLoss 0.109407\n",
      "Batch 200/1042\t Loss 1.448668 XentLoss 1.338173 CenterLoss 0.110495\n",
      "Batch 300/1042\t Loss 1.438621 XentLoss 1.328214 CenterLoss 0.110408\n",
      "Batch 400/1042\t Loss 1.449324 XentLoss 1.338662 CenterLoss 0.110662\n",
      "Batch 500/1042\t Loss 1.451773 XentLoss 1.341369 CenterLoss 0.110404\n",
      "Batch 600/1042\t Loss 1.457001 XentLoss 1.346395 CenterLoss 0.110606\n",
      "Batch 700/1042\t Loss 1.454152 XentLoss 1.343540 CenterLoss 0.110611\n",
      "Batch 800/1042\t Loss 1.457275 XentLoss 1.346702 CenterLoss 0.110573\n",
      "Batch 900/1042\t Loss 1.457107 XentLoss 1.346331 CenterLoss 0.110776\n",
      "Batch 1000/1042\t Loss 1.460127 XentLoss 1.349215 CenterLoss 0.110912\n"
     ]
    },
    {
     "data": {
      "application/vnd.jupyter.widget-view+json": {
       "model_id": "ec21bad557b440c3bf9ec8f38630ad68",
       "version_major": 2,
       "version_minor": 0
      },
      "text/plain": [
       "HBox(children=(IntProgress(value=0, layout=Layout(flex='2'), max=53), HTML(value='')), layout=Layout(display='…"
      ]
     },
     "metadata": {},
     "output_type": "display_data"
    },
    {
     "name": "stdout",
     "output_type": "stream",
     "text": [
      "\n",
      "epoch #11, val accuracy: 0.2975277900695801\n"
     ]
    },
    {
     "data": {
      "application/vnd.jupyter.widget-view+json": {
       "model_id": "fb3bce560eaa433d8893572fefb9d96f",
       "version_major": 2,
       "version_minor": 0
      },
      "text/plain": [
       "HBox(children=(IntProgress(value=0, layout=Layout(flex='2'), max=38), HTML(value='')), layout=Layout(display='…"
      ]
     },
     "metadata": {},
     "output_type": "display_data"
    },
    {
     "name": "stdout",
     "output_type": "stream",
     "text": [
      "\n",
      "epoch #11, sv eer: 0.1011074432967735\n",
      "------------------------------\n",
      "curr_lr: 0.1\n",
      "Batch 100/1042\t Loss 1.368915 XentLoss 1.255745 CenterLoss 0.113169\n",
      "Batch 200/1042\t Loss 1.372911 XentLoss 1.258971 CenterLoss 0.113940\n",
      "Batch 300/1042\t Loss 1.388799 XentLoss 1.274865 CenterLoss 0.113934\n",
      "Batch 400/1042\t Loss 1.395417 XentLoss 1.281459 CenterLoss 0.113959\n",
      "Batch 500/1042\t Loss 1.394912 XentLoss 1.281142 CenterLoss 0.113770\n",
      "Batch 600/1042\t Loss 1.394221 XentLoss 1.280319 CenterLoss 0.113902\n",
      "Batch 700/1042\t Loss 1.398565 XentLoss 1.284401 CenterLoss 0.114164\n",
      "Batch 800/1042\t Loss 1.401304 XentLoss 1.287049 CenterLoss 0.114255\n",
      "Batch 900/1042\t Loss 1.401351 XentLoss 1.286954 CenterLoss 0.114397\n",
      "Batch 1000/1042\t Loss 1.401709 XentLoss 1.287347 CenterLoss 0.114363\n"
     ]
    },
    {
     "data": {
      "application/vnd.jupyter.widget-view+json": {
       "model_id": "d55441b34f1740a2a8edfd0eee9f2513",
       "version_major": 2,
       "version_minor": 0
      },
      "text/plain": [
       "HBox(children=(IntProgress(value=0, layout=Layout(flex='2'), max=53), HTML(value='')), layout=Layout(display='…"
      ]
     },
     "metadata": {},
     "output_type": "display_data"
    },
    {
     "name": "stdout",
     "output_type": "stream",
     "text": [
      "\n",
      "epoch #12, val accuracy: 0.25878116488456726\n"
     ]
    },
    {
     "data": {
      "application/vnd.jupyter.widget-view+json": {
       "model_id": "74e7215e92a943c9ac6a8949a463fc72",
       "version_major": 2,
       "version_minor": 0
      },
      "text/plain": [
       "HBox(children=(IntProgress(value=0, layout=Layout(flex='2'), max=38), HTML(value='')), layout=Layout(display='…"
      ]
     },
     "metadata": {},
     "output_type": "display_data"
    },
    {
     "name": "stdout",
     "output_type": "stream",
     "text": [
      "\n",
      "epoch #12, sv eer: 0.09700777340006389\n",
      "------------------------------\n",
      "curr_lr: 0.1\n",
      "Batch 100/1042\t Loss 1.289801 XentLoss 1.173451 CenterLoss 0.116349\n",
      "Batch 200/1042\t Loss 1.318077 XentLoss 1.200800 CenterLoss 0.117277\n",
      "Batch 300/1042\t Loss 1.332712 XentLoss 1.215780 CenterLoss 0.116932\n",
      "Batch 400/1042\t Loss 1.338467 XentLoss 1.221580 CenterLoss 0.116887\n",
      "Batch 500/1042\t Loss 1.342608 XentLoss 1.225455 CenterLoss 0.117153\n",
      "Batch 600/1042\t Loss 1.342432 XentLoss 1.225397 CenterLoss 0.117035\n",
      "Batch 700/1042\t Loss 1.350881 XentLoss 1.233660 CenterLoss 0.117220\n",
      "Batch 800/1042\t Loss 1.351982 XentLoss 1.234617 CenterLoss 0.117365\n",
      "Batch 900/1042\t Loss 1.353113 XentLoss 1.235727 CenterLoss 0.117386\n",
      "Batch 1000/1042\t Loss 1.355380 XentLoss 1.237993 CenterLoss 0.117386\n"
     ]
    },
    {
     "data": {
      "application/vnd.jupyter.widget-view+json": {
       "model_id": "2f14f4706bfa4cc2806e9d0a139556bb",
       "version_major": 2,
       "version_minor": 0
      },
      "text/plain": [
       "HBox(children=(IntProgress(value=0, layout=Layout(flex='2'), max=53), HTML(value='')), layout=Layout(display='…"
      ]
     },
     "metadata": {},
     "output_type": "display_data"
    },
    {
     "name": "stdout",
     "output_type": "stream",
     "text": [
      "\n",
      "epoch #13, val accuracy: 0.322102427482605\n"
     ]
    },
    {
     "data": {
      "application/vnd.jupyter.widget-view+json": {
       "model_id": "cc80d095aff14cc6a5a2e9226b3087a4",
       "version_major": 2,
       "version_minor": 0
      },
      "text/plain": [
       "HBox(children=(IntProgress(value=0, layout=Layout(flex='2'), max=38), HTML(value='')), layout=Layout(display='…"
      ]
     },
     "metadata": {},
     "output_type": "display_data"
    },
    {
     "name": "stdout",
     "output_type": "stream",
     "text": [
      "\n",
      "epoch #13, sv eer: 0.09817910765626664\n",
      "------------------------------\n",
      "curr_lr: 0.1\n",
      "Batch 100/1042\t Loss 1.235879 XentLoss 1.117157 CenterLoss 0.118723\n",
      "Batch 200/1042\t Loss 1.250169 XentLoss 1.130877 CenterLoss 0.119292\n",
      "Batch 300/1042\t Loss 1.262698 XentLoss 1.143137 CenterLoss 0.119561\n",
      "Batch 400/1042\t Loss 1.274923 XentLoss 1.155430 CenterLoss 0.119493\n",
      "Batch 500/1042\t Loss 1.283431 XentLoss 1.163881 CenterLoss 0.119550\n",
      "Batch 600/1042\t Loss 1.290055 XentLoss 1.170387 CenterLoss 0.119668\n",
      "Batch 700/1042\t Loss 1.292008 XentLoss 1.172473 CenterLoss 0.119534\n",
      "Batch 800/1042\t Loss 1.291284 XentLoss 1.171607 CenterLoss 0.119677\n",
      "Batch 900/1042\t Loss 1.295773 XentLoss 1.175916 CenterLoss 0.119857\n",
      "Batch 1000/1042\t Loss 1.295723 XentLoss 1.175736 CenterLoss 0.119987\n"
     ]
    },
    {
     "data": {
      "application/vnd.jupyter.widget-view+json": {
       "model_id": "1da88d8f2a1643fea2f81962893900a9",
       "version_major": 2,
       "version_minor": 0
      },
      "text/plain": [
       "HBox(children=(IntProgress(value=0, layout=Layout(flex='2'), max=53), HTML(value='')), layout=Layout(display='…"
      ]
     },
     "metadata": {},
     "output_type": "display_data"
    },
    {
     "name": "stdout",
     "output_type": "stream",
     "text": [
      "\n",
      "epoch #14, val accuracy: 0.16349393129348755\n"
     ]
    },
    {
     "data": {
      "application/vnd.jupyter.widget-view+json": {
       "model_id": "83569b0b6ac04d4ab0fa34d1752141ce",
       "version_major": 2,
       "version_minor": 0
      },
      "text/plain": [
       "HBox(children=(IntProgress(value=0, layout=Layout(flex='2'), max=38), HTML(value='')), layout=Layout(display='…"
      ]
     },
     "metadata": {},
     "output_type": "display_data"
    },
    {
     "name": "stdout",
     "output_type": "stream",
     "text": [
      "\n",
      "epoch #14, sv eer: 0.10637844744968587\n",
      "------------------------------\n",
      "curr_lr: 0.1\n",
      "Batch 100/1042\t Loss 1.188741 XentLoss 1.068315 CenterLoss 0.120426\n",
      "Batch 200/1042\t Loss 1.225777 XentLoss 1.104176 CenterLoss 0.121601\n",
      "Batch 300/1042\t Loss 1.225933 XentLoss 1.103974 CenterLoss 0.121959\n",
      "Batch 400/1042\t Loss 1.224273 XentLoss 1.101868 CenterLoss 0.122405\n",
      "Batch 500/1042\t Loss 1.237297 XentLoss 1.114621 CenterLoss 0.122676\n",
      "Batch 600/1042\t Loss 1.239782 XentLoss 1.117243 CenterLoss 0.122538\n",
      "Batch 700/1042\t Loss 1.245523 XentLoss 1.122824 CenterLoss 0.122699\n",
      "Batch 800/1042\t Loss 1.249232 XentLoss 1.126440 CenterLoss 0.122792\n",
      "Batch 900/1042\t Loss 1.248396 XentLoss 1.125712 CenterLoss 0.122685\n",
      "Batch 1000/1042\t Loss 1.248011 XentLoss 1.125354 CenterLoss 0.122657\n"
     ]
    },
    {
     "data": {
      "application/vnd.jupyter.widget-view+json": {
       "model_id": "c229226667234aff92780b5da54c5bae",
       "version_major": 2,
       "version_minor": 0
      },
      "text/plain": [
       "HBox(children=(IntProgress(value=0, layout=Layout(flex='2'), max=53), HTML(value='')), layout=Layout(display='…"
      ]
     },
     "metadata": {},
     "output_type": "display_data"
    },
    {
     "name": "stdout",
     "output_type": "stream",
     "text": [
      "\n",
      "epoch #15, val accuracy: 0.26324546337127686\n"
     ]
    },
    {
     "data": {
      "application/vnd.jupyter.widget-view+json": {
       "model_id": "14098a5d3d9846efa2dfb82fb0915a44",
       "version_major": 2,
       "version_minor": 0
      },
      "text/plain": [
       "HBox(children=(IntProgress(value=0, layout=Layout(flex='2'), max=38), HTML(value='')), layout=Layout(display='…"
      ]
     },
     "metadata": {},
     "output_type": "display_data"
    },
    {
     "name": "stdout",
     "output_type": "stream",
     "text": [
      "\n",
      "epoch #15, sv eer: 0.09588968161005218\n",
      "------------------------------\n",
      "curr_lr: 0.1\n",
      "Batch 100/1042\t Loss 1.196246 XentLoss 1.073321 CenterLoss 0.122925\n",
      "Batch 200/1042\t Loss 1.178589 XentLoss 1.054725 CenterLoss 0.123864\n",
      "Batch 300/1042\t Loss 1.187858 XentLoss 1.063992 CenterLoss 0.123866\n",
      "Batch 400/1042\t Loss 1.193887 XentLoss 1.070008 CenterLoss 0.123880\n",
      "Batch 500/1042\t Loss 1.195461 XentLoss 1.071568 CenterLoss 0.123893\n",
      "Batch 600/1042\t Loss 1.198970 XentLoss 1.075303 CenterLoss 0.123666\n",
      "Batch 700/1042\t Loss 1.204000 XentLoss 1.080355 CenterLoss 0.123644\n",
      "Batch 800/1042\t Loss 1.205592 XentLoss 1.081779 CenterLoss 0.123813\n",
      "Batch 900/1042\t Loss 1.206774 XentLoss 1.082875 CenterLoss 0.123900\n",
      "Batch 1000/1042\t Loss 1.209848 XentLoss 1.085927 CenterLoss 0.123921\n"
     ]
    },
    {
     "data": {
      "application/vnd.jupyter.widget-view+json": {
       "model_id": "641da5cdddc14457a1343f22a3bc8ec0",
       "version_major": 2,
       "version_minor": 0
      },
      "text/plain": [
       "HBox(children=(IntProgress(value=0, layout=Layout(flex='2'), max=53), HTML(value='')), layout=Layout(display='…"
      ]
     },
     "metadata": {},
     "output_type": "display_data"
    },
    {
     "name": "stdout",
     "output_type": "stream",
     "text": [
      "\n",
      "epoch #16, val accuracy: 0.25496965646743774\n"
     ]
    },
    {
     "data": {
      "application/vnd.jupyter.widget-view+json": {
       "model_id": "dc3f6b295f5e47bc8838c7e0b861106f",
       "version_major": 2,
       "version_minor": 0
      },
      "text/plain": [
       "HBox(children=(IntProgress(value=0, layout=Layout(flex='2'), max=38), HTML(value='')), layout=Layout(display='…"
      ]
     },
     "metadata": {},
     "output_type": "display_data"
    },
    {
     "name": "stdout",
     "output_type": "stream",
     "text": [
      "\n",
      "epoch #16, sv eer: 0.10776275157065275\n",
      "------------------------------\n",
      "curr_lr: 0.1\n",
      "Batch 100/1042\t Loss 1.102141 XentLoss 0.977215 CenterLoss 0.124927\n",
      "Batch 200/1042\t Loss 1.127121 XentLoss 1.001265 CenterLoss 0.125856\n",
      "Batch 300/1042\t Loss 1.133176 XentLoss 1.007168 CenterLoss 0.126008\n",
      "Batch 400/1042\t Loss 1.150042 XentLoss 1.023880 CenterLoss 0.126162\n",
      "Batch 500/1042\t Loss 1.158011 XentLoss 1.031919 CenterLoss 0.126092\n",
      "Batch 600/1042\t Loss 1.161327 XentLoss 1.035234 CenterLoss 0.126093\n",
      "Batch 700/1042\t Loss 1.163629 XentLoss 1.037543 CenterLoss 0.126086\n",
      "Batch 800/1042\t Loss 1.166471 XentLoss 1.040558 CenterLoss 0.125913\n",
      "Batch 900/1042\t Loss 1.168400 XentLoss 1.042638 CenterLoss 0.125761\n",
      "Batch 1000/1042\t Loss 1.170233 XentLoss 1.044562 CenterLoss 0.125671\n"
     ]
    },
    {
     "data": {
      "application/vnd.jupyter.widget-view+json": {
       "model_id": "3ac0643892db4388afbfe6461b5c7844",
       "version_major": 2,
       "version_minor": 0
      },
      "text/plain": [
       "HBox(children=(IntProgress(value=0, layout=Layout(flex='2'), max=53), HTML(value='')), layout=Layout(display='…"
      ]
     },
     "metadata": {},
     "output_type": "display_data"
    },
    {
     "name": "stdout",
     "output_type": "stream",
     "text": [
      "\n",
      "epoch #17, val accuracy: 0.3251347839832306\n"
     ]
    },
    {
     "data": {
      "application/vnd.jupyter.widget-view+json": {
       "model_id": "ce3c40d470294e468d1c588105a3fe70",
       "version_major": 2,
       "version_minor": 0
      },
      "text/plain": [
       "HBox(children=(IntProgress(value=0, layout=Layout(flex='2'), max=38), HTML(value='')), layout=Layout(display='…"
      ]
     },
     "metadata": {},
     "output_type": "display_data"
    },
    {
     "name": "stdout",
     "output_type": "stream",
     "text": [
      "\n",
      "epoch #17, sv eer: 0.09535725694814184\n",
      "------------------------------\n",
      "curr_lr: 0.1\n",
      "Batch 100/1042\t Loss 1.086204 XentLoss 0.959265 CenterLoss 0.126940\n",
      "Batch 200/1042\t Loss 1.090829 XentLoss 0.963704 CenterLoss 0.127125\n",
      "Batch 300/1042\t Loss 1.114096 XentLoss 0.986813 CenterLoss 0.127283\n",
      "Batch 400/1042\t Loss 1.120674 XentLoss 0.993460 CenterLoss 0.127213\n",
      "Batch 500/1042\t Loss 1.127976 XentLoss 1.000873 CenterLoss 0.127102\n",
      "Batch 600/1042\t Loss 1.125604 XentLoss 0.998573 CenterLoss 0.127031\n",
      "Batch 700/1042\t Loss 1.133250 XentLoss 1.006003 CenterLoss 0.127248\n",
      "Batch 800/1042\t Loss 1.137006 XentLoss 1.009701 CenterLoss 0.127305\n",
      "Batch 900/1042\t Loss 1.138801 XentLoss 1.011524 CenterLoss 0.127277\n",
      "Batch 1000/1042\t Loss 1.141549 XentLoss 1.014189 CenterLoss 0.127360\n"
     ]
    },
    {
     "data": {
      "application/vnd.jupyter.widget-view+json": {
       "model_id": "de3c4fe97d4c48a8be5fdb48c8d0f745",
       "version_major": 2,
       "version_minor": 0
      },
      "text/plain": [
       "HBox(children=(IntProgress(value=0, layout=Layout(flex='2'), max=53), HTML(value='')), layout=Layout(display='…"
      ]
     },
     "metadata": {},
     "output_type": "display_data"
    },
    {
     "name": "stdout",
     "output_type": "stream",
     "text": [
      "\n",
      "epoch #18, val accuracy: 0.1745283007621765\n"
     ]
    },
    {
     "data": {
      "application/vnd.jupyter.widget-view+json": {
       "model_id": "8006acfb9b754990a9c10f5a8936bac3",
       "version_major": 2,
       "version_minor": 0
      },
      "text/plain": [
       "HBox(children=(IntProgress(value=0, layout=Layout(flex='2'), max=38), HTML(value='')), layout=Layout(display='…"
      ]
     },
     "metadata": {},
     "output_type": "display_data"
    },
    {
     "name": "stdout",
     "output_type": "stream",
     "text": [
      "\n",
      "epoch #18, sv eer: 0.10653817484825898\n",
      "------------------------------\n",
      "curr_lr: 0.1\n",
      "Batch 100/1042\t Loss 1.049100 XentLoss 0.921473 CenterLoss 0.127627\n",
      "Batch 200/1042\t Loss 1.060629 XentLoss 0.932204 CenterLoss 0.128425\n",
      "Batch 300/1042\t Loss 1.065704 XentLoss 0.937421 CenterLoss 0.128283\n",
      "Batch 400/1042\t Loss 1.068669 XentLoss 0.940550 CenterLoss 0.128119\n",
      "Batch 500/1042\t Loss 1.080234 XentLoss 0.951714 CenterLoss 0.128521\n",
      "Batch 600/1042\t Loss 1.087606 XentLoss 0.958935 CenterLoss 0.128671\n",
      "Batch 700/1042\t Loss 1.090319 XentLoss 0.961895 CenterLoss 0.128424\n",
      "Batch 800/1042\t Loss 1.093541 XentLoss 0.965089 CenterLoss 0.128452\n",
      "Batch 900/1042\t Loss 1.101792 XentLoss 0.973314 CenterLoss 0.128478\n",
      "Batch 1000/1042\t Loss 1.106351 XentLoss 0.977801 CenterLoss 0.128550\n"
     ]
    },
    {
     "data": {
      "application/vnd.jupyter.widget-view+json": {
       "model_id": "2beae50ef00c46cc9cf4202ab85f963a",
       "version_major": 2,
       "version_minor": 0
      },
      "text/plain": [
       "HBox(children=(IntProgress(value=0, layout=Layout(flex='2'), max=53), HTML(value='')), layout=Layout(display='…"
      ]
     },
     "metadata": {},
     "output_type": "display_data"
    },
    {
     "name": "stdout",
     "output_type": "stream",
     "text": [
      "\n",
      "epoch #19, val accuracy: 0.3352847099304199\n"
     ]
    },
    {
     "data": {
      "application/vnd.jupyter.widget-view+json": {
       "model_id": "07b606a47b474a82b090638f8b233962",
       "version_major": 2,
       "version_minor": 0
      },
      "text/plain": [
       "HBox(children=(IntProgress(value=0, layout=Layout(flex='2'), max=38), HTML(value='')), layout=Layout(display='…"
      ]
     },
     "metadata": {},
     "output_type": "display_data"
    },
    {
     "name": "stdout",
     "output_type": "stream",
     "text": [
      "\n",
      "epoch #19, sv eer: 0.08944734320093707\n",
      "------------------------------\n",
      "curr_lr: 0.01\n",
      "Batch 100/1042\t Loss 1.038476 XentLoss 0.909794 CenterLoss 0.128683\n",
      "Batch 200/1042\t Loss 1.018999 XentLoss 0.889845 CenterLoss 0.129153\n",
      "Batch 300/1042\t Loss 1.028780 XentLoss 0.899866 CenterLoss 0.128914\n",
      "Batch 400/1042\t Loss 1.045091 XentLoss 0.915891 CenterLoss 0.129200\n",
      "Batch 500/1042\t Loss 1.049267 XentLoss 0.919655 CenterLoss 0.129613\n",
      "Batch 600/1042\t Loss 1.061548 XentLoss 0.931598 CenterLoss 0.129950\n",
      "Batch 700/1042\t Loss 1.067716 XentLoss 0.937729 CenterLoss 0.129987\n",
      "Batch 800/1042\t Loss 1.071858 XentLoss 0.941814 CenterLoss 0.130043\n",
      "Batch 900/1042\t Loss 1.077000 XentLoss 0.946916 CenterLoss 0.130084\n",
      "Batch 1000/1042\t Loss 1.079525 XentLoss 0.949408 CenterLoss 0.130117\n"
     ]
    },
    {
     "data": {
      "application/vnd.jupyter.widget-view+json": {
       "model_id": "b8801e1001e34c63ada96b41c3c75efe",
       "version_major": 2,
       "version_minor": 0
      },
      "text/plain": [
       "HBox(children=(IntProgress(value=0, layout=Layout(flex='2'), max=53), HTML(value='')), layout=Layout(display='…"
      ]
     },
     "metadata": {},
     "output_type": "display_data"
    },
    {
     "name": "stdout",
     "output_type": "stream",
     "text": [
      "\n",
      "epoch #20, val accuracy: 0.3745367228984833\n"
     ]
    },
    {
     "data": {
      "application/vnd.jupyter.widget-view+json": {
       "model_id": "47fd61f3791944a6957535a76de8e382",
       "version_major": 2,
       "version_minor": 0
      },
      "text/plain": [
       "HBox(children=(IntProgress(value=0, layout=Layout(flex='2'), max=38), HTML(value='')), layout=Layout(display='…"
      ]
     },
     "metadata": {},
     "output_type": "display_data"
    },
    {
     "name": "stdout",
     "output_type": "stream",
     "text": [
      "\n",
      "epoch #20, sv eer: 0.0953040144819508\n",
      "------------------------------\n",
      "curr_lr: 0.01\n",
      "Batch 100/1042\t Loss 0.997559 XentLoss 0.866437 CenterLoss 0.131122\n",
      "Batch 200/1042\t Loss 1.010697 XentLoss 0.880243 CenterLoss 0.130454\n",
      "Batch 300/1042\t Loss 1.028257 XentLoss 0.896796 CenterLoss 0.131461\n",
      "Batch 400/1042\t Loss 1.033421 XentLoss 0.901846 CenterLoss 0.131575\n",
      "Batch 500/1042\t Loss 1.042051 XentLoss 0.910290 CenterLoss 0.131761\n",
      "Batch 600/1042\t Loss 1.043702 XentLoss 0.912082 CenterLoss 0.131620\n",
      "Batch 700/1042\t Loss 1.051000 XentLoss 0.919394 CenterLoss 0.131605\n",
      "Batch 800/1042\t Loss 1.055615 XentLoss 0.923888 CenterLoss 0.131727\n",
      "Batch 900/1042\t Loss 1.053015 XentLoss 0.921456 CenterLoss 0.131559\n",
      "Batch 1000/1042\t Loss 1.054619 XentLoss 0.922947 CenterLoss 0.131672\n"
     ]
    },
    {
     "data": {
      "application/vnd.jupyter.widget-view+json": {
       "model_id": "08a8573df9c5486b8243f6ae6926c537",
       "version_major": 2,
       "version_minor": 0
      },
      "text/plain": [
       "HBox(children=(IntProgress(value=0, layout=Layout(flex='2'), max=53), HTML(value='')), layout=Layout(display='…"
      ]
     },
     "metadata": {},
     "output_type": "display_data"
    },
    {
     "name": "stdout",
     "output_type": "stream",
     "text": [
      "\n",
      "epoch #21, val accuracy: 0.3154059946537018\n"
     ]
    },
    {
     "data": {
      "application/vnd.jupyter.widget-view+json": {
       "model_id": "0824d4fdefbf47ce8376391aeda91423",
       "version_major": 2,
       "version_minor": 0
      },
      "text/plain": [
       "HBox(children=(IntProgress(value=0, layout=Layout(flex='2'), max=38), HTML(value='')), layout=Layout(display='…"
      ]
     },
     "metadata": {},
     "output_type": "display_data"
    },
    {
     "name": "stdout",
     "output_type": "stream",
     "text": [
      "\n",
      "epoch #21, sv eer: 0.09759344052816527\n",
      "------------------------------\n",
      "curr_lr: 0.01\n",
      "Batch 100/1042\t Loss 0.921813 XentLoss 0.791090 CenterLoss 0.130723\n",
      "Batch 200/1042\t Loss 0.963525 XentLoss 0.832167 CenterLoss 0.131358\n",
      "Batch 300/1042\t Loss 0.981322 XentLoss 0.849616 CenterLoss 0.131705\n",
      "Batch 400/1042\t Loss 0.988963 XentLoss 0.856770 CenterLoss 0.132193\n",
      "Batch 500/1042\t Loss 1.000970 XentLoss 0.868437 CenterLoss 0.132533\n",
      "Batch 600/1042\t Loss 1.009807 XentLoss 0.877144 CenterLoss 0.132663\n",
      "Batch 700/1042\t Loss 1.013970 XentLoss 0.881286 CenterLoss 0.132684\n",
      "Batch 800/1042\t Loss 1.016037 XentLoss 0.883443 CenterLoss 0.132594\n",
      "Batch 900/1042\t Loss 1.022717 XentLoss 0.889994 CenterLoss 0.132723\n",
      "Batch 1000/1042\t Loss 1.025944 XentLoss 0.893367 CenterLoss 0.132576\n"
     ]
    },
    {
     "data": {
      "application/vnd.jupyter.widget-view+json": {
       "model_id": "b61555cc441b40e2ba07eadb16280edc",
       "version_major": 2,
       "version_minor": 0
      },
      "text/plain": [
       "HBox(children=(IntProgress(value=0, layout=Layout(flex='2'), max=53), HTML(value='')), layout=Layout(display='…"
      ]
     },
     "metadata": {},
     "output_type": "display_data"
    },
    {
     "name": "stdout",
     "output_type": "stream",
     "text": [
      "\n",
      "epoch #22, val accuracy: 0.3303150236606598\n"
     ]
    },
    {
     "data": {
      "application/vnd.jupyter.widget-view+json": {
       "model_id": "2abbb6182b7649abbc9ecd24e05c99e7",
       "version_major": 2,
       "version_minor": 0
      },
      "text/plain": [
       "HBox(children=(IntProgress(value=0, layout=Layout(flex='2'), max=38), HTML(value='')), layout=Layout(display='…"
      ]
     },
     "metadata": {},
     "output_type": "display_data"
    },
    {
     "name": "stdout",
     "output_type": "stream",
     "text": [
      "\n",
      "epoch #22, sv eer: 0.09471834735384943\n",
      "------------------------------\n",
      "curr_lr: 0.01\n",
      "Batch 100/1042\t Loss 0.922496 XentLoss 0.791149 CenterLoss 0.131347\n",
      "Batch 200/1042\t Loss 0.954103 XentLoss 0.821456 CenterLoss 0.132647\n",
      "Batch 300/1042\t Loss 0.972347 XentLoss 0.839450 CenterLoss 0.132898\n",
      "Batch 400/1042\t Loss 0.980626 XentLoss 0.847595 CenterLoss 0.133031\n",
      "Batch 500/1042\t Loss 0.988861 XentLoss 0.855871 CenterLoss 0.132991\n",
      "Batch 600/1042\t Loss 1.004012 XentLoss 0.871009 CenterLoss 0.133003\n",
      "Batch 700/1042\t Loss 1.005174 XentLoss 0.872124 CenterLoss 0.133050\n",
      "Batch 800/1042\t Loss 1.007420 XentLoss 0.874608 CenterLoss 0.132813\n",
      "Batch 900/1042\t Loss 1.010973 XentLoss 0.878142 CenterLoss 0.132831\n",
      "Batch 1000/1042\t Loss 1.014823 XentLoss 0.881957 CenterLoss 0.132866\n"
     ]
    },
    {
     "data": {
      "application/vnd.jupyter.widget-view+json": {
       "model_id": "75f42446ec3241f6967d6ad47dbb6ee2",
       "version_major": 2,
       "version_minor": 0
      },
      "text/plain": [
       "HBox(children=(IntProgress(value=0, layout=Layout(flex='2'), max=53), HTML(value='')), layout=Layout(display='…"
      ]
     },
     "metadata": {},
     "output_type": "display_data"
    },
    {
     "name": "stdout",
     "output_type": "stream",
     "text": [
      "\n",
      "epoch #23, val accuracy: 0.2957378923892975\n"
     ]
    },
    {
     "data": {
      "application/vnd.jupyter.widget-view+json": {
       "model_id": "4165a6a87e23448eb76f8b3389b07403",
       "version_major": 2,
       "version_minor": 0
      },
      "text/plain": [
       "HBox(children=(IntProgress(value=0, layout=Layout(flex='2'), max=38), HTML(value='')), layout=Layout(display='…"
      ]
     },
     "metadata": {},
     "output_type": "display_data"
    },
    {
     "name": "stdout",
     "output_type": "stream",
     "text": [
      "\n",
      "epoch #23, sv eer: 0.09248216377382601\n",
      "------------------------------\n",
      "curr_lr: 0.01\n",
      "Batch 100/1042\t Loss 0.913177 XentLoss 0.782839 CenterLoss 0.130338\n",
      "Batch 200/1042\t Loss 0.930252 XentLoss 0.798918 CenterLoss 0.131333\n",
      "Batch 300/1042\t Loss 0.949571 XentLoss 0.817419 CenterLoss 0.132152\n",
      "Batch 400/1042\t Loss 0.959993 XentLoss 0.827582 CenterLoss 0.132410\n",
      "Batch 500/1042\t Loss 0.971125 XentLoss 0.838326 CenterLoss 0.132799\n",
      "Batch 600/1042\t Loss 0.975919 XentLoss 0.842974 CenterLoss 0.132945\n",
      "Batch 700/1042\t Loss 0.981479 XentLoss 0.848543 CenterLoss 0.132936\n",
      "Batch 800/1042\t Loss 0.986527 XentLoss 0.853423 CenterLoss 0.133104\n",
      "Batch 900/1042\t Loss 0.993182 XentLoss 0.860104 CenterLoss 0.133078\n",
      "Batch 1000/1042\t Loss 0.996567 XentLoss 0.863455 CenterLoss 0.133112\n"
     ]
    },
    {
     "data": {
      "application/vnd.jupyter.widget-view+json": {
       "model_id": "4d696bc18ecd4372a6d4dbc9e4b1d9c1",
       "version_major": 2,
       "version_minor": 0
      },
      "text/plain": [
       "HBox(children=(IntProgress(value=0, layout=Layout(flex='2'), max=53), HTML(value='')), layout=Layout(display='…"
      ]
     },
     "metadata": {},
     "output_type": "display_data"
    },
    {
     "name": "stdout",
     "output_type": "stream",
     "text": [
      "\n",
      "epoch #24, val accuracy: 0.26615145802497864\n"
     ]
    },
    {
     "data": {
      "application/vnd.jupyter.widget-view+json": {
       "model_id": "95c0cf9d85ed4de6a26d5ca88eaa3360",
       "version_major": 2,
       "version_minor": 0
      },
      "text/plain": [
       "HBox(children=(IntProgress(value=0, layout=Layout(flex='2'), max=38), HTML(value='')), layout=Layout(display='…"
      ]
     },
     "metadata": {},
     "output_type": "display_data"
    },
    {
     "name": "stdout",
     "output_type": "stream",
     "text": [
      "\n",
      "epoch #24, sv eer: 0.09354701309764668\n",
      "------------------------------\n",
      "curr_lr: 0.01\n",
      "Batch 100/1042\t Loss 0.905584 XentLoss 0.773616 CenterLoss 0.131968\n",
      "Batch 200/1042\t Loss 0.950309 XentLoss 0.817481 CenterLoss 0.132828\n",
      "Batch 300/1042\t Loss 0.951384 XentLoss 0.818072 CenterLoss 0.133312\n",
      "Batch 400/1042\t Loss 0.959314 XentLoss 0.825743 CenterLoss 0.133571\n",
      "Batch 500/1042\t Loss 0.964626 XentLoss 0.830931 CenterLoss 0.133695\n",
      "Batch 600/1042\t Loss 0.970018 XentLoss 0.836259 CenterLoss 0.133758\n",
      "Batch 700/1042\t Loss 0.973416 XentLoss 0.839562 CenterLoss 0.133854\n",
      "Batch 800/1042\t Loss 0.978900 XentLoss 0.845060 CenterLoss 0.133840\n",
      "Batch 900/1042\t Loss 0.985670 XentLoss 0.851873 CenterLoss 0.133797\n",
      "Batch 1000/1042\t Loss 0.987672 XentLoss 0.853917 CenterLoss 0.133756\n"
     ]
    },
    {
     "data": {
      "application/vnd.jupyter.widget-view+json": {
       "model_id": "7fca44b8d6754b158e3a7cd5aef67ac2",
       "version_major": 2,
       "version_minor": 0
      },
      "text/plain": [
       "HBox(children=(IntProgress(value=0, layout=Layout(flex='2'), max=53), HTML(value='')), layout=Layout(display='…"
      ]
     },
     "metadata": {},
     "output_type": "display_data"
    },
    {
     "name": "stdout",
     "output_type": "stream",
     "text": [
      "\n",
      "epoch #25, val accuracy: 0.19539673626422882\n"
     ]
    },
    {
     "data": {
      "application/vnd.jupyter.widget-view+json": {
       "model_id": "e7aa1394fde74461abcbf8a96bb5c686",
       "version_major": 2,
       "version_minor": 0
      },
      "text/plain": [
       "HBox(children=(IntProgress(value=0, layout=Layout(flex='2'), max=38), HTML(value='')), layout=Layout(display='…"
      ]
     },
     "metadata": {},
     "output_type": "display_data"
    },
    {
     "name": "stdout",
     "output_type": "stream",
     "text": [
      "\n",
      "epoch #25, sv eer: 0.109732722819721\n",
      "------------------------------\n",
      "curr_lr: 0.01\n",
      "Batch 100/1042\t Loss 0.903191 XentLoss 0.769396 CenterLoss 0.133795\n",
      "Batch 200/1042\t Loss 0.925274 XentLoss 0.791000 CenterLoss 0.134274\n",
      "Batch 300/1042\t Loss 0.934550 XentLoss 0.799919 CenterLoss 0.134631\n",
      "Batch 400/1042\t Loss 0.944410 XentLoss 0.809832 CenterLoss 0.134578\n",
      "Batch 500/1042\t Loss 0.945579 XentLoss 0.810896 CenterLoss 0.134683\n",
      "Batch 600/1042\t Loss 0.952785 XentLoss 0.818147 CenterLoss 0.134638\n",
      "Batch 700/1042\t Loss 0.952983 XentLoss 0.818310 CenterLoss 0.134673\n",
      "Batch 800/1042\t Loss 0.959399 XentLoss 0.824731 CenterLoss 0.134668\n",
      "Batch 900/1042\t Loss 0.963623 XentLoss 0.828917 CenterLoss 0.134706\n",
      "Batch 1000/1042\t Loss 0.968663 XentLoss 0.833994 CenterLoss 0.134669\n"
     ]
    },
    {
     "data": {
      "application/vnd.jupyter.widget-view+json": {
       "model_id": "9c369ed246924e2c9b570487f7c271d9",
       "version_major": 2,
       "version_minor": 0
      },
      "text/plain": [
       "HBox(children=(IntProgress(value=0, layout=Layout(flex='2'), max=53), HTML(value='')), layout=Layout(display='…"
      ]
     },
     "metadata": {},
     "output_type": "display_data"
    },
    {
     "name": "stdout",
     "output_type": "stream",
     "text": [
      "\n",
      "epoch #26, val accuracy: 0.2715843915939331\n"
     ]
    },
    {
     "data": {
      "application/vnd.jupyter.widget-view+json": {
       "model_id": "1bd195d60b77453d80200944a3bd3706",
       "version_major": 2,
       "version_minor": 0
      },
      "text/plain": [
       "HBox(children=(IntProgress(value=0, layout=Layout(flex='2'), max=38), HTML(value='')), layout=Layout(display='…"
      ]
     },
     "metadata": {},
     "output_type": "display_data"
    },
    {
     "name": "stdout",
     "output_type": "stream",
     "text": [
      "\n",
      "epoch #26, sv eer: 0.09003301032903845\n",
      "------------------------------\n",
      "curr_lr: 0.01\n",
      "Batch 100/1042\t Loss 0.893480 XentLoss 0.759337 CenterLoss 0.134144\n",
      "Batch 200/1042\t Loss 0.892347 XentLoss 0.758590 CenterLoss 0.133756\n",
      "Batch 300/1042\t Loss 0.907876 XentLoss 0.773366 CenterLoss 0.134510\n",
      "Batch 400/1042\t Loss 0.924471 XentLoss 0.789681 CenterLoss 0.134789\n",
      "Batch 500/1042\t Loss 0.926413 XentLoss 0.791743 CenterLoss 0.134670\n",
      "Batch 600/1042\t Loss 0.939090 XentLoss 0.804293 CenterLoss 0.134797\n",
      "Batch 700/1042\t Loss 0.942313 XentLoss 0.807566 CenterLoss 0.134747\n",
      "Batch 800/1042\t Loss 0.946194 XentLoss 0.811493 CenterLoss 0.134701\n",
      "Batch 900/1042\t Loss 0.949062 XentLoss 0.814387 CenterLoss 0.134676\n",
      "Batch 1000/1042\t Loss 0.954159 XentLoss 0.819306 CenterLoss 0.134853\n"
     ]
    },
    {
     "data": {
      "application/vnd.jupyter.widget-view+json": {
       "model_id": "78418f73d0ac4c19906da83888b5f4a1",
       "version_major": 2,
       "version_minor": 0
      },
      "text/plain": [
       "HBox(children=(IntProgress(value=0, layout=Layout(flex='2'), max=53), HTML(value='')), layout=Layout(display='…"
      ]
     },
     "metadata": {},
     "output_type": "display_data"
    },
    {
     "name": "stdout",
     "output_type": "stream",
     "text": [
      "\n",
      "epoch #27, val accuracy: 0.2752695381641388\n"
     ]
    },
    {
     "data": {
      "application/vnd.jupyter.widget-view+json": {
       "model_id": "b76fa0599feb4f9ebc4cfb8c9c2b517d",
       "version_major": 2,
       "version_minor": 0
      },
      "text/plain": [
       "HBox(children=(IntProgress(value=0, layout=Layout(flex='2'), max=38), HTML(value='')), layout=Layout(display='…"
      ]
     },
     "metadata": {},
     "output_type": "display_data"
    },
    {
     "name": "stdout",
     "output_type": "stream",
     "text": [
      "\n",
      "epoch #27, sv eer: 0.09738047066340112\n",
      "------------------------------\n",
      "curr_lr: 0.01\n",
      "Batch 100/1042\t Loss 0.855284 XentLoss 0.721092 CenterLoss 0.134193\n",
      "Batch 200/1042\t Loss 0.881336 XentLoss 0.747366 CenterLoss 0.133970\n",
      "Batch 300/1042\t Loss 0.892473 XentLoss 0.758804 CenterLoss 0.133670\n",
      "Batch 400/1042\t Loss 0.899855 XentLoss 0.765547 CenterLoss 0.134308\n",
      "Batch 500/1042\t Loss 0.907808 XentLoss 0.773522 CenterLoss 0.134286\n",
      "Batch 600/1042\t Loss 0.914379 XentLoss 0.779761 CenterLoss 0.134619\n",
      "Batch 700/1042\t Loss 0.924724 XentLoss 0.790029 CenterLoss 0.134694\n",
      "Batch 800/1042\t Loss 0.927939 XentLoss 0.793145 CenterLoss 0.134794\n",
      "Batch 900/1042\t Loss 0.931586 XentLoss 0.796646 CenterLoss 0.134940\n",
      "Batch 1000/1042\t Loss 0.933874 XentLoss 0.798851 CenterLoss 0.135023\n"
     ]
    },
    {
     "data": {
      "application/vnd.jupyter.widget-view+json": {
       "model_id": "48295e82efa24766bf30b6ecca830686",
       "version_major": 2,
       "version_minor": 0
      },
      "text/plain": [
       "HBox(children=(IntProgress(value=0, layout=Layout(flex='2'), max=53), HTML(value='')), layout=Layout(display='…"
      ]
     },
     "metadata": {},
     "output_type": "display_data"
    },
    {
     "name": "stdout",
     "output_type": "stream",
     "text": [
      "\n",
      "epoch #28, val accuracy: 0.22079262137413025\n"
     ]
    },
    {
     "data": {
      "application/vnd.jupyter.widget-view+json": {
       "model_id": "f21cd2225aab465b94cc115b26dd111d",
       "version_major": 2,
       "version_minor": 0
      },
      "text/plain": [
       "HBox(children=(IntProgress(value=0, layout=Layout(flex='2'), max=38), HTML(value='')), layout=Layout(display='…"
      ]
     },
     "metadata": {},
     "output_type": "display_data"
    },
    {
     "name": "stdout",
     "output_type": "stream",
     "text": [
      "\n",
      "epoch #28, sv eer: 0.10669790224683208\n",
      "------------------------------\n",
      "curr_lr: 0.01\n",
      "Batch 100/1042\t Loss 0.901425 XentLoss 0.766793 CenterLoss 0.134632\n",
      "Batch 200/1042\t Loss 0.899593 XentLoss 0.764466 CenterLoss 0.135127\n",
      "Batch 300/1042\t Loss 0.907070 XentLoss 0.771628 CenterLoss 0.135442\n",
      "Batch 400/1042\t Loss 0.913591 XentLoss 0.777722 CenterLoss 0.135870\n",
      "Batch 500/1042\t Loss 0.923820 XentLoss 0.788115 CenterLoss 0.135705\n",
      "Batch 600/1042\t Loss 0.929641 XentLoss 0.793702 CenterLoss 0.135940\n",
      "Batch 700/1042\t Loss 0.931238 XentLoss 0.795383 CenterLoss 0.135855\n",
      "Batch 800/1042\t Loss 0.932559 XentLoss 0.796776 CenterLoss 0.135783\n",
      "Batch 900/1042\t Loss 0.935884 XentLoss 0.800052 CenterLoss 0.135832\n",
      "Batch 1000/1042\t Loss 0.940757 XentLoss 0.804872 CenterLoss 0.135885\n"
     ]
    },
    {
     "data": {
      "application/vnd.jupyter.widget-view+json": {
       "model_id": "9b55ffed1b844f4ba86e2b556769eba6",
       "version_major": 2,
       "version_minor": 0
      },
      "text/plain": [
       "HBox(children=(IntProgress(value=0, layout=Layout(flex='2'), max=53), HTML(value='')), layout=Layout(display='…"
      ]
     },
     "metadata": {},
     "output_type": "display_data"
    },
    {
     "name": "stdout",
     "output_type": "stream",
     "text": [
      "\n",
      "epoch #29, val accuracy: 0.32349225878715515\n"
     ]
    },
    {
     "data": {
      "application/vnd.jupyter.widget-view+json": {
       "model_id": "50453c8bcf2a466b8fc046fa09b7aa61",
       "version_major": 2,
       "version_minor": 0
      },
      "text/plain": [
       "HBox(children=(IntProgress(value=0, layout=Layout(flex='2'), max=38), HTML(value='')), layout=Layout(display='…"
      ]
     },
     "metadata": {},
     "output_type": "display_data"
    },
    {
     "name": "stdout",
     "output_type": "stream",
     "text": [
      "\n",
      "epoch #29, sv eer: 0.1011074432967735\n",
      "------------------------------\n",
      "curr_lr: 0.01\n",
      "Batch 100/1042\t Loss 0.849794 XentLoss 0.713789 CenterLoss 0.136005\n",
      "Batch 200/1042\t Loss 0.867659 XentLoss 0.732017 CenterLoss 0.135643\n",
      "Batch 300/1042\t Loss 0.867933 XentLoss 0.732423 CenterLoss 0.135511\n",
      "Batch 400/1042\t Loss 0.875606 XentLoss 0.740082 CenterLoss 0.135524\n",
      "Batch 500/1042\t Loss 0.890372 XentLoss 0.754652 CenterLoss 0.135720\n",
      "Batch 600/1042\t Loss 0.898226 XentLoss 0.762471 CenterLoss 0.135755\n",
      "Batch 700/1042\t Loss 0.901525 XentLoss 0.765787 CenterLoss 0.135737\n",
      "Batch 800/1042\t Loss 0.906503 XentLoss 0.770725 CenterLoss 0.135778\n",
      "Batch 900/1042\t Loss 0.908598 XentLoss 0.772874 CenterLoss 0.135724\n",
      "Batch 1000/1042\t Loss 0.914681 XentLoss 0.778885 CenterLoss 0.135796\n"
     ]
    },
    {
     "data": {
      "application/vnd.jupyter.widget-view+json": {
       "model_id": "dc7592ca92144567bc9e7c6c347f26fb",
       "version_major": 2,
       "version_minor": 0
      },
      "text/plain": [
       "HBox(children=(IntProgress(value=0, layout=Layout(flex='2'), max=53), HTML(value='')), layout=Layout(display='…"
      ]
     },
     "metadata": {},
     "output_type": "display_data"
    },
    {
     "name": "stdout",
     "output_type": "stream",
     "text": [
      "\n",
      "epoch #30, val accuracy: 0.13830862939357758\n"
     ]
    },
    {
     "data": {
      "application/vnd.jupyter.widget-view+json": {
       "model_id": "4acd481366d7411999a5d352f8b48751",
       "version_major": 2,
       "version_minor": 0
      },
      "text/plain": [
       "HBox(children=(IntProgress(value=0, layout=Layout(flex='2'), max=38), HTML(value='')), layout=Layout(display='…"
      ]
     },
     "metadata": {},
     "output_type": "display_data"
    },
    {
     "name": "stdout",
     "output_type": "stream",
     "text": [
      "\n",
      "epoch #30, sv eer: 0.10297092961345969\n",
      "------------------------------\n",
      "curr_lr: 0.01\n",
      "Batch 100/1042\t Loss 0.868998 XentLoss 0.733205 CenterLoss 0.135793\n",
      "Batch 200/1042\t Loss 0.874344 XentLoss 0.738476 CenterLoss 0.135868\n",
      "Batch 300/1042\t Loss 0.886279 XentLoss 0.750365 CenterLoss 0.135915\n",
      "Batch 400/1042\t Loss 0.894425 XentLoss 0.758559 CenterLoss 0.135866\n",
      "Batch 500/1042\t Loss 0.895969 XentLoss 0.760073 CenterLoss 0.135895\n",
      "Batch 600/1042\t Loss 0.897604 XentLoss 0.761715 CenterLoss 0.135890\n",
      "Batch 700/1042\t Loss 0.901863 XentLoss 0.765825 CenterLoss 0.136038\n",
      "Batch 800/1042\t Loss 0.907289 XentLoss 0.771049 CenterLoss 0.136240\n",
      "Batch 900/1042\t Loss 0.907578 XentLoss 0.771241 CenterLoss 0.136337\n",
      "Batch 1000/1042\t Loss 0.910196 XentLoss 0.773783 CenterLoss 0.136413\n"
     ]
    },
    {
     "data": {
      "application/vnd.jupyter.widget-view+json": {
       "model_id": "ade916a6f9db4a0385cb81f1cc33f246",
       "version_major": 2,
       "version_minor": 0
      },
      "text/plain": [
       "HBox(children=(IntProgress(value=0, layout=Layout(flex='2'), max=53), HTML(value='')), layout=Layout(display='…"
      ]
     },
     "metadata": {},
     "output_type": "display_data"
    },
    {
     "name": "stdout",
     "output_type": "stream",
     "text": [
      "\n",
      "epoch #31, val accuracy: 0.3946892023086548\n"
     ]
    },
    {
     "data": {
      "application/vnd.jupyter.widget-view+json": {
       "model_id": "39dfbf7cd9544c94a65e0eaf1fa985ac",
       "version_major": 2,
       "version_minor": 0
      },
      "text/plain": [
       "HBox(children=(IntProgress(value=0, layout=Layout(flex='2'), max=38), HTML(value='')), layout=Layout(display='…"
      ]
     },
     "metadata": {},
     "output_type": "display_data"
    },
    {
     "name": "stdout",
     "output_type": "stream",
     "text": [
      "\n",
      "epoch #31, sv eer: 0.09115110211905016\n",
      "------------------------------\n",
      "curr_lr: 0.01\n",
      "Batch 100/1042\t Loss 0.822069 XentLoss 0.686255 CenterLoss 0.135814\n",
      "Batch 200/1042\t Loss 0.836830 XentLoss 0.701437 CenterLoss 0.135393\n",
      "Batch 300/1042\t Loss 0.848658 XentLoss 0.713188 CenterLoss 0.135469\n",
      "Batch 400/1042\t Loss 0.865051 XentLoss 0.728989 CenterLoss 0.136062\n",
      "Batch 500/1042\t Loss 0.872309 XentLoss 0.735796 CenterLoss 0.136513\n",
      "Batch 600/1042\t Loss 0.884566 XentLoss 0.747902 CenterLoss 0.136664\n",
      "Batch 700/1042\t Loss 0.886714 XentLoss 0.750025 CenterLoss 0.136689\n",
      "Batch 800/1042\t Loss 0.888657 XentLoss 0.752067 CenterLoss 0.136590\n",
      "Batch 900/1042\t Loss 0.895652 XentLoss 0.759119 CenterLoss 0.136533\n",
      "Batch 1000/1042\t Loss 0.901192 XentLoss 0.764634 CenterLoss 0.136558\n"
     ]
    },
    {
     "data": {
      "application/vnd.jupyter.widget-view+json": {
       "model_id": "7d996dcf5a7c47b4ad9943adf454be51",
       "version_major": 2,
       "version_minor": 0
      },
      "text/plain": [
       "HBox(children=(IntProgress(value=0, layout=Layout(flex='2'), max=53), HTML(value='')), layout=Layout(display='…"
      ]
     },
     "metadata": {},
     "output_type": "display_data"
    },
    {
     "name": "stdout",
     "output_type": "stream",
     "text": [
      "\n",
      "epoch #32, val accuracy: 0.4277501702308655\n"
     ]
    },
    {
     "data": {
      "application/vnd.jupyter.widget-view+json": {
       "model_id": "4c8409a1c2494bafad0a13db32aaac2c",
       "version_major": 2,
       "version_minor": 0
      },
      "text/plain": [
       "HBox(children=(IntProgress(value=0, layout=Layout(flex='2'), max=38), HTML(value='')), layout=Layout(display='…"
      ]
     },
     "metadata": {},
     "output_type": "display_data"
    },
    {
     "name": "stdout",
     "output_type": "stream",
     "text": [
      "\n",
      "epoch #32, sv eer: 0.09285486103716324\n",
      "------------------------------\n",
      "curr_lr: 0.01\n",
      "Batch 100/1042\t Loss 0.805026 XentLoss 0.669916 CenterLoss 0.135110\n",
      "Batch 200/1042\t Loss 0.836983 XentLoss 0.700833 CenterLoss 0.136149\n",
      "Batch 300/1042\t Loss 0.846178 XentLoss 0.709477 CenterLoss 0.136702\n",
      "Batch 400/1042\t Loss 0.854796 XentLoss 0.718093 CenterLoss 0.136703\n",
      "Batch 500/1042\t Loss 0.862888 XentLoss 0.726018 CenterLoss 0.136871\n",
      "Batch 600/1042\t Loss 0.870574 XentLoss 0.733775 CenterLoss 0.136798\n",
      "Batch 700/1042\t Loss 0.873660 XentLoss 0.737077 CenterLoss 0.136583\n",
      "Batch 800/1042\t Loss 0.881971 XentLoss 0.745171 CenterLoss 0.136800\n",
      "Batch 900/1042\t Loss 0.885809 XentLoss 0.748824 CenterLoss 0.136985\n",
      "Batch 1000/1042\t Loss 0.891398 XentLoss 0.754402 CenterLoss 0.136995\n"
     ]
    },
    {
     "data": {
      "application/vnd.jupyter.widget-view+json": {
       "model_id": "85aa2cf8a72b44978fe1fadb13a07a05",
       "version_major": 2,
       "version_minor": 0
      },
      "text/plain": [
       "HBox(children=(IntProgress(value=0, layout=Layout(flex='2'), max=53), HTML(value='')), layout=Layout(display='…"
      ]
     },
     "metadata": {},
     "output_type": "display_data"
    },
    {
     "name": "stdout",
     "output_type": "stream",
     "text": [
      "\n",
      "epoch #33, val accuracy: 0.30154985189437866\n"
     ]
    },
    {
     "data": {
      "application/vnd.jupyter.widget-view+json": {
       "model_id": "1d38649e088f4761a54917298d6cba5b",
       "version_major": 2,
       "version_minor": 0
      },
      "text/plain": [
       "HBox(children=(IntProgress(value=0, layout=Layout(flex='2'), max=38), HTML(value='')), layout=Layout(display='…"
      ]
     },
     "metadata": {},
     "output_type": "display_data"
    },
    {
     "name": "stdout",
     "output_type": "stream",
     "text": [
      "\n",
      "epoch #33, sv eer: 0.09445213502289426\n",
      "------------------------------\n",
      "curr_lr: 0.01\n",
      "Batch 100/1042\t Loss 0.827303 XentLoss 0.691082 CenterLoss 0.136221\n",
      "Batch 200/1042\t Loss 0.830990 XentLoss 0.694902 CenterLoss 0.136089\n",
      "Batch 300/1042\t Loss 0.836752 XentLoss 0.700822 CenterLoss 0.135930\n",
      "Batch 400/1042\t Loss 0.846105 XentLoss 0.709690 CenterLoss 0.136415\n",
      "Batch 500/1042\t Loss 0.854904 XentLoss 0.718311 CenterLoss 0.136593\n",
      "Batch 600/1042\t Loss 0.861868 XentLoss 0.725163 CenterLoss 0.136705\n",
      "Batch 700/1042\t Loss 0.868406 XentLoss 0.731468 CenterLoss 0.136938\n",
      "Batch 800/1042\t Loss 0.875897 XentLoss 0.738649 CenterLoss 0.137248\n",
      "Batch 900/1042\t Loss 0.878609 XentLoss 0.741264 CenterLoss 0.137345\n",
      "Batch 1000/1042\t Loss 0.884850 XentLoss 0.747436 CenterLoss 0.137414\n"
     ]
    },
    {
     "data": {
      "application/vnd.jupyter.widget-view+json": {
       "model_id": "711d7db141014220b0c624880eda9449",
       "version_major": 2,
       "version_minor": 0
      },
      "text/plain": [
       "HBox(children=(IntProgress(value=0, layout=Layout(flex='2'), max=53), HTML(value='')), layout=Layout(display='…"
      ]
     },
     "metadata": {},
     "output_type": "display_data"
    },
    {
     "name": "stdout",
     "output_type": "stream",
     "text": [
      "\n",
      "epoch #34, val accuracy: 0.28472456336021423\n"
     ]
    },
    {
     "data": {
      "application/vnd.jupyter.widget-view+json": {
       "model_id": "f916a5d2fc7d42abbf4c72901eb289c2",
       "version_major": 2,
       "version_minor": 0
      },
      "text/plain": [
       "HBox(children=(IntProgress(value=0, layout=Layout(flex='2'), max=38), HTML(value='')), layout=Layout(display='…"
      ]
     },
     "metadata": {},
     "output_type": "display_data"
    },
    {
     "name": "stdout",
     "output_type": "stream",
     "text": [
      "\n",
      "epoch #34, sv eer: 0.1140986050473858\n",
      "------------------------------\n",
      "curr_lr: 0.01\n",
      "Batch 100/1042\t Loss 0.838856 XentLoss 0.702114 CenterLoss 0.136742\n",
      "Batch 200/1042\t Loss 0.823114 XentLoss 0.685834 CenterLoss 0.137280\n",
      "Batch 300/1042\t Loss 0.835736 XentLoss 0.698231 CenterLoss 0.137505\n",
      "Batch 400/1042\t Loss 0.843241 XentLoss 0.705690 CenterLoss 0.137551\n",
      "Batch 500/1042\t Loss 0.847325 XentLoss 0.709815 CenterLoss 0.137510\n",
      "Batch 600/1042\t Loss 0.854405 XentLoss 0.716706 CenterLoss 0.137700\n",
      "Batch 700/1042\t Loss 0.863126 XentLoss 0.725324 CenterLoss 0.137802\n",
      "Batch 800/1042\t Loss 0.869478 XentLoss 0.731754 CenterLoss 0.137724\n",
      "Batch 900/1042\t Loss 0.877392 XentLoss 0.739626 CenterLoss 0.137766\n",
      "Batch 1000/1042\t Loss 0.879333 XentLoss 0.741544 CenterLoss 0.137789\n"
     ]
    },
    {
     "data": {
      "application/vnd.jupyter.widget-view+json": {
       "model_id": "41d47e2964a04149bad695d2d4fb1bab",
       "version_major": 2,
       "version_minor": 0
      },
      "text/plain": [
       "HBox(children=(IntProgress(value=0, layout=Layout(flex='2'), max=53), HTML(value='')), layout=Layout(display='…"
      ]
     },
     "metadata": {},
     "output_type": "display_data"
    },
    {
     "name": "stdout",
     "output_type": "stream",
     "text": [
      "\n",
      "epoch #35, val accuracy: 0.3887087404727936\n"
     ]
    },
    {
     "data": {
      "application/vnd.jupyter.widget-view+json": {
       "model_id": "690681032f1f462c9845fa6d56f4ee94",
       "version_major": 2,
       "version_minor": 0
      },
      "text/plain": [
       "HBox(children=(IntProgress(value=0, layout=Layout(flex='2'), max=38), HTML(value='')), layout=Layout(display='…"
      ]
     },
     "metadata": {},
     "output_type": "display_data"
    },
    {
     "name": "stdout",
     "output_type": "stream",
     "text": [
      "\n",
      "epoch #35, sv eer: 0.09088488978809499\n",
      "------------------------------\n",
      "curr_lr: 0.01\n",
      "Batch 100/1042\t Loss 0.833385 XentLoss 0.696458 CenterLoss 0.136927\n",
      "Batch 200/1042\t Loss 0.812666 XentLoss 0.675806 CenterLoss 0.136860\n",
      "Batch 300/1042\t Loss 0.824124 XentLoss 0.686859 CenterLoss 0.137265\n",
      "Batch 400/1042\t Loss 0.833841 XentLoss 0.696634 CenterLoss 0.137207\n",
      "Batch 500/1042\t Loss 0.837609 XentLoss 0.700361 CenterLoss 0.137248\n",
      "Batch 600/1042\t Loss 0.847632 XentLoss 0.710456 CenterLoss 0.137176\n",
      "Batch 700/1042\t Loss 0.852219 XentLoss 0.715010 CenterLoss 0.137209\n",
      "Batch 800/1042\t Loss 0.857789 XentLoss 0.720535 CenterLoss 0.137254\n",
      "Batch 900/1042\t Loss 0.862911 XentLoss 0.725637 CenterLoss 0.137274\n",
      "Batch 1000/1042\t Loss 0.865100 XentLoss 0.727878 CenterLoss 0.137222\n"
     ]
    },
    {
     "data": {
      "application/vnd.jupyter.widget-view+json": {
       "model_id": "6d9e4a3b51c8405fa1ba30d4b71012e3",
       "version_major": 2,
       "version_minor": 0
      },
      "text/plain": [
       "HBox(children=(IntProgress(value=0, layout=Layout(flex='2'), max=53), HTML(value='')), layout=Layout(display='…"
      ]
     },
     "metadata": {},
     "output_type": "display_data"
    },
    {
     "name": "stdout",
     "output_type": "stream",
     "text": [
      "\n",
      "epoch #36, val accuracy: 0.31391090154647827\n"
     ]
    },
    {
     "data": {
      "application/vnd.jupyter.widget-view+json": {
       "model_id": "97200c046ed9414186ddd801cbfb05a0",
       "version_major": 2,
       "version_minor": 0
      },
      "text/plain": [
       "HBox(children=(IntProgress(value=0, layout=Layout(flex='2'), max=38), HTML(value='')), layout=Layout(display='…"
      ]
     },
     "metadata": {},
     "output_type": "display_data"
    },
    {
     "name": "stdout",
     "output_type": "stream",
     "text": [
      "\n",
      "epoch #36, sv eer: 0.09706101586625493\n",
      "------------------------------\n",
      "curr_lr: 0.01\n",
      "Batch 100/1042\t Loss 0.778960 XentLoss 0.642669 CenterLoss 0.136291\n",
      "Batch 200/1042\t Loss 0.797443 XentLoss 0.660949 CenterLoss 0.136495\n",
      "Batch 300/1042\t Loss 0.807751 XentLoss 0.670216 CenterLoss 0.137535\n",
      "Batch 400/1042\t Loss 0.822373 XentLoss 0.684988 CenterLoss 0.137385\n",
      "Batch 500/1042\t Loss 0.835834 XentLoss 0.698470 CenterLoss 0.137364\n",
      "Batch 600/1042\t Loss 0.844587 XentLoss 0.707172 CenterLoss 0.137415\n",
      "Batch 700/1042\t Loss 0.848553 XentLoss 0.711153 CenterLoss 0.137399\n",
      "Batch 800/1042\t Loss 0.858611 XentLoss 0.721053 CenterLoss 0.137558\n",
      "Batch 900/1042\t Loss 0.863624 XentLoss 0.726004 CenterLoss 0.137620\n",
      "Batch 1000/1042\t Loss 0.865521 XentLoss 0.727965 CenterLoss 0.137556\n"
     ]
    },
    {
     "data": {
      "application/vnd.jupyter.widget-view+json": {
       "model_id": "d63852923fe54f6ea183b3a8d9843335",
       "version_major": 2,
       "version_minor": 0
      },
      "text/plain": [
       "HBox(children=(IntProgress(value=0, layout=Layout(flex='2'), max=53), HTML(value='')), layout=Layout(display='…"
      ]
     },
     "metadata": {},
     "output_type": "display_data"
    },
    {
     "name": "stdout",
     "output_type": "stream",
     "text": [
      "\n",
      "epoch #37, val accuracy: 0.39416274428367615\n"
     ]
    },
    {
     "data": {
      "application/vnd.jupyter.widget-view+json": {
       "model_id": "9d4c78c8fd654e9abd5ef2584517ae82",
       "version_major": 2,
       "version_minor": 0
      },
      "text/plain": [
       "HBox(children=(IntProgress(value=0, layout=Layout(flex='2'), max=38), HTML(value='')), layout=Layout(display='…"
      ]
     },
     "metadata": {},
     "output_type": "display_data"
    },
    {
     "name": "stdout",
     "output_type": "stream",
     "text": [
      "\n",
      "epoch #37, sv eer: 0.08923437333617293\n",
      "------------------------------\n",
      "curr_lr: 0.01\n",
      "Batch 100/1042\t Loss 0.770064 XentLoss 0.633978 CenterLoss 0.136086\n",
      "Batch 200/1042\t Loss 0.787054 XentLoss 0.650453 CenterLoss 0.136601\n",
      "Batch 300/1042\t Loss 0.803514 XentLoss 0.666436 CenterLoss 0.137078\n",
      "Batch 400/1042\t Loss 0.815814 XentLoss 0.678343 CenterLoss 0.137471\n",
      "Batch 500/1042\t Loss 0.825825 XentLoss 0.688251 CenterLoss 0.137574\n",
      "Batch 600/1042\t Loss 0.835709 XentLoss 0.697777 CenterLoss 0.137932\n",
      "Batch 700/1042\t Loss 0.841097 XentLoss 0.702983 CenterLoss 0.138114\n",
      "Batch 800/1042\t Loss 0.846264 XentLoss 0.707997 CenterLoss 0.138267\n",
      "Batch 900/1042\t Loss 0.850725 XentLoss 0.712541 CenterLoss 0.138184\n",
      "Batch 1000/1042\t Loss 0.852333 XentLoss 0.714144 CenterLoss 0.138189\n"
     ]
    },
    {
     "data": {
      "application/vnd.jupyter.widget-view+json": {
       "model_id": "daf34c65d6294d06a9ff946d12ea8084",
       "version_major": 2,
       "version_minor": 0
      },
      "text/plain": [
       "HBox(children=(IntProgress(value=0, layout=Layout(flex='2'), max=53), HTML(value='')), layout=Layout(display='…"
      ]
     },
     "metadata": {},
     "output_type": "display_data"
    },
    {
     "name": "stdout",
     "output_type": "stream",
     "text": [
      "\n",
      "epoch #38, val accuracy: 0.24675707519054413\n"
     ]
    },
    {
     "data": {
      "application/vnd.jupyter.widget-view+json": {
       "model_id": "5cf6a9bf6b884d0aa789cbe98d45b331",
       "version_major": 2,
       "version_minor": 0
      },
      "text/plain": [
       "HBox(children=(IntProgress(value=0, layout=Layout(flex='2'), max=38), HTML(value='')), layout=Layout(display='…"
      ]
     },
     "metadata": {},
     "output_type": "display_data"
    },
    {
     "name": "stdout",
     "output_type": "stream",
     "text": [
      "\n",
      "epoch #38, sv eer: 0.11090405707592375\n",
      "------------------------------\n",
      "curr_lr: 0.01\n",
      "Batch 100/1042\t Loss 0.812784 XentLoss 0.676130 CenterLoss 0.136655\n",
      "Batch 200/1042\t Loss 0.800458 XentLoss 0.663866 CenterLoss 0.136592\n",
      "Batch 300/1042\t Loss 0.810137 XentLoss 0.673325 CenterLoss 0.136812\n",
      "Batch 400/1042\t Loss 0.819341 XentLoss 0.682169 CenterLoss 0.137171\n",
      "Batch 500/1042\t Loss 0.828038 XentLoss 0.690704 CenterLoss 0.137334\n",
      "Batch 600/1042\t Loss 0.833258 XentLoss 0.695728 CenterLoss 0.137530\n",
      "Batch 700/1042\t Loss 0.837619 XentLoss 0.699788 CenterLoss 0.137831\n",
      "Batch 800/1042\t Loss 0.842172 XentLoss 0.704187 CenterLoss 0.137985\n",
      "Batch 900/1042\t Loss 0.845455 XentLoss 0.707440 CenterLoss 0.138015\n",
      "Batch 1000/1042\t Loss 0.850566 XentLoss 0.712594 CenterLoss 0.137972\n"
     ]
    },
    {
     "data": {
      "application/vnd.jupyter.widget-view+json": {
       "model_id": "c44bf4c114074026b496665838a57ace",
       "version_major": 2,
       "version_minor": 0
      },
      "text/plain": [
       "HBox(children=(IntProgress(value=0, layout=Layout(flex='2'), max=53), HTML(value='')), layout=Layout(display='…"
      ]
     },
     "metadata": {},
     "output_type": "display_data"
    },
    {
     "name": "stdout",
     "output_type": "stream",
     "text": [
      "\n",
      "epoch #39, val accuracy: 0.43802645802497864\n"
     ]
    },
    {
     "data": {
      "application/vnd.jupyter.widget-view+json": {
       "model_id": "094e6b0d87904f06befaec2cf199275d",
       "version_major": 2,
       "version_minor": 0
      },
      "text/plain": [
       "HBox(children=(IntProgress(value=0, layout=Layout(flex='2'), max=38), HTML(value='')), layout=Layout(display='…"
      ]
     },
     "metadata": {},
     "output_type": "display_data"
    },
    {
     "name": "stdout",
     "output_type": "stream",
     "text": [
      "\n",
      "epoch #39, sv eer: 0.0926418911723991\n",
      "------------------------------\n",
      "curr_lr: 0.01\n",
      "Batch 100/1042\t Loss 0.790204 XentLoss 0.653960 CenterLoss 0.136244\n",
      "Batch 200/1042\t Loss 0.784131 XentLoss 0.648048 CenterLoss 0.136083\n",
      "Batch 300/1042\t Loss 0.793133 XentLoss 0.656998 CenterLoss 0.136136\n",
      "Batch 400/1042\t Loss 0.806378 XentLoss 0.669967 CenterLoss 0.136411\n",
      "Batch 500/1042\t Loss 0.813406 XentLoss 0.676549 CenterLoss 0.136857\n",
      "Batch 600/1042\t Loss 0.825276 XentLoss 0.687933 CenterLoss 0.137343\n",
      "Batch 700/1042\t Loss 0.834951 XentLoss 0.697037 CenterLoss 0.137913\n",
      "Batch 800/1042\t Loss 0.838912 XentLoss 0.701055 CenterLoss 0.137858\n",
      "Batch 900/1042\t Loss 0.840878 XentLoss 0.702897 CenterLoss 0.137981\n",
      "Batch 1000/1042\t Loss 0.843548 XentLoss 0.705703 CenterLoss 0.137845\n"
     ]
    },
    {
     "data": {
      "application/vnd.jupyter.widget-view+json": {
       "model_id": "9af87d667e7d42b9bdb8d764bd95314c",
       "version_major": 2,
       "version_minor": 0
      },
      "text/plain": [
       "HBox(children=(IntProgress(value=0, layout=Layout(flex='2'), max=53), HTML(value='')), layout=Layout(display='…"
      ]
     },
     "metadata": {},
     "output_type": "display_data"
    },
    {
     "name": "stdout",
     "output_type": "stream",
     "text": [
      "\n",
      "epoch #40, val accuracy: 0.16566291451454163\n"
     ]
    },
    {
     "data": {
      "application/vnd.jupyter.widget-view+json": {
       "model_id": "d77597a8805a4b3bb6eeeb9606c088d1",
       "version_major": 2,
       "version_minor": 0
      },
      "text/plain": [
       "HBox(children=(IntProgress(value=0, layout=Layout(flex='2'), max=38), HTML(value='')), layout=Layout(display='…"
      ]
     },
     "metadata": {},
     "output_type": "display_data"
    },
    {
     "name": "stdout",
     "output_type": "stream",
     "text": [
      "\n",
      "epoch #40, sv eer: 0.09674156106910872\n",
      "------------------------------\n",
      "curr_lr: 0.01\n",
      "Batch 100/1042\t Loss 0.773771 XentLoss 0.637224 CenterLoss 0.136548\n",
      "Batch 200/1042\t Loss 0.789300 XentLoss 0.652462 CenterLoss 0.136838\n",
      "Batch 300/1042\t Loss 0.804277 XentLoss 0.666359 CenterLoss 0.137918\n",
      "Batch 400/1042\t Loss 0.808966 XentLoss 0.671020 CenterLoss 0.137946\n",
      "Batch 500/1042\t Loss 0.813239 XentLoss 0.675209 CenterLoss 0.138031\n",
      "Batch 600/1042\t Loss 0.820587 XentLoss 0.682550 CenterLoss 0.138038\n",
      "Batch 700/1042\t Loss 0.823766 XentLoss 0.685734 CenterLoss 0.138033\n",
      "Batch 800/1042\t Loss 0.831642 XentLoss 0.693572 CenterLoss 0.138070\n",
      "Batch 900/1042\t Loss 0.834962 XentLoss 0.696929 CenterLoss 0.138032\n",
      "Batch 1000/1042\t Loss 0.840295 XentLoss 0.702158 CenterLoss 0.138137\n"
     ]
    },
    {
     "data": {
      "application/vnd.jupyter.widget-view+json": {
       "model_id": "22cf7723ee9844ce8d7f4e39bf61474a",
       "version_major": 2,
       "version_minor": 0
      },
      "text/plain": [
       "HBox(children=(IntProgress(value=0, layout=Layout(flex='2'), max=53), HTML(value='')), layout=Layout(display='…"
      ]
     },
     "metadata": {},
     "output_type": "display_data"
    },
    {
     "name": "stdout",
     "output_type": "stream",
     "text": [
      "\n",
      "epoch #41, val accuracy: 0.34316039085388184\n"
     ]
    },
    {
     "data": {
      "application/vnd.jupyter.widget-view+json": {
       "model_id": "6311982c44814993bf0c80dbbea76f7c",
       "version_major": 2,
       "version_minor": 0
      },
      "text/plain": [
       "HBox(children=(IntProgress(value=0, layout=Layout(flex='2'), max=38), HTML(value='')), layout=Layout(display='…"
      ]
     },
     "metadata": {},
     "output_type": "display_data"
    },
    {
     "name": "stdout",
     "output_type": "stream",
     "text": [
      "\n",
      "epoch #41, sv eer: 0.09328080076669151\n",
      "------------------------------\n",
      "curr_lr: 0.01\n",
      "Batch 100/1042\t Loss 0.782178 XentLoss 0.645333 CenterLoss 0.136845\n",
      "Batch 200/1042\t Loss 0.792542 XentLoss 0.655334 CenterLoss 0.137207\n",
      "Batch 300/1042\t Loss 0.795206 XentLoss 0.657549 CenterLoss 0.137657\n",
      "Batch 400/1042\t Loss 0.802366 XentLoss 0.664193 CenterLoss 0.138173\n",
      "Batch 500/1042\t Loss 0.805444 XentLoss 0.667265 CenterLoss 0.138179\n",
      "Batch 600/1042\t Loss 0.814076 XentLoss 0.675827 CenterLoss 0.138250\n",
      "Batch 700/1042\t Loss 0.821556 XentLoss 0.682996 CenterLoss 0.138561\n",
      "Batch 800/1042\t Loss 0.825415 XentLoss 0.686941 CenterLoss 0.138475\n",
      "Batch 900/1042\t Loss 0.828523 XentLoss 0.690099 CenterLoss 0.138424\n",
      "Batch 1000/1042\t Loss 0.833993 XentLoss 0.695363 CenterLoss 0.138630\n"
     ]
    },
    {
     "data": {
      "application/vnd.jupyter.widget-view+json": {
       "model_id": "7e48480509c747dfbd15c4f7721f00b8",
       "version_major": 2,
       "version_minor": 0
      },
      "text/plain": [
       "HBox(children=(IntProgress(value=0, layout=Layout(flex='2'), max=53), HTML(value='')), layout=Layout(display='…"
      ]
     },
     "metadata": {},
     "output_type": "display_data"
    },
    {
     "name": "stdout",
     "output_type": "stream",
     "text": [
      "\n",
      "epoch #42, val accuracy: 0.3408861458301544\n"
     ]
    },
    {
     "data": {
      "application/vnd.jupyter.widget-view+json": {
       "model_id": "eca82ffda6ab4db682f709c05056e723",
       "version_major": 2,
       "version_minor": 0
      },
      "text/plain": [
       "HBox(children=(IntProgress(value=0, layout=Layout(flex='2'), max=38), HTML(value='')), layout=Layout(display='…"
      ]
     },
     "metadata": {},
     "output_type": "display_data"
    },
    {
     "name": "stdout",
     "output_type": "stream",
     "text": [
      "\n",
      "epoch #42, sv eer: 0.09562346927909701\n",
      "------------------------------\n",
      "curr_lr: 0.01\n",
      "Batch 100/1042\t Loss 0.794927 XentLoss 0.658383 CenterLoss 0.136543\n",
      "Batch 200/1042\t Loss 0.779561 XentLoss 0.643530 CenterLoss 0.136031\n",
      "Batch 300/1042\t Loss 0.784431 XentLoss 0.647989 CenterLoss 0.136442\n",
      "Batch 400/1042\t Loss 0.798564 XentLoss 0.661628 CenterLoss 0.136936\n",
      "Batch 500/1042\t Loss 0.808632 XentLoss 0.671628 CenterLoss 0.137004\n",
      "Batch 600/1042\t Loss 0.815781 XentLoss 0.678300 CenterLoss 0.137481\n",
      "Batch 700/1042\t Loss 0.820481 XentLoss 0.682991 CenterLoss 0.137489\n",
      "Batch 800/1042\t Loss 0.825517 XentLoss 0.688052 CenterLoss 0.137465\n",
      "Batch 900/1042\t Loss 0.829293 XentLoss 0.691565 CenterLoss 0.137728\n",
      "Batch 1000/1042\t Loss 0.833491 XentLoss 0.695606 CenterLoss 0.137885\n"
     ]
    },
    {
     "data": {
      "application/vnd.jupyter.widget-view+json": {
       "model_id": "cd55e60085074894b2fccdf9ec222cee",
       "version_major": 2,
       "version_minor": 0
      },
      "text/plain": [
       "HBox(children=(IntProgress(value=0, layout=Layout(flex='2'), max=53), HTML(value='')), layout=Layout(display='…"
      ]
     },
     "metadata": {},
     "output_type": "display_data"
    },
    {
     "name": "stdout",
     "output_type": "stream",
     "text": [
      "\n",
      "epoch #43, val accuracy: 0.31784871220588684\n"
     ]
    },
    {
     "data": {
      "application/vnd.jupyter.widget-view+json": {
       "model_id": "20e80ddbf6834b53a143789890ae673f",
       "version_major": 2,
       "version_minor": 0
      },
      "text/plain": [
       "HBox(children=(IntProgress(value=0, layout=Layout(flex='2'), max=38), HTML(value='')), layout=Layout(display='…"
      ]
     },
     "metadata": {},
     "output_type": "display_data"
    },
    {
     "name": "stdout",
     "output_type": "stream",
     "text": [
      "\n",
      "epoch #43, sv eer: 0.09599616654243424\n",
      "------------------------------\n",
      "curr_lr: 0.01\n",
      "Batch 100/1042\t Loss 0.760311 XentLoss 0.623265 CenterLoss 0.137046\n",
      "Batch 200/1042\t Loss 0.763947 XentLoss 0.625744 CenterLoss 0.138203\n",
      "Batch 300/1042\t Loss 0.775980 XentLoss 0.637737 CenterLoss 0.138242\n",
      "Batch 400/1042\t Loss 0.792667 XentLoss 0.654092 CenterLoss 0.138574\n",
      "Batch 500/1042\t Loss 0.805236 XentLoss 0.666274 CenterLoss 0.138963\n",
      "Batch 600/1042\t Loss 0.809255 XentLoss 0.670309 CenterLoss 0.138947\n",
      "Batch 700/1042\t Loss 0.813409 XentLoss 0.674508 CenterLoss 0.138901\n",
      "Batch 800/1042\t Loss 0.819141 XentLoss 0.680323 CenterLoss 0.138818\n",
      "Batch 900/1042\t Loss 0.825284 XentLoss 0.686423 CenterLoss 0.138861\n",
      "Batch 1000/1042\t Loss 0.831493 XentLoss 0.692740 CenterLoss 0.138753\n"
     ]
    },
    {
     "data": {
      "application/vnd.jupyter.widget-view+json": {
       "model_id": "afdccb4786694c89ac41e61a6346b9b7",
       "version_major": 2,
       "version_minor": 0
      },
      "text/plain": [
       "HBox(children=(IntProgress(value=0, layout=Layout(flex='2'), max=53), HTML(value='')), layout=Layout(display='…"
      ]
     },
     "metadata": {},
     "output_type": "display_data"
    },
    {
     "name": "stdout",
     "output_type": "stream",
     "text": [
      "\n",
      "epoch #44, val accuracy: 0.39087769389152527\n"
     ]
    },
    {
     "data": {
      "application/vnd.jupyter.widget-view+json": {
       "model_id": "61d05c28f6924e98beea47c4f15083c2",
       "version_major": 2,
       "version_minor": 0
      },
      "text/plain": [
       "HBox(children=(IntProgress(value=0, layout=Layout(flex='2'), max=38), HTML(value='')), layout=Layout(display='…"
      ]
     },
     "metadata": {},
     "output_type": "display_data"
    },
    {
     "name": "stdout",
     "output_type": "stream",
     "text": [
      "\n",
      "epoch #44, sv eer: 0.08971355553189224\n",
      "------------------------------\n",
      "curr_lr: 0.01\n",
      "Batch 100/1042\t Loss 0.761025 XentLoss 0.623218 CenterLoss 0.137807\n",
      "Batch 200/1042\t Loss 0.760856 XentLoss 0.622497 CenterLoss 0.138359\n",
      "Batch 300/1042\t Loss 0.779771 XentLoss 0.641546 CenterLoss 0.138225\n",
      "Batch 400/1042\t Loss 0.791765 XentLoss 0.653670 CenterLoss 0.138095\n",
      "Batch 500/1042\t Loss 0.796797 XentLoss 0.658622 CenterLoss 0.138175\n",
      "Batch 600/1042\t Loss 0.805721 XentLoss 0.667227 CenterLoss 0.138493\n",
      "Batch 700/1042\t Loss 0.808383 XentLoss 0.669846 CenterLoss 0.138537\n",
      "Batch 800/1042\t Loss 0.810782 XentLoss 0.672387 CenterLoss 0.138396\n",
      "Batch 900/1042\t Loss 0.817609 XentLoss 0.679067 CenterLoss 0.138542\n",
      "Batch 1000/1042\t Loss 0.820544 XentLoss 0.682009 CenterLoss 0.138535\n"
     ]
    },
    {
     "data": {
      "application/vnd.jupyter.widget-view+json": {
       "model_id": "5dfbe1bdc38745218836888629bc6a54",
       "version_major": 2,
       "version_minor": 0
      },
      "text/plain": [
       "HBox(children=(IntProgress(value=0, layout=Layout(flex='2'), max=53), HTML(value='')), layout=Layout(display='…"
      ]
     },
     "metadata": {},
     "output_type": "display_data"
    },
    {
     "name": "stdout",
     "output_type": "stream",
     "text": [
      "\n",
      "epoch #45, val accuracy: 0.4459652900695801\n"
     ]
    },
    {
     "data": {
      "application/vnd.jupyter.widget-view+json": {
       "model_id": "c5d70b340f494bf5bb6295a797b515f9",
       "version_major": 2,
       "version_minor": 0
      },
      "text/plain": [
       "HBox(children=(IntProgress(value=0, layout=Layout(flex='2'), max=38), HTML(value='')), layout=Layout(display='…"
      ]
     },
     "metadata": {},
     "output_type": "display_data"
    },
    {
     "name": "stdout",
     "output_type": "stream",
     "text": [
      "\n",
      "epoch #45, sv eer: 0.08870194867426259\n",
      "------------------------------\n",
      "curr_lr: 0.01\n",
      "Batch 100/1042\t Loss 0.750450 XentLoss 0.613380 CenterLoss 0.137071\n",
      "Batch 200/1042\t Loss 0.769004 XentLoss 0.631979 CenterLoss 0.137025\n",
      "Batch 300/1042\t Loss 0.781067 XentLoss 0.643667 CenterLoss 0.137399\n",
      "Batch 400/1042\t Loss 0.793264 XentLoss 0.655166 CenterLoss 0.138098\n",
      "Batch 500/1042\t Loss 0.806334 XentLoss 0.667733 CenterLoss 0.138601\n",
      "Batch 600/1042\t Loss 0.812989 XentLoss 0.674089 CenterLoss 0.138901\n",
      "Batch 700/1042\t Loss 0.817496 XentLoss 0.678654 CenterLoss 0.138842\n",
      "Batch 800/1042\t Loss 0.818619 XentLoss 0.679779 CenterLoss 0.138840\n",
      "Batch 900/1042\t Loss 0.821562 XentLoss 0.682923 CenterLoss 0.138639\n",
      "Batch 1000/1042\t Loss 0.823568 XentLoss 0.685039 CenterLoss 0.138529\n"
     ]
    },
    {
     "data": {
      "application/vnd.jupyter.widget-view+json": {
       "model_id": "5538ac2d13864b7fba35edf5766d4710",
       "version_major": 2,
       "version_minor": 0
      },
      "text/plain": [
       "HBox(children=(IntProgress(value=0, layout=Layout(flex='2'), max=53), HTML(value='')), layout=Layout(display='…"
      ]
     },
     "metadata": {},
     "output_type": "display_data"
    },
    {
     "name": "stdout",
     "output_type": "stream",
     "text": [
      "\n",
      "epoch #46, val accuracy: 0.38938260078430176\n"
     ]
    },
    {
     "data": {
      "application/vnd.jupyter.widget-view+json": {
       "model_id": "888aa493ef9c4d9185938f8551b24edf",
       "version_major": 2,
       "version_minor": 0
      },
      "text/plain": [
       "HBox(children=(IntProgress(value=0, layout=Layout(flex='2'), max=38), HTML(value='')), layout=Layout(display='…"
      ]
     },
     "metadata": {},
     "output_type": "display_data"
    },
    {
     "name": "stdout",
     "output_type": "stream",
     "text": [
      "\n",
      "epoch #46, sv eer: 0.08934085826855499\n",
      "------------------------------\n",
      "curr_lr: 0.01\n",
      "Batch 100/1042\t Loss 0.778543 XentLoss 0.640614 CenterLoss 0.137930\n",
      "Batch 200/1042\t Loss 0.791602 XentLoss 0.653069 CenterLoss 0.138533\n",
      "Batch 300/1042\t Loss 0.808156 XentLoss 0.669314 CenterLoss 0.138842\n",
      "Batch 400/1042\t Loss 0.812547 XentLoss 0.673501 CenterLoss 0.139046\n",
      "Batch 500/1042\t Loss 0.807537 XentLoss 0.669017 CenterLoss 0.138520\n",
      "Batch 600/1042\t Loss 0.810414 XentLoss 0.671776 CenterLoss 0.138638\n",
      "Batch 700/1042\t Loss 0.811546 XentLoss 0.672902 CenterLoss 0.138644\n",
      "Batch 800/1042\t Loss 0.814313 XentLoss 0.675697 CenterLoss 0.138616\n",
      "Batch 900/1042\t Loss 0.817949 XentLoss 0.679072 CenterLoss 0.138877\n",
      "Batch 1000/1042\t Loss 0.824284 XentLoss 0.685383 CenterLoss 0.138900\n"
     ]
    },
    {
     "data": {
      "application/vnd.jupyter.widget-view+json": {
       "model_id": "757b361f0db24dc6b85bd693919b533d",
       "version_major": 2,
       "version_minor": 0
      },
      "text/plain": [
       "HBox(children=(IntProgress(value=0, layout=Layout(flex='2'), max=53), HTML(value='')), layout=Layout(display='…"
      ]
     },
     "metadata": {},
     "output_type": "display_data"
    },
    {
     "name": "stdout",
     "output_type": "stream",
     "text": [
      "\n",
      "epoch #47, val accuracy: 0.2522953152656555\n"
     ]
    },
    {
     "data": {
      "application/vnd.jupyter.widget-view+json": {
       "model_id": "928c6b3bebee4571a59f47085de0bbf4",
       "version_major": 2,
       "version_minor": 0
      },
      "text/plain": [
       "HBox(children=(IntProgress(value=0, layout=Layout(flex='2'), max=38), HTML(value='')), layout=Layout(display='…"
      ]
     },
     "metadata": {},
     "output_type": "display_data"
    },
    {
     "name": "stdout",
     "output_type": "stream",
     "text": [
      "\n",
      "epoch #47, sv eer: 0.09509104461718666\n",
      "------------------------------\n",
      "curr_lr: 0.01\n",
      "Batch 100/1042\t Loss 0.747557 XentLoss 0.610275 CenterLoss 0.137282\n",
      "Batch 200/1042\t Loss 0.755258 XentLoss 0.617655 CenterLoss 0.137603\n",
      "Batch 300/1042\t Loss 0.773295 XentLoss 0.634990 CenterLoss 0.138305\n",
      "Batch 400/1042\t Loss 0.786485 XentLoss 0.648293 CenterLoss 0.138192\n",
      "Batch 500/1042\t Loss 0.792103 XentLoss 0.653870 CenterLoss 0.138233\n",
      "Batch 600/1042\t Loss 0.798877 XentLoss 0.660388 CenterLoss 0.138489\n",
      "Batch 700/1042\t Loss 0.802361 XentLoss 0.663973 CenterLoss 0.138388\n",
      "Batch 800/1042\t Loss 0.806796 XentLoss 0.668257 CenterLoss 0.138539\n",
      "Batch 900/1042\t Loss 0.811466 XentLoss 0.672731 CenterLoss 0.138735\n",
      "Batch 1000/1042\t Loss 0.815140 XentLoss 0.676345 CenterLoss 0.138795\n"
     ]
    },
    {
     "data": {
      "application/vnd.jupyter.widget-view+json": {
       "model_id": "11f54c77dba247bb89f0698d1705ce4e",
       "version_major": 2,
       "version_minor": 0
      },
      "text/plain": [
       "HBox(children=(IntProgress(value=0, layout=Layout(flex='2'), max=53), HTML(value='')), layout=Layout(display='…"
      ]
     },
     "metadata": {},
     "output_type": "display_data"
    },
    {
     "name": "stdout",
     "output_type": "stream",
     "text": [
      "\n",
      "epoch #48, val accuracy: 0.32382917404174805\n"
     ]
    },
    {
     "data": {
      "application/vnd.jupyter.widget-view+json": {
       "model_id": "66b6c199289943f8b0f01e33fe9c2a7d",
       "version_major": 2,
       "version_minor": 0
      },
      "text/plain": [
       "HBox(children=(IntProgress(value=0, layout=Layout(flex='2'), max=38), HTML(value='')), layout=Layout(display='…"
      ]
     },
     "metadata": {},
     "output_type": "display_data"
    },
    {
     "name": "stdout",
     "output_type": "stream",
     "text": [
      "\n",
      "epoch #48, sv eer: 0.10222553508678522\n",
      "------------------------------\n",
      "curr_lr: 0.01\n",
      "Batch 100/1042\t Loss 0.745560 XentLoss 0.607308 CenterLoss 0.138251\n",
      "Batch 200/1042\t Loss 0.741578 XentLoss 0.604557 CenterLoss 0.137022\n",
      "Batch 300/1042\t Loss 0.765706 XentLoss 0.627556 CenterLoss 0.138150\n",
      "Batch 400/1042\t Loss 0.776430 XentLoss 0.637941 CenterLoss 0.138489\n",
      "Batch 500/1042\t Loss 0.781722 XentLoss 0.642833 CenterLoss 0.138889\n",
      "Batch 600/1042\t Loss 0.790986 XentLoss 0.651945 CenterLoss 0.139041\n",
      "Batch 700/1042\t Loss 0.797338 XentLoss 0.658374 CenterLoss 0.138964\n",
      "Batch 800/1042\t Loss 0.802541 XentLoss 0.663565 CenterLoss 0.138975\n",
      "Batch 900/1042\t Loss 0.807255 XentLoss 0.668208 CenterLoss 0.139048\n",
      "Batch 1000/1042\t Loss 0.813166 XentLoss 0.674018 CenterLoss 0.139147\n"
     ]
    },
    {
     "data": {
      "application/vnd.jupyter.widget-view+json": {
       "model_id": "3dfcb381b2324917b0e63ef949e09633",
       "version_major": 2,
       "version_minor": 0
      },
      "text/plain": [
       "HBox(children=(IntProgress(value=0, layout=Layout(flex='2'), max=53), HTML(value='')), layout=Layout(display='…"
      ]
     },
     "metadata": {},
     "output_type": "display_data"
    },
    {
     "name": "stdout",
     "output_type": "stream",
     "text": [
      "\n",
      "epoch #49, val accuracy: 0.3806856572628021\n"
     ]
    },
    {
     "data": {
      "application/vnd.jupyter.widget-view+json": {
       "model_id": "73a7cbf57f2c4524bef83f628e84b1e1",
       "version_major": 2,
       "version_minor": 0
      },
      "text/plain": [
       "HBox(children=(IntProgress(value=0, layout=Layout(flex='2'), max=38), HTML(value='')), layout=Layout(display='…"
      ]
     },
     "metadata": {},
     "output_type": "display_data"
    },
    {
     "name": "stdout",
     "output_type": "stream",
     "text": [
      "\n",
      "epoch #49, sv eer: 0.09173676924715153\n"
     ]
    }
   ],
   "source": [
    "from sv_system.train.si_train import val, sv_test\n",
    "from tqdm import tqdm_notebook\n",
    "\n",
    "for epoch_idx in range(0, config['n_epochs']):\n",
    "    print(\"-\"*30)\n",
    "    curr_lr = optimizer.state_dict()['param_groups'][0]['lr']\n",
    "    idx = 0\n",
    "    while(epoch_idx >= config['lr_schedule'][idx]):\n",
    "    # use new lr from schedule epoch not a next epoch\n",
    "        idx += 1\n",
    "        if idx == len(config['lr_schedule']):\n",
    "            break\n",
    "    curr_lr = config['lrs'][idx]\n",
    "    optimizer.state_dict()['param_groups'][0]['lr'] = curr_lr\n",
    "    print(\"curr_lr: {}\".format(curr_lr))\n",
    "\n",
    "#     train code\n",
    "    train_loss, train_acc = train(model)\n",
    "\n",
    "#     validation code\n",
    "    val_loss, val_acc = val(config, val_loader, model, criterion, tqdm=tqdm_notebook)\n",
    "    print(\"epoch #{}, val accuracy: {}\".format(epoch_idx, val_acc))\n",
    "\n",
    "#     evaluate best_metric\n",
    "    if not config['no_eer']:\n",
    "        # eer validation code\n",
    "        eer, label, score = sv_test(config, sv_loader, model, trial, tqdm=tqdm_notebook)\n",
    "        print(\"epoch #{}, sv eer: {}\".format(epoch_idx, eer))"
   ]
  }
 ],
 "metadata": {
  "kernelspec": {
   "display_name": "Python 3",
   "language": "python",
   "name": "python3"
  },
  "language_info": {
   "codemirror_mode": {
    "name": "ipython",
    "version": 3
   },
   "file_extension": ".py",
   "mimetype": "text/x-python",
   "name": "python",
   "nbconvert_exporter": "python",
   "pygments_lexer": "ipython3",
   "version": "3.6.5"
  }
 },
 "nbformat": 4,
 "nbformat_minor": 2
}
