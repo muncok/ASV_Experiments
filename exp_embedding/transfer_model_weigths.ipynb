{
 "cells": [
  {
   "cell_type": "markdown",
   "metadata": {},
   "source": [
    "# transfer tdnn_xvectoer weight to new model"
   ]
  },
  {
   "cell_type": "code",
   "execution_count": 1,
   "metadata": {},
   "outputs": [
    {
     "name": "stdout",
     "output_type": "stream",
     "text": [
      "Using matplotlib backend: TkAgg\n",
      "Populating the interactive namespace from numpy and matplotlib\n"
     ]
    }
   ],
   "source": [
    "import os\n",
    "%load_ext autoreload\n",
    "%autoreload 2\n",
    "%pylab\n",
    "%matplotlib inline\n",
    "    \n",
    "import pandas as pd\n",
    "import pickle\n",
    "import numpy as np\n",
    "import sys\n",
    "import os"
   ]
  },
  {
   "cell_type": "code",
   "execution_count": 2,
   "metadata": {},
   "outputs": [],
   "source": [
    "sys.path.append('/host/projects/sv_experiments/sv_system/')\n",
    "os.environ[\"CUDA_DEVICE_ORDER\"]=\"PCI_BUS_ID\"   # see issue #152\n",
    "os.environ[\"CUDA_VISIBLE_DEVICES\"]=\"3\""
   ]
  },
  {
   "cell_type": "code",
   "execution_count": 3,
   "metadata": {},
   "outputs": [],
   "source": [
    "import torch\n",
    "\n",
    "checkpoint = torch.load(\"../sv_system/models/voxc2_fbank64_vad/tdnn_xvector_softmax/fbank64_200f_800f_v00/model_best.pth.tar\")"
   ]
  },
  {
   "cell_type": "code",
   "execution_count": 4,
   "metadata": {},
   "outputs": [],
   "source": [
    "saved_state = checkpoint['state_dict']"
   ]
  },
  {
   "cell_type": "code",
   "execution_count": 5,
   "metadata": {
    "scrolled": true
   },
   "outputs": [],
   "source": [
    "from model.tdnnModel import tdnn_xvector\n",
    "\n",
    "config = dict(input_dim=64, loss='softmax')\n",
    "saved_model = tdnn_xvector(config, n_labels=6114)"
   ]
  },
  {
   "cell_type": "code",
   "execution_count": 6,
   "metadata": {},
   "outputs": [],
   "source": [
    "import torch.nn as nn\n",
    "from model.tdnnModel import tdnn_xvector, st_pool_layer\n",
    "\n",
    "class tdnn_xvector_untied(nn.Module):\n",
    "    \"\"\"xvector architecture\n",
    "        tdnn6.affine is embeding layer no\n",
    "        untying classifier for flexible embedding positon\n",
    "        conv1d --> conv2d\n",
    "    \"\"\"\n",
    "    def __init__(self, config, base_width=512, n_labels=31):\n",
    "        super(tdnn_xvector_untied, self).__init__()\n",
    "        inDim = config['input_dim']\n",
    "        self.tdnn = nn.Sequential(\n",
    "            nn.Conv1d(inDim, base_width, stride=1, dilation=1, kernel_size=5),\n",
    "            nn.BatchNorm1d(base_width),\n",
    "            nn.ReLU(True),\n",
    "            nn.Conv1d(base_width, base_width, stride=1, dilation=3, kernel_size=3),\n",
    "            nn.BatchNorm1d(base_width),\n",
    "            nn.ReLU(True),\n",
    "            nn.Conv1d(base_width, base_width, stride=1, dilation=4, kernel_size=3),\n",
    "            nn.BatchNorm1d(base_width),\n",
    "            nn.ReLU(True),\n",
    "            nn.Conv1d(base_width, base_width, stride=1, dilation=1, kernel_size=1),\n",
    "            nn.BatchNorm1d(base_width),\n",
    "            nn.ReLU(True),\n",
    "            nn.Conv1d(base_width, 1500, stride=1, dilation=1, kernel_size=1),\n",
    "            nn.BatchNorm1d(1500),\n",
    "            nn.ReLU(True),\n",
    "            st_pool_layer(),\n",
    "            nn.Linear(3000, base_width),\n",
    "        )\n",
    "\n",
    "        loss_type = config[\"loss\"]\n",
    "        if loss_type == \"angular\":\n",
    "            last_fc = AngleLinear(base_width, n_labels)\n",
    "        elif loss_type == \"softmax\":\n",
    "            last_fc = nn.Linear(base_width, n_labels)\n",
    "        else:\n",
    "            print(\"not implemented loss\")\n",
    "            raise NotImplementedError\n",
    "\n",
    "        self.tdnn6_bn = nn.BatchNorm1d(base_width)\n",
    "        self.tdnn6_relu = nn.ReLU(True)\n",
    "        self.tdnn7_affine = nn.Linear(base_width, base_width)\n",
    "        self.tdnn7_bn = nn.BatchNorm1d(base_width)\n",
    "        self.tdnn7_relu = nn.ReLU(True)\n",
    "        self.tdnn8_last = last_fc\n",
    "\n",
    "\n",
    "        self._initialize_weights()\n",
    "\n",
    "    def embed(self, x):\n",
    "        # x = x.squeeze(1)\n",
    "        # (batch, time, freq) -> (batch, freq, time)\n",
    "        # x = x.permute(0,2,1)\n",
    "        x = self.tdnn(x)\n",
    "\n",
    "        return x\n",
    "\n",
    "    def forward(self, x):\n",
    "        x = self.embed(x)\n",
    "        x = self.tdnn6_bn(x)\n",
    "        x = self.tdnn6_relu(x)\n",
    "        x = self.tdnn7_affine(x)\n",
    "        x = self.tdnn7_bn(x)\n",
    "        x = self.tdnn7_relu(x)\n",
    "        x = self.tdnn8_last(x)\n",
    "\n",
    "        return x\n",
    "\n",
    "    def _initialize_weights(self):\n",
    "        for m in self.modules():\n",
    "            if isinstance(m, nn.Conv2d):\n",
    "                n = m.kernel_size[0] * m.kernel_size[1] * m.out_channels\n",
    "                m.weight.data.normal_(0, math.sqrt(2. / n))\n",
    "                if m.bias is not None:\n",
    "                    m.bias.data.zero_()\n",
    "            elif isinstance(m, nn.Conv1d):\n",
    "                n = m.kernel_size[0] * m.out_channels\n",
    "                m.weight.data.normal_(0, math.sqrt(2. / n))\n",
    "                if m.bias is not None:\n",
    "                    m.bias.data.zero_()\n",
    "            elif isinstance(m, nn.BatchNorm1d):\n",
    "                m.weight.data.fill_(1)\n",
    "                m.bias.data.zero_()\n",
    "            elif isinstance(m, nn.Linear):\n",
    "                m.weight.data.normal_(0, 0.01)\n",
    "                m.bias.data.zero_()"
   ]
  },
  {
   "cell_type": "code",
   "execution_count": 7,
   "metadata": {},
   "outputs": [],
   "source": [
    "new_model = tdnn_xvector_untied(config, base_width=512, n_labels=6114)"
   ]
  },
  {
   "cell_type": "code",
   "execution_count": 8,
   "metadata": {},
   "outputs": [],
   "source": [
    "new_state = new_model.state_dict()"
   ]
  },
  {
   "cell_type": "code",
   "execution_count": 9,
   "metadata": {},
   "outputs": [],
   "source": [
    "for k, v in zip(new_state.keys(), saved_state.values()):\n",
    "    new_state[k] = v"
   ]
  },
  {
   "cell_type": "code",
   "execution_count": 10,
   "metadata": {},
   "outputs": [],
   "source": [
    "new_model.load_state_dict(new_state)"
   ]
  },
  {
   "cell_type": "code",
   "execution_count": 11,
   "metadata": {},
   "outputs": [
    {
     "data": {
      "text/plain": [
       "tdnn_xvector_untied(\n",
       "  (tdnn): Sequential(\n",
       "    (0): Conv1d(64, 512, kernel_size=(5,), stride=(1,))\n",
       "    (1): BatchNorm1d(512, eps=1e-05, momentum=0.1, affine=True, track_running_stats=True)\n",
       "    (2): ReLU(inplace)\n",
       "    (3): Conv1d(512, 512, kernel_size=(3,), stride=(1,), dilation=(3,))\n",
       "    (4): BatchNorm1d(512, eps=1e-05, momentum=0.1, affine=True, track_running_stats=True)\n",
       "    (5): ReLU(inplace)\n",
       "    (6): Conv1d(512, 512, kernel_size=(3,), stride=(1,), dilation=(4,))\n",
       "    (7): BatchNorm1d(512, eps=1e-05, momentum=0.1, affine=True, track_running_stats=True)\n",
       "    (8): ReLU(inplace)\n",
       "    (9): Conv1d(512, 512, kernel_size=(1,), stride=(1,))\n",
       "    (10): BatchNorm1d(512, eps=1e-05, momentum=0.1, affine=True, track_running_stats=True)\n",
       "    (11): ReLU(inplace)\n",
       "    (12): Conv1d(512, 1500, kernel_size=(1,), stride=(1,))\n",
       "    (13): BatchNorm1d(1500, eps=1e-05, momentum=0.1, affine=True, track_running_stats=True)\n",
       "    (14): ReLU(inplace)\n",
       "    (15): st_pool_layer()\n",
       "    (16): Linear(in_features=3000, out_features=512, bias=True)\n",
       "  )\n",
       "  (tdnn6_bn): BatchNorm1d(512, eps=1e-05, momentum=0.1, affine=True, track_running_stats=True)\n",
       "  (tdnn6_relu): ReLU(inplace)\n",
       "  (tdnn7_affine): Linear(in_features=512, out_features=512, bias=True)\n",
       "  (tdnn7_bn): BatchNorm1d(512, eps=1e-05, momentum=0.1, affine=True, track_running_stats=True)\n",
       "  (tdnn7_relu): ReLU(inplace)\n",
       "  (tdnn8_last): Linear(in_features=512, out_features=6114, bias=True)\n",
       ")"
      ]
     },
     "execution_count": 11,
     "metadata": {},
     "output_type": "execute_result"
    }
   ],
   "source": [
    "new_model"
   ]
  },
  {
   "cell_type": "code",
   "execution_count": 14,
   "metadata": {},
   "outputs": [],
   "source": [
    "checkpoint['state_dict'] = new_model.state_dict()"
   ]
  },
  {
   "cell_type": "code",
   "execution_count": 16,
   "metadata": {},
   "outputs": [],
   "source": [
    "torch.save(checkpoint, \"../sv_system/models/voxc2_fbank64_vad/tdnn_xvector_softmax/voxc2_fbank64_untied_model.pth.tar\")"
   ]
  },
  {
   "cell_type": "code",
   "execution_count": null,
   "metadata": {},
   "outputs": [],
   "source": []
  }
 ],
 "metadata": {
  "kernelspec": {
   "display_name": "Python 3",
   "language": "python",
   "name": "python3"
  },
  "language_info": {
   "codemirror_mode": {
    "name": "ipython",
    "version": 3
   },
   "file_extension": ".py",
   "mimetype": "text/x-python",
   "name": "python",
   "nbconvert_exporter": "python",
   "pygments_lexer": "ipython3",
   "version": "3.6.5"
  }
 },
 "nbformat": 4,
 "nbformat_minor": 2
}
