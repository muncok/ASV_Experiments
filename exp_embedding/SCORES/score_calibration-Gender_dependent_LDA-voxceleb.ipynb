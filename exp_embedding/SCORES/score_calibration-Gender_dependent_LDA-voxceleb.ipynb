{
 "cells": [
  {
   "cell_type": "markdown",
   "metadata": {},
   "source": [
    "score_calibration\n",
    "------------------------"
   ]
  },
  {
   "cell_type": "markdown",
   "metadata": {},
   "source": [
    "Gender dependent embedding\n",
    "------------------------\n",
    "\n",
    "각 gender 정보만 가지고 학습된 모델의 embedding이 각 gender에 대해 더 좋은 성능을 내는지 보자.\n",
    "\n",
    " \n"
   ]
  },
  {
   "cell_type": "markdown",
   "metadata": {},
   "source": [
    "## Environment"
   ]
  },
  {
   "cell_type": "code",
   "execution_count": 1,
   "metadata": {},
   "outputs": [
    {
     "name": "stdout",
     "output_type": "stream",
     "text": [
      "Using matplotlib backend: TkAgg\n",
      "Populating the interactive namespace from numpy and matplotlib\n"
     ]
    }
   ],
   "source": [
    "%load_ext autoreload\n",
    "%autoreload 2\n",
    "%pylab\n",
    "%matplotlib inline\n",
    "\n",
    "import pandas as pd\n",
    "import pickle\n",
    "import numpy as np\n",
    "import sys\n",
    "import os"
   ]
  },
  {
   "cell_type": "code",
   "execution_count": 2,
   "metadata": {},
   "outputs": [],
   "source": [
    "sys.path.append('/host/projects/sv_experiments/sv_system/')\n",
    "os.environ[\"CUDA_DEVICE_ORDER\"]=\"PCI_BUS_ID\"   # see issue #152\n",
    "os.environ[\"CUDA_VISIBLE_DEVICES\"]=\"3\""
   ]
  },
  {
   "cell_type": "code",
   "execution_count": 3,
   "metadata": {},
   "outputs": [],
   "source": [
    "def key2df(keys, delimeter=\"-\"):\n",
    "    key_df = pd.DataFrame(keys, columns=['key'])\n",
    "    key_df['spk'] = key_df.key.apply(lambda x: x.split(delimeter)[0])\n",
    "    key_df['label'] = key_df.groupby('spk').ngroup()\n",
    "    key_df['origin'] = key_df.spk.apply(lambda x: 'voxc2' if x.startswith('id') else 'voxc1')\n",
    "    \n",
    "    return key_df"
   ]
  },
  {
   "cell_type": "markdown",
   "metadata": {},
   "source": [
    "### SCORES"
   ]
  },
  {
   "cell_type": "code",
   "execution_count": null,
   "metadata": {},
   "outputs": [],
   "source": [
    "def read_score(score_path, trial):\n",
    "    score = pd.read_csv(score_path, \n",
    "                    sep=' ', header=None)\n",
    "    score.columns = ['enroll', 'test', 'score']\n",
    "    score['label'] = trial.label\n",
    "    \n",
    "    return score"
   ]
  },
  {
   "cell_type": "code",
   "execution_count": null,
   "metadata": {},
   "outputs": [],
   "source": [
    "trial = pd.read_pickle(\"/dataset/SV_sets/voxceleb12/dataframes/voxc12_f_sv_test_dataframe.pkl\")\n",
    "voxc1_meta = pd.read_pickle(\"/dataset/SV_sets/voxceleb12/dataframes/voxc1_meta.pkl\")"
   ]
  },
  {
   "cell_type": "code",
   "execution_count": null,
   "metadata": {},
   "outputs": [],
   "source": [
    "trial['enroll_gender'] = trial.enroll_spk.apply(lambda x: voxc1_meta.loc[x].Gender)"
   ]
  },
  {
   "cell_type": "code",
   "execution_count": null,
   "metadata": {},
   "outputs": [],
   "source": [
    "trial['test_gender'] = trial.test_spk.apply(lambda x: voxc1_meta.loc[x].Gender)"
   ]
  },
  {
   "cell_type": "code",
   "execution_count": null,
   "metadata": {},
   "outputs": [],
   "source": [
    "equal_gender_trial = trial[trial.apply(lambda x: x.enroll_gender == x.test_gender, axis=1)]"
   ]
  },
  {
   "cell_type": "code",
   "execution_count": null,
   "metadata": {},
   "outputs": [],
   "source": [
    "ff_trial = trial[(trial.enroll_gender == 'f') & (trial.test_gender == 'f')]\n",
    "# mm_trial = trial[(trial.enroll_gender == 'm') & (trial.test_gender == 'm')]"
   ]
  },
  {
   "cell_type": "code",
   "execution_count": null,
   "metadata": {},
   "outputs": [],
   "source": [
    "cosine_score = read_score(\"/host/projects/sv_experiments/sv_system/voxc1_mfcc30_best/scores/cosine_scores\",\n",
    "                            trial)\n",
    "lda_score = read_score(\"/host/projects/sv_experiments/sv_system/voxc1_mfcc30_best/scores/lda_scores\",\n",
    "                        trial)\n",
    "plda_score = read_score(\"/host/projects/sv_experiments/sv_system/voxc1_mfcc30_best/scores/plda_scores\",\n",
    "                         trial)"
   ]
  },
  {
   "cell_type": "code",
   "execution_count": null,
   "metadata": {},
   "outputs": [],
   "source": [
    "m_cosine_score = read_score(\"/host/projects/sv_experiments/sv_system/voxc1_m_mfcc30_best/scores/cosine_scores\",\n",
    "                            trial)\n",
    "m_lda_score = read_score(\"/host/projects/sv_experiments/sv_system/voxc1_m_mfcc30_best/scores/lda_scores\",\n",
    "                        trial)\n",
    "m_plda_score = read_score(\"/host/projects/sv_experiments/sv_system/voxc1_m_mfcc30_best/scores/plda_scores\",\n",
    "                         trial)"
   ]
  },
  {
   "cell_type": "code",
   "execution_count": null,
   "metadata": {},
   "outputs": [],
   "source": [
    "f_cosine_score = read_score(\"/host/projects/sv_experiments/sv_system/voxc1_f_mfcc30_best/scores/cosine_scores\",\n",
    "                           trial)\n",
    "f_lda_score = read_score(\"/host/projects/sv_experiments/sv_system/voxc1_f_mfcc30_best/scores/lda_scores\",\n",
    "                        trial)\n",
    "f_plda_score = read_score(\"/host/projects/sv_experiments/sv_system/voxc1_f_mfcc30_best/scores/plda_scores\",\n",
    "                         trial)"
   ]
  },
  {
   "cell_type": "code",
   "execution_count": null,
   "metadata": {},
   "outputs": [],
   "source": [
    "fig, axes = plt.subplots(3, 3, sharex=True, sharey=True, figsize=(20, 15))\n",
    "fig.suptitle(\"gender_independet-trained\")\n",
    "# fig.tight_layout()\n",
    "\n",
    "axes[0,0].set_title(\"cosine_entire\")\n",
    "axes[1,0].set_title(\"cosine_mm\")\n",
    "axes[2,0].set_title(\"cosine_ff\")\n",
    "\n",
    "cosine_score.groupby('label').score.hist(bins=100, alpha=0.5, ax=axes[0,0])\n",
    "cosine_score.iloc[mm_trial.index].groupby('label').score.hist(bins=100, alpha=0.5, ax=axes[1,0])\n",
    "cosine_score.iloc[ff_trial.index].groupby('label').score.hist(bins=100, alpha=0.5, ax=axes[2,0])\n",
    "\n",
    "axes[0,1].set_title(\"lda_entire\")\n",
    "axes[1,1].set_title(\"lda_mm\")\n",
    "axes[2,1].set_title(\"lda_ff\")\n",
    "\n",
    "lda_score.groupby('label').score.hist(bins=100, alpha=0.5, ax=axes[0,1])\n",
    "lda_score.iloc[mm_trial.index].groupby('label').score.hist(bins=100, alpha=0.5, ax=axes[1,1])\n",
    "lda_score.iloc[ff_trial.index].groupby('label').score.hist(bins=100, alpha=0.5, ax=axes[2,1])\n",
    "\n",
    "axes[0,2].set_title(\"plda_entire\")\n",
    "axes[1,2].set_title(\"plda_mm\")\n",
    "axes[2,2].set_title(\"plda_ff\")\n",
    "\n",
    "plda_score.groupby('label').score.hist(bins=100, alpha=0.5, ax=axes[0,2])\n",
    "plda_score.iloc[mm_trial.index].groupby('label').score.hist(bins=100, alpha=0.5, ax=axes[1,2])\n",
    "plda_score.iloc[ff_trial.index].groupby('label').score.hist(bins=100, alpha=0.5, ax=axes[2,2])\n",
    "\n",
    "\n",
    "plt.show()"
   ]
  },
  {
   "cell_type": "code",
   "execution_count": null,
   "metadata": {},
   "outputs": [],
   "source": [
    "fig, axes = plt.subplots(3, 3, sharex=True, sharey=True, figsize=(20, 15))\n",
    "fig.suptitle(\"male-trained\")\n",
    "# fig.tight_layout()\n",
    "\n",
    "axes[0,0].set_title(\"cosine_entire\")\n",
    "axes[1,0].set_title(\"cosine_mm\")\n",
    "axes[2,0].set_title(\"cosine_ff\")\n",
    "\n",
    "m_cosine_score.groupby('label').score.hist(bins=100, alpha=0.5, ax=axes[0,0])\n",
    "m_cosine_score.iloc[mm_trial.index].groupby('label').score.hist(bins=100, alpha=0.5, ax=axes[1,0])\n",
    "m_cosine_score.iloc[ff_trial.index].groupby('label').score.hist(bins=100, alpha=0.5, ax=axes[2,0])\n",
    "\n",
    "axes[0,1].set_title(\"lda_entire\")\n",
    "axes[1,1].set_title(\"lda_mm\")\n",
    "axes[2,1].set_title(\"lda_ff\")\n",
    "\n",
    "m_lda_score.groupby('label').score.hist(bins=100, alpha=0.5, ax=axes[0,1])\n",
    "m_lda_score.iloc[mm_trial.index].groupby('label').score.hist(bins=100, alpha=0.5, ax=axes[1,1])\n",
    "m_lda_score.iloc[ff_trial.index].groupby('label').score.hist(bins=100, alpha=0.5, ax=axes[2,1])\n",
    "\n",
    "axes[0,2].set_title(\"plda_entire\")\n",
    "axes[1,2].set_title(\"plda_mm\")\n",
    "axes[2,2].set_title(\"plda_ff\")\n",
    "\n",
    "m_plda_score.groupby('label').score.hist(bins=100, alpha=0.5, ax=axes[0,2])\n",
    "m_plda_score.iloc[mm_trial.index].groupby('label').score.hist(bins=100, alpha=0.5, ax=axes[1,2])\n",
    "m_plda_score.iloc[ff_trial.index].groupby('label').score.hist(bins=100, alpha=0.5, ax=axes[2,2])\n",
    "\n",
    "\n",
    "plt.show()"
   ]
  },
  {
   "cell_type": "code",
   "execution_count": null,
   "metadata": {
    "scrolled": false
   },
   "outputs": [],
   "source": [
    "fig, axes = plt.subplots(3, 3, sharex=True, sharey=True, figsize=(20, 15))\n",
    "fig.suptitle(\"female-trained\")\n",
    "\n",
    "axes[0,0].set_title(\"cosine_entire\")\n",
    "axes[1,0].set_title(\"cosine_mm\")\n",
    "axes[2,0].set_title(\"cosine_ff\")\n",
    "\n",
    "f_cosine_score.groupby('label').score.hist(bins=100, alpha=0.5, ax=axes[0,0])\n",
    "f_cosine_score.iloc[mm_trial.index].groupby('label').score.hist(bins=100, alpha=0.5, ax=axes[1,0])\n",
    "f_cosine_score.iloc[ff_trial.index].groupby('label').score.hist(bins=100, alpha=0.5, ax=axes[2,0])\n",
    "\n",
    "axes[0,1].set_title(\"lda_entire\")\n",
    "axes[1,1].set_title(\"lda_mm\")\n",
    "axes[2,1].set_title(\"lda_ff\")\n",
    "\n",
    "f_lda_score.groupby('label').score.hist(bins=100, alpha=0.5, ax=axes[0,1])\n",
    "f_lda_score.iloc[mm_trial.index].groupby('label').score.hist(bins=100, alpha=0.5, ax=axes[1,1])\n",
    "f_lda_score.iloc[ff_trial.index].groupby('label').score.hist(bins=100, alpha=0.5, ax=axes[2,1])\n",
    "\n",
    "axes[0,2].set_title(\"plda_entire\")\n",
    "axes[1,2].set_title(\"plda_mm\")\n",
    "axes[2,2].set_title(\"plda_ff\")\n",
    "\n",
    "f_plda_score.groupby('label').score.hist(bins=100, alpha=0.5, ax=axes[0,2])\n",
    "f_plda_score.iloc[mm_trial.index].groupby('label').score.hist(bins=100, alpha=0.5, ax=axes[1,2])\n",
    "f_plda_score.iloc[ff_trial.index].groupby('label').score.hist(bins=100, alpha=0.5, ax=axes[2,2])\n",
    "\n",
    "plt.show()"
   ]
  },
  {
   "cell_type": "markdown",
   "metadata": {},
   "source": [
    "## Gender classification"
   ]
  },
  {
   "cell_type": "code",
   "execution_count": 4,
   "metadata": {},
   "outputs": [],
   "source": [
    "import torch\n",
    "from torch.nn.functional import cosine_similarity\n",
    "\n",
    "def euc_dist(a, b):\n",
    "    return ((a * a) + (b * b) - b * a).sum(1)\n",
    "\n",
    "def cos_dist(a, b):\n",
    "    a = a / np.linalg.norm(a, axis=1, keepdims=True)\n",
    "    b = b / np.linalg.norm(b, axis=1, keepdims=True)\n",
    "    return -(a*b).sum(1)\n",
    "\n",
    "def cos_sim_batch(a, b, axis=2):\n",
    "    a = torch.from_numpy(a)\n",
    "    b = torch.from_numpy(b)\n",
    "    \n",
    "    return cosine_similarity(a, b, dim=axis).numpy()"
   ]
  },
  {
   "cell_type": "code",
   "execution_count": 249,
   "metadata": {},
   "outputs": [],
   "source": [
    "voxc1_train_df = pd.read_pickle(\"/dataset/SV_sets/voxceleb12/dataframes/voxc1_si_train_dataframe.pkl\")\n",
    "voxc1_test_df = pd.read_pickle(\"/dataset/SV_sets/voxceleb12/dataframes/voxc12_sv_test_dataframe.pkl\")"
   ]
  },
  {
   "cell_type": "code",
   "execution_count": 259,
   "metadata": {},
   "outputs": [],
   "source": [
    "si_keys = pickle.load(open(\"/host/projects/sv_experiments/sv_system/embeddings/voxc1/voxc1_mfcc30_best/si_keys.pkl\", \"rb\"))\n",
    "si_embeds = np.load(\"/host/projects/sv_experiments/sv_system//embeddings/voxc1/voxc1_mfcc30_best/si_embeds.npy\")\n",
    "\n",
    "sv_keys = pickle.load(open(\"/host/projects/sv_experiments/sv_system//embeddings/voxc1/voxc1_mfcc30_best/sv_keys.pkl\", \"rb\"))\n",
    "sv_embeds = np.load(\"/host/projects/sv_experiments/sv_system//embeddings/voxc1/voxc1_mfcc30_best/sv_embeds.npy\")"
   ]
  },
  {
   "cell_type": "code",
   "execution_count": 260,
   "metadata": {},
   "outputs": [],
   "source": [
    "si_key_df = key2df(si_keys)\n",
    "sv_key_df = key2df(sv_keys)"
   ]
  },
  {
   "cell_type": "code",
   "execution_count": 261,
   "metadata": {},
   "outputs": [],
   "source": [
    "trial = pd.read_pickle(\"/dataset/SV_sets/voxceleb12/dataframes/voxc12_test_trial.pkl\")\n",
    "voxc1_meta = pd.read_pickle(\"/dataset/SV_sets/voxceleb12/dataframes/voxc1_meta.pkl\")\n",
    "\n",
    "# trial['enroll_gender'] = trial.enroll_spk.apply(lambda x: voxc1_meta.loc[x].Gender)\n",
    "# trial['test_gender'] = trial.test_spk.apply(lambda x: voxc1_meta.loc[x].Gender)\n",
    "# trial.enrolment_id = trial.enroll_idx.apply(lambda x: sv_keys.index(x))\n",
    "# trial.test_id = trial.test_idx.apply(lambda x: sv_keys.index(x))"
   ]
  },
  {
   "cell_type": "code",
   "execution_count": 227,
   "metadata": {},
   "outputs": [],
   "source": [
    "# trial.to_pickle(\"/dataset/SV_sets/voxceleb12/dataframes/voxc12_sv_test_dataframe.pkl\")"
   ]
  },
  {
   "cell_type": "code",
   "execution_count": 228,
   "metadata": {},
   "outputs": [],
   "source": [
    "si_spks = si_key_df.spk.unique().tolist()\n",
    "si_spks_ar = np.array(si_spks)\n",
    "sv_spks = sv_key_df.spk.unique().tolist()\n",
    "sv_spks_ar = np.array(sv_spks)"
   ]
  },
  {
   "cell_type": "code",
   "execution_count": 229,
   "metadata": {},
   "outputs": [],
   "source": [
    "m_si_embeds = si_embeds[np.nonzero(voxc1_train_df.gender == 'm')]\n",
    "f_si_embeds = si_embeds[np.nonzero(voxc1_train_df.gender == 'f')]"
   ]
  },
  {
   "cell_type": "code",
   "execution_count": 230,
   "metadata": {},
   "outputs": [],
   "source": [
    "m_sv_embeds = sv_embeds[np.nonzero(voxc1_test_df.gender == 'm')]\n",
    "f_sv_embeds = sv_embeds[np.nonzero(voxc1_test_df.gender == 'f')]"
   ]
  },
  {
   "cell_type": "markdown",
   "metadata": {},
   "source": [
    "### Gender-independet and dependent models"
   ]
  },
  {
   "cell_type": "code",
   "execution_count": 231,
   "metadata": {},
   "outputs": [
    {
     "data": {
      "text/plain": [
       "LinearDiscriminantAnalysis(n_components=200, priors=None, shrinkage=None,\n",
       "              solver='svd', store_covariance=False, tol=0.0001)"
      ]
     },
     "execution_count": 231,
     "metadata": {},
     "output_type": "execute_result"
    }
   ],
   "source": [
    "from sklearn.discriminant_analysis import LinearDiscriminantAnalysis as LDA\n",
    "\n",
    "si_embeds_mean = si_embeds.mean(0)\n",
    "global_clf = LDA(solver='svd', n_components=200)\n",
    "global_clf.fit(si_embeds - si_embeds_mean, si_key_df.label)"
   ]
  },
  {
   "cell_type": "code",
   "execution_count": 232,
   "metadata": {},
   "outputs": [
    {
     "data": {
      "text/plain": [
       "LinearDiscriminantAnalysis(n_components=200, priors=None, shrinkage=None,\n",
       "              solver='svd', store_covariance=False, tol=0.0001)"
      ]
     },
     "execution_count": 232,
     "metadata": {},
     "output_type": "execute_result"
    }
   ],
   "source": [
    "from sklearn.discriminant_analysis import LinearDiscriminantAnalysis as LDA\n",
    "\n",
    "m_si_embeds_mean = m_si_embeds.mean(0)\n",
    "male_clf = LDA(solver='svd', n_components=200)\n",
    "male_clf.fit(m_si_embeds-m_si_embeds_mean, si_key_df.iloc[np.nonzero(voxc1_train_df.gender == 'm')].label)"
   ]
  },
  {
   "cell_type": "code",
   "execution_count": 233,
   "metadata": {},
   "outputs": [
    {
     "name": "stderr",
     "output_type": "stream",
     "text": [
      "/opt/conda/envs/pytorch-py3.6/lib/python3.6/site-packages/sklearn/discriminant_analysis.py:442: UserWarning: The priors do not sum to 1. Renormalizing\n",
      "  UserWarning)\n"
     ]
    },
    {
     "data": {
      "text/plain": [
       "LinearDiscriminantAnalysis(n_components=200, priors=None, shrinkage=None,\n",
       "              solver='svd', store_covariance=False, tol=0.0001)"
      ]
     },
     "execution_count": 233,
     "metadata": {},
     "output_type": "execute_result"
    }
   ],
   "source": [
    "from sklearn.discriminant_analysis import LinearDiscriminantAnalysis as LDA\n",
    "\n",
    "f_si_embeds_mean = f_si_embeds.mean(0)\n",
    "female_clf = LDA(solver='svd', n_components=200)\n",
    "female_clf.fit(f_si_embeds-f_si_embeds_mean, si_key_df.iloc[np.nonzero(voxc1_train_df.gender == 'f')].label)"
   ]
  },
  {
   "cell_type": "markdown",
   "metadata": {},
   "source": [
    "### Gender Calssification"
   ]
  },
  {
   "cell_type": "code",
   "execution_count": 234,
   "metadata": {},
   "outputs": [],
   "source": [
    "# embed_mean for each speaker\n",
    "si_spk_embed_means = []\n",
    "for spk in si_spks:\n",
    "    spk_embed =  si_embeds[si_key_df[si_key_df.spk == spk].index]\n",
    "    spk_embed_mean  = spk_embed.mean(0)\n",
    "    si_spk_embed_means.append(spk_embed_mean)\n",
    "\n",
    "si_spk_embed_means = np.array(si_spk_embed_means)"
   ]
  },
  {
   "cell_type": "code",
   "execution_count": 235,
   "metadata": {},
   "outputs": [],
   "source": [
    "sv_si_sim = cos_sim_batch(np.expand_dims(sv_embeds, 1), np.expand_dims(si_spk_embed_means, 0), axis=2)\n",
    "sorted_close_spks = np.argsort(sv_si_sim, axis=1)"
   ]
  },
  {
   "cell_type": "code",
   "execution_count": 236,
   "metadata": {
    "scrolled": true
   },
   "outputs": [],
   "source": [
    "gender_output = []\n",
    "k_near = 10\n",
    "# for i in range(len(sorted_close_spks)):\n",
    "#     gender_label = voxc1_meta.loc[si_spks_ar[sorted_close_spks[i,-k_near:]]].Gender\n",
    "#     n_male = np.count_nonzero(gender_label == 'm')\n",
    "#     n_female = np.count_nonzero(gender_label == 'f')\n",
    "# #     print(f\"male:{n_male}, female:{n_female}\")\n",
    "#     if n_male > k_near-1:\n",
    "#         gender_output.append('f')\n",
    "#     elif n_female > k_near-1:\n",
    "#         gender_output.append('m')\n",
    "#     else:\n",
    "#         gender_output.append('g')\n",
    "        \n",
    "gender_output = []\n",
    "for i in range(len(sorted_close_spks)):\n",
    "    gender_label = voxc1_meta.loc[si_spks_ar[sorted_close_spks[i,-k_near:]]].Gender\n",
    "    n_male = np.count_nonzero(gender_label == 'm')\n",
    "    n_female = np.count_nonzero(gender_label == 'f')\n",
    "#     print(f\"male:{n_male}, female:{n_female}\")\n",
    "    if n_male > n_female:\n",
    "        gender_output.append('m')        \n",
    "    else:\n",
    "        gender_output.append('f')\n",
    "        \n",
    "gender_clf_output = np.array(gender_output)        "
   ]
  },
  {
   "cell_type": "markdown",
   "metadata": {},
   "source": [
    "### Split trials"
   ]
  },
  {
   "cell_type": "code",
   "execution_count": 237,
   "metadata": {},
   "outputs": [],
   "source": [
    "label_m_trial = trial[(trial.enroll_gender == 'm') & (trial.test_gender == 'm')]\n",
    "label_f_trial = trial[(trial.enroll_gender == 'f') & (trial.test_gender == 'f')]"
   ]
  },
  {
   "cell_type": "code",
   "execution_count": 238,
   "metadata": {},
   "outputs": [],
   "source": [
    "trial['clf_enroll_gender'] = trial.enroll_idx.apply(lambda x: gender_clf_output[sv_keys.index(x)])\n",
    "trial['clf_test_gender'] = trial.test_idx.apply(lambda x: gender_clf_output[sv_keys.index(x)])\n",
    "\n",
    "clf_m_trial = trial[(trial.enroll_gender == 'm') & (trial.clf_test_gender == 'm')]\n",
    "clf_f_trial = trial[(trial.enroll_gender == 'f') & (trial.clf_test_gender == 'f')]\n",
    "clf_g_trial = trial.drop(index=clf_m_trial.index.tolist() + clf_f_trial.index.tolist())"
   ]
  },
  {
   "cell_type": "markdown",
   "metadata": {},
   "source": [
    "### Apply LDA model"
   ]
  },
  {
   "cell_type": "code",
   "execution_count": 243,
   "metadata": {},
   "outputs": [
    {
     "name": "stdout",
     "output_type": "stream",
     "text": [
      "global(gender-independent)\n",
      "=================================\n",
      "eer:14.180% at threshold 0.1765\n",
      "<gender-dependent thresholed>\n",
      "eer:11.552% at threshold 0.1485\n",
      "eer:9.009% at threshold 0.2290\n"
     ]
    }
   ],
   "source": [
    "# gender-independent \n",
    "\n",
    "global_lda_embeds = global_clf.transform(sv_embeds - si_embeds_mean)\n",
    "\n",
    "from eval.score_utils import compute_eer\n",
    "scores = cos_sim_batch(global_lda_embeds[trial.enrolment_id], \n",
    "                       global_lda_embeds[trial.test_id], axis=1)\n",
    "\n",
    "m_scores = scores[label_m_trial.index]\n",
    "f_scores = scores[label_f_trial.index]\n",
    "\n",
    "print(\"global(gender-independent)\")\n",
    "print(\"=================================\")\n",
    "compute_eer(scores[trial.label == 1], scores[trial.label == 0])\n",
    "print(\"<gender-dependent thresholed>\")\n",
    "m_eer, _ = compute_eer(m_scores[label_m_trial.label == 1], m_scores[label_m_trial.label == 0])\n",
    "f_eer, _ = compute_eer(f_scores[label_f_trial.label == 1], f_scores[label_f_trial.label == 0])"
   ]
  },
  {
   "cell_type": "code",
   "execution_count": 242,
   "metadata": {
    "scrolled": true
   },
   "outputs": [
    {
     "name": "stdout",
     "output_type": "stream",
     "text": [
      "optimal gender-dependent\n",
      "=================================\n",
      "<unified thresholed>\n",
      "eer:10.970% at threshold 0.1041\n",
      "<gender-dependent thresholed>\n",
      "eer:11.040% at threshold 0.0988\n",
      "eer:9.099% at threshold 0.1187\n"
     ]
    }
   ],
   "source": [
    "# gender-dependent based on label\n",
    "\n",
    "m_output_idx = np.nonzero(voxc1_test_df.gender == 'm')\n",
    "m_embeds = male_clf.transform(sv_embeds[m_output_idx] - m_si_embeds_mean)\n",
    "\n",
    "f_output_idx = np.nonzero(voxc1_test_df.gender == 'f')\n",
    "f_embeds = female_clf.transform(sv_embeds[f_output_idx] - f_si_embeds_mean)\n",
    "\n",
    "label_lda_embeds = global_lda_embeds.copy()\n",
    "label_lda_embeds[m_output_idx] = m_embeds\n",
    "label_lda_embeds[f_output_idx] = f_embeds\n",
    "\n",
    "from eval.score_utils import compute_eer\n",
    "scores = cos_sim_batch(label_lda_embeds[trial.enrolment_id], \n",
    "                       label_lda_embeds[trial.test_id], axis=1)\n",
    "\n",
    "m_scores = scores[label_m_trial.index]\n",
    "f_scores = scores[label_f_trial.index]\n",
    "\n",
    "print(\"optimal gender-dependent\")\n",
    "print(\"=================================\")\n",
    "print(\"<unified thresholed>\")\n",
    "compute_eer(scores[trial.label == 1], scores[trial.label == 0])\n",
    "print(\"<gender-dependent thresholed>\")\n",
    "m_eer, _ = compute_eer(m_scores[label_m_trial.label == 1], m_scores[label_m_trial.label == 0])\n",
    "f_eer, _ = compute_eer(f_scores[label_f_trial.label == 1], f_scores[label_f_trial.label == 0])"
   ]
  },
  {
   "cell_type": "code",
   "execution_count": 244,
   "metadata": {},
   "outputs": [
    {
     "name": "stdout",
     "output_type": "stream",
     "text": [
      "pratical gender-dependent\n",
      "=================================\n",
      "<unified thresholed>\n",
      "eer:13.490% at threshold 0.1184\n",
      "<gender-dependent thresholed>\n",
      "eer:11.049% at threshold 0.0984\n",
      "eer:11.580% at threshold 0.1596\n"
     ]
    }
   ],
   "source": [
    "# gender-dependent based on classification\n",
    "\n",
    "m_output_idx = np.nonzero(gender_clf_output == 'm')\n",
    "m_embeds = male_clf.transform(sv_embeds[m_output_idx] - m_si_embeds_mean)\n",
    "\n",
    "f_output_idx = np.nonzero(gender_clf_output == 'f')\n",
    "f_embeds = male_clf.transform(sv_embeds[f_output_idx] - f_si_embeds_mean)\n",
    "\n",
    "# g_output_idx = np.nonzero(gender_clf_output == 'g')\n",
    "# g_embeds = global_clf.transform(sv_embeds[g_output_idx] - si_embeds_mean)\n",
    "\n",
    "clf_lda_embeds = global_lda_embeds.copy() # for 'g' label we set global value\n",
    "# clf_lda_embeds = np.zeros((len(sv_embeds), 200))\n",
    "clf_lda_embeds[m_output_idx] = m_embeds \n",
    "clf_lda_embeds[f_output_idx] = f_embeds\n",
    "# clf_lda_embeds[g_output_idx] = g_embeds\n",
    "\n",
    "from eval.score_utils import compute_eer\n",
    "scores = cos_sim_batch(clf_lda_embeds[trial.enrolment_id], \n",
    "                       clf_lda_embeds[trial.test_id], axis=1)\n",
    "\n",
    "m_scores = scores[clf_m_trial.index]\n",
    "f_scores = scores[clf_f_trial.index]\n",
    "g_scores = scores[clf_g_trial.index]\n",
    "\n",
    "print(\"pratical gender-dependent\")\n",
    "print(\"=================================\")\n",
    "print(\"<unified thresholed>\")\n",
    "compute_eer(scores[trial.label == 1], scores[trial.label == 0])\n",
    "print(\"<gender-dependent thresholed>\")\n",
    "m_eer, _ = compute_eer(m_scores[clf_m_trial.label == 1], m_scores[clf_m_trial.label == 0])\n",
    "f_eer, _ = compute_eer(f_scores[clf_f_trial.label == 1], f_scores[clf_f_trial.label == 0])\n",
    "# g_eer, _ = compute_eer(g_scores[clf_g_trial.label == 1], g_scores[clf_g_trial.label == 0])"
   ]
  },
  {
   "cell_type": "markdown",
   "metadata": {},
   "source": [
    "# Baseline - average enrolled embeddings"
   ]
  },
  {
   "cell_type": "code",
   "execution_count": null,
   "metadata": {},
   "outputs": [],
   "source": [
    "enrolled_spks_df = sv_key_df.groupby('spk').apply(lambda x: x.sample(n=20))"
   ]
  },
  {
   "cell_type": "code",
   "execution_count": null,
   "metadata": {},
   "outputs": [],
   "source": [
    "enrolled_uttrs = dict()\n",
    "enrolled_aveg_embeds = []\n",
    "for spk in sv_spks:\n",
    "    enrolled_uttrs[spk] = enrolled_spks_df.loc[spk].key.tolist()\n",
    "    enrolled_aveg_embeds.append(lda_embeds[sv_key_df[sv_key_df.key.isin(enrolled_uttrs[spk])].index].mean(0))\n",
    "enrolled_aveg_embeds = np.array(enrolled_aveg_embeds)"
   ]
  },
  {
   "cell_type": "code",
   "execution_count": null,
   "metadata": {},
   "outputs": [],
   "source": [
    "all_enrolled_uttrs = np.array([v for v in enrolled_uttrs.values()]).flatten()"
   ]
  },
  {
   "cell_type": "code",
   "execution_count": null,
   "metadata": {},
   "outputs": [],
   "source": [
    "filtered_trial = trial[~trial.test_idx.isin(all_enrolled_uttrs)]"
   ]
  },
  {
   "cell_type": "code",
   "execution_count": null,
   "metadata": {},
   "outputs": [],
   "source": [
    "filtered_trial['enrolment_id'] = filtered_trial.enroll_spk.apply(lambda x: sv_spks.index(x))"
   ]
  },
  {
   "cell_type": "code",
   "execution_count": null,
   "metadata": {},
   "outputs": [],
   "source": [
    "from eval.score_utils import compute_eer\n",
    "scores = cos_sim_batch(enrolled_aveg_embeds[filtered_trial.enrolment_id], \n",
    "                       lda_embeds[filtered_trial.test_id], axis=1)\n",
    "compute_eer(scores[filtered_trial.label == 1], scores[filtered_trial.label == 0])"
   ]
  },
  {
   "cell_type": "code",
   "execution_count": null,
   "metadata": {
    "scrolled": true
   },
   "outputs": [],
   "source": [
    "from eval.score_utils import compute_eer\n",
    "scores = cos_sim_batch(lda_embeds[trial.enrolment_id], lda_embeds[trial.test_id], axis=1)\n",
    "compute_eer(scores[trial.label == 1], scores[trial.label == 0])"
   ]
  },
  {
   "cell_type": "code",
   "execution_count": null,
   "metadata": {},
   "outputs": [],
   "source": []
  }
 ],
 "metadata": {
  "kernelspec": {
   "display_name": "Python 3",
   "language": "python",
   "name": "python3"
  },
  "language_info": {
   "codemirror_mode": {
    "name": "ipython",
    "version": 3
   },
   "file_extension": ".py",
   "mimetype": "text/x-python",
   "name": "python",
   "nbconvert_exporter": "python",
   "pygments_lexer": "ipython3",
   "version": "3.6.5"
  }
 },
 "nbformat": 4,
 "nbformat_minor": 2
}
