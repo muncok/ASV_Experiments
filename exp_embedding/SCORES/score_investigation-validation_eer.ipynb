{
 "cells": [
  {
   "cell_type": "markdown",
   "metadata": {},
   "source": [
    "score_investigation-validation_eer\n",
    "------------------------\n",
    "\n",
    "validation set을 가지고 threshold를 정했을 떄의 성능\n",
    "\n"
   ]
  },
  {
   "cell_type": "markdown",
   "metadata": {},
   "source": [
    "## Environment"
   ]
  },
  {
   "cell_type": "code",
   "execution_count": 1,
   "metadata": {},
   "outputs": [
    {
     "name": "stdout",
     "output_type": "stream",
     "text": [
      "Using matplotlib backend: TkAgg\n",
      "Populating the interactive namespace from numpy and matplotlib\n"
     ]
    }
   ],
   "source": [
    "%load_ext autoreload\n",
    "%autoreload 2\n",
    "%pylab\n",
    "%matplotlib inline\n",
    "\n",
    "import pandas as pd\n",
    "import pickle\n",
    "import numpy as np\n",
    "import sys\n",
    "import os\n"
   ]
  },
  {
   "cell_type": "code",
   "execution_count": 3,
   "metadata": {},
   "outputs": [],
   "source": [
    "sys.path.append('/host/projects/sv_experiments/sv_system/')\n",
    "os.environ[\"CUDA_DEVICE_ORDER\"]=\"PCI_BUS_ID\"   # see issue #152\n",
    "os.environ[\"CUDA_VISIBLE_DEVICES\"]=\"1\""
   ]
  },
  {
   "cell_type": "code",
   "execution_count": 4,
   "metadata": {},
   "outputs": [],
   "source": [
    "def key2df(keys, delimeter=\"-\"):\n",
    "    key_df = pd.DataFrame(keys, columns=['key'])\n",
    "    key_df['spk'] = key_df.key.apply(lambda x: x.split(delimeter)[0])\n",
    "    key_df['label'] = key_df.groupby('spk').ngroup()\n",
    "    key_df['origin'] = key_df.spk.apply(lambda x: 'voxc2' if x.startswith('id') else 'voxc1')\n",
    "    \n",
    "    return key_df"
   ]
  },
  {
   "cell_type": "markdown",
   "metadata": {},
   "source": [
    "## Scores"
   ]
  },
  {
   "cell_type": "code",
   "execution_count": 5,
   "metadata": {},
   "outputs": [],
   "source": [
    "import torch\n",
    "from torch.nn.functional import cosine_similarity"
   ]
  },
  {
   "cell_type": "code",
   "execution_count": 6,
   "metadata": {},
   "outputs": [],
   "source": [
    "def read_score(score_path):\n",
    "    score = pd.read_csv(score_path, \n",
    "                    sep=' ', header=None)\n",
    "    score.columns = ['enroll', 'test', 'score']\n",
    "    \n",
    "    return score"
   ]
  },
  {
   "cell_type": "code",
   "execution_count": 13,
   "metadata": {},
   "outputs": [],
   "source": [
    "shared_cosine_score = read_score(\n",
    "    \"/host/projects/sv_experiments/sv_system/embeddings/voxc2/voxc2_mfcc30_best/shared_scores/cosine_scores\")\n",
    "shared_lda_score = read_score(\n",
    "    \"/host/projects/sv_experiments/sv_system/embeddings/voxc2/voxc2_mfcc30_best/shared_scores/lda_scores\")\n",
    "shared_plda_score = read_score(\n",
    "    \"/host/projects/sv_experiments/sv_system/embeddings/voxc2/voxc2_mfcc30_best/shared_scores/plda_scores\")"
   ]
  },
  {
   "cell_type": "code",
   "execution_count": 14,
   "metadata": {},
   "outputs": [],
   "source": [
    "all_cosine_score = read_score(\n",
    "    \"/host/projects/sv_experiments/sv_system/embeddings/voxc2/voxc2_mfcc30_best/all_scores/cosine_scores\")\n",
    "all_lda_score = read_score(\n",
    "    \"/host/projects/sv_experiments/sv_system/embeddings/voxc2/voxc2_mfcc30_best/all_scores/lda_scores\")\n",
    "all_plda_score = read_score(\n",
    "    \"/host/projects/sv_experiments/sv_system/embeddings/voxc2/voxc2_mfcc30_best/all_scores/plda_scores\")"
   ]
  },
  {
   "cell_type": "code",
   "execution_count": 15,
   "metadata": {},
   "outputs": [],
   "source": [
    "hard_cosine_score = read_score(\n",
    "    \"/host/projects/sv_experiments/sv_system/embeddings/voxc2/voxc2_mfcc30_best/hard_scores/cosine_scores\")\n",
    "hard_lda_score = read_score(\n",
    "    \"/host/projects/sv_experiments/sv_system/embeddings/voxc2/voxc2_mfcc30_best/hard_scores/lda_scores\")\n",
    "hard_plda_score = read_score(\n",
    "    \"/host/projects/sv_experiments/sv_system/embeddings/voxc2/voxc2_mfcc30_best/hard_scores/plda_scores\")"
   ]
  },
  {
   "cell_type": "code",
   "execution_count": 16,
   "metadata": {},
   "outputs": [],
   "source": [
    "voxc2_shared_trial = pd.read_pickle(\"/dataset/SV_sets/voxceleb12/dataframes/voxc12_test_trial.pkl\")\n",
    "voxc2_all_trial = pd.read_pickle(\"/dataset/SV_sets/voxceleb12/dataframes/voxc2_trials/voxc2_all_trials.pkl\")\n",
    "voxc2_hard_trial = pd.read_pickle(\"/dataset/SV_sets/voxceleb12/dataframes/voxc2_trials/voxc2_hard_trials.pkl\")"
   ]
  },
  {
   "cell_type": "code",
   "execution_count": 18,
   "metadata": {},
   "outputs": [],
   "source": [
    "voxc2_shared_trial['cosine_score'] = shared_cosine_score.score\n",
    "voxc2_shared_trial['lda_score'] = shared_lda_score.score\n",
    "voxc2_shared_trial['plda_score'] = shared_plda_score.score"
   ]
  },
  {
   "cell_type": "code",
   "execution_count": 19,
   "metadata": {},
   "outputs": [],
   "source": [
    "voxc2_hard_trial['cosine_score'] = hard_cosine_score.score\n",
    "voxc2_hard_trial['lda_score'] = hard_lda_score.score\n",
    "voxc2_hard_trial['plda_score'] = hard_plda_score.score"
   ]
  },
  {
   "cell_type": "code",
   "execution_count": 20,
   "metadata": {},
   "outputs": [],
   "source": [
    "voxc2_all_trial['cosine_score'] = all_cosine_score.score\n",
    "voxc2_all_trial['lda_score'] = all_lda_score.score\n",
    "voxc2_all_trial['plda_score'] = all_plda_score.score"
   ]
  },
  {
   "cell_type": "markdown",
   "metadata": {},
   "source": [
    "### voxc2_trial EERs"
   ]
  },
  {
   "cell_type": "code",
   "execution_count": 28,
   "metadata": {},
   "outputs": [
    {
     "name": "stdout",
     "output_type": "stream",
     "text": [
      "eer:4.311% at threshold -1.3987\n"
     ]
    }
   ],
   "source": [
    "voxc2_shared_pos_score = voxc2_shared_trial[voxc2_shared_trial.label==1].plda_score\n",
    "voxc2_shared_neg_score = voxc2_shared_trial[voxc2_shared_trial.label==0].plda_score\n",
    "\n",
    "from eval.score_utils import compute_eer\n",
    "eer, shared_thres = compute_eer(voxc2_shared_pos_score, voxc2_shared_neg_score)"
   ]
  },
  {
   "cell_type": "code",
   "execution_count": 27,
   "metadata": {},
   "outputs": [
    {
     "name": "stdout",
     "output_type": "stream",
     "text": [
      "eer:6.697% at threshold 0.1983\n"
     ]
    }
   ],
   "source": [
    "voxc2_hard_pos_score = voxc2_hard_trial[voxc2_hard_trial.label==1].plda_score\n",
    "voxc2_hard_neg_score = voxc2_hard_trial[voxc2_hard_trial.label==0].plda_score\n",
    "\n",
    "from eval.score_utils import compute_eer\n",
    "eer, hard_thres = compute_eer(voxc2_hard_pos_score, voxc2_hard_neg_score)"
   ]
  },
  {
   "cell_type": "code",
   "execution_count": 26,
   "metadata": {},
   "outputs": [
    {
     "name": "stdout",
     "output_type": "stream",
     "text": [
      "eer:4.206% at threshold -1.7356\n"
     ]
    }
   ],
   "source": [
    "voxc2_all_pos_score = voxc2_all_trial[voxc2_all_trial.label==1].plda_score\n",
    "voxc2_all_neg_score = voxc2_all_trial[voxc2_all_trial.label==0].plda_score\n",
    "\n",
    "from eval.score_utils import compute_eer\n",
    "eer, all_thres = compute_eer(voxc2_all_pos_score, voxc2_all_neg_score)"
   ]
  },
  {
   "cell_type": "markdown",
   "metadata": {},
   "source": [
    "### EER with custom threshold"
   ]
  },
  {
   "cell_type": "code",
   "execution_count": 76,
   "metadata": {
    "scrolled": true
   },
   "outputs": [],
   "source": [
    "clf_result = voxc2_shared_trial.plda_score.apply(lambda x: 1 if x > shared_thres else 0)\n",
    "shared_acc = np.count_nonzero(clf_result == voxc2_shared_trial.label) / len(voxc2_shared_trial)"
   ]
  },
  {
   "cell_type": "code",
   "execution_count": 77,
   "metadata": {},
   "outputs": [],
   "source": [
    "clf_result = voxc2_shared_trial.plda_score.apply(lambda x: 1 if x > hard_thres else 0)\n",
    "hard_acc = np.count_nonzero(clf_result == voxc2_shared_trial.label) / len(voxc2_shared_trial)"
   ]
  },
  {
   "cell_type": "code",
   "execution_count": 78,
   "metadata": {},
   "outputs": [],
   "source": [
    "clf_result = voxc2_shared_trial.plda_score.apply(lambda x: 1 if x > all_thres else 0)\n",
    "all_acc = np.count_nonzero(clf_result == voxc2_shared_trial.label) / len(voxc2_shared_trial)"
   ]
  },
  {
   "cell_type": "code",
   "execution_count": 79,
   "metadata": {},
   "outputs": [
    {
     "name": "stdout",
     "output_type": "stream",
     "text": [
      "shared_thresh 0.9569194061505832\n",
      "hard_thresh 0.9530487804878048\n",
      "all_thresh 0.9570254506892895\n"
     ]
    }
   ],
   "source": [
    "print(f\"shared_thresh {shared_acc}\")\n",
    "print(f\"hard_thresh {hard_acc}\")\n",
    "print(f\"all_thresh {all_acc}\")"
   ]
  },
  {
   "cell_type": "markdown",
   "metadata": {},
   "source": [
    "### incorrect trials"
   ]
  },
  {
   "cell_type": "code",
   "execution_count": 32,
   "metadata": {},
   "outputs": [],
   "source": [
    "voxc1_bad_pos_trial = voxc1_trial[(voxc1_trial.label==1) & (voxc1_trial.plda_score < voxc1_thres)]\n",
    "voxc1_bad_neg_trial = voxc1_trial[(voxc1_trial.label==0) & (voxc1_trial.plda_score > voxc1_thres)]\n",
    "voxc1_bad_trial = pd.concat([voxc1_bad_pos_trial, voxc1_bad_neg_trial])"
   ]
  },
  {
   "cell_type": "code",
   "execution_count": 63,
   "metadata": {},
   "outputs": [],
   "source": [
    "voxc1_trial['result'] = 1\n",
    "voxc1_trial.loc[(voxc1_trial.label==1) & (voxc1_trial.plda_score < voxc1_thres), 'result'] = 0"
   ]
  }
 ],
 "metadata": {
  "kernelspec": {
   "display_name": "Python 3",
   "language": "python",
   "name": "python3"
  },
  "language_info": {
   "codemirror_mode": {
    "name": "ipython",
    "version": 3
   },
   "file_extension": ".py",
   "mimetype": "text/x-python",
   "name": "python",
   "nbconvert_exporter": "python",
   "pygments_lexer": "ipython3",
   "version": "3.6.5"
  }
 },
 "nbformat": 4,
 "nbformat_minor": 2
}
