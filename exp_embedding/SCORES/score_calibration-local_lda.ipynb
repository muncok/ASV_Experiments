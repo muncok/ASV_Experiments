{
 "cells": [
  {
   "cell_type": "markdown",
   "metadata": {},
   "source": [
    "score_calibration\n",
    "------------------------\n",
    "\n",
    "화자의 추가 정보를 이용해서 score를 조정하여 특정 화자에 대해 성능이 좋아지게하려고 한다.\n",
    "\n"
   ]
  },
  {
   "cell_type": "markdown",
   "metadata": {},
   "source": [
    "## Environment"
   ]
  },
  {
   "cell_type": "code",
   "execution_count": 2,
   "metadata": {},
   "outputs": [
    {
     "name": "stdout",
     "output_type": "stream",
     "text": [
      "Using matplotlib backend: TkAgg\n",
      "Populating the interactive namespace from numpy and matplotlib\n"
     ]
    }
   ],
   "source": [
    "%load_ext autoreload\n",
    "%autoreload 2\n",
    "%pylab\n",
    "%matplotlib inline\n",
    "\n",
    "import pandas as pd\n",
    "import pickle\n",
    "import numpy as np\n",
    "import sys\n",
    "import os"
   ]
  },
  {
   "cell_type": "code",
   "execution_count": 3,
   "metadata": {},
   "outputs": [],
   "source": [
    "sys.path.append('/host/projects/sv_experiments/sv_system/')\n",
    "os.environ[\"CUDA_DEVICE_ORDER\"]=\"PCI_BUS_ID\"   # see issue #152\n",
    "os.environ[\"CUDA_VISIBLE_DEVICES\"]=\"3\""
   ]
  },
  {
   "cell_type": "code",
   "execution_count": 4,
   "metadata": {},
   "outputs": [],
   "source": [
    "def key2df(keys, delimeter=\"-\"):\n",
    "    key_df = pd.DataFrame(keys, columns=['key'])\n",
    "    key_df['spk'] = key_df.key.apply(lambda x: x.split(delimeter)[0])\n",
    "    key_df['label'] = key_df.groupby('spk').ngroup()\n",
    "    key_df['origin'] = key_df.spk.apply(lambda x: 'voxc2' if x.startswith('id') else 'voxc1')\n",
    "    \n",
    "    return key_df"
   ]
  },
  {
   "cell_type": "markdown",
   "metadata": {},
   "source": [
    "## Local LDA  implementaion\n",
    "\n",
    "- sv_embeds 학습 0.88%\n",
    "- sv_embeds + centering 학습 0.64% (0.4 PSB)\n",
    "- si_embeds로 학습했을 떄는 11.x%\n",
    "- si_embeds + centering 6.628% (6.872 PSB, 6.591(imposter_mean_cosin.pkl))\n",
    "- si_embeds + norm +centering 8.059% (6.998 PSB)\n",
    "\n",
    "- si_embeds + centering 6.225% (6.166% PSB)"
   ]
  },
  {
   "cell_type": "code",
   "execution_count": 5,
   "metadata": {},
   "outputs": [],
   "source": [
    "si_keys = pickle.load(open(\"/host/projects/sv_experiments/sv_system/gcommand_mfcc30_best/si_keys.pkl\", \"rb\"))\n",
    "si_embeds = np.load(\"/host/projects/sv_experiments/sv_system/gcommand_mfcc30_best/si_embeds.npy\")\n",
    "\n",
    "sv_keys = pickle.load(open(\"/host/projects/sv_experiments/sv_system/gcommand_mfcc30_best/sv_keys.pkl\", \"rb\"))\n",
    "sv_embeds = np.load(\"/host/projects/sv_experiments/sv_system/gcommand_mfcc30_best/sv_embeds.npy\")\n",
    " \n",
    "trial = pd.read_pickle(\"/dataset/SV_sets/voxceleb12/dataframes/voxc12_test_trial.pkl\")\n",
    "# trial = pd.read_pickle(\"/dataset/SV_sets/gcommand/dataframes/equal_num_30spk/equal_num_30spk_test_trial.pkl\")"
   ]
  },
  {
   "cell_type": "code",
   "execution_count": 160,
   "metadata": {},
   "outputs": [],
   "source": [
    "si_key_df = key2df(si_keys)\n",
    "sv_key_df = key2df(sv_keys)"
   ]
  },
  {
   "cell_type": "code",
   "execution_count": 161,
   "metadata": {},
   "outputs": [],
   "source": [
    "def euc_dist(a, b):\n",
    "    return ((a * a) + (b * b) - b * a).sum(1)\n",
    "\n",
    "def cos_dist(a, b):\n",
    "    a = a / np.linalg.norm(a, axis=1, keepdims=True)\n",
    "    b = b / np.linalg.norm(b, axis=1, keepdims=True)\n",
    "    return -(a*b).sum(1)"
   ]
  },
  {
   "cell_type": "code",
   "execution_count": 162,
   "metadata": {},
   "outputs": [],
   "source": [
    "si_spks = sorted(si_key_df.spk.unique().tolist())\n",
    "sv_spks = sorted(sv_key_df.spk.unique().tolist())"
   ]
  },
  {
   "cell_type": "code",
   "execution_count": 164,
   "metadata": {},
   "outputs": [],
   "source": [
    "## centering si_embeds\n",
    "si_overall_mean = si_embeds.mean(0)\n",
    "si_embeds_centered = si_embeds - si_overall_mean\n",
    "\n",
    "mean_vectors = []\n",
    "for spk in si_spks:\n",
    "    mean_vectors.append(si_embeds_centered[si_key_df[si_key_df.spk == spk].index].mean(0))\n",
    "\n",
    "# within-class scatter matrix Sw\n",
    "S_W = np.zeros([512, 512])\n",
    "\n",
    "for spk, cl_mean in zip(si_spks, mean_vectors):\n",
    "    cl_embeds = si_embeds_centered[si_key_df[si_key_df.spk == spk].index]\n",
    "    x_m = cl_embeds - cl_mean.reshape(1, 512)\n",
    "    x_m = np.expand_dims(x_m, -1)\n",
    "    cl_sc = np.matmul(x_m, x_m.transpose([0,2,1])).sum(0)\n",
    "    S_W += cl_sc\n",
    "\n",
    "# between-class scatter matrix SB\n",
    "S_B = np.zeros([512, 512])\n",
    "\n",
    "for spk, cl_mean in zip(si_spks, mean_vectors):\n",
    "    ovm_m = np.expand_dims(cl_mean, -1) - np.expand_dims(si_overall_mean, -1)\n",
    "    ns = len(si_key_df[si_key_df.spk == spk])\n",
    "    S_B += ns*ovm_m.dot(ovm_m.T)"
   ]
  },
  {
   "cell_type": "code",
   "execution_count": 222,
   "metadata": {},
   "outputs": [],
   "source": [
    "# local LDA\n",
    "# modify the bewenn-class scatter matrix SB --> PSB\n",
    "\n",
    "imposter_means = dict()\n",
    "\n",
    "for spk, cl_mean in zip(si_spks, mean_vectors):\n",
    "    cl_embeds = si_embeds_centered[si_key_df[si_key_df.spk == spk].index]\n",
    "    out_embeds = si_embeds_centered[si_key_df[si_key_df.spk != spk].index]\n",
    "    out_distances = cos_dist(cl_mean.reshape(1,512), out_embeds)\n",
    "    max_dist_in_samples = cos_dist(cl_mean.reshape(1,512), cl_embeds).max()\n",
    "    out_embeds = out_embeds[out_distances < max_dist_in_samples]\n",
    "    if len(out_embeds) > 1000:\n",
    "        imposter_mean = out_embeds.mean(0)\n",
    "    else:\n",
    "        imposter_mean = si_overall_mean\n",
    "    imposter_means[spk] = imposter_mean"
   ]
  },
  {
   "cell_type": "code",
   "execution_count": 224,
   "metadata": {
    "scrolled": true
   },
   "outputs": [],
   "source": [
    "PS_B = np.zeros([512, 512])\n",
    "for spk, cl_mean in zip(si_spks, mean_vectors):    \n",
    "    ovm_m = cl_mean.reshape(512, 1) - imposter_means[spk].reshape(512, 1)\n",
    "    ns = len(si_key_df[si_key_df.spk == spk])\n",
    "    PS_B += ns*ovm_m.dot(ovm_m.T)"
   ]
  },
  {
   "cell_type": "code",
   "execution_count": null,
   "metadata": {},
   "outputs": [],
   "source": [
    "# pickle.dump(imposter_means, open(\"imposter_mean.pkl\", \"wb\"))\n",
    "# imposter_means = pickle.load(open(\"imposter_mean_euc.pkl\", \"rb\"))"
   ]
  },
  {
   "cell_type": "markdown",
   "metadata": {},
   "source": [
    "### Eigen Analysis"
   ]
  },
  {
   "cell_type": "code",
   "execution_count": 165,
   "metadata": {},
   "outputs": [],
   "source": [
    "# eig analysis\n",
    "eig_vals, eig_vecs = np.linalg.eig(np.linalg.inv(S_W).dot(S_B))"
   ]
  },
  {
   "cell_type": "code",
   "execution_count": 225,
   "metadata": {},
   "outputs": [],
   "source": [
    "eig_vals, eig_vecs = np.linalg.eig(np.linalg.inv(S_W).dot(PS_B))"
   ]
  },
  {
   "cell_type": "code",
   "execution_count": 226,
   "metadata": {},
   "outputs": [],
   "source": [
    "# Make a list of (eigenvalue, eigenvector) tuples\n",
    "eig_pairs = [(np.abs(eig_vals[i]), eig_vecs[:,i]) for i in range(len(eig_vals))]\n",
    "\n",
    "# Sort the (eigenvalue, eigenvector) tuples from high to low\n",
    "eig_pairs = sorted(eig_pairs, key=lambda k: k[0], reverse=True)\n",
    "\n",
    "# Visually confirm that the list is correctly sorted by decreasing eigenvalues\n",
    "\n",
    "# print('Eigenvalues in decreasing order:\\n')\n",
    "# for i in eig_pairs:\n",
    "#     print(i[0])"
   ]
  },
  {
   "cell_type": "code",
   "execution_count": 227,
   "metadata": {
    "scrolled": true
   },
   "outputs": [],
   "source": [
    "# print('Variance explained:\\n')\n",
    "# eigv_sum = sum(eig_vals)\n",
    "# for i,j in enumerate(eig_pairs):\n",
    "#     print('eigenvalue {0:}: {1:.2%}'.format(i+1, (j[0]/eigv_sum).real))"
   ]
  },
  {
   "cell_type": "code",
   "execution_count": 228,
   "metadata": {},
   "outputs": [
    {
     "name": "stdout",
     "output_type": "stream",
     "text": [
      "Matrix W:\n",
      " [[-6.08520541e-05  4.49379976e-02  8.60251520e-03 ...  2.44446541e-02\n",
      "   1.36556581e-02  1.84346736e-02]\n",
      " [-4.05635188e-03 -3.77775462e-02  4.64653106e-02 ... -4.59948848e-03\n",
      "   5.36177619e-03  7.11882762e-03]\n",
      " [ 2.58835289e-02  3.54241223e-02 -5.71222036e-02 ...  5.52143049e-02\n",
      "  -9.07865252e-02  3.51444308e-02]\n",
      " ...\n",
      " [ 4.45784243e-03 -1.99528003e-02  4.48601447e-02 ... -1.46671021e-02\n",
      "  -9.16218364e-02  4.46749959e-02]\n",
      " [ 8.52374710e-02 -2.87684122e-02 -4.83442201e-02 ...  3.79613759e-02\n",
      "  -4.93495052e-02  9.75404038e-03]\n",
      " [ 7.60150856e-02  3.77620219e-03 -6.92232296e-02 ...  1.73623637e-02\n",
      "  -2.76027779e-02 -4.44020240e-02]]\n"
     ]
    }
   ],
   "source": [
    "lda_dim = 50\n",
    "W = np.hstack([eig_pairs[i][1].reshape(512,1) for i in range(lda_dim)])\n",
    "# print('Matrix W:\\n', W.real)"
   ]
  },
  {
   "cell_type": "code",
   "execution_count": 229,
   "metadata": {},
   "outputs": [],
   "source": [
    "# centering sv_embeds\n",
    "sv_embeds = np.load(\"/host/projects/sv_experiments/sv_system/gcommand_mfcc30_best/sv_embeds.npy\")\n",
    "sv_embeds_centered = sv_embeds - si_overall_mean"
   ]
  },
  {
   "cell_type": "code",
   "execution_count": 7,
   "metadata": {},
   "outputs": [
    {
     "ename": "NameError",
     "evalue": "name 'sv_embeds_centered' is not defined",
     "output_type": "error",
     "traceback": [
      "\u001b[0;31m---------------------------------------------------------------------------\u001b[0m",
      "\u001b[0;31mNameError\u001b[0m                                 Traceback (most recent call last)",
      "\u001b[0;32m<ipython-input-7-fc4503e63780>\u001b[0m in \u001b[0;36m<module>\u001b[0;34m()\u001b[0m\n\u001b[1;32m      2\u001b[0m \u001b[0;32mfrom\u001b[0m \u001b[0mtorch\u001b[0m\u001b[0;34m.\u001b[0m\u001b[0mnn\u001b[0m\u001b[0;34m.\u001b[0m\u001b[0mfunctional\u001b[0m \u001b[0;32mimport\u001b[0m \u001b[0mcosine_similarity\u001b[0m\u001b[0;34m\u001b[0m\u001b[0m\n\u001b[1;32m      3\u001b[0m \u001b[0;34m\u001b[0m\u001b[0m\n\u001b[0;32m----> 4\u001b[0;31m \u001b[0mlda_sv_embeds\u001b[0m \u001b[0;34m=\u001b[0m \u001b[0mtorch\u001b[0m\u001b[0;34m.\u001b[0m\u001b[0mfrom_numpy\u001b[0m\u001b[0;34m(\u001b[0m\u001b[0msv_embeds_centered\u001b[0m\u001b[0;34m.\u001b[0m\u001b[0mdot\u001b[0m\u001b[0;34m(\u001b[0m\u001b[0mW\u001b[0m\u001b[0;34m.\u001b[0m\u001b[0mreal\u001b[0m\u001b[0;34m)\u001b[0m\u001b[0;34m)\u001b[0m\u001b[0;34m\u001b[0m\u001b[0m\n\u001b[0m",
      "\u001b[0;31mNameError\u001b[0m: name 'sv_embeds_centered' is not defined"
     ]
    }
   ],
   "source": [
    "import torch\n",
    "from torch.nn.functional import cosine_similarity\n",
    "\n",
    "lda_sv_embeds = torch.from_numpy(sv_embeds_centered.dot(W.real))"
   ]
  },
  {
   "cell_type": "code",
   "execution_count": 231,
   "metadata": {},
   "outputs": [],
   "source": [
    "scores = cosine_similarity(lda_sv_embeds[trial.enrolment_id], lda_sv_embeds[trial.test_id], dim=1).numpy()"
   ]
  },
  {
   "cell_type": "code",
   "execution_count": 233,
   "metadata": {},
   "outputs": [
    {
     "name": "stdout",
     "output_type": "stream",
     "text": [
      "eer:11.298% at threshold 0.4893\n"
     ]
    },
    {
     "data": {
      "text/plain": [
       "(0.11297748123436202, 0.48931544154271034)"
      ]
     },
     "execution_count": 233,
     "metadata": {},
     "output_type": "execute_result"
    }
   ],
   "source": [
    "from eval.score_utils import compute_eer\n",
    "\n",
    "compute_eer(scores[trial.label == 1], \n",
    "            scores[trial.label == 0])"
   ]
  }
 ],
 "metadata": {
  "kernelspec": {
   "display_name": "Python 3",
   "language": "python",
   "name": "python3"
  },
  "language_info": {
   "codemirror_mode": {
    "name": "ipython",
    "version": 3
   },
   "file_extension": ".py",
   "mimetype": "text/x-python",
   "name": "python",
   "nbconvert_exporter": "python",
   "pygments_lexer": "ipython3",
   "version": "3.6.5"
  }
 },
 "nbformat": 4,
 "nbformat_minor": 2
}
