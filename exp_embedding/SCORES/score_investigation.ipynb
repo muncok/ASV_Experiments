{
 "cells": [
  {
   "cell_type": "markdown",
   "metadata": {},
   "source": [
    "score_investigation\n",
    "------------------------\n",
    "\n",
    "embedding 종류 그리고 score 방식에서 \n",
    "\n"
   ]
  },
  {
   "cell_type": "markdown",
   "metadata": {},
   "source": [
    "## Environment"
   ]
  },
  {
   "cell_type": "code",
   "execution_count": 2,
   "metadata": {},
   "outputs": [
    {
     "name": "stdout",
     "output_type": "stream",
     "text": [
      "Using matplotlib backend: TkAgg\n",
      "Populating the interactive namespace from numpy and matplotlib\n"
     ]
    }
   ],
   "source": [
    "%load_ext autoreload\n",
    "%autoreload 2\n",
    "%pylab\n",
    "%matplotlib inline\n",
    "\n",
    "import pandas as pd\n",
    "import pickle\n",
    "import numpy as np\n",
    "import sys\n",
    "import os\n"
   ]
  },
  {
   "cell_type": "code",
   "execution_count": 3,
   "metadata": {},
   "outputs": [],
   "source": [
    "sys.path.append('/host/projects/sv_experiments/sv_system/')\n",
    "os.environ[\"CUDA_DEVICE_ORDER\"]=\"PCI_BUS_ID\"   # see issue #152\n",
    "os.environ[\"CUDA_VISIBLE_DEVICES\"]=\"1\""
   ]
  },
  {
   "cell_type": "code",
   "execution_count": 4,
   "metadata": {},
   "outputs": [],
   "source": [
    "def key2df(keys, delimeter=\"-\"):\n",
    "    key_df = pd.DataFrame(keys, columns=['key'])\n",
    "    key_df['spk'] = key_df.key.apply(lambda x: x.split(delimeter)[0])\n",
    "    key_df['label'] = key_df.groupby('spk').ngroup()\n",
    "    key_df['origin'] = key_df.spk.apply(lambda x: 'voxc2' if x.startswith('id') else 'voxc1')\n",
    "    \n",
    "    return key_df"
   ]
  },
  {
   "cell_type": "markdown",
   "metadata": {},
   "source": [
    "## Scores"
   ]
  },
  {
   "cell_type": "code",
   "execution_count": 5,
   "metadata": {},
   "outputs": [],
   "source": [
    "import torch\n",
    "from torch.nn.functional import cosine_similarity"
   ]
  },
  {
   "cell_type": "code",
   "execution_count": 6,
   "metadata": {},
   "outputs": [],
   "source": [
    "def read_score(score_path):\n",
    "    score = pd.read_csv(score_path, \n",
    "                    sep=' ', header=None)\n",
    "    score.columns = ['enroll', 'test', 'score']\n",
    "    \n",
    "    return score"
   ]
  },
  {
   "cell_type": "code",
   "execution_count": 8,
   "metadata": {},
   "outputs": [],
   "source": [
    "cosine_score = read_score(\n",
    "    \"/host/projects/sv_experiments/sv_system/embeddings/voxc2/voxc2_mfcc30_best/scores/cosine_scores\")\n",
    "lda_score = read_score(\n",
    "    \"/host/projects/sv_experiments/sv_system/embeddings/voxc2/voxc2_mfcc30_best/scores/lda_scores\")\n",
    "plda_score = read_score(\n",
    "    \"/host/projects/sv_experiments/sv_system/embeddings/voxc2/voxc2_mfcc30_best/scores/plda_scores\")"
   ]
  },
  {
   "cell_type": "code",
   "execution_count": 7,
   "metadata": {},
   "outputs": [],
   "source": [
    "cosine_score = read_score(\n",
    "    \"/host/projects/sv_experiments/sv_system/embeddings/voxc1/voxc1_mfcc30_best/scores/cosine_scores\")\n",
    "lda_score = read_score(\n",
    "    \"/host/projects/sv_experiments/sv_system/embeddings/voxc1/voxc1_mfcc30_best/scores/lda_scores\")\n",
    "plda_score = read_score(\n",
    "    \"/host/projects/sv_experiments/sv_system/embeddings/voxc1/voxc1_mfcc30_best/scores/plda_scores\")"
   ]
  },
  {
   "cell_type": "code",
   "execution_count": 150,
   "metadata": {},
   "outputs": [],
   "source": [
    "cosine_score = read_score(\n",
    "    \"/host/projects/sv_experiments/sv_system/embeddings/voxc1/voxc1_fbank64_vad_best/plda_scores/cosine_scores\")\n",
    "lda_score = read_score(\n",
    "    \"/host/projects/sv_experiments/sv_system/embeddings/voxc1/voxc1_fbank64_vad_best/plda_scores/lda_scores\")\n",
    "plda_score = read_score(\n",
    "    \"/host/projects/sv_experiments/sv_system/embeddings/voxc1/voxc1_fbank64_vad_best/plda_scores/plda_scores\")"
   ]
  },
  {
   "cell_type": "code",
   "execution_count": 10,
   "metadata": {},
   "outputs": [],
   "source": [
    "cosine_score = read_score(\n",
    "    \"/host/projects/sv_experiments/sv_system/embeddings/voxc12/voxc12_mfcc30_best/plda_scores/cosine_scores\")\n",
    "lda_score = read_score(\n",
    "    \"/host/projects/sv_experiments/sv_system/embeddings/voxc12/voxc12_mfcc30_best/plda_scores//lda_scores\")\n",
    "plda_score = read_score(\n",
    "    \"/host/projects/sv_experiments/sv_system/embeddings/voxc12/voxc12_mfcc30_best/plda_scores//plda_scores\")"
   ]
  },
  {
   "cell_type": "code",
   "execution_count": 11,
   "metadata": {},
   "outputs": [],
   "source": [
    "voxc2_hard_trial = pd.read_pickle(\"/dataset/SV_sets/voxceleb12/dataframes/voxc2_trials/voxc2_hard_trials.pkl\")"
   ]
  },
  {
   "cell_type": "code",
   "execution_count": 8,
   "metadata": {},
   "outputs": [],
   "source": [
    "voxc1_trial = pd.read_pickle(\"/dataset/SV_sets/voxceleb12/dataframes/voxc12_test_trial.pkl\")"
   ]
  },
  {
   "cell_type": "code",
   "execution_count": 151,
   "metadata": {},
   "outputs": [],
   "source": [
    "voxc1_fbank_trial = pd.read_pickle(\"/dataset/SV_sets/voxceleb12/dataframes/voxc12_test_trial.pkl\")"
   ]
  },
  {
   "cell_type": "code",
   "execution_count": 11,
   "metadata": {},
   "outputs": [],
   "source": [
    "voxc12_trial = pd.read_pickle(\"/dataset/SV_sets/voxceleb12/dataframes/voxc12_test_trial.pkl\")"
   ]
  },
  {
   "cell_type": "code",
   "execution_count": 9,
   "metadata": {},
   "outputs": [],
   "source": [
    "voxc1_trial['cosine_score'] = cosine_score.score\n",
    "voxc1_trial['lda_score'] = lda_score.score\n",
    "voxc1_trial['plda_score'] = plda_score.score"
   ]
  },
  {
   "cell_type": "code",
   "execution_count": 152,
   "metadata": {},
   "outputs": [],
   "source": [
    "voxc1_fbank_trial['cosine_score'] = cosine_score.score\n",
    "voxc1_fbank_trial['lda_score'] = lda_score.score\n",
    "voxc1_fbank_trial['plda_score'] = plda_score.score"
   ]
  },
  {
   "cell_type": "code",
   "execution_count": 12,
   "metadata": {},
   "outputs": [],
   "source": [
    "voxc12_trial['cosine_score'] = cosine_score.score\n",
    "voxc12_trial['lda_score'] = lda_score.score\n",
    "voxc12_trial['plda_score'] = plda_score.score"
   ]
  },
  {
   "cell_type": "code",
   "execution_count": 13,
   "metadata": {},
   "outputs": [
    {
     "data": {
      "image/png": "[encoded data removed]",
      "text/plain": [
       "<Figure size 432x288 with 1 Axes>"
      ]
     },
     "metadata": {},
     "output_type": "display_data"
    }
   ],
   "source": [
    "voxc1_trial.groupby('label').plda_score.hist(alpha=0.5, bins=100)\n",
    "plt.show()"
   ]
  },
  {
   "cell_type": "code",
   "execution_count": 14,
   "metadata": {},
   "outputs": [
    {
     "data": {
      "image/png": "[encoded data removed]",
      "text/plain": [
       "<Figure size 432x288 with 1 Axes>"
      ]
     },
     "metadata": {},
     "output_type": "display_data"
    }
   ],
   "source": [
    "voxc12_trial.groupby('label').plda_score.hist(alpha=0.5, bins=100)\n",
    "plt.show()"
   ]
  },
  {
   "cell_type": "markdown",
   "metadata": {},
   "source": [
    "### voxc1 mfcc30"
   ]
  },
  {
   "cell_type": "code",
   "execution_count": 126,
   "metadata": {},
   "outputs": [
    {
     "name": "stdout",
     "output_type": "stream",
     "text": [
      "eer:5.885% at threshold -16.7609\n"
     ]
    }
   ],
   "source": [
    "voxc1_pos_score = voxc1_trial[voxc1_trial.label==1].plda_score\n",
    "voxc1_neg_score = voxc1_trial[voxc1_trial.label==0].plda_score\n",
    "\n",
    "from eval.score_utils import compute_eer\n",
    "eer, voxc1_thres = compute_eer(voxc1_pos_score, voxc1_neg_score)"
   ]
  },
  {
   "cell_type": "code",
   "execution_count": 132,
   "metadata": {},
   "outputs": [],
   "source": [
    "clf_result = voxc1_trial.plda_score.apply(lambda x: 1 if x > voxc1_thres else 0)\n",
    "voxc1_trial['result'] = clf_result == voxc1_trial.label"
   ]
  },
  {
   "cell_type": "code",
   "execution_count": 186,
   "metadata": {},
   "outputs": [],
   "source": [
    "# voxc1_bad_pos_trial = voxc1_trial[(voxc1_trial.label==1) & (voxc1_trial.plda_score < voxc1_thres)]\n",
    "# voxc1_bad_neg_trial = voxc1_trial[(voxc1_trial.label==0) & (voxc1_trial.plda_score > voxc1_thres)]\n",
    "voxc1_bad_trial = voxc1_trial[~voxc1_trial.result]"
   ]
  },
  {
   "cell_type": "markdown",
   "metadata": {},
   "source": [
    "### voxc1 fbank64"
   ]
  },
  {
   "cell_type": "code",
   "execution_count": 153,
   "metadata": {},
   "outputs": [
    {
     "name": "stdout",
     "output_type": "stream",
     "text": [
      "eer:4.979% at threshold -4.4159\n"
     ]
    }
   ],
   "source": [
    "voxc1_fbank_pos_score = voxc1_fbank_trial[voxc1_fbank_trial.label==1].plda_score\n",
    "voxc1_fbank_neg_score = voxc1_fbank_trial[voxc1_fbank_trial.label==0].plda_score\n",
    "\n",
    "from eval.score_utils import compute_eer\n",
    "eer, voxc1_fbank_thres = compute_eer(voxc1_fbank_pos_score, voxc1_fbank_neg_score)"
   ]
  },
  {
   "cell_type": "code",
   "execution_count": 154,
   "metadata": {},
   "outputs": [],
   "source": [
    "voxc1_fbank_bad_pos_trial = voxc1_fbank_trial[(voxc1_fbank_trial.label==1) & (voxc1_fbank_trial.plda_score < voxc1_fbank_thres)]\n",
    "voxc1_fbank_bad_neg_trial = voxc1_fbank_trial[(voxc1_fbank_trial.label==0) & (voxc1_fbank_trial.plda_score > voxc1_fbank_thres)]\n",
    "voxc1_fbank_bad_trial = pd.concat([voxc1_fbank_bad_pos_trial, voxc1_fbank_bad_neg_trial])"
   ]
  },
  {
   "cell_type": "code",
   "execution_count": 155,
   "metadata": {},
   "outputs": [],
   "source": [
    "clf_result = voxc1_fbank_trial.plda_score.apply(lambda x: 1 if x > voxc1_fbank_thres else 0)\n",
    "voxc1_fbank_trial['result'] = clf_result == voxc1_fbank_trial.label"
   ]
  },
  {
   "cell_type": "markdown",
   "metadata": {},
   "source": [
    "### voxc12"
   ]
  },
  {
   "cell_type": "code",
   "execution_count": 133,
   "metadata": {},
   "outputs": [
    {
     "name": "stdout",
     "output_type": "stream",
     "text": [
      "eer:3.150% at threshold -2.9430\n"
     ]
    }
   ],
   "source": [
    "voxc12_pos_score = voxc12_trial[voxc12_trial.label==1].plda_score\n",
    "voxc12_neg_score = voxc12_trial[voxc12_trial.label==0].plda_score\n",
    "\n",
    "from eval.score_utils import compute_eer\n",
    "eer, voxc12_thres = compute_eer(voxc12_pos_score, voxc12_neg_score)"
   ]
  },
  {
   "cell_type": "code",
   "execution_count": 156,
   "metadata": {},
   "outputs": [],
   "source": [
    "voxc12_bad_pos_trial = voxc12_trial[(voxc12_trial.label==1) & (voxc12_trial.plda_score < voxc12_thres)]\n",
    "voxc12_bad_neg_trial = voxc12_trial[(voxc12_trial.label==0) & (voxc12_trial.plda_score > voxc12_thres)]\n",
    "voxc12_bad_trial = pd.concat([voxc12_bad_pos_trial, voxc12_bad_neg_trial])"
   ]
  },
  {
   "cell_type": "code",
   "execution_count": 135,
   "metadata": {},
   "outputs": [],
   "source": [
    "clf_result = voxc12_trial.plda_score.apply(lambda x: 1 if x > voxc12_thres else 0)\n",
    "voxc12_trial['result'] = clf_result == voxc1_trial.label"
   ]
  },
  {
   "cell_type": "markdown",
   "metadata": {},
   "source": [
    "### voxc1_mfcc30과 voxc12 관계 분석\n",
    "\n",
    "voxc1_mfcc30에서 맞춘것 중에 추가로 481개 틀리고, 틀린것 2222개 중에 1513개를 새로 맞춰서 최종적으로 1190개를 틀렸다."
   ]
  },
  {
   "cell_type": "code",
   "execution_count": 136,
   "metadata": {},
   "outputs": [
    {
     "data": {
      "text/plain": [
       "True     35498\n",
       "False     2222\n",
       "Name: result, dtype: int64"
      ]
     },
     "execution_count": 136,
     "metadata": {},
     "output_type": "execute_result"
    }
   ],
   "source": [
    "voxc1_trial.result.value_counts()"
   ]
  },
  {
   "cell_type": "code",
   "execution_count": 137,
   "metadata": {},
   "outputs": [
    {
     "data": {
      "text/plain": [
       "True     36530\n",
       "False     1190\n",
       "Name: result, dtype: int64"
      ]
     },
     "execution_count": 137,
     "metadata": {},
     "output_type": "execute_result"
    }
   ],
   "source": [
    "voxc12_trial.result.value_counts()"
   ]
  },
  {
   "cell_type": "code",
   "execution_count": 142,
   "metadata": {},
   "outputs": [
    {
     "data": {
      "text/plain": [
       "True     1513\n",
       "False     709\n",
       "Name: result, dtype: int64"
      ]
     },
     "execution_count": 142,
     "metadata": {},
     "output_type": "execute_result"
    }
   ],
   "source": [
    "# voxc1에서 틀린 것 중에 voxc12가 맞춘것\n",
    "\n",
    "voxc12_trial.iloc[voxc1_trial[voxc1_trial.result == 0].index].result.value_counts()"
   ]
  },
  {
   "cell_type": "code",
   "execution_count": 144,
   "metadata": {},
   "outputs": [
    {
     "data": {
      "text/plain": [
       "True     35017\n",
       "False      481\n",
       "Name: result, dtype: int64"
      ]
     },
     "execution_count": 144,
     "metadata": {},
     "output_type": "execute_result"
    }
   ],
   "source": [
    "# voxc1에서 맞은 것 중에 voxc1가 틀린것\n",
    "\n",
    "voxc12_trial.iloc[voxc1_trial[voxc1_trial.result == 1].index].result.value_counts()"
   ]
  },
  {
   "cell_type": "code",
   "execution_count": 145,
   "metadata": {},
   "outputs": [
    {
     "data": {
      "text/plain": [
       "1190"
      ]
     },
     "execution_count": 145,
     "metadata": {},
     "output_type": "execute_result"
    }
   ],
   "source": [
    "(2222 - 1513) +  481"
   ]
  },
  {
   "cell_type": "markdown",
   "metadata": {},
   "source": [
    "### voxc1_fbank64와 voxc12 관계 분석\n",
    "\n",
    "voxc1_fbank64에서 맞춘것 중에 추가로 571개 틀리고, 틀린것 1877 중에 1258개를 새로 맞춰서 최종적으로 1190개를 틀렸다."
   ]
  },
  {
   "cell_type": "code",
   "execution_count": 161,
   "metadata": {},
   "outputs": [
    {
     "data": {
      "text/plain": [
       "True     35843\n",
       "False     1877\n",
       "Name: result, dtype: int64"
      ]
     },
     "execution_count": 161,
     "metadata": {},
     "output_type": "execute_result"
    }
   ],
   "source": [
    "voxc1_fbank_trial.result.value_counts()"
   ]
  },
  {
   "cell_type": "code",
   "execution_count": 162,
   "metadata": {},
   "outputs": [
    {
     "data": {
      "text/plain": [
       "True     36530\n",
       "False     1190\n",
       "Name: result, dtype: int64"
      ]
     },
     "execution_count": 162,
     "metadata": {},
     "output_type": "execute_result"
    }
   ],
   "source": [
    "voxc12_trial.result.value_counts()"
   ]
  },
  {
   "cell_type": "code",
   "execution_count": 164,
   "metadata": {},
   "outputs": [
    {
     "data": {
      "text/plain": [
       "True     1258\n",
       "False     619\n",
       "Name: result, dtype: int64"
      ]
     },
     "execution_count": 164,
     "metadata": {},
     "output_type": "execute_result"
    }
   ],
   "source": [
    "# voxc1_fbank에서 틀린 것 중에 voxc12 맞춘것 (see True)\n",
    "\n",
    "voxc12_trial.iloc[voxc1_fbank_trial[voxc1_fbank_trial.result == 0].index].result.value_counts()"
   ]
  },
  {
   "cell_type": "code",
   "execution_count": 166,
   "metadata": {},
   "outputs": [
    {
     "data": {
      "text/plain": [
       "True     35272\n",
       "False      571\n",
       "Name: result, dtype: int64"
      ]
     },
     "execution_count": 166,
     "metadata": {},
     "output_type": "execute_result"
    }
   ],
   "source": [
    "# voxc1에서 맞은 것 중에 voxc1가 틀린것 (see False)\n",
    "\n",
    "voxc12_trial.iloc[voxc1_fbank_trial[voxc1_fbank_trial.result == 1].index].result.value_counts()"
   ]
  },
  {
   "cell_type": "markdown",
   "metadata": {},
   "source": [
    "### voxc1_mfcc30과 voxc1_fbank64 관계 분석\n",
    "\n",
    "voxc1_mfcc30에서 맞춘것 중에 추가로 867개 틀리고, 틀린것 2222개 중에 1212개를 새로 맞춰서 최종적으로 1877개를 틀렸다."
   ]
  },
  {
   "cell_type": "code",
   "execution_count": 136,
   "metadata": {},
   "outputs": [
    {
     "data": {
      "text/plain": [
       "True     35498\n",
       "False     2222\n",
       "Name: result, dtype: int64"
      ]
     },
     "execution_count": 136,
     "metadata": {},
     "output_type": "execute_result"
    }
   ],
   "source": [
    "voxc1_trial.result.value_counts()"
   ]
  },
  {
   "cell_type": "code",
   "execution_count": 157,
   "metadata": {},
   "outputs": [
    {
     "data": {
      "text/plain": [
       "True     35843\n",
       "False     1877\n",
       "Name: result, dtype: int64"
      ]
     },
     "execution_count": 157,
     "metadata": {},
     "output_type": "execute_result"
    }
   ],
   "source": [
    "voxc1_fbank_trial.result.value_counts()"
   ]
  },
  {
   "cell_type": "code",
   "execution_count": 159,
   "metadata": {},
   "outputs": [
    {
     "data": {
      "text/plain": [
       "True     1212\n",
       "False    1010\n",
       "Name: result, dtype: int64"
      ]
     },
     "execution_count": 159,
     "metadata": {},
     "output_type": "execute_result"
    }
   ],
   "source": [
    "# voxc1에서 틀린 것 중에 voxc1_fbank가 맞춘것 (see True)\n",
    "\n",
    "voxc1_fbank_trial.iloc[voxc1_trial[voxc1_trial.result == 0].index].result.value_counts()"
   ]
  },
  {
   "cell_type": "code",
   "execution_count": 160,
   "metadata": {},
   "outputs": [
    {
     "data": {
      "text/plain": [
       "True     34631\n",
       "False      867\n",
       "Name: result, dtype: int64"
      ]
     },
     "execution_count": 160,
     "metadata": {},
     "output_type": "execute_result"
    }
   ],
   "source": [
    "# voxc1에서 맞은 것 중에 voxc1가 틀린것 (see False)\n",
    "\n",
    "voxc1_fbank_trial.iloc[voxc1_trial[voxc1_trial.result == 1].index].result.value_counts()"
   ]
  },
  {
   "cell_type": "markdown",
   "metadata": {},
   "source": [
    "### 모든 case에서 틀린 trials"
   ]
  },
  {
   "cell_type": "code",
   "execution_count": 168,
   "metadata": {},
   "outputs": [],
   "source": [
    "hardest_trials = set(voxc1_bad_trial.index) & set(voxc1_fbank_bad_trial.index) & set(voxc12_bad_trial.index)"
   ]
  },
  {
   "cell_type": "code",
   "execution_count": 172,
   "metadata": {},
   "outputs": [],
   "source": [
    "voxc1_hardest_trials = voxc1_trial.iloc[list(hardest_trials)]"
   ]
  },
  {
   "cell_type": "code",
   "execution_count": 177,
   "metadata": {},
   "outputs": [
    {
     "data": {
      "text/plain": [
       "label\n",
       "0    AxesSubplot(0.125,0.125;0.775x0.755)\n",
       "1    AxesSubplot(0.125,0.125;0.775x0.755)\n",
       "Name: plda_score, dtype: object"
      ]
     },
     "execution_count": 177,
     "metadata": {},
     "output_type": "execute_result"
    },
    {
     "data": {
      "image/png": "[encoded data removed]",
      "text/plain": [
       "<Figure size 432x288 with 1 Axes>"
      ]
     },
     "metadata": {},
     "output_type": "display_data"
    }
   ],
   "source": [
    "voxc1_hardest_trials.groupby('label').plda_score.hist(alpha=0.5, bins=20)"
   ]
  },
  {
   "cell_type": "code",
   "execution_count": 188,
   "metadata": {},
   "outputs": [
    {
     "data": {
      "text/plain": [
       "label\n",
       "0    AxesSubplot(0.125,0.125;0.775x0.755)\n",
       "1    AxesSubplot(0.125,0.125;0.775x0.755)\n",
       "Name: plda_score, dtype: object"
      ]
     },
     "execution_count": 188,
     "metadata": {},
     "output_type": "execute_result"
    },
    {
     "data": {
      "image/png": "[encoded data removed]",
      "text/plain": [
       "<Figure size 432x288 with 1 Axes>"
      ]
     },
     "metadata": {},
     "output_type": "display_data"
    }
   ],
   "source": [
    "voxc1_bad_trial.groupby('label').plda_score.hist(alpha=0.5, bins=100)"
   ]
  },
  {
   "cell_type": "markdown",
   "metadata": {},
   "source": [
    "### Score Fusion\n",
    "\n",
    "단순히 더하는 거로는... 시너지가 없다. 그냥 voxc12를 많이 섞을수록 점점 좋아진다."
   ]
  },
  {
   "cell_type": "code",
   "execution_count": 105,
   "metadata": {},
   "outputs": [],
   "source": [
    "al = 0.5\n",
    "fusion_pos_score = voxc1_pos_score*(1-al) + voxc12_pos_score*al\n",
    "fusion_neg_score = voxc1_neg_score*(1-al) + voxc12_neg_score*al"
   ]
  },
  {
   "cell_type": "code",
   "execution_count": 106,
   "metadata": {},
   "outputs": [
    {
     "name": "stdout",
     "output_type": "stream",
     "text": [
      "eer:3.897% at threshold -9.7755\n"
     ]
    }
   ],
   "source": [
    "from eval.score_utils import compute_eer\n",
    "eer, fusion_thres = compute_eer(fusion_pos_score, fusion_neg_score)"
   ]
  },
  {
   "cell_type": "code",
   "execution_count": 147,
   "metadata": {},
   "outputs": [
    {
     "data": {
      "text/plain": [
       "0.5946173254835997"
      ]
     },
     "execution_count": 147,
     "metadata": {},
     "output_type": "execute_result"
    }
   ],
   "source": [
    "len(set(voxc1_bad_trial.index) & set(voxc12_bad_trial.index)) / len(voxc12_bad_trial.index)"
   ]
  },
  {
   "cell_type": "code",
   "execution_count": null,
   "metadata": {},
   "outputs": [],
   "source": [
    "plda_pos_trials.hist(bins=100)\n",
    "plt.xlim([-20, 20])"
   ]
  },
  {
   "cell_type": "code",
   "execution_count": null,
   "metadata": {},
   "outputs": [],
   "source": [
    "plda_neg_trials.hist(bins=100)\n",
    "plt.xlim([-20, 20])"
   ]
  },
  {
   "cell_type": "markdown",
   "metadata": {},
   "source": [
    "## Wav listening"
   ]
  },
  {
   "cell_type": "code",
   "execution_count": null,
   "metadata": {},
   "outputs": [],
   "source": [
    "from IPython.display import Audio \n",
    "from IPython.display import display \n",
    "import os\n",
    "\n",
    "def idx2wav(base_dir, idx):\n",
    "    spk = idx[:7]\n",
    "    session = idx[8:19]\n",
    "    record_id = idx[20:]\n",
    "    file = '/'.join([spk, session, record_id]) + '.wav'\n",
    "    return os.path.join(base_dir, file)\n",
    "\n",
    "def display_audio_list(audio_paths):\n",
    "    if isinstance(audio_paths, str):\n",
    "        audio_paths = [audio_paths]\n",
    "        \n",
    "    for path in audio_paths:\n",
    "        print(path)\n",
    "        display(Audio(path))\n",
    "        \n",
    "def display_audio_df(base_dir, audio_df):        \n",
    "    for idx, row in audio_df.iterrows():\n",
    "        enroll = row.enroll\n",
    "        test = row.test\n",
    "        print(enroll)\n",
    "        print(test)\n",
    "        print(row.score)\n",
    "        display(Audio(idx2wav(base_dir, enroll)))        \n",
    "        display(Audio(idx2wav(base_dir, test)))"
   ]
  },
  {
   "cell_type": "code",
   "execution_count": null,
   "metadata": {},
   "outputs": [],
   "source": [
    "display_audio_df('/dataset/SV_sets/voxceleb1/test/wav', plda_pos_trials.sort_values('score')[:20])"
   ]
  },
  {
   "cell_type": "code",
   "execution_count": null,
   "metadata": {},
   "outputs": [],
   "source": [
    "display_audio_df('/dataset/SV_sets/voxceleb1/test/wav', plda_neg_trials.sort_values('score', ascending=False)[:20])"
   ]
  },
  {
   "cell_type": "code",
   "execution_count": null,
   "metadata": {},
   "outputs": [],
   "source": [
    "plda_neg_trials['enroll_spk'] = plda_neg_trials.enroll.apply(lambda x: x[:7])\n",
    "plda_neg_trials['test_spk'] = plda_neg_trials.test.apply(lambda x: x[:7])"
   ]
  },
  {
   "cell_type": "code",
   "execution_count": null,
   "metadata": {},
   "outputs": [],
   "source": [
    "score_stat = plda_neg_trials.groupby(['enroll_spk', 'test_spk']).mean()"
   ]
  },
  {
   "cell_type": "code",
   "execution_count": null,
   "metadata": {},
   "outputs": [],
   "source": [
    "score_stat = score_stat.sort_values('score', ascending=False)"
   ]
  },
  {
   "cell_type": "code",
   "execution_count": null,
   "metadata": {},
   "outputs": [],
   "source": [
    "score_stat"
   ]
  }
 ],
 "metadata": {
  "kernelspec": {
   "display_name": "Python 3",
   "language": "python",
   "name": "python3"
  },
  "language_info": {
   "codemirror_mode": {
    "name": "ipython",
    "version": 3
   },
   "file_extension": ".py",
   "mimetype": "text/x-python",
   "name": "python",
   "nbconvert_exporter": "python",
   "pygments_lexer": "ipython3",
   "version": "3.6.5"
  }
 },
 "nbformat": 4,
 "nbformat_minor": 2
}
