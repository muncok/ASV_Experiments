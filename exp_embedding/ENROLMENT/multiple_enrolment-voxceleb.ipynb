{
 "cells": [
  {
   "cell_type": "markdown",
   "metadata": {},
   "source": [
    "multiple enrolment\n",
    "------------------------\n",
    "\n",
    "현재 voxceleb은 1:1 trial만 제공하는데 실제 enrollment를 할 때 성능이 어떻게 변하는지?\n",
    "\n",
    "enrollment 쪽에 아이디어가 있을 수 있나?"
   ]
  },
  {
   "cell_type": "markdown",
   "metadata": {},
   "source": [
    "## Environment"
   ]
  },
  {
   "cell_type": "code",
   "execution_count": 1,
   "metadata": {},
   "outputs": [
    {
     "name": "stdout",
     "output_type": "stream",
     "text": [
      "Using matplotlib backend: TkAgg\n",
      "Populating the interactive namespace from numpy and matplotlib\n"
     ]
    }
   ],
   "source": [
    "%load_ext autoreload\n",
    "%autoreload 2\n",
    "%pylab\n",
    "%matplotlib inline\n",
    "\n",
    "import pandas as pd\n",
    "import pickle\n",
    "import numpy as np\n",
    "import sys\n",
    "import os"
   ]
  },
  {
   "cell_type": "code",
   "execution_count": 3,
   "metadata": {},
   "outputs": [],
   "source": [
    "sys.path.append('/host/projects/sv_experiments/sv_system/')\n",
    "os.environ[\"CUDA_DEVICE_ORDER\"]=\"PCI_BUS_ID\"   # see issue #152\n",
    "os.environ[\"CUDA_VISIBLE_DEVICES\"]=\"3\""
   ]
  },
  {
   "cell_type": "code",
   "execution_count": 4,
   "metadata": {},
   "outputs": [],
   "source": [
    "def key2df(keys, delimeter=\"-\"):\n",
    "    key_df = pd.DataFrame(keys, columns=['key'])\n",
    "    key_df['spk'] = key_df.key.apply(lambda x: x.split(delimeter)[0])\n",
    "    key_df['label'] = key_df.groupby('spk').ngroup()\n",
    "    key_df['origin'] = key_df.spk.apply(lambda x: 'voxc2' if x.startswith('id') else 'voxc1')\n",
    "    \n",
    "    return key_df"
   ]
  },
  {
   "cell_type": "code",
   "execution_count": 6,
   "metadata": {},
   "outputs": [],
   "source": [
    "import torch\n",
    "from torch.nn.functional import cosine_similarity\n",
    "\n",
    "def euc_dist(a, b):\n",
    "    return ((a * a) + (b * b) - b * a).sum(1)\n",
    "\n",
    "def cos_dist(a, b):\n",
    "    a = a / np.linalg.norm(a, axis=1, keepdims=True)\n",
    "    b = b / np.linalg.norm(b, axis=1, keepdims=True)\n",
    "    return -(a*b).sum(1)\n",
    "\n",
    "def cos_sim_batch(a, b, axis=2):\n",
    "    a = torch.from_numpy(a)\n",
    "    b = torch.from_numpy(b)\n",
    "    \n",
    "    return cosine_similarity(a, b, dim=axis).numpy()"
   ]
  },
  {
   "cell_type": "markdown",
   "metadata": {},
   "source": [
    "### Baseline - average enrolled embeddings"
   ]
  },
  {
   "cell_type": "code",
   "execution_count": 5,
   "metadata": {},
   "outputs": [],
   "source": [
    "si_keys = pickle.load(open(\"/host/projects/sv_experiments/sv_system/embeddings/voxc1/voxc1_mfcc30_best/si_keys.pkl\", \"rb\"))\n",
    "si_embeds = np.load(\"/host/projects/sv_experiments/sv_system/embeddings/voxc1/voxc1_mfcc30_best/si_embeds.npy\")\n",
    "\n",
    "sv_keys = pickle.load(open(\"/host/projects/sv_experiments/sv_system/embeddings/voxc1/voxc1_mfcc30_best/sv_keys.pkl\", \"rb\"))\n",
    "sv_embeds = np.load(\"/host/projects/sv_experiments/sv_system/embeddings/voxc1//voxc1_mfcc30_best/sv_embeds.npy\")\n",
    " \n",
    "trial = pd.read_pickle(\"/dataset/SV_sets/voxceleb12/dataframes/voxc12_test_trial.pkl\")"
   ]
  },
  {
   "cell_type": "code",
   "execution_count": 29,
   "metadata": {},
   "outputs": [],
   "source": [
    "si_key_df = key2df(si_keys)\n",
    "sv_key_df = key2df(sv_keys)\n",
    "\n",
    "si_spks = si_key_df.spk.unique().tolist()\n",
    "sv_spks = sv_key_df.spk.unique().tolist()"
   ]
  },
  {
   "cell_type": "code",
   "execution_count": 33,
   "metadata": {},
   "outputs": [],
   "source": [
    "sv_key_df['session'] = sv_key_df.key.apply(lambda x: x[8:-6])"
   ]
  },
  {
   "cell_type": "code",
   "execution_count": null,
   "metadata": {},
   "outputs": [],
   "source": [
    "from sklearn.discriminant_analysis import LinearDiscriminantAnalysis as LDA\n",
    "clf = LDA()\n",
    "si_mean = si_embeds.mean(0)\n",
    "clf.fit(si_embeds-si_mean, si_key_df.label)\n",
    "overall_LDA = clf"
   ]
  },
  {
   "cell_type": "code",
   "execution_count": 70,
   "metadata": {},
   "outputs": [],
   "source": [
    "lda_embeds = overall_LDA.transform(sv_embeds-si_mean)"
   ]
  },
  {
   "cell_type": "code",
   "execution_count": 95,
   "metadata": {},
   "outputs": [],
   "source": [
    "enroll_session = dict()\n",
    "for spk in sv_spks:\n",
    "    enroll_session[spk] = np.random.choice(sv_key_df[sv_key_df.spk == spk].session, size=4, replace=False)"
   ]
  },
  {
   "cell_type": "code",
   "execution_count": 96,
   "metadata": {},
   "outputs": [],
   "source": [
    "enrolled_aveg_embeds = []\n",
    "enrolled_uttrs = []\n",
    "for spk in sv_spks:\n",
    "    sess = enroll_session[spk]\n",
    "    enrolled_aveg_embeds += [lda_embeds[sv_key_df[sv_key_df.session.isin(sess)].index].mean(0)]\n",
    "    enrolled_uttrs += sv_key_df[sv_key_df.session.isin(sess)].key.tolist()\n",
    "enrolled_aveg_embeds = np.array(enrolled_aveg_embeds)"
   ]
  },
  {
   "cell_type": "code",
   "execution_count": 97,
   "metadata": {},
   "outputs": [],
   "source": [
    "filtered_trial = trial[~trial.test_idx.isin(enrolled_uttrs)]"
   ]
  },
  {
   "cell_type": "code",
   "execution_count": 104,
   "metadata": {},
   "outputs": [
    {
     "name": "stderr",
     "output_type": "stream",
     "text": [
      "/opt/conda/envs/pytorch-py3.6/lib/python3.6/site-packages/ipykernel_launcher.py:3: SettingWithCopyWarning: \n",
      "A value is trying to be set on a copy of a slice from a DataFrame.\n",
      "Try using .loc[row_indexer,col_indexer] = value instead\n",
      "\n",
      "See the caveats in the documentation: http://pandas.pydata.org/pandas-docs/stable/indexing.html#indexing-view-versus-copy\n",
      "  This is separate from the ipykernel package so we can avoid doing imports until\n"
     ]
    }
   ],
   "source": [
    "# now enrolment_id is not for uttrs but for spk\n",
    "enrolment_id = filtered_trial.enroll_spk.apply(lambda x: sv_spks.index(x))\n",
    "filtered_trial['enrolment_id'] = enrolment_id"
   ]
  },
  {
   "cell_type": "code",
   "execution_count": 99,
   "metadata": {},
   "outputs": [
    {
     "name": "stdout",
     "output_type": "stream",
     "text": [
      "eer:3.141% at threshold 0.1469\n"
     ]
    },
    {
     "data": {
      "text/plain": [
       "(0.031409168081494056, 0.14690098121470396)"
      ]
     },
     "execution_count": 99,
     "metadata": {},
     "output_type": "execute_result"
    }
   ],
   "source": [
    "from eval.score_utils import compute_eer\n",
    "scores = cos_sim_batch(enrolled_aveg_embeds[filtered_trial.enrolment_id], \n",
    "                       lda_embeds[filtered_trial.test_id], axis=1)\n",
    "compute_eer(scores[filtered_trial.label == 1], scores[filtered_trial.label == 0])"
   ]
  },
  {
   "cell_type": "code",
   "execution_count": 89,
   "metadata": {
    "scrolled": true
   },
   "outputs": [
    {
     "name": "stdout",
     "output_type": "stream",
     "text": [
      "eer:9.756% at threshold 0.0704\n"
     ]
    },
    {
     "data": {
      "text/plain": [
       "(0.09756097560975607, 0.07037735300434955)"
      ]
     },
     "execution_count": 89,
     "metadata": {},
     "output_type": "execute_result"
    }
   ],
   "source": [
    "from eval.score_utils import compute_eer\n",
    "scores = cos_sim_batch(lda_embeds[trial.enrolment_id], lda_embeds[trial.test_id], axis=1)\n",
    "compute_eer(scores[trial.label == 1], scores[trial.label == 0])"
   ]
  }
 ],
 "metadata": {
  "kernelspec": {
   "display_name": "Python 3",
   "language": "python",
   "name": "python3"
  },
  "language_info": {
   "codemirror_mode": {
    "name": "ipython",
    "version": 3
   },
   "file_extension": ".py",
   "mimetype": "text/x-python",
   "name": "python",
   "nbconvert_exporter": "python",
   "pygments_lexer": "ipython3",
   "version": "3.6.5"
  }
 },
 "nbformat": 4,
 "nbformat_minor": 2
}
