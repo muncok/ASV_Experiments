{
 "cells": [
  {
   "cell_type": "markdown",
   "metadata": {},
   "source": [
    "# DDA (Deep Discriminant Analysis)\n",
    "\n",
    "기존의 DDA 학습은 classification base였다면 이번에는 Metric learning을 이용하여 DDA를 수행해보자.\n",
    "\n",
    "----"
   ]
  },
  {
   "cell_type": "markdown",
   "metadata": {},
   "source": [
    "Various length\n",
    "-----\n",
    "\n",
    "input frames을 100f, 200f, 400f, 800f로 잘라놓고\n",
    "\n",
    "긴것을 앵커로 놓고 작은 것을 positive negative로 놓아 어떻게 되는지 보려고 한다."
   ]
  },
  {
   "cell_type": "markdown",
   "metadata": {},
   "source": [
    "### Environment"
   ]
  },
  {
   "cell_type": "code",
   "execution_count": 1,
   "metadata": {},
   "outputs": [
    {
     "name": "stdout",
     "output_type": "stream",
     "text": [
      "Using matplotlib backend: TkAgg\n",
      "Populating the interactive namespace from numpy and matplotlib\n"
     ]
    }
   ],
   "source": [
    "%load_ext autoreload\n",
    "%autoreload 2\n",
    "%pylab\n",
    "%matplotlib inline\n",
    "\n",
    "import pandas as pd\n",
    "import pickle\n",
    "import numpy as np\n",
    "import sys\n",
    "import os"
   ]
  },
  {
   "cell_type": "code",
   "execution_count": 2,
   "metadata": {},
   "outputs": [],
   "source": [
    "sys.path.append('../../sv_system/')\n",
    "os.environ[\"CUDA_DEVICE_ORDER\"]=\"PCI_BUS_ID\"   # see issue #152\n",
    "os.environ[\"CUDA_VISIBLE_DEVICES\"]=\"1\""
   ]
  },
  {
   "cell_type": "markdown",
   "metadata": {},
   "source": [
    "### Configuration"
   ]
  },
  {
   "cell_type": "code",
   "execution_count": 3,
   "metadata": {},
   "outputs": [],
   "source": [
    "from utils.parser import set_train_config\n",
    "import easydict\n",
    "\n",
    "# datasets\n",
    "# voxc1_fbank_xvector\n",
    "# gcommand_fbank_xvector\n",
    "\n",
    "args = easydict.EasyDict(dict(dataset=\"voxc1_fbank_xvector\",\n",
    "                              input_frames=100, splice_frames=[50, 100], stride_frames=1, input_format='fbank',\n",
    "                              cuda=True,\n",
    "                              lrs=[0.1, 0.01], lr_schedule=[20], seed=1337,\n",
    "                              no_eer=False,\n",
    "                              batch_size=128,\n",
    "                              arch=\"tdnn_conv\", loss=\"softmax\",\n",
    "                              n_epochs=50\n",
    "                             ))\n",
    "config = set_train_config(args)"
   ]
  },
  {
   "cell_type": "markdown",
   "metadata": {},
   "source": [
    "### Batch Sampler"
   ]
  },
  {
   "cell_type": "code",
   "execution_count": 4,
   "metadata": {},
   "outputs": [],
   "source": [
    "import math\n",
    "import random\n",
    "import itertools\n",
    "\n",
    "def index_dataset(dataset):\n",
    "    return {c : [example_idx for example_idx, (_, class_label_ind) in \\\n",
    "                 enumerate(zip(dataset.embeds, dataset.labels)) if class_label_ind == c] for c in set(dataset.labels)}\n",
    "\n",
    "def sample_from_class(images_by_class, class_label_ind):\n",
    "    return images_by_class[class_label_ind][random.randrange(len(images_by_class[class_label_ind]))]\n",
    "\n",
    "def simple(batch_size, dataset, prob_other = 0.5):\n",
    "    '''lazy sampling, not like in lifted_struct. they add to the pool all postiive combinations, then compute the average number of positive pairs per image, then sample for every image the same number of negative pairs'''\n",
    "    images_by_class = index_dataset(dataset)\n",
    "    for batch_idx in range(int(math.ceil(len(dataset) * 1.0 / batch_size))):\n",
    "        example_indices = []\n",
    "        for i in range(0, batch_size, 2):\n",
    "            perm = random.sample(images_by_class.keys(), 2)\n",
    "            example_indices += [sample_from_class(images_by_class, perm[0]), sample_from_class(images_by_class, perm[0 if i == 0 or random.random() > prob_other else 1])]\n",
    "        yield example_indices[:batch_size]\n",
    "\n",
    "def triplet(batch_size, dataset, class2img=None):\n",
    "    if class2img is not None:\n",
    "        images_by_class = class2img\n",
    "    else:\n",
    "        images_by_class = index_dataset(dataset)\n",
    "        \n",
    "    for batch_idx in range(int(math.ceil(len(dataset) * 1.0 / batch_size))):\n",
    "        example_indices = []\n",
    "        for i in range(0, batch_size, 3):\n",
    "            perm = random.sample(images_by_class.keys(), 2)\n",
    "            example_indices += [sample_from_class(images_by_class, perm[0]), sample_from_class(images_by_class, perm[0]), sample_from_class(images_by_class, perm[1])]\n",
    "        yield example_indices[:batch_size]\n",
    "\n",
    "def npairs(batch_size, dataset, K = 4):\n",
    "    images_by_class = index_dataset(dataset)\n",
    "    for batch_idx in range(int(math.ceil(len(dataset) * 1.0 / batch_size))):\n",
    "        example_indices = [sample_from_class(images_by_class, class_label_ind) for k in range(int(math.ceil(batch_size * 1.0 / K))) for class_label_ind in [random.choice(images_by_class.keys())] for i in range(K)]\n",
    "        yield example_indices[:batch_size]"
   ]
  },
  {
   "cell_type": "markdown",
   "metadata": {},
   "source": [
    "### Dataset"
   ]
  },
  {
   "cell_type": "code",
   "execution_count": 5,
   "metadata": {},
   "outputs": [],
   "source": [
    "import torch.utils.data as data\n",
    "\n",
    "class embedDataset(data.Dataset):\n",
    "    def __init__(self, embeds, labels):\n",
    "        super().__init__()\n",
    "        self.embeds = embeds\n",
    "        self.labels = labels\n",
    "        \n",
    "    def __getitem__(self, index):\n",
    "        \n",
    "        return self.embeds[index], self.labels[index]\n",
    "    \n",
    "    def __len__(self):\n",
    "        \n",
    "        return self.embeds.shape[0]\n",
    "    \n",
    "class doubleEmbedDataset(data.Dataset):\n",
    "    def __init__(self, enroll_embeds, test_embeds, labels):\n",
    "        super().__init__()\n",
    "        self.enroll_embeds = enroll_embeds\n",
    "        self.test_embeds = test_embeds\n",
    "        self.labels = labels\n",
    "        \n",
    "    def __getitem__(self, index):\n",
    "        \n",
    "        return self.enroll_embeds[index], self.test_embeds[index], self.labels[index]\n",
    "    \n",
    "    def __len__(self):\n",
    "        \n",
    "        return self.enroll_embeds.shape[0]"
   ]
  },
  {
   "cell_type": "code",
   "execution_count": 6,
   "metadata": {},
   "outputs": [],
   "source": [
    "def embedToDataset1(embeds, key_df):\n",
    "    labels = key_df.label.tolist()\n",
    "    dataset = embedDataset(embeds, labels)\n",
    "    \n",
    "    return dataset, embeds.shape[1], len(key_df.label.unique())\n",
    "\n",
    "def embedToDataset2(enroll_embeds, test_embeds, key_df):\n",
    "    labels = key_df.label.tolist()\n",
    "    dataset = doubleEmbedDataset(enroll_embeds, test_embeds, labels)\n",
    "    \n",
    "    return dataset, enroll_embeds.shape[1], len(key_df.label.unique())"
   ]
  },
  {
   "cell_type": "code",
   "execution_count": 7,
   "metadata": {},
   "outputs": [],
   "source": [
    "def key2df(keys):\n",
    "    key_df = pd.DataFrame(keys, columns=['key'])\n",
    "    key_df['spk'] = key_df.key.apply(lambda x: x.split(\"-\")[0])\n",
    "    key_df['label'] = key_df.groupby('spk').ngroup()\n",
    "    key_df['origin'] = key_df.spk.apply(lambda x: 'voxc2' if x.startswith('id') else 'voxc1')\n",
    "    \n",
    "    return key_df"
   ]
  },
  {
   "cell_type": "code",
   "execution_count": 8,
   "metadata": {},
   "outputs": [],
   "source": [
    "def refeat_df(key_df, n_repeat, suffix):\n",
    "    repeat_key_df = key_df.loc[key_df.index.repeat(n_repeat)]\n",
    "    repeat_key_df = repeat_key_df.set_index('key')\n",
    "    repeat_key_df.index = repeat_key_df.index + '-' + suffix + '-' + \\\n",
    "                    repeat_key_df.groupby(level=0).cumcount().astype(str) \n",
    "    \n",
    "    return repeat_key_df"
   ]
  },
  {
   "cell_type": "code",
   "execution_count": 9,
   "metadata": {},
   "outputs": [],
   "source": [
    "trial = pd.read_pickle(\"/dataset/SV_sets/voxceleb12/dataframes/voxc12_test_trial.pkl\")"
   ]
  },
  {
   "cell_type": "code",
   "execution_count": 10,
   "metadata": {},
   "outputs": [],
   "source": [
    "si_keys = pickle.load(open(\"./embeddings_for_dda/voxc1_mfcc30/100f_embeds/si_keys.pkl\", \"rb\"))\n",
    "sv_keys = pickle.load(open(\"./embeddings_for_dda/voxc1_mfcc30/100f_embeds/sv_keys.pkl\", \"rb\"))"
   ]
  },
  {
   "cell_type": "code",
   "execution_count": 11,
   "metadata": {},
   "outputs": [],
   "source": [
    "# si_100f_embeds = np.load(\"./embeddings_for_dda/voxc1_mfcc30/100f_embeds/si_embeds.npy\")\n",
    "# sv_100f_embeds = np.load(\"./embeddings_for_dda/voxc1_mfcc30/100f_embeds/sv_embeds.npy\")"
   ]
  },
  {
   "cell_type": "code",
   "execution_count": 12,
   "metadata": {},
   "outputs": [],
   "source": [
    "si_200f_embeds = np.load(\"./embeddings_for_dda/voxc1_mfcc30/200f_embeds/si_embeds.npy\")\n",
    "si_200f_embeds = si_200f_embeds[:,0,:]\n",
    "sv_200f_embeds = np.load(\"./embeddings_for_dda/voxc1_mfcc30/200f_embeds/sv_embeds.npy\")\n",
    "sv_200f_embeds = sv_200f_embeds[:,0,:]"
   ]
  },
  {
   "cell_type": "code",
   "execution_count": 13,
   "metadata": {},
   "outputs": [],
   "source": [
    "# si_400f_embeds = np.load(\"./embeddings_for_dda/voxc1_mfcc30/400f_embeds/si_embeds.npy\")\n",
    "# sv_400f_embeds = np.load(\"./embeddings_for_dda/voxc1_mfcc30/400f_embeds/sv_embeds.npy\")"
   ]
  },
  {
   "cell_type": "code",
   "execution_count": 14,
   "metadata": {},
   "outputs": [],
   "source": [
    "si_800f_embeds = np.load(\"./embeddings_for_dda/voxc1_mfcc30/800f_embeds/si_embeds.npy\")\n",
    "sv_800f_embeds = np.load(\"./embeddings_for_dda/voxc1_mfcc30/800f_embeds/sv_embeds.npy\")"
   ]
  },
  {
   "cell_type": "code",
   "execution_count": 15,
   "metadata": {},
   "outputs": [],
   "source": [
    "si_key_df = key2df(si_keys)\n",
    "sv_key_df = key2df(sv_keys)"
   ]
  },
  {
   "cell_type": "code",
   "execution_count": 16,
   "metadata": {},
   "outputs": [],
   "source": [
    "# si_key_100f_df = refeat_df(si_key_df, 8, '100f')\n",
    "si_key_200f_df = refeat_df(si_key_df, 4, '200f')\n",
    "# si_key_400f_df = refeat_df(si_key_df, 2, '400f')\n",
    "si_key_800f_df = refeat_df(si_key_df, 1, '800f')"
   ]
  },
  {
   "cell_type": "markdown",
   "metadata": {},
   "source": [
    "### Choose a embedding"
   ]
  },
  {
   "cell_type": "code",
   "execution_count": 159,
   "metadata": {},
   "outputs": [],
   "source": [
    "si_enroll_key_df = si_key_df\n",
    "si_test_key_df = si_key_df\n",
    "si_enroll_embeds = si_800f_embeds\n",
    "si_test_embeds = si_200f_embeds\n",
    "sv_enroll_embeds = sv_800f_embeds\n",
    "sv_test_embeds = sv_200f_embeds"
   ]
  },
  {
   "cell_type": "code",
   "execution_count": 160,
   "metadata": {},
   "outputs": [],
   "source": [
    "total_si_embeds = np.concatenate([si_enroll_embeds, si_test_embeds], axis=0)\n",
    "total_si_key_df = pd.concat([si_key_df, si_key_df])"
   ]
  },
  {
   "cell_type": "markdown",
   "metadata": {},
   "source": [
    "### LDA on embedding"
   ]
  },
  {
   "cell_type": "code",
   "execution_count": 19,
   "metadata": {},
   "outputs": [
    {
     "data": {
      "text/plain": [
       "LinearDiscriminantAnalysis(n_components=200, priors=None, shrinkage=None,\n",
       "              solver='svd', store_covariance=False, tol=0.0001)"
      ]
     },
     "execution_count": 19,
     "metadata": {},
     "output_type": "execute_result"
    }
   ],
   "source": [
    "from sklearn.discriminant_analysis import LinearDiscriminantAnalysis as LDA\n",
    "embed_dim = 200\n",
    "global_mean = total_si_embeds.mean(0)\n",
    "clf = LDA(solver='svd', n_components=200)\n",
    "clf.fit(total_si_embeds - global_mean, total_si_key_df.label)"
   ]
  },
  {
   "cell_type": "code",
   "execution_count": 20,
   "metadata": {},
   "outputs": [],
   "source": [
    "si_enroll_embeds = clf.transform(si_enroll_embeds - global_mean).astype(np.float32)"
   ]
  },
  {
   "cell_type": "code",
   "execution_count": 21,
   "metadata": {},
   "outputs": [],
   "source": [
    "si_test_embeds = clf.transform(si_test_embeds - global_mean).astype(np.float32)"
   ]
  },
  {
   "cell_type": "code",
   "execution_count": 22,
   "metadata": {},
   "outputs": [],
   "source": [
    "sv_enroll_embeds = clf.transform(sv_enroll_embeds - global_mean).astype(np.float32)"
   ]
  },
  {
   "cell_type": "code",
   "execution_count": 23,
   "metadata": {},
   "outputs": [],
   "source": [
    "sv_test_embeds = clf.transform(sv_test_embeds - global_mean).astype(np.float32)"
   ]
  },
  {
   "cell_type": "code",
   "execution_count": 24,
   "metadata": {},
   "outputs": [],
   "source": [
    "si_dataset, embed_dim, n_labels = embedToDataset2(si_enroll_embeds, si_test_embeds, si_key_df)\n",
    "sv_dataset, _, _ = embedToDataset2(sv_enroll_embeds, sv_test_embeds, sv_key_df)"
   ]
  },
  {
   "cell_type": "markdown",
   "metadata": {},
   "source": [
    "### Dataloader"
   ]
  },
  {
   "cell_type": "code",
   "execution_count": 25,
   "metadata": {},
   "outputs": [],
   "source": [
    "n_pairs_per_batch = 46\n",
    "batch_size = n_pairs_per_batch * 3"
   ]
  },
  {
   "cell_type": "code",
   "execution_count": 26,
   "metadata": {},
   "outputs": [],
   "source": [
    "adapt_sampler = lambda batch, dataset, sampler, **kwargs: \\\n",
    "type('', (torch.utils.data.sampler.Sampler,), \n",
    "     dict(__len__ = dataset.__len__, __iter__ = \\\n",
    "          lambda _: itertools.chain.from_iterable(sampler(batch, dataset, **kwargs))))(dataset)"
   ]
  },
  {
   "cell_type": "code",
   "execution_count": 27,
   "metadata": {},
   "outputs": [],
   "source": [
    "# use values to exclude unnecessary index\n",
    "si_key_df['num_id'] = range(len(si_key_df))\n",
    "class2idx = si_key_df.groupby('label').apply(lambda x: x.num_id.values).to_dict()"
   ]
  },
  {
   "cell_type": "code",
   "execution_count": 28,
   "metadata": {},
   "outputs": [],
   "source": [
    "import torch\n",
    "from torch.utils.data.dataloader import DataLoader\n",
    "\n",
    "si_loader = torch.utils.data.DataLoader(\n",
    "    si_dataset, \n",
    "    sampler = adapt_sampler(batch_size, \n",
    "                           si_dataset, \n",
    "                           triplet, \n",
    "                           class2img=class2idx), \n",
    "    num_workers = 8, batch_size = batch_size, \n",
    "    drop_last = True, pin_memory = True\n",
    ")\n",
    "\n",
    "sv_loader = DataLoader(sv_dataset, batch_size=128, num_workers=4, shuffle=False)"
   ]
  },
  {
   "cell_type": "markdown",
   "metadata": {},
   "source": [
    "### Model Define"
   ]
  },
  {
   "cell_type": "code",
   "execution_count": 134,
   "metadata": {},
   "outputs": [],
   "source": [
    "import torch.nn as nn\n",
    "\n",
    "class dda_model(nn.Module):\n",
    "    def __init__(self, in_dims, n_labels):\n",
    "        super().__init__()\n",
    "                \n",
    "        hid_dims = in_dims*2\n",
    "        out_dims = in_dims*2\n",
    "        \n",
    "        self.hidden_layer = nn.Sequential(\n",
    "            nn.Linear(in_dims, hid_dims),\n",
    "            nn.BatchNorm1d(hid_dims),\n",
    "            nn.PReLU(),\n",
    "            nn.Linear(hid_dims, hid_dims),\n",
    "            nn.BatchNorm1d(hid_dims),\n",
    "            nn.PReLU(),\n",
    "        )    \n",
    "    \n",
    "        self.embedding_layer = nn.Linear(hid_dims, out_dims)\n",
    "        \n",
    "    def embed(self, x):\n",
    "        x = self.hidden_layer(x)\n",
    "#         x = self.embedding_layer(x)\n",
    "    \n",
    "        return x\n",
    "    \n",
    "    def forward(self, x):           \n",
    "        x = self.embed(x)\n",
    "        \n",
    "        return x"
   ]
  },
  {
   "cell_type": "markdown",
   "metadata": {},
   "source": [
    "### Metric Learning"
   ]
  },
  {
   "cell_type": "code",
   "execution_count": 30,
   "metadata": {},
   "outputs": [],
   "source": [
    "def hard_mining(anchor, pos_egs, neg_egs, margin=1.0):\n",
    "    pos_dist = (anchor - pos_egs).pow(2).sum(1)\n",
    "    pos_dist = torch.clamp(pos_dist, min=1e-16)\n",
    "    pos_dist = pos_dist.sqrt()\n",
    "    \n",
    "    neg_dist = (anchor - neg_egs).pow(2).sum(1)\n",
    "    neg_dist = torch.clamp(neg_dist, min=1e-16)\n",
    "    neg_dist = neg_dist.sqrt()\n",
    "    \n",
    "    \n",
    "    hard_pos_dist = pos_dist.max()\n",
    "    hard_neg_dist = neg_dist.min()\n",
    "    \n",
    "#     print(f\"hard_pos:{hard_pos_dist}, hard_neg:{hard_neg_dist}\")\n",
    "    \n",
    "    triplet_loss = torch.clamp(hard_pos_dist - hard_neg_dist + margin, min=0)\n",
    "    triplet_loss = torch.sum(triplet_loss)\n",
    "    \n",
    "    return triplet_loss"
   ]
  },
  {
   "cell_type": "code",
   "execution_count": 31,
   "metadata": {},
   "outputs": [],
   "source": [
    "model = dda_model(embed_dim, n_labels) \n",
    "\n",
    "if not config['no_cuda']:\n",
    "    model = model.cuda()"
   ]
  },
  {
   "cell_type": "code",
   "execution_count": 37,
   "metadata": {
    "scrolled": false
   },
   "outputs": [
    {
     "name": "stdout",
     "output_type": "stream",
     "text": [
      "------------------------------\n",
      "curr_lr: 0.01\n",
      "Batch 1000/1077\t Loss 0.001412\n",
      "epoch #0, train loss: 0.0013891821956903644\n",
      "best eer!\n",
      "epoch #0, sv eer: 0.11373276776246023\n",
      "------------------------------\n",
      "curr_lr: 0.01\n",
      "Batch 1000/1077\t Loss 0.001276\n",
      "epoch #1, train loss: 0.0012694962125568727\n",
      "epoch #1, sv eer: 0.11489925768822906\n",
      "------------------------------\n",
      "curr_lr: 0.01\n",
      "Batch 1000/1077\t Loss 0.001353\n",
      "epoch #2, train loss: 0.0013745728295800313\n",
      "epoch #2, sv eer: 0.11611876988335101\n",
      "------------------------------\n",
      "curr_lr: 0.01\n",
      "Batch 1000/1077\t Loss 0.001339\n",
      "epoch #3, train loss: 0.001333744586943375\n",
      "epoch #3, sv eer: 0.11601272534464475\n",
      "------------------------------\n",
      "curr_lr: 0.01\n",
      "Batch 1000/1077\t Loss 0.001271\n",
      "epoch #4, train loss: 0.0012802807517652292\n",
      "epoch #4, sv eer: 0.12009544008483564\n",
      "------------------------------\n",
      "curr_lr: 0.01\n",
      "Batch 1000/1077\t Loss 0.001287\n",
      "epoch #5, train loss: 0.0012899171068325836\n",
      "best eer!\n",
      "epoch #5, sv eer: 0.11283138918345705\n",
      "------------------------------\n",
      "curr_lr: 0.01\n",
      "Batch 1000/1077\t Loss 0.001303\n",
      "epoch #6, train loss: 0.0012935232476454423\n",
      "epoch #6, sv eer: 0.11458112407211028\n",
      "------------------------------\n",
      "curr_lr: 0.01\n",
      "Batch 1000/1077\t Loss 0.001270\n",
      "epoch #7, train loss: 0.0012861500433376382\n",
      "epoch #7, sv eer: 0.11850477200424178\n",
      "------------------------------\n",
      "curr_lr: 0.001\n",
      "Batch 1000/1077\t Loss 0.001203\n",
      "epoch #8, train loss: 0.0012024591645374417\n",
      "epoch #8, sv eer: 0.11521739130434783\n",
      "------------------------------\n",
      "curr_lr: 0.001\n",
      "Batch 1000/1077\t Loss 0.001085\n",
      "epoch #9, train loss: 0.0010765020088969047\n",
      "epoch #9, sv eer: 0.11320254506892895\n",
      "------------------------------\n",
      "curr_lr: 0.001\n",
      "Batch 1000/1077\t Loss 0.001075\n",
      "epoch #10, train loss: 0.0010945622900452394\n",
      "best eer!\n",
      "epoch #10, sv eer: 0.11187698833510074\n",
      "------------------------------\n",
      "curr_lr: 0.001\n",
      "Batch 1000/1077\t Loss 0.001086\n",
      "epoch #11, train loss: 0.0010914074155033804\n",
      "best eer!\n",
      "epoch #11, sv eer: 0.11102863202545069\n",
      "------------------------------\n",
      "curr_lr: 0.001\n",
      "Batch 1000/1077\t Loss 0.001066\n",
      "epoch #12, train loss: 0.0010662720556307232\n",
      "best eer!\n",
      "epoch #12, sv eer: 0.10980911983032873\n",
      "------------------------------\n",
      "curr_lr: 0.001\n",
      "Batch 1000/1077\t Loss 0.001000\n",
      "epoch #13, train loss: 0.0010013857206234566\n",
      "epoch #13, sv eer: 0.11071049840933192\n",
      "------------------------------\n",
      "curr_lr: 0.001\n",
      "Batch 1000/1077\t Loss 0.000997\n",
      "epoch #14, train loss: 0.0009875111452412996\n",
      "best eer!\n",
      "epoch #14, sv eer: 0.10911983032873807\n",
      "------------------------------\n",
      "curr_lr: 0.001\n",
      "Batch 1000/1077\t Loss 0.000995\n",
      "epoch #15, train loss: 0.0009923188396295363\n",
      "best eer!\n",
      "epoch #15, sv eer: 0.10837751855779428\n",
      "------------------------------\n",
      "curr_lr: 0.001\n",
      "Batch 1000/1077\t Loss 0.001001\n",
      "epoch #16, train loss: 0.001006418389195713\n",
      "best eer!\n",
      "epoch #16, sv eer: 0.10816542948038176\n",
      "------------------------------\n",
      "curr_lr: 0.001\n",
      "Batch 1000/1077\t Loss 0.000988\n",
      "epoch #17, train loss: 0.0009824803925390128\n",
      "epoch #17, sv eer: 0.10864262990455992\n",
      "------------------------------\n",
      "curr_lr: 0.001\n",
      "Batch 1000/1077\t Loss 0.000999\n",
      "epoch #18, train loss: 0.0009924140984460823\n",
      "epoch #18, sv eer: 0.11039236479321315\n",
      "------------------------------\n",
      "curr_lr: 0.001\n",
      "Batch 1000/1077\t Loss 0.000938\n",
      "epoch #19, train loss: 0.0009340459979948341\n",
      "epoch #19, sv eer: 0.10943796394485684\n",
      "------------------------------\n",
      "curr_lr: 0.001\n",
      "Batch 1000/1077\t Loss 0.000999\n",
      "epoch #20, train loss: 0.001000450300204021\n",
      "epoch #20, sv eer: 0.11023329798515376\n",
      "------------------------------\n",
      "curr_lr: 0.001\n",
      "Batch 1000/1077\t Loss 0.000853\n",
      "epoch #21, train loss: 0.0008642782304255488\n",
      "epoch #21, sv eer: 0.11071049840933192\n",
      "------------------------------\n",
      "curr_lr: 0.001\n",
      "Batch 1000/1077\t Loss 0.000944\n",
      "epoch #22, train loss: 0.0009465561498271087\n",
      "epoch #22, sv eer: 0.11060445387062566\n",
      "------------------------------\n",
      "curr_lr: 0.001\n",
      "Batch 1000/1077\t Loss 0.001031\n",
      "epoch #23, train loss: 0.0010328635535083947\n",
      "epoch #23, sv eer: 0.10965005302226935\n",
      "------------------------------\n",
      "curr_lr: 0.001\n",
      "Batch 1000/1077\t Loss 0.000883\n",
      "epoch #24, train loss: 0.0008837453746835543\n",
      "epoch #24, sv eer: 0.10853658536585366\n",
      "------------------------------\n",
      "curr_lr: 0.001\n",
      "Batch 1000/1077\t Loss 0.000838\n",
      "epoch #25, train loss: 0.0008402530535349925\n",
      "epoch #25, sv eer: 0.10991516436903499\n",
      "------------------------------\n",
      "curr_lr: 0.001\n",
      "Batch 1000/1077\t Loss 0.000910\n",
      "epoch #26, train loss: 0.0009048371209617938\n",
      "epoch #26, sv eer: 0.10922587486744433\n",
      "------------------------------\n",
      "curr_lr: 0.001\n",
      "Batch 1000/1077\t Loss 0.000858\n",
      "epoch #27, train loss: 0.0008568597733006349\n",
      "epoch #27, sv eer: 0.10911983032873807\n",
      "------------------------------\n",
      "curr_lr: 0.001\n",
      "Batch 1000/1077\t Loss 0.000901\n",
      "epoch #28, train loss: 0.0009002953857717154\n",
      "epoch #28, sv eer: 0.11102863202545069\n",
      "------------------------------\n",
      "curr_lr: 0.001\n",
      "Batch 1000/1077\t Loss 0.000901\n",
      "epoch #29, train loss: 0.0009034818430471369\n",
      "epoch #29, sv eer: 0.10933191940615059\n",
      "------------------------------\n",
      "curr_lr: 0.001\n",
      "Batch 1000/1077\t Loss 0.000905\n",
      "epoch #30, train loss: 0.0008944299723795012\n",
      "best eer!\n",
      "epoch #30, sv eer: 0.10721102863202545\n",
      "------------------------------\n",
      "curr_lr: 0.001\n",
      "Batch 1000/1077\t Loss 0.000894\n",
      "epoch #31, train loss: 0.0008959781702756182\n",
      "epoch #31, sv eer: 0.10752916224814422\n",
      "------------------------------\n",
      "curr_lr: 0.0001\n",
      "Batch 1000/1077\t Loss 0.000904\n",
      "epoch #32, train loss: 0.0008911579808464974\n",
      "best eer!\n",
      "epoch #32, sv eer: 0.10699893955461294\n",
      "------------------------------\n",
      "curr_lr: 0.0001\n",
      "Batch 1000/1077\t Loss 0.000876\n",
      "epoch #33, train loss: 0.0008827534913892764\n",
      "epoch #33, sv eer: 0.10763520678685047\n",
      "------------------------------\n",
      "curr_lr: 0.0001\n",
      "Batch 1000/1077\t Loss 0.000933\n",
      "epoch #34, train loss: 0.0009338073463384633\n",
      "epoch #34, sv eer: 0.10715800636267232\n",
      "------------------------------\n",
      "curr_lr: 0.0001\n",
      "Batch 1000/1077\t Loss 0.000852\n",
      "epoch #35, train loss: 0.0008414659650322963\n",
      "epoch #35, sv eer: 0.10726405090137858\n",
      "------------------------------\n",
      "curr_lr: 0.0001\n",
      "Batch 1000/1077\t Loss 0.000877\n",
      "epoch #36, train loss: 0.0008800813674961162\n",
      "epoch #36, sv eer: 0.10752916224814422\n",
      "------------------------------\n",
      "curr_lr: 0.0001\n",
      "Batch 1000/1077\t Loss 0.000811\n",
      "epoch #37, train loss: 0.0008178650411638897\n",
      "epoch #37, sv eer: 0.10747613997879109\n",
      "------------------------------\n",
      "curr_lr: 0.0001\n",
      "Batch 1000/1077\t Loss 0.000872\n",
      "epoch #38, train loss: 0.0008659305919274484\n",
      "epoch #38, sv eer: 0.10742311770943797\n",
      "------------------------------\n",
      "curr_lr: 0.0001\n",
      "Batch 1000/1077\t Loss 0.000821\n",
      "epoch #39, train loss: 0.0008252156437164098\n",
      "best eer!\n",
      "epoch #39, sv eer: 0.1067338282078473\n",
      "------------------------------\n",
      "curr_lr: 0.0001\n",
      "Batch 1000/1077\t Loss 0.000851\n",
      "epoch #40, train loss: 0.0008431741067045475\n",
      "epoch #40, sv eer: 0.10747613997879109\n",
      "------------------------------\n",
      "curr_lr: 0.0001\n",
      "Batch 1000/1077\t Loss 0.000871\n",
      "epoch #41, train loss: 0.0008731088928907981\n",
      "epoch #41, sv eer: 0.10715800636267232\n",
      "------------------------------\n",
      "curr_lr: 0.0001\n",
      "Batch 1000/1077\t Loss 0.000885\n",
      "epoch #42, train loss: 0.0008895836711504101\n",
      "epoch #42, sv eer: 0.10689289501590668\n",
      "------------------------------\n",
      "curr_lr: 0.0001\n",
      "Batch 1000/1077\t Loss 0.000907\n",
      "epoch #43, train loss: 0.0009040039676199795\n",
      "epoch #43, sv eer: 0.10726405090137858\n",
      "------------------------------\n",
      "curr_lr: 1e-05\n",
      "Batch 1000/1077\t Loss 0.000810\n",
      "epoch #44, train loss: 0.0008315144516355273\n",
      "epoch #44, sv eer: 0.10715800636267232\n",
      "------------------------------\n",
      "curr_lr: 1e-05\n",
      "Batch 1000/1077\t Loss 0.000804\n",
      "epoch #45, train loss: 0.000805829058634658\n",
      "epoch #45, sv eer: 0.10800636267232237\n",
      "------------------------------\n",
      "curr_lr: 1e-05\n",
      "Batch 1000/1077\t Loss 0.000851\n",
      "epoch #46, train loss: 0.0008558146446413174\n",
      "best eer!\n",
      "epoch #46, sv eer: 0.10657476139978792\n",
      "------------------------------\n",
      "curr_lr: 1e-05\n",
      "Batch 1000/1077\t Loss 0.000905\n",
      "epoch #47, train loss: 0.0008860261093779805\n",
      "epoch #47, sv eer: 0.1069459172852598\n",
      "------------------------------\n",
      "curr_lr: 1e-05\n",
      "Batch 1000/1077\t Loss 0.000821\n",
      "epoch #48, train loss: 0.0008227583955557697\n",
      "epoch #48, sv eer: 0.10811240721102863\n",
      "------------------------------\n",
      "curr_lr: 1e-05\n",
      "Batch 1000/1077\t Loss 0.000860\n",
      "epoch #49, train loss: 0.000853569644152068\n",
      "epoch #49, sv eer: 0.10795334040296925\n"
     ]
    }
   ],
   "source": [
    "from train.train_utils import set_seed, find_optimizer\n",
    "from torch.optim.lr_scheduler import ReduceLROnPlateau, MultiStepLR\n",
    "from sklearn.metrics import roc_curve\n",
    "import torch.nn.functional as F\n",
    "from tensorboardX import SummaryWriter\n",
    "\n",
    "config['lrs'] = [0.01]\n",
    "_, optimizer = find_optimizer(config, model)\n",
    "criterion = nn.TripletMarginLoss(margin=5, p=2)\n",
    "# criterion = hard_mining\n",
    "# criterion = nn.CosineEmbeddingLoss(margin=0.5)\n",
    "plateau_scheduler = ReduceLROnPlateau(optimizer, 'min', factor=0.1, patience=5)\n",
    "step_scheduler = MultiStepLR(optimizer, [30], 0.1)\n",
    "\n",
    "writer = SummaryWriter(\"logs/xvector_eucl_semi_hard_m0.4_lr0.01.tf.log\")\n",
    "\n",
    "best_eer = 1.0\n",
    "for epoch_idx in range(0, config['n_epochs']):\n",
    "    print(\"-\"*30)\n",
    "    curr_lr = optimizer.state_dict()['param_groups'][0]['lr']\n",
    "    print(\"curr_lr: {}\".format(curr_lr))\n",
    "    \n",
    "#=============== train code ===============\n",
    "    model.train()\n",
    "    loss_sum = 0\n",
    "    n_corrects = 0\n",
    "    total = 0\n",
    "    for batch_idx, (X_enroll, X_test, y) in enumerate(si_loader):\n",
    "        if not config['no_cuda']:\n",
    "            X_enroll = X_enroll.cuda()\n",
    "            X_test = X_test.cuda()\n",
    "            y = y.cuda()\n",
    "\n",
    "        optimizer.zero_grad()\n",
    "#         n_sub_utter = x_enroll.size(1)\n",
    "        anchor = model(X_enroll[0:batch_size:3])\n",
    "        pos_egs = model(X_test[1:batch_size:3])\n",
    "        neg_egs = model(X_test[2:batch_size:3])\n",
    "#         embeds = embeds / embeds.norm(dim=1,keepdim=True)\n",
    "#         anchor = embeds[0:batch_size:3]\n",
    "#         pos_egs = test_out[1:batch_size:3]\n",
    "#         neg_egs = test_out[2:batch_size:3]\n",
    "        loss = criterion(anchor, pos_egs, neg_egs)\n",
    "        \n",
    "#         loss_pos = criterion(anchor, pos_egs, torch.ones(len(anchor)).cuda())\n",
    "#         loss_neg = criterion(anchor, neg_egs, torch.zeros(len(anchor)).cuda())\n",
    "#         loss = loss_pos + loss_neg\n",
    "        loss.backward()\n",
    "        optimizer.step()\n",
    "                        \n",
    "        loss_sum += loss.item()\n",
    "        total += y.size(0)\n",
    "        if (batch_idx+1) % 1000 == 0:\n",
    "            print(\"Batch {}/{}\\t Loss {:.6f}\" \\\n",
    "                  .format(batch_idx+1, len(si_loader), loss_sum / total))\n",
    "    train_loss = loss_sum / total\n",
    "    plateau_scheduler.step(train_loss)\n",
    "    \n",
    "    print(\"epoch #{}, train loss: {}\".format(epoch_idx, train_loss))\n",
    "    writer.add_scalar(\"train/loss\", train_loss, epoch_idx+1)\n",
    "\n",
    "#=============== test code ===============\n",
    "    enroll_embeddings = []\n",
    "    test_embeddings = []\n",
    "    model.eval()\n",
    "\n",
    "    with torch.no_grad():\n",
    "        for batch in sv_loader:\n",
    "            X_enroll, X_test, _ = batch\n",
    "            if not config['no_cuda']:\n",
    "                X_enroll = X_enroll.cuda()\n",
    "                X_test = X_test.cuda()\n",
    "                \n",
    "            enroll_embeddings += [model.embed(X_enroll).cpu().detach()]\n",
    "            test_embeddings += [model.embed(X_test).cpu().detach()]\n",
    "            \n",
    "        enroll_embeddings = torch.cat(enroll_embeddings)\n",
    "        test_embeddings = torch.cat(test_embeddings)\n",
    "        \n",
    "#         score_vector = F.cosine_similarity(enroll_embeddings[trial.enrolment_id],\n",
    "#                                       test_embeddings[trial.test_id], dim=1)\n",
    "    score_vector = -torch.pow(\n",
    "        (enroll_embeddings[trial.enrolment_id] - test_embeddings[trial.test_id]), 2).sum(dim=1).sqrt()\n",
    "    label_vector = np.array(trial.label)\n",
    "    fpr, tpr, thres = roc_curve(\n",
    "            label_vector, score_vector, pos_label=1)\n",
    "    eer = fpr[np.nanargmin(np.abs(fpr - (1 - tpr)))]\n",
    "    \n",
    "    if eer < best_eer:\n",
    "        best_eer = eer\n",
    "        print(\"best eer!\")\n",
    "        torch.save(model.state_dict(), open(\"best_model_metric.pt\", \"wb\"))\n",
    "        \n",
    "    print(\"epoch #{}, sv eer: {}\".format(epoch_idx, eer))\n",
    "    writer.add_scalar(\"sv_test/eer\", eer, epoch_idx+1)"
   ]
  },
  {
   "cell_type": "code",
   "execution_count": 184,
   "metadata": {},
   "outputs": [
    {
     "data": {
      "text/plain": [
       "tensor([-2.1443, -1.7407, -2.3529, -3.1445, -2.3549, -1.5786, -3.8178, -2.6843,\n",
       "        -0.8126, -1.5916, -2.2001, -0.0664, -2.3288, -1.9027, -2.3031, -2.2385,\n",
       "        -2.9484, -2.0301, -2.1811, -2.4052, -2.7927, -2.2329,  0.1192, -0.3918,\n",
       "        -0.6445, -2.8001, -2.9759, -2.7587, -1.5720, -3.4203, -1.8746, -1.5057,\n",
       "        -2.7930, -2.5636, -2.6269, -2.5903, -2.6227, -2.2909, -3.5267, -3.4453,\n",
       "        -2.0478, -2.5677, -1.3020, -2.5305, -2.6094, -2.5658],\n",
       "       device='cuda:0', grad_fn=<ThSubBackward>)"
      ]
     },
     "execution_count": 184,
     "metadata": {},
     "output_type": "execute_result"
    }
   ],
   "source": [
    "torch.norm((anchor - pos_egs), dim=1).sqrt() - torch.norm((anchor - neg_egs), dim=1).sqrt()"
   ]
  },
  {
   "cell_type": "code",
   "execution_count": 135,
   "metadata": {},
   "outputs": [],
   "source": [
    "model1 = dda_model(200, 10)"
   ]
  },
  {
   "cell_type": "code",
   "execution_count": 118,
   "metadata": {},
   "outputs": [],
   "source": [
    "torch.save(model.state_dict(), open(\"best_model_800f_200f.pt\", \"wb\"))"
   ]
  },
  {
   "cell_type": "code",
   "execution_count": 137,
   "metadata": {},
   "outputs": [],
   "source": [
    "saved_state = torch.load(open(\"best_model_800f_200f.pt\", \"rb\"))"
   ]
  },
  {
   "cell_type": "code",
   "execution_count": 138,
   "metadata": {},
   "outputs": [],
   "source": [
    "model1.load_state_dict(saved_state)\n",
    "model1 = model1.cuda()"
   ]
  },
  {
   "cell_type": "code",
   "execution_count": 144,
   "metadata": {},
   "outputs": [],
   "source": [
    "enroll_embeddings = []\n",
    "test_embeddings = []\n",
    "with torch.no_grad():\n",
    "    for batch in sv_loader:\n",
    "        X_enroll, X_test, _ = batch\n",
    "        if not config['no_cuda']:\n",
    "            X_enroll = X_enroll.cuda()\n",
    "            X_test = X_test.cuda()\n",
    "\n",
    "        enroll_embeddings += [model.embed(X_enroll).cpu().detach()]\n",
    "        test_embeddings += [model.embed(X_test).cpu().detach()]\n",
    "\n",
    "    enroll_embeddings = torch.cat(enroll_embeddings)\n",
    "    test_embeddings = torch.cat(test_embeddings)"
   ]
  },
  {
   "cell_type": "code",
   "execution_count": 150,
   "metadata": {},
   "outputs": [],
   "source": [
    "si_embeddings = []\n",
    "with torch.no_grad():\n",
    "    for batch in si_loader:\n",
    "        X_enroll, _, _ = batch\n",
    "        if not config['no_cuda']:\n",
    "            X_enroll = X_enroll.cuda()\n",
    "#             X_test = X_test.cuda()\n",
    "\n",
    "        si_embeddings += [model.embed(X_enroll).cpu().detach()]\n",
    "#         test_embeddings += [model.embed(X_test).cpu().detach()]\n",
    "\n",
    "    si_embeddings = torch.cat(si_embeddings)"
   ]
  },
  {
   "cell_type": "code",
   "execution_count": 140,
   "metadata": {},
   "outputs": [],
   "source": [
    "enroll_embeddings = torch.from_numpy(sv_enroll_embeds)\n",
    "test_embeddings = torch.from_numpy(sv_test_embeds)"
   ]
  },
  {
   "cell_type": "code",
   "execution_count": 164,
   "metadata": {},
   "outputs": [
    {
     "name": "stdout",
     "output_type": "stream",
     "text": [
      "epoch #49, sv eer: 0.10795334040296925\n"
     ]
    }
   ],
   "source": [
    "# score_vector = F.cosine_similarity(enroll_embeddings[trial.enrolment_id],\n",
    "#                                   test_embeddings[trial.test_id], dim=1)\n",
    "score_vector = -torch.pow((enroll_embeddings[trial.enrolment_id] - test_embeddings[trial.test_id]), 2).sum(dim=1).sqrt()\n",
    "label_vector = np.array(trial.label)\n",
    "fpr, tpr, thres = roc_curve(\n",
    "        label_vector, score_vector, pos_label=1)\n",
    "eer = fpr[np.nanargmin(np.abs(fpr - (1 - tpr)))]\n",
    "print(\"epoch #{}, sv eer: {}\".format(epoch_idx, eer))"
   ]
  },
  {
   "cell_type": "code",
   "execution_count": 169,
   "metadata": {},
   "outputs": [],
   "source": [
    "pos_score = score_vector.numpy()[label_vector==1]\n",
    "neg_score = score_vector.numpy()[label_vector==0]"
   ]
  },
  {
   "cell_type": "code",
   "execution_count": 179,
   "metadata": {},
   "outputs": [
    {
     "data": {
      "image/png": "[encoded data removed]",
      "text/plain": [
       "<Figure size 432x288 with 1 Axes>"
      ]
     },
     "metadata": {},
     "output_type": "display_data"
    }
   ],
   "source": [
    "plt.hist(pos_score, alpha=0.5, bins=50)\n",
    "plt.hist(neg_score, alpha=0.5, bins=50)\n",
    "plt.show()"
   ]
  },
  {
   "cell_type": "code",
   "execution_count": 180,
   "metadata": {},
   "outputs": [
    {
     "ename": "FileExistsError",
     "evalue": "[Errno 17] File exists: 'voxc1_mfcc30_best_800f_200f'",
     "output_type": "error",
     "traceback": [
      "\u001b[0;31m---------------------------------------------------------------------------\u001b[0m",
      "\u001b[0;31mFileExistsError\u001b[0m                           Traceback (most recent call last)",
      "\u001b[0;32m<ipython-input-180-f933213631dc>\u001b[0m in \u001b[0;36m<module>\u001b[0;34m()\u001b[0m\n\u001b[1;32m      1\u001b[0m \u001b[0;31m# save feature for PLDA\u001b[0m\u001b[0;34m\u001b[0m\u001b[0;34m\u001b[0m\u001b[0m\n\u001b[1;32m      2\u001b[0m \u001b[0;34m\u001b[0m\u001b[0m\n\u001b[0;32m----> 3\u001b[0;31m \u001b[0mos\u001b[0m\u001b[0;34m.\u001b[0m\u001b[0mmakedirs\u001b[0m\u001b[0;34m(\u001b[0m\u001b[0;34m\"voxc1_mfcc30_best_800f_200f\"\u001b[0m\u001b[0;34m)\u001b[0m\u001b[0;34m\u001b[0m\u001b[0m\n\u001b[0m\u001b[1;32m      4\u001b[0m \u001b[0mnp\u001b[0m\u001b[0;34m.\u001b[0m\u001b[0msave\u001b[0m\u001b[0;34m(\u001b[0m\u001b[0;34m\"voxc1_mfcc30_best_800f_200f/sv_enroll_embeds.npy\"\u001b[0m\u001b[0;34m,\u001b[0m \u001b[0menroll_embeddings\u001b[0m\u001b[0;34m)\u001b[0m\u001b[0;34m\u001b[0m\u001b[0m\n\u001b[1;32m      5\u001b[0m \u001b[0mnp\u001b[0m\u001b[0;34m.\u001b[0m\u001b[0msave\u001b[0m\u001b[0;34m(\u001b[0m\u001b[0;34m\"voxc1_mfcc30_best_800f_200f/sv_test_embeds.npy\"\u001b[0m\u001b[0;34m,\u001b[0m \u001b[0mtest_embeddings\u001b[0m\u001b[0;34m)\u001b[0m\u001b[0;34m\u001b[0m\u001b[0m\n",
      "\u001b[0;32m/opt/conda/envs/pytorch-py3.6/lib/python3.6/os.py\u001b[0m in \u001b[0;36mmakedirs\u001b[0;34m(name, mode, exist_ok)\u001b[0m\n\u001b[1;32m    218\u001b[0m             \u001b[0;32mreturn\u001b[0m\u001b[0;34m\u001b[0m\u001b[0m\n\u001b[1;32m    219\u001b[0m     \u001b[0;32mtry\u001b[0m\u001b[0;34m:\u001b[0m\u001b[0;34m\u001b[0m\u001b[0m\n\u001b[0;32m--> 220\u001b[0;31m         \u001b[0mmkdir\u001b[0m\u001b[0;34m(\u001b[0m\u001b[0mname\u001b[0m\u001b[0;34m,\u001b[0m \u001b[0mmode\u001b[0m\u001b[0;34m)\u001b[0m\u001b[0;34m\u001b[0m\u001b[0m\n\u001b[0m\u001b[1;32m    221\u001b[0m     \u001b[0;32mexcept\u001b[0m \u001b[0mOSError\u001b[0m\u001b[0;34m:\u001b[0m\u001b[0;34m\u001b[0m\u001b[0m\n\u001b[1;32m    222\u001b[0m         \u001b[0;31m# Cannot rely on checking for EEXIST, since the operating system\u001b[0m\u001b[0;34m\u001b[0m\u001b[0;34m\u001b[0m\u001b[0m\n",
      "\u001b[0;31mFileExistsError\u001b[0m: [Errno 17] File exists: 'voxc1_mfcc30_best_800f_200f'"
     ]
    }
   ],
   "source": [
    "# save feature for PLDA\n",
    "\n",
    "os.makedirs(\"voxc1_mfcc30_best_800f_200f\")\n",
    "np.save(\"voxc1_mfcc30_best_800f_200f/sv_enroll_embeds.npy\", enroll_embeddings)\n",
    "np.save(\"voxc1_mfcc30_best_800f_200f/sv_test_embeds.npy\", test_embeddings)\n",
    "np.save(\"voxc1_mfcc30_best_800f_200f/si_embeds.npy\", si_embeddings)\n",
    "\n",
    "import shutil\n",
    "\n",
    "shutil.move(\"./embeddings_for_dda/voxc1_mfcc30/100f_embeds/si_keys.pkl\", \"voxc1_mfcc30_best_800f_200f/si_keys.pkl\")\n",
    "shutil.move(\"./embeddings_for_dda/voxc1_mfcc30/100f_embeds/sv_keys.pkl\", \"voxc1_mfcc30_best_800f_200f/sv_keys.pkl\")"
   ]
  },
  {
   "cell_type": "code",
   "execution_count": null,
   "metadata": {},
   "outputs": [],
   "source": []
  }
 ],
 "metadata": {
  "kernelspec": {
   "display_name": "Python 3",
   "language": "python",
   "name": "python3"
  },
  "language_info": {
   "codemirror_mode": {
    "name": "ipython",
    "version": 3
   },
   "file_extension": ".py",
   "mimetype": "text/x-python",
   "name": "python",
   "nbconvert_exporter": "python",
   "pygments_lexer": "ipython3",
   "version": "3.6.5"
  }
 },
 "nbformat": 4,
 "nbformat_minor": 2
}
