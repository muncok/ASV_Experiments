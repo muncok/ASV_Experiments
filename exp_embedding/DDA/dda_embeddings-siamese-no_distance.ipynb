{
 "cells": [
  {
   "cell_type": "markdown",
   "metadata": {},
   "source": [
    "# Siamese Network\n",
    "------------------------------\n",
    "\n",
    "Constrastive loss: http://yann.lecun.com/exdb/publis/pdf/hadsell-chopra-lecun-06.pdf\n",
    "\n",
    "Siamese Network for one shot learning: https://www.cs.cmu.edu/~rsalakhu/papers/oneshot1.pdf"
   ]
  },
  {
   "cell_type": "markdown",
   "metadata": {},
   "source": [
    "No distance\n",
    "------------------------------\n",
    "\n",
    "Siamese network는 feature의 distance를 가지고 최종 feature vector로 사용한다.\n",
    "\n",
    "하지만 이런 inductive bias를 넣지않고 그냥 feature를 집어넣는다면?\n",
    "\n",
    "--> 아쉽게도... 너무 freedom이 커져서.. 학습이 되지 않는다."
   ]
  },
  {
   "cell_type": "markdown",
   "metadata": {},
   "source": [
    "### Environment"
   ]
  },
  {
   "cell_type": "code",
   "execution_count": 1,
   "metadata": {},
   "outputs": [
    {
     "name": "stdout",
     "output_type": "stream",
     "text": [
      "Using matplotlib backend: TkAgg\n",
      "Populating the interactive namespace from numpy and matplotlib\n"
     ]
    }
   ],
   "source": [
    "%load_ext autoreload\n",
    "%autoreload 2\n",
    "%pylab\n",
    "%matplotlib inline\n",
    "\n",
    "import pandas as pd\n",
    "import pickle\n",
    "import numpy as np\n",
    "import sys\n",
    "import os"
   ]
  },
  {
   "cell_type": "code",
   "execution_count": 2,
   "metadata": {},
   "outputs": [],
   "source": [
    "sys.path.append('/host/projects/sv_experiments')\n",
    "os.environ[\"CUDA_DEVICE_ORDER\"]=\"PCI_BUS_ID\"   # see issue #152\n",
    "os.environ[\"CUDA_VISIBLE_DEVICES\"]=\"0\""
   ]
  },
  {
   "cell_type": "markdown",
   "metadata": {},
   "source": [
    "### Configuration"
   ]
  },
  {
   "cell_type": "code",
   "execution_count": 3,
   "metadata": {},
   "outputs": [],
   "source": [
    "from sv_system.utils.parser import set_train_config\n",
    "import easydict\n",
    "\n",
    "# datasets\n",
    "# voxc1_fbank_xvector\n",
    "# gcommand_fbank_xvector\n",
    "\n",
    "args = easydict.EasyDict(dict(dataset=\"voxc1_fbank_xvector\",\n",
    "                              input_frames=100, splice_frames=[50, 100], stride_frames=1, input_format='fbank',\n",
    "                              cuda=True,\n",
    "                              lrs=[0.1, 0.01], lr_schedule=[20], seed=1337,\n",
    "                              no_eer=False,\n",
    "                              batch_size=128,\n",
    "                              arch=\"tdnn_conv\", loss=\"softmax\",\n",
    "                              n_epochs=50\n",
    "                             ))\n",
    "config = set_train_config(args)"
   ]
  },
  {
   "cell_type": "markdown",
   "metadata": {},
   "source": [
    "### Dataset"
   ]
  },
  {
   "cell_type": "code",
   "execution_count": 4,
   "metadata": {},
   "outputs": [],
   "source": [
    "import torch.utils.data as data\n",
    "\n",
    "class embedDataset(data.Dataset):\n",
    "    def __init__(self, embeds, labels):\n",
    "        super().__init__()\n",
    "        self.embeds = embeds\n",
    "        self.labels = labels\n",
    "        \n",
    "    def __getitem__(self, index):\n",
    "        \n",
    "        return self.embeds[index], self.labels[index]\n",
    "    \n",
    "    def __len__(self):\n",
    "        \n",
    "        return self.embeds.shape[0]"
   ]
  },
  {
   "cell_type": "code",
   "execution_count": 5,
   "metadata": {},
   "outputs": [],
   "source": [
    "def embedToDataset(embeds, key_df):\n",
    "    labels = key_df.label.tolist()\n",
    "    dataset = embedDataset(embeds, labels)\n",
    "    \n",
    "    return dataset, embeds.shape[1], len(key_df.label.unique())"
   ]
  },
  {
   "cell_type": "code",
   "execution_count": 6,
   "metadata": {},
   "outputs": [],
   "source": [
    "def key2df(keys):\n",
    "    key_df = pd.DataFrame(keys, columns=['key'])\n",
    "    key_df['spk'] = key_df.key.apply(lambda x: x.split(\"-\")[0])\n",
    "    key_df['label'] = key_df.groupby('spk').ngroup()\n",
    "    key_df['origin'] = key_df.spk.apply(lambda x: 'voxc2' if x.startswith('id') else 'voxc1')\n",
    "    \n",
    "    return key_df"
   ]
  },
  {
   "cell_type": "code",
   "execution_count": 7,
   "metadata": {},
   "outputs": [],
   "source": [
    "trial = pd.read_pickle(\"/host/projects/sv_experiments/dataset/dataframes/voxc1/voxc_trial.pkl\")"
   ]
  },
  {
   "cell_type": "code",
   "execution_count": 8,
   "metadata": {},
   "outputs": [],
   "source": [
    "si_keys = pickle.load(open(\"/host/projects/sv_experiments/embeddings/voxc12/xvectors/xvectors_tdnn7b/train_feat/key.pkl\", \"rb\"))\n",
    "si_embeds = np.load(\"/host/projects/sv_experiments/embeddings/voxc12/xvectors/xvectors_tdnn7b/train_feat/feat.npy\")\n",
    "\n",
    "sv_keys = pickle.load(open(\"/host/projects/sv_experiments/embeddings/voxc12/xvectors/xvectors_tdnn7b/test_feat/key.pkl\", \"rb\"))\n",
    "sv_embeds = np.load(\"/host/projects/sv_experiments/embeddings/voxc12/xvectors/xvectors_tdnn7b/test_feat/feat.npy\")"
   ]
  },
  {
   "cell_type": "code",
   "execution_count": 9,
   "metadata": {},
   "outputs": [],
   "source": [
    "si_key_df = key2df(si_keys)\n",
    "sv_key_df = key2df(sv_keys)"
   ]
  },
  {
   "cell_type": "code",
   "execution_count": 10,
   "metadata": {},
   "outputs": [],
   "source": [
    "si_dataset, embed_dim, n_labels = embedToDataset(si_embeds, si_key_df)\n",
    "sv_dataset, _, _ = embedToDataset(sv_embeds, sv_key_df)"
   ]
  },
  {
   "cell_type": "markdown",
   "metadata": {},
   "source": [
    "### Batch Sampler"
   ]
  },
  {
   "cell_type": "code",
   "execution_count": 11,
   "metadata": {},
   "outputs": [],
   "source": [
    "import math\n",
    "import random\n",
    "import itertools\n",
    "\n",
    "def index_dataset(dataset):\n",
    "    return {c : [example_idx for example_idx, (_, class_label_ind) in \\\n",
    "                 enumerate(zip(dataset.embeds, dataset.labels)) if class_label_ind == c] \n",
    "            for c in set(dataset.labels)}\n",
    "\n",
    "def sample_from_class(images_by_class, class_label_ind):\n",
    "    return images_by_class[class_label_ind][random.randrange(len(images_by_class[class_label_ind]))]\n",
    "\n",
    "def simple(batch_size, dataset, class2img = None, prob_other = 0.5):\n",
    "    '''lazy sampling, not like in lifted_struct. they add to the pool all postiive combinations, \n",
    "    then compute the average number of positive pairs per image,\n",
    "    then sample for every image the same number of negative pairs'''\n",
    "    \n",
    "    if class2img is not None:\n",
    "        images_by_class = class2img\n",
    "    else:\n",
    "        images_by_class = index_dataset(dataset)\n",
    "        \n",
    "    for batch_idx in range(int(math.ceil(len(dataset) * 1.0 / batch_size))):\n",
    "        example_indices = []\n",
    "        for i in range(0, batch_size, 2):\n",
    "            perm = random.sample(images_by_class.keys(), 2)\n",
    "            example_indices += [sample_from_class(images_by_class, perm[0]), \n",
    "                                sample_from_class(images_by_class, perm[0 if i == 0 or random.random() > prob_other else 1])]\n",
    "        yield example_indices[:batch_size]"
   ]
  },
  {
   "cell_type": "code",
   "execution_count": 12,
   "metadata": {},
   "outputs": [],
   "source": [
    "si_key_df['num_id'] = range(len(si_key_df))\n",
    "si_class2idx = si_key_df.groupby('label').apply(lambda x: x.num_id.values).to_dict()"
   ]
  },
  {
   "cell_type": "markdown",
   "metadata": {},
   "source": [
    "### Sampler"
   ]
  },
  {
   "cell_type": "code",
   "execution_count": 13,
   "metadata": {},
   "outputs": [],
   "source": [
    "adapt_sampler = lambda batch, dataset, sampler, **kwargs: \\\n",
    "type('', (torch.utils.data.sampler.Sampler,), \n",
    "     dict(__len__ = dataset.__len__, __iter__ = \\\n",
    "          lambda _: itertools.chain.from_iterable(sampler(batch, dataset, **kwargs))))(dataset)"
   ]
  },
  {
   "cell_type": "markdown",
   "metadata": {},
   "source": [
    "### Model Define"
   ]
  },
  {
   "cell_type": "code",
   "execution_count": 41,
   "metadata": {},
   "outputs": [],
   "source": [
    "import torch.nn as nn\n",
    "import torch.nn.functional as F\n",
    "\n",
    "class siamese_no_dist_model(nn.Module):\n",
    "    def __init__(self, in_dims, n_layers, n_labels):\n",
    "        super().__init__()\n",
    "        \n",
    "        self.input_layer = nn.Sequential(\n",
    "            nn.Linear(in_dims, 1*in_dims),\n",
    "            nn.PReLU()\n",
    "        )\n",
    "        \n",
    "        hidden_layer = [nn.Linear(1*in_dims, 1*in_dims),\n",
    "            nn.BatchNorm1d(1*in_dims),\n",
    "            nn.PReLU()] * n_layers\n",
    "        \n",
    "        self.hidden_layer = nn.Sequential(*hidden_layer)\n",
    "    \n",
    "        self.embedding_layer = nn.Sequential(\n",
    "            nn.Linear(2*in_dims, 1),\n",
    "        )\n",
    "        \n",
    "    def embed(self, x):\n",
    "        x = self.input_layer(x)\n",
    "        x = self.hidden_layer(x)\n",
    "        \n",
    "        return x\n",
    "    \n",
    "    def score(self, embed1, embed2):\n",
    "        dist = torch.cat([embed1, embed2], dim=1)\n",
    "        dist = torch.clamp(dist, min=1e-16) # for numerical stability\n",
    "        weighted_dist = self.embedding_layer(dist)\n",
    "        \n",
    "        return weighted_dist.squeeze(1)\n",
    "        \n",
    "    \n",
    "    def forward(self, x1, x2):           \n",
    "        embed1 = self.embed(x1)\n",
    "        embed2 = self.embed(x2)\n",
    "        \n",
    "        p = self.score(embed1, embed2)\n",
    "        \n",
    "        return p"
   ]
  },
  {
   "cell_type": "markdown",
   "metadata": {},
   "source": [
    "### Train funcs"
   ]
  },
  {
   "cell_type": "code",
   "execution_count": 42,
   "metadata": {},
   "outputs": [],
   "source": [
    "import torch.nn.functional as F\n",
    "\n",
    "def embeds_utterance(config, val_dataloader, model):\n",
    "    embeddings = []\n",
    "    labels = []\n",
    "    model.eval()\n",
    "\n",
    "    with torch.no_grad():\n",
    "        for batch in val_dataloader:\n",
    "            X, y = batch\n",
    "            if not config['no_cuda']:\n",
    "                X = X.cuda()\n",
    "                model = model.cuda()\n",
    "                \n",
    "            model_output = model.embed(X).cpu().detach()\n",
    "            embeddings.append(model_output)\n",
    "            labels.append(y.numpy())\n",
    "        embeddings = torch.cat(embeddings)\n",
    "        labels = np.hstack(labels)\n",
    "    return embeddings, labels \n",
    "\n",
    "def sv_test(config, sv_loader, model, trial):\n",
    "        embeddings, _ = embeds_utterance(config, sv_loader, model)\n",
    "        trial_enroll = embeddings[trial.enrolment_id.tolist()]\n",
    "        trial_test = embeddings[trial.test_id.tolist()]\n",
    "        \n",
    "        model = model.cpu()\n",
    "        model.eval()\n",
    "        score_vector = torch.sigmoid(model.score(trial_enroll, trial_test)).detach().numpy()\n",
    "        label_vector = np.array(trial.label)\n",
    "        fpr, tpr, thres = roc_curve(\n",
    "                label_vector, score_vector, pos_label=1)\n",
    "        eer = fpr[np.nanargmin(np.abs(fpr - (1 - tpr)))]\n",
    "\n",
    "        return eer, label_vector, score_vector"
   ]
  },
  {
   "cell_type": "code",
   "execution_count": 43,
   "metadata": {},
   "outputs": [],
   "source": [
    "def constrastive_loss(n1, n2, label, margin):\n",
    "    dist_square = (n1 - n2).pow(2).sum(1)\n",
    "    dist_square = torch.clamp(dist_square, min=1e-16)\n",
    "    dist = dist_square.sqrt()\n",
    "\n",
    "    loss = torch.mean(\n",
    "        (1.0-label)*dist_square + (label)*torch.pow(torch.clamp(margin-dist, min=0.0), 2)\n",
    "    )\n",
    "    \n",
    "    return loss"
   ]
  },
  {
   "cell_type": "code",
   "execution_count": 44,
   "metadata": {},
   "outputs": [],
   "source": [
    "import torch\n",
    "\n",
    "def siamese_train(model, loader, criterion, optimizer):\n",
    "    model.train()\n",
    "    loss_sum = 0\n",
    "    n_corrects = 0\n",
    "    total = 0\n",
    "    for batch_idx, (X, y) in enumerate(loader):\n",
    "        if not config['no_cuda']:\n",
    "            model = model.cuda()\n",
    "            X = X.cuda()\n",
    "            y = y.cuda()\n",
    "\n",
    "        optimizer.zero_grad()\n",
    "        \n",
    "        batch_size = X.size(0)\n",
    "        x1 = X[0:batch_size:2]\n",
    "        x2 = X[1:batch_size:2]\n",
    "        embeds = model(x1, x2)\n",
    "\n",
    "        y1 = y[0:batch_size:2]\n",
    "        y2 = y[1:batch_size:2]\n",
    "        \n",
    "        label = y1.eq(y2).float() # equal or diff\n",
    "        loss = criterion(embeds, label)\n",
    "        loss.backward()\n",
    "        optimizer.step()\n",
    "                        \n",
    "        loss_sum += loss.item()\n",
    "        total += y.size(0)\n",
    "#         if (batch_idx+1) % 1000 == 0:\n",
    "#             print(\"Batch {}/{}\\t Loss {:.6f}\" \\\n",
    "#                   .format(batch_idx+1, len(loader), loss_sum / total))\n",
    "    return loss_sum / total"
   ]
  },
  {
   "cell_type": "code",
   "execution_count": 45,
   "metadata": {
    "scrolled": false
   },
   "outputs": [],
   "source": [
    "from sv_system.train.si_train import val\n",
    "from sklearn.metrics import roc_curve\n",
    "from tensorboardX import SummaryWriter\n",
    "\n",
    "def run_train(config, model, si_loader, sv_loader, criterion, optimizer, scheduler, writer):\n",
    "    for epoch_idx in range(0, config['n_epochs']):\n",
    "        print(\"-\"*30)\n",
    "        curr_lr = optimizer.state_dict()['param_groups'][0]['lr']\n",
    "        print(\"curr_lr: {}\".format(curr_lr))\n",
    "#         step_scheduler.step()    \n",
    "\n",
    "#         train code\n",
    "        train_loss = siamese_train(model, si_loader, criterion, optimizer)\n",
    "        print(\"epoch #{}, train loss: {}\".format(epoch_idx, train_loss))\n",
    "        writer.add_scalar(\"train/loss\", train_loss, epoch_idx+1)\n",
    "\n",
    "#         evaluate best_metric\n",
    "        if not config['no_eer']:\n",
    "            # eer validation code\n",
    "            eer, label, score = sv_test(config, sv_loader, model, trial)\n",
    "            print(\"epoch #{}, sv eer: {}\".format(epoch_idx, eer))\n",
    "            writer.add_scalar(\"sv_test/eer\", eer, epoch_idx+1)\n",
    "        \n",
    "        scheduler.step(train_loss)\n",
    "        \n",
    "    return model"
   ]
  },
  {
   "cell_type": "markdown",
   "metadata": {},
   "source": [
    "### Training setting"
   ]
  },
  {
   "cell_type": "code",
   "execution_count": 46,
   "metadata": {},
   "outputs": [],
   "source": [
    "from sv_system.train.train_utils import set_seed, find_optimizer\n",
    "from torch.optim.lr_scheduler import ReduceLROnPlateau, MultiStepLR\n",
    "from torch.utils.data.dataloader import DataLoader\n",
    "\n",
    "def set_train_environment(init_lar, n_pairs, n_layers):\n",
    "    batch_size = n_pairs * 2\n",
    "    model = siamese_no_dist_model(embed_dim, n_layers, n_labels) \n",
    "\n",
    "    optimizer = torch.optim.SGD(model.parameters(), lr=init_lr, momentum=0.9, weight_decay=5e-4)\n",
    "    criterion = nn.BCEWithLogitsLoss()\n",
    "    scheduler = ReduceLROnPlateau(optimizer, 'min', factor=0.1, patience=5)\n",
    "    # step_scheduler = MultiStepLR(optimizer, [30], 0.1)\n",
    "\n",
    "    si_loader = DataLoader(si_dataset, \n",
    "                           sampler = adapt_sampler(\n",
    "                               batch_size, si_dataset, simple, class2img=si_class2idx\n",
    "                           ), \n",
    "                           num_workers = 0, batch_size = batch_size, \n",
    "                           drop_last = True, pin_memory = True)\n",
    "    sv_loader = DataLoader(sv_dataset, batch_size=128, num_workers=0, shuffle=False)\n",
    "\n",
    "    exp_name = \"xvector_siamese_lr{}_batch{}_ls{}\".format(init_lr, batch_size, n_layers)\n",
    "    writer = SummaryWriter(f\"logs/{exp_name}.tf.log\")\n",
    "    \n",
    "    print(\"=\"*60)\n",
    "    print(f\"run experiment: {exp_name}\")\n",
    "    \n",
    "    \n",
    "    return  model, si_loader, sv_loader, criterion, optimizer, scheduler, writer"
   ]
  },
  {
   "cell_type": "markdown",
   "metadata": {},
   "source": [
    "### Run training"
   ]
  },
  {
   "cell_type": "code",
   "execution_count": 50,
   "metadata": {
    "scrolled": false
   },
   "outputs": [
    {
     "name": "stdout",
     "output_type": "stream",
     "text": [
      "============================================================\n",
      "run experiment: xvector_siamese_lr0.001_batch256_ls2\n",
      "------------------------------\n",
      "curr_lr: 0.001\n",
      "epoch #0, train loss: 0.002714291307701914\n",
      "epoch #0, sv eer: 0.5022894260462145\n",
      "------------------------------\n",
      "curr_lr: 0.001\n",
      "epoch #1, train loss: 0.0027111310111022813\n",
      "epoch #1, sv eer: 0.4959535725694814\n",
      "------------------------------\n",
      "curr_lr: 0.001\n",
      "epoch #2, train loss: 0.002710402950472786\n",
      "epoch #2, sv eer: 0.4979235438185497\n",
      "------------------------------\n",
      "curr_lr: 0.001\n",
      "epoch #3, train loss: 0.0027106134969375295\n",
      "epoch #3, sv eer: 0.49845596848046003\n",
      "------------------------------\n",
      "curr_lr: 0.001\n",
      "epoch #4, train loss: 0.0027103734863847344\n",
      "epoch #4, sv eer: 0.49552763283995316\n",
      "------------------------------\n",
      "curr_lr: 0.001\n",
      "epoch #5, train loss: 0.0027098875143798536\n",
      "epoch #5, sv eer: 0.5026088808433606\n",
      "------------------------------\n",
      "curr_lr: 0.001\n",
      "epoch #6, train loss: 0.0027097755576015446\n",
      "epoch #6, sv eer: 0.5021829411138324\n",
      "------------------------------\n",
      "curr_lr: 0.001\n",
      "epoch #7, train loss: 0.0027096807985624413\n",
      "epoch #7, sv eer: 0.5001064849323821\n",
      "------------------------------\n",
      "curr_lr: 0.001\n",
      "epoch #8, train loss: 0.0027098026563355583\n",
      "epoch #8, sv eer: 0.49393035885422215\n",
      "------------------------------\n",
      "curr_lr: 0.001\n",
      "epoch #9, train loss: 0.002709490031877417\n",
      "epoch #9, sv eer: 0.49787030135235866\n",
      "------------------------------\n",
      "curr_lr: 0.001\n",
      "epoch #10, train loss: 0.0027094665040842485\n",
      "epoch #10, sv eer: 0.4947289958470876\n",
      "------------------------------\n",
      "curr_lr: 0.001\n",
      "epoch #11, train loss: 0.0027093908913762036\n",
      "epoch #11, sv eer: 0.5008518794590565\n",
      "------------------------------\n",
      "curr_lr: 0.001\n",
      "epoch #12, train loss: 0.0027092600422342103\n",
      "epoch #12, sv eer: 0.5043658822276648\n",
      "------------------------------\n",
      "curr_lr: 0.001\n",
      "epoch #13, train loss: 0.0027089899851434783\n",
      "epoch #13, sv eer: 0.506389095942924\n",
      "------------------------------\n",
      "curr_lr: 0.001\n",
      "epoch #14, train loss: 0.002709137480323369\n",
      "epoch #14, sv eer: 0.49834948354807795\n",
      "------------------------------\n",
      "curr_lr: 0.001\n",
      "epoch #15, train loss: 0.002708956447219054\n",
      "epoch #15, sv eer: 0.5032477904376531\n",
      "------------------------------\n",
      "curr_lr: 0.001\n",
      "epoch #16, train loss: 0.0027089559262663218\n",
      "epoch #16, sv eer: 0.4912682355446704\n",
      "------------------------------\n",
      "curr_lr: 0.001\n",
      "epoch #17, train loss: 0.0027086768402458583\n",
      "epoch #17, sv eer: 0.4996273027366628\n",
      "------------------------------\n",
      "curr_lr: 0.001\n",
      "epoch #18, train loss: 0.0027086127345974675\n",
      "epoch #18, sv eer: 0.5042593972952827\n",
      "------------------------------\n",
      "curr_lr: 0.001\n",
      "epoch #19, train loss: 0.0027086289330779433\n",
      "epoch #19, sv eer: 0.4995208178042807\n",
      "------------------------------\n",
      "curr_lr: 0.001\n",
      "epoch #20, train loss: 0.0027086775301524506\n",
      "epoch #20, sv eer: 0.4985624534128421\n",
      "------------------------------\n",
      "curr_lr: 0.001\n",
      "epoch #21, train loss: 0.0027085882564913295\n",
      "epoch #21, sv eer: 0.4988819082099883\n",
      "------------------------------\n",
      "curr_lr: 0.001\n",
      "epoch #22, train loss: 0.0027085123832369285\n",
      "epoch #22, sv eer: 0.49930784793951655\n",
      "------------------------------\n",
      "curr_lr: 0.001\n",
      "epoch #23, train loss: 0.0027084486376594955\n",
      "epoch #23, sv eer: 0.4964327547652007\n",
      "------------------------------\n",
      "curr_lr: 0.0001\n",
      "epoch #24, train loss: 0.0027080128130825883\n",
      "epoch #24, sv eer: 0.4965392396975828\n",
      "------------------------------\n",
      "curr_lr: 0.0001\n",
      "epoch #25, train loss: 0.0027078864371351792\n",
      "epoch #25, sv eer: 0.49462251091470555\n",
      "------------------------------\n",
      "curr_lr: 0.0001\n",
      "epoch #26, train loss: 0.0027079283172089254\n",
      "epoch #26, sv eer: 0.4970184218933021\n",
      "------------------------------\n",
      "curr_lr: 0.0001\n",
      "epoch #27, train loss: 0.002707719957532514\n",
      "epoch #27, sv eer: 0.49414332871898625\n",
      "------------------------------\n",
      "curr_lr: 0.0001\n",
      "epoch #28, train loss: 0.0027076795271211464\n",
      "epoch #28, sv eer: 0.4964327547652007\n",
      "------------------------------\n",
      "curr_lr: 0.0001\n",
      "epoch #29, train loss: 0.0027076810235829507\n",
      "epoch #29, sv eer: 0.49632626983281863\n"
     ]
    }
   ],
   "source": [
    "import itertools\n",
    "\n",
    "config['n_epochs'] = 30\n",
    "\n",
    "for idx, (init_lr, n_pairs, n_layers) in enumerate(itertools.product([0.001], [128], [2])):\n",
    "    model = run_train(config, *set_train_environment(init_lr, n_pairs, n_layers))\n",
    "#     torch.save(model.state_dict(), open(f\"saved_models/{exp_name}.pt\", \"wb\"))"
   ]
  },
  {
   "cell_type": "code",
   "execution_count": null,
   "metadata": {},
   "outputs": [],
   "source": []
  },
  {
   "cell_type": "code",
   "execution_count": null,
   "metadata": {},
   "outputs": [],
   "source": []
  }
 ],
 "metadata": {
  "kernelspec": {
   "display_name": "Python 3",
   "language": "python",
   "name": "python3"
  },
  "language_info": {
   "codemirror_mode": {
    "name": "ipython",
    "version": 3
   },
   "file_extension": ".py",
   "mimetype": "text/x-python",
   "name": "python",
   "nbconvert_exporter": "python",
   "pygments_lexer": "ipython3",
   "version": "3.6.5"
  }
 },
 "nbformat": 4,
 "nbformat_minor": 2
}
