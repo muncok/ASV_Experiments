{
 "cells": [
  {
   "cell_type": "markdown",
   "metadata": {},
   "source": [
    "# DDA (Deep Discriminant Analysis)\n",
    "\n",
    "기존의 DDA 학습은 classification base였다면 이번에는 Metric learning을 이용하여 DDA를 수행해보자.\n",
    "\n",
    "----"
   ]
  },
  {
   "cell_type": "markdown",
   "metadata": {},
   "source": [
    "Various length\n",
    "-----\n",
    "\n",
    "input frames을 100f, 200f, 400f, 800f로 잘라놓고\n",
    "\n",
    "긴것을 앵커로 놓고 작은 것을 positive negative로 놓아 어떻게 되는지 보려고 한다."
   ]
  },
  {
   "cell_type": "markdown",
   "metadata": {},
   "source": [
    "### Environment"
   ]
  },
  {
   "cell_type": "code",
   "execution_count": 1,
   "metadata": {},
   "outputs": [
    {
     "name": "stdout",
     "output_type": "stream",
     "text": [
      "Using matplotlib backend: TkAgg\n",
      "Populating the interactive namespace from numpy and matplotlib\n"
     ]
    }
   ],
   "source": [
    "%load_ext autoreload\n",
    "%autoreload 2\n",
    "%pylab\n",
    "%matplotlib inline\n",
    "\n",
    "import pandas as pd\n",
    "import pickle\n",
    "import numpy as np\n",
    "import sys\n",
    "import os"
   ]
  },
  {
   "cell_type": "code",
   "execution_count": 2,
   "metadata": {},
   "outputs": [],
   "source": [
    "sys.path.append('../../sv_system/')\n",
    "os.environ[\"CUDA_DEVICE_ORDER\"]=\"PCI_BUS_ID\"   # see issue #152\n",
    "os.environ[\"CUDA_VISIBLE_DEVICES\"]=\"1\""
   ]
  },
  {
   "cell_type": "markdown",
   "metadata": {},
   "source": [
    "### Configuration"
   ]
  },
  {
   "cell_type": "code",
   "execution_count": 3,
   "metadata": {},
   "outputs": [],
   "source": [
    "from utils.parser import set_train_config\n",
    "import easydict\n",
    "\n",
    "# datasets\n",
    "# voxc1_fbank_xvector\n",
    "# gcommand_fbank_xvector\n",
    "\n",
    "args = easydict.EasyDict(dict(dataset=\"voxc1_fbank_xvector\",\n",
    "                              input_frames=100, splice_frames=[50, 100], stride_frames=1, input_format='fbank',\n",
    "                              cuda=True,\n",
    "                              lrs=[0.1, 0.01], lr_schedule=[20], seed=1337,\n",
    "                              no_eer=False,\n",
    "                              batch_size=128,\n",
    "                              arch=\"tdnn_conv\", loss=\"softmax\",\n",
    "                              n_epochs=50\n",
    "                             ))\n",
    "config = set_train_config(args)"
   ]
  },
  {
   "cell_type": "markdown",
   "metadata": {},
   "source": [
    "### Batch Sampler"
   ]
  },
  {
   "cell_type": "code",
   "execution_count": 4,
   "metadata": {},
   "outputs": [],
   "source": [
    "import math\n",
    "import random\n",
    "import itertools\n",
    "\n",
    "def index_dataset(dataset):\n",
    "    return {c : [example_idx for example_idx, (_, class_label_ind) in \\\n",
    "                 enumerate(zip(dataset.embeds, dataset.labels)) if class_label_ind == c] for c in set(dataset.labels)}\n",
    "\n",
    "def sample_from_class(images_by_class, class_label_ind):\n",
    "    return images_by_class[class_label_ind][random.randrange(len(images_by_class[class_label_ind]))]\n",
    "\n",
    "def simple(batch_size, dataset, prob_other = 0.5):\n",
    "    '''lazy sampling, not like in lifted_struct. they add to the pool all postiive combinations, then compute the average number of positive pairs per image, then sample for every image the same number of negative pairs'''\n",
    "    images_by_class = index_dataset(dataset)\n",
    "    for batch_idx in range(int(math.ceil(len(dataset) * 1.0 / batch_size))):\n",
    "        example_indices = []\n",
    "        for i in range(0, batch_size, 2):\n",
    "            perm = random.sample(images_by_class.keys(), 2)\n",
    "            example_indices += [sample_from_class(images_by_class, perm[0]), sample_from_class(images_by_class, perm[0 if i == 0 or random.random() > prob_other else 1])]\n",
    "        yield example_indices[:batch_size]\n",
    "\n",
    "def triplet(batch_size, dataset, class2img=None):\n",
    "    if class2img is not None:\n",
    "        images_by_class = class2img\n",
    "    else:\n",
    "        images_by_class = index_dataset(dataset)\n",
    "        \n",
    "    for batch_idx in range(int(math.ceil(len(dataset) * 1.0 / batch_size))):\n",
    "        example_indices = []\n",
    "        for i in range(0, batch_size, 3):\n",
    "            perm = random.sample(images_by_class.keys(), 2)\n",
    "            example_indices += [sample_from_class(images_by_class, perm[0]), sample_from_class(images_by_class, perm[0]), sample_from_class(images_by_class, perm[1])]\n",
    "        yield example_indices[:batch_size]\n",
    "\n",
    "def npairs(batch_size, dataset, K = 4):\n",
    "    images_by_class = index_dataset(dataset)\n",
    "    for batch_idx in range(int(math.ceil(len(dataset) * 1.0 / batch_size))):\n",
    "        example_indices = [sample_from_class(images_by_class, class_label_ind) for k in range(int(math.ceil(batch_size * 1.0 / K))) for class_label_ind in [random.choice(images_by_class.keys())] for i in range(K)]\n",
    "        yield example_indices[:batch_size]"
   ]
  },
  {
   "cell_type": "markdown",
   "metadata": {},
   "source": [
    "### Dataset"
   ]
  },
  {
   "cell_type": "code",
   "execution_count": 5,
   "metadata": {},
   "outputs": [],
   "source": [
    "import torch.utils.data as data\n",
    "\n",
    "class embedDataset(data.Dataset):\n",
    "    def __init__(self, embeds, labels):\n",
    "        super().__init__()\n",
    "        self.embeds = embeds\n",
    "        self.labels = labels\n",
    "        \n",
    "    def __getitem__(self, index):\n",
    "        \n",
    "        return self.embeds[index], self.labels[index]\n",
    "    \n",
    "    def __len__(self):\n",
    "        \n",
    "        return self.embeds.shape[0]\n",
    "    \n",
    "class doubleEmbedDataset(data.Dataset):\n",
    "    def __init__(self, enroll_embeds, test_embeds, labels):\n",
    "        super().__init__()\n",
    "        self.enroll_embeds = enroll_embeds\n",
    "        self.test_embeds = test_embeds\n",
    "        self.labels = labels\n",
    "        \n",
    "    def __getitem__(self, index):\n",
    "        \n",
    "        return self.enroll_embeds[index], self.test_embeds[index], self.labels[index]\n",
    "    \n",
    "    def __len__(self):\n",
    "        \n",
    "        return self.enroll_embeds.shape[0]"
   ]
  },
  {
   "cell_type": "code",
   "execution_count": 6,
   "metadata": {},
   "outputs": [],
   "source": [
    "def embedToDataset1(embeds, key_df):\n",
    "    labels = key_df.label.tolist()\n",
    "    dataset = embedDataset(embeds, labels)\n",
    "    \n",
    "    return dataset, embeds.shape[1], len(key_df.label.unique())\n",
    "\n",
    "def embedToDataset2(enroll_embeds, test_embeds, key_df):\n",
    "    labels = key_df.label.tolist()\n",
    "    dataset = doubleEmbedDataset(enroll_embeds, test_embeds, labels)\n",
    "    \n",
    "    return dataset, enroll_embeds.shape[1], len(key_df.label.unique())"
   ]
  },
  {
   "cell_type": "code",
   "execution_count": 7,
   "metadata": {},
   "outputs": [],
   "source": [
    "def key2df(keys):\n",
    "    key_df = pd.DataFrame(keys, columns=['key'])\n",
    "    key_df['spk'] = key_df.key.apply(lambda x: x.split(\"-\")[0])\n",
    "    key_df['label'] = key_df.groupby('spk').ngroup()\n",
    "    key_df['origin'] = key_df.spk.apply(lambda x: 'voxc2' if x.startswith('id') else 'voxc1')\n",
    "    \n",
    "    return key_df"
   ]
  },
  {
   "cell_type": "code",
   "execution_count": 8,
   "metadata": {},
   "outputs": [],
   "source": [
    "def refeat_df(key_df, n_repeat, suffix):\n",
    "    repeat_key_df = key_df.loc[key_df.index.repeat(n_repeat)]\n",
    "    repeat_key_df = repeat_key_df.set_index('key')\n",
    "    repeat_key_df.index = repeat_key_df.index + '-' + suffix + '-' + \\\n",
    "                    repeat_key_df.groupby(level=0).cumcount().astype(str) \n",
    "    \n",
    "    return repeat_key_df"
   ]
  },
  {
   "cell_type": "code",
   "execution_count": 9,
   "metadata": {},
   "outputs": [],
   "source": [
    "trial = pd.read_pickle(\"/dataset/SV_sets/voxceleb12/dataframes/voxc12_test_trial.pkl\")"
   ]
  },
  {
   "cell_type": "code",
   "execution_count": 10,
   "metadata": {},
   "outputs": [],
   "source": [
    "si_keys = pickle.load(open(\"./embeddings_for_dda/voxc1_mfcc30/100f_embeds/si_keys.pkl\", \"rb\"))\n",
    "sv_keys = pickle.load(open(\"./embeddings_for_dda/voxc1_mfcc30/100f_embeds/sv_keys.pkl\", \"rb\"))"
   ]
  },
  {
   "cell_type": "code",
   "execution_count": 11,
   "metadata": {},
   "outputs": [],
   "source": [
    "# si_100f_embeds = np.load(\"./embeddings_for_dda/voxc1_mfcc30/100f_embeds/si_embeds.npy\")\n",
    "# sv_100f_embeds = np.load(\"./embeddings_for_dda/voxc1_mfcc30/100f_embeds/sv_embeds.npy\")"
   ]
  },
  {
   "cell_type": "code",
   "execution_count": 12,
   "metadata": {},
   "outputs": [],
   "source": [
    "si_200f_embeds = np.load(\"./embeddings_for_dda/voxc1_mfcc30/200f_embeds/si_embeds.npy\")\n",
    "si_200f_embeds = si_200f_embeds[:,0,:]\n",
    "sv_200f_embeds = np.load(\"./embeddings_for_dda/voxc1_mfcc30/200f_embeds/sv_embeds.npy\")\n",
    "sv_200f_embeds = sv_200f_embeds[:,0,:]"
   ]
  },
  {
   "cell_type": "code",
   "execution_count": 13,
   "metadata": {},
   "outputs": [],
   "source": [
    "# si_400f_embeds = np.load(\"./embeddings_for_dda/voxc1_mfcc30/400f_embeds/si_embeds.npy\")\n",
    "# sv_400f_embeds = np.load(\"./embeddings_for_dda/voxc1_mfcc30/400f_embeds/sv_embeds.npy\")"
   ]
  },
  {
   "cell_type": "code",
   "execution_count": 14,
   "metadata": {},
   "outputs": [],
   "source": [
    "si_800f_embeds = np.load(\"./embeddings_for_dda/voxc1_mfcc30/800f_embeds/si_embeds.npy\")\n",
    "sv_800f_embeds = np.load(\"./embeddings_for_dda/voxc1_mfcc30/800f_embeds/sv_embeds.npy\")"
   ]
  },
  {
   "cell_type": "code",
   "execution_count": 15,
   "metadata": {},
   "outputs": [],
   "source": [
    "si_key_df = key2df(si_keys)\n",
    "sv_key_df = key2df(sv_keys)"
   ]
  },
  {
   "cell_type": "code",
   "execution_count": 16,
   "metadata": {},
   "outputs": [],
   "source": [
    "# si_key_100f_df = refeat_df(si_key_df, 8, '100f')\n",
    "si_key_200f_df = refeat_df(si_key_df, 4, '200f')\n",
    "# si_key_400f_df = refeat_df(si_key_df, 2, '400f')\n",
    "si_key_800f_df = refeat_df(si_key_df, 1, '800f')"
   ]
  },
  {
   "cell_type": "markdown",
   "metadata": {},
   "source": [
    "### Choose a embedding"
   ]
  },
  {
   "cell_type": "code",
   "execution_count": 93,
   "metadata": {},
   "outputs": [],
   "source": [
    "si_enroll_key_df = si_key_df\n",
    "si_test_key_df = si_key_df\n",
    "si_enroll_embeds = si_800f_embeds\n",
    "si_test_embeds = si_200f_embeds\n",
    "sv_enroll_embeds = sv_800f_embeds\n",
    "sv_test_embeds = sv_200f_embeds"
   ]
  },
  {
   "cell_type": "code",
   "execution_count": 24,
   "metadata": {},
   "outputs": [],
   "source": [
    "total_si_embeds = np.concatenate([si_enroll_embeds, si_test_embeds], axis=0)\n",
    "total_si_key_df = pd.concat([si_key_df, si_key_df])"
   ]
  },
  {
   "cell_type": "markdown",
   "metadata": {},
   "source": [
    "### LDA on embedding"
   ]
  },
  {
   "cell_type": "code",
   "execution_count": 89,
   "metadata": {},
   "outputs": [
    {
     "data": {
      "text/plain": [
       "LinearDiscriminantAnalysis(n_components=200, priors=None, shrinkage=None,\n",
       "              solver='svd', store_covariance=False, tol=0.0001)"
      ]
     },
     "execution_count": 89,
     "metadata": {},
     "output_type": "execute_result"
    }
   ],
   "source": [
    "from sklearn.discriminant_analysis import LinearDiscriminantAnalysis as LDA\n",
    "embed_dim = 200\n",
    "global_mean = total_si_embeds.mean(0)\n",
    "clf = LDA(solver='svd', n_components=200)\n",
    "clf.fit(total_si_embeds - global_mean, total_si_key_df.label)"
   ]
  },
  {
   "cell_type": "code",
   "execution_count": 94,
   "metadata": {},
   "outputs": [],
   "source": [
    "si_enroll_embeds = clf.transform(si_enroll_embeds - global_mean).astype(np.float32)"
   ]
  },
  {
   "cell_type": "code",
   "execution_count": 95,
   "metadata": {},
   "outputs": [],
   "source": [
    "si_test_embeds = clf.transform(si_test_embeds - global_mean).astype(np.float32)"
   ]
  },
  {
   "cell_type": "code",
   "execution_count": 96,
   "metadata": {},
   "outputs": [],
   "source": [
    "sv_enroll_embeds = clf.transform(sv_enroll_embeds - global_mean).astype(np.float32)"
   ]
  },
  {
   "cell_type": "code",
   "execution_count": 97,
   "metadata": {},
   "outputs": [],
   "source": [
    "sv_test_embeds = clf.transform(sv_test_embeds - global_mean).astype(np.float32)"
   ]
  },
  {
   "cell_type": "code",
   "execution_count": 98,
   "metadata": {},
   "outputs": [],
   "source": [
    "si_dataset, embed_dim, n_labels = embedToDataset2(si_enroll_embeds, si_test_embeds, si_key_df)\n",
    "sv_dataset, _, _ = embedToDataset2(sv_enroll_embeds, sv_test_embeds, sv_key_df)"
   ]
  },
  {
   "cell_type": "markdown",
   "metadata": {},
   "source": [
    "### Dataloader"
   ]
  },
  {
   "cell_type": "code",
   "execution_count": 99,
   "metadata": {},
   "outputs": [],
   "source": [
    "n_pairs_per_batch = 23\n",
    "batch_size = n_pairs_per_batch * 3"
   ]
  },
  {
   "cell_type": "code",
   "execution_count": 100,
   "metadata": {},
   "outputs": [],
   "source": [
    "adapt_sampler = lambda batch, dataset, sampler, **kwargs: \\\n",
    "type('', (torch.utils.data.sampler.Sampler,), \n",
    "     dict(__len__ = dataset.__len__, __iter__ = \\\n",
    "          lambda _: itertools.chain.from_iterable(sampler(batch, dataset, **kwargs))))(dataset)"
   ]
  },
  {
   "cell_type": "code",
   "execution_count": 101,
   "metadata": {},
   "outputs": [],
   "source": [
    "# use values to exclude unnecessary index\n",
    "si_key_df['num_id'] = range(len(si_key_df))\n",
    "class2idx = si_key_df.groupby('label').apply(lambda x: x.num_id.values).to_dict()"
   ]
  },
  {
   "cell_type": "code",
   "execution_count": 102,
   "metadata": {},
   "outputs": [],
   "source": [
    "import torch\n",
    "from torch.utils.data.dataloader import DataLoader\n",
    "\n",
    "si_loader = torch.utils.data.DataLoader(\n",
    "    si_dataset, \n",
    "    sampler = adapt_sampler(batch_size, \n",
    "                           si_dataset, \n",
    "                           triplet, \n",
    "                           class2img=class2idx), \n",
    "    num_workers = 8, batch_size = batch_size, \n",
    "    drop_last = True, pin_memory = True\n",
    ")\n",
    "\n",
    "sv_loader = DataLoader(sv_dataset, batch_size=128, num_workers=4, shuffle=False)"
   ]
  },
  {
   "cell_type": "markdown",
   "metadata": {},
   "source": [
    "### Model Define"
   ]
  },
  {
   "cell_type": "code",
   "execution_count": 103,
   "metadata": {},
   "outputs": [],
   "source": [
    "import torch.nn as nn\n",
    "\n",
    "class dda_model(nn.Module):\n",
    "    def __init__(self, in_dims, n_labels):\n",
    "        super().__init__()\n",
    "                \n",
    "        hid_dims = in_dims*2\n",
    "        out_dims = in_dims*2\n",
    "        \n",
    "        self.hidden_layer = nn.Sequential(\n",
    "            nn.Linear(in_dims, hid_dims),\n",
    "            nn.BatchNorm1d(hid_dims),\n",
    "            nn.PReLU(),\n",
    "            nn.Linear(hid_dims, hid_dims),\n",
    "            nn.BatchNorm1d(hid_dims),\n",
    "            nn.PReLU(),\n",
    "        )    \n",
    "    \n",
    "        self.embedding_layer = nn.Linear(hid_dims, out_dims)\n",
    "        \n",
    "    def embed(self, x):\n",
    "        x = self.hidden_layer(x)\n",
    "        x = self.embedding_layer(x)\n",
    "    \n",
    "        return x\n",
    "    \n",
    "    def forward(self, x):           \n",
    "        x = self.embed(x)\n",
    "        \n",
    "        return x"
   ]
  },
  {
   "cell_type": "markdown",
   "metadata": {},
   "source": [
    "### Metric Learning"
   ]
  },
  {
   "cell_type": "code",
   "execution_count": 104,
   "metadata": {},
   "outputs": [],
   "source": [
    "def hard_mining(anchor, pos_egs, neg_egs, margin=1.0):\n",
    "    pos_dist = (anchor - pos_egs).pow(2).sum(1)\n",
    "    pos_dist = torch.clamp(pos_dist, min=1e-16)\n",
    "    pos_dist = pos_dist.sqrt()\n",
    "    \n",
    "    neg_dist = (anchor - neg_egs).pow(2).sum(1)\n",
    "    neg_dist = torch.clamp(neg_dist, min=1e-16)\n",
    "    neg_dist = neg_dist.sqrt()\n",
    "    \n",
    "    \n",
    "    hard_pos_dist = pos_dist.max()\n",
    "    hard_neg_dist = neg_dist.min()\n",
    "    \n",
    "#     print(f\"hard_pos:{hard_pos_dist}, hard_neg:{hard_neg_dist}\")\n",
    "    \n",
    "    triplet_loss = torch.clamp(hard_pos_dist - hard_neg_dist + margin, min=0)\n",
    "    triplet_loss = torch.sum(triplet_loss)\n",
    "    \n",
    "    return triplet_loss"
   ]
  },
  {
   "cell_type": "code",
   "execution_count": 116,
   "metadata": {},
   "outputs": [],
   "source": [
    "model = dda_model(embed_dim, n_labels) \n",
    "\n",
    "if not config['no_cuda']:\n",
    "    model = model.cuda()"
   ]
  },
  {
   "cell_type": "code",
   "execution_count": 117,
   "metadata": {
    "scrolled": false
   },
   "outputs": [
    {
     "name": "stdout",
     "output_type": "stream",
     "text": [
      "------------------------------\n",
      "curr_lr: 0.1\n",
      "Batch 1000/2154\t Loss 0.020549\n",
      "Batch 2000/2154\t Loss 0.018277\n",
      "epoch #0, train loss: 0.01806753488525785\n",
      "best eer!\n",
      "epoch #0, sv eer: 0.19151643690349948\n",
      "------------------------------\n",
      "curr_lr: 0.1\n",
      "Batch 1000/2154\t Loss 0.013736\n",
      "Batch 2000/2154\t Loss 0.013440\n",
      "epoch #1, train loss: 0.013436707569724036\n",
      "best eer!\n",
      "epoch #1, sv eer: 0.1769353128313892\n",
      "------------------------------\n",
      "curr_lr: 0.1\n",
      "Batch 1000/2154\t Loss 0.012680\n",
      "Batch 2000/2154\t Loss 0.012413\n",
      "epoch #2, train loss: 0.01242838707065942\n",
      "epoch #2, sv eer: 0.1788441145281018\n",
      "------------------------------\n",
      "curr_lr: 0.1\n",
      "Batch 1000/2154\t Loss 0.012144\n",
      "Batch 2000/2154\t Loss 0.011945\n",
      "epoch #3, train loss: 0.011890124336601006\n",
      "best eer!\n",
      "epoch #3, sv eer: 0.16240721102863204\n",
      "------------------------------\n",
      "curr_lr: 0.1\n",
      "Batch 1000/2154\t Loss 0.011935\n",
      "Batch 2000/2154\t Loss 0.011710\n",
      "epoch #4, train loss: 0.011676818965920946\n",
      "epoch #4, sv eer: 0.17364793213149524\n",
      "------------------------------\n",
      "curr_lr: 0.1\n",
      "Batch 1000/2154\t Loss 0.011084\n",
      "Batch 2000/2154\t Loss 0.011009\n",
      "epoch #5, train loss: 0.01096386833806801\n",
      "epoch #5, sv eer: 0.16410392364793214\n",
      "------------------------------\n",
      "curr_lr: 0.1\n",
      "Batch 1000/2154\t Loss 0.010405\n",
      "Batch 2000/2154\t Loss 0.010355\n",
      "epoch #6, train loss: 0.010354185418539894\n",
      "epoch #6, sv eer: 0.17158006362672323\n",
      "------------------------------\n",
      "curr_lr: 0.1\n",
      "Batch 1000/2154\t Loss 0.010255\n",
      "Batch 2000/2154\t Loss 0.010384\n",
      "epoch #7, train loss: 0.010384121279461691\n",
      "epoch #7, sv eer: 0.17624602332979852\n",
      "------------------------------\n",
      "curr_lr: 0.1\n",
      "Batch 1000/2154\t Loss 0.010528\n",
      "Batch 2000/2154\t Loss 0.010627\n",
      "epoch #8, train loss: 0.010588658229252517\n",
      "epoch #8, sv eer: 0.1698833510074231\n",
      "------------------------------\n",
      "curr_lr: 0.1\n",
      "Batch 1000/2154\t Loss 0.010291\n",
      "Batch 2000/2154\t Loss 0.010388\n",
      "epoch #9, train loss: 0.01032683759421095\n",
      "epoch #9, sv eer: 0.16500530222693532\n",
      "------------------------------\n",
      "curr_lr: 0.1\n",
      "Batch 1000/2154\t Loss 0.010679\n",
      "Batch 2000/2154\t Loss 0.010724\n",
      "epoch #10, train loss: 0.01069637103329086\n",
      "epoch #10, sv eer: 0.17629904559915163\n",
      "------------------------------\n",
      "curr_lr: 0.1\n",
      "Batch 1000/2154\t Loss 0.009691\n",
      "Batch 2000/2154\t Loss 0.009904\n",
      "epoch #11, train loss: 0.009905443468897034\n",
      "best eer!\n",
      "epoch #11, sv eer: 0.16018027571580062\n",
      "------------------------------\n",
      "curr_lr: 0.1\n",
      "Batch 1000/2154\t Loss 0.010277\n",
      "Batch 2000/2154\t Loss 0.010086\n",
      "epoch #12, train loss: 0.010092277307470249\n",
      "best eer!\n",
      "epoch #12, sv eer: 0.156203605514316\n",
      "------------------------------\n",
      "curr_lr: 0.1\n",
      "Batch 1000/2154\t Loss 0.009538\n",
      "Batch 2000/2154\t Loss 0.009851\n",
      "epoch #13, train loss: 0.009833975909461938\n",
      "epoch #13, sv eer: 0.16134676564156947\n",
      "------------------------------\n",
      "curr_lr: 0.1\n",
      "Batch 1000/2154\t Loss 0.009962\n",
      "Batch 2000/2154\t Loss 0.010097\n",
      "epoch #14, train loss: 0.009999767028205342\n",
      "best eer!\n",
      "epoch #14, sv eer: 0.15402969247083775\n",
      "------------------------------\n",
      "curr_lr: 0.1\n",
      "Batch 1000/2154\t Loss 0.009676\n",
      "Batch 2000/2154\t Loss 0.009768\n",
      "epoch #15, train loss: 0.00981940039594455\n",
      "epoch #15, sv eer: 0.17836691410392363\n",
      "------------------------------\n",
      "curr_lr: 0.1\n",
      "Batch 1000/2154\t Loss 0.010369\n",
      "Batch 2000/2154\t Loss 0.009996\n",
      "epoch #16, train loss: 0.009940898252168961\n",
      "epoch #16, sv eer: 0.1595440084835631\n",
      "------------------------------\n",
      "curr_lr: 0.1\n",
      "Batch 1000/2154\t Loss 0.010090\n",
      "Batch 2000/2154\t Loss 0.010080\n",
      "epoch #17, train loss: 0.010046172061123458\n",
      "epoch #17, sv eer: 0.16468716861081653\n",
      "------------------------------\n",
      "curr_lr: 0.1\n",
      "Batch 1000/2154\t Loss 0.009840\n",
      "Batch 2000/2154\t Loss 0.009982\n",
      "epoch #18, train loss: 0.010020017605084433\n",
      "epoch #18, sv eer: 0.16829268292682928\n",
      "------------------------------\n",
      "curr_lr: 0.1\n",
      "Batch 1000/2154\t Loss 0.009476\n",
      "Batch 2000/2154\t Loss 0.009610\n",
      "epoch #19, train loss: 0.00950819340400313\n",
      "epoch #19, sv eer: 0.15726405090137857\n",
      "------------------------------\n",
      "curr_lr: 0.1\n",
      "Batch 1000/2154\t Loss 0.010125\n",
      "Batch 2000/2154\t Loss 0.010015\n",
      "epoch #20, train loss: 0.010045329311657402\n",
      "epoch #20, sv eer: 0.15965005302226934\n",
      "------------------------------\n",
      "curr_lr: 0.1\n",
      "Batch 1000/2154\t Loss 0.010222\n",
      "Batch 2000/2154\t Loss 0.010129\n",
      "epoch #21, train loss: 0.010150576504120557\n",
      "best eer!\n",
      "epoch #21, sv eer: 0.14952279957582185\n",
      "------------------------------\n",
      "curr_lr: 0.1\n",
      "Batch 1000/2154\t Loss 0.009678\n",
      "Batch 2000/2154\t Loss 0.009573\n",
      "epoch #22, train loss: 0.009614364780287897\n",
      "epoch #22, sv eer: 0.16627783669141039\n",
      "------------------------------\n",
      "curr_lr: 0.1\n",
      "Batch 1000/2154\t Loss 0.009764\n",
      "Batch 2000/2154\t Loss 0.009737\n",
      "epoch #23, train loss: 0.00972049162756987\n",
      "epoch #23, sv eer: 0.14968186638388123\n",
      "------------------------------\n",
      "curr_lr: 0.1\n",
      "Batch 1000/2154\t Loss 0.009611\n",
      "Batch 2000/2154\t Loss 0.009777\n",
      "epoch #24, train loss: 0.0098192132706594\n",
      "epoch #24, sv eer: 0.1653764581124072\n",
      "------------------------------\n",
      "curr_lr: 0.1\n",
      "Batch 1000/2154\t Loss 0.009638\n",
      "Batch 2000/2154\t Loss 0.010003\n",
      "epoch #25, train loss: 0.010026092162134384\n",
      "epoch #25, sv eer: 0.16007423117709438\n",
      "------------------------------\n",
      "curr_lr: 0.010000000000000002\n",
      "Batch 1000/2154\t Loss 0.007869\n",
      "Batch 2000/2154\t Loss 0.007436\n",
      "epoch #26, train loss: 0.0073822905111161855\n",
      "best eer!\n",
      "epoch #26, sv eer: 0.1352067868504772\n",
      "------------------------------\n",
      "curr_lr: 0.010000000000000002\n",
      "Batch 1000/2154\t Loss 0.006462\n",
      "Batch 2000/2154\t Loss 0.006407\n",
      "epoch #27, train loss: 0.00634688759109253\n",
      "best eer!\n",
      "epoch #27, sv eer: 0.13059384941675503\n",
      "------------------------------\n",
      "curr_lr: 0.010000000000000002\n",
      "Batch 1000/2154\t Loss 0.006765\n",
      "Batch 2000/2154\t Loss 0.006569\n",
      "epoch #28, train loss: 0.006509957725974938\n",
      "best eer!\n",
      "epoch #28, sv eer: 0.12725344644750794\n",
      "------------------------------\n",
      "curr_lr: 0.010000000000000002\n",
      "Batch 1000/2154\t Loss 0.006451\n",
      "Batch 2000/2154\t Loss 0.006305\n",
      "epoch #29, train loss: 0.006310441083592144\n",
      "epoch #29, sv eer: 0.13059384941675503\n",
      "------------------------------\n",
      "curr_lr: 0.010000000000000002\n",
      "Batch 1000/2154\t Loss 0.006227\n",
      "Batch 2000/2154\t Loss 0.005930\n",
      "epoch #30, train loss: 0.005946610754226956\n",
      "epoch #30, sv eer: 0.12725344644750794\n",
      "------------------------------\n",
      "curr_lr: 0.010000000000000002\n",
      "Batch 1000/2154\t Loss 0.005857\n",
      "Batch 2000/2154\t Loss 0.005794\n",
      "epoch #31, train loss: 0.005717463640162003\n",
      "best eer!\n",
      "epoch #31, sv eer: 0.12449628844114528\n",
      "------------------------------\n",
      "curr_lr: 0.010000000000000002\n",
      "Batch 1000/2154\t Loss 0.005628\n",
      "Batch 2000/2154\t Loss 0.005571\n",
      "epoch #32, train loss: 0.0056161021793928855\n",
      "best eer!\n",
      "epoch #32, sv eer: 0.12216330858960764\n",
      "------------------------------\n",
      "curr_lr: 0.010000000000000002\n",
      "Batch 1000/2154\t Loss 0.005428\n",
      "Batch 2000/2154\t Loss 0.005417\n",
      "epoch #33, train loss: 0.00544143700233638\n",
      "best eer!\n",
      "epoch #33, sv eer: 0.12131495227995759\n",
      "------------------------------\n",
      "curr_lr: 0.010000000000000002\n",
      "Batch 1000/2154\t Loss 0.005442\n",
      "Batch 2000/2154\t Loss 0.005357\n",
      "epoch #34, train loss: 0.005372372994830087\n",
      "best eer!\n",
      "epoch #34, sv eer: 0.12083775185577943\n",
      "------------------------------\n",
      "curr_lr: 0.010000000000000002\n",
      "Batch 1000/2154\t Loss 0.005195\n",
      "Batch 2000/2154\t Loss 0.005177\n",
      "epoch #35, train loss: 0.005182834024574567\n",
      "best eer!\n",
      "epoch #35, sv eer: 0.11988335100742312\n",
      "------------------------------\n",
      "curr_lr: 0.010000000000000002\n",
      "Batch 1000/2154\t Loss 0.005246\n",
      "Batch 2000/2154\t Loss 0.005205\n",
      "epoch #36, train loss: 0.005212960933040468\n",
      "epoch #36, sv eer: 0.12301166489925769\n",
      "------------------------------\n",
      "curr_lr: 0.010000000000000002\n",
      "Batch 1000/2154\t Loss 0.004978\n",
      "Batch 2000/2154\t Loss 0.005088\n",
      "epoch #37, train loss: 0.005061214381161102\n",
      "epoch #37, sv eer: 0.12131495227995759\n",
      "------------------------------\n",
      "curr_lr: 0.010000000000000002\n",
      "Batch 1000/2154\t Loss 0.005428\n",
      "Batch 2000/2154\t Loss 0.005326\n",
      "epoch #38, train loss: 0.0053042822473975525\n",
      "epoch #38, sv eer: 0.12099681866383881\n",
      "------------------------------\n",
      "curr_lr: 0.010000000000000002\n",
      "Batch 1000/2154\t Loss 0.004848\n",
      "Batch 2000/2154\t Loss 0.004938\n",
      "epoch #39, train loss: 0.004960482524699218\n",
      "epoch #39, sv eer: 0.12046659597030752\n",
      "------------------------------\n",
      "curr_lr: 0.010000000000000002\n",
      "Batch 1000/2154\t Loss 0.005285\n",
      "Batch 2000/2154\t Loss 0.005228\n",
      "epoch #40, train loss: 0.005234738001191188\n",
      "epoch #40, sv eer: 0.12014846235418876\n",
      "------------------------------\n",
      "curr_lr: 0.010000000000000002\n",
      "Batch 1000/2154\t Loss 0.004899\n"
     ]
    },
    {
     "name": "stdout",
     "output_type": "stream",
     "text": [
      "Batch 2000/2154\t Loss 0.004978\n",
      "epoch #41, train loss: 0.004997703991635012\n",
      "epoch #41, sv eer: 0.12131495227995759\n",
      "------------------------------\n",
      "curr_lr: 0.010000000000000002\n",
      "Batch 1000/2154\t Loss 0.004916\n",
      "Batch 2000/2154\t Loss 0.004963\n",
      "epoch #42, train loss: 0.004948989281709487\n",
      "best eer!\n",
      "epoch #42, sv eer: 0.11680805938494168\n",
      "------------------------------\n",
      "curr_lr: 0.010000000000000002\n",
      "Batch 1000/2154\t Loss 0.004773\n",
      "Batch 2000/2154\t Loss 0.004941\n",
      "epoch #43, train loss: 0.004974302913184131\n",
      "epoch #43, sv eer: 0.12407211028632026\n",
      "------------------------------\n",
      "curr_lr: 0.010000000000000002\n",
      "Batch 1000/2154\t Loss 0.004568\n",
      "Batch 2000/2154\t Loss 0.004591\n",
      "epoch #44, train loss: 0.004642215387730103\n",
      "epoch #44, sv eer: 0.12200424178154826\n",
      "------------------------------\n",
      "curr_lr: 0.010000000000000002\n",
      "Batch 1000/2154\t Loss 0.004716\n",
      "Batch 2000/2154\t Loss 0.004839\n",
      "epoch #45, train loss: 0.004840249864270751\n",
      "epoch #45, sv eer: 0.12158006362672322\n",
      "------------------------------\n",
      "curr_lr: 0.010000000000000002\n",
      "Batch 1000/2154\t Loss 0.004437\n",
      "Batch 2000/2154\t Loss 0.004449\n",
      "epoch #46, train loss: 0.0044347077110833185\n",
      "epoch #46, sv eer: 0.12062566277836691\n",
      "------------------------------\n",
      "curr_lr: 0.010000000000000002\n",
      "Batch 1000/2154\t Loss 0.004280\n",
      "Batch 2000/2154\t Loss 0.004424\n",
      "epoch #47, train loss: 0.004426901040715058\n",
      "epoch #47, sv eer: 0.12778366914103922\n",
      "------------------------------\n",
      "curr_lr: 0.010000000000000002\n",
      "Batch 1000/2154\t Loss 0.004227\n",
      "Batch 2000/2154\t Loss 0.004301\n",
      "epoch #48, train loss: 0.004296638788604941\n",
      "epoch #48, sv eer: 0.1241781548250265\n",
      "------------------------------\n",
      "curr_lr: 0.010000000000000002\n",
      "Batch 1000/2154\t Loss 0.004280\n",
      "Batch 2000/2154\t Loss 0.004324\n",
      "epoch #49, train loss: 0.004325366890431732\n",
      "epoch #49, sv eer: 0.12523860021208907\n"
     ]
    }
   ],
   "source": [
    "from train.train_utils import set_seed, find_optimizer\n",
    "from torch.optim.lr_scheduler import ReduceLROnPlateau, MultiStepLR\n",
    "from sklearn.metrics import roc_curve\n",
    "import torch.nn.functional as F\n",
    "from tensorboardX import SummaryWriter\n",
    "\n",
    "config['lrs'] = [0.1]\n",
    "_, optimizer = find_optimizer(config, model)\n",
    "criterion = nn.TripletMarginLoss(margin=5, p=2)\n",
    "# criterion = hard_mining\n",
    "# criterion = nn.CosineEmbeddingLoss(margin=0.5)\n",
    "plateau_scheduler = ReduceLROnPlateau(optimizer, 'min', factor=0.1, patience=5)\n",
    "step_scheduler = MultiStepLR(optimizer, [30], 0.1)\n",
    "\n",
    "writer = SummaryWriter(\"logs/xvector_eucl_semi_hard_m0.4_lr0.01.tf.log\")\n",
    "\n",
    "best_eer = 1.0\n",
    "for epoch_idx in range(0, config['n_epochs']):\n",
    "    print(\"-\"*30)\n",
    "    curr_lr = optimizer.state_dict()['param_groups'][0]['lr']\n",
    "    print(\"curr_lr: {}\".format(curr_lr))\n",
    "    \n",
    "#=============== train code ===============\n",
    "    model.train()\n",
    "    loss_sum = 0\n",
    "    n_corrects = 0\n",
    "    total = 0\n",
    "    for batch_idx, (X_enroll, X_test, y) in enumerate(si_loader):\n",
    "        if not config['no_cuda']:\n",
    "            X_enroll = X_enroll.cuda()\n",
    "            X_test = X_test.cuda()\n",
    "            y = y.cuda()\n",
    "\n",
    "        optimizer.zero_grad()\n",
    "#         n_sub_utter = x_enroll.size(1)\n",
    "        anchor = model(X_enroll[0:batch_size:3])\n",
    "        pos_egs = model(X_test[1:batch_size:3])\n",
    "        neg_egs = model(X_test[2:batch_size:3])\n",
    "#         embeds = embeds / embeds.norm(dim=1,keepdim=True)\n",
    "#         anchor = embeds[0:batch_size:3]\n",
    "#         pos_egs = test_out[1:batch_size:3]\n",
    "#         neg_egs = test_out[2:batch_size:3]\n",
    "        loss = criterion(anchor, pos_egs, neg_egs)\n",
    "        \n",
    "#         loss_pos = criterion(anchor, pos_egs, torch.ones(len(anchor)).cuda())\n",
    "#         loss_neg = criterion(anchor, neg_egs, torch.zeros(len(anchor)).cuda())\n",
    "#         loss = loss_pos + loss_neg\n",
    "        loss.backward()\n",
    "        optimizer.step()\n",
    "                        \n",
    "        loss_sum += loss.item()\n",
    "        total += y.size(0)\n",
    "        if (batch_idx+1) % 1000 == 0:\n",
    "            print(\"Batch {}/{}\\t Loss {:.6f}\" \\\n",
    "                  .format(batch_idx+1, len(si_loader), loss_sum / total))\n",
    "    train_loss = loss_sum / total\n",
    "    plateau_scheduler.step(train_loss)\n",
    "    \n",
    "    print(\"epoch #{}, train loss: {}\".format(epoch_idx, train_loss))\n",
    "    writer.add_scalar(\"train/loss\", train_loss, epoch_idx+1)\n",
    "\n",
    "#=============== test code ===============\n",
    "    enroll_embeddings = []\n",
    "    test_embeddings = []\n",
    "    model.eval()\n",
    "\n",
    "    with torch.no_grad():\n",
    "        for batch in sv_loader:\n",
    "            X_enroll, X_test, _ = batch\n",
    "            if not config['no_cuda']:\n",
    "                X_enroll = X_enroll.cuda()\n",
    "                X_test = X_test.cuda()\n",
    "                \n",
    "            enroll_embeddings += [model.embed(X_enroll).cpu().detach()]\n",
    "            test_embeddings += [model.embed(X_test).cpu().detach()]\n",
    "            \n",
    "        enroll_embeddings = torch.cat(enroll_embeddings)\n",
    "        test_embeddings = torch.cat(test_embeddings)\n",
    "        \n",
    "#         score_vector = F.cosine_similarity(enroll_embeddings[trial.enrolment_id],\n",
    "#                                       test_embeddings[trial.test_id], dim=1)\n",
    "        score_vector = -torch.pow(\n",
    "            (enroll_embeddings[trial.enrolment_id] - test_embeddings[trial.test_id]), 2).sum(dim=1).sqrt()\n",
    "    label_vector = np.array(trial.label)\n",
    "    fpr, tpr, thres = roc_curve(\n",
    "            label_vector, score_vector, pos_label=1)\n",
    "    eer = fpr[np.nanargmin(np.abs(fpr - (1 - tpr)))]\n",
    "    \n",
    "    if eer < best_eer:\n",
    "        best_eer = eer\n",
    "        print(\"best eer!\")\n",
    "        torch.save(model.state_dict(), open(\"best_model_metric.pt\", \"wb\"))\n",
    "        \n",
    "    print(\"epoch #{}, sv eer: {}\".format(epoch_idx, eer))\n",
    "    writer.add_scalar(\"sv_test/eer\", eer, epoch_idx+1)"
   ]
  },
  {
   "cell_type": "code",
   "execution_count": 88,
   "metadata": {},
   "outputs": [
    {
     "data": {
      "text/plain": [
       "dda_model(\n",
       "  (hidden_layer): Sequential(\n",
       "    (0): Linear(in_features=512, out_features=1024, bias=True)\n",
       "    (1): BatchNorm1d(1024, eps=1e-05, momentum=0.1, affine=True, track_running_stats=True)\n",
       "    (2): PReLU(num_parameters=1)\n",
       "    (3): Linear(in_features=1024, out_features=1024, bias=True)\n",
       "    (4): BatchNorm1d(1024, eps=1e-05, momentum=0.1, affine=True, track_running_stats=True)\n",
       "    (5): PReLU(num_parameters=1)\n",
       "  )\n",
       "  (embedding_layer): Linear(in_features=1024, out_features=1024, bias=True)\n",
       ")"
      ]
     },
     "execution_count": 88,
     "metadata": {},
     "output_type": "execute_result"
    }
   ],
   "source": [
    "model"
   ]
  },
  {
   "cell_type": "code",
   "execution_count": 114,
   "metadata": {},
   "outputs": [
    {
     "data": {
      "text/plain": [
       "tensor([-0.8055, -3.4977, -2.3095, -1.6889, -2.4606, -1.3816, -2.4725, -0.6344,\n",
       "        -2.7647, -3.0398, -0.2005, -2.0620, -2.1785, -3.1644, -2.1108, -3.2537,\n",
       "         0.4485, -2.7425, -1.5064, -2.7283, -1.5966, -4.3541, -1.7137],\n",
       "       device='cuda:0', grad_fn=<ThSubBackward>)"
      ]
     },
     "execution_count": 114,
     "metadata": {},
     "output_type": "execute_result"
    }
   ],
   "source": [
    "torch.norm((anchor - pos_egs), dim=1).sqrt() - torch.norm((anchor - neg_egs), dim=1).sqrt()"
   ]
  },
  {
   "cell_type": "code",
   "execution_count": 82,
   "metadata": {},
   "outputs": [],
   "source": [
    "sv_enroll_embeds_ = torch.from_numpy(sv_enroll_embeds)\n",
    "sv_test_embeds_ = torch.from_numpy(sv_test_embeds)"
   ]
  },
  {
   "cell_type": "code",
   "execution_count": 83,
   "metadata": {},
   "outputs": [
    {
     "name": "stdout",
     "output_type": "stream",
     "text": [
      "epoch #0, sv eer: 0.12757158006362673\n"
     ]
    }
   ],
   "source": [
    "score_vector = F.cosine_similarity(sv_enroll_embeds_[trial.enrolment_id],\n",
    "                                  sv_test_embeds_[trial.test_id], dim=1)\n",
    "label_vector = np.array(trial.label)\n",
    "fpr, tpr, thres = roc_curve(\n",
    "        label_vector, score_vector, pos_label=1)\n",
    "eer = fpr[np.nanargmin(np.abs(fpr - (1 - tpr)))]\n",
    "print(\"epoch #{}, sv eer: {}\".format(epoch_idx, eer))"
   ]
  },
  {
   "cell_type": "code",
   "execution_count": null,
   "metadata": {},
   "outputs": [],
   "source": []
  }
 ],
 "metadata": {
  "kernelspec": {
   "display_name": "Python 3",
   "language": "python",
   "name": "python3"
  },
  "language_info": {
   "codemirror_mode": {
    "name": "ipython",
    "version": 3
   },
   "file_extension": ".py",
   "mimetype": "text/x-python",
   "name": "python",
   "nbconvert_exporter": "python",
   "pygments_lexer": "ipython3",
   "version": "3.6.5"
  }
 },
 "nbformat": 4,
 "nbformat_minor": 2
}
