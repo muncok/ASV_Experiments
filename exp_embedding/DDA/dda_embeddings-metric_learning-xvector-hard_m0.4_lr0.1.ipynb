{
 "cells": [
  {
   "cell_type": "markdown",
   "metadata": {},
   "source": [
    "# DDA (Deep Discriminant Analysis)\n",
    "\n",
    "기존의 DDA 학습은 classification base였다면 이번에는 Metric learning을 이용하여 DDA를 수행해보자.\n",
    "\n",
    "----\n",
    "아직은 결과가 그렇게 좋지않다. ㅠㅠ\n",
    "Hard mining까지 썼는데도 그렇다.\n",
    "\n",
    "parameter 변경해 볼 것이 있나?"
   ]
  },
  {
   "cell_type": "markdown",
   "metadata": {},
   "source": [
    "### Environment"
   ]
  },
  {
   "cell_type": "code",
   "execution_count": 1,
   "metadata": {},
   "outputs": [
    {
     "name": "stdout",
     "output_type": "stream",
     "text": [
      "Using matplotlib backend: TkAgg\n",
      "Populating the interactive namespace from numpy and matplotlib\n"
     ]
    }
   ],
   "source": [
    "%load_ext autoreload\n",
    "%autoreload 2\n",
    "%pylab\n",
    "%matplotlib inline\n",
    "\n",
    "import pandas as pd\n",
    "import pickle\n",
    "import numpy as np\n",
    "import sys\n",
    "import os"
   ]
  },
  {
   "cell_type": "code",
   "execution_count": 2,
   "metadata": {},
   "outputs": [],
   "source": [
    "sys.path.append('../')\n",
    "os.environ[\"CUDA_DEVICE_ORDER\"]=\"PCI_BUS_ID\"   # see issue #152\n",
    "os.environ[\"CUDA_VISIBLE_DEVICES\"]=\"3\""
   ]
  },
  {
   "cell_type": "markdown",
   "metadata": {},
   "source": [
    "### Configuration"
   ]
  },
  {
   "cell_type": "code",
   "execution_count": 3,
   "metadata": {},
   "outputs": [],
   "source": [
    "from sv_system.utils.parser import set_train_config\n",
    "import easydict\n",
    "\n",
    "# datasets\n",
    "# voxc1_fbank_xvector\n",
    "# gcommand_fbank_xvector\n",
    "\n",
    "args = easydict.EasyDict(dict(dataset=\"voxc1_fbank_xvector\",\n",
    "                              input_frames=100, splice_frames=[50, 100], stride_frames=1, input_format='fbank',\n",
    "                              cuda=True,\n",
    "                              lrs=[0.1, 0.01], lr_schedule=[20], seed=1337,\n",
    "                              no_eer=False,\n",
    "                              batch_size=128,\n",
    "                              arch=\"tdnn_conv\", loss=\"softmax\",\n",
    "                              n_epochs=50\n",
    "                             ))\n",
    "config = set_train_config(args)"
   ]
  },
  {
   "cell_type": "markdown",
   "metadata": {},
   "source": [
    "### Dataset"
   ]
  },
  {
   "cell_type": "code",
   "execution_count": 4,
   "metadata": {},
   "outputs": [],
   "source": [
    "import torch.utils.data as data\n",
    "\n",
    "class embedDataset(data.Dataset):\n",
    "    def __init__(self, embeds, labels):\n",
    "        super().__init__()\n",
    "        self.embeds = embeds\n",
    "        self.labels = labels\n",
    "        \n",
    "    def __getitem__(self, index):\n",
    "        \n",
    "        return self.embeds[index], self.labels[index]\n",
    "    \n",
    "    def __len__(self):\n",
    "        \n",
    "        return self.embeds.shape[0]"
   ]
  },
  {
   "cell_type": "code",
   "execution_count": 5,
   "metadata": {},
   "outputs": [],
   "source": [
    "def embedToDataset(embeds, key_df):\n",
    "    labels = key_df.label.tolist()\n",
    "    dataset = embedDataset(embeds, labels)\n",
    "    \n",
    "    return dataset, embeds.shape[1], len(key_df.label.unique())"
   ]
  },
  {
   "cell_type": "code",
   "execution_count": 6,
   "metadata": {},
   "outputs": [],
   "source": [
    "trial = pd.read_pickle(\"../dataset/dataframes/voxc1/voxc_trial.pkl\")"
   ]
  },
  {
   "cell_type": "code",
   "execution_count": 7,
   "metadata": {},
   "outputs": [],
   "source": [
    "si_keys = pickle.load(open(\"../embeddings/voxc12/xvectors/xvectors_tdnn7b/train_feat/key.pkl\", \"rb\"))\n",
    "si_embeds = np.load(\"../embeddings/voxc12/xvectors/xvectors_tdnn7b/train_feat/feat.npy\")\n",
    "\n",
    "sv_keys = pickle.load(open(\"../embeddings/voxc12/xvectors/xvectors_tdnn7b/test_feat/key.pkl\", \"rb\"))\n",
    "sv_embeds = np.load(\"../embeddings/voxc12/xvectors/xvectors_tdnn7b/test_feat/feat.npy\")"
   ]
  },
  {
   "cell_type": "code",
   "execution_count": 8,
   "metadata": {},
   "outputs": [],
   "source": [
    "# voxc1_keys = embed_keys[embed_keys.origin == 'voxc1']"
   ]
  },
  {
   "cell_type": "code",
   "execution_count": 9,
   "metadata": {},
   "outputs": [],
   "source": [
    "def key2df(keys):\n",
    "    key_df = pd.DataFrame(keys, columns=['key'])\n",
    "    key_df['spk'] = key_df.key.apply(lambda x: x.split(\"-\")[0])\n",
    "    key_df['label'] = key_df.groupby('spk').ngroup()\n",
    "    key_df['origin'] = key_df.spk.apply(lambda x: 'voxc2' if x.startswith('id') else 'voxc1')\n",
    "    \n",
    "    return key_df"
   ]
  },
  {
   "cell_type": "code",
   "execution_count": 10,
   "metadata": {},
   "outputs": [],
   "source": [
    "si_key_df = key2df(si_keys)\n",
    "sv_key_df = key2df(sv_keys)"
   ]
  },
  {
   "cell_type": "code",
   "execution_count": 11,
   "metadata": {},
   "outputs": [],
   "source": [
    "si_dataset, embed_dim, n_labels = embedToDataset(si_embeds, si_key_df)\n",
    "sv_dataset, _, _ = embedToDataset(sv_embeds, sv_key_df)"
   ]
  },
  {
   "cell_type": "markdown",
   "metadata": {},
   "source": [
    "### Batch Sampler"
   ]
  },
  {
   "cell_type": "code",
   "execution_count": 12,
   "metadata": {},
   "outputs": [],
   "source": [
    "import math\n",
    "import random\n",
    "import itertools\n",
    "\n",
    "def index_dataset(dataset):\n",
    "    return {c : [example_idx for example_idx, (_, class_label_ind) in \\\n",
    "                 enumerate(zip(dataset.embeds, dataset.labels)) if class_label_ind == c] for c in set(dataset.labels)}\n",
    "\n",
    "def sample_from_class(images_by_class, class_label_ind):\n",
    "    return images_by_class[class_label_ind][random.randrange(len(images_by_class[class_label_ind]))]\n",
    "\n",
    "def simple(batch_size, dataset, prob_other = 0.5):\n",
    "    '''lazy sampling, not like in lifted_struct. they add to the pool all postiive combinations, then compute the average number of positive pairs per image, then sample for every image the same number of negative pairs'''\n",
    "    images_by_class = index_dataset(dataset)\n",
    "    for batch_idx in range(int(math.ceil(len(dataset) * 1.0 / batch_size))):\n",
    "        example_indices = []\n",
    "        for i in range(0, batch_size, 2):\n",
    "            perm = random.sample(images_by_class.keys(), 2)\n",
    "            example_indices += [sample_from_class(images_by_class, perm[0]), sample_from_class(images_by_class, perm[0 if i == 0 or random.random() > prob_other else 1])]\n",
    "        yield example_indices[:batch_size]\n",
    "\n",
    "def triplet(batch_size, dataset, class2img=None):\n",
    "    if class2img is not None:\n",
    "        images_by_class = class2img\n",
    "    else:\n",
    "        images_by_class = index_dataset(dataset)\n",
    "    for batch_idx in range(int(math.ceil(len(dataset) * 1.0 / batch_size))):\n",
    "        example_indices = []\n",
    "        for i in range(0, batch_size, 3):\n",
    "            perm = random.sample(images_by_class.keys(), 2)\n",
    "            example_indices += [sample_from_class(images_by_class, perm[0]), sample_from_class(images_by_class, perm[0]), sample_from_class(images_by_class, perm[1])]\n",
    "        yield example_indices[:batch_size]\n",
    "\n",
    "def npairs(batch_size, dataset, K = 4):\n",
    "    images_by_class = index_dataset(dataset)\n",
    "    for batch_idx in range(int(math.ceil(len(dataset) * 1.0 / batch_size))):\n",
    "        example_indices = [sample_from_class(images_by_class, class_label_ind) for k in range(int(math.ceil(batch_size * 1.0 / K))) for class_label_ind in [random.choice(images_by_class.keys())] for i in range(K)]\n",
    "        yield example_indices[:batch_size]"
   ]
  },
  {
   "cell_type": "code",
   "execution_count": 13,
   "metadata": {},
   "outputs": [],
   "source": [
    "# use values to exclude unnecessary index\n",
    "si_key_df['num_id'] = range(len(si_key_df))\n",
    "si_class2idx = si_key_df.groupby('label').apply(lambda x: x.num_id.values).to_dict()"
   ]
  },
  {
   "cell_type": "markdown",
   "metadata": {},
   "source": [
    "### Dataloader"
   ]
  },
  {
   "cell_type": "code",
   "execution_count": 14,
   "metadata": {},
   "outputs": [],
   "source": [
    "adapt_sampler = lambda batch, dataset, sampler, **kwargs: \\\n",
    "type('', (torch.utils.data.sampler.Sampler,), \n",
    "     dict(__len__ = dataset.__len__, __iter__ = \\\n",
    "          lambda _: itertools.chain.from_iterable(sampler(batch, dataset, **kwargs))))(dataset)"
   ]
  },
  {
   "cell_type": "code",
   "execution_count": 15,
   "metadata": {},
   "outputs": [],
   "source": [
    "import torch\n",
    "from torch.utils.data.dataloader import DataLoader\n",
    "\n",
    "# si_loader = DataLoader(si_dataset, batch_size=128, num_workers=4, shuffle=True)\n",
    "n_pairs_per_batch = 23\n",
    "batch_size = n_pairs_per_batch * 3\n",
    "\n",
    "si_loader = torch.utils.data.DataLoader(si_dataset, \n",
    "                                       sampler = adapt_sampler(batch_size, si_dataset, triplet, class2img=si_class2idx), \n",
    "                                       num_workers = 8, batch_size = batch_size, \n",
    "                                       drop_last = True, pin_memory = True)\n",
    "sv_loader = DataLoader(sv_dataset, batch_size=128, num_workers=4, shuffle=False)"
   ]
  },
  {
   "cell_type": "markdown",
   "metadata": {},
   "source": [
    "### Model Define"
   ]
  },
  {
   "cell_type": "code",
   "execution_count": 16,
   "metadata": {},
   "outputs": [],
   "source": [
    "import torch.nn as nn\n",
    "\n",
    "class dda_model(nn.Module):\n",
    "    def __init__(self, in_dims, n_labels):\n",
    "        super().__init__()\n",
    "        \n",
    "        self.input_layer = nn.Sequential(\n",
    "            nn.Linear(in_dims, 2*in_dims),\n",
    "            nn.PReLU()\n",
    "        )\n",
    "        \n",
    "        self.hidden_layer = nn.Sequential(\n",
    "            nn.Linear(2*in_dims, 2*in_dims),\n",
    "            nn.PReLU()\n",
    "        )    \n",
    "        self.hidden_batch = nn.BatchNorm1d(2*in_dims)\n",
    "    \n",
    "#         self.embedding_layer = nn.Linear(2*in_dims, n_labels)\n",
    "        \n",
    "    def embed(self, x):\n",
    "        x = self.input_layer(x)\n",
    "        x = self.hidden_layer(x)\n",
    "        x = self.hidden_batch(x)\n",
    "    \n",
    "        return x\n",
    "    \n",
    "    def forward(self, x):           \n",
    "        x = self.embed(x)\n",
    "        \n",
    "        return x"
   ]
  },
  {
   "cell_type": "markdown",
   "metadata": {},
   "source": [
    "### Model Train"
   ]
  },
  {
   "cell_type": "code",
   "execution_count": 17,
   "metadata": {},
   "outputs": [],
   "source": [
    "import torch.nn.functional as F\n",
    "\n",
    "def embeds_utterance(config, val_dataloader, model):\n",
    "#     val_iter = iter(val_dataloader)\n",
    "    embeddings = []\n",
    "    labels = []\n",
    "    model.eval()\n",
    "\n",
    "    with torch.no_grad():\n",
    "        for batch in val_dataloader:\n",
    "            X, y = batch\n",
    "            if not config['no_cuda']:\n",
    "                X = X.cuda()\n",
    "                \n",
    "            model_output = model.embed(X).cpu().detach()\n",
    "            embeddings.append(model_output)\n",
    "            labels.append(y.numpy())\n",
    "        embeddings = torch.cat(embeddings)\n",
    "        labels = np.hstack(labels)\n",
    "    return embeddings, labels \n",
    "\n",
    "def sv_test(config, sv_loader, model, trial):\n",
    "        embeddings, _ = embeds_utterance(config, sv_loader, model)\n",
    "        sim_matrix = F.cosine_similarity(embeddings.unsqueeze(1), embeddings.unsqueeze(0), dim=2)\n",
    "        cord = [trial.enrolment_id.tolist(), trial.test_id.tolist()]\n",
    "        score_vector = sim_matrix[cord].numpy()\n",
    "        label_vector = np.array(trial.label)\n",
    "        fpr, tpr, thres = roc_curve(\n",
    "                label_vector, score_vector, pos_label=1)\n",
    "        eer = fpr[np.nanargmin(np.abs(fpr - (1 - tpr)))]\n",
    "\n",
    "        return eer, label_vector, score_vector\n",
    "    \n",
    "def sv_euc_test(config, sv_loader, model, trial):\n",
    "        embeddings, _ = embeds_utterance(config, sv_loader, model)\n",
    "#         embeddings /= embeddings.norm(dim=1,keepdim=True)\n",
    "        a = embeddings.unsqueeze(1)\n",
    "        b = embeddings.unsqueeze(0)\n",
    "        dist = a - b\n",
    "#         sim_matrix = -dist.norm(dim=2)\n",
    "        sim_matrix = -dist.pow(2).sum(2).sqrt()\n",
    "        cord = [trial.enrolment_id.tolist(), trial.test_id.tolist()]\n",
    "        score_vector = sim_matrix[cord].numpy()\n",
    "        label_vector = np.array(trial.label)\n",
    "        fpr, tpr, thres = roc_curve(\n",
    "                label_vector, score_vector, pos_label=1)\n",
    "        eer = fpr[np.nanargmin(np.abs(fpr - (1 - tpr)))]\n",
    "\n",
    "        return eer, label_vector, score_vector"
   ]
  },
  {
   "cell_type": "code",
   "execution_count": 18,
   "metadata": {},
   "outputs": [],
   "source": [
    "def hard_mining(anchor, pos_egs, neg_egs, margin=1.0):\n",
    "    pos_dist = (anchor - pos_egs).pow(2).sum(1)\n",
    "    pos_dist = torch.clamp(pos_dist, min=0)\n",
    "#     pos_dist = pos_dist.sqrt()\n",
    "    \n",
    "    neg_dist = (anchor - neg_egs).pow(2).sum(1)\n",
    "    neg_dist = torch.clamp(neg_dist, min=0)\n",
    "#     neg_dist = neg_dist.sqrt()\n",
    "    \n",
    "    \n",
    "    hard_pos_dist = pos_dist.max()\n",
    "    hard_neg_dist = neg_dist.min()\n",
    "    \n",
    "#     print(f\"hard_pos:{hard_pos_dist}, hard_neg:{hard_neg_dist}\")\n",
    "    \n",
    "    triplet_loss = torch.clamp(hard_pos_dist - hard_neg_dist + margin, min=0)\n",
    "    triplet_loss = torch.sum(triplet_loss)\n",
    "    \n",
    "    return triplet_loss"
   ]
  },
  {
   "cell_type": "code",
   "execution_count": 19,
   "metadata": {},
   "outputs": [],
   "source": [
    "import torch\n",
    "\n",
    "def triplet_train(model, loader, criterion , margin):\n",
    "    model.train()\n",
    "    loss_sum = 0\n",
    "    n_corrects = 0\n",
    "    total = 0\n",
    "    for batch_idx, (X, y) in enumerate(loader):\n",
    "        if not config['no_cuda']:\n",
    "            X = X.cuda()\n",
    "            y = y.cuda()\n",
    "\n",
    "        optimizer.zero_grad()\n",
    "\n",
    "        embeds = model(X)\n",
    "#         embeds = embeds / embeds.norm(dim=1,keepdim=True)\n",
    "        anchor = embeds[0:batch_size:3]\n",
    "        pos_egs = embeds[1:batch_size:3]\n",
    "        neg_egs = embeds[2:batch_size:3]\n",
    "        loss = criterion(anchor, pos_egs, neg_egs, margin=margin)\n",
    "        loss.backward()\n",
    "        optimizer.step()\n",
    "                        \n",
    "        loss_sum += loss.item()\n",
    "        total += y.size(0)\n",
    "        if (batch_idx+1) % 1000 == 0:\n",
    "            print(\"Batch {}/{}\\t Loss {:.6f}\" \\\n",
    "                  .format(batch_idx+1, len(loader), loss_sum / total))\n",
    "    return loss_sum / total"
   ]
  },
  {
   "cell_type": "code",
   "execution_count": 20,
   "metadata": {},
   "outputs": [],
   "source": [
    "model = dda_model(embed_dim, n_labels) "
   ]
  },
  {
   "cell_type": "code",
   "execution_count": 21,
   "metadata": {},
   "outputs": [],
   "source": [
    "if not config['no_cuda']:\n",
    "    model = model.cuda()"
   ]
  },
  {
   "cell_type": "code",
   "execution_count": 22,
   "metadata": {},
   "outputs": [],
   "source": [
    "from sv_system.train.train_utils import set_seed, find_optimizer\n",
    "from torch.optim.lr_scheduler import ReduceLROnPlateau, MultiStepLR\n",
    "\n",
    "config['lrs'] = [0.1, 0.01]\n",
    "config\n",
    "_, optimizer = find_optimizer(config, model)\n",
    "semi_hard_mining = nn.TripletMarginLoss(margin=1.0, p=2, size_average=False)\n",
    "plateau_scheduler = ReduceLROnPlateau(optimizer, 'min', factor=0.1, patience=5)\n",
    "step_scheduler = MultiStepLR(optimizer, [30], 0.1)"
   ]
  },
  {
   "cell_type": "code",
   "execution_count": null,
   "metadata": {
    "scrolled": false
   },
   "outputs": [
    {
     "name": "stdout",
     "output_type": "stream",
     "text": [
      "------------------------------\n",
      "curr_lr: 0.1\n",
      "Batch 1000/18512\t Loss 0.050067\n",
      "Batch 2000/18512\t Loss 0.040712\n",
      "Batch 3000/18512\t Loss 0.037593\n",
      "Batch 4000/18512\t Loss 0.035952\n",
      "Batch 5000/18512\t Loss 0.035083\n",
      "Batch 6000/18512\t Loss 0.035693\n",
      "Batch 7000/18512\t Loss 0.036593\n",
      "Batch 8000/18512\t Loss 0.036827\n",
      "Batch 9000/18512\t Loss 0.036618\n",
      "Batch 10000/18512\t Loss 0.036537\n",
      "Batch 11000/18512\t Loss 0.036291\n",
      "Batch 12000/18512\t Loss 0.036363\n",
      "Batch 13000/18512\t Loss 0.036110\n",
      "Batch 14000/18512\t Loss 0.036122\n",
      "Batch 15000/18512\t Loss 0.036119\n",
      "Batch 16000/18512\t Loss 0.035961\n",
      "Batch 17000/18512\t Loss 0.035918\n",
      "Batch 18000/18512\t Loss 0.035806\n",
      "epoch #0, train loss: 0.03572362130030346\n",
      "epoch #0, sv eer: 0.1235225215631988\n",
      "------------------------------\n",
      "curr_lr: 0.1\n",
      "Batch 1000/18512\t Loss 0.034303\n",
      "Batch 2000/18512\t Loss 0.035074\n",
      "Batch 3000/18512\t Loss 0.035319\n",
      "Batch 4000/18512\t Loss 0.035163\n",
      "Batch 5000/18512\t Loss 0.035120\n",
      "Batch 6000/18512\t Loss 0.035012\n",
      "Batch 7000/18512\t Loss 0.034760\n",
      "Batch 8000/18512\t Loss 0.034641\n",
      "Batch 9000/18512\t Loss 0.034432\n",
      "Batch 10000/18512\t Loss 0.034220\n",
      "Batch 11000/18512\t Loss 0.034382\n",
      "Batch 12000/18512\t Loss 0.034522\n",
      "Batch 13000/18512\t Loss 0.034564\n",
      "Batch 14000/18512\t Loss 0.034415\n",
      "Batch 15000/18512\t Loss 0.034357\n",
      "Batch 16000/18512\t Loss 0.034489\n",
      "Batch 17000/18512\t Loss 0.034411\n",
      "Batch 18000/18512\t Loss 0.034553\n",
      "epoch #1, train loss: 0.03455005787038157\n",
      "epoch #1, sv eer: 0.13598125865190075\n",
      "------------------------------\n",
      "curr_lr: 0.1\n",
      "Batch 1000/18512\t Loss 0.035603\n",
      "Batch 2000/18512\t Loss 0.035086\n",
      "Batch 3000/18512\t Loss 0.034619\n",
      "Batch 4000/18512\t Loss 0.033989\n",
      "Batch 5000/18512\t Loss 0.033641\n",
      "Batch 6000/18512\t Loss 0.033636\n",
      "Batch 7000/18512\t Loss 0.033802\n",
      "Batch 8000/18512\t Loss 0.033883\n",
      "Batch 9000/18512\t Loss 0.033937\n",
      "Batch 10000/18512\t Loss 0.034188\n",
      "Batch 11000/18512\t Loss 0.034139\n",
      "Batch 12000/18512\t Loss 0.034100\n",
      "Batch 13000/18512\t Loss 0.034069\n",
      "Batch 14000/18512\t Loss 0.034191\n",
      "Batch 15000/18512\t Loss 0.034212\n",
      "Batch 16000/18512\t Loss 0.034256\n",
      "Batch 17000/18512\t Loss 0.034195\n",
      "Batch 18000/18512\t Loss 0.034152\n",
      "epoch #2, train loss: 0.03416637132449811\n",
      "epoch #2, sv eer: 0.114418059844532\n",
      "------------------------------\n",
      "curr_lr: 0.1\n",
      "Batch 1000/18512\t Loss 0.034118\n",
      "Batch 2000/18512\t Loss 0.034443\n",
      "Batch 3000/18512\t Loss 0.034781\n",
      "Batch 4000/18512\t Loss 0.034476\n",
      "Batch 5000/18512\t Loss 0.034533\n",
      "Batch 6000/18512\t Loss 0.034577\n",
      "Batch 7000/18512\t Loss 0.034806\n",
      "Batch 8000/18512\t Loss 0.034866\n",
      "Batch 9000/18512\t Loss 0.034830\n",
      "Batch 10000/18512\t Loss 0.034727\n",
      "Batch 11000/18512\t Loss 0.034824\n",
      "Batch 12000/18512\t Loss 0.034763\n",
      "Batch 13000/18512\t Loss 0.034779\n",
      "Batch 14000/18512\t Loss 0.034791\n",
      "Batch 15000/18512\t Loss 0.034715\n",
      "Batch 16000/18512\t Loss 0.034636\n",
      "Batch 17000/18512\t Loss 0.034646\n",
      "Batch 18000/18512\t Loss 0.034602\n",
      "epoch #3, train loss: 0.034619867165\n",
      "epoch #3, sv eer: 0.12474709828559259\n",
      "------------------------------\n",
      "curr_lr: 0.1\n",
      "Batch 1000/18512\t Loss 0.034138\n",
      "Batch 2000/18512\t Loss 0.035048\n",
      "Batch 3000/18512\t Loss 0.034214\n",
      "Batch 4000/18512\t Loss 0.034231\n",
      "Batch 5000/18512\t Loss 0.034214\n",
      "Batch 6000/18512\t Loss 0.034083\n",
      "Batch 7000/18512\t Loss 0.033993\n",
      "Batch 8000/18512\t Loss 0.034052\n",
      "Batch 9000/18512\t Loss 0.033980\n",
      "Batch 10000/18512\t Loss 0.033930\n",
      "Batch 11000/18512\t Loss 0.033921\n",
      "Batch 12000/18512\t Loss 0.034041\n",
      "Batch 13000/18512\t Loss 0.033951\n",
      "Batch 14000/18512\t Loss 0.033994\n",
      "Batch 15000/18512\t Loss 0.034005\n",
      "Batch 16000/18512\t Loss 0.033947\n",
      "Batch 17000/18512\t Loss 0.033943\n",
      "Batch 18000/18512\t Loss 0.033932\n",
      "epoch #4, train loss: 0.03395498496310591\n",
      "epoch #4, sv eer: 0.13688638057714833\n",
      "------------------------------\n",
      "curr_lr: 0.1\n",
      "Batch 1000/18512\t Loss 0.034047\n",
      "Batch 2000/18512\t Loss 0.034138\n",
      "Batch 3000/18512\t Loss 0.033932\n",
      "Batch 4000/18512\t Loss 0.034003\n",
      "Batch 5000/18512\t Loss 0.033941\n",
      "Batch 6000/18512\t Loss 0.033966\n",
      "Batch 7000/18512\t Loss 0.034137\n",
      "Batch 8000/18512\t Loss 0.034187\n",
      "Batch 9000/18512\t Loss 0.034118\n",
      "Batch 10000/18512\t Loss 0.034050\n",
      "Batch 11000/18512\t Loss 0.033937\n",
      "Batch 12000/18512\t Loss 0.033877\n",
      "Batch 13000/18512\t Loss 0.033802\n",
      "Batch 14000/18512\t Loss 0.033758\n",
      "Batch 15000/18512\t Loss 0.033728\n",
      "Batch 16000/18512\t Loss 0.033798\n",
      "Batch 17000/18512\t Loss 0.033762\n",
      "Batch 18000/18512\t Loss 0.033821\n",
      "epoch #5, train loss: 0.033858975268562096\n",
      "epoch #5, sv eer: 0.1548823341497178\n",
      "------------------------------\n",
      "curr_lr: 0.1\n",
      "Batch 1000/18512\t Loss 0.033040\n",
      "Batch 2000/18512\t Loss 0.034074\n",
      "Batch 3000/18512\t Loss 0.034105\n",
      "Batch 4000/18512\t Loss 0.034049\n",
      "Batch 5000/18512\t Loss 0.034062\n",
      "Batch 6000/18512\t Loss 0.034005\n",
      "Batch 7000/18512\t Loss 0.033868\n",
      "Batch 8000/18512\t Loss 0.033765\n",
      "Batch 9000/18512\t Loss 0.033718\n",
      "Batch 10000/18512\t Loss 0.033656\n",
      "Batch 11000/18512\t Loss 0.033514\n",
      "Batch 12000/18512\t Loss 0.033502\n",
      "Batch 13000/18512\t Loss 0.033491\n",
      "Batch 14000/18512\t Loss 0.033582\n",
      "Batch 15000/18512\t Loss 0.033518\n",
      "Batch 16000/18512\t Loss 0.033471\n",
      "Batch 17000/18512\t Loss 0.033464\n",
      "Batch 18000/18512\t Loss 0.033483\n",
      "epoch #6, train loss: 0.03344373280899893\n",
      "epoch #6, sv eer: 0.14098605047385795\n",
      "------------------------------\n",
      "curr_lr: 0.1\n",
      "Batch 1000/18512\t Loss 0.034910\n",
      "Batch 2000/18512\t Loss 0.033588\n",
      "Batch 3000/18512\t Loss 0.033172\n",
      "Batch 4000/18512\t Loss 0.033049\n",
      "Batch 5000/18512\t Loss 0.033031\n",
      "Batch 6000/18512\t Loss 0.033213\n",
      "Batch 7000/18512\t Loss 0.033221\n",
      "Batch 8000/18512\t Loss 0.033249\n",
      "Batch 9000/18512\t Loss 0.033137\n",
      "Batch 10000/18512\t Loss 0.033151\n",
      "Batch 11000/18512\t Loss 0.033077\n",
      "Batch 12000/18512\t Loss 0.032982\n",
      "Batch 13000/18512\t Loss 0.033065\n",
      "Batch 14000/18512\t Loss 0.033168\n",
      "Batch 15000/18512\t Loss 0.033194\n",
      "Batch 16000/18512\t Loss 0.033174\n",
      "Batch 17000/18512\t Loss 0.033144\n",
      "Batch 18000/18512\t Loss 0.033182\n",
      "epoch #7, train loss: 0.0331593022712752\n",
      "epoch #7, sv eer: 0.13017782983707804\n",
      "------------------------------\n",
      "curr_lr: 0.1\n",
      "Batch 1000/18512\t Loss 0.033068\n",
      "Batch 2000/18512\t Loss 0.033430\n",
      "Batch 3000/18512\t Loss 0.032974\n",
      "Batch 4000/18512\t Loss 0.032891\n",
      "Batch 5000/18512\t Loss 0.032632\n",
      "Batch 6000/18512\t Loss 0.032745\n",
      "Batch 7000/18512\t Loss 0.032918\n",
      "Batch 8000/18512\t Loss 0.033048\n",
      "Batch 9000/18512\t Loss 0.033179\n",
      "Batch 10000/18512\t Loss 0.033061\n",
      "Batch 11000/18512\t Loss 0.033110\n",
      "Batch 12000/18512\t Loss 0.033100\n",
      "Batch 13000/18512\t Loss 0.033156\n",
      "Batch 14000/18512\t Loss 0.033213\n",
      "Batch 15000/18512\t Loss 0.033141\n",
      "Batch 16000/18512\t Loss 0.033219\n",
      "Batch 17000/18512\t Loss 0.033218\n",
      "Batch 18000/18512\t Loss 0.033193\n",
      "epoch #8, train loss: 0.03314214936319176\n",
      "epoch #8, sv eer: 0.12708976679799808\n",
      "------------------------------\n",
      "curr_lr: 0.1\n",
      "Batch 1000/18512\t Loss 0.032029\n",
      "Batch 2000/18512\t Loss 0.032390\n",
      "Batch 3000/18512\t Loss 0.032712\n",
      "Batch 4000/18512\t Loss 0.032882\n",
      "Batch 5000/18512\t Loss 0.032678\n",
      "Batch 6000/18512\t Loss 0.032958\n",
      "Batch 7000/18512\t Loss 0.032771\n",
      "Batch 8000/18512\t Loss 0.032852\n",
      "Batch 9000/18512\t Loss 0.032842\n",
      "Batch 10000/18512\t Loss 0.032832\n",
      "Batch 11000/18512\t Loss 0.032814\n",
      "Batch 12000/18512\t Loss 0.032759\n",
      "Batch 13000/18512\t Loss 0.032801\n",
      "Batch 14000/18512\t Loss 0.032828\n",
      "Batch 15000/18512\t Loss 0.032794\n",
      "Batch 16000/18512\t Loss 0.032870\n",
      "Batch 17000/18512\t Loss 0.032806\n",
      "Batch 18000/18512\t Loss 0.032858\n",
      "epoch #9, train loss: 0.03288086329059854\n",
      "epoch #9, sv eer: 0.13076349696517942\n",
      "------------------------------\n",
      "curr_lr: 0.1\n",
      "Batch 1000/18512\t Loss 0.032095\n",
      "Batch 2000/18512\t Loss 0.032434\n",
      "Batch 3000/18512\t Loss 0.032840\n",
      "Batch 4000/18512\t Loss 0.032755\n",
      "Batch 5000/18512\t Loss 0.032875\n",
      "Batch 6000/18512\t Loss 0.032758\n",
      "Batch 7000/18512\t Loss 0.032756\n",
      "Batch 8000/18512\t Loss 0.032660\n",
      "Batch 9000/18512\t Loss 0.032710\n",
      "Batch 10000/18512\t Loss 0.032798\n",
      "Batch 11000/18512\t Loss 0.032580\n",
      "Batch 12000/18512\t Loss 0.032462\n",
      "Batch 13000/18512\t Loss 0.032396\n",
      "Batch 14000/18512\t Loss 0.032455\n",
      "Batch 15000/18512\t Loss 0.032502\n",
      "Batch 16000/18512\t Loss 0.032497\n",
      "Batch 17000/18512\t Loss 0.032488\n",
      "Batch 18000/18512\t Loss 0.032525\n",
      "epoch #10, train loss: 0.03250684124133775\n",
      "epoch #10, sv eer: 0.1324672558832925\n",
      "------------------------------\n",
      "curr_lr: 0.1\n",
      "Batch 1000/18512\t Loss 0.032779\n",
      "Batch 2000/18512\t Loss 0.033216\n",
      "Batch 3000/18512\t Loss 0.032699\n",
      "Batch 4000/18512\t Loss 0.032497\n",
      "Batch 5000/18512\t Loss 0.032420\n",
      "Batch 6000/18512\t Loss 0.032475\n",
      "Batch 7000/18512\t Loss 0.032436\n",
      "Batch 8000/18512\t Loss 0.032460\n",
      "Batch 9000/18512\t Loss 0.032448\n",
      "Batch 10000/18512\t Loss 0.032414\n",
      "Batch 11000/18512\t Loss 0.032410\n",
      "Batch 12000/18512\t Loss 0.032478\n"
     ]
    },
    {
     "name": "stdout",
     "output_type": "stream",
     "text": [
      "Batch 13000/18512\t Loss 0.032624\n",
      "Batch 14000/18512\t Loss 0.032639\n",
      "Batch 15000/18512\t Loss 0.032679\n",
      "Batch 16000/18512\t Loss 0.032693\n",
      "Batch 17000/18512\t Loss 0.032687\n",
      "Batch 18000/18512\t Loss 0.032610\n",
      "epoch #11, train loss: 0.03258104128504993\n",
      "epoch #11, sv eer: 0.12314982429986157\n",
      "------------------------------\n",
      "curr_lr: 0.1\n",
      "Batch 1000/18512\t Loss 0.032547\n",
      "Batch 2000/18512\t Loss 0.032308\n",
      "Batch 3000/18512\t Loss 0.032323\n",
      "Batch 4000/18512\t Loss 0.032313\n",
      "Batch 5000/18512\t Loss 0.032591\n",
      "Batch 6000/18512\t Loss 0.032594\n",
      "Batch 7000/18512\t Loss 0.032886\n",
      "Batch 8000/18512\t Loss 0.032942\n",
      "Batch 9000/18512\t Loss 0.033061\n",
      "Batch 10000/18512\t Loss 0.033004\n",
      "Batch 11000/18512\t Loss 0.032925\n",
      "Batch 12000/18512\t Loss 0.032930\n",
      "Batch 13000/18512\t Loss 0.032983\n",
      "Batch 14000/18512\t Loss 0.032824\n",
      "Batch 15000/18512\t Loss 0.032870\n",
      "Batch 16000/18512\t Loss 0.032852\n",
      "Batch 17000/18512\t Loss 0.032873\n",
      "Batch 18000/18512\t Loss 0.032827\n",
      "epoch #12, train loss: 0.03279097461724666\n",
      "epoch #12, sv eer: 0.1299648599723139\n",
      "------------------------------\n",
      "curr_lr: 0.1\n",
      "Batch 1000/18512\t Loss 0.032409\n",
      "Batch 2000/18512\t Loss 0.032548\n",
      "Batch 3000/18512\t Loss 0.032451\n",
      "Batch 4000/18512\t Loss 0.032605\n",
      "Batch 5000/18512\t Loss 0.032609\n",
      "Batch 6000/18512\t Loss 0.032368\n",
      "Batch 7000/18512\t Loss 0.032368\n",
      "Batch 8000/18512\t Loss 0.032276\n",
      "Batch 9000/18512\t Loss 0.032394\n",
      "Batch 10000/18512\t Loss 0.032322\n",
      "Batch 11000/18512\t Loss 0.032278\n",
      "Batch 12000/18512\t Loss 0.032447\n",
      "Batch 13000/18512\t Loss 0.032468\n",
      "Batch 14000/18512\t Loss 0.032390\n",
      "Batch 15000/18512\t Loss 0.032415\n",
      "Batch 16000/18512\t Loss 0.032409\n",
      "Batch 17000/18512\t Loss 0.032454\n",
      "Batch 18000/18512\t Loss 0.032543\n",
      "epoch #13, train loss: 0.03259428334491362\n",
      "epoch #13, sv eer: 0.14481950803961238\n",
      "------------------------------\n",
      "curr_lr: 0.1\n",
      "Batch 1000/18512\t Loss 0.031737\n",
      "Batch 2000/18512\t Loss 0.032904\n",
      "Batch 3000/18512\t Loss 0.032642\n",
      "Batch 4000/18512\t Loss 0.032490\n",
      "Batch 5000/18512\t Loss 0.032390\n",
      "Batch 6000/18512\t Loss 0.032507\n",
      "Batch 7000/18512\t Loss 0.032580\n",
      "Batch 8000/18512\t Loss 0.032596\n",
      "Batch 9000/18512\t Loss 0.032678\n",
      "Batch 10000/18512\t Loss 0.032770\n",
      "Batch 11000/18512\t Loss 0.032742\n",
      "Batch 12000/18512\t Loss 0.032691\n",
      "Batch 13000/18512\t Loss 0.032601\n",
      "Batch 14000/18512\t Loss 0.032656\n",
      "Batch 15000/18512\t Loss 0.032684\n",
      "Batch 16000/18512\t Loss 0.032605\n",
      "Batch 17000/18512\t Loss 0.032570\n",
      "Batch 18000/18512\t Loss 0.032573\n",
      "epoch #14, train loss: 0.03256729720974257\n"
     ]
    }
   ],
   "source": [
    "from sv_system.train.si_train import val\n",
    "from sklearn.metrics import roc_curve\n",
    "from tensorboardX import SummaryWriter\n",
    "\n",
    "writer = SummaryWriter(\"logs/xvector_eucl_hard_m0.4.tf.log\")\n",
    "\n",
    "for epoch_idx in range(0, config['n_epochs']):\n",
    "    print(\"-\"*30)\n",
    "    curr_lr = optimizer.state_dict()['param_groups'][0]['lr']\n",
    "    print(\"curr_lr: {}\".format(curr_lr))\n",
    "\n",
    "#     step_scheduler.step()    \n",
    "    \n",
    "#     train code\n",
    "    train_loss = triplet_train(model, si_loader, hard_mining, margin=0.4)\n",
    "    print(\"epoch #{}, train loss: {}\".format(epoch_idx, train_loss))\n",
    "    writer.add_scalar(\"train/loss\", train_loss, epoch_idx+1)\n",
    "\n",
    "#     evaluate best_metric\n",
    "    if not config['no_eer']:\n",
    "        # eer validation code\n",
    "        eer, label, score = sv_euc_test(config, sv_loader, model, trial)\n",
    "        print(\"epoch #{}, sv eer: {}\".format(epoch_idx, eer))\n",
    "        writer.add_scalar(\"sv_test/eer\", eer, epoch_idx+1)\n",
    "    \n",
    "    plateau_scheduler.step(train_loss)"
   ]
  },
  {
   "cell_type": "code",
   "execution_count": null,
   "metadata": {},
   "outputs": [],
   "source": [
    "torch.save(dda_net.state_dict(), open(\"temp_dda_net.pt\", \"wb\"))"
   ]
  },
  {
   "cell_type": "markdown",
   "metadata": {},
   "source": [
    "### Original EER"
   ]
  },
  {
   "cell_type": "code",
   "execution_count": null,
   "metadata": {},
   "outputs": [],
   "source": [
    "embeddings = torch.from_numpy(sv_embeds)\n",
    "\n",
    "sim_matrix = F.cosine_similarity(embeddings.unsqueeze(1), embeddings.unsqueeze(0), dim=2)\n",
    "# sim_matrix = -(embeddings.unsqueeze(1)-embeddings.unsqueeze(0)).pow(2).sum(2)\n",
    "cord = [trial.enrolment_id.tolist(), trial.test_id.tolist()]\n",
    "score_vector = sim_matrix[cord].numpy()\n",
    "label_vector = np.array(trial.label)\n",
    "fpr, tpr, thres = roc_curve(\n",
    "        label_vector, score_vector, pos_label=1)\n",
    "eer = fpr[np.nanargmin(np.abs(fpr - (1 - tpr)))]\n",
    "\n",
    "print(f\"Original EER: {eer}\")"
   ]
  },
  {
   "cell_type": "code",
   "execution_count": null,
   "metadata": {},
   "outputs": [],
   "source": [
    "label_vector"
   ]
  },
  {
   "cell_type": "code",
   "execution_count": null,
   "metadata": {},
   "outputs": [],
   "source": [
    "-score_vector[label_vector].mean()"
   ]
  },
  {
   "cell_type": "code",
   "execution_count": null,
   "metadata": {},
   "outputs": [],
   "source": [
    "-score_vector[1-label_vector].mean()"
   ]
  },
  {
   "cell_type": "code",
   "execution_count": null,
   "metadata": {},
   "outputs": [],
   "source": [
    "score_vector"
   ]
  },
  {
   "cell_type": "markdown",
   "metadata": {},
   "source": [
    "### Extracting new embeddings"
   ]
  },
  {
   "cell_type": "code",
   "execution_count": null,
   "metadata": {},
   "outputs": [],
   "source": [
    "dda_net.load_state_dict(torch.load(\"temp_dda_net.pt\"))"
   ]
  },
  {
   "cell_type": "code",
   "execution_count": null,
   "metadata": {},
   "outputs": [],
   "source": [
    "test_dataloader = DataLoader(test_dataset, batch_size=64, num_workers=1, shuffle=False)"
   ]
  },
  {
   "cell_type": "code",
   "execution_count": null,
   "metadata": {},
   "outputs": [],
   "source": [
    "new_embeds = []\n",
    "for (X, y) in test_dataloader:\n",
    "        if is_cuda:\n",
    "            X = X.cuda()\n",
    "        new_embed = dda_net.embed(X)\n",
    "        new_embeds += [new_embed]"
   ]
  },
  {
   "cell_type": "code",
   "execution_count": null,
   "metadata": {},
   "outputs": [],
   "source": [
    "new_embed_tensor = torch.cat(new_embeds, dim=0)"
   ]
  },
  {
   "cell_type": "code",
   "execution_count": null,
   "metadata": {},
   "outputs": [],
   "source": [
    "import torch.nn.functional as F\n",
    "sim_matrix = F.cosine_similarity(                                                                                                                                                                                                                                    \n",
    "     new_embed_tensor.cpu().unsqueeze(1), new_embed_tensor.cpu().unsqueeze(0), dim=2)       "
   ]
  },
  {
   "cell_type": "code",
   "execution_count": null,
   "metadata": {},
   "outputs": [],
   "source": [
    "from sklearn.metrics import roc_curve\n",
    "\n",
    "cord = [trial.enrolment_id.tolist(), trial.test_id.tolist()]                                                                                                                                                                                                         \n",
    "score_vector = sim_matrix[cord].detach().numpy()                                                                                                                                                                                                                              \n",
    "label_vector = np.array(trial.label)                                                                                                                                                                                                                                 \n",
    "fpr, tpr, thres = roc_curve(                                                                                                                                                                                                                                         \n",
    "     label_vector, score_vector, pos_label=1)                                                                                                                                                                                                                     \n",
    "eer = fpr[np.nanargmin(np.abs(fpr - (1 - tpr)))]"
   ]
  },
  {
   "cell_type": "code",
   "execution_count": null,
   "metadata": {},
   "outputs": [],
   "source": [
    "eer"
   ]
  },
  {
   "cell_type": "code",
   "execution_count": null,
   "metadata": {},
   "outputs": [],
   "source": []
  }
 ],
 "metadata": {
  "kernelspec": {
   "display_name": "Python 3",
   "language": "python",
   "name": "python3"
  },
  "language_info": {
   "codemirror_mode": {
    "name": "ipython",
    "version": 3
   },
   "file_extension": ".py",
   "mimetype": "text/x-python",
   "name": "python",
   "nbconvert_exporter": "python",
   "pygments_lexer": "ipython3",
   "version": "3.6.5"
  }
 },
 "nbformat": 4,
 "nbformat_minor": 2
}
