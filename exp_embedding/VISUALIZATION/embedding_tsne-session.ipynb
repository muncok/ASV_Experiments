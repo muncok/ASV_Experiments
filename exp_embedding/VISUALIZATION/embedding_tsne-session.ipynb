{
 "cells": [
  {
   "cell_type": "markdown",
   "metadata": {},
   "source": [
    "xvector_dvector_inspection \n",
    "------------------------\n",
    "\n",
    "session끼리는 얼마나 모여있나..\n"
   ]
  },
  {
   "cell_type": "markdown",
   "metadata": {},
   "source": [
    "### Environment"
   ]
  },
  {
   "cell_type": "code",
   "execution_count": 1,
   "metadata": {},
   "outputs": [
    {
     "name": "stdout",
     "output_type": "stream",
     "text": [
      "Using matplotlib backend: TkAgg\n",
      "Populating the interactive namespace from numpy and matplotlib\n"
     ]
    }
   ],
   "source": [
    "%load_ext autoreload\n",
    "%autoreload 2\n",
    "%pylab\n",
    "%matplotlib inline\n",
    "    \n",
    "import pandas as pd\n",
    "import pickle\n",
    "import numpy as np\n",
    "import sys\n",
    "import os\n"
   ]
  },
  {
   "cell_type": "code",
   "execution_count": 2,
   "metadata": {},
   "outputs": [],
   "source": [
    "sys.path.append('/host/projects/sv_experiments/')\n",
    "os.environ[\"CUDA_DEVICE_ORDER\"]=\"PCI_BUS_ID\"   # see issue #152\n",
    "os.environ[\"CUDA_VISIBLE_DEVICES\"]=\"3\""
   ]
  },
  {
   "cell_type": "code",
   "execution_count": 3,
   "metadata": {},
   "outputs": [],
   "source": [
    "def key2df(keys, delimeter=\"-\"):\n",
    "    key_df = pd.DataFrame(keys, columns=['key'])\n",
    "    key_df['spk'] = key_df.key.apply(lambda x: x.split(delimeter)[0])\n",
    "    key_df['label'] = key_df.groupby('spk').ngroup()\n",
    "    key_df['origin'] = key_df.spk.apply(lambda x: 'voxc2' if x.startswith('id') else 'voxc1')\n",
    "    \n",
    "    return key_df"
   ]
  },
  {
   "cell_type": "code",
   "execution_count": 49,
   "metadata": {},
   "outputs": [],
   "source": [
    "from MulticoreTSNE import MulticoreTSNE as TSNE\n",
    "import matplotlib.cm as cm\n",
    "\n",
    "def run_tsne(sv_key_df, sv_embeds, title, n_class = 40):\n",
    "    sv_all_spks = sv_key_df.spk.unique().tolist()\n",
    "    \n",
    "    tsne_spks = np.random.choice(sv_all_spks, size=n_class, replace=False)\n",
    "    spk2label = {k:i for i, k in enumerate(tsne_spks)}\n",
    "\n",
    "    tsne_df = sv_key_df[sv_key_df.spk.isin(tsne_spks)]\n",
    "    tsne_embeds = sv_embeds[tsne_df.index]\n",
    "\n",
    "    X_embedded = TSNE(n_components=2).fit_transform(tsne_embeds)\n",
    "\n",
    "    colors = cm.rainbow_r(np.linspace(0, 1, n_class))\n",
    "    c_label = tsne_df.spk.apply(lambda x: tsne_spks.tolist().index(x))\n",
    "\n",
    "    fig = plt.figure(figsize=(10,10))\n",
    "    for spk in tsne_spks:\n",
    "        X = X_embedded[tsne_df[tsne_df.spk == spk].index]\n",
    "        plt.scatter(X[:,0], X[:,1], c=colors[tsne_spks.tolist().index(spk)] )\n",
    "    plt.legend(['s{}'.format(i) for i in range(len(tsne_spks))], loc=2, bbox_to_anchor=(1.05, 1), borderaxespad=0., fontsize=11)\n",
    "    plt.title(title)\n",
    "    \n",
    "    return fig"
   ]
  },
  {
   "cell_type": "markdown",
   "metadata": {},
   "source": [
    "## TSNE"
   ]
  },
  {
   "cell_type": "markdown",
   "metadata": {},
   "source": [
    "### Pytorch voxc12 x-vector\n",
    "\n",
    "이건 fbank_xvector로 트레이닝 한다음 fbank로 뽑은 것이라\n",
    "\n",
    "정확한 결과는 아니다."
   ]
  },
  {
   "cell_type": "code",
   "execution_count": 8,
   "metadata": {},
   "outputs": [],
   "source": [
    "sv_keys = pickle.load(open(\"../../sv_system/embeddings/voxc1/voxc1_mfcc30_best/sv_keys.pkl\", \"rb\"))\n",
    "sv_embeds = np.load(\"../../sv_system/embeddings/voxc1/voxc1_mfcc30_best/sv_embeds.npy\")"
   ]
  },
  {
   "cell_type": "code",
   "execution_count": 9,
   "metadata": {},
   "outputs": [],
   "source": [
    "sv_key_df = key2df(sv_keys, delimeter='-')"
   ]
  },
  {
   "cell_type": "code",
   "execution_count": 11,
   "metadata": {},
   "outputs": [
    {
     "data": {
      "text/html": [
       "<div>\n",
       "<style scoped>\n",
       "    .dataframe tbody tr th:only-of-type {\n",
       "        vertical-align: middle;\n",
       "    }\n",
       "\n",
       "    .dataframe tbody tr th {\n",
       "        vertical-align: top;\n",
       "    }\n",
       "\n",
       "    .dataframe thead th {\n",
       "        text-align: right;\n",
       "    }\n",
       "</style>\n",
       "<table border=\"1\" class=\"dataframe\">\n",
       "  <thead>\n",
       "    <tr style=\"text-align: right;\">\n",
       "      <th></th>\n",
       "      <th>key</th>\n",
       "      <th>spk</th>\n",
       "      <th>label</th>\n",
       "      <th>origin</th>\n",
       "    </tr>\n",
       "  </thead>\n",
       "  <tbody>\n",
       "    <tr>\n",
       "      <th>0</th>\n",
       "      <td>id10300-7byARrJfhlI-00001</td>\n",
       "      <td>id10300</td>\n",
       "      <td>30</td>\n",
       "      <td>voxc2</td>\n",
       "    </tr>\n",
       "    <tr>\n",
       "      <th>1</th>\n",
       "      <td>id10300-8EDKH42GZ1o-00028</td>\n",
       "      <td>id10300</td>\n",
       "      <td>30</td>\n",
       "      <td>voxc2</td>\n",
       "    </tr>\n",
       "    <tr>\n",
       "      <th>2</th>\n",
       "      <td>id10300-fAe7DXqrZls-00010</td>\n",
       "      <td>id10300</td>\n",
       "      <td>30</td>\n",
       "      <td>voxc2</td>\n",
       "    </tr>\n",
       "    <tr>\n",
       "      <th>3</th>\n",
       "      <td>id10300-7byARrJfhlI-00007</td>\n",
       "      <td>id10300</td>\n",
       "      <td>30</td>\n",
       "      <td>voxc2</td>\n",
       "    </tr>\n",
       "    <tr>\n",
       "      <th>4</th>\n",
       "      <td>id10300-hgnrRWnvraY-00001</td>\n",
       "      <td>id10300</td>\n",
       "      <td>30</td>\n",
       "      <td>voxc2</td>\n",
       "    </tr>\n",
       "  </tbody>\n",
       "</table>\n",
       "</div>"
      ],
      "text/plain": [
       "                         key      spk  label origin\n",
       "0  id10300-7byARrJfhlI-00001  id10300     30  voxc2\n",
       "1  id10300-8EDKH42GZ1o-00028  id10300     30  voxc2\n",
       "2  id10300-fAe7DXqrZls-00010  id10300     30  voxc2\n",
       "3  id10300-7byARrJfhlI-00007  id10300     30  voxc2\n",
       "4  id10300-hgnrRWnvraY-00001  id10300     30  voxc2"
      ]
     },
     "execution_count": 11,
     "metadata": {},
     "output_type": "execute_result"
    }
   ],
   "source": [
    "sv_key_df.head(5)"
   ]
  },
  {
   "cell_type": "code",
   "execution_count": 13,
   "metadata": {},
   "outputs": [],
   "source": [
    "sv_key_df['session'] = sv_key_df.key.apply(lambda x: x[8:-6])"
   ]
  },
  {
   "cell_type": "code",
   "execution_count": 14,
   "metadata": {},
   "outputs": [],
   "source": [
    "target_spk = sv_key_df.spk.unique().tolist()[0]"
   ]
  },
  {
   "cell_type": "code",
   "execution_count": 16,
   "metadata": {},
   "outputs": [],
   "source": [
    "target_sessions = sv_key_df[sv_key_df.spk == target_spk].session.unique()"
   ]
  },
  {
   "cell_type": "code",
   "execution_count": 22,
   "metadata": {},
   "outputs": [],
   "source": [
    "n_class = len(target_sessions)"
   ]
  },
  {
   "cell_type": "code",
   "execution_count": 19,
   "metadata": {},
   "outputs": [],
   "source": [
    "sess2label = {k:i for i, k in enumerate(target_sessions)}\n",
    "\n",
    "tsne_df = sv_key_df[sv_key_df.session.isin(target_sessions)]\n",
    "tsne_embeds = sv_embeds[tsne_df.index]"
   ]
  },
  {
   "cell_type": "code",
   "execution_count": 21,
   "metadata": {},
   "outputs": [],
   "source": [
    "from MulticoreTSNE import MulticoreTSNE as TSNE\n",
    "X_embedded = TSNE(n_components=2).fit_transform(tsne_embeds)"
   ]
  },
  {
   "cell_type": "code",
   "execution_count": 25,
   "metadata": {},
   "outputs": [
    {
     "data": {
      "text/plain": [
       "Text(0.5,1,'<function title at 0x7f56fc104400>')"
      ]
     },
     "execution_count": 25,
     "metadata": {},
     "output_type": "execute_result"
    },
    {
     "data": {
      "image/png": "[encoded data removed]",
      "text/plain": [
       "<Figure size 720x720 with 1 Axes>"
      ]
     },
     "metadata": {},
     "output_type": "display_data"
    }
   ],
   "source": [
    "import matplotlib.cm as cm\n",
    "colors = cm.rainbow_r(np.linspace(0, 1, n_class))\n",
    "c_label = tsne_df.session.apply(lambda x: target_sessions.tolist().index(x))\n",
    "\n",
    "fig = plt.figure(figsize=(10,10))\n",
    "for sess in target_sessions:\n",
    "    X = X_embedded[tsne_df[tsne_df.session == sess].index]\n",
    "    plt.scatter(X[:,0], X[:,1], c=colors[target_sessions.tolist().index(sess)] )\n",
    "plt.legend(['s{}'.format(i) for i in range(n_class)], loc=2, bbox_to_anchor=(1.05, 1), borderaxespad=0., fontsize=11)\n",
    "plt.title(title)"
   ]
  },
  {
   "cell_type": "code",
   "execution_count": null,
   "metadata": {},
   "outputs": [],
   "source": []
  }
 ],
 "metadata": {
  "kernelspec": {
   "display_name": "Python 3",
   "language": "python",
   "name": "python3"
  },
  "language_info": {
   "codemirror_mode": {
    "name": "ipython",
    "version": 3
   },
   "file_extension": ".py",
   "mimetype": "text/x-python",
   "name": "python",
   "nbconvert_exporter": "python",
   "pygments_lexer": "ipython3",
   "version": "3.6.5"
  }
 },
 "nbformat": 4,
 "nbformat_minor": 2
}
