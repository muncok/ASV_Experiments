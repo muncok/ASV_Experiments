{
 "cells": [
  {
   "cell_type": "markdown",
   "metadata": {},
   "source": [
    "# LDA to staticstics"
   ]
  },
  {
   "cell_type": "code",
   "execution_count": 62,
   "metadata": {},
   "outputs": [],
   "source": [
    "import numpy as np\n",
    "from sklearn.metrics import roc_curve\n",
    "def compute_eer(pos_scores, neg_scores):\n",
    "    score_vector = np.concatenate([pos_scores, neg_scores])\n",
    "    label_vector = np.concatenate([np.ones(len(pos_scores)), np.zeros(len(neg_scores))])\n",
    "    fpr, tpr, thres = roc_curve(label_vector, score_vector, pos_label=1)\n",
    "    eer = np.min([fpr[np.nanargmin(np.abs(fpr - (1 - tpr)))],\n",
    "                 1-tpr[np.nanargmin(np.abs(fpr - (1 - tpr)))]])\n",
    "    thres = thres[np.nanargmin(np.abs(fpr - (1 - tpr)))]\n",
    "\n",
    "    return eer"
   ]
  },
  {
   "cell_type": "code",
   "execution_count": null,
   "metadata": {},
   "outputs": [],
   "source": [
    "import pandas as pd"
   ]
  },
  {
   "cell_type": "code",
   "execution_count": null,
   "metadata": {},
   "outputs": [],
   "source": [
    "trial = pd.read_csv(\"../sv_system/datasets/voxceleb1/dataframes/voxc1_sv_trial.csv\")"
   ]
  },
  {
   "cell_type": "code",
   "execution_count": 107,
   "metadata": {},
   "outputs": [],
   "source": [
    "import pickle \n",
    "\n",
    "voxc1_si_stats, voxc1_si_labels = pickle.load(open(\"../sv_system/embeddings/voxc1_fbank64_voxc12_stat/voxc1_si_stat.pkl\", \"rb\"))\n",
    "voxc1_sv_stats, voxc1_sv_labels = pickle.load(open(\"../sv_system/embeddings/voxc1_fbank64_voxc12_stat/voxc1_sv_stat.pkl\", \"rb\"))"
   ]
  },
  {
   "cell_type": "code",
   "execution_count": 108,
   "metadata": {},
   "outputs": [],
   "source": [
    "voxc1_si_mu, voxc1_si_std = voxc1_si_stats[:, :1500], voxc1_si_stats[:, 1500:]\n",
    "voxc1_sv_mu, voxc1_sv_std = voxc1_sv_stats[:, :1500], voxc1_sv_stats[:, 1500:]"
   ]
  },
  {
   "cell_type": "code",
   "execution_count": 122,
   "metadata": {},
   "outputs": [],
   "source": [
    "voxc1_si_stat = voxc1_si_std\n",
    "voxc1_sv_stat = voxc1_sv_std"
   ]
  },
  {
   "cell_type": "code",
   "execution_count": 123,
   "metadata": {},
   "outputs": [],
   "source": [
    "voxc1_si_stat = voxc1_si_stat\n",
    "voxc1_sv_stat = voxc1_sv_stat\n",
    "# voxc1_si_mean = voxc1_si_stat.mean(0, keepdim=True)\n",
    "# voxc1_si_stat = voxc1_si_stat - voxc1_si_mean\n",
    "# voxc1_sv_stat = voxc1_sv_stat - voxc1_si_mean"
   ]
  },
  {
   "cell_type": "code",
   "execution_count": 124,
   "metadata": {
    "scrolled": true
   },
   "outputs": [
    {
     "name": "stderr",
     "output_type": "stream",
     "text": [
      "/opt/conda/envs/pytorch-py3.6/lib/python3.6/site-packages/sklearn/discriminant_analysis.py:388: UserWarning: Variables are collinear.\n",
      "  warnings.warn(\"Variables are collinear.\")\n"
     ]
    },
    {
     "data": {
      "text/plain": [
       "LinearDiscriminantAnalysis(n_components=200, priors=None, shrinkage=None,\n",
       "              solver='svd', store_covariance=False, tol=0.0001)"
      ]
     },
     "execution_count": 124,
     "metadata": {},
     "output_type": "execute_result"
    }
   ],
   "source": [
    "from sklearn.discriminant_analysis import LinearDiscriminantAnalysis as LDA\n",
    "\n",
    "clf = LDA(solver='svd', n_components=200)\n",
    "clf.fit(voxc1_si_stat, voxc1_si_labels)"
   ]
  },
  {
   "cell_type": "code",
   "execution_count": 125,
   "metadata": {},
   "outputs": [],
   "source": [
    "import torch\n",
    "lda_voxc1_sv_stat = torch.from_numpy(clf.transform(voxc1_sv_stat))"
   ]
  },
  {
   "cell_type": "code",
   "execution_count": 126,
   "metadata": {},
   "outputs": [],
   "source": [
    "from torch.nn.functional import cosine_similarity as cosine\n",
    "lda_score = cosine(lda_voxc1_sv_stat[trial.enroll_idx], lda_voxc1_sv_stat[trial.test_idx], dim=1)\n",
    "cos_eer = compute_eer(lda_score.numpy()[trial.label==1], lda_score.numpy()[trial.label==0])"
   ]
  },
  {
   "cell_type": "code",
   "execution_count": 128,
   "metadata": {},
   "outputs": [],
   "source": [
    "from torch.nn.functional import cosine_similarity as cosine\n",
    "score = cosine(voxc1_sv_stat[trial.enroll_idx], voxc1_sv_stat[trial.test_idx], dim=1)\n",
    "cos_eer = compute_eer(score.numpy()[trial.label==1], score.numpy()[trial.label==0])"
   ]
  },
  {
   "cell_type": "code",
   "execution_count": 130,
   "metadata": {},
   "outputs": [
    {
     "data": {
      "text/plain": [
       "0.2127253446447508"
      ]
     },
     "execution_count": 130,
     "metadata": {},
     "output_type": "execute_result"
    }
   ],
   "source": [
    "# mu + std\n",
    "cos_eer"
   ]
  },
  {
   "cell_type": "code",
   "execution_count": 131,
   "metadata": {},
   "outputs": [
    {
     "data": {
      "text/plain": [
       "0.2127253446447508"
      ]
     },
     "execution_count": 131,
     "metadata": {},
     "output_type": "execute_result"
    }
   ],
   "source": [
    "# mu\n",
    "cos_eer"
   ]
  },
  {
   "cell_type": "code",
   "execution_count": 132,
   "metadata": {},
   "outputs": [
    {
     "data": {
      "text/plain": [
       "0.2127253446447508"
      ]
     },
     "execution_count": 132,
     "metadata": {},
     "output_type": "execute_result"
    }
   ],
   "source": [
    "# std\n",
    "cos_eer"
   ]
  },
  {
   "cell_type": "code",
   "execution_count": null,
   "metadata": {},
   "outputs": [],
   "source": []
  }
 ],
 "metadata": {
  "kernelspec": {
   "display_name": "Python 3",
   "language": "python",
   "name": "python3"
  },
  "language_info": {
   "codemirror_mode": {
    "name": "ipython",
    "version": 3
   },
   "file_extension": ".py",
   "mimetype": "text/x-python",
   "name": "python",
   "nbconvert_exporter": "python",
   "pygments_lexer": "ipython3",
   "version": "3.6.5"
  }
 },
 "nbformat": 4,
 "nbformat_minor": 2
}
