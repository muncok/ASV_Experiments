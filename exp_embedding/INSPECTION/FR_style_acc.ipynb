{
 "cells": [
  {
   "cell_type": "markdown",
   "metadata": {},
   "source": [
    "FR_style_acc\n",
    "------------------------\n",
    "\n",
    "FR(Face Recognition)에선 validation set을 가지고 threshold를 결정한 다음에 \n",
    "\n",
    "ACC를 계산한다.\n",
    "\n",
    "example (https://github.com/wy1iu/sphereface/blob/master/test/code/evaluation.m)\n",
    "\n",
    "```\n",
    "function bestThreshold = getThreshold(scores, flags, thrNum)\n",
    "    accuracys  = zeros(2*thrNum+1, 1);\n",
    "    thresholds = (-thrNum:thrNum) / thrNum;\n",
    "    for i = 1:2*thrNum+1\n",
    "        accuracys(i) = getAccuracy(scores, flags, thresholds(i));\n",
    "    end\n",
    "    bestThreshold = mean(thresholds(accuracys==max(accuracys)));\n",
    "end\n",
    "\n",
    "function accuracy = getAccuracy(scores, flags, threshold)\n",
    "    accuracy = (length(find(scores(flags==1)>threshold)) + ...\n",
    "                length(find(scores(flags~=1)<threshold))) / length(scores);\n",
    "end\n",
    "```\n",
    "\n",
    ">  threshold = getThreshold(scores(valFold), flags(valFold), 10000);\n",
    "\n",
    ">  ACCs(i)   = getAccuracy(scores(testFold), flags(testFold), threshold);"
   ]
  },
  {
   "cell_type": "markdown",
   "metadata": {},
   "source": [
    "### Environment"
   ]
  },
  {
   "cell_type": "code",
   "execution_count": 1,
   "metadata": {},
   "outputs": [
    {
     "name": "stdout",
     "output_type": "stream",
     "text": [
      "Using matplotlib backend: TkAgg\n",
      "Populating the interactive namespace from numpy and matplotlib\n"
     ]
    }
   ],
   "source": [
    "%load_ext autoreload\n",
    "%autoreload 2\n",
    "%pylab\n",
    "%matplotlib inline\n",
    "\n",
    "import pandas as pd\n",
    "import pickle\n",
    "import numpy as np\n",
    "import sys\n",
    "import os"
   ]
  },
  {
   "cell_type": "code",
   "execution_count": 2,
   "metadata": {},
   "outputs": [],
   "source": [
    "sys.path.append('/host/projects/sv_experiments/')\n",
    "os.environ[\"CUDA_DEVICE_ORDER\"]=\"PCI_BUS_ID\"   # see issue #152\n",
    "os.environ[\"CUDA_VISIBLE_DEVICES\"]=\"3\""
   ]
  },
  {
   "cell_type": "code",
   "execution_count": 76,
   "metadata": {},
   "outputs": [],
   "source": [
    "trial = pd.read_pickle(\"/dataset/SV_sets/dataframes/voxc1/voxc_trial.pkl\")"
   ]
  },
  {
   "cell_type": "code",
   "execution_count": 4,
   "metadata": {},
   "outputs": [],
   "source": [
    "si_keys = pickle.load(open(\"../../embeddings/voxc12/xvectors/xvectors_tdnn6b/train_feat/key.pkl\", \"rb\"))\n",
    "si_embeds = np.load(\"../../embeddings/voxc12/xvectors/xvectors_tdnn6b/train_feat/feat.npy\")\n",
    "\n",
    "sv_keys = pickle.load(open(\"../../embeddings/voxc12/xvectors/xvectors_tdnn6b/test_feat/key.pkl\", \"rb\"))\n",
    "sv_embeds = np.load(\"../../embeddings/voxc12/xvectors/xvectors_tdnn6b/test_feat/feat.npy\")"
   ]
  },
  {
   "cell_type": "code",
   "execution_count": 6,
   "metadata": {},
   "outputs": [],
   "source": [
    "def key2df(keys):\n",
    "    key_df = pd.DataFrame(keys, columns=['key'])\n",
    "    key_df['spk'] = key_df.key.apply(lambda x: x.split(\"-\")[0])\n",
    "    key_df['label'] = key_df.groupby('spk').ngroup()\n",
    "    key_df['origin'] = key_df.spk.apply(lambda x: 'voxc2' if x.startswith('id') else 'voxc1')\n",
    "    \n",
    "    return key_df"
   ]
  },
  {
   "cell_type": "code",
   "execution_count": 7,
   "metadata": {},
   "outputs": [],
   "source": [
    "si_key_df = key2df(si_keys)\n",
    "sv_key_df = key2df(sv_keys)"
   ]
  },
  {
   "cell_type": "markdown",
   "metadata": {},
   "source": [
    "### New trial"
   ]
  },
  {
   "cell_type": "code",
   "execution_count": 8,
   "metadata": {},
   "outputs": [],
   "source": [
    "sv_key_df['session'] = sv_key_df.key.apply(lambda x: x.split('-')[1])"
   ]
  },
  {
   "cell_type": "code",
   "execution_count": 9,
   "metadata": {},
   "outputs": [],
   "source": [
    "new_trial_ids = []\n",
    "new_trial_keys = []\n",
    "for idx, row in sv_key_df.iterrows():\n",
    "    pos_pair = sv_key_df[(sv_key_df.spk == row.spk) & (sv_key_df.session != row.session)].sample(n=4)\n",
    "    neg_pair = sv_key_df[(sv_key_df.spk != row.spk)].sample(n=4)\n",
    "    \n",
    "    for pos_idx, neg_idx in zip(pos_pair.index.tolist(), neg_pair.index.tolist()):\n",
    "        new_trial_ids += [(idx, pos_idx, 1), (idx, neg_idx, 0)]\n",
    "    \n",
    "    for pos_key, neg_key in zip(pos_pair.key, neg_pair.key):\n",
    "        new_trial_keys += [(row.key, pos_key, 'target'), (row.key, neg_key, 'nontarget')]"
   ]
  },
  {
   "cell_type": "code",
   "execution_count": 10,
   "metadata": {},
   "outputs": [],
   "source": [
    "new_trial = pd.DataFrame(new_trial_ids, columns=['enrolment_id', 'test_id', 'label'])"
   ]
  },
  {
   "cell_type": "code",
   "execution_count": 11,
   "metadata": {},
   "outputs": [],
   "source": [
    "new_trial_key = pd.DataFrame(new_trial_keys)"
   ]
  },
  {
   "cell_type": "code",
   "execution_count": 12,
   "metadata": {},
   "outputs": [],
   "source": [
    "new_trial_key.to_csv(\"voxc12_trial_sv\", sep=' ', index=False, header=False)"
   ]
  },
  {
   "cell_type": "markdown",
   "metadata": {},
   "source": [
    "### Test EER for new trials"
   ]
  },
  {
   "cell_type": "code",
   "execution_count": 14,
   "metadata": {},
   "outputs": [],
   "source": [
    "import torch\n",
    "import torch.nn.functional as F\n",
    "\n",
    "sv_embed_tensor = torch.from_numpy(sv_embeds)\n",
    "sim_matrix = F.cosine_similarity(                                                                                                                                                                                                                                    \n",
    "     sv_embed_tensor.unsqueeze(1), sv_embed_tensor.unsqueeze(0), dim=2)       "
   ]
  },
  {
   "cell_type": "code",
   "execution_count": 15,
   "metadata": {},
   "outputs": [],
   "source": [
    "from sklearn.metrics import roc_curve\n",
    "\n",
    "cord = [new_trial.enrolment_id.tolist(), new_trial.test_id.tolist()]                                                                                                                                                                                                         \n",
    "score_vector = sim_matrix[cord].detach().numpy()                                                                                                                                                                                                                              \n",
    "label_vector = np.array(new_trial.label)                                                                                                                                                                                                                                 \n",
    "fpr, tpr, thres = roc_curve(                                                                                                                                                                                                                                         \n",
    "     label_vector, score_vector, pos_label=1)                                                                                                                                                                                                                     \n",
    "eer = fpr[np.nanargmin(np.abs(fpr - (1 - tpr)))]"
   ]
  },
  {
   "cell_type": "code",
   "execution_count": 16,
   "metadata": {},
   "outputs": [
    {
     "data": {
      "text/plain": [
       "0.09483996717275339"
      ]
     },
     "execution_count": 16,
     "metadata": {},
     "output_type": "execute_result"
    }
   ],
   "source": [
    "eer"
   ]
  },
  {
   "cell_type": "markdown",
   "metadata": {},
   "source": [
    "### Compute the best ACC at the optimal threshold"
   ]
  },
  {
   "cell_type": "code",
   "execution_count": 90,
   "metadata": {},
   "outputs": [
    {
     "ename": "ValueError",
     "evalue": "operands could not be broadcast together with shapes (2767,) (5974,) ",
     "output_type": "error",
     "traceback": [
      "\u001b[0;31m---------------------------------------------------------------------------\u001b[0m",
      "\u001b[0;31mValueError\u001b[0m                                Traceback (most recent call last)",
      "\u001b[0;32m<ipython-input-90-87eb7d243919>\u001b[0m in \u001b[0;36m<module>\u001b[0;34m()\u001b[0m\n\u001b[1;32m      1\u001b[0m \u001b[0mn_pos\u001b[0m \u001b[0;34m=\u001b[0m \u001b[0msum\u001b[0m\u001b[0;34m(\u001b[0m\u001b[0mlabel_vector\u001b[0m\u001b[0;34m)\u001b[0m\u001b[0;34m\u001b[0m\u001b[0m\n\u001b[1;32m      2\u001b[0m \u001b[0mn_neg\u001b[0m \u001b[0;34m=\u001b[0m \u001b[0mlen\u001b[0m\u001b[0;34m(\u001b[0m\u001b[0mlabel_vector\u001b[0m\u001b[0;34m)\u001b[0m \u001b[0;34m-\u001b[0m \u001b[0mn_pos\u001b[0m\u001b[0;34m\u001b[0m\u001b[0m\n\u001b[0;32m----> 3\u001b[0;31m \u001b[0mn_correct\u001b[0m \u001b[0;34m=\u001b[0m \u001b[0mtpr\u001b[0m \u001b[0;34m*\u001b[0m \u001b[0mn_pos\u001b[0m \u001b[0;34m+\u001b[0m \u001b[0mtnr\u001b[0m \u001b[0;34m*\u001b[0m \u001b[0mn_neg\u001b[0m\u001b[0;34m\u001b[0m\u001b[0m\n\u001b[0m\u001b[1;32m      4\u001b[0m \u001b[0macc\u001b[0m \u001b[0;34m=\u001b[0m \u001b[0mn_correct\u001b[0m \u001b[0;34m/\u001b[0m \u001b[0mlen\u001b[0m\u001b[0;34m(\u001b[0m\u001b[0mlabel_vector\u001b[0m\u001b[0;34m)\u001b[0m\u001b[0;34m\u001b[0m\u001b[0m\n",
      "\u001b[0;31mValueError\u001b[0m: operands could not be broadcast together with shapes (2767,) (5974,) "
     ]
    }
   ],
   "source": [
    "n_pos = sum(label_vector)\n",
    "n_neg = len(label_vector) - n_pos\n",
    "n_correct = tpr * n_pos + tnr * n_neg\n",
    "acc = n_correct / len(label_vector)"
   ]
  },
  {
   "cell_type": "code",
   "execution_count": 91,
   "metadata": {},
   "outputs": [
    {
     "data": {
      "text/plain": [
       "0.9078016003282725"
      ]
     },
     "execution_count": 91,
     "metadata": {},
     "output_type": "execute_result"
    }
   ],
   "source": [
    "max(acc)"
   ]
  },
  {
   "cell_type": "markdown",
   "metadata": {},
   "source": [
    "### Read plda scores"
   ]
  },
  {
   "cell_type": "code",
   "execution_count": 115,
   "metadata": {},
   "outputs": [],
   "source": [
    "plda_score = pd.read_csv(\"../../embeddings/voxc12/dda_xvector1/plda_scores/plda_scores\", sep=' ', header=None)\n",
    "plda_score.columns = ['enroll', 'test', 'score']"
   ]
  },
  {
   "cell_type": "code",
   "execution_count": 116,
   "metadata": {},
   "outputs": [],
   "source": [
    "voxceleb1_trials_sv = pd.read_pickle(\"/dataset/SV_sets/dataframes/voxc1/voxc_trial_modified.pkl\")"
   ]
  },
  {
   "cell_type": "code",
   "execution_count": 117,
   "metadata": {},
   "outputs": [],
   "source": [
    "score_vector = plda_score.score.tolist()"
   ]
  },
  {
   "cell_type": "code",
   "execution_count": 118,
   "metadata": {},
   "outputs": [],
   "source": [
    "from sklearn.metrics import roc_curve\n",
    "\n",
    "cord = [trial.enrolment_id.tolist(), trial.test_id.tolist()]                                                                                                                                                                                                         \n",
    "label_vector = np.array(voxceleb1_trials_sv.label)                                                                                                                                                                                                                                 \n",
    "fpr, tpr, thres = roc_curve(                                                                                                                                                                                                                                         \n",
    "     label_vector, score_vector, pos_label=1)     \n",
    "\n",
    "eer = round(fpr[np.nanargmin(np.abs(fpr - (1 - tpr)))] * 100, 2)"
   ]
  },
  {
   "cell_type": "code",
   "execution_count": 119,
   "metadata": {},
   "outputs": [],
   "source": [
    "n_pos = sum(label_vector)\n",
    "n_neg = len(label_vector) - n_pos\n",
    "tnr = 1 - fpr\n",
    "n_correct = tpr * n_pos + tnr * n_neg\n",
    "acc = n_correct / len(label_vector)"
   ]
  },
  {
   "cell_type": "code",
   "execution_count": 120,
   "metadata": {},
   "outputs": [
    {
     "name": "stdout",
     "output_type": "stream",
     "text": [
      "plda acc at the optimal threshold: 0.8770148462354189\n"
     ]
    }
   ],
   "source": [
    "print(f\"plda acc at the optimal threshold: {max(acc)}\")"
   ]
  },
  {
   "cell_type": "code",
   "execution_count": null,
   "metadata": {},
   "outputs": [],
   "source": []
  }
 ],
 "metadata": {
  "kernelspec": {
   "display_name": "Python 3",
   "language": "python",
   "name": "python3"
  },
  "language_info": {
   "codemirror_mode": {
    "name": "ipython",
    "version": 3
   },
   "file_extension": ".py",
   "mimetype": "text/x-python",
   "name": "python",
   "nbconvert_exporter": "python",
   "pygments_lexer": "ipython3",
   "version": "3.6.5"
  }
 },
 "nbformat": 4,
 "nbformat_minor": 2
}
