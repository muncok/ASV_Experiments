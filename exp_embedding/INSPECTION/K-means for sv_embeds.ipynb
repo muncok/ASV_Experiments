{
 "cells": [
  {
   "cell_type": "markdown",
   "metadata": {},
   "source": [
    "# K-means for sv_embeds"
   ]
  },
  {
   "cell_type": "markdown",
   "metadata": {},
   "source": [
    "## Environment"
   ]
  },
  {
   "cell_type": "code",
   "execution_count": 4,
   "metadata": {},
   "outputs": [
    {
     "name": "stdout",
     "output_type": "stream",
     "text": [
      "The autoreload extension is already loaded. To reload it, use:\n",
      "  %reload_ext autoreload\n",
      "Using matplotlib backend: TkAgg\n",
      "Populating the interactive namespace from numpy and matplotlib\n"
     ]
    }
   ],
   "source": [
    "%load_ext autoreload\n",
    "%autoreload 2\n",
    "%pylab\n",
    "%matplotlib inline\n",
    "    \n",
    "import pandas as pd\n",
    "import pickle\n",
    "import numpy as np\n",
    "import sys\n",
    "import os\n",
    "import matplotlib.pyplot as plt"
   ]
  },
  {
   "cell_type": "code",
   "execution_count": 5,
   "metadata": {},
   "outputs": [],
   "source": [
    "sys.path.append('/host/projects/sv_experiments/sv_system/')\n",
    "os.environ[\"CUDA_DEVICE_ORDER\"]=\"PCI_BUS_ID\"   # see issue #152\n",
    "os.environ[\"CUDA_VISIBLE_DEVICES\"]=\"3\""
   ]
  },
  {
   "cell_type": "code",
   "execution_count": 6,
   "metadata": {},
   "outputs": [],
   "source": [
    "def key2df(keys, delimeter=\"-\"):\n",
    "    key_df = pd.DataFrame(keys, columns=['key'])\n",
    "    key_df['spk'] = key_df.key.apply(lambda x: x.split(delimeter)[0])\n",
    "    key_df['label'] = key_df.groupby('spk').ngroup()\n",
    "    key_df['origin'] = key_df.spk.apply(lambda x: 'voxc2' if x.startswith('id') else 'voxc1')\n",
    "    \n",
    "    return key_df"
   ]
  },
  {
   "cell_type": "markdown",
   "metadata": {},
   "source": [
    "## Load embeds"
   ]
  },
  {
   "cell_type": "code",
   "execution_count": 7,
   "metadata": {},
   "outputs": [],
   "source": [
    "import kaldi_io\n",
    "\n",
    "sv_keys = []\n",
    "sv_embeds = []\n",
    "for k,v in kaldi_io.read_vec_flt_ark(\n",
    "    \"/host/projects/sv_experiments/sv_system/models/voxc12_fbank64_vad/tdnn_xvector_softmax/fbank64_200f_800f_v00/embeds/lda_feats.ark\"):\n",
    "    sv_keys += [k]\n",
    "    sv_embeds += [v]\n",
    "\n",
    "sv_embeds = np.array(sv_embeds)"
   ]
  },
  {
   "cell_type": "markdown",
   "metadata": {},
   "source": [
    "## Run K-means"
   ]
  },
  {
   "cell_type": "code",
   "execution_count": 10,
   "metadata": {},
   "outputs": [],
   "source": [
    "from sklearn.cluster import KMeans\n",
    "\n",
    "kmeans = KMeans(n_clusters=40, random_state=0).fit(sv_embeds)"
   ]
  },
  {
   "cell_type": "code",
   "execution_count": 14,
   "metadata": {},
   "outputs": [],
   "source": [
    "sv_keys_df = key2df(sv_keys)"
   ]
  },
  {
   "cell_type": "code",
   "execution_count": 16,
   "metadata": {},
   "outputs": [],
   "source": [
    "sv_keys_df['cluster_label'] = kmeans.labels_"
   ]
  },
  {
   "cell_type": "code",
   "execution_count": 40,
   "metadata": {},
   "outputs": [],
   "source": [
    "spk2cluster = sv_keys_df.groupby('spk', group_keys=False).cluster_label.value_counts()"
   ]
  },
  {
   "cell_type": "code",
   "execution_count": 49,
   "metadata": {},
   "outputs": [
    {
     "data": {
      "text/plain": [
       "spk      cluster_label\n",
       "id10270  21               158\n",
       "id10271  23                73\n",
       "id10272  11                50\n",
       "id10273  13               240\n",
       "id10274  25                54\n",
       "id10275  30                73\n",
       "         27                 1\n",
       "id10276  6                185\n",
       "id10277  28                67\n",
       "id10278  26                94\n",
       "         10                93\n",
       "id10279  31                61\n",
       "         25                 1\n",
       "         36                 1\n",
       "id10280  14                67\n",
       "id10281  1                 84\n",
       "id10282  29                84\n",
       "id10283  17               157\n",
       "         30                49\n",
       "         7                 27\n",
       "id10284  34                90\n",
       "id10285  4                 93\n",
       "id10286  35               149\n",
       "id10287  15                48\n",
       "id10288  20                48\n",
       "id10289  38                87\n",
       "id10290  31               137\n",
       "id10291  39                76\n",
       "id10292  18               167\n",
       "         0                 98\n",
       "id10293  9                100\n",
       "         37                94\n",
       "id10294  12               138\n",
       "id10295  19                88\n",
       "id10296  24                98\n",
       "id10297  19                79\n",
       "id10298  22               127\n",
       "id10299  16                49\n",
       "id10300  2                302\n",
       "         26                 1\n",
       "         34                 1\n",
       "id10301  25                48\n",
       "id10302  27               165\n",
       "         7                  1\n",
       "id10303  5                103\n",
       "id10304  3                156\n",
       "         7                  5\n",
       "         20                 1\n",
       "id10305  36               137\n",
       "id10306  8                184\n",
       "id10307  33               156\n",
       "id10308  20                64\n",
       "id10309  32               164\n",
       "         31                 1\n",
       "Name: cluster_label, dtype: int64"
      ]
     },
     "execution_count": 49,
     "metadata": {},
     "output_type": "execute_result"
    }
   ],
   "source": [
    "spk2cluster"
   ]
  },
  {
   "cell_type": "code",
   "execution_count": 29,
   "metadata": {},
   "outputs": [
    {
     "name": "stdout",
     "output_type": "stream",
     "text": [
      "id10270\n",
      "id10271\n",
      "id10272\n",
      "id10273\n",
      "id10274\n",
      "id10275\n",
      "id10275\n",
      "id10276\n",
      "id10277\n",
      "id10278\n",
      "id10278\n",
      "id10279\n",
      "id10279\n",
      "id10279\n",
      "id10280\n",
      "id10281\n",
      "id10282\n",
      "id10283\n",
      "id10283\n",
      "id10283\n",
      "id10284\n",
      "id10285\n",
      "id10286\n",
      "id10287\n",
      "id10288\n",
      "id10289\n",
      "id10290\n",
      "id10291\n",
      "id10292\n",
      "id10292\n",
      "id10293\n",
      "id10293\n",
      "id10294\n",
      "id10295\n",
      "id10296\n",
      "id10297\n",
      "id10298\n",
      "id10299\n",
      "id10300\n",
      "id10300\n",
      "id10300\n",
      "id10301\n",
      "id10302\n",
      "id10302\n",
      "id10303\n",
      "id10304\n",
      "id10304\n",
      "id10304\n",
      "id10305\n",
      "id10306\n",
      "id10307\n",
      "id10308\n",
      "id10309\n",
      "id10309\n"
     ]
    }
   ],
   "source": [
    "for item in spk2cluster.iteritems():\n",
    "    print(item[0][0])"
   ]
  },
  {
   "cell_type": "code",
   "execution_count": 48,
   "metadata": {},
   "outputs": [
    {
     "name": "stdout",
     "output_type": "stream",
     "text": [
      "302 1 1\n",
      "48\n",
      "165 1\n",
      "103\n",
      "156 5 1\n",
      "137\n",
      "184\n",
      "156\n",
      "64\n",
      "164 1\n"
     ]
    }
   ],
   "source": [
    "for i in range(10):\n",
    "    id_str = 'id'+str(10300+i)\n",
    "    print(*spk2cluster[id_str].values)\n",
    "    "
   ]
  },
  {
   "cell_type": "code",
   "execution_count": null,
   "metadata": {},
   "outputs": [],
   "source": []
  }
 ],
 "metadata": {
  "kernelspec": {
   "display_name": "Python 3",
   "language": "python",
   "name": "python3"
  },
  "language_info": {
   "codemirror_mode": {
    "name": "ipython",
    "version": 3
   },
   "file_extension": ".py",
   "mimetype": "text/x-python",
   "name": "python",
   "nbconvert_exporter": "python",
   "pygments_lexer": "ipython3",
   "version": "3.6.5"
  }
 },
 "nbformat": 4,
 "nbformat_minor": 2
}
