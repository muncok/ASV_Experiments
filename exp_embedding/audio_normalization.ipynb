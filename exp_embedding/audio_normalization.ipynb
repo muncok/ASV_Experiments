{
 "cells": [
  {
   "cell_type": "code",
   "execution_count": 169,
   "metadata": {
    "collapsed": true
   },
   "outputs": [],
   "source": [
    "import pydub\n",
    "from pydub import AudioSegment"
   ]
  },
  {
   "cell_type": "code",
   "execution_count": 203,
   "metadata": {
    "collapsed": false
   },
   "outputs": [],
   "source": [
    "wav = AudioSegment.from_wav(\"../../../dataset/SV_sets/speech_commands/on/004ae714_nohash_1.wav\")"
   ]
  },
  {
   "cell_type": "code",
   "execution_count": 204,
   "metadata": {
    "collapsed": false
   },
   "outputs": [
    {
     "data": {
      "text/html": [
       "\n",
       "                    <audio controls>\n",
       "                        <source src=\"data:audio/mpeg;base64,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\" type=\"audio/mpeg\"/>\n",
       "                        Your browser does not support the audio element.\n",
       "                    </audio>\n",
       "                  "
      ],
      "text/plain": [
       "<pydub.audio_segment.AudioSegment at 0x7f9764830b38>"
      ]
     },
     "execution_count": 204,
     "metadata": {},
     "output_type": "execute_result"
    }
   ],
   "source": [
    "wav"
   ]
  },
  {
   "cell_type": "code",
   "execution_count": 216,
   "metadata": {
    "collapsed": false
   },
   "outputs": [],
   "source": [
    "wav = wav.normalize()"
   ]
  },
  {
   "cell_type": "code",
   "execution_count": 217,
   "metadata": {
    "collapsed": false,
    "scrolled": true
   },
   "outputs": [
    {
     "data": {
      "text/html": [
       "\n",
       "                    <audio controls>\n",
       "                        <source src=\"data:audio/mpeg;base64,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\" type=\"audio/mpeg\"/>\n",
       "                        Your browser does not support the audio element.\n",
       "                    </audio>\n",
       "                  "
      ],
      "text/plain": [
       "<pydub.audio_segment.AudioSegment at 0x7f97647bbda0>"
      ]
     },
     "execution_count": 217,
     "metadata": {},
     "output_type": "execute_result"
    }
   ],
   "source": [
    "wav"
   ]
  },
  {
   "cell_type": "code",
   "execution_count": 249,
   "metadata": {
    "collapsed": false
   },
   "outputs": [
    {
     "data": {
      "text/plain": [
       "[[583, 584], [591, 646], [660, 689]]"
      ]
     },
     "execution_count": 249,
     "metadata": {},
     "output_type": "execute_result"
    }
   ],
   "source": [
    "pydub.silence.detect_nonsilent(wav,  min_silence_len=5, silence_thresh=-16)"
   ]
  },
  {
   "cell_type": "code",
   "execution_count": 251,
   "metadata": {
    "collapsed": false
   },
   "outputs": [],
   "source": [
    "strip_wav = wav.strip_silence(silence_len=5, silence_thresh=-16, padding=5)"
   ]
  },
  {
   "cell_type": "code",
   "execution_count": 252,
   "metadata": {
    "collapsed": false
   },
   "outputs": [
    {
     "data": {
      "text/html": [
       "\n",
       "                    <audio controls>\n",
       "                        <source src=\"data:audio/mpeg;base64,SUQzBAAAAAAAI1RTU0UAAAAPAAADTGF2ZjU2LjQwLjEwMQAAAAAAAAAAAAAA//NYwAAAAAAAAAAAAEluZm8AAAAPAAAAAwAAAfgAkpKSkpKSkpKSkpKSkpKSkpKSkpKSkpKSkpKSkpKSkpKSycnJycnJycnJycnJycnJycnJycnJycnJycnJycnJycnJ////////////////////////////////////////////AAAAAExhdmM1Ni42MAAAAAAAAAAAAAAAACQAAAAAAAAAAAH4an8u/wAAAAAAAAAAAAAA//M4xAASaf7BVjBNTAJCoAPCD3r3f9//tEZ3vw5MmxNM+2IR+UABgsLohEX4Xwf1/143jfJcH//7u2IJlEIeyZNiaf7AhAsmEAMHygY/wxOF/5wT/+pynvvmGbYB0AFCcoCUZoBNszGF+NQp//M4xBUU+fbePjDGAAYCKkGAqvQxhRIICMuNr6l6rmsatxv1Wl1SZmKHGOrW1L/rf/GMMKqr8Ym9jCgIBDSj34aUDUGip36waKhIOwZCCShrKnLCMjVrLZYrBQQUSKLMPKLKEiQIWQFjGVWW//M4xCARmfoZThmG5H2Wy/2W//8ln8sn////8tllllWVDI/5SZWBwVFRX/irP/1CrP1iykxBTUUzLjk5LjWqqqqqqqqqqqqqqqqqqqqqqqqqqqqqqqqqqqqqqqqqqqqqqqqqqqqqqqqqqqqq\" type=\"audio/mpeg\"/>\n",
       "                        Your browser does not support the audio element.\n",
       "                    </audio>\n",
       "                  "
      ],
      "text/plain": [
       "<pydub.audio_segment.AudioSegment at 0x7f9803c9f048>"
      ]
     },
     "execution_count": 252,
     "metadata": {},
     "output_type": "execute_result"
    }
   ],
   "source": [
    "strip_wav"
   ]
  },
  {
   "cell_type": "code",
   "execution_count": 220,
   "metadata": {
    "collapsed": false
   },
   "outputs": [
    {
     "data": {
      "text/plain": [
       "211"
      ]
     },
     "execution_count": 220,
     "metadata": {},
     "output_type": "execute_result"
    }
   ],
   "source": [
    "len(strip_wav)"
   ]
  },
  {
   "cell_type": "code",
   "execution_count": 221,
   "metadata": {
    "collapsed": false
   },
   "outputs": [],
   "source": [
    "import numpy as np\n",
    "wav_array = np.array(strip_wav.get_array_of_samples()) "
   ]
  },
  {
   "cell_type": "code",
   "execution_count": 222,
   "metadata": {
    "collapsed": false
   },
   "outputs": [
    {
     "data": {
      "text/plain": [
       "(3376,)"
      ]
     },
     "execution_count": 222,
     "metadata": {},
     "output_type": "execute_result"
    }
   ],
   "source": [
    "(wav_array / 32768.0).astype(np.float32).shape"
   ]
  },
  {
   "cell_type": "code",
   "execution_count": null,
   "metadata": {
    "collapsed": true
   },
   "outputs": [],
   "source": []
  }
 ],
 "metadata": {
  "kernelspec": {
   "display_name": "Pytorch",
   "language": "python",
   "name": "pytorch"
  },
  "language_info": {
   "codemirror_mode": {
    "name": "ipython",
    "version": 3
   },
   "file_extension": ".py",
   "mimetype": "text/x-python",
   "name": "python",
   "nbconvert_exporter": "python",
   "pygments_lexer": "ipython3",
   "version": "3.6.2"
  }
 },
 "nbformat": 4,
 "nbformat_minor": 2
}
