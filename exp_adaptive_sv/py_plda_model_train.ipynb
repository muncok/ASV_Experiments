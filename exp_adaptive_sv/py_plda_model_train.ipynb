{
 "cells": [
  {
   "cell_type": "code",
   "execution_count": 4,
   "metadata": {},
   "outputs": [
    {
     "name": "stdout",
     "output_type": "stream",
     "text": [
      "The autoreload extension is already loaded. To reload it, use:\n",
      "  %reload_ext autoreload\n",
      "Using matplotlib backend: TkAgg\n",
      "Populating the interactive namespace from numpy and matplotlib\n"
     ]
    }
   ],
   "source": [
    "%load_ext autoreload\n",
    "%autoreload 2\n",
    "%pylab\n",
    "%matplotlib inline\n",
    "\n",
    "import os\n",
    "import sys\n",
    "import pandas as pd\n",
    "import pickle\n",
    "import numpy as np"
   ]
  },
  {
   "cell_type": "code",
   "execution_count": 5,
   "metadata": {},
   "outputs": [],
   "source": [
    "from batch_sv_system import get_embeds, cosine_sim, compute_plda_score"
   ]
  },
  {
   "cell_type": "code",
   "execution_count": 7,
   "metadata": {},
   "outputs": [],
   "source": [
    "from utils import key2df, get_id2idx\n",
    "\n",
    "embed_dir = \"embeddings/voxc2_fbank64_voxc2untied_300f_xvector/\"\n",
    "si_embeds = np.load(embed_dir+\"ln_lda_si_embeds.npy\")\n",
    "sv_embeds = np.load(embed_dir+\"ln_lda_sv_embeds.npy\")\n",
    "si_keys = pickle.load(open(embed_dir + \"/si_keys.pkl\", \"rb\"))\n",
    "sv_keys = pickle.load(open(embed_dir + \"/sv_keys.pkl\", \"rb\"))\n",
    "sv_id2idx = get_id2idx(sv_keys)\n",
    "si_df = key2df(si_keys)"
   ]
  },
  {
   "cell_type": "code",
   "execution_count": null,
   "metadata": {},
   "outputs": [],
   "source": [
    "si_embed_dir = \"embeddings/voxc2_fbank64_voxc2untied_300f_xvector/\"\n",
    "si_embeds = np.load(si_embed_dir + \"/si_embeds.npy\")\n",
    "si_keys = pickle.load(open(si_embed_dir + \"/si_keys.pkl\", \"rb\"))\n",
    "si_id2idx = get_id2idx(si_keys)\n",
    "si_df = key2df(si_keys)\n",
    "\n",
    "sv_embed_dir = \"embeddings/voxc2_fbank64_voxc2untied_300f_xvector/\"\n",
    "sv_embeds = np.load(sv_embed_dir + \"/sv_embeds.npy\")\n",
    "sv_keys = pickle.load(open(sv_embed_dir + \"/sv_keys.pkl\", \"rb\"))\n",
    "sv_id2idx = get_id2idx(sv_keys)\n",
    "sv_df = key2df(sv_keys)\n",
    "\n",
    "from sklearn.discriminant_analysis import LinearDiscriminantAnalysis as LDA\n",
    "si_embed_mean = si_embeds.mean(0)\n",
    "centered_si_embeds = si_embeds - si_embed_mean.reshape(1, -1)\n",
    "centered_sv_embeds = sv_embeds - si_embed_mean.reshape(1, -1)\n",
    "\n",
    "clf = LDA(solver='svd', n_components=200)\n",
    "clf.fit(centered_si_embeds, si_df.label)\n",
    "\n",
    "lda_si_embeds = clf.transform(centered_si_embeds)\n",
    "lda_sv_embeds = clf.transform(centered_sv_embeds)\n",
    "\n",
    "# length normalization\n",
    "ln_lda_si_embeds = lda_si_embeds * np.sqrt(lda_si_embeds.shape[1]) / \\\n",
    "                                           np.linalg.norm(lda_si_embeds, axis=1, keepdims=True)\n",
    "ln_lda_sv_embeds = lda_sv_embeds * np.sqrt(lda_sv_embeds.shape[1]) / \\\n",
    "                                           np.linalg.norm(lda_sv_embeds, axis=1, keepdims=True)"
   ]
  },
  {
   "cell_type": "code",
   "execution_count": null,
   "metadata": {},
   "outputs": [],
   "source": [
    "# np.save(si_embed_dir+\"ln_lda_si_embeds.npy\", ln_lda_si_embeds)\n",
    "# np.save(sv_embed_dir+\"ln_lda_sv_embeds.npy\", ln_lda_sv_embeds)"
   ]
  },
  {
   "cell_type": "code",
   "execution_count": 4,
   "metadata": {},
   "outputs": [],
   "source": [
    "from ioffe_plda.verifier import Verifier\n",
    "py_plda_model = Verifier()\n",
    "py_plda_model.fit(si_embeds, si_df.label)\n",
    "# pickle.dump(py_plda_model, open(\"py_plda_model_ln_lda.pkl\", \"wb\"))"
   ]
  }
 ],
 "metadata": {
  "kernelspec": {
   "display_name": "Python 3",
   "language": "python",
   "name": "python3"
  },
  "language_info": {
   "codemirror_mode": {
    "name": "ipython",
    "version": 3
   },
   "file_extension": ".py",
   "mimetype": "text/x-python",
   "name": "python",
   "nbconvert_exporter": "python",
   "pygments_lexer": "ipython3",
   "version": "3.6.5"
  }
 },
 "nbformat": 4,
 "nbformat_minor": 2
}
