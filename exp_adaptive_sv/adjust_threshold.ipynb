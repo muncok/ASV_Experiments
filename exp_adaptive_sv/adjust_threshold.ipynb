{
 "cells": [
  {
   "cell_type": "markdown",
   "metadata": {},
   "source": [
    "# Adjusting thrshold using validation set"
   ]
  },
  {
   "cell_type": "code",
   "execution_count": 2,
   "metadata": {},
   "outputs": [
    {
     "name": "stdout",
     "output_type": "stream",
     "text": [
      "Using matplotlib backend: TkAgg\n",
      "Populating the interactive namespace from numpy and matplotlib\n"
     ]
    }
   ],
   "source": [
    "%load_ext autoreload\n",
    "%autoreload 2\n",
    "%pylab\n",
    "%matplotlib inline\n",
    "\n",
    "import pandas as pd\n",
    "import pickle\n",
    "import numpy as np\n",
    "import sys\n",
    "import os"
   ]
  },
  {
   "cell_type": "code",
   "execution_count": 7,
   "metadata": {},
   "outputs": [],
   "source": [
    "from utils import plot_ROC\n",
    "from adaptive_sv_system.utils import cos_dist_sim_torch, euc_dist_sim"
   ]
  },
  {
   "cell_type": "code",
   "execution_count": 12,
   "metadata": {},
   "outputs": [],
   "source": [
    "f_sim = 'cos'\n",
    "embeds = np.load('xvector_embeds/sv_embeds.npy')"
   ]
  },
  {
   "cell_type": "code",
   "execution_count": 16,
   "metadata": {},
   "outputs": [
    {
     "name": "stdout",
     "output_type": "stream",
     "text": [
      "Train Accuracy: 0.9320381628722325 \n",
      "Train AUC: 0.9362077392691408 \n",
      "Train Confusion Matrix:\n",
      "[[ 82474   4302]\n",
      " [ 12388 146415]]\n"
     ]
    },
    {
     "data": {
      "image/png": "[encoded data removed]",
      "text/plain": [
       "<Figure size 720x360 with 1 Axes>"
      ]
     },
     "metadata": {},
     "output_type": "display_data"
    }
   ],
   "source": [
    "# trial for finding best threshold\n",
    "trial_for_thresh = pd.read_pickle(\"trials/enr306_closedset/trial_for_thresh.pkl\")\n",
    "\n",
    "if f_sim == 'cos':\n",
    "    train_score_vector = cos_dist_sim_torch(embeds[trial_for_thresh.enrolment_id],\n",
    "                                      embeds[trial_for_thresh.test_id], dim=1)\n",
    "elif f_sim == 'euc':\n",
    "    train_score_vector =  euc_dist_sim(embeds[trial_for_thresh.enrolment_id], \n",
    "                                       embeds[trial_for_thresh.test_id], dim=1)\n",
    "    \n",
    "train_label_vector = trial_for_thresh.label.tolist()\n",
    "accept_thres, fpr_, tpr_, thres_ = plot_ROC(train_label_vector, train_score_vector)"
   ]
  },
  {
   "cell_type": "code",
   "execution_count": 17,
   "metadata": {},
   "outputs": [],
   "source": [
    "fnr_ = 1 - tpr_"
   ]
  },
  {
   "cell_type": "code",
   "execution_count": 22,
   "metadata": {},
   "outputs": [
    {
     "data": {
      "text/plain": [
       "array([9.99993703e-01, 9.99615876e-01, 9.99603282e-01, ...,\n",
       "       6.29711026e-06, 0.00000000e+00, 0.00000000e+00])"
      ]
     },
     "execution_count": 22,
     "metadata": {},
     "output_type": "execute_result"
    }
   ],
   "source": [
    "fnr_"
   ]
  },
  {
   "cell_type": "code",
   "execution_count": 29,
   "metadata": {},
   "outputs": [
    {
     "data": {
      "text/plain": [
       "0.46138534"
      ]
     },
     "execution_count": 29,
     "metadata": {},
     "output_type": "execute_result"
    }
   ],
   "source": [
    "thres_[np.where(fnr_ < 0.01)[0][0]]"
   ]
  },
  {
   "cell_type": "code",
   "execution_count": null,
   "metadata": {},
   "outputs": [],
   "source": []
  }
 ],
 "metadata": {
  "kernelspec": {
   "display_name": "Python 3",
   "language": "python",
   "name": "python3"
  },
  "language_info": {
   "codemirror_mode": {
    "name": "ipython",
    "version": 3
   },
   "file_extension": ".py",
   "mimetype": "text/x-python",
   "name": "python",
   "nbconvert_exporter": "python",
   "pygments_lexer": "ipython3",
   "version": "3.6.5"
  }
 },
 "nbformat": 4,
 "nbformat_minor": 2
}
