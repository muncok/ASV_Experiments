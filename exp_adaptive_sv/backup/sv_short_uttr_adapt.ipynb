{
 "cells": [
  {
   "cell_type": "markdown",
   "metadata": {},
   "source": [
    "# Short Utterance Adapt"
   ]
  },
  {
   "cell_type": "code",
   "execution_count": 1,
   "metadata": {},
   "outputs": [
    {
     "name": "stdout",
     "output_type": "stream",
     "text": [
      "Using matplotlib backend: TkAgg\n",
      "Populating the interactive namespace from numpy and matplotlib\n"
     ]
    }
   ],
   "source": [
    "%load_ext autoreload\n",
    "%autoreload 2\n",
    "%pylab\n",
    "%matplotlib inline\n",
    "\n",
    "import os\n",
    "import sys\n",
    "import pandas as pd\n",
    "import pickle\n",
    "import numpy as np"
   ]
  },
  {
   "cell_type": "code",
   "execution_count": 2,
   "metadata": {},
   "outputs": [],
   "source": [
    "from batch_sv_system_utils import get_embeds, cosine_sim, compute_error\n",
    "from batch_sv_system_utils import compute_eer\n",
    "from utils import key2df, df2dict"
   ]
  },
  {
   "cell_type": "code",
   "execution_count": 4,
   "metadata": {},
   "outputs": [],
   "source": [
    "def get_id2idx(keys):\n",
    "    key_df = key2df(keys)\n",
    "    id2idx, idx2id = df2dict(key_df) \n",
    "    \n",
    "    return id2idx"
   ]
  },
  {
   "cell_type": "code",
   "execution_count": 52,
   "metadata": {},
   "outputs": [],
   "source": [
    "# plda_embed_dir = \"embeddings/voxc2_fbank64_voxc2untied_xvector/\"\n",
    "embed_dir = \"embeddings/voxc2_fbank64_voxc2untied_100f_xvector/\"\n",
    "sv_embeds = np.load(embed_dir + \"/sv_embeds.npy\")\n",
    "plda_model_dir = embed_dir + \"plda_train/\"\n",
    "keys = pickle.load(open(embed_dir + \"/sv_keys.pkl\", \"rb\"))\n",
    "id2idx = get_id2idx(keys)"
   ]
  },
  {
   "cell_type": "markdown",
   "metadata": {},
   "source": [
    "## Run Trial - Score fusion"
   ]
  },
  {
   "cell_type": "code",
   "execution_count": 53,
   "metadata": {},
   "outputs": [],
   "source": [
    "trial = pickle.load(open(\"trials/enr306/enr306_closedset_big/FS_9/trials.pkl\", \"rb\"))\n",
    "# trial = pickle.load(open(\"trials/enr306/short_enr1/trials.pkl\", \"rb\"))"
   ]
  },
  {
   "cell_type": "code",
   "execution_count": 65,
   "metadata": {},
   "outputs": [
    {
     "data": {
      "image/png": "[encoded data removed]",
      "text/plain": [
       "<Figure size 1440x360 with 1 Axes>"
      ]
     },
     "metadata": {},
     "output_type": "display_data"
    },
    {
     "name": "stdout",
     "output_type": "stream",
     "text": [
      "[pos_adapt] n_adapted:38, adapt_acc:1.000\n",
      "[eer] eer=0.1177, fpr=0.1188, fnr=0.1167, thres=0.6025\n",
      "n_enr:2\n",
      "[eer] eer=0.0762, fpr=0.0773, fnr=0.0750, thres=1.1041\n",
      "n_enr:5\n",
      "[eer] eer=0.0845, fpr=0.0856, fnr=0.0833, thres=1.3420\n",
      "n_enr:8\n",
      "[eer] eer=0.0713, fpr=0.0718, fnr=0.0708, thres=1.6553\n",
      "n_enr:11\n",
      "[eer] eer=0.0713, fpr=0.0718, fnr=0.0708, thres=1.4370\n",
      "n_enr:14\n",
      "[eer] eer=0.0665, fpr=0.0663, fnr=0.0667, thres=1.6870\n",
      "n_enr:17\n",
      "[eer] eer=0.0699, fpr=0.0691, fnr=0.0708, thres=1.6949\n",
      "n_enr:20\n",
      "[eer] eer=0.0699, fpr=0.0691, fnr=0.0708, thres=1.6020\n",
      "n_enr:23\n",
      "[eer] eer=0.0796, fpr=0.0801, fnr=0.0792, thres=1.6340\n",
      "n_enr:26\n",
      "[eer] eer=0.0727, fpr=0.0746, fnr=0.0708, thres=1.7083\n",
      "n_enr:29\n",
      "[eer] eer=0.0727, fpr=0.0746, fnr=0.0708, thres=1.6626\n",
      "n_enr:32\n",
      "[eer] eer=0.0810, fpr=0.0829, fnr=0.0792, thres=1.5101\n",
      "n_enr:35\n",
      "[eer] eer=0.0810, fpr=0.0829, fnr=0.0792, thres=1.6239\n",
      "n_enr:38\n",
      "[eer] eer=0.0796, fpr=0.0801, fnr=0.0792, thres=1.6416\n"
     ]
    }
   ],
   "source": [
    " from batch_sv_system_utils import run_trial, plot_score \n",
    "\n",
    "t_idx = 7\n",
    "enr_spk, enr_ids, test_trial, adapt_trial, ood_trial= trial[t_idx]\n",
    "test_trial = list(test_trial)\n",
    "test_trial[0] = test_trial[0] + ood_trial[0]\n",
    "test_trial[1] = test_trial[1] + ood_trial[1]\n",
    "\n",
    "# enr_spk, enr_ids, adapt_trial, test_trial= trial[t_idx]\n",
    "\n",
    "eT = 5\n",
    "\n",
    "init_enr_embeds = get_embeds(enr_ids, sv_embeds, id2idx, norm=False)[:1]\n",
    "adapt_embeds = get_embeds(adapt_trial[0], sv_embeds, id2idx, norm=False)\n",
    "test_embeds = get_embeds(test_trial[0], sv_embeds, id2idx, norm=False)\n",
    "\n",
    "### adapt trial\n",
    "adapt_scores = run_trial(enr_embeds, adapt_embeds, adapt_trial[1],\n",
    "                         plda_dir=plda_model_dir, \n",
    "                         plot=True, title=\"adapt_score_fusion\")\n",
    "adapt_score_fusion = adapt_scores.mean(0)\n",
    "adapt_enr_idx = np.nonzero(adapt_score_fusion > eT)\n",
    "adapt_enr_acc = np.array(adapt_trial[1])[adapt_enr_idx].mean()\n",
    "adapt_enr_embeds = adapt_embeds[adapt_enr_idx]\n",
    "print(\"[pos_adapt] n_adapted:{}, adapt_acc:{:.3f}\".format(len(adapt_enr_idx[0]), adapt_enr_acc))\n",
    "\n",
    "### score fusion\n",
    "total_enr_embeds = np.concatenate([init_enr_embeds, adapt_enr_embeds], axis=0)\n",
    "\n",
    "### test trial\n",
    "init_score = run_trial(init_enr_embeds, test_embeds, test_trial[1],\n",
    "                       plda_dir=plda_model_dir, neg_embeds=None,\n",
    "                       plot=False, title=\"score_fusion(plda, initial)\",\n",
    "                       verbose=True)\n",
    "\n",
    "for n_enr in range(2, len(total_enr_embeds), 3):\n",
    "    print(\"n_enr:{}\".format(n_enr))\n",
    "    total_score= run_trial(total_enr_embeds[:n_enr], test_embeds, test_trial[1],\n",
    "                           plda_dir=plda_model_dir, neg_embeds=None,\n",
    "                           plot=False, title=\"score_fusion(plda, adapt_3)\",\n",
    "                           verbose=True)"
   ]
  },
  {
   "cell_type": "code",
   "execution_count": 50,
   "metadata": {},
   "outputs": [
    {
     "data": {
      "text/plain": [
       "array([[-26.01368 ,   7.413336,   8.96114 , ..., -10.50224 ,  -2.567244,\n",
       "        -18.85234 ],\n",
       "       [-32.58043 ,  14.05748 ,  15.65969 , ..., -11.81906 ,  -9.3563  ,\n",
       "        -24.95876 ],\n",
       "       [-23.82671 ,  14.49788 ,  16.44465 , ...,  -8.354749,  -1.70026 ,\n",
       "        -25.49563 ]])"
      ]
     },
     "execution_count": 50,
     "metadata": {},
     "output_type": "execute_result"
    }
   ],
   "source": [
    "total_score[:3]"
   ]
  },
  {
   "cell_type": "code",
   "execution_count": 51,
   "metadata": {},
   "outputs": [
    {
     "data": {
      "text/plain": [
       "array([[-36.25076  ,  16.74293  ,  17.18775  , -13.25439  ,   6.589597 ,\n",
       "          7.403083 , -10.90085  ,   8.210735 ,  14.05147  ,  15.36514  ,\n",
       "        -13.21071  ,  14.51952  , -53.94011  ,  17.21947  , -39.03301  ,\n",
       "        -19.95747  ,  17.68912  ,  -5.63044  , -34.03112  ,   1.187588 ,\n",
       "        -49.37119  , -57.41652  ,  14.02333  ,  14.45948  , -41.34952  ,\n",
       "        -16.98206  , -36.86841  ,  -3.756251 , -38.05252  ,   4.872194 ,\n",
       "        -59.9915   , -11.5383   ,   4.959165 ,   9.636471 , -57.73317  ,\n",
       "         18.53433  ,  -5.591255 ,  19.56472  ,   3.561266 , -46.17281  ,\n",
       "        -59.21566  , -10.80055  ,  15.0154   ,  14.44715  ,  17.88146  ,\n",
       "         14.19305  ,   9.849813 , -39.77138  ,  13.21959  ,   6.920402 ,\n",
       "         10.35065  , -21.96473  , -20.23186  ,  12.17629  , -32.7986   ,\n",
       "         -2.106612 ,   6.096123 ,  14.12928  , -41.91906  ,  17.54666  ,\n",
       "         21.05622  , -37.53418  ,   2.933962 ,  12.61961  ,  14.1223   ,\n",
       "          7.611259 ,   6.571369 ,  11.84182  , -28.98641  ,   5.26878  ,\n",
       "        -10.74837  , -18.12235  ,  -5.618964 ,  15.46393  ,   9.984961 ,\n",
       "        -44.86272  , -42.50666  , -13.33914  ,   4.500119 , -47.24111  ,\n",
       "        -12.82201  ,  -8.854289 ,  20.40292  ,  -8.273059 , -14.58459  ,\n",
       "          8.778387 ,   6.282226 , -10.04972  , -19.75728  , -10.83747  ,\n",
       "         15.36817  , -38.55083  , -15.44707  ,   9.53845  ,  17.61914  ,\n",
       "        -18.48733  , -15.17929  ,  -3.099372 ,  11.78749  ,  16.32083  ,\n",
       "        -53.68148  ,   5.569784 ,  19.49669  ,  13.48074  ,  21.6621   ,\n",
       "          2.464853 ,   9.501636 , -19.88851  ,   7.414509 , -27.50851  ,\n",
       "        -25.32679  ,  -1.042017 , -52.17037  ,  -5.325325 ,  10.07791  ,\n",
       "          6.183459 , -35.91831  , -18.35006  , -25.6439   ,  15.15739  ,\n",
       "        -15.5778   ,   7.072155 ,  12.03215  ,  10.36206  ,   9.57651  ,\n",
       "         13.24373  , -18.51017  , -15.78561  ,   9.444354 , -46.03379  ,\n",
       "         19.25064  , -47.64951  , -44.04506  , -42.88746  , -38.68833  ,\n",
       "        -12.68339  ,   6.353396 , -41.26261  , -15.63723  , -45.54079  ,\n",
       "         20.42475  ,  16.71228  , -19.60228  ,  15.07508  , -16.82261  ,\n",
       "        -13.46273  ,  10.96787  ,   0.2909601,   9.950764 ,  10.64523  ,\n",
       "         14.84167  ,   8.887889 , -16.39751  ,  12.48878  , -40.09359  ,\n",
       "        -16.19912  , -39.4511   ,  15.15008  ,   8.420825 ,  17.9478   ,\n",
       "         16.94584  , -66.81635  ,  14.63783  ,   5.380438 ,  16.2464   ,\n",
       "        -42.30796  ,  15.02092  , -10.66606  ,   9.761151 ,  13.26524  ,\n",
       "         13.9654   ,  10.86964  ,  18.68047  ,  -5.064753 ,  10.90528  ,\n",
       "         14.76036  ,  14.47524  ,   1.817492 ,  10.04622  , -55.40694  ,\n",
       "        -13.0394   ,  10.05639  , -11.30719  , -45.6925   ,   8.58524  ,\n",
       "        -13.67352  ,   2.869349 ,  18.32123  , -15.76424  ,  14.63658  ,\n",
       "        -27.04216  ,   5.137007 , -62.60699  , -11.34674  ,  -2.957181 ,\n",
       "          7.042603 , -13.86445  , -12.65843  ,   5.70154  ,   4.56462  ,\n",
       "        -22.29923  , -20.00261  ,  13.78627  , -18.93264  , -40.50374  ,\n",
       "         -8.256547 ,  -1.940811 ,  18.2268   , -16.71122  ,   9.207237 ,\n",
       "         12.69488  ,   8.76467  , -13.29029  , -40.78802  ,   5.735004 ,\n",
       "         -0.1783245,  15.56616  , -31.77836  ,  12.94718  ,   6.128501 ,\n",
       "        -30.47253  ,   9.271722 ,  12.79261  , -25.49546  , -45.09528  ,\n",
       "         13.70289  ,  16.67241  , -21.53002  , -55.9703   ,  14.43989  ,\n",
       "         19.95146  , -43.87241  ,   8.121358 ,   8.77096  , -31.19651  ,\n",
       "         10.13975  ,  15.55967  ,  -2.87304  ,  21.0018   ,  -6.584184 ,\n",
       "         21.71945  , -10.3465   ,  15.3328   ,  16.57036  , -10.32246  ,\n",
       "        -53.36916  ,  11.65184  , -17.03919  , -20.02442  ,  17.95452  ,\n",
       "         10.51495  ,   9.92156  ,   9.704299 ,   8.471322 ,  13.658    ,\n",
       "          0.6191946,  16.18002  ,  -0.0758452, -42.6991   ,  12.69904  ,\n",
       "         14.54701  , -23.73196  , -18.13137  , -12.18686  , -18.86197  ,\n",
       "          8.623638 , -10.91763  ,   5.031183 , -40.31232  , -13.02736  ,\n",
       "        -18.03848  , -41.69511  ,  11.48118  ,  11.36883  , -26.36616  ,\n",
       "        -50.60504  , -16.44881  ,  11.67308  ,  16.26603  , -16.67283  ,\n",
       "          8.184064 , -54.34763  , -12.10084  ,   2.329568 ,   9.504392 ,\n",
       "         11.45637  , -19.56422  , -16.38154  ,  15.58815  ,   4.77033  ,\n",
       "        -14.76328  ,  10.27258  , -34.65857  ,   2.217205 ,   9.07222  ,\n",
       "          5.033084 ,  16.50939  ,  18.91801  , -64.25739  ,  15.99038  ,\n",
       "        -42.11868  ,  14.45202  ,  -1.157349 ,  13.26553  ,   9.219254 ,\n",
       "        -16.71258  ,  16.90984  , -18.96214  ,   5.285774 ,  -8.77225  ,\n",
       "         17.04752  , -38.6724   , -35.79548  ,   4.767506 , -12.32678  ,\n",
       "         16.67155  ,  16.0931   ,  17.48365  ,   9.985482 ,  -9.036108 ,\n",
       "         19.40935  , -55.50235  , -41.32977  ,  15.72416  ,  11.27119  ,\n",
       "        -34.60883  , -16.99893  ,  17.45574  ,   1.163137 ,  17.46961  ,\n",
       "          4.507929 , -13.71187  , -19.12314  ,  16.52056  ,   4.775352 ,\n",
       "        -31.85338  ,   4.586058 ,  19.34387  ,  -9.213604 ,  10.29097  ,\n",
       "         10.63467  ,  19.49588  , -19.12414  , -40.66328  ,  18.79059  ,\n",
       "         -7.111451 ,  12.64308  , -14.78332  ,  11.08576  , -35.86629  ,\n",
       "        -24.04746  ,  -9.477638 , -23.17313  , -53.44804  , -43.23316  ,\n",
       "        -18.58894  ,  12.95654  , -16.92233  ,   4.838281 , -15.55304  ,\n",
       "          7.359355 ,  -8.974972 ,   7.469501 ,  10.9659   ,   5.120638 ,\n",
       "        -13.59725  ,  12.08027  ,   6.640057 , -34.50499  , -13.81379  ,\n",
       "          1.617964 ,   4.865455 , -21.42031  , -49.07074  ,  -8.707578 ,\n",
       "        -22.0261   ,  21.58619  , -52.01724  ,  -7.632598 ,   1.409748 ,\n",
       "          3.509652 , -44.61772  ,   5.545364 ,  19.9631   , -15.45425  ,\n",
       "         14.00744  ,   4.109474 ,  -8.07194  ,  11.09758  , -11.93543  ,\n",
       "          5.165123 ,  11.42605  ,  13.5244   ,  15.53534  ,  15.14507  ,\n",
       "         19.86831  ,  16.17448  , -37.74481  , -16.67067  , -15.36291  ,\n",
       "         11.48137  ,   5.070384 , -15.48905  ,   7.141661 ,  15.50534  ,\n",
       "         19.71692  ,  -6.119641 ,  12.04674  ,   8.827124 ,   9.423622 ,\n",
       "        -18.79935  ,  16.20625  ,   6.806763 , -14.98322  , -19.56113  ,\n",
       "         13.16888  ,  12.96625  ,   9.022377 , -16.57897  ,  12.04401  ,\n",
       "         11.62502  , -45.5687   ,   2.898485 , -11.94676  , -23.10633  ,\n",
       "        -22.69378  ,  -7.756896 , -41.72067  , -47.62609  , -15.34583  ,\n",
       "          5.560854 , -14.30671  , -31.21484  ,  14.96815  ,  14.60823  ,\n",
       "        -24.09145  ,  17.54224  ,  12.25618  , -30.61259  ,  11.18014  ,\n",
       "         10.61046  ,  10.15402  ,   3.319007 ,  13.26725  ,  14.70171  ,\n",
       "         -7.271044 ,  10.24522  , -15.77422  ,  12.13625  , -11.65446  ,\n",
       "        -12.73631  , -52.02975  ,  -9.797558 ,  -0.2363067,  11.03594  ,\n",
       "        -36.78927  ,   3.890106 ,  10.83167  ,  14.53797  , -40.68243  ,\n",
       "         11.1503   , -45.14921  ,  14.76159  ,   1.572257 ,  16.66524  ,\n",
       "         17.00164  ,  12.1412   ,   5.065892 , -49.11368  ,   0.3645676,\n",
       "         13.50146  ,  20.95057  , -13.53402  , -14.11754  ,   8.078331 ,\n",
       "          2.911668 ,   2.62864  , -18.90463  ,  18.24848  ,   3.439318 ,\n",
       "        -11.38355  ,   1.069016 ,  -8.934705 , -15.79795  ,   3.472974 ,\n",
       "        -20.06248  ,  -2.664812 , -23.52697  , -45.75784  , -45.5733   ,\n",
       "        -12.77444  , -37.13839  , -14.39848  , -14.59037  , -23.15427  ,\n",
       "        -48.55421  , -24.63764  , -20.8351   , -19.53078  , -19.21698  ,\n",
       "        -20.22407  ,  -8.921577 ,  -8.300649 ,  -8.201387 , -12.36439  ,\n",
       "        -24.09326  , -14.8859   ,  -1.044732 , -33.29691  ,  -6.521184 ,\n",
       "         -6.414057 , -46.27819  , -33.80202  , -40.40394  , -10.54278  ,\n",
       "         -9.694203 , -55.50171  , -32.00978  , -30.15162  , -28.82514  ,\n",
       "        -21.28082  , -45.45929  , -13.77777  ,  -6.075848 , -23.44778  ,\n",
       "        -18.14691  ,  -3.778775 , -12.35354  ,  -9.483309 , -17.05507  ,\n",
       "         -9.00551  , -27.67557  , -12.51399  ,  -4.800969 ,  -9.89097  ,\n",
       "        -12.97815  , -42.26048  , -23.55637  , -14.00456  , -39.02952  ,\n",
       "        -18.48058  , -22.29335  , -22.65113  , -26.3632   , -17.9023   ,\n",
       "        -16.02144  ,  -3.662846 , -50.67864  , -36.84372  , -22.32065  ,\n",
       "        -24.41142  , -32.07055  ,  -8.160526 ,  -5.916703 ,  -9.005719 ,\n",
       "        -28.24431  , -52.73942  , -52.00574  ,  -7.991297 , -21.96507  ,\n",
       "        -43.1128   , -27.78371  ,   5.601022 , -13.22598  , -20.5614   ,\n",
       "          1.69727  , -23.3235   , -32.48801  , -45.05589  ,  -4.183276 ,\n",
       "        -42.54574  , -12.91717  , -23.91416  , -16.08692  , -13.55795  ,\n",
       "        -48.44987  ,  -3.786258 ,  -4.654547 , -18.48933  , -14.47887  ,\n",
       "        -13.32271  , -33.25624  , -27.2032   , -53.41455  ,   5.826438 ,\n",
       "        -38.03244  , -13.36709  ,  -9.329062 , -30.97759  ,   5.102858 ,\n",
       "        -15.10587  , -20.03059  , -28.32759  , -45.83653  , -27.71428  ,\n",
       "        -26.57002  , -48.40805  ,  -2.505408 ,  -2.244912 , -14.57917  ,\n",
       "         -9.31596  , -25.48654  ]])"
      ]
     },
     "execution_count": 51,
     "metadata": {},
     "output_type": "execute_result"
    }
   ],
   "source": [
    "total_score[3:4]"
   ]
  },
  {
   "cell_type": "code",
   "execution_count": 46,
   "metadata": {},
   "outputs": [
    {
     "name": "stdout",
     "output_type": "stream",
     "text": [
      "base_eer:0.2285, margin_eer:0.2285\n"
     ]
    }
   ],
   "source": [
    "# t_idx = 7\n",
    "# enr_spk, enr_ids, test_trial, adapt_trial, ood_trial= trial[t_idx]\n",
    "# test_trial = list(test_trial)\n",
    "# test_trial[0] = test_trial[0] + ood_trial[0]\n",
    "# test_trial[1] = test_trial[1] + ood_trial[1]\n",
    "\n",
    "### get embeds\n",
    "enr_embeds = get_embeds(enr_ids, sv_embeds, id2idx, norm=True)\n",
    "test_embeds = get_embeds(test_trial[0], sv_embeds, id2idx, norm=True)\n",
    "\n",
    "score_fusions = []\n",
    "neg_score_fusions = []\n",
    "enroll_embeds = []\n",
    "neg_enroll_embeds = []\n",
    "enroll_embeds = [enr for enr in enr_embeds]\n",
    "for t, in_embed in enumerate(test_embeds):\n",
    "    scores = cosine_sim(np.array(enroll_embeds), in_embed)\n",
    "    score_fusion = scores.mean(0)\n",
    "    if score_fusion > 0.7:\n",
    "        enroll_embeds.append(in_embed)\n",
    "    elif score_fusion < 0.4:\n",
    "        neg_enroll_embeds.append(in_embed)\n",
    "        \n",
    "    score_fusions.append(score_fusion)\n",
    "    \n",
    "    if len(neg_enroll_embeds) > 0:\n",
    "        neg_scores = cosine_sim(np.array(neg_enroll_embeds), in_embed)\n",
    "        neg_scores = np.sort(neg_scores)[-3:]\n",
    "        neg_score_fusion = neg_scores.mean(0)\n",
    "        neg_score_fusion = score_fusion - neg_score_fusion\n",
    "        neg_score_fusions.append(neg_score_fusion)\n",
    "    else:\n",
    "        neg_score_fusions.append(score_fusion)\n",
    "\n",
    "base_eer = compute_eer(score_fusions, test_trial[1])\n",
    "margin_eer = compute_eer(neg_score_fusions, test_trial[1])\n",
    "print(\"base_eer:{:.4f}, margin_eer:{:.4f}\".format(base_eer[0], margin_eer[0]))"
   ]
  },
  {
   "cell_type": "code",
   "execution_count": 43,
   "metadata": {},
   "outputs": [
    {
     "data": {
      "image/png": "[encoded data removed]",
      "text/plain": [
       "<Figure size 1440x360 with 1 Axes>"
      ]
     },
     "metadata": {},
     "output_type": "display_data"
    }
   ],
   "source": [
    "plot_score(np.array(score_fusions), test_trial[1], base_eer[-1], \"base\")"
   ]
  },
  {
   "cell_type": "code",
   "execution_count": 44,
   "metadata": {},
   "outputs": [
    {
     "data": {
      "image/png": "[encoded data removed]",
      "text/plain": [
       "<Figure size 1440x360 with 1 Axes>"
      ]
     },
     "metadata": {},
     "output_type": "display_data"
    }
   ],
   "source": [
    "plot_score(np.array(neg_score_fusions), test_trial[1], margin_eer[-1], \"margin\")"
   ]
  },
  {
   "cell_type": "markdown",
   "metadata": {},
   "source": [
    "## Iterate trials"
   ]
  },
  {
   "cell_type": "code",
   "execution_count": 491,
   "metadata": {},
   "outputs": [],
   "source": [
    "test_scores = []\n",
    "neg_test_scores = []\n",
    "labels = []\n",
    "for i, tr in enumerate(trial):\n",
    "    ### for short\n",
    "    enr_spk, enr_ids, adapt_trial, test_trial= trial[t_idx]\n",
    "\n",
    "    ### for closed_set\n",
    "    # enr_spk, enr_ids, test_trial, adapt_trial, ood_trial= trial[t_idx]\n",
    "    # test_trial = list(test_trial)\n",
    "    # test_trial[0] = test_trial[0] + ood_trial[0]\n",
    "    # test_trial[1] = test_trial[1] + ood_trial[1]\n",
    "    \n",
    "    ### get embeds\n",
    "    enr_embeds = get_embeds(enr_ids, sv_embeds, id2idx, norm=(not plda_model_dir))\n",
    "    adapt_embeds = get_embeds(adapt_trial[0], sv_embeds, id2idx, norm=(not plda_model_dir))\n",
    "    test_embeds = get_embeds(test_trial[0], sv_embeds, id2idx, norm=(not plda_model_dir))\n",
    "\n",
    "    ### adapt trial\n",
    "    adapt_score_fusion = run_trial(enr_embeds, adapt_embeds, adapt_trial[1],\n",
    "                             plda_dir=plda_model_dir, \n",
    "                             plot=False, title=\"adapt_score_fusion\")\n",
    "    adapt_enr_idx = np.nonzero(adapt_score_fusion > eT)\n",
    "    adapt_enr_embeds = adapt_embeds[adapt_enr_idx]\n",
    "#     adapt_enr_acc = np.array(adapt_trial[1])[adapt_enr_idx].mean()\n",
    "#     print(\"[pos_adapt] n_adapted:{}, adapt_acc:{:.3f}\".format(len(adapt_enr_idx[0]), adapt_enr_acc))\n",
    "\n",
    "    neg_enr_idx = np.nonzero(adapt_score_fusion < neT)\n",
    "    neg_enr_embeds = adapt_embeds[neg_enr_idx]\n",
    "#     neg_enr_acc = (1 - np.array(adapt_trial[1]))[neg_enr_idx].mean()\n",
    "#     print(\"[neg_adapt] n_adapted:{}, adapt_acc:{:.3f}\".format(len(neg_enr_idx[0]), neg_enr_acc))\n",
    "\n",
    "    ### score fusion\n",
    "    total_enr_embeds = np.concatenate([enr_embeds, adapt_enr_embeds], axis=0)\n",
    "\n",
    "    ### test trial\n",
    "    total_test_score_fusion = run_trial(total_enr_embeds, test_embeds, test_trial[1], \n",
    "                                      plda_dir=plda_model_dir, neg_embeds=None)\n",
    "\n",
    "    total_test_neg_score_fusion = run_trial(total_enr_embeds, test_embeds, test_trial[1],\n",
    "                                  plda_dir=plda_model_dir, neg_embeds=neg_enr_embeds)\n",
    "    \n",
    "    test_scores += total_test_score_fusion.tolist()\n",
    "    neg_test_scores += total_test_neg_score_fusion.tolist()\n",
    "    labels += test_trial[1].tolist()"
   ]
  },
  {
   "cell_type": "code",
   "execution_count": 492,
   "metadata": {},
   "outputs": [
    {
     "data": {
      "text/plain": [
       "(0.0544904137235116,\n",
       " 0.05433333333333333,\n",
       " 0.0544904137235116,\n",
       " 0.6185755133628845)"
      ]
     },
     "execution_count": 492,
     "metadata": {},
     "output_type": "execute_result"
    }
   ],
   "source": [
    "compute_eer(test_scores, labels)"
   ]
  },
  {
   "cell_type": "code",
   "execution_count": 20,
   "metadata": {},
   "outputs": [
    {
     "ename": "NameError",
     "evalue": "name 'init_test_scores' is not defined",
     "output_type": "error",
     "traceback": [
      "\u001b[0;31m---------------------------------------------------------------------------\u001b[0m",
      "\u001b[0;31mNameError\u001b[0m                                 Traceback (most recent call last)",
      "\u001b[0;32m<ipython-input-20-9056615532af>\u001b[0m in \u001b[0;36m<module>\u001b[0;34m()\u001b[0m\n\u001b[1;32m     12\u001b[0m \u001b[0mtest_std\u001b[0m \u001b[0;34m=\u001b[0m \u001b[0mtest_cohort_scores\u001b[0m\u001b[0;34m.\u001b[0m\u001b[0mstd\u001b[0m\u001b[0;34m(\u001b[0m\u001b[0;36m1\u001b[0m\u001b[0;34m)\u001b[0m\u001b[0;34m.\u001b[0m\u001b[0mreshape\u001b[0m\u001b[0;34m(\u001b[0m\u001b[0;36m1\u001b[0m\u001b[0;34m,\u001b[0m \u001b[0;34m-\u001b[0m\u001b[0;36m1\u001b[0m\u001b[0;34m)\u001b[0m\u001b[0;34m\u001b[0m\u001b[0m\n\u001b[1;32m     13\u001b[0m \u001b[0;34m\u001b[0m\u001b[0m\n\u001b[0;32m---> 14\u001b[0;31m \u001b[0mnorm_scores\u001b[0m \u001b[0;34m=\u001b[0m \u001b[0;34m(\u001b[0m\u001b[0;34m(\u001b[0m\u001b[0minit_test_scores\u001b[0m \u001b[0;34m-\u001b[0m \u001b[0menr_mean\u001b[0m\u001b[0;34m)\u001b[0m\u001b[0;34m/\u001b[0m\u001b[0menr_std\u001b[0m \u001b[0;34m+\u001b[0m \u001b[0;34m(\u001b[0m\u001b[0minit_test_scores\u001b[0m \u001b[0;34m-\u001b[0m \u001b[0mtest_mean\u001b[0m\u001b[0;34m)\u001b[0m\u001b[0;34m/\u001b[0m\u001b[0mtest_std\u001b[0m\u001b[0;34m)\u001b[0m\u001b[0;34m/\u001b[0m\u001b[0;36m2\u001b[0m\u001b[0;34m\u001b[0m\u001b[0m\n\u001b[0m\u001b[1;32m     15\u001b[0m \u001b[0meer\u001b[0m\u001b[0;34m,\u001b[0m \u001b[0mfpr\u001b[0m\u001b[0;34m,\u001b[0m \u001b[0mfnr\u001b[0m\u001b[0;34m,\u001b[0m \u001b[0mthres\u001b[0m \u001b[0;34m=\u001b[0m \u001b[0mcompute_eer\u001b[0m\u001b[0;34m(\u001b[0m\u001b[0mnorm_scores\u001b[0m\u001b[0;34m.\u001b[0m\u001b[0mmean\u001b[0m\u001b[0;34m(\u001b[0m\u001b[0;36m0\u001b[0m\u001b[0;34m)\u001b[0m\u001b[0;34m,\u001b[0m \u001b[0mtest_trial\u001b[0m\u001b[0;34m[\u001b[0m\u001b[0;36m1\u001b[0m\u001b[0;34m]\u001b[0m\u001b[0;34m)\u001b[0m\u001b[0;34m\u001b[0m\u001b[0m\n\u001b[1;32m     16\u001b[0m \u001b[0mprint\u001b[0m\u001b[0;34m(\u001b[0m\u001b[0;34m\"[init] eer={:.4f}, fpr={:.4f}, fnr={:.4f}, threshold={:.4f}\"\u001b[0m\u001b[0;34m.\u001b[0m\u001b[0mformat\u001b[0m\u001b[0;34m(\u001b[0m\u001b[0meer\u001b[0m\u001b[0;34m,\u001b[0m \u001b[0mfpr\u001b[0m\u001b[0;34m,\u001b[0m \u001b[0mfnr\u001b[0m\u001b[0;34m,\u001b[0m \u001b[0mthres\u001b[0m\u001b[0;34m)\u001b[0m\u001b[0;34m)\u001b[0m\u001b[0;34m\u001b[0m\u001b[0m\n",
      "\u001b[0;31mNameError\u001b[0m: name 'init_test_scores' is not defined"
     ]
    }
   ],
   "source": [
    "val_set = pd.read_pickle(\"trials/enr306/validation_set.pkl\")\n",
    "# cohort_embeds = get_embeds(val_set.sample(n=5000).index, sv_embeds, id2idx)\n",
    "# cohort_embeds = neg_enr_embeds\n",
    "\n",
    "### init\n",
    "enr_cohort_scores = cosine_sim(enr_embeds, cohort_embeds)\n",
    "test_cohort_scores = cosine_sim(test_embeds, cohort_embeds)\n",
    "\n",
    "enr_mean = enr_cohort_scores.mean(1).reshape(-1, 1)\n",
    "enr_std = enr_cohort_scores.std(1).reshape(-1, 1)\n",
    "test_mean = test_cohort_scores.mean(1).reshape(1, -1)\n",
    "test_std = test_cohort_scores.std(1).reshape(1, -1)\n",
    "\n",
    "norm_scores = ((init_test_scores - enr_mean)/enr_std + (init_test_scores - test_mean)/test_std)/2\n",
    "eer, fpr, fnr, thres = compute_eer(norm_scores.mean(0), test_trial[1])\n",
    "print(\"[init] eer={:.4f}, fpr={:.4f}, fnr={:.4f}, threshold={:.4f}\".format(eer, fpr, fnr, thres))\n",
    "\n",
    "############################################################################\n",
    "\n",
    "### total\n",
    "enr_cohort_scores = cosine_sim(total_enr_embeds, cohort_embeds)\n",
    "test_cohort_scores = cosine_sim(test_embeds, cohort_embeds)\n",
    "\n",
    "enr_mean = enr_cohort_scores.mean(1).reshape(-1, 1)\n",
    "enr_std = enr_cohort_scores.std(1).reshape(-1, 1)\n",
    "test_mean = test_cohort_scores.mean(1).reshape(1, -1)\n",
    "test_std = test_cohort_scores.std(1).reshape(1, -1)\n",
    "\n",
    "norm_scores = ((total_test_scores - enr_mean)/enr_std + (total_test_scores - test_mean)/test_std)/2\n",
    "eer, fpr, fnr, thres = compute_eer(norm_scores.mean(0), test_trial[1])\n",
    "print(\"[total] eer={:.4f}, fpr={:.4f}, fnr={:.4f}, threshold={:.4f}\".format(eer, fpr, fnr, thres))"
   ]
  },
  {
   "cell_type": "markdown",
   "metadata": {},
   "source": [
    "## Searching the best enrollmnet"
   ]
  },
  {
   "cell_type": "code",
   "execution_count": 109,
   "metadata": {},
   "outputs": [
    {
     "data": {
      "text/plain": [
       "<matplotlib.collections.PathCollection at 0x7f1d3b103550>"
      ]
     },
     "execution_count": 109,
     "metadata": {},
     "output_type": "execute_result"
    },
    {
     "data": {
      "image/png": "[encoded data removed]",
      "text/plain": [
       "<Figure size 2160x720 with 1 Axes>"
      ]
     },
     "metadata": {},
     "output_type": "display_data"
    }
   ],
   "source": [
    "test_labels = np.array(test_trial[1])\n",
    "scores_subset = total_test_scores[0:5, -20:]\n",
    "labels_subset = test_labels[-20:]\n",
    "plt.figure(figsize=(30, 10))\n",
    "x = np.arange(scores_subset.shape[1])\n",
    "ys = scores_subset\n",
    "colors = cm.rainbow(np.linspace(0, 1, len(ys)))\n",
    "s_set = []\n",
    "for y, c in zip(ys, colors):\n",
    "    s = plt.scatter(x, y, color=c)\n",
    "    s_set.append(s)\n",
    "plt.legend(s_set, range(len(s_set)))\n",
    "y_mean = scores_subset.mean(0)\n",
    "plt.scatter(x[labels_subset==1], y_mean[labels_subset==1], marker='+', s=200, color='r')\n",
    "plt.scatter(x[labels_subset==0], y_mean[labels_subset==0], marker='+', s=200, color='b')"
   ]
  },
  {
   "cell_type": "code",
   "execution_count": 493,
   "metadata": {},
   "outputs": [
    {
     "data": {
      "text/plain": [
       "(0.047, 0.047, 0.0464177598385469, 0.003913938999176025)"
      ]
     },
     "execution_count": 493,
     "metadata": {},
     "output_type": "execute_result"
    }
   ],
   "source": [
    "compute_eer(neg_test_scores, labels)"
   ]
  },
  {
   "cell_type": "code",
   "execution_count": 65,
   "metadata": {},
   "outputs": [
    {
     "data": {
      "text/plain": [
       "19562634"
      ]
     },
     "execution_count": 65,
     "metadata": {},
     "output_type": "execute_result"
    }
   ],
   "source": [
    "len(test_scores)"
   ]
  },
  {
   "cell_type": "code",
   "execution_count": 66,
   "metadata": {},
   "outputs": [
    {
     "data": {
      "text/plain": [
       "0.7150537634408602"
      ]
     },
     "execution_count": 66,
     "metadata": {},
     "output_type": "execute_result"
    }
   ],
   "source": [
    "133/186"
   ]
  },
  {
   "cell_type": "code",
   "execution_count": null,
   "metadata": {},
   "outputs": [],
   "source": []
  }
 ],
 "metadata": {
  "kernelspec": {
   "display_name": "Python 3",
   "language": "python",
   "name": "python3"
  },
  "language_info": {
   "codemirror_mode": {
    "name": "ipython",
    "version": 3
   },
   "file_extension": ".py",
   "mimetype": "text/x-python",
   "name": "python",
   "nbconvert_exporter": "python",
   "pygments_lexer": "ipython3",
   "version": "3.6.5"
  }
 },
 "nbformat": 4,
 "nbformat_minor": 2
}
