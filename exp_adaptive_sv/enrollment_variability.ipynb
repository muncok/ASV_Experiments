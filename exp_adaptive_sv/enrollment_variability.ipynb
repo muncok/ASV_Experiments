{
 "cells": [
  {
   "cell_type": "markdown",
   "metadata": {},
   "source": [
    "# Enrollment Variability "
   ]
  },
  {
   "cell_type": "markdown",
   "metadata": {},
   "source": [
    "## Searching the best enrollmnet"
   ]
  },
  {
   "cell_type": "code",
   "execution_count": null,
   "metadata": {},
   "outputs": [],
   "source": [
    "test_labels = np.array(test_trial[1])\n",
    "scores_subset = total_test_scores[0:5, -20:]\n",
    "labels_subset = test_labels[-20:]\n",
    "plt.figure(figsize=(30, 10))\n",
    "x = np.arange(scores_subset.shape[1])\n",
    "ys = scores_subset\n",
    "colors = cm.rainbow(np.linspace(0, 1, len(ys)))\n",
    "s_set = []\n",
    "for y, c in zip(ys, colors):\n",
    "    s = plt.scatter(x, y, color=c)\n",
    "    s_set.append(s)\n",
    "plt.legend(s_set, range(len(s_set)))\n",
    "y_mean = scores_subset.mean(0)\n",
    "plt.scatter(x[labels_subset==1], y_mean[labels_subset==1], marker='+', s=200, color='r')\n",
    "plt.scatter(x[labels_subset==0], y_mean[labels_subset==0], marker='+', s=200, color='b')"
   ]
  },
  {
   "cell_type": "code",
   "execution_count": null,
   "metadata": {},
   "outputs": [],
   "source": []
  }
 ],
 "metadata": {
  "kernelspec": {
   "display_name": "Python 3",
   "language": "python",
   "name": "python3"
  },
  "language_info": {
   "codemirror_mode": {
    "name": "ipython",
    "version": 3
   },
   "file_extension": ".py",
   "mimetype": "text/x-python",
   "name": "python",
   "nbconvert_exporter": "python",
   "pygments_lexer": "ipython3",
   "version": "3.6.5"
  }
 },
 "nbformat": 4,
 "nbformat_minor": 2
}
