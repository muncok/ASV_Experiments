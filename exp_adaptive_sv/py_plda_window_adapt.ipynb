{
 "cells": [
  {
   "cell_type": "markdown",
   "metadata": {},
   "source": [
    "# py_plda window-based progressive adapt\n",
    "\n",
    "window안에서 순처적으로 progressive하게 adaptation"
   ]
  },
  {
   "cell_type": "code",
   "execution_count": 11,
   "metadata": {},
   "outputs": [
    {
     "name": "stdout",
     "output_type": "stream",
     "text": [
      "The autoreload extension is already loaded. To reload it, use:\n",
      "  %reload_ext autoreload\n",
      "Using matplotlib backend: TkAgg\n",
      "Populating the interactive namespace from numpy and matplotlib\n"
     ]
    }
   ],
   "source": [
    "%load_ext autoreload\n",
    "%autoreload 2\n",
    "%pylab\n",
    "%matplotlib inline\n",
    "\n",
    "import os\n",
    "import sys\n",
    "import pandas as pd\n",
    "import pickle\n",
    "import numpy as np\n",
    "from tqdm import tqdm"
   ]
  },
  {
   "cell_type": "code",
   "execution_count": 2,
   "metadata": {},
   "outputs": [],
   "source": [
    "from batch_sv_system import get_embeds, cosine_sim\n",
    "from sklearn.metrics import roc_auc_score\n",
    "from sklearn.metrics import average_precision_score\n",
    "from sklearn.metrics import precision_recall_fscore_support"
   ]
  },
  {
   "cell_type": "code",
   "execution_count": 3,
   "metadata": {},
   "outputs": [],
   "source": [
    "from utils import key2df, df2dict, compute_eer, get_id2idx\n",
    "\n",
    "embed_dir = \"embeddings/voxc2_fbank64_voxc2untied_300f_xvector/\"\n",
    "sv_embeds = np.load(embed_dir + \"ln_lda_sv_embeds.npy\")\n",
    "sv_keys = pickle.load(open(embed_dir + \"/sv_keys.pkl\", \"rb\"))\n",
    "sv_id2idx = get_id2idx(sv_keys)\n",
    "\n",
    "cohort_ids = np.load(\"trials/dev940_eval311/dev_cohort_ids.npy\")\n",
    "cohort_embeds = get_embeds(cohort_ids, sv_embeds, sv_id2idx, norm=False)"
   ]
  },
  {
   "cell_type": "code",
   "execution_count": 4,
   "metadata": {},
   "outputs": [],
   "source": [
    "from ioffe_plda.verifier import Verifier\n",
    "py_plda_model = Verifier()\n",
    "py_plda_model = Verifier(pickle.load(open(\"py_plda_model_ln_lda.pkl\", \"rb\")))"
   ]
  },
  {
   "cell_type": "code",
   "execution_count": 5,
   "metadata": {},
   "outputs": [],
   "source": [
    "def score_trials(enr_embeds, test_embeds, score_method):\n",
    "        if score_method == \"scoreAvg\":\n",
    "            score = py_plda_model.score_avg(enr_embeds, test_embeds).mean(0)\n",
    "        elif score_method == \"vectorAvg\":\n",
    "            score = py_plda_model.vector_avg(enr_embeds, test_embeds).mean(0)\n",
    "        elif score_method == \"multiSessScale\":\n",
    "            score = py_plda_model.multi_sess(enr_embeds, test_embeds, cov_scaling=True).mean(0)\n",
    "        elif score_method == \"multiSessAdapt\":\n",
    "            score = py_plda_model.multi_sess(enr_embeds, test_embeds, cov_adapt=True).mean(0)\n",
    "        else:\n",
    "            raise NotImplemtedError\n",
    "        \n",
    "        return score"
   ]
  },
  {
   "cell_type": "code",
   "execution_count": 6,
   "metadata": {},
   "outputs": [],
   "source": [
    "def plot_sorted_scores(scores, labels, sorting=False):\n",
    "    if sorting:\n",
    "        sorted_idx = np.flip(np.argsort(scores))\n",
    "        scores = scores[sorted_idx]\n",
    "        labels = labels[sorted_idx]\n",
    "    plt.figure(figsize=[5, 5])\n",
    "    plt.subplot(2,1,1)\n",
    "    plt.plot(scores)\n",
    "    plt.subplot(2,1,2)\n",
    "    plt.scatter(np.arange(len(labels)), labels)\n",
    "    plt.show()"
   ]
  },
  {
   "cell_type": "code",
   "execution_count": 7,
   "metadata": {},
   "outputs": [],
   "source": [
    "from sklearn.metrics import precision_recall_curve\n",
    "import matplotlib.pyplot as plt\n",
    "from sklearn.utils.fixes import signature\n",
    "\n",
    "def plot_prec_recall(scores, labels, label=None, points=None): \n",
    "    # In matplotlib < 1.5, plt.fill_between does not have a 'step' argument\n",
    "    step_kwargs = ({'step': 'post'}\n",
    "                   if 'step' in signature(plt.fill_between).parameters\n",
    "                   else {})\n",
    "\n",
    "    prec, recall, ths = precision_recall_curve(labels, scores)\n",
    "    mAP = average_precision_score(labels, scores)\n",
    "\n",
    "    plt.figure(figsize=[5,5])\n",
    "    plt.step(recall, prec, color='b', alpha=1.0, where='post', label=label)\n",
    "    plt.fill_between(recall, prec, alpha=0.3, color='b', **step_kwargs)\n",
    "    \n",
    "    if points:\n",
    "        for point in points:\n",
    "            plt.annotate(\"recall:{:.3f}, prec:{:.3f}\".format(point[0], point[1]),\n",
    "                         xy=point, xycoords='data', xytext=(-90, -50),\n",
    "                         textcoords='offset points',\n",
    "                         fontsize=8, arrowprops=dict(arrowstyle=\"->\", color=\"r\"), color=\"r\")\n",
    "\n",
    "    if label is not None:\n",
    "        plt.legend()\n",
    "    plt.xlabel('Recall')\n",
    "    plt.ylabel('Precision')\n",
    "    plt.ylim([0.0, 1.05])\n",
    "    plt.xlim([0.0, 1.0])\n",
    "    plt.title(\"mAP:{:.3f}\".format(mAP))\n",
    "    plt.show()"
   ]
  },
  {
   "cell_type": "markdown",
   "metadata": {},
   "source": [
    "## Read Trials "
   ]
  },
  {
   "cell_type": "code",
   "execution_count": 8,
   "metadata": {},
   "outputs": [],
   "source": [
    "adapt_trials = pickle.load(open(\"trials/dev940_eval311/split_trials/adapt_len300_enr3_ptar0.1_cluster_trials.pkl\", \"rb\"))\n",
    "test_trials = pickle.load(open(\"trials/dev940_eval311/split_trials/test_random_trials.pkl\", \"rb\"))\n",
    "\n",
    "adapt_label_list = [tr[-1].label.tolist() for tr in adapt_trials]\n",
    "adapt_total_labels = np.concatenate(adapt_label_list)\n",
    "test_label_list = [test_trials[tr[0]['spk']].label.tolist() for tr in adapt_trials]\n",
    "test_total_labels = np.concatenate(test_label_list)"
   ]
  },
  {
   "cell_type": "markdown",
   "metadata": {},
   "source": [
    "## Window-based progressive adaptation "
   ]
  },
  {
   "cell_type": "code",
   "execution_count": 9,
   "metadata": {},
   "outputs": [],
   "source": [
    "# load score_dcit\n",
    "\n",
    "# score_dict = pickle.load(open(\"trials/dev940_eval311/split_trials/adapt_enr1_hard0.7_trials_varyTar_nostop_result.pkl\", \"rb\"))\n",
    "# base_adapt_score_list = score_dict[\"base_score\"]\n",
    "# base_adapt_label_list = score_dict[\"base_label\"]\n",
    "# prog_adapt_score_list = score_dict[\"prog_score\"]\n",
    "# prog_adapt_label_list = score_dict[\"prog_label\"]"
   ]
  },
  {
   "cell_type": "code",
   "execution_count": 12,
   "metadata": {},
   "outputs": [],
   "source": [
    "stop_eT = 3.1\n",
    "step_s = 3\n",
    "\n",
    "base_adapt_score_list = []\n",
    "base_adapt_label_list = []\n",
    "prog_adapt_score_list = []\n",
    "prog_adapt_label_list = []\n",
    "prog_adapt_idx_list = []\n",
    "prog_enr_label_list = []\n",
    "\n",
    "# for t_i in tqdm(range(len(adapt_trials)), total=len(adapt_trials)):\n",
    "for t_i in range(1):\n",
    "    trial_info, enr_ids, adapt_trial = adapt_trials[t_i] \n",
    "    adapt_trial = (np.array(adapt_trial.id), np.array(adapt_trial.label))\n",
    "\n",
    "    base_adapt_scores = []\n",
    "    base_adapt_labels = []\n",
    "    prog_adapt_scores = []\n",
    "    prog_adapt_labels = []\n",
    "    prog_adapt_idx = []\n",
    "    prog_enr_labels = []\n",
    "    \n",
    "    init_enr_embeds = get_embeds(enr_ids, sv_embeds,  sv_id2idx, norm=False)\n",
    "    adapt_embeds = get_embeds(adapt_trial[0], sv_embeds, sv_id2idx, norm=False)\n",
    "    \n",
    "    adapt_scores = score_trials(init_enr_embeds, adapt_embeds, \"multiSessScale\")\n",
    "    \n",
    "    candt_idx = np.arange(len(adapt_trial[0]))\n",
    "    \n",
    "    base_adapt_scores.append(adapt_scores[candt_idx])\n",
    "    base_adapt_labels.append(adapt_trial[1][candt_idx])\n",
    "    \n",
    "    candt_sorted_idx = np.flip(np.argsort(adapt_scores[candt_idx]))\n",
    "    candt_idx = candt_idx[candt_sorted_idx]\n",
    "    candt_scores = adapt_scores[candt_idx]\n",
    "    candt_labels = adapt_trial[1][candt_idx]\n",
    "    candt_embeds = adapt_embeds[candt_idx]\n",
    "\n",
    "    enr_embeds = init_enr_embeds\n",
    "        \n",
    "    while(len(candt_embeds) > 0):\n",
    "        stop_scores = score_trials(enr_embeds, candt_embeds[:step_s], \"multiSessScale\")\n",
    "        prog_adapt_scores.append(stop_scores)\n",
    "        prog_adapt_labels += candt_labels[:step_s].tolist()\n",
    "        prog_adapt_idx.append(candt_idx[:step_s])\n",
    "\n",
    "        # expand enr_embeds\n",
    "        enr_embeds = np.concatenate([enr_embeds, candt_embeds[:step_s][stop_scores > stop_eT]])\n",
    "        prog_enr_labels += candt_labels[:step_s][stop_scores > stop_eT].tolist()\n",
    "\n",
    "        # update candt embeds and labels\n",
    "        scores = score_trials(enr_embeds, candt_embeds[step_s:], \"multiSessScale\")\n",
    "        candt_sorted_idx = np.flip(np.argsort(scores))\n",
    "        candt_embeds = candt_embeds[step_s:][candt_sorted_idx]\n",
    "        candt_labels = candt_labels[step_s:][candt_sorted_idx]\n",
    "        candt_idx = candt_idx[candt_sorted_idx]\n",
    "        \n",
    "    base_adapt_score_list += [np.concatenate(base_adapt_scores)]\n",
    "    base_adapt_label_list += [np.concatenate(base_adapt_labels)]\n",
    "    prog_adapt_score_list += [np.concatenate(prog_adapt_scores)]\n",
    "    prog_adapt_label_list += [np.array(prog_adapt_labels)]\n",
    "    prog_adapt_idx_list += [np.concatenate(prog_adapt_idx)]\n",
    "    prog_enr_label_list += [np.array(prog_enr_labels)]"
   ]
  },
  {
   "cell_type": "code",
   "execution_count": null,
   "metadata": {},
   "outputs": [],
   "source": [
    "print(f\"len_window:{len_window}, hop_window:{hop_window}\")\n",
    "print(\"[dynamic] macro prec:{:.3f}, recall:{:.3f}\".format(np.mean(prec_list), np.mean(recall_list)))\n",
    "print(\"[dynamic] micro prec:{:.3f}, recall:{:.3f}\".format(n_true_adapts/(n_true_adapts+n_false_adapts), n_true_adapts/n_tars))"
   ]
  },
  {
   "cell_type": "code",
   "execution_count": null,
   "metadata": {},
   "outputs": [],
   "source": [
    "print(\"[static, 10] macro prec:{:.3f}, recall:{:.3f}\".format(np.mean(prec_list), np.mean(recall_list)))\n",
    "print(\"[static, 10] micro prec:{:.3f}, recall:{:.3f}\".format(n_true_adapts/(n_true_adapts+n_false_adapts), n_true_adapts/n_tars))"
   ]
  },
  {
   "cell_type": "code",
   "execution_count": null,
   "metadata": {},
   "outputs": [],
   "source": [
    "print(\"[static, 15] macro prec:{:.3f}, recall:{:.3f}\".format(np.mean(prec_list), np.mean(recall_list)))\n",
    "print(\"[static, 15] micro prec:{:.3f}, recall:{:.3f}\".format(n_true_adapts/(n_true_adapts+n_false_adapts), n_true_adapts/n_tars))"
   ]
  },
  {
   "cell_type": "code",
   "execution_count": 14,
   "metadata": {},
   "outputs": [
    {
     "name": "stdout",
     "output_type": "stream",
     "text": [
      "[enr_embeds] prec:1.000 , recall:0.867\n"
     ]
    }
   ],
   "source": [
    "t_i = 0\n",
    "enr_prec = np.mean(prog_enr_label_list[t_i])\n",
    "enr_recall = prog_enr_label_list[t_i].sum()/ base_adapt_label_list[t_i].sum()\n",
    "print(\"[enr_embeds] prec:{:.3f} , recall:{:.3f}\".format(enr_prec, enr_recall))"
   ]
  },
  {
   "cell_type": "code",
   "execution_count": null,
   "metadata": {},
   "outputs": [],
   "source": [
    "enr_prec = np.concatenate(prog_enr_label_list).mean()\n",
    "enr_recall = np.concatenate(prog_enr_label_list).sum()/ np.concatenate(base_adapt_label_list).sum()\n",
    "print(\"[enr_embeds] prec:{:.3f} , recall:{:.3f}\".format(enr_prec, enr_recall))"
   ]
  },
  {
   "cell_type": "code",
   "execution_count": 13,
   "metadata": {},
   "outputs": [
    {
     "data": {
      "image/png": "[encoded data removed]",
      "text/plain": [
       "<Figure size 360x360 with 1 Axes>"
      ]
     },
     "metadata": {},
     "output_type": "display_data"
    },
    {
     "data": {
      "image/png": "[encoded data removed]",
      "text/plain": [
       "<Figure size 360x360 with 1 Axes>"
      ]
     },
     "metadata": {},
     "output_type": "display_data"
    }
   ],
   "source": [
    "plot_prec_recall(np.concatenate(base_adapt_score_list), np.concatenate(base_adapt_label_list))\n",
    "plot_prec_recall(np.concatenate(prog_adapt_score_list), np.concatenate(prog_adapt_label_list))"
   ]
  },
  {
   "cell_type": "code",
   "execution_count": 15,
   "metadata": {},
   "outputs": [
    {
     "data": {
      "image/png": "[encoded data removed]",
      "text/plain": [
       "<Figure size 360x360 with 2 Axes>"
      ]
     },
     "metadata": {},
     "output_type": "display_data"
    }
   ],
   "source": [
    "t_i = 0\n",
    "plot_sorted_scores(base_adapt_score_list[t_i], base_adapt_label_list[t_i], sorting=True)"
   ]
  },
  {
   "cell_type": "code",
   "execution_count": 16,
   "metadata": {},
   "outputs": [
    {
     "ename": "NameError",
     "evalue": "name 'smooth_score_list' is not defined",
     "output_type": "error",
     "traceback": [
      "\u001b[0;31m---------------------------------------------------------------------------\u001b[0m",
      "\u001b[0;31mNameError\u001b[0m                                 Traceback (most recent call last)",
      "\u001b[0;32m<ipython-input-16-4be35af3965a>\u001b[0m in \u001b[0;36m<module>\u001b[0;34m()\u001b[0m\n\u001b[1;32m      1\u001b[0m \u001b[0mt_i\u001b[0m \u001b[0;34m=\u001b[0m \u001b[0;36m0\u001b[0m\u001b[0;34m\u001b[0m\u001b[0m\n\u001b[1;32m      2\u001b[0m \u001b[0mplt\u001b[0m\u001b[0;34m.\u001b[0m\u001b[0mfigure\u001b[0m\u001b[0;34m(\u001b[0m\u001b[0mfigsize\u001b[0m\u001b[0;34m=\u001b[0m\u001b[0;34m[\u001b[0m\u001b[0;36m5\u001b[0m\u001b[0;34m,\u001b[0m \u001b[0;36m5\u001b[0m\u001b[0;34m]\u001b[0m\u001b[0;34m)\u001b[0m\u001b[0;34m\u001b[0m\u001b[0m\n\u001b[0;32m----> 3\u001b[0;31m \u001b[0mplt\u001b[0m\u001b[0;34m.\u001b[0m\u001b[0mplot\u001b[0m\u001b[0;34m(\u001b[0m\u001b[0msmooth_score_list\u001b[0m\u001b[0;34m[\u001b[0m\u001b[0mt_i\u001b[0m\u001b[0;34m]\u001b[0m\u001b[0;34m)\u001b[0m\u001b[0;34m\u001b[0m\u001b[0m\n\u001b[0m\u001b[1;32m      4\u001b[0m \u001b[0mplot_sorted_scores\u001b[0m\u001b[0;34m(\u001b[0m\u001b[0mprog_adapt_score_list\u001b[0m\u001b[0;34m[\u001b[0m\u001b[0mt_i\u001b[0m\u001b[0;34m]\u001b[0m\u001b[0;34m,\u001b[0m \u001b[0mprog_adapt_label_list\u001b[0m\u001b[0;34m[\u001b[0m\u001b[0mt_i\u001b[0m\u001b[0;34m]\u001b[0m\u001b[0;34m)\u001b[0m\u001b[0;34m\u001b[0m\u001b[0m\n\u001b[1;32m      5\u001b[0m \u001b[0mplot_prec_recall\u001b[0m\u001b[0;34m(\u001b[0m\u001b[0mprog_adapt_score_list\u001b[0m\u001b[0;34m[\u001b[0m\u001b[0mt_i\u001b[0m\u001b[0;34m]\u001b[0m\u001b[0;34m,\u001b[0m \u001b[0mprog_adapt_label_list\u001b[0m\u001b[0;34m[\u001b[0m\u001b[0mt_i\u001b[0m\u001b[0;34m]\u001b[0m\u001b[0;34m)\u001b[0m\u001b[0;34m\u001b[0m\u001b[0m\n",
      "\u001b[0;31mNameError\u001b[0m: name 'smooth_score_list' is not defined"
     ]
    },
    {
     "data": {
      "text/plain": [
       "<Figure size 360x360 with 0 Axes>"
      ]
     },
     "metadata": {},
     "output_type": "display_data"
    }
   ],
   "source": [
    "t_i = 0\n",
    "plt.figure(figsize=[5, 5])\n",
    "plt.plot(smooth_score_list[t_i])\n",
    "plot_sorted_scores(prog_adapt_score_list[t_i], prog_adapt_label_list[t_i])\n",
    "plot_prec_recall(prog_adapt_score_list[t_i], prog_adapt_label_list[t_i])"
   ]
  },
  {
   "cell_type": "code",
   "execution_count": null,
   "metadata": {},
   "outputs": [],
   "source": [
    "df = adapt_trials[0][-1]"
   ]
  },
  {
   "cell_type": "markdown",
   "metadata": {},
   "source": [
    "### test trial "
   ]
  },
  {
   "cell_type": "code",
   "execution_count": null,
   "metadata": {},
   "outputs": [],
   "source": [
    "test_score_list = []\n",
    "test_label_list = []\n",
    "for t_i in range(len(prog_adapt_post_idx)):\n",
    "    trial_info, enr_ids, adapt_trial = adapt_trials[t_i] \n",
    "    adapt_trial = (np.array(adapt_trial.id), np.array(adapt_trial.label))\n",
    "    \n",
    "    test_trial = test_trials[trial_info['spk']]\n",
    "    test_trial = (np.array(test_trial.id), np.array(test_trial.label))\n",
    "    \n",
    "    init_enr_embeds = get_embeds(enr_ids, sv_embeds,  sv_id2idx, norm=False)\n",
    "    adapt_embeds = get_embeds(adapt_trial[0], sv_embeds, sv_id2idx, norm=False)\n",
    "    test_embeds = get_embeds(test_trial[0], sv_embeds, sv_id2idx, norm=False)\n",
    "    \n",
    "#     prog_enr_embeds = adapt_embeds[prog_adapt_idx_list[t_i]]\n",
    "    prog_enr_embeds = np.concatenate([init_enr_embeds, adapt_embeds[prog_adapt_post_idx[t_i]]])\n",
    "    test_scores = score_trials(prog_enr_embeds, test_embeds, \"multiSessScale\")\n",
    "    test_score_list.append(test_scores)\n",
    "    test_label_list.append(test_trial[1])\n",
    "\n",
    "compute_eer(np.concatenate(test_score_list), np.concatenate(test_label_list))"
   ]
  },
  {
   "cell_type": "code",
   "execution_count": null,
   "metadata": {},
   "outputs": [],
   "source": [
    "pickle.dump({\"base_score\":base_adapt_score_list, \"base_label\":base_adapt_label_list, \"prog_score\":prog_adapt_score_list, \"prog_label\":prog_adapt_label_list, \"prog_adapt_idx\":prog_adapt_idx_list}, \n",
    "            open(\"trials/dev940_eval311/split_trials/adapt_enr1_hard_nostop_result.pkl\", \"wb\"))"
   ]
  },
  {
   "cell_type": "markdown",
   "metadata": {},
   "source": [
    "## Adaptation Performance "
   ]
  },
  {
   "cell_type": "markdown",
   "metadata": {},
   "source": [
    "### Base Adapt"
   ]
  },
  {
   "cell_type": "code",
   "execution_count": null,
   "metadata": {},
   "outputs": [],
   "source": [
    "eT_list = [-4.26, 3.1, 10.32]\n",
    "# eT_list = [-4.26]\n",
    "\n",
    "base_pred_list = {k:[] for k in eT_list}\n",
    "base_adapt_score_list = []\n",
    "base_enr_embeds = {k:[] for k in eT_list}\n",
    "\n",
    "for t_i in tqdm(range(0, len(adapt_trials), 1), total=len(adapt_trials)//1):\n",
    "    trial_info, enr_ids, adapt_trial = adapt_trials[t_i] \n",
    "    \n",
    "    adapt_trial = (np.array(adapt_trial.id), np.array(adapt_trial.label))\n",
    "\n",
    "    init_enr_embeds = get_embeds(enr_ids, sv_embeds,  sv_id2idx, norm=False)\n",
    "    adapt_embeds = get_embeds(adapt_trial[0], sv_embeds, sv_id2idx, norm=False) \n",
    "    adapt_scores = score_trials(init_enr_embeds, adapt_embeds, \"multiSessScale\")\n",
    "    \n",
    "    base_adapt_score_list.append(adapt_scores)\n",
    "    for eT in eT_list:\n",
    "        base_preds = adapt_scores > eT\n",
    "        base_pred_list[eT].append(base_preds)\n",
    "                              \n",
    "        adapted_embeds = adapt_embeds[base_preds]\n",
    "        enr_embeds = np.concatenate([init_enr_embeds, adapted_embeds])\n",
    "        base_enr_embeds[eT].append(enr_embeds)"
   ]
  },
  {
   "cell_type": "code",
   "execution_count": null,
   "metadata": {},
   "outputs": [],
   "source": [
    "base_test_score_list = {k:[] for k in eT_list}\n",
    "for t_i in tqdm(range(0, len(adapt_trials), 1), total=len(adapt_trials)//1):\n",
    "    trial_info, enr_ids, adapt_trial = adapt_trials[t_i] \n",
    "    test_trial = test_trials[trial_info['spk']]\n",
    "    test_trial = (np.array(test_trial.id), np.array(test_trial.label))\n",
    "    test_embeds = get_embeds(test_trial[0], sv_embeds, sv_id2idx, norm=False)\n",
    "\n",
    "    for eT in eT_list:\n",
    "        enr_embeds = base_enr_embeds[eT][t_i]\n",
    "        \n",
    "        test_scores = score_trials(enr_embeds, test_embeds, \"multiSessScale\")\n",
    "    \n",
    "        ## weighting\n",
    "#         weights = base_adapt_score_list[eT][t_i]\n",
    "#         n_init = len(enr_embeds) - len(weights) \n",
    "#         weights = np.concatenate([[weights.max()]*n_init, weights])\n",
    "#         test_scores = py_plda_model.multi_sess(enr_embeds, test_embeds, weights=weights, cov_scaling=True).mean(0)\n",
    "\n",
    "        base_test_score_list[eT].append(test_scores)"
   ]
  },
  {
   "cell_type": "code",
   "execution_count": null,
   "metadata": {},
   "outputs": [],
   "source": [
    "base_recall_prec= {}\n",
    "for eT in eT_list:\n",
    "    precision, recall, _, _ = precision_recall_fscore_support(\n",
    "        adapt_total_labels, np.concatenate(base_pred_list[eT]), average='binary') \n",
    "    eer, _, _, ths = compute_eer(np.concatenate(base_test_score_list[eT]), test_total_labels, verbose=False)\n",
    "    print(\"eT:{:.3f}, prec:{:.3f}, recall:{:.3f} EER:{:.5f}, THS:{:.3f}\".format(eT, precision, recall, eer, ths))\n",
    "    base_recall_prec[eT] = (recall, precision)"
   ]
  },
  {
   "cell_type": "code",
   "execution_count": null,
   "metadata": {},
   "outputs": [],
   "source": [
    "from utils import compute_error\n",
    "for eT in eT_list:\n",
    "    preds = [scores > eT for scores in base_test_score_list[eT]]\n",
    "    errors = compute_error(np.concatenate(preds), test_total_labels, verbose=False)\n",
    "    print(\"eT:{}, ERROR:{:.3f}, FPR:{:.3f}, FNR:{:.3f}\".format(eT, errors['error'], errors['fpr'], errors['fnr']))"
   ]
  },
  {
   "cell_type": "code",
   "execution_count": null,
   "metadata": {},
   "outputs": [],
   "source": [
    "# individual prec and recall\n",
    "for eT in eT_list:\n",
    "    base_results = {\"prec\":[], \"recall\":[], \"eer\":[], \"fscore\":[]}\n",
    "    for i in range(len(adapt_label_list)):\n",
    "        precision, recall, fscore, _ = precision_recall_fscore_support(\n",
    "            adapt_label_list[i], base_pred_list[eT][i], average='binary')\n",
    "        base_results['prec'].append(precision)\n",
    "        base_results['recall'].append(recall)\n",
    "        base_results['fscore'].append(fscore)\n",
    "\n",
    "        test_scores = base_test_score_list[eT][i]\n",
    "        test_labels = test_label_list[i]\n",
    "        eer, _, _, ths = compute_eer(test_scores, test_labels, verbose=False)\n",
    "        base_results['eer'].append(eer)\n",
    "\n",
    "    #     print(\"eT:{}, precision:{:.3f}, recall:{:.3f}, EER:{:.3f}%, THS:{:.2f}\".format(eT, precision, recall, eer, ths))\n",
    "\n",
    "    print(\"[{}] avg_prec = {:.3f}, avg_recall = {:.3f}, avg_fscore = {:.3f}\".format(eT, np.mean(base_results['prec']), np.mean(base_results['recall']),  np.mean(base_results['fscore']) ))"
   ]
  },
  {
   "cell_type": "markdown",
   "metadata": {},
   "source": [
    "### Progressive Adapt "
   ]
  },
  {
   "cell_type": "code",
   "execution_count": null,
   "metadata": {},
   "outputs": [],
   "source": [
    "base_adapt_scores = []\n",
    "base_adapt_labels = []\n",
    "prog_adapt_scores = []\n",
    "prog_adapt_labels = []\n",
    "\n",
    "prog_enr_labels = []\n",
    "\n",
    "stop_eT = 3.1\n",
    "\n",
    "for t_i in tqdm(range(0, len(adapt_trials), 1), total=len(adapt_trials)//1):\n",
    "    trial_info, enr_ids, adapt_trial = adapt_trials[t_i] \n",
    "    \n",
    "    \n",
    "    adapt_trial = (np.array(adapt_trial.id), np.array(adapt_trial.label))\n",
    "\n",
    "    init_enr_embeds = get_embeds(enr_ids, sv_embeds,  sv_id2idx, norm=False)\n",
    "    adapt_embeds = get_embeds(adapt_trial[0], sv_embeds, sv_id2idx, norm=False)\n",
    "    \n",
    "    adapt_scores = score_trials(init_enr_embeds, adapt_embeds, \"multiSessScale\")\n",
    "    \n",
    "    candt_idx = np.arange(len(adapt_trial[0]))\n",
    "#     candt_idx = np.nonzero(adapt_scores > stop_eT)[0]\n",
    "    \n",
    "    base_adapt_scores.append(adapt_scores[candt_idx])\n",
    "    base_adapt_labels.append(adapt_trial[1][candt_idx])\n",
    "    \n",
    "    candt_sorted_idx = np.flip(np.argsort(adapt_scores[candt_idx]))\n",
    "    candt_scores = adapt_scores[candt_idx][candt_sorted_idx]\n",
    "    candt_labels = adapt_trial[1][candt_idx][candt_sorted_idx]\n",
    "    candt_embeds = adapt_embeds[candt_idx][candt_sorted_idx]\n",
    "\n",
    "    step_s = 5\n",
    "    enr_embeds = init_enr_embeds\n",
    "        \n",
    "    while(len(candt_embeds) > 0):\n",
    "        # check stop criterion\n",
    "#         stop_scores = score_trials(candt_embeds[:step_s], enr_embeds, \"multiSessScale\")\n",
    "        stop_scores = score_trials(enr_embeds, candt_embeds[:step_s], \"multiSessScale\")\n",
    "        prog_adapt_scores.append(stop_scores)\n",
    "        prog_adapt_labels += candt_labels[:step_s].tolist()\n",
    "\n",
    "        # expand enr_embeds\n",
    "        enr_embeds = np.concatenate([enr_embeds, candt_embeds[:step_s][stop_scores > eT]])\n",
    "\n",
    "        # update candt embeds and labels\n",
    "        scores = score_trials(enr_embeds, candt_embeds[step_s:], \"multiSessScale\")\n",
    "        candt_sorted_idx = np.flip(np.argsort(scores))\n",
    "        candt_embeds = candt_embeds[step_s:][candt_sorted_idx]\n",
    "        candt_labels = candt_labels[step_s:][candt_sorted_idx]\n",
    "\n",
    "#         candt_embeds = candt_embeds[step_s:]\n",
    "#         candt_labels = candt_labels[step_s:]\n",
    "\n",
    "base_adapt_scores = np.concatenate(base_adapt_scores)\n",
    "base_adapt_labels = np.concatenate(base_adapt_labels)\n",
    "prog_adapt_scores = np.concatenate(prog_adapt_scores)\n",
    "prog_adapt_labels = np.array(prog_adapt_labels)"
   ]
  },
  {
   "cell_type": "code",
   "execution_count": null,
   "metadata": {},
   "outputs": [],
   "source": [
    "prog_test_score_list = {k:[] for k in eT_list}\n",
    "for t_i in tqdm(range(0, len(adapt_trials), 1), total=len(adapt_trials)//1):\n",
    "    trial_info, enr_ids, adapt_trial = adapt_trials[t_i] \n",
    "    test_trial = test_trials[trial_info['spk']]\n",
    "    test_trial = (np.array(test_trial.id), np.array(test_trial.label))\n",
    "    test_embeds = get_embeds(test_trial[0], sv_embeds, sv_id2idx, norm=False)\n",
    "\n",
    "    for eT in eT_list:\n",
    "        enr_embeds = prog_enr_embeds[eT][t_i]\n",
    "        test_scores = score_trials(enr_embeds, test_embeds, \"multiSessScale\")\n",
    "        prog_test_score_list[eT].append(test_scores)"
   ]
  },
  {
   "cell_type": "code",
   "execution_count": null,
   "metadata": {},
   "outputs": [],
   "source": [
    "n_tars = adapt_total_labels.sum()\n",
    "prog_recall_prec = {}\n",
    "for eT in eT_list:\n",
    "    n_true_adapts = np.sum(prog_true_adapts[eT])\n",
    "    n_false_adapts = np.sum(prog_false_adapts[eT])\n",
    "    precision = n_true_adapts / (n_true_adapts + n_false_adapts)\n",
    "    recall = n_true_adapts / n_tars \n",
    "    \n",
    "    eer, _, _, ths = compute_eer(np.concatenate(prog_test_score_list[eT]), test_total_labels, verbose=False)\n",
    "    \n",
    "    print(\"eT:{:.3f}, prec:{:.3f}, recall:{:.3f} EER:{:.5f}, THS:{:.3f}\".format(eT, precision, recall, eer, ths))\n",
    "    prog_recall_prec[eT] = (recall, precision)"
   ]
  },
  {
   "cell_type": "code",
   "execution_count": null,
   "metadata": {},
   "outputs": [],
   "source": [
    "from utils import compute_error\n",
    "for eT in eT_list:\n",
    "    preds = [scores > eT for scores in prog_test_score_list[eT]]\n",
    "    errors = compute_error(np.concatenate(preds), test_total_labels, verbose=False)\n",
    "    print(\"eT:{}, ERROR:{:.3f}, FPR:{:.3f}, FNR:{:.3f}\".format(eT, errors['error'], errors['fpr'], errors['fnr']))"
   ]
  },
  {
   "cell_type": "code",
   "execution_count": null,
   "metadata": {},
   "outputs": [],
   "source": [
    "# individual prec and recall\n",
    "eT = -4.26\n",
    "for eT in eT_list:\n",
    "    prog_results = {\"prec\":[], \"recall\":[], \"eer\":[], \"fscore\":[]}\n",
    "    for i in range(len(adapt_label_list)):\n",
    "        n_tars = np.sum(adapt_label_list[i])\n",
    "        n_true_adapts = prog_true_adapts[eT][i]\n",
    "        n_false_adapts = prog_false_adapts[eT][i]\n",
    "\n",
    "        if n_true_adapts + n_false_adapts == 0: continue\n",
    "\n",
    "        precision = n_true_adapts / (n_true_adapts + n_false_adapts)\n",
    "        recall = n_true_adapts / n_tars \n",
    "        fscore = 2 * (precision * recall) / (precision + recall)\n",
    "        prog_results['prec'].append(precision)\n",
    "        prog_results['recall'].append(recall)\n",
    "        prog_results['fscore'].append(fscore)\n",
    "\n",
    "        test_scores = prog_test_score_list[eT][i]\n",
    "        test_labels = test_label_list[i]\n",
    "        eer, _, _, ths = compute_eer(test_scores, test_labels, verbose=False)\n",
    "        prog_results['eer'].append(eer)\n",
    "\n",
    "    #     print(\"eT:{}, precision:{:.3f}, recall:{:.3f}, EER:{:.3f}%, THS:{:.2f}\".format(eT, precision, recall, eer, ths))\n",
    "\n",
    "    print(\"[{}] avg_prec = {:.3f}, avg_recall = {:.3f}, avg_fscore = {:.3f}\".format(eT, np.mean(prog_results['prec']), np.mean(prog_results['recall']),  np.mean(prog_results['fscore']) ))"
   ]
  },
  {
   "cell_type": "code",
   "execution_count": null,
   "metadata": {},
   "outputs": [],
   "source": [
    "prog_results"
   ]
  },
  {
   "cell_type": "markdown",
   "metadata": {},
   "source": [
    "## Precision/Recall Graph "
   ]
  },
  {
   "cell_type": "code",
   "execution_count": null,
   "metadata": {},
   "outputs": [],
   "source": [
    "# prog_recall_prec = {}\n",
    "\n",
    "# prog_recall_prec[eT_list[0]] = (0.899, 0.959) \n",
    "# prog_recall_prec[eT_list[1]] = (0.845, 0.99) \n",
    "# prog_recall_prec[eT_list[2]] = (0.684, 0.999)\n",
    "\n",
    "# prog_recall_prec[eT_list[0]] = (0.796, 0.794) \n",
    "# prog_recall_prec[eT_list[1]] = (0.653, 0.8) \n",
    "# prog_recall_prec[eT_list[2]] = (0.394, 0.908)"
   ]
  },
  {
   "cell_type": "code",
   "execution_count": null,
   "metadata": {},
   "outputs": [],
   "source": [
    "from sklearn.metrics import precision_recall_curve\n",
    "import matplotlib.pyplot as plt\n",
    "from sklearn.utils.fixes import signature\n",
    "\n",
    "eT = eT_list[0]\n",
    "precision, recall, _ = precision_recall_curve(adapt_total_labels, np.concatenate(base_adapt_score_list))\n",
    "\n",
    "# In matplotlib < 1.5, plt.fill_between does not have a 'step' argument\n",
    "step_kwargs = ({'step': 'post'}\n",
    "               if 'step' in signature(plt.fill_between).parameters\n",
    "               else {})\n",
    "plt.step(recall, precision, color='b', alpha=0.2,\n",
    "         where='post')\n",
    "plt.fill_between(recall, precision, alpha=0.2, color='b', **step_kwargs)\n",
    "\n",
    "for k, v in base_recall_prec.items():\n",
    "    plt.annotate(\"eT={:.2f}\".format(k),\n",
    "                 xy=v, xycoords='data', xytext=(90, 50),\n",
    "                 textcoords='offset points',\n",
    "                 fontsize=16, arrowprops=dict(arrowstyle=\"->\", color=\"k\"), color=\"k\")\n",
    "    \n",
    "for k, v in prog_recall_prec.items():\n",
    "    plt.annotate(\"eT={:.2f}\".format(k),\n",
    "                 xy=v, xycoords='data', xytext=(-90, -50),\n",
    "                 textcoords='offset points',\n",
    "                 fontsize=16, arrowprops=dict(arrowstyle=\"->\", color=\"r\"), color=\"r\")\n",
    "\n",
    "plt.xlabel('Recall')\n",
    "plt.ylabel('Precision')\n",
    "plt.ylim([0.0, 1.05])\n",
    "plt.xlim([0.0, 1.0])\n",
    "plt.title(\"adapt_enr3_random_trial_300f\", loc='left')"
   ]
  },
  {
   "cell_type": "code",
   "execution_count": null,
   "metadata": {},
   "outputs": [],
   "source": [
    "adapt_total_labels"
   ]
  },
  {
   "cell_type": "code",
   "execution_count": null,
   "metadata": {},
   "outputs": [],
   "source": [
    "base_adapt_score_list"
   ]
  }
 ],
 "metadata": {
  "kernelspec": {
   "display_name": "Python 3",
   "language": "python",
   "name": "python3"
  },
  "language_info": {
   "codemirror_mode": {
    "name": "ipython",
    "version": 3
   },
   "file_extension": ".py",
   "mimetype": "text/x-python",
   "name": "python",
   "nbconvert_exporter": "python",
   "pygments_lexer": "ipython3",
   "version": "3.6.5"
  }
 },
 "nbformat": 4,
 "nbformat_minor": 2
}
