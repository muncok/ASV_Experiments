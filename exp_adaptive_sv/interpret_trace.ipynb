{
 "cells": [
  {
   "cell_type": "code",
   "execution_count": 3,
   "metadata": {},
   "outputs": [
    {
     "name": "stdout",
     "output_type": "stream",
     "text": [
      "Using matplotlib backend: TkAgg\n",
      "Populating the interactive namespace from numpy and matplotlib\n"
     ]
    }
   ],
   "source": [
    "%load_ext autoreload\n",
    "%autoreload 2\n",
    "%pylab\n",
    "%matplotlib inline\n",
    "\n",
    "import pandas as pd\n",
    "import pickle\n",
    "import numpy as np\n",
    "import sys\n",
    "import os"
   ]
  },
  {
   "cell_type": "code",
   "execution_count": 4,
   "metadata": {},
   "outputs": [],
   "source": [
    "np.set_printoptions(precision=3)"
   ]
  },
  {
   "cell_type": "markdown",
   "metadata": {},
   "source": [
    "### Methods "
   ]
  },
  {
   "cell_type": "code",
   "execution_count": 5,
   "metadata": {},
   "outputs": [],
   "source": [
    "from enum import Enum\n",
    "\n",
    "class Mode(Enum):\n",
    "    base = 0\n",
    "    inc = 1\n",
    "    inc_update = 2\n",
    "    inc_update_neg = 3"
   ]
  },
  {
   "cell_type": "code",
   "execution_count": 6,
   "metadata": {},
   "outputs": [],
   "source": [
    "def analyze_trace(trs):\n",
    "    results = []\n",
    "    for tr in trs:\n",
    "        if len(tr) == 4:\n",
    "            trial_idxs, scores, label, pred = tr\n",
    "        elif len(tr) == 5:\n",
    "            trial_idxs, scores, label, pred, enroll_pred = tr\n",
    "        else:\n",
    "            raise NotImplementedError\n",
    "\n",
    "        result = dict()\n",
    "        result[\"fpr\"] = round(np.count_nonzero((pred == 1) & (label == 0)) / len(label), 4)\n",
    "        result[\"fnr\"] = round(np.count_nonzero((pred == 0) & (label == 1)) / len(label), 4)\n",
    "        result[\"error\"] = round(np.count_nonzero(pred != label) / len(label), 4)\n",
    "#         result[\"neg_scores\"] = round(np.mean(scores[label == 0]), 4) \n",
    "\n",
    "        if len(tr) == 5:\n",
    "            result[\"n_adt_enroll\"] = np.count_nonzero(enroll_pred != -1)\n",
    "             # 1: correctly enrolled, 0: incorrectly enrolled, -1: not enrolle\n",
    "            if np.count_nonzero(enroll_pred != -1) == 0:\n",
    "                result[\"enr_error\"] = 0\n",
    "            else:\n",
    "                result[\"enr_error\"] = round(np.count_nonzero(enroll_pred == 0) \\\n",
    "                                            / np.count_nonzero(enroll_pred != -1), 4)\n",
    "        results.append(result)\n",
    "\n",
    "    return results"
   ]
  },
  {
   "cell_type": "code",
   "execution_count": 7,
   "metadata": {},
   "outputs": [],
   "source": [
    "def compute_metrics(results):\n",
    "        mean_error = np.mean([dic['error'] for dic in results])\n",
    "        mean_fpr = np.mean([dic['fpr'] for dic in results])\n",
    "        mean_fnr = np.mean([dic['fnr'] for dic in results])\n",
    "        \n",
    "        return mean_error, mean_fpr, mean_fnr"
   ]
  },
  {
   "cell_type": "code",
   "execution_count": 8,
   "metadata": {},
   "outputs": [],
   "source": [
    "def print_result(result_dir):\n",
    "    modes = os.listdir(result_dir)\n",
    "    setting = result_dir.split(\"/\")[-2]\n",
    "    modes = sorted(modes, key=lambda x: Mode[x].value)\n",
    "\n",
    "    print(setting)\n",
    "    for mode in modes:\n",
    "        mode_dir = os.path.join(result_dir, mode)\n",
    "        with open(mode_dir + \"/trace.pkl\", \"rb\") as f:\n",
    "            trace = pickle.load(f)\n",
    "        meta_info = pd.read_pickle(mode_dir + \"/meta_info_df.pkl\")\n",
    "        results = {\"adapt\":[], \"test\":[], \"ood\":[], \"test_s_err\":[], 'ood_s_err':[]}\n",
    "        for tr in trace:\n",
    "            adapt_result, test_result, ood_result = analyze_trace(tr)\n",
    "            results[\"adapt\"].append(adapt_result)\n",
    "            results[\"test\"].append(test_result)\n",
    "            results[\"ood\"].append(ood_result)\n",
    "\n",
    "            results[\"test_s_err\"].append(meta_info['test_s_err'])\n",
    "            results[\"ood_s_err\"].append(meta_info['ood_s_err'])\n",
    "#             print(\"s_acc: {}\".format(meta_info['s_pred_acc']))\n",
    "            \n",
    "        for trial_type in [\"adapt\", \"test\", \"ood\"]:\n",
    "            mean_error, mean_fpr, mean_fnr = compute_metrics(results[trial_type])\n",
    "            msg = (\"[{:20s}]: {:.4f}(err), {:.4f}(fpr), {:.4f}(fnr)\".format(\n",
    "                \"/\".join([mode, trial_type]), mean_error, mean_fpr, mean_fnr))\n",
    "            if trial_type != \"adapt\":\n",
    "                err = np.mean(results[trial_type + \"_s_err\"])\n",
    "                msg += \" {:.4f}(s_err)\".format(err)\n",
    "            print(msg)\n",
    "        print(\"-\"*80)\n",
    "    print(\"=\"*80)"
   ]
  },
  {
   "cell_type": "code",
   "execution_count": 9,
   "metadata": {},
   "outputs": [
    {
     "name": "stdout",
     "output_type": "stream",
     "text": [
      "FS3_ENR3_QUE7\n",
      "[base/adapt          ]: 0.0278(err), 0.0187(fpr), 0.0091(fnr)\n",
      "[base/test           ]: 0.0274(err), 0.0207(fpr), 0.0067(fnr) 0.4387(s_err)\n",
      "[base/ood            ]: 0.0474(err), 0.0474(fpr), 0.0000(fnr) 1.0000(s_err)\n",
      "--------------------------------------------------------------------------------\n",
      "[inc_update_neg/adapt]: 0.0209(err), 0.0151(fpr), 0.0058(fnr)\n",
      "[inc_update_neg/test ]: 0.0222(err), 0.0153(fpr), 0.0070(fnr) 0.0045(s_err)\n",
      "[inc_update_neg/ood  ]: 0.0495(err), 0.0495(fpr), 0.0000(fnr) 0.0062(s_err)\n",
      "--------------------------------------------------------------------------------\n",
      "================================================================================\n"
     ]
    }
   ],
   "source": [
    "print_result(\"adaptive_sv_system/test/FS3_ENR3_QUE7/\")"
   ]
  },
  {
   "cell_type": "code",
   "execution_count": 272,
   "metadata": {},
   "outputs": [],
   "source": [
    "def summary_result(result_dir):\n",
    "    modes = os.listdir(result_dir)\n",
    "    setting = result_dir.rstrip(\"/\").split(\"/\")[-1]\n",
    "    modes = sorted(modes, key=lambda x: Mode[x].value)\n",
    "\n",
    "    summary = []\n",
    "    for mode in modes:\n",
    "        mode_dir = os.path.join(result_dir, mode)\n",
    "        with open(mode_dir + \"/trace.pkl\", \"rb\") as f:\n",
    "            trace = pickle.load(f)\n",
    "        results = {\"adapt\":[], \"test\":[], \"ood\":[]}\n",
    "        for tr in trace:\n",
    "            adapt_result, test_result, ood_result = analyze_trace(tr)\n",
    "            results[\"adapt\"].append(adapt_result)\n",
    "            results[\"test\"].append(test_result)\n",
    "            results[\"ood\"].append(ood_result)\n",
    "        \n",
    "        for trial_type in [\"adapt\", \"test\", \"ood\"]:\n",
    "            mean_error, mean_fpr, mean_fnr = compute_metrics(results[trial_type])\n",
    "            summary.append([setting, mode, trial_type, mean_error])\n",
    "            \n",
    "    return summary"
   ]
  },
  {
   "cell_type": "code",
   "execution_count": 254,
   "metadata": {},
   "outputs": [],
   "source": [
    "def summary_result(result_dir):\n",
    "    modes = os.listdir(result_dir)\n",
    "    setting = result_dir.rstrip(\"/\").split(\"/\")[-1]\n",
    "    modes = sorted(modes, key=lambda x: Mode[x].value)\n",
    "\n",
    "    summary = []\n",
    "    errors = {'adapt':[], 'test':[], 'ood':[]}\n",
    "    for mode in modes:\n",
    "        mode_dir = os.path.join(result_dir, mode)\n",
    "        with open(mode_dir + \"/trace.pkl\", \"rb\") as f:\n",
    "            trace = pickle.load(f)\n",
    "        results = {\"adapt\":[], \"test\":[], \"ood\":[]}\n",
    "        for tr in trace:\n",
    "            adapt_result, test_result, ood_result = analyze_trace(tr)\n",
    "            results[\"adapt\"].append(adapt_result)\n",
    "            results[\"test\"].append(test_result)\n",
    "            results[\"ood\"].append(ood_result)\n",
    "        \n",
    "        for trial_type in [\"adapt\", \"test\", \"ood\"]:\n",
    "            mean_error, mean_fpr, mean_fnr = compute_metrics(results[trial_type])\n",
    "            errors[trial_type] += [mean_error]\n",
    "            \n",
    "    for trial_type in [\"adapt\", \"test\", \"ood\"]:\n",
    "        summary.append([setting, trial_type] + errors[trial_type])\n",
    "            \n",
    "    return summary"
   ]
  },
  {
   "cell_type": "code",
   "execution_count": 255,
   "metadata": {},
   "outputs": [],
   "source": [
    "settings = os.listdir(\"adaptive_sv_system/enr306_closedset_out/\")"
   ]
  },
  {
   "cell_type": "code",
   "execution_count": 256,
   "metadata": {},
   "outputs": [],
   "source": [
    "results = []\n",
    "for setting in settings:\n",
    "    results += summary_result(\"adaptive_sv_system/enr306_closedset_out/\"+setting)"
   ]
  },
  {
   "cell_type": "code",
   "execution_count": 258,
   "metadata": {},
   "outputs": [],
   "source": [
    "summary_df = pd.DataFrame.from_records(results, columns=['setting', 'trial_type', 'base_err', 'inc_err', 'inc_udt_err', 'inc_udt_neg_err'])"
   ]
  },
  {
   "cell_type": "code",
   "execution_count": 259,
   "metadata": {},
   "outputs": [],
   "source": [
    "summary_df.index = summary_df.apply(lambda x: '/'.join([x.setting, x.trial_type]), axis=1)"
   ]
  },
  {
   "cell_type": "code",
   "execution_count": 267,
   "metadata": {},
   "outputs": [
    {
     "data": {
      "text/plain": [
       "<matplotlib.axes._subplots.AxesSubplot at 0x7f6395e0eeb8>"
      ]
     },
     "execution_count": 267,
     "metadata": {},
     "output_type": "execute_result"
    },
    {
     "data": {
      "image/png": "[encoded data removed]",
      "text/plain": [
       "<Figure size 1440x432 with 1 Axes>"
      ]
     },
     "metadata": {},
     "output_type": "display_data"
    }
   ],
   "source": [
    "summary_df.plot.bar(figsize=(20,6))"
   ]
  },
  {
   "cell_type": "markdown",
   "metadata": {},
   "source": [
    "## Interpret traces"
   ]
  },
  {
   "cell_type": "code",
   "execution_count": 279,
   "metadata": {},
   "outputs": [
    {
     "name": "stdout",
     "output_type": "stream",
     "text": [
      "FS3_ENR3_QUE7\n",
      "[base/adapt          ]: 0.0278(err), 0.0187(fpr), 0.0091(fnr)\n",
      "[base/test           ]: 0.0274(err), 0.0207(fpr), 0.0067(fnr)\n",
      "[base/ood            ]: 0.0474(err), 0.0474(fpr), 0.0000(fnr)\n",
      "--------------------------------------------------------------------------------\n",
      "[inc/adapt           ]: 0.0286(err), 0.0229(fpr), 0.0057(fnr)\n",
      "[inc/test            ]: 0.0343(err), 0.0269(fpr), 0.0075(fnr)\n",
      "s_acc: 0     1.000000\n",
      "1     1.000000\n",
      "2     1.000000\n",
      "3     1.000000\n",
      "4     1.000000\n",
      "5     1.000000\n",
      "6     1.000000\n",
      "7     1.000000\n",
      "8     1.000000\n",
      "9     1.000000\n",
      "10    1.000000\n",
      "11    0.988095\n",
      "12    0.984375\n",
      "13    0.956522\n",
      "14    0.978261\n",
      "15    0.990196\n",
      "16    1.000000\n",
      "17    1.000000\n",
      "18    1.000000\n",
      "19    1.000000\n",
      "20    0.990000\n",
      "21    1.000000\n",
      "22    1.000000\n",
      "23    1.000000\n",
      "24    0.988372\n",
      "25    1.000000\n",
      "26    1.000000\n",
      "27    1.000000\n",
      "28    1.000000\n",
      "29    1.000000\n",
      "Name: s_pred_acc, dtype: float64\n",
      "[inc/ood             ]: 0.0510(err), 0.0510(fpr), 0.0000(fnr)\n",
      "--------------------------------------------------------------------------------\n",
      "[inc_update_neg/adapt]: 0.0254(err), 0.0145(fpr), 0.0109(fnr)\n",
      "[inc_update_neg/test ]: 0.0229(err), 0.0188(fpr), 0.0041(fnr)\n"
     ]
    },
    {
     "ename": "KeyError",
     "evalue": "'s_pred_acc'",
     "output_type": "error",
     "traceback": [
      "\u001b[0;31m---------------------------------------------------------------------------\u001b[0m",
      "\u001b[0;31mKeyError\u001b[0m                                  Traceback (most recent call last)",
      "\u001b[0;32m/opt/conda/envs/pytorch-py3.6/lib/python3.6/site-packages/pandas/core/indexes/base.py\u001b[0m in \u001b[0;36mget_loc\u001b[0;34m(self, key, method, tolerance)\u001b[0m\n\u001b[1;32m   3063\u001b[0m             \u001b[0;32mtry\u001b[0m\u001b[0;34m:\u001b[0m\u001b[0;34m\u001b[0m\u001b[0m\n\u001b[0;32m-> 3064\u001b[0;31m                 \u001b[0;32mreturn\u001b[0m \u001b[0mself\u001b[0m\u001b[0;34m.\u001b[0m\u001b[0m_engine\u001b[0m\u001b[0;34m.\u001b[0m\u001b[0mget_loc\u001b[0m\u001b[0;34m(\u001b[0m\u001b[0mkey\u001b[0m\u001b[0;34m)\u001b[0m\u001b[0;34m\u001b[0m\u001b[0m\n\u001b[0m\u001b[1;32m   3065\u001b[0m             \u001b[0;32mexcept\u001b[0m \u001b[0mKeyError\u001b[0m\u001b[0;34m:\u001b[0m\u001b[0;34m\u001b[0m\u001b[0m\n",
      "\u001b[0;32mpandas/_libs/index.pyx\u001b[0m in \u001b[0;36mpandas._libs.index.IndexEngine.get_loc\u001b[0;34m()\u001b[0m\n",
      "\u001b[0;32mpandas/_libs/index.pyx\u001b[0m in \u001b[0;36mpandas._libs.index.IndexEngine.get_loc\u001b[0;34m()\u001b[0m\n",
      "\u001b[0;32mpandas/_libs/hashtable_class_helper.pxi\u001b[0m in \u001b[0;36mpandas._libs.hashtable.PyObjectHashTable.get_item\u001b[0;34m()\u001b[0m\n",
      "\u001b[0;32mpandas/_libs/hashtable_class_helper.pxi\u001b[0m in \u001b[0;36mpandas._libs.hashtable.PyObjectHashTable.get_item\u001b[0;34m()\u001b[0m\n",
      "\u001b[0;31mKeyError\u001b[0m: 's_pred_acc'",
      "\nDuring handling of the above exception, another exception occurred:\n",
      "\u001b[0;31mKeyError\u001b[0m                                  Traceback (most recent call last)",
      "\u001b[0;32m<ipython-input-279-efa43486b34b>\u001b[0m in \u001b[0;36m<module>\u001b[0;34m()\u001b[0m\n\u001b[0;32m----> 1\u001b[0;31m \u001b[0mprint_result\u001b[0m\u001b[0;34m(\u001b[0m\u001b[0;34m\"adaptive_sv_system/test/FS3_ENR3_QUE7/\"\u001b[0m\u001b[0;34m)\u001b[0m\u001b[0;34m\u001b[0m\u001b[0m\n\u001b[0m",
      "\u001b[0;32m<ipython-input-278-0dd314606cb1>\u001b[0m in \u001b[0;36mprint_result\u001b[0;34m(result_dir)\u001b[0m\n\u001b[1;32m     22\u001b[0m                 \"/\".join([mode, trial_type]), mean_error, mean_fpr, mean_fnr))\n\u001b[1;32m     23\u001b[0m             \u001b[0;32mif\u001b[0m \u001b[0mtrial_type\u001b[0m \u001b[0;34m==\u001b[0m \u001b[0;34m\"test\"\u001b[0m \u001b[0;32mand\u001b[0m \u001b[0mmode\u001b[0m \u001b[0;34m!=\u001b[0m \u001b[0;34m\"base\"\u001b[0m\u001b[0;34m:\u001b[0m\u001b[0;34m\u001b[0m\u001b[0m\n\u001b[0;32m---> 24\u001b[0;31m                 \u001b[0mprint\u001b[0m\u001b[0;34m(\u001b[0m\u001b[0;34m\"s_acc: {}\"\u001b[0m\u001b[0;34m.\u001b[0m\u001b[0mformat\u001b[0m\u001b[0;34m(\u001b[0m\u001b[0mmeta_info\u001b[0m\u001b[0;34m[\u001b[0m\u001b[0;34m's_pred_acc'\u001b[0m\u001b[0;34m]\u001b[0m\u001b[0;34m)\u001b[0m\u001b[0;34m)\u001b[0m\u001b[0;34m\u001b[0m\u001b[0m\n\u001b[0m\u001b[1;32m     25\u001b[0m         \u001b[0mprint\u001b[0m\u001b[0;34m(\u001b[0m\u001b[0;34m\"-\"\u001b[0m\u001b[0;34m*\u001b[0m\u001b[0;36m80\u001b[0m\u001b[0;34m)\u001b[0m\u001b[0;34m\u001b[0m\u001b[0m\n\u001b[1;32m     26\u001b[0m     \u001b[0mprint\u001b[0m\u001b[0;34m(\u001b[0m\u001b[0;34m\"=\"\u001b[0m\u001b[0;34m*\u001b[0m\u001b[0;36m80\u001b[0m\u001b[0;34m)\u001b[0m\u001b[0;34m\u001b[0m\u001b[0m\n",
      "\u001b[0;32m/opt/conda/envs/pytorch-py3.6/lib/python3.6/site-packages/pandas/core/frame.py\u001b[0m in \u001b[0;36m__getitem__\u001b[0;34m(self, key)\u001b[0m\n\u001b[1;32m   2686\u001b[0m             \u001b[0;32mreturn\u001b[0m \u001b[0mself\u001b[0m\u001b[0;34m.\u001b[0m\u001b[0m_getitem_multilevel\u001b[0m\u001b[0;34m(\u001b[0m\u001b[0mkey\u001b[0m\u001b[0;34m)\u001b[0m\u001b[0;34m\u001b[0m\u001b[0m\n\u001b[1;32m   2687\u001b[0m         \u001b[0;32melse\u001b[0m\u001b[0;34m:\u001b[0m\u001b[0;34m\u001b[0m\u001b[0m\n\u001b[0;32m-> 2688\u001b[0;31m             \u001b[0;32mreturn\u001b[0m \u001b[0mself\u001b[0m\u001b[0;34m.\u001b[0m\u001b[0m_getitem_column\u001b[0m\u001b[0;34m(\u001b[0m\u001b[0mkey\u001b[0m\u001b[0;34m)\u001b[0m\u001b[0;34m\u001b[0m\u001b[0m\n\u001b[0m\u001b[1;32m   2689\u001b[0m \u001b[0;34m\u001b[0m\u001b[0m\n\u001b[1;32m   2690\u001b[0m     \u001b[0;32mdef\u001b[0m \u001b[0m_getitem_column\u001b[0m\u001b[0;34m(\u001b[0m\u001b[0mself\u001b[0m\u001b[0;34m,\u001b[0m \u001b[0mkey\u001b[0m\u001b[0;34m)\u001b[0m\u001b[0;34m:\u001b[0m\u001b[0;34m\u001b[0m\u001b[0m\n",
      "\u001b[0;32m/opt/conda/envs/pytorch-py3.6/lib/python3.6/site-packages/pandas/core/frame.py\u001b[0m in \u001b[0;36m_getitem_column\u001b[0;34m(self, key)\u001b[0m\n\u001b[1;32m   2693\u001b[0m         \u001b[0;31m# get column\u001b[0m\u001b[0;34m\u001b[0m\u001b[0;34m\u001b[0m\u001b[0m\n\u001b[1;32m   2694\u001b[0m         \u001b[0;32mif\u001b[0m \u001b[0mself\u001b[0m\u001b[0;34m.\u001b[0m\u001b[0mcolumns\u001b[0m\u001b[0;34m.\u001b[0m\u001b[0mis_unique\u001b[0m\u001b[0;34m:\u001b[0m\u001b[0;34m\u001b[0m\u001b[0m\n\u001b[0;32m-> 2695\u001b[0;31m             \u001b[0;32mreturn\u001b[0m \u001b[0mself\u001b[0m\u001b[0;34m.\u001b[0m\u001b[0m_get_item_cache\u001b[0m\u001b[0;34m(\u001b[0m\u001b[0mkey\u001b[0m\u001b[0;34m)\u001b[0m\u001b[0;34m\u001b[0m\u001b[0m\n\u001b[0m\u001b[1;32m   2696\u001b[0m \u001b[0;34m\u001b[0m\u001b[0m\n\u001b[1;32m   2697\u001b[0m         \u001b[0;31m# duplicate columns & possible reduce dimensionality\u001b[0m\u001b[0;34m\u001b[0m\u001b[0;34m\u001b[0m\u001b[0m\n",
      "\u001b[0;32m/opt/conda/envs/pytorch-py3.6/lib/python3.6/site-packages/pandas/core/generic.py\u001b[0m in \u001b[0;36m_get_item_cache\u001b[0;34m(self, item)\u001b[0m\n\u001b[1;32m   2484\u001b[0m         \u001b[0mres\u001b[0m \u001b[0;34m=\u001b[0m \u001b[0mcache\u001b[0m\u001b[0;34m.\u001b[0m\u001b[0mget\u001b[0m\u001b[0;34m(\u001b[0m\u001b[0mitem\u001b[0m\u001b[0;34m)\u001b[0m\u001b[0;34m\u001b[0m\u001b[0m\n\u001b[1;32m   2485\u001b[0m         \u001b[0;32mif\u001b[0m \u001b[0mres\u001b[0m \u001b[0;32mis\u001b[0m \u001b[0;32mNone\u001b[0m\u001b[0;34m:\u001b[0m\u001b[0;34m\u001b[0m\u001b[0m\n\u001b[0;32m-> 2486\u001b[0;31m             \u001b[0mvalues\u001b[0m \u001b[0;34m=\u001b[0m \u001b[0mself\u001b[0m\u001b[0;34m.\u001b[0m\u001b[0m_data\u001b[0m\u001b[0;34m.\u001b[0m\u001b[0mget\u001b[0m\u001b[0;34m(\u001b[0m\u001b[0mitem\u001b[0m\u001b[0;34m)\u001b[0m\u001b[0;34m\u001b[0m\u001b[0m\n\u001b[0m\u001b[1;32m   2487\u001b[0m             \u001b[0mres\u001b[0m \u001b[0;34m=\u001b[0m \u001b[0mself\u001b[0m\u001b[0;34m.\u001b[0m\u001b[0m_box_item_values\u001b[0m\u001b[0;34m(\u001b[0m\u001b[0mitem\u001b[0m\u001b[0;34m,\u001b[0m \u001b[0mvalues\u001b[0m\u001b[0;34m)\u001b[0m\u001b[0;34m\u001b[0m\u001b[0m\n\u001b[1;32m   2488\u001b[0m             \u001b[0mcache\u001b[0m\u001b[0;34m[\u001b[0m\u001b[0mitem\u001b[0m\u001b[0;34m]\u001b[0m \u001b[0;34m=\u001b[0m \u001b[0mres\u001b[0m\u001b[0;34m\u001b[0m\u001b[0m\n",
      "\u001b[0;32m/opt/conda/envs/pytorch-py3.6/lib/python3.6/site-packages/pandas/core/internals.py\u001b[0m in \u001b[0;36mget\u001b[0;34m(self, item, fastpath)\u001b[0m\n\u001b[1;32m   4113\u001b[0m \u001b[0;34m\u001b[0m\u001b[0m\n\u001b[1;32m   4114\u001b[0m             \u001b[0;32mif\u001b[0m \u001b[0;32mnot\u001b[0m \u001b[0misna\u001b[0m\u001b[0;34m(\u001b[0m\u001b[0mitem\u001b[0m\u001b[0;34m)\u001b[0m\u001b[0;34m:\u001b[0m\u001b[0;34m\u001b[0m\u001b[0m\n\u001b[0;32m-> 4115\u001b[0;31m                 \u001b[0mloc\u001b[0m \u001b[0;34m=\u001b[0m \u001b[0mself\u001b[0m\u001b[0;34m.\u001b[0m\u001b[0mitems\u001b[0m\u001b[0;34m.\u001b[0m\u001b[0mget_loc\u001b[0m\u001b[0;34m(\u001b[0m\u001b[0mitem\u001b[0m\u001b[0;34m)\u001b[0m\u001b[0;34m\u001b[0m\u001b[0m\n\u001b[0m\u001b[1;32m   4116\u001b[0m             \u001b[0;32melse\u001b[0m\u001b[0;34m:\u001b[0m\u001b[0;34m\u001b[0m\u001b[0m\n\u001b[1;32m   4117\u001b[0m                 \u001b[0mindexer\u001b[0m \u001b[0;34m=\u001b[0m \u001b[0mnp\u001b[0m\u001b[0;34m.\u001b[0m\u001b[0marange\u001b[0m\u001b[0;34m(\u001b[0m\u001b[0mlen\u001b[0m\u001b[0;34m(\u001b[0m\u001b[0mself\u001b[0m\u001b[0;34m.\u001b[0m\u001b[0mitems\u001b[0m\u001b[0;34m)\u001b[0m\u001b[0;34m)\u001b[0m\u001b[0;34m[\u001b[0m\u001b[0misna\u001b[0m\u001b[0;34m(\u001b[0m\u001b[0mself\u001b[0m\u001b[0;34m.\u001b[0m\u001b[0mitems\u001b[0m\u001b[0;34m)\u001b[0m\u001b[0;34m]\u001b[0m\u001b[0;34m\u001b[0m\u001b[0m\n",
      "\u001b[0;32m/opt/conda/envs/pytorch-py3.6/lib/python3.6/site-packages/pandas/core/indexes/base.py\u001b[0m in \u001b[0;36mget_loc\u001b[0;34m(self, key, method, tolerance)\u001b[0m\n\u001b[1;32m   3064\u001b[0m                 \u001b[0;32mreturn\u001b[0m \u001b[0mself\u001b[0m\u001b[0;34m.\u001b[0m\u001b[0m_engine\u001b[0m\u001b[0;34m.\u001b[0m\u001b[0mget_loc\u001b[0m\u001b[0;34m(\u001b[0m\u001b[0mkey\u001b[0m\u001b[0;34m)\u001b[0m\u001b[0;34m\u001b[0m\u001b[0m\n\u001b[1;32m   3065\u001b[0m             \u001b[0;32mexcept\u001b[0m \u001b[0mKeyError\u001b[0m\u001b[0;34m:\u001b[0m\u001b[0;34m\u001b[0m\u001b[0m\n\u001b[0;32m-> 3066\u001b[0;31m                 \u001b[0;32mreturn\u001b[0m \u001b[0mself\u001b[0m\u001b[0;34m.\u001b[0m\u001b[0m_engine\u001b[0m\u001b[0;34m.\u001b[0m\u001b[0mget_loc\u001b[0m\u001b[0;34m(\u001b[0m\u001b[0mself\u001b[0m\u001b[0;34m.\u001b[0m\u001b[0m_maybe_cast_indexer\u001b[0m\u001b[0;34m(\u001b[0m\u001b[0mkey\u001b[0m\u001b[0;34m)\u001b[0m\u001b[0;34m)\u001b[0m\u001b[0;34m\u001b[0m\u001b[0m\n\u001b[0m\u001b[1;32m   3067\u001b[0m \u001b[0;34m\u001b[0m\u001b[0m\n\u001b[1;32m   3068\u001b[0m         \u001b[0mindexer\u001b[0m \u001b[0;34m=\u001b[0m \u001b[0mself\u001b[0m\u001b[0;34m.\u001b[0m\u001b[0mget_indexer\u001b[0m\u001b[0;34m(\u001b[0m\u001b[0;34m[\u001b[0m\u001b[0mkey\u001b[0m\u001b[0;34m]\u001b[0m\u001b[0;34m,\u001b[0m \u001b[0mmethod\u001b[0m\u001b[0;34m=\u001b[0m\u001b[0mmethod\u001b[0m\u001b[0;34m,\u001b[0m \u001b[0mtolerance\u001b[0m\u001b[0;34m=\u001b[0m\u001b[0mtolerance\u001b[0m\u001b[0;34m)\u001b[0m\u001b[0;34m\u001b[0m\u001b[0m\n",
      "\u001b[0;32mpandas/_libs/index.pyx\u001b[0m in \u001b[0;36mpandas._libs.index.IndexEngine.get_loc\u001b[0;34m()\u001b[0m\n",
      "\u001b[0;32mpandas/_libs/index.pyx\u001b[0m in \u001b[0;36mpandas._libs.index.IndexEngine.get_loc\u001b[0;34m()\u001b[0m\n",
      "\u001b[0;32mpandas/_libs/hashtable_class_helper.pxi\u001b[0m in \u001b[0;36mpandas._libs.hashtable.PyObjectHashTable.get_item\u001b[0;34m()\u001b[0m\n",
      "\u001b[0;32mpandas/_libs/hashtable_class_helper.pxi\u001b[0m in \u001b[0;36mpandas._libs.hashtable.PyObjectHashTable.get_item\u001b[0;34m()\u001b[0m\n",
      "\u001b[0;31mKeyError\u001b[0m: 's_pred_acc'"
     ]
    }
   ],
   "source": [
    "print_result(\"adaptive_sv_system/test/FS3_ENR3_QUE7/\")"
   ]
  },
  {
   "cell_type": "markdown",
   "metadata": {},
   "source": [
    "## Gathering information after proceeding verifications"
   ]
  },
  {
   "cell_type": "markdown",
   "metadata": {},
   "source": [
    "trace = [adapt_tr, test_tr, ood_tr]  \n",
    "tr = trial_idxs, scores, label, pred 또는   \n",
    "tr = trial_idxs, scores, label, pred, enroll_pred  "
   ]
  },
  {
   "cell_type": "code",
   "execution_count": 51,
   "metadata": {},
   "outputs": [],
   "source": [
    "keys = np.array(pickle.load(open(\"xvector_embeds/sv_keys.pkl\", \"rb\")))"
   ]
  },
  {
   "cell_type": "code",
   "execution_count": 439,
   "metadata": {},
   "outputs": [],
   "source": [
    "def get_info_trace(trace):\n",
    "    if len(trace) == 4:\n",
    "        idxs, _, label, pred, = trace\n",
    "    elif len(trace) == 5:\n",
    "        idxs, _, label, pred, _ = trace\n",
    "    ids = [keys[int(idx)] for idx in idxs]\n",
    "    data = pd.DataFrame({\"id\":ids, \"idx\":idxs, \"pred\":pred, \"label\":label}, dtype=np.int64)\n",
    "\n",
    "    return data"
   ]
  },
  {
   "cell_type": "code",
   "execution_count": 452,
   "metadata": {},
   "outputs": [],
   "source": [
    "trace = pickle.load(open(\"./adaptive_sv_system/test/inc_neg/Set3_Enr5_Que7/trace.pkl\", \"rb\"))"
   ]
  },
  {
   "cell_type": "code",
   "execution_count": 454,
   "metadata": {},
   "outputs": [],
   "source": [
    "meta_info = pd.read_pickle(\"./adaptive_sv_system/test/inc_neg/Set3_Enr5_Que7/meta_info_df.pkl\")"
   ]
  },
  {
   "cell_type": "code",
   "execution_count": 456,
   "metadata": {},
   "outputs": [],
   "source": [
    "adapt_data, test_data, ood_data = list(map(get_info_trace, trace[0]))"
   ]
  },
  {
   "cell_type": "code",
   "execution_count": 457,
   "metadata": {},
   "outputs": [],
   "source": [
    "adapt_data.to_csv(\"adapt_data.csv\", index=None)\n",
    "test_data.to_csv(\"test_data.csv\", index=None)\n",
    "ood_data.to_csv(\"ood_data.csv\", index=None)"
   ]
  },
  {
   "cell_type": "code",
   "execution_count": 463,
   "metadata": {},
   "outputs": [],
   "source": [
    "enr_idx = meta_info.iloc[0].enr_idxs"
   ]
  },
  {
   "cell_type": "code",
   "execution_count": 466,
   "metadata": {},
   "outputs": [
    {
     "data": {
      "text/plain": [
       "array(['id10363-oOER7ITQrjA-00004', 'id10363-ycU0RxYQN6w-00010',\n",
       "       'id10363-oTbZXWMTGhs-00010', 'id10363-tMIjFefXiQQ-00009',\n",
       "       'id10363-oTbZXWMTGhs-00015'], dtype='<U25')"
      ]
     },
     "execution_count": 466,
     "metadata": {},
     "output_type": "execute_result"
    }
   ],
   "source": [
    "keys[enr_idx]"
   ]
  },
  {
   "cell_type": "code",
   "execution_count": 465,
   "metadata": {},
   "outputs": [],
   "source": [
    "np.save(\"enroll_idx.npy\", enr_idx)"
   ]
  },
  {
   "cell_type": "code",
   "execution_count": 472,
   "metadata": {},
   "outputs": [],
   "source": [
    "adapt_result, test_result, ood_result = analyze_trace(trace[0])"
   ]
  },
  {
   "cell_type": "code",
   "execution_count": 476,
   "metadata": {},
   "outputs": [
    {
     "data": {
      "text/plain": [
       "{'fpr': 0.0,\n",
       " 'fnr': 0.0164,\n",
       " 'error': 0.0164,\n",
       " 'n_adt_enroll': 108,\n",
       " 'enr_error': 0.0}"
      ]
     },
     "execution_count": 476,
     "metadata": {},
     "output_type": "execute_result"
    }
   ],
   "source": [
    "adapt_result"
   ]
  },
  {
   "cell_type": "code",
   "execution_count": 474,
   "metadata": {},
   "outputs": [
    {
     "data": {
      "text/plain": [
       "{'fpr': 0.0, 'fnr': 0.0039, 'error': 0.0039}"
      ]
     },
     "execution_count": 474,
     "metadata": {},
     "output_type": "execute_result"
    }
   ],
   "source": [
    "test_result"
   ]
  },
  {
   "cell_type": "code",
   "execution_count": 475,
   "metadata": {},
   "outputs": [
    {
     "data": {
      "text/plain": [
       "{'fpr': 0.082, 'fnr': 0.0, 'error': 0.082}"
      ]
     },
     "execution_count": 475,
     "metadata": {},
     "output_type": "execute_result"
    }
   ],
   "source": [
    "ood_result"
   ]
  },
  {
   "cell_type": "markdown",
   "metadata": {},
   "source": [
    "### Sanity Check\n",
    "meta info와 trace의 순서가 잘 일치하는지 체크"
   ]
  },
  {
   "cell_type": "code",
   "execution_count": 217,
   "metadata": {},
   "outputs": [],
   "source": [
    "trial = pickle.load(open(\"trials/enr306_closedset/3/trials.pkl\", \"rb\"))"
   ]
  }
 ],
 "metadata": {
  "kernelspec": {
   "display_name": "Python 3",
   "language": "python",
   "name": "python3"
  },
  "language_info": {
   "codemirror_mode": {
    "name": "ipython",
    "version": 3
   },
   "file_extension": ".py",
   "mimetype": "text/x-python",
   "name": "python",
   "nbconvert_exporter": "python",
   "pygments_lexer": "ipython3",
   "version": "3.6.5"
  }
 },
 "nbformat": 4,
 "nbformat_minor": 2
}
