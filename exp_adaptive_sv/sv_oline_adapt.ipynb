{
 "cells": [
  {
   "cell_type": "markdown",
   "metadata": {},
   "source": [
    "# Online Adapt\n",
    "\n",
    "PLDA는 느려서 아직 구현 못함.\n",
    "\n",
    "너무 성능이 떨어지는 embedding을 사용하면 제대로 adaptation이 일어나지 못한다."
   ]
  },
  {
   "cell_type": "code",
   "execution_count": 1,
   "metadata": {},
   "outputs": [
    {
     "name": "stdout",
     "output_type": "stream",
     "text": [
      "Using matplotlib backend: TkAgg\n",
      "Populating the interactive namespace from numpy and matplotlib\n"
     ]
    }
   ],
   "source": [
    "%load_ext autoreload\n",
    "%autoreload 2\n",
    "%pylab\n",
    "%matplotlib inline\n",
    "\n",
    "import os\n",
    "import sys\n",
    "import pandas as pd\n",
    "import pickle\n",
    "import numpy as np"
   ]
  },
  {
   "cell_type": "code",
   "execution_count": 2,
   "metadata": {},
   "outputs": [],
   "source": [
    "from batch_sv_system_utils import get_embeds, cosine_sim, compute_error\n",
    "from batch_sv_system_utils import compute_eer\n",
    "from utils import key2df, df2dict"
   ]
  },
  {
   "cell_type": "code",
   "execution_count": 3,
   "metadata": {},
   "outputs": [],
   "source": [
    "def get_id2idx(keys):\n",
    "    key_df = key2df(keys)\n",
    "    id2idx, idx2id = df2dict(key_df) \n",
    "    return id2idx"
   ]
  },
  {
   "cell_type": "code",
   "execution_count": 4,
   "metadata": {},
   "outputs": [],
   "source": [
    "# https://stackoverflow.com/questions/9110837/python-simple-list-merging-based-on-intersections\n",
    "def merge(lsts):\n",
    "    sets = [set(lst) for lst in lsts if lst]\n",
    "    merged = True\n",
    "    while merged:\n",
    "        merged = False\n",
    "        results = []\n",
    "        while sets:\n",
    "            common, rest = sets[0], sets[1:]\n",
    "            sets = []\n",
    "            for x in rest:\n",
    "                if x.isdisjoint(common):\n",
    "                    sets.append(x)\n",
    "                else:\n",
    "                    merged = True\n",
    "                    common |= x\n",
    "            results.append(common)\n",
    "        sets = results\n",
    "    return [list(set_) for set_ in sets]"
   ]
  },
  {
   "cell_type": "code",
   "execution_count": 5,
   "metadata": {},
   "outputs": [],
   "source": [
    "embed_dir = \"embeddings/voxc2_fbank64_voxc2untied_embeds/\"\n",
    "# embed_dir = \"embeddings/voxc2_fbank64_voxc2untied_300f_embeds/\"\n",
    "sv_embeds = np.load(embed_dir + \"/sv_embeds.npy\")\n",
    "keys = pickle.load(open(embed_dir + \"/sv_keys.pkl\", \"rb\"))\n",
    "id2idx = get_id2idx(keys)\n",
    "\n",
    "plda_embed_dir = \"embeddings/voxc2_fbank64_voxc2untied_xvector/\"\n",
    "# plda_embed_dir = \"embeddings/voxc2_fbank64_voxc2untied_300f_xvector/\"\n",
    "plda_sv_embeds = np.load(plda_embed_dir + \"/sv_embeds.npy\")\n",
    "plda_model_dir = plda_embed_dir + \"plda_train/\"\n",
    "plda_keys = pickle.load(open(plda_embed_dir + \"/sv_keys.pkl\", \"rb\"))\n",
    "plda_id2idx = get_id2idx(plda_keys)"
   ]
  },
  {
   "cell_type": "markdown",
   "metadata": {},
   "source": [
    "## Run Trial - Score fusion"
   ]
  },
  {
   "cell_type": "code",
   "execution_count": 7,
   "metadata": {},
   "outputs": [],
   "source": [
    "trial = pickle.load(open(\"trials/enr306/eval_hard_enr10_n1000/trials.pkl\", \"rb\"))\n",
    "cohort_embeds = np.load(\"trials/enr306/cohort_embeds.npy\")"
   ]
  },
  {
   "cell_type": "code",
   "execution_count": 8,
   "metadata": {},
   "outputs": [],
   "source": [
    "def s_norm_score(scores, enr_mu, enr_std, test_mu, test_std):\n",
    "    norm_scores = ((scores - enr_mu)/enr_std +\\\n",
    "                   (scores - test_mu)/test_std)/2\n",
    "    return norm_scores\n",
    "    \n",
    "def compute_stat(embeds):\n",
    "    mu = np.mean(embeds)\n",
    "    std = np.std(embeds)\n",
    "    return mu, std"
   ]
  },
  {
   "cell_type": "code",
   "execution_count": 17,
   "metadata": {},
   "outputs": [],
   "source": [
    "from sklearn.linear_model import LogisticRegressionCV\n",
    "\n",
    "t_idx = 0\n",
    "# enr_spk, enr_ids, test_trial, adapt_trial, ood_trial = trial[t_idx]\n",
    "# test_trial = list(test_trial)\n",
    "# test_trial[0] = test_trial[0] + ood_trial[0]\n",
    "# test_trial[1] = test_trial[1] + ood_trial[1]\n",
    "\n",
    "enr_spk, imposters, enr_ids, test_trial= trial[t_idx]\n",
    "\n",
    "### get embeds\n",
    "enr_embeds = get_embeds(enr_ids, sv_embeds, id2idx, norm=True)\n",
    "test_embeds = get_embeds(test_trial[0], sv_embeds, id2idx, norm=True)\n",
    "\n",
    "score_list = []\n",
    "score_fusions = []\n",
    "norm_score_list = []\n",
    "norm_score_fusions = []\n",
    "norm_oracle_score_fusions = []\n",
    "\n",
    "neg_score_fusions = []\n",
    "neg_enroll_embeds = []\n",
    "neg_clusters = []\n",
    "neg_enroll_ids = []\n",
    "neg_enroll_mu = []\n",
    "neg_enroll_std = []\n",
    "\n",
    "enroll_embeds = [enr for enr in enr_embeds]\n",
    "enroll_mu = []\n",
    "enroll_std = []\n",
    "\n",
    "enr_cohort_scores = cosine_sim(np.array(enroll_embeds), cohort_embeds)\n",
    "enr_mean = enr_cohort_scores.mean(1)\n",
    "enr_std = enr_cohort_scores.std(1)\n",
    "enroll_mu.extend(enr_mean.tolist())\n",
    "enroll_std.extend(enr_std.tolist())\n",
    "\n",
    "enroll_stamps = np.zeros(len(test_trial[0]))\n",
    "neg_enroll_stamps = np.zeros(len(test_trial[0]))\n",
    "\n",
    "enroll_correct = []\n",
    "neg_enroll_correct = []\n",
    "\n",
    "ths = 4.25\n",
    "preds = []\n",
    "neg_preds = []\n",
    "\n",
    "# test_trial = (test_trial[0][200:], test_trial[1][200:])\n",
    "# for t, in_embed in enumerate(test_embeds[200:]):\n",
    "for t, in_embed in enumerate(test_embeds):\n",
    "    test_cohort_scores = cosine_sim(in_embed.reshape(1,-1), cohort_embeds)\n",
    "    test_mean = test_cohort_scores.mean(1)\n",
    "    test_std = test_cohort_scores.std(1)\n",
    "\n",
    "    if len(enroll_embeds) < 10:\n",
    "        scores = cosine_sim(np.array(enroll_embeds), in_embed)\n",
    "        norm_scores = ((scores - np.array(enroll_mu))/np.array(enroll_std) + (scores - test_mean)/test_std)/2\n",
    "    else:\n",
    "        scores = cosine_sim(np.array(enroll_embeds)[-3:], in_embed)\n",
    "        enroll_mu_ = np.array(enroll_mu)[-3:]\n",
    "        enroll_std_ = np.array(enroll_std)[-3:]\n",
    "        norm_scores = ((scores - enroll_mu_)/enroll_std_ + (scores - test_mean)/test_std)/2\n",
    "        \n",
    "    score_fusion = scores.mean(0)\n",
    "    norm_score_fusion = norm_scores.mean(0)\n",
    "#     norm_score_fusion = np.median(norm_scores)\n",
    "\n",
    "    if test_trial[1][t] == 1:\n",
    "        norm_oracle_score_fusion = norm_scores.max(0)\n",
    "    else:\n",
    "        norm_oracle_score_fusion = norm_scores.min(0)\n",
    "    \n",
    "    # record scores\n",
    "    score_list.append(scores)\n",
    "    norm_score_list.append(norm_scores)\n",
    "    score_fusions.append(score_fusion)\n",
    "    norm_score_fusions.append(norm_score_fusion)\n",
    "    norm_oracle_score_fusions.append(norm_oracle_score_fusion)\n",
    "    \n",
    "    # neg scores\n",
    "    if len(neg_clusters) > 3:\n",
    "        neg_scores = cosine_sim(np.array(neg_enroll_embeds), in_embed)\n",
    "        neg_mu = np.array(neg_enroll_mu)\n",
    "        neg_std = np.array(neg_enroll_std)\n",
    "        norm_neg_scores = ((neg_scores - neg_mu)/neg_std +\\\n",
    "                           (neg_scores - test_mean)/test_std)/2\n",
    "        cluster_scores = []\n",
    "        for cluster in neg_clusters:\n",
    "            if len(cluster) < 3: continue\n",
    "            cluster_scores.append(norm_neg_scores[cluster].mean(0))\n",
    "        try:\n",
    "            if np.max(cluster_scores) > 5.0:\n",
    "                neg_score_fusion = norm_score_fusion - np.max(cluster_scores)\n",
    "#                 if test_trial[1][t] == 1:\n",
    "#                     print(\"wrong negative verification:{:.4f}\".format(np.max(cluster_scores)))\n",
    "#                 if test_trial[1][t] == 0 and :\n",
    "#                     print(\"correct negative verification:{:.4f}\".format(np.max(cluster_scores)))\n",
    "            else:\n",
    "                neg_score_fusion = norm_score_fusion\n",
    "        except ValueError:\n",
    "            neg_score_fusion = norm_score_fusion\n",
    "        neg_score_fusions.append(neg_score_fusion)\n",
    "    else:\n",
    "        neg_score_fusions.append(norm_score_fusion)\n",
    "        \n",
    "    # adaptation\n",
    "#     if norm_score_fusion > (4.25 - len(enroll_embeds)*0.002) : # enr adapt\n",
    "    if norm_score_fusion > 4.5:\n",
    "#     if test_trial[1][t] == 1 and t < 200 and norm_score_fusion > 3.67 and norm_score_fusion < 3.8: # oracle enr adapt\n",
    "#     if test_trial[1][t] == 1:\n",
    "#     if t < 200 and norm_score_fusion > 4.5: # oracle enr adapt\n",
    "        if test_trial[1][t] == 1:\n",
    "            enroll_correct += [1]\n",
    "        else:\n",
    "            enroll_correct += [0]\n",
    "        enroll_embeds.append(in_embed)\n",
    "        enr_cohort_scores = cosine_sim(in_embed, cohort_embeds)\n",
    "        enr_mean = enr_cohort_scores.mean(0)\n",
    "        enr_std = enr_cohort_scores.std(0)\n",
    "        enroll_mu.append(enr_mean)\n",
    "        enroll_std.append(enr_std)\n",
    "        enroll_stamps[t] = 1\n",
    "    elif norm_score_fusion < 2.4: # neg adapt\n",
    "        if test_trial[1][t] == 0:\n",
    "            neg_enroll_correct += [1]\n",
    "        else:\n",
    "            neg_enroll_correct += [0]\n",
    "        \n",
    "        if len(neg_enroll_embeds) > 0:\n",
    "            neg_scores = cosine_sim(np.array(neg_enroll_embeds), in_embed)\n",
    "            neg_mu = np.array(neg_enroll_mu)\n",
    "            neg_std = np.array(neg_enroll_std)\n",
    "            neg_norm_scores = ((neg_scores - neg_mu)/neg_std +\\\n",
    "                               (neg_scores - test_mean)/test_std)/2\n",
    "            if neg_norm_scores.max() > 5.36:\n",
    "                close_idx = neg_norm_scores.argmax()\n",
    "                neg_clusters.append([close_idx, len(neg_enroll_embeds)])\n",
    "                neg_clusters = merge(neg_clusters)\n",
    "            \n",
    "        neg_enroll_ids.append(test_trial[0][t])\n",
    "        neg_enroll_embeds.append(in_embed)\n",
    "        enr_cohort_scores = cosine_sim(in_embed, cohort_embeds)\n",
    "        enr_mean = enr_cohort_scores.mean(0)\n",
    "        enr_std = enr_cohort_scores.std(0)\n",
    "        neg_enroll_mu.append(enr_mean)\n",
    "        neg_enroll_std.append(enr_std)\n",
    "        \n",
    "        neg_enroll_stamps[t] = 1"
   ]
  },
  {
   "cell_type": "code",
   "execution_count": 22,
   "metadata": {},
   "outputs": [
    {
     "data": {
      "text/plain": [
       "array([0.6332692 , 0.71036583, 0.6595795 ], dtype=float32)"
      ]
     },
     "execution_count": 22,
     "metadata": {},
     "output_type": "execute_result"
    }
   ],
   "source": [
    "score_list[0]"
   ]
  },
  {
   "cell_type": "code",
   "execution_count": 19,
   "metadata": {},
   "outputs": [
    {
     "ename": "ValueError",
     "evalue": "bad input shape (1992, 3)",
     "output_type": "error",
     "traceback": [
      "\u001b[0;31m---------------------------------------------------------------------------\u001b[0m",
      "\u001b[0;31mValueError\u001b[0m                                Traceback (most recent call last)",
      "\u001b[0;32m<ipython-input-19-4d5c6910290c>\u001b[0m in \u001b[0;36m<module>\u001b[0;34m()\u001b[0m\n\u001b[1;32m      3\u001b[0m \u001b[0;34m\u001b[0m\u001b[0m\n\u001b[1;32m      4\u001b[0m \u001b[0minit_score_fusions\u001b[0m \u001b[0;34m=\u001b[0m \u001b[0;34m[\u001b[0m\u001b[0mscore\u001b[0m\u001b[0;34m[\u001b[0m\u001b[0;34m:\u001b[0m\u001b[0;36m10\u001b[0m\u001b[0;34m]\u001b[0m \u001b[0;32mfor\u001b[0m \u001b[0mscore\u001b[0m \u001b[0;32min\u001b[0m \u001b[0mscore_list\u001b[0m\u001b[0;34m]\u001b[0m\u001b[0;34m\u001b[0m\u001b[0m\n\u001b[0;32m----> 5\u001b[0;31m \u001b[0minit_eer\u001b[0m \u001b[0;34m=\u001b[0m \u001b[0mcompute_eer\u001b[0m\u001b[0;34m(\u001b[0m\u001b[0minit_score_fusions\u001b[0m\u001b[0;34m,\u001b[0m \u001b[0mtest_trial\u001b[0m\u001b[0;34m[\u001b[0m\u001b[0;36m1\u001b[0m\u001b[0;34m]\u001b[0m\u001b[0;34m)\u001b[0m\u001b[0;34m\u001b[0m\u001b[0m\n\u001b[0m\u001b[1;32m      6\u001b[0m \u001b[0madapt_eer\u001b[0m \u001b[0;34m=\u001b[0m \u001b[0mcompute_eer\u001b[0m\u001b[0;34m(\u001b[0m\u001b[0mscore_fusions\u001b[0m\u001b[0;34m,\u001b[0m \u001b[0mtest_trial\u001b[0m\u001b[0;34m[\u001b[0m\u001b[0;36m1\u001b[0m\u001b[0;34m]\u001b[0m\u001b[0;34m)\u001b[0m\u001b[0;34m\u001b[0m\u001b[0m\n\u001b[1;32m      7\u001b[0m \u001b[0mnorm_adapt_eer\u001b[0m \u001b[0;34m=\u001b[0m \u001b[0mcompute_eer\u001b[0m\u001b[0;34m(\u001b[0m\u001b[0mnorm_score_fusions\u001b[0m\u001b[0;34m,\u001b[0m \u001b[0mtest_trial\u001b[0m\u001b[0;34m[\u001b[0m\u001b[0;36m1\u001b[0m\u001b[0;34m]\u001b[0m\u001b[0;34m)\u001b[0m\u001b[0;34m\u001b[0m\u001b[0m\n",
      "\u001b[0;32m/host/projects/sv_experiments/exp_adaptive_sv/batch_sv_system_utils.py\u001b[0m in \u001b[0;36mcompute_eer\u001b[0;34m(scores, labels)\u001b[0m\n\u001b[1;32m     43\u001b[0m     \u001b[0mscore_vector\u001b[0m \u001b[0;34m=\u001b[0m \u001b[0mnp\u001b[0m\u001b[0;34m.\u001b[0m\u001b[0mconcatenate\u001b[0m\u001b[0;34m(\u001b[0m\u001b[0;34m[\u001b[0m\u001b[0mpos_scores\u001b[0m\u001b[0;34m,\u001b[0m \u001b[0mneg_scores\u001b[0m\u001b[0;34m]\u001b[0m\u001b[0;34m)\u001b[0m\u001b[0;34m\u001b[0m\u001b[0m\n\u001b[1;32m     44\u001b[0m     \u001b[0mlabel_vector\u001b[0m \u001b[0;34m=\u001b[0m \u001b[0mnp\u001b[0m\u001b[0;34m.\u001b[0m\u001b[0mconcatenate\u001b[0m\u001b[0;34m(\u001b[0m\u001b[0;34m[\u001b[0m\u001b[0mnp\u001b[0m\u001b[0;34m.\u001b[0m\u001b[0mones\u001b[0m\u001b[0;34m(\u001b[0m\u001b[0mlen\u001b[0m\u001b[0;34m(\u001b[0m\u001b[0mpos_scores\u001b[0m\u001b[0;34m)\u001b[0m\u001b[0;34m)\u001b[0m\u001b[0;34m,\u001b[0m \u001b[0mnp\u001b[0m\u001b[0;34m.\u001b[0m\u001b[0mzeros\u001b[0m\u001b[0;34m(\u001b[0m\u001b[0mlen\u001b[0m\u001b[0;34m(\u001b[0m\u001b[0mneg_scores\u001b[0m\u001b[0;34m)\u001b[0m\u001b[0;34m)\u001b[0m\u001b[0;34m]\u001b[0m\u001b[0;34m)\u001b[0m\u001b[0;34m\u001b[0m\u001b[0m\n\u001b[0;32m---> 45\u001b[0;31m     \u001b[0mfprs\u001b[0m\u001b[0;34m,\u001b[0m \u001b[0mtprs\u001b[0m\u001b[0;34m,\u001b[0m \u001b[0mthres\u001b[0m \u001b[0;34m=\u001b[0m \u001b[0mroc_curve\u001b[0m\u001b[0;34m(\u001b[0m\u001b[0mlabel_vector\u001b[0m\u001b[0;34m,\u001b[0m \u001b[0mscore_vector\u001b[0m\u001b[0;34m,\u001b[0m \u001b[0mpos_label\u001b[0m\u001b[0;34m=\u001b[0m\u001b[0;36m1\u001b[0m\u001b[0;34m)\u001b[0m\u001b[0;34m\u001b[0m\u001b[0m\n\u001b[0m\u001b[1;32m     46\u001b[0m     \u001b[0mfnrs\u001b[0m \u001b[0;34m=\u001b[0m \u001b[0;36m1\u001b[0m \u001b[0;34m-\u001b[0m \u001b[0mtprs\u001b[0m\u001b[0;34m\u001b[0m\u001b[0m\n\u001b[1;32m     47\u001b[0m \u001b[0;34m\u001b[0m\u001b[0m\n",
      "\u001b[0;32m/opt/conda/envs/pytorch-py3.6/lib/python3.6/site-packages/sklearn/metrics/ranking.py\u001b[0m in \u001b[0;36mroc_curve\u001b[0;34m(y_true, y_score, pos_label, sample_weight, drop_intermediate)\u001b[0m\n\u001b[1;32m    532\u001b[0m     \"\"\"\n\u001b[1;32m    533\u001b[0m     fps, tps, thresholds = _binary_clf_curve(\n\u001b[0;32m--> 534\u001b[0;31m         y_true, y_score, pos_label=pos_label, sample_weight=sample_weight)\n\u001b[0m\u001b[1;32m    535\u001b[0m \u001b[0;34m\u001b[0m\u001b[0m\n\u001b[1;32m    536\u001b[0m     \u001b[0;31m# Attempt to drop thresholds corresponding to points in between and\u001b[0m\u001b[0;34m\u001b[0m\u001b[0;34m\u001b[0m\u001b[0m\n",
      "\u001b[0;32m/opt/conda/envs/pytorch-py3.6/lib/python3.6/site-packages/sklearn/metrics/ranking.py\u001b[0m in \u001b[0;36m_binary_clf_curve\u001b[0;34m(y_true, y_score, pos_label, sample_weight)\u001b[0m\n\u001b[1;32m    320\u001b[0m     \u001b[0mcheck_consistent_length\u001b[0m\u001b[0;34m(\u001b[0m\u001b[0my_true\u001b[0m\u001b[0;34m,\u001b[0m \u001b[0my_score\u001b[0m\u001b[0;34m,\u001b[0m \u001b[0msample_weight\u001b[0m\u001b[0;34m)\u001b[0m\u001b[0;34m\u001b[0m\u001b[0m\n\u001b[1;32m    321\u001b[0m     \u001b[0my_true\u001b[0m \u001b[0;34m=\u001b[0m \u001b[0mcolumn_or_1d\u001b[0m\u001b[0;34m(\u001b[0m\u001b[0my_true\u001b[0m\u001b[0;34m)\u001b[0m\u001b[0;34m\u001b[0m\u001b[0m\n\u001b[0;32m--> 322\u001b[0;31m     \u001b[0my_score\u001b[0m \u001b[0;34m=\u001b[0m \u001b[0mcolumn_or_1d\u001b[0m\u001b[0;34m(\u001b[0m\u001b[0my_score\u001b[0m\u001b[0;34m)\u001b[0m\u001b[0;34m\u001b[0m\u001b[0m\n\u001b[0m\u001b[1;32m    323\u001b[0m     \u001b[0massert_all_finite\u001b[0m\u001b[0;34m(\u001b[0m\u001b[0my_true\u001b[0m\u001b[0;34m)\u001b[0m\u001b[0;34m\u001b[0m\u001b[0m\n\u001b[1;32m    324\u001b[0m     \u001b[0massert_all_finite\u001b[0m\u001b[0;34m(\u001b[0m\u001b[0my_score\u001b[0m\u001b[0;34m)\u001b[0m\u001b[0;34m\u001b[0m\u001b[0m\n",
      "\u001b[0;32m/opt/conda/envs/pytorch-py3.6/lib/python3.6/site-packages/sklearn/utils/validation.py\u001b[0m in \u001b[0;36mcolumn_or_1d\u001b[0;34m(y, warn)\u001b[0m\n\u001b[1;32m    612\u001b[0m         \u001b[0;32mreturn\u001b[0m \u001b[0mnp\u001b[0m\u001b[0;34m.\u001b[0m\u001b[0mravel\u001b[0m\u001b[0;34m(\u001b[0m\u001b[0my\u001b[0m\u001b[0;34m)\u001b[0m\u001b[0;34m\u001b[0m\u001b[0m\n\u001b[1;32m    613\u001b[0m \u001b[0;34m\u001b[0m\u001b[0m\n\u001b[0;32m--> 614\u001b[0;31m     \u001b[0;32mraise\u001b[0m \u001b[0mValueError\u001b[0m\u001b[0;34m(\u001b[0m\u001b[0;34m\"bad input shape {0}\"\u001b[0m\u001b[0;34m.\u001b[0m\u001b[0mformat\u001b[0m\u001b[0;34m(\u001b[0m\u001b[0mshape\u001b[0m\u001b[0;34m)\u001b[0m\u001b[0;34m)\u001b[0m\u001b[0;34m\u001b[0m\u001b[0m\n\u001b[0m\u001b[1;32m    615\u001b[0m \u001b[0;34m\u001b[0m\u001b[0m\n\u001b[1;32m    616\u001b[0m \u001b[0;34m\u001b[0m\u001b[0m\n",
      "\u001b[0;31mValueError\u001b[0m: bad input shape (1992, 3)"
     ]
    }
   ],
   "source": [
    "neg_score_fusions = np.array(neg_score_fusions)\n",
    "norm_score_fusions = np.array(norm_score_fusions)\n",
    "\n",
    "init_score_fusions = [score[0] for score in score_list]\n",
    "init_eer = compute_eer(init_score_fusions, test_trial[1])\n",
    "adapt_eer = compute_eer(score_fusions, test_trial[1])\n",
    "norm_adapt_eer = compute_eer(norm_score_fusions, test_trial[1])\n",
    "oracle_norm_adapt_eer = compute_eer(norm_oracle_score_fusions, test_trial[1])\n",
    "neg_eer = compute_eer(neg_score_fusions, test_trial[1])\n",
    "print(\"adapt_enr:{}({:.2f}), neg_enr:{}({:.2f})\".format(len(enroll_embeds)-3, np.mean(enroll_correct),\n",
    "                                                        len(neg_enroll_embeds), np.mean(neg_enroll_correct)))\n",
    "print(\"init_eer:{:.4f}, adapt_eer:{:.4f} \".format(init_eer[0], adapt_eer[0]) +  \n",
    "      \"norm_adapt_eer:{:.4f}, norm_oracle_adapt_eer:{:.4f}, neg_eer:{:.4f}\".format(\n",
    "    norm_adapt_eer[0], oracle_norm_adapt_eer[0], neg_eer[0]))"
   ]
  },
  {
   "cell_type": "code",
   "execution_count": null,
   "metadata": {},
   "outputs": [],
   "source": [
    "print(enr_spk)\n",
    "print(imposters)\n",
    "for cluster in neg_clusters:\n",
    "    print(np.array(neg_enroll_ids)[cluster])"
   ]
  },
  {
   "cell_type": "code",
   "execution_count": 775,
   "metadata": {},
   "outputs": [
    {
     "data": {
      "text/plain": [
       "<matplotlib.axes._subplots.AxesSubplot at 0x7f25ef087ef0>"
      ]
     },
     "execution_count": 775,
     "metadata": {},
     "output_type": "execute_result"
    },
    {
     "data": {
      "image/png": "[encoded data removed]",
      "text/plain": [
       "<Figure size 432x288 with 1 Axes>"
      ]
     },
     "metadata": {},
     "output_type": "display_data"
    }
   ],
   "source": [
    "import seaborn as sns\n",
    "sns.distplot(norm_score_fusions[test_trial[1]==1], bins=30, kde=True)"
   ]
  },
  {
   "cell_type": "code",
   "execution_count": 320,
   "metadata": {},
   "outputs": [
    {
     "name": "stdout",
     "output_type": "stream",
     "text": [
      "3.8318372\n"
     ]
    },
    {
     "data": {
      "text/plain": [
       "array([3.2148209, 3.5494711, 3.436107 , 3.787942 , 3.7652142, 3.6931164,\n",
       "       3.7878513, 3.4466853, 3.3797152, 3.3289247, 3.210183 , 2.9737775],\n",
       "      dtype=float32)"
      ]
     },
     "execution_count": 320,
     "metadata": {},
     "output_type": "execute_result"
    }
   ],
   "source": [
    "print(norm_adapt_eer[-1])\n",
    "norm_score_fusions[(norm_score_fusions < norm_adapt_eer[-1]) & (test_trial[1] == 1)]"
   ]
  },
  {
   "cell_type": "code",
   "execution_count": 448,
   "metadata": {},
   "outputs": [
    {
     "name": "stderr",
     "output_type": "stream",
     "text": [
      "/opt/conda/envs/pytorch-py3.6/lib/python3.6/site-packages/scipy/stats/stats.py:1713: FutureWarning: Using a non-tuple sequence for multidimensional indexing is deprecated; use `arr[tuple(seq)]` instead of `arr[seq]`. In the future this will be interpreted as an array index, `arr[np.array(seq)]`, which will result either in an error or a different result.\n",
      "  return np.add.reduce(sorted[indexer] * weights, axis=axis) / sumval\n"
     ]
    },
    {
     "data": {
      "text/plain": [
       "<matplotlib.axes._subplots.AxesSubplot at 0x7f25da2894a8>"
      ]
     },
     "execution_count": 448,
     "metadata": {},
     "output_type": "execute_result"
    },
    {
     "data": {
      "image/png": "[encoded data removed]",
      "text/plain": [
       "<Figure size 432x288 with 1 Axes>"
      ]
     },
     "metadata": {},
     "output_type": "display_data"
    }
   ],
   "source": [
    "neg_score_fusions = np.array(neg_score_fusions)\n",
    "sns.distplot(neg_score_fusions[test_trial[1] == 1])"
   ]
  },
  {
   "cell_type": "code",
   "execution_count": 449,
   "metadata": {},
   "outputs": [
    {
     "name": "stderr",
     "output_type": "stream",
     "text": [
      "/opt/conda/envs/pytorch-py3.6/lib/python3.6/site-packages/scipy/stats/stats.py:1713: FutureWarning: Using a non-tuple sequence for multidimensional indexing is deprecated; use `arr[tuple(seq)]` instead of `arr[seq]`. In the future this will be interpreted as an array index, `arr[np.array(seq)]`, which will result either in an error or a different result.\n",
      "  return np.add.reduce(sorted[indexer] * weights, axis=axis) / sumval\n"
     ]
    },
    {
     "data": {
      "text/plain": [
       "<matplotlib.axes._subplots.AxesSubplot at 0x7f2510037ba8>"
      ]
     },
     "execution_count": 449,
     "metadata": {},
     "output_type": "execute_result"
    },
    {
     "data": {
      "image/png": "[encoded data removed]",
      "text/plain": [
       "<Figure size 432x288 with 1 Axes>"
      ]
     },
     "metadata": {},
     "output_type": "display_data"
    }
   ],
   "source": [
    "neg_score_fusions = np.array(neg_score_fusions)\n",
    "sns.distplot(neg_score_fusions[test_trial[1] == 0])"
   ]
  },
  {
   "cell_type": "code",
   "execution_count": 168,
   "metadata": {},
   "outputs": [],
   "source": [
    "from sklearn.cluster import KMeans\n",
    "model = KMeans(n_clusters=4, init=\"random\", n_init=10, max_iter=300, random_state=8).fit(np.array(neg_enroll_embeds))"
   ]
  }
 ],
 "metadata": {
  "kernelspec": {
   "display_name": "Python 3",
   "language": "python",
   "name": "python3"
  },
  "language_info": {
   "codemirror_mode": {
    "name": "ipython",
    "version": 3
   },
   "file_extension": ".py",
   "mimetype": "text/x-python",
   "name": "python",
   "nbconvert_exporter": "python",
   "pygments_lexer": "ipython3",
   "version": "3.6.5"
  }
 },
 "nbformat": 4,
 "nbformat_minor": 2
}
