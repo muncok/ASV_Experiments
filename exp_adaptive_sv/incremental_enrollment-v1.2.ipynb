{
 "cells": [
  {
   "cell_type": "markdown",
   "metadata": {},
   "source": [
    "# Incremental Ernollment Trial\n",
    "---------\n",
    "\n",
    "노트북 마지막 버전.\n",
    "\n",
    "코드가 길어져서 코어부분만 script로 옮겼다.\n",
    "\n",
    "Visualization만 남기고 다 보내버리는 것이 나을 것 같다."
   ]
  },
  {
   "cell_type": "markdown",
   "metadata": {},
   "source": [
    "## Environment"
   ]
  },
  {
   "cell_type": "code",
   "execution_count": 1,
   "metadata": {},
   "outputs": [
    {
     "name": "stdout",
     "output_type": "stream",
     "text": [
      "Using matplotlib backend: TkAgg\n",
      "Populating the interactive namespace from numpy and matplotlib\n"
     ]
    },
    {
     "name": "stderr",
     "output_type": "stream",
     "text": [
      "/opt/conda/envs/pytorch-py3.6/lib/python3.6/importlib/_bootstrap.py:219: RuntimeWarning: numpy.dtype size changed, may indicate binary incompatibility. Expected 96, got 88\n",
      "  return f(*args, **kwds)\n"
     ]
    }
   ],
   "source": [
    "%load_ext autoreload\n",
    "%autoreload 2\n",
    "%pylab\n",
    "%matplotlib inline\n",
    "\n",
    "import pandas as pd\n",
    "import pickle\n",
    "import numpy as np\n",
    "import sys\n",
    "import os"
   ]
  },
  {
   "cell_type": "code",
   "execution_count": 2,
   "metadata": {},
   "outputs": [],
   "source": [
    "sys.path.append('/host/projects/sv_experiments/sv_system')\n",
    "os.environ[\"CUDA_DEVICE_ORDER\"]=\"PCI_BUS_ID\"   # see issue #152\n",
    "os.environ[\"CUDA_VISIBLE_DEVICES\"]=\"1\""
   ]
  },
  {
   "cell_type": "code",
   "execution_count": 3,
   "metadata": {},
   "outputs": [],
   "source": [
    "def key2df(keys, delimeter=\"-\"):\n",
    "    key_df = pd.DataFrame(keys, columns=['key'])\n",
    "    key_df['spk'] = key_df.key.apply(lambda x: x.split(delimeter)[0])\n",
    "    key_df['label'] = key_df.groupby('spk').ngroup()\n",
    "    key_df['origin'] = key_df.spk.apply(lambda x: 'voxc2' if x.startswith('id') else 'voxc1')\n",
    "    key_df = key_df.set_index('key')\n",
    "    \n",
    "    return key_df"
   ]
  },
  {
   "cell_type": "code",
   "execution_count": 4,
   "metadata": {},
   "outputs": [],
   "source": [
    "fig_dir_name = './figs/'"
   ]
  },
  {
   "cell_type": "markdown",
   "metadata": {},
   "source": [
    "## Dataframes & embeddings"
   ]
  },
  {
   "cell_type": "code",
   "execution_count": 5,
   "metadata": {},
   "outputs": [],
   "source": [
    "# code for loading a lda embeddings from kaldi output\n",
    "\n",
    "#import kaldi_io\n",
    "#\n",
    "#sv_keys = []\n",
    "#sv_embeds = []\n",
    "#for k,v in kaldi_io.read_vec_flt_ark(\"voxc2_fbank64_embeds/lda_feats.ark\"):\n",
    "#    sv_keys += [k]\n",
    "#    sv_embeds += [v]\n",
    "#\n",
    "#keys = np.array(sv_keys)\n",
    "#embeds = np.array(sv_embeds)\n",
    "#embeds = embeds / np.linalg.norm(embeds, axis=1, keepdims=True)"
   ]
  },
  {
   "cell_type": "code",
   "execution_count": 6,
   "metadata": {},
   "outputs": [],
   "source": [
    "# # dataframe for test embeds\n",
    "# test_df = pd.read_pickle(\"/dataset/SV_sets/voxceleb12/dataframes/voxc12_sv_test_dataframe.pkl\")\n",
    "# test_spks = test_df.spk.unique().tolist()\n",
    "# test_key_df = key_df[key_df.spk.isin(test_spks)]\n",
    "# test_key_df['key'] = test_key_df.index\n",
    "# test_key_df[\"embed_id\"] =  test_key_df.key.apply(lambda x: key2index[x])"
   ]
  },
  {
   "cell_type": "code",
   "execution_count": 7,
   "metadata": {},
   "outputs": [],
   "source": [
    "keys = pickle.load(open(\"./voxc2_fbank64_embeds/sv_keys.pkl\", \"rb\"))\n",
    "keys = np.array(keys)\n",
    "\n",
    "# it used for mapping from key to index\n",
    "key_df = key2df(keys)\n",
    "key2id = {k:v for v, k in enumerate(keys)}"
   ]
  },
  {
   "cell_type": "code",
   "execution_count": 8,
   "metadata": {},
   "outputs": [],
   "source": [
    "# val_df = pd.read_pickle(\"cases/enr6_pos300/validation/val_thresh_trials.pkl\")\n",
    "# val_spks = list(set(val_df.enroll_spk) | set(val_df.test_spk))\n",
    "# trial_for_thresh_pos300 = trial_for_thresh[trial_for_thresh.enroll_spk.isin(val_spks) | trial_for_thresh.test_spk.isin(val_spks)]"
   ]
  },
  {
   "cell_type": "code",
   "execution_count": 9,
   "metadata": {},
   "outputs": [],
   "source": [
    "# key_df for test embeds\n",
    "test_key_df = pd.read_pickle(\"/dataset/SV_sets/voxceleb12/dataframes/voxc2_trials/voxc2_test_40_spks.pkl\")"
   ]
  },
  {
   "cell_type": "code",
   "execution_count": 10,
   "metadata": {},
   "outputs": [],
   "source": [
    "embeds_800f = np.load(\"./voxc2_fbank64_embeds/sv_embeds.npy\")\n",
    "# embeds_800f = embeds_800f / np.linalg.norm(embeds_800f, axis=1, keepdims=True)"
   ]
  },
  {
   "cell_type": "code",
   "execution_count": 11,
   "metadata": {},
   "outputs": [],
   "source": [
    "embeds_400f = np.load(\"./voxc2_fbank64_embeds/400f_sub_utter/sv_embeds.npy\")\n",
    "# embeds_400f = embeds_400f / np.linalg.norm(embeds_400f, axis=1, keepdims=True)"
   ]
  },
  {
   "cell_type": "code",
   "execution_count": 12,
   "metadata": {},
   "outputs": [],
   "source": [
    "embeds_precise = np.load(\"./voxc2_fbank64_precise_embeds/sv_embeds.npy\")\n",
    "# embeds_precise = embeds_precise / np.linalg.norm(embeds_precise, axis=1, keepdims=True)"
   ]
  },
  {
   "cell_type": "code",
   "execution_count": 13,
   "metadata": {},
   "outputs": [],
   "source": [
    "embeds_untied_precise = np.load(\"./voxc2_fbank64_precise_untied_embeds/sv_embeds.npy\")\n",
    "# embeds_precise = embeds_precise / np.linalg.norm(embeds_precise, axis=1, keepdims=True)"
   ]
  },
  {
   "cell_type": "code",
   "execution_count": 14,
   "metadata": {},
   "outputs": [],
   "source": [
    "enroll = 'untiedPrecise'\n",
    "test = 'untiedPrecise'\n",
    "\n",
    "if enroll == '800f':\n",
    "    enroll_embeds = embeds_800f\n",
    "elif enroll == '400f':\n",
    "    enroll_embeds = embeds_400f[:,0]\n",
    "elif enroll == 'precies':\n",
    "    enroll_embeds = embeds_precise\n",
    "elif enroll == 'untiedPrecise':\n",
    "    enroll_embeds = embeds_untied_precise\n",
    "\n",
    "if test == '800f':\n",
    "    test_embeds = embeds_800f\n",
    "elif test == '400f':\n",
    "    test_embeds = embeds_400f[:,0]\n",
    "elif test == 'precies':\n",
    "    test_embeds = embeds_precise\n",
    "elif test == 'untiedPrecise':\n",
    "    test_embeds = embeds_untied_precise\n"
   ]
  },
  {
   "cell_type": "markdown",
   "metadata": {},
   "source": [
    "## Utils"
   ]
  },
  {
   "cell_type": "code",
   "execution_count": 15,
   "metadata": {},
   "outputs": [],
   "source": [
    "import scipy.stats\n",
    "\n",
    "def mean_confidence_interval(data, confidence=0.95):\n",
    "    a = 1.0 * np.array(data)\n",
    "    n = len(a)\n",
    "    m, se = np.mean(a), scipy.stats.sem(a)\n",
    "    h = se * scipy.stats.t.ppf((1 + confidence) / 2., n-1)\n",
    "    return m, m-h, m+h"
   ]
  },
  {
   "cell_type": "code",
   "execution_count": 16,
   "metadata": {},
   "outputs": [],
   "source": [
    "import torch\n",
    "from torch.nn.functional import cosine_similarity\n",
    "from scipy import spatial\n",
    "\n",
    "def euc_dist(a, b, dim):\n",
    "    return np.linalg.norm(a-b, axis=dim)\n",
    "\n",
    "def euc_dist_sim(a, b, dim=0):\n",
    "    return 1/(1+euc_dist(a, b, dim))\n",
    "\n",
    "def cos_dist_sim(a, b, dim):\n",
    "    a = a / np.linalg.norm(a, axis=dim, keepdims=True)\n",
    "    b = b / np.linalg.norm(b, axis=dim, keepdims=True)\n",
    "    return np.dot(a, b.T)\n",
    "\n",
    "def cos_dist_sim_torch(a, b, dim=0):\n",
    "    a = torch.from_numpy(a).float()\n",
    "    b = torch.from_numpy(b).float()\n",
    "    \n",
    "    return cosine_similarity(a, b, dim=dim).numpy()"
   ]
  },
  {
   "cell_type": "code",
   "execution_count": 17,
   "metadata": {},
   "outputs": [],
   "source": [
    "from sklearn.metrics import roc_curve, auc\n",
    "\n",
    "def compute_eer(pos_scores, neg_scores):\n",
    "    score_vector = np.concatenate([pos_scores, neg_scores])\n",
    "    label_vector = np.concatenate([np.ones(len(pos_scores)), np.zeros(len(neg_scores))])\n",
    "    fpr, tpr, thres = roc_curve(label_vector, score_vector, pos_label=1)\n",
    "    eer = np.min([fpr[np.nanargmin(np.abs(fpr - (1 - tpr)))],\n",
    "                 1-tpr[np.nanargmin(np.abs(fpr - (1 - tpr)))]])\n",
    "    thres = thres[np.nanargmin(np.abs(fpr - (1 - tpr)))]\n",
    "\n",
    "    return eer, thres"
   ]
  },
  {
   "cell_type": "code",
   "execution_count": 42,
   "metadata": {},
   "outputs": [],
   "source": [
    "def compute_trials_eer(g):\n",
    "    base_score = np.array(g.base_score.sum())\n",
    "    inc_score = np.array(g.inc_score.sum())\n",
    "    #winc_score = np.array(g.winc_score.sum())\n",
    "    label = np.array(g.label.sum())\n",
    "\n",
    "    base_pos_score = base_score[label == 1]\n",
    "    base_neg_score = base_score[label == 0]\n",
    "\n",
    "    inc_pos_score = inc_score[label == 1]\n",
    "    inc_neg_score = inc_score[label == 0]\n",
    "\n",
    "    #winc_pos_score = winc_score[label == 1]\n",
    "    #winc_neg_score = winc_score[label == 0]\n",
    "\n",
    "    base_eer, base_thres = compute_eer(base_pos_score, base_neg_score)\n",
    "    inc_eer, inc_thres = compute_eer(inc_pos_score, inc_neg_score)\n",
    "    #winc_eer, winc_thres = compute_eer(winc_pos_score, winc_neg_score)\n",
    "    \n",
    "    #return base_eer, inc_eer, winc_eer, base_thres, inc_thres, winc_thres\n",
    "    return base_eer, inc_eer, base_thres, inc_thres"
   ]
  },
  {
   "cell_type": "code",
   "execution_count": 40,
   "metadata": {},
   "outputs": [],
   "source": [
    "def compute_trials_eer_wrapper(g):\n",
    "    #base_eer, inc_eer, winc_eer, _, _, _ = compute_trials_eer(g)\n",
    "    #return pd.Series( dict(base_eer = base_eer, inc_eer = inc_eer, winc_eer = winc_eer, ) )\n",
    "    base_eer, inc_eer, _, _ = compute_trials_eer(g)\n",
    "    return pd.Series( dict(base_eer = base_eer, inc_eer = inc_eer ) )"
   ]
  },
  {
   "cell_type": "code",
   "execution_count": 41,
   "metadata": {},
   "outputs": [],
   "source": [
    "def compute_trials_thres_wrapper(g):\n",
    "    #_, _, _, base_thres, inc_thres, winc_thres = compute_trials_eer(g)\n",
    "    #return pd.Series( dict(base_thres = base_thres, inc_thres = inc_thres, winc_thres = winc_thres, ) )\n",
    "    _, _, base_thres, inc_thres = compute_trials_eer(g)\n",
    "    return pd.Series( dict(base_thres = base_thres, inc_thres = inc_thres ) )"
   ]
  },
  {
   "cell_type": "code",
   "execution_count": 38,
   "metadata": {},
   "outputs": [],
   "source": [
    "import numpy as np\n",
    "import pandas as pd\n",
    "import scipy.stats as st\n",
    "from sklearn.metrics import r2_score, mean_squared_error\n",
    "\n",
    "def r2_rmse_interval(g):\n",
    "    if 'base_acc' in g.columns:\n",
    "        base = st.t.interval(0.95, len(g) -1, loc=np.mean(g.base_acc), scale=st.sem(g.base_acc)) - np.mean(g.base_acc)\n",
    "        inc = st.t.interval(0.95, len(g) -1, loc=np.mean(g.inc_acc), scale=st.sem(g.inc_acc)) - np.mean(g.inc_acc)\n",
    "        #winc = st.t.interval(0.95, len(g) -1, loc=np.mean(g.winc_acc), scale=st.sem(g.winc_acc)) - np.mean(g.winc_acc)\n",
    "        #return pd.Series( dict(base_acc = base[-1], inc_acc = inc[-1], winc_acc = winc[-1]) )\n",
    "        return pd.Series( dict(base_acc = base[-1], inc_acc = inc[-1]) )\n",
    "    elif 'inc_enr' in g.columns:\n",
    "        inc = st.t.interval(0.95, len(g) -1, loc=np.mean(g.inc_enr), scale=st.sem(g.inc_enr)) - np.mean(g.inc_enr)\n",
    "        #winc = st.t.interval(0.95, len(g) -1, loc=np.mean(g.winc_enr), scale=st.sem(g.winc_enr)) - np.mean(g.winc_enr)\n",
    "        #return pd.Series( dict(inc_enr = inc[-1], winc_enr = winc[-1]) )\n",
    "        return pd.Series( dict(inc_enr = inc[-1]) )\n",
    "    elif 'base_fpr' in g.columns:\n",
    "        base = st.t.interval(0.95, len(g) -1, loc=np.mean(g.base_fpr), scale=st.sem(g.base_fpr)) - np.mean(g.base_fpr)\n",
    "        inc = st.t.interval(0.95, len(g) -1, loc=np.mean(g.inc_fpr), scale=st.sem(g.inc_fpr)) - np.mean(g.inc_fpr)\n",
    "        #winc = st.t.interval(0.95, len(g) -1, loc=np.mean(g.winc_fpr), scale=st.sem(g.winc_fpr)) - np.mean(g.winc_fpr)\n",
    "        #return pd.Series( dict(base_fpr = base[-1], inc_fpr = inc[-1], winc_fpr = winc[-1]) )\n",
    "        return pd.Series( dict(base_fpr = base[-1], inc_fpr = inc[-1]) )\n",
    "    elif 'base_fnr' in g.columns:\n",
    "        base = st.t.interval(0.95, len(g) -1, loc=np.mean(g.base_fnr), scale=st.sem(g.base_fnr)) - np.mean(g.base_fnr)\n",
    "        inc = st.t.interval(0.95, len(g) -1, loc=np.mean(g.inc_fnr), scale=st.sem(g.inc_fnr)) - np.mean(g.inc_fnr)\n",
    "        #winc = st.t.interval(0.95, len(g) -1, loc=np.mean(g.winc_fnr), scale=st.sem(g.winc_fnr)) - np.mean(g.winc_fnr)\n",
    "        #return pd.Series( dict(base_fnr = base[-1], inc_fnr = inc[-1], winc_fnr = winc[-1]) )\n",
    "        return pd.Series( dict(base_fnr = base[-1], inc_fnr = inc[-1]) )"
   ]
  },
  {
   "cell_type": "code",
   "execution_count": 22,
   "metadata": {},
   "outputs": [],
   "source": [
    "def plot_timeline(accept, enroll, score, label, enrol_spk, mode, axis):\n",
    "    col_size = len(label)\n",
    "    if col_size > 600:\n",
    "        return\n",
    "    \n",
    "    columns_index = [str(i) for i in range(1, col_size+1)]\n",
    "    rows = ['label', enrol_spk, 'stat']\n",
    "    \n",
    "    # ENROLL COUNT\n",
    "    cnt = 0\n",
    "    enrol_cnt = []\n",
    "    for enr in enroll:\n",
    "        if enr != -1:\n",
    "            cnt += 1\n",
    "            enrol_cnt.append(str(cnt))\n",
    "        else:\n",
    "            enrol_cnt.append('')\n",
    "            \n",
    "    # SCORE\n",
    "    scores = []\n",
    "    for i, s in enumerate(score):\n",
    "        if accept[i] == 1:\n",
    "            scores.append('{:.3f}'.format(s))\n",
    "        else:\n",
    "            scores.append('')\n",
    "\n",
    "    # STATISTICS\n",
    "    stat = []\n",
    "    for i, a in enumerate(accept):\n",
    "        if (a == 0) and (label[i] == 1): # FNR\n",
    "            stat.append('n')\n",
    "        elif (a == 1) and (label[i] == 0): # FPR\n",
    "            stat.append('p')\n",
    "        else:\n",
    "            stat.append('')\n",
    "    \n",
    "    # CREATE CEL VALUES\n",
    "    cel_values = []     \n",
    "    cel_values.append(['']*col_size)\n",
    "    if mode == 'enroll':\n",
    "        cel_values.append(enrol_cnt)\n",
    "    else:\n",
    "        cel_values.append(scores)\n",
    "    cel_values.append(stat)  \n",
    "        \n",
    "    # COLORS\n",
    "    label_colors = []\n",
    "    enrol_colors = []\n",
    "    stat_colors = []\n",
    "    for l, a, e, s in zip(label, accept, enroll, stat):\n",
    "        if l == 1:\n",
    "            label_colors.append('#c0c0c0')\n",
    "        else:\n",
    "            label_colors.append('w')\n",
    "            \n",
    "        if (a == 1):\n",
    "            if e == -1: # Only accept\n",
    "                enrol_colors.append('#c0c0c0')\n",
    "            else: # Enrolled\n",
    "                enrol_colors.append('#000000')\n",
    "        else:\n",
    "            enrol_colors.append('w')\n",
    "            \n",
    "        if s == 'n':\n",
    "            stat_colors.append('#A0522D')\n",
    "        elif s == 'p':\n",
    "            stat_colors.append('#1E90FF')\n",
    "        else:\n",
    "            stat_colors.append('w')\n",
    "    colors = [label_colors, enrol_colors, stat_colors]\n",
    "\n",
    "    the_table = axis.table(cellColours=colors, rowLabels=rows, colLabels=columns_index, cellText=cel_values, loc='center')\n",
    "    the_table.auto_set_font_size(False) \n",
    "    the_table.set_fontsize(8)\n",
    "    \n",
    "    for col in range(col_size):\n",
    "        the_table._cells[(0, col)]._text.set_fontsize(5)\n",
    "        the_table._cells[(0, col)]._text.set_rotation(90)\n",
    "        \n",
    "    for row in range(1,len(rows)+1):\n",
    "        for col in range(col_size):\n",
    "            the_table._cells[(row, col)]._text.set_color('#ff0000')\n",
    "            the_table._cells[(row, col)]._text.set_fontsize(5)\n",
    "            the_table._cells[(row, col)]._text.set_fontweight('bold')\n",
    "            the_table._cells[(row, col)]._text.set_rotation(45)"
   ]
  },
  {
   "cell_type": "code",
   "execution_count": 23,
   "metadata": {},
   "outputs": [],
   "source": [
    "def plot_wrapper(df, mode, width, height):\n",
    "    figs = {}\n",
    "    for i, row in df.iterrows():\n",
    "        base_accept = row['base_accept']; base_enroll = row['base_enroll']; base_score = row['base_score']\n",
    "        inc_accept = row['inc_accept']; inc_enroll = row['inc_enroll']; inc_score = row['inc_score']\n",
    "        winc_accept = row['winc_accept']; winc_enroll = row['winc_enroll']; winc_score = row['winc_score']\n",
    "        enrol_spk = row['spk']\n",
    "        label = row['label']\n",
    "        \n",
    "        fig = plt.figure(figsize=(width,height), tight_layout=False)\n",
    "        axis1 = fig.add_subplot(311, frameon=False, xticks=[], yticks=[])\n",
    "        axis1.set_ymargin(0.3)\n",
    "        plot_timeline(base_accept, base_enroll, base_score, label, enrol_spk, mode, axis1)\n",
    "\n",
    "        axis2 = fig.add_subplot(312, frameon=False, xticks=[], yticks=[])\n",
    "        axis2.set_ymargin(0.3)\n",
    "        plot_timeline(inc_accept, inc_enroll, inc_score, label, enrol_spk, mode, axis2)\n",
    "        \n",
    "        #axis3 = fig.add_subplot(313, frameon=False, xticks=[], yticks=[])\n",
    "        #axis3.set_ymargin(0.3)\n",
    "        #plot_timeline(winc_accept, winc_enroll, winc_score, label, enrol_spk, mode, axis3)\n",
    "\n",
    "        figs[enrol_spk] = fig\n",
    "        if i == 3:\n",
    "            break\n",
    "    return figs"
   ]
  },
  {
   "cell_type": "markdown",
   "metadata": {},
   "source": [
    "## SV system and Speaker model"
   ]
  },
  {
   "cell_type": "code",
   "execution_count": 24,
   "metadata": {},
   "outputs": [],
   "source": [
    "class spk_model():\n",
    "    def __init__(self, name, keys, enroll_utters, config):\n",
    "        self.name = name\n",
    "        self.accept_thres = config['accept_thres']\n",
    "        self.enroll_thres = config['enroll_thres']\n",
    "        self.sim = config['sim']\n",
    "        self.mod = config['mod']\n",
    "        self.accept_thres_update = config['accept_thres_update']\n",
    "        self.enroll_thres_update = config['enroll_thres_update']\n",
    "        self.n_use_enroll = config['n_use_enroll']\n",
    "        self.include_init = config['include_init']\n",
    "        \n",
    "        self.n_init_enrolls = len(keys)\n",
    "        self.n_total_enroll = 0\n",
    "        \n",
    "        self.embed_key = keys\n",
    "        self.utters = list(enroll_utters)\n",
    "        self.confidences = [1.0]*self.n_init_enrolls\n",
    "        self.confidences_scale = [1.0]*self.n_init_enrolls\n",
    "    \n",
    "        self.embed_mean = self._compute_embed_mean()\n",
    "        \n",
    "    \n",
    "    def _compute_embed_mean(self):\n",
    "        mean_ = (np.array(self.utters) * np.expand_dims(np.array(self.confidences_scale), 1)).mean(0)\n",
    "#         mean_ = np.average(self.utters, axis=0, weights=self.confidences_scale)\n",
    "        return mean_\n",
    "        \n",
    "    def _compute_confidence_scale(self, cfid):\n",
    "        if self.mod == 'base':\n",
    "            self.confidences_scale.append(1.0)\n",
    "        elif self.mod == 'inc':\n",
    "            self.confidences_scale.append(1.0)\n",
    "        elif self.mod == 'weight': # TODO: scale method\n",
    "            self.confidences_scale.append(cfid)\n",
    "            max_cfid = np.max(self.confidences[self.n_init_enrolls:])\n",
    "            for i in range(self.n_init_enrolls, len(self.confidences)):\n",
    "                self.confidences_scale[i] = self.confidences[i]/max_cfid\n",
    "        else:\n",
    "            raise 'SPK MODEL: Undefined Mode'\n",
    "    \n",
    "    def _init_confidence_scale(self):\n",
    "        if self.mod == 'base':\n",
    "            pass # Do nothing\n",
    "        elif self.mod == 'inc':\n",
    "            pass # Do nothing\n",
    "        elif self.mod == 'weight':\n",
    "            self.confidences_scale = [self.confidence(utter) for utter in self.utters]\n",
    "            self.embed_mean = self._compute_embed_mean()\n",
    "        else:\n",
    "            raise 'SPK MODEL: Undefined Mode'\n",
    "    \n",
    "    def enroll(self, key, in_utter, cfid):\n",
    "        self.embed_key.append(key)\n",
    "        self.utters.append(in_utter)\n",
    "        self.confidences.append(cfid)\n",
    "        self.n_total_enroll += 1\n",
    "\n",
    "        self._compute_confidence_scale(cfid)\n",
    "        prev_mean = self.embed_mean\n",
    "        self.embed_mean = self._compute_embed_mean()\n",
    "        \n",
    "        norm_diff = np.linalg.norm(prev_mean, ord=config['ord']) - np.linalg.norm(self.embed_mean, ord=config['ord'])    \n",
    "        diff_norm = np.linalg.norm(prev_mean-self.embed_mean, ord=config['ord'])\n",
    "        mean_cos = cos_dist_sim(prev_mean, self.embed_mean, dim=0)\n",
    "\n",
    "        if (1-mean_cos) >= 1e-4:\n",
    "            sign = 1\n",
    "        else:\n",
    "            sign = -1\n",
    "        if config['accept_thres_update']:\n",
    "            self.accept_thres = (self.accept_thres + config['cfid_coef'] * (cfid - self.accept_thres)) * (1 + sign * config['mean_coef'] * (1-mean_cos))\n",
    "        if config['enroll_thres_update']:\n",
    "            self.enroll_thres = (self.enroll_thres + config['cfid_coef'] * config['c_multiplier'] * (cfid - self.enroll_thres)) * (1 + sign * config['mean_coef'] * config['m_multiplier'] * (1-mean_cos))\n",
    "\n",
    "        \n",
    "        # this value shold be not used (it is not allowed supervison)\n",
    "        if key[:7] == self.name:\n",
    "            return 1\n",
    "        else:\n",
    "            return 0\n",
    "    \n",
    "    def confidence(self, in_utter):\n",
    "        if self.sim == 'cosMean':\n",
    "            if self.mod == 'base':\n",
    "                cfid = cos_dist_sim(self.embed_mean, in_utter, dim=0)\n",
    "            else:\n",
    "                ### cosine score mulplied with norm ###\n",
    "                #cfid = cos_dist_sim(self.embed_mean, in_utter) * np.linalg.norm(self.embed_mean)\n",
    "                ### cosine score ###\n",
    "                cfid = cos_dist_sim(self.embed_mean, in_utter)\n",
    "\n",
    "        elif self.sim == 'meanCos':\n",
    "            in_utter_ = np.array(in_utter).reshape(1,-1)\n",
    "            if self.mod == 'base':\n",
    "                utters_ = np.array(self.utters)\n",
    "            else:\n",
    "                ### Random 3 utters in the enrolled ###\n",
    "                #idx = np.random.choice(range(len(self.utters)), size=min(len(self.utters),10))\n",
    "                n_total = len(self.utters)\n",
    "                if self.n_use_enroll == 'full':\n",
    "                    idx = list(range(n_total))\n",
    "                elif self.include_init:\n",
    "                    idx = [0]+list(range(max(0, n_total-int(self.n_use_enroll))+1, n_total))\n",
    "                else:\n",
    "                    idx = list(range(max(0, n_total-int(self.n_use_enroll)), n_total))\n",
    "                utters_ = np.array(self.utters)[idx]\n",
    "            cfid = cos_dist_sim(utters_, in_utter_, dim=1).mean()\n",
    "        elif self.sim == 'euc':\n",
    "            cfid = 1/(1+np.linalg.norm(self.embed_mean-in_utter, axis=0))\n",
    "\n",
    "        return cfid\n",
    "    \n",
    "    def show_enrolls(self,):\n",
    "        print(\"{:25}: cfid  s_cfid\".format(\"key\"))\n",
    "        for i, (key, cfid, cfid_scale) in enumerate(zip(self.embed_key, self.confidences, self.confidences_scale)):\n",
    "            if i == self.n_init_enrolls:\n",
    "                print(\"==================================\")\n",
    "            print(\"{}: {:.3f} {:.3f}\".format(key, cfid, cfid_scale))\n",
    "            "
   ]
  },
  {
   "cell_type": "code",
   "execution_count": 25,
   "metadata": {},
   "outputs": [],
   "source": [
    "class sv_system():\n",
    "    def __init__(self, spk_models, config):\n",
    "        self.spk_models = spk_models\n",
    "        self.mod = config['mod']\n",
    "        \n",
    "        self.log_trial_keys = []\n",
    "        self.log_trial_cfid = []\n",
    "        self.log_trial_res  = []\n",
    "        self.log_trial_mod  = []\n",
    "            \n",
    "    def _get_max_cfid(self, in_utter):\n",
    "        cfids = []\n",
    "        for model in self.spk_models:\n",
    "            cfid = model.confidence(in_utter)\n",
    "            cfids.append(cfid)\n",
    "        \n",
    "        return np.max(cfids), np.argmax(cfids)\n",
    "        \n",
    "    def verify_and_enroll(self, key, in_utter):\n",
    "        accept = 0\n",
    "        enroll = -1\n",
    "        max_cfid, max_idx = self._get_max_cfid(in_utter)\n",
    "        spk_model = self.spk_models[max_idx]\n",
    "        accept_thres = spk_model.accept_thres\n",
    "        enroll_thres = spk_model.enroll_thres\n",
    "        \n",
    "        if max_cfid > accept_thres:\n",
    "            accept = 1\n",
    "        if (max_cfid > enroll_thres) and (self.mod != 'base'):\n",
    "            enroll = spk_model.enroll(key, in_utter, max_cfid)\n",
    "                \n",
    "        return accept, enroll, max_cfid\n",
    "    \n",
    "    def show_enrolls(self,):\n",
    "        for model in self.spk_models:\n",
    "            print(model.name)\n",
    "            model.show_enrolls()\n",
    "            print(\"----------------------------------------------\")"
   ]
  },
  {
   "cell_type": "markdown",
   "metadata": {},
   "source": [
    "## Test Functions"
   ]
  },
  {
   "cell_type": "code",
   "execution_count": 26,
   "metadata": {},
   "outputs": [],
   "source": [
    "### Return: Accuracy, Enroll_accuracy, FPR, FNR, Scores\n",
    "def get_accuracy_system(sv_system, trial_ids, label):\n",
    "    label = np.array(label)\n",
    "    accepts = []\n",
    "    enrolls = []\n",
    "    scores = []\n",
    "    for trial_id in trial_ids:\n",
    "        accept, enroll, cfid = sv_system.verify_and_enroll(keys[trial_id], test_embeds[trial_id])\n",
    "        accepts.append(accept)\n",
    "        enrolls.append(enroll)\n",
    "        scores.append(cfid)\n",
    "    n_total_enrolls = np.count_nonzero(np.array(enrolls) != -1)\n",
    "    \n",
    "    ### Accuracy ###\n",
    "    acc = np.count_nonzero(np.array(accepts) == label) / len(label)\n",
    "    \n",
    "    ### Enroll Accuracy ###\n",
    "    if n_total_enrolls == 0:\n",
    "        enr_acc = 1\n",
    "    else:\n",
    "        enr_acc = np.count_nonzero(np.array(enrolls) == 1) / n_total_enrolls\n",
    "        \n",
    "    ### FPR and FNR\n",
    "    fpr = np.count_nonzero((np.array(accepts) == 1) & (label == 0)) / np.count_nonzero(label == 0)\n",
    "    fnr = np.count_nonzero((np.array(accepts) == 0) & (label == 1)) / np.count_nonzero(label == 1)\n",
    "    \n",
    "    return acc, enr_acc, fpr, fnr, accepts, enrolls, scores"
   ]
  },
  {
   "cell_type": "code",
   "execution_count": 27,
   "metadata": {},
   "outputs": [],
   "source": [
    "import random\n",
    "\n",
    "def evaluation(enr_spks, enr_uttrs, trials_id, label, config):\n",
    "    spk_models = []\n",
    "    for enr_spk in enr_spks:\n",
    "        keys = [uttr for uttr in enr_uttrs if enr_spk in uttr]\n",
    "        enroll_utters = enroll_embeds[[key2id[k] for k in keys]]\n",
    "        spk_models.append(spk_model(enr_spk, keys, enroll_utters, config))\n",
    "        \n",
    "    system = sv_system(spk_models, config)\n",
    "    accuracy, enr_accuracy, fpr, fnr, accepts, enrolls, scores = get_accuracy_system(system, trials_id, label)\n",
    "    \n",
    "    return system, [accuracy, enr_accuracy, fpr, fnr, accepts, enrolls, scores]"
   ]
  },
  {
   "cell_type": "code",
   "execution_count": 28,
   "metadata": {},
   "outputs": [],
   "source": [
    "def eval_wrapper(enr_spks, enr_uttrs, trials_id, label, config, res_lst):\n",
    "    config['mod'] = 'base'\n",
    "    base_sys, base_stat = evaluation(enr_spks, enr_uttrs, trials_id, label, config)\n",
    "    config['mod'] = 'inc'\n",
    "    inc_sys, inc_stat = evaluation(enr_spks, enr_uttrs, trials_id, label, config)\n",
    "    config['mod'] = 'weight'\n",
    "    winc_sys, winc_stat = evaluation(enr_spks, enr_uttrs, trials_id, label, config)\n",
    "\n",
    "    b_acc, b_enr_acc, b_fpr, b_fnr, b_accepts, b_enrolls, b_scores = base_stat\n",
    "    i_acc, i_enr_acc, i_fpr, i_fnr, i_accepts, i_enrolls, i_scores = inc_stat\n",
    "    w_acc, w_enr_acc, w_fpr, w_fnr, w_accepts, w_enrolls, w_scores = winc_stat\n",
    "\n",
    "    spk_str = '_'.join(enr_spks)\n",
    "    result = (spk_str, len(enr_spks), len(enr_uttrs), len(neg_trial),\n",
    "              b_acc, b_enr_acc, b_fpr, b_fnr, b_accepts, b_enrolls, b_scores,\n",
    "              i_acc, i_enr_acc, i_fpr, i_fnr, i_accepts, i_enrolls, i_scores,\n",
    "              w_acc, w_enr_acc, w_fpr, w_fnr, w_accepts, w_enrolls, w_scores, list(label))\n",
    "\n",
    "    res_lst.put(result)"
   ]
  },
  {
   "cell_type": "markdown",
   "metadata": {},
   "source": [
    "## Evaluation"
   ]
  },
  {
   "cell_type": "code",
   "execution_count": 1333,
   "metadata": {},
   "outputs": [
    {
     "name": "stdout",
     "output_type": "stream",
     "text": [
      "Train Accuracy: 0.9351374771975239 \n",
      "Accept Thres: 0.51368, Enroll Thres: 0.62441\n"
     ]
    }
   ],
   "source": [
    "config = {\n",
    "    # sim: cosMean, meanCos, euc\n",
    "    'sim': 'meanCos', \n",
    "    'accept_thres_update': False,\n",
    "    'enroll_thres_update': False,\n",
    "    # trial_tpye: sortedPos, random, posNeg\n",
    "    'trial_type': 'random',\n",
    "    # n_use_enroll: 'full' or 'N' (decimal in string type such as '5')\n",
    "    'n_use_enroll': 'full',\n",
    "    'include_init': False,\n",
    "    'cfid_coef': 0.0005,\n",
    "    'mean_coef': 0.01,\n",
    "    'c_multiplier': 1,\n",
    "    'm_multiplier': 1,\n",
    "    'ord': 2,\n",
    "}\n",
    "\n",
    "# trial for finding best threshold\n",
    "case = 'enr10_pos300'\n",
    "trial_for_thresh = pd.read_pickle('./cases/'+case+'/validation/val_thresh_trials.pkl')\n",
    "\n",
    "from plot_ROC import plot_ROC\n",
    "\n",
    "if ('Cos' in config['sim']) or ('cos' in config['sim']):\n",
    "    train_score_vector = cos_dist_sim_torch(enroll_embeds[trial_for_thresh.enrolment_id],\n",
    "                                      enroll_embeds[trial_for_thresh.test_id], dim=1)\n",
    "elif 'euc' in config['sim']:\n",
    "    train_score_vector =  euc_dist_sim(enroll_embeds[trial_for_thresh.enrolment_id], \n",
    "                                       enroll_embeds[trial_for_thresh.test_id], dim=1)\n",
    "    \n",
    "train_label_vector = trial_for_thresh.label.tolist()\n",
    "accept_thres, fpr_, thres_ = plot_ROC(train_label_vector, train_score_vector)\n",
    "\n",
    "#config['accept_thres'] = accept_thres \n",
    "#config['enroll_thres'] = thres_[np.where(fpr_ < 0.001)[0][-1]]\n",
    "config['accept_thres'] = thres_[np.where(fpr_ > 0.2)[0][0]]\n",
    "config['enroll_thres'] = thres_[np.where(fpr_ < 0.01)[0][-1]]\n",
    "print('Accept Thres: {:.5f}, Enroll Thres: {:.5f}'.format(config['accept_thres'], config['enroll_thres']))"
   ]
  },
  {
   "cell_type": "code",
   "execution_count": 1334,
   "metadata": {},
   "outputs": [],
   "source": [
    "import itertools\n",
    "neg_trials = pickle.load(open('./cases/'+case+'/test/neg_trials.pkl', 'rb'))\n",
    "neg_trials = [list(s) for s in neg_trials]\n",
    "\n",
    "combinations = pickle.load(open('./cases/'+case+'/test/combination.pkl', 'rb'))\n",
    "combinations = sorted(combinations, key=lambda x: len(x[1]))\n",
    "trials = list(itertools.product(combinations, neg_trials))"
   ]
  },
  {
   "cell_type": "markdown",
   "metadata": {},
   "source": [
    "## Find trial index"
   ]
  },
  {
   "cell_type": "code",
   "execution_count": 1335,
   "metadata": {},
   "outputs": [],
   "source": [
    "pos_seat_idxs = []\n",
    "neg_seat_idxs = []\n",
    "rand_permus = []\n",
    "n_pos_trials = len(combinations[0][2])\n",
    "if config['trial_type'] == 'sortedPos':\n",
    "    for neg_trial in neg_trials:\n",
    "        pos_seat_idxs_ = []\n",
    "        neg_seat_idxs_ = []\n",
    "        for comb in combinations:\n",
    "            _, enr_uttrs, pos_trial = comb\n",
    "            if (len(enr_uttrs) > 1):\n",
    "                break\n",
    "\n",
    "            sessions = list(map(lambda x: x[8:19], pos_trial))\n",
    "            df = pd.DataFrame.from_dict(dict( utters = pos_trial, session = sessions ))\n",
    "            unique_session = np.unique(sorted(df.session.values))\n",
    "            session_cnt = df.session.value_counts()\n",
    "\n",
    "            n_pos_trials = len(pos_trial)\n",
    "            n_unique_sess = len(unique_session)\n",
    "            n_total_trials =len(neg_trial)+n_pos_trials\n",
    "            n_sess_trials = len(neg_trial)+n_unique_sess\n",
    "\n",
    "            pos_sess_idx_ = sorted(np.random.choice(range(n_sess_trials), size=n_unique_sess, replace=False))\n",
    "\n",
    "            pos_seat_idx_ = []\n",
    "            for i, sess in enumerate(unique_session):\n",
    "                l = session_cnt[sess]\n",
    "                pos_sess_idx_[i+1:] += l-1\n",
    "                for j in range(l):\n",
    "                    pos_seat_idx_.append(j+pos_sess_idx_[i])\n",
    "\n",
    "            neg_seat_idx_ = np.array(list(set(range(n_total_trials)) - set(pos_seat_idx_)))\n",
    "            pos_seat_idxs_.append(np.array(pos_seat_idx_))\n",
    "            neg_seat_idxs_.append(neg_seat_idx_)\n",
    "        pos_seat_idxs.append(pos_seat_idxs_)\n",
    "        neg_seat_idxs.append(neg_seat_idxs_)\n",
    "elif config['trial_type'] == 'random':\n",
    "    for l in [len(neg_trial)+n_pos_trials for neg_trial in neg_trials]:\n",
    "        rand_permu_ = np.random.permutation(range(l))\n",
    "        rand_permus.append(rand_permu_)\n",
    "elif config['trial_type'] == 'posNeg':\n",
    "    pass # Do nothing"
   ]
  },
  {
   "cell_type": "code",
   "execution_count": 1336,
   "metadata": {
    "scrolled": false
   },
   "outputs": [
    {
     "name": "stdout",
     "output_type": "stream",
     "text": [
      "Starting jobs ...\n"
     ]
    },
    {
     "data": {
      "application/vnd.jupyter.widget-view+json": {
       "model_id": "59c8e40acf8d45aa825da51af4dbbe5f",
       "version_major": 2,
       "version_minor": 0
      },
      "text/plain": [
       "HBox(children=(IntProgress(value=1, bar_style='info', max=1), HTML(value='')))"
      ]
     },
     "metadata": {},
     "output_type": "display_data"
    },
    {
     "name": "stdout",
     "output_type": "stream",
     "text": [
      "\n",
      "Finishing jobs ...\n"
     ]
    },
    {
     "data": {
      "application/vnd.jupyter.widget-view+json": {
       "model_id": "a092ea567a734a75bf197beff22a4af6",
       "version_major": 2,
       "version_minor": 0
      },
      "text/plain": [
       "HBox(children=(IntProgress(value=0, max=10), HTML(value='')))"
      ]
     },
     "metadata": {},
     "output_type": "display_data"
    },
    {
     "name": "stdout",
     "output_type": "stream",
     "text": [
      "\n",
      "Starting jobs ...\n"
     ]
    },
    {
     "data": {
      "application/vnd.jupyter.widget-view+json": {
       "model_id": "bd1da162bfee48b4bc3b2ddb18a4dd10",
       "version_major": 2,
       "version_minor": 0
      },
      "text/plain": [
       "HBox(children=(IntProgress(value=1, bar_style='info', max=1), HTML(value='')))"
      ]
     },
     "metadata": {},
     "output_type": "display_data"
    },
    {
     "name": "stdout",
     "output_type": "stream",
     "text": [
      "\n",
      "Finishing jobs ...\n"
     ]
    },
    {
     "data": {
      "application/vnd.jupyter.widget-view+json": {
       "model_id": "ddc92102f74c4fce90a29195b119a452",
       "version_major": 2,
       "version_minor": 0
      },
      "text/plain": [
       "HBox(children=(IntProgress(value=0, max=10), HTML(value='')))"
      ]
     },
     "metadata": {},
     "output_type": "display_data"
    },
    {
     "name": "stdout",
     "output_type": "stream",
     "text": [
      "\n",
      "Starting jobs ...\n"
     ]
    },
    {
     "data": {
      "application/vnd.jupyter.widget-view+json": {
       "model_id": "575885c1c6f147caaff6c51a842b3db2",
       "version_major": 2,
       "version_minor": 0
      },
      "text/plain": [
       "HBox(children=(IntProgress(value=1, bar_style='info', max=1), HTML(value='')))"
      ]
     },
     "metadata": {},
     "output_type": "display_data"
    },
    {
     "name": "stdout",
     "output_type": "stream",
     "text": [
      "Finishing jobs ...\n"
     ]
    },
    {
     "data": {
      "application/vnd.jupyter.widget-view+json": {
       "model_id": "8f26e49463dc4ebfb1c5375220148db4",
       "version_major": 2,
       "version_minor": 0
      },
      "text/plain": [
       "HBox(children=(IntProgress(value=0, max=10), HTML(value='')))"
      ]
     },
     "metadata": {},
     "output_type": "display_data"
    },
    {
     "name": "stdout",
     "output_type": "stream",
     "text": [
      "\n",
      "\n",
      "Starting jobs ...\n"
     ]
    },
    {
     "data": {
      "application/vnd.jupyter.widget-view+json": {
       "model_id": "2b73f43df84445619a1fba4f6aa825bb",
       "version_major": 2,
       "version_minor": 0
      },
      "text/plain": [
       "HBox(children=(IntProgress(value=1, bar_style='info', max=1), HTML(value='')))"
      ]
     },
     "metadata": {},
     "output_type": "display_data"
    },
    {
     "name": "stdout",
     "output_type": "stream",
     "text": [
      "\n",
      "Finishing jobs ...\n"
     ]
    },
    {
     "data": {
      "application/vnd.jupyter.widget-view+json": {
       "model_id": "3200d1632a3e4e01a825be70e8a6162a",
       "version_major": 2,
       "version_minor": 0
      },
      "text/plain": [
       "HBox(children=(IntProgress(value=0, max=10), HTML(value='')))"
      ]
     },
     "metadata": {},
     "output_type": "display_data"
    },
    {
     "name": "stdout",
     "output_type": "stream",
     "text": [
      "\n",
      "Done\n"
     ]
    }
   ],
   "source": [
    "from multiprocessing import Process, Manager\n",
    "from tqdm import tqdm_notebook\n",
    "\n",
    "results = []\n",
    "enroll_id_sets = []\n",
    "trials_id_sets = []\n",
    "trials_label_sets = []\n",
    "for i, neg_trial in enumerate(neg_trials):\n",
    "    procs = []\n",
    "    manager = Manager()\n",
    "    res_lst = manager.Queue()\n",
    "    \n",
    "    print('Starting jobs ...')\n",
    "    for j, comb in tqdm_notebook(enumerate(combinations)):\n",
    "        enr_spks, enr_uttrs, pos_trial = comb\n",
    "        n_enr_spks = len(enr_spks)\n",
    "        n_enr_uttrs = len(enr_uttrs)\n",
    "        n_pos_trial = len(pos_trial)\n",
    "        if (n_enr_uttrs > 1):\n",
    "            break\n",
    "        \n",
    "        ### Make trials with pre-defined(sorted pos trial) indices ###\n",
    "        trials = pos_trial + neg_trial\n",
    "        if config['trial_type'] == 'sortedPos':\n",
    "            pos_trial_id = [key2id[k] for k in sorted(pos_trial)]\n",
    "            neg_trial_id = [key2id[k] for k in neg_trial]\n",
    "            trials_id = np.zeros(len(trials))\n",
    "            trials_id[pos_seat_idxs[i][j]] = pos_trial_id\n",
    "            trials_id[neg_seat_idxs[i][j]] = neg_trial_id\n",
    "            trials_id = trials_id.astype(np.int64)\n",
    "\n",
    "            label = np.zeros(len(trials))\n",
    "            label[pos_seat_idxs[i][j]] = [1]*len(pos_trial)\n",
    "            label[neg_seat_idxs[i][j]] = [0]*len(neg_trial)\n",
    "        elif config['trial_type'] == 'random':\n",
    "            trials_id = [key2id[k] for k in trials]\n",
    "            trials_id = np.array(trials_id)[rand_permus[i]]\n",
    "            \n",
    "            label = [1] * len(pos_trial) + [0]*len(neg_trial)\n",
    "            label = np.array(label)[rand_permus[i]]\n",
    "        elif config['trial_type'] == 'posNeg':\n",
    "            trials = sorted(pos_trial) + neg_trial\n",
    "            trials_id = np.array([key2id[k] for k in trials])\n",
    "            label = np.array([1] * len(pos_trial) + [0]*len(neg_trial))\n",
    "        \n",
    "        # record traces\n",
    "        enroll_id_sets += [[key2id[k] for k in sorted(enr_uttrs)]]\n",
    "        trials_id_sets += [trials_id]\n",
    "        trials_label_sets += [label]\n",
    "        proc = Process(target=eval_wrapper, args=(enr_spks, enr_uttrs, trials_id, label, config, res_lst,))\n",
    "        procs.append(proc)\n",
    "        proc.start()\n",
    "        \n",
    "    print('Finishing jobs ...')    \n",
    "    for p in tqdm_notebook(procs):\n",
    "        results.append(res_lst.get())\n",
    "        p.join()\n",
    "        \n",
    "print('Done')"
   ]
  },
  {
   "cell_type": "markdown",
   "metadata": {},
   "source": [
    "## Visualization"
   ]
  },
  {
   "cell_type": "code",
   "execution_count": 1337,
   "metadata": {},
   "outputs": [],
   "source": [
    "result_df = pd.DataFrame(results, \n",
    "                         columns=['spk', 'n_enr_spk', 'n_enr_utter', 'n_neg', \n",
    "                                  'base_acc', 'base_enr', 'base_fpr', 'base_fnr', 'base_accept', 'base_enroll', 'base_score',\n",
    "                                  'inc_acc', 'inc_enr', 'inc_fpr', 'inc_fnr', 'inc_accept', 'inc_enroll', 'inc_score',\n",
    "                                  'winc_acc', 'winc_enr', 'winc_fpr', 'winc_fnr', 'winc_accept', 'winc_enroll', 'winc_score', 'label'])"
   ]
  },
  {
   "cell_type": "code",
   "execution_count": 1338,
   "metadata": {},
   "outputs": [],
   "source": [
    "config['graph_type'] = ['acc', 'enr', 'eer', 'thres', 'fpr', 'fnr']\n",
    "# config['graph_type'] = ['acc', 'enr', 'fpr', 'fnr']\n",
    "# config['graph_type'] = ['acc']"
   ]
  },
  {
   "cell_type": "code",
   "execution_count": 1339,
   "metadata": {
    "scrolled": false
   },
   "outputs": [
    {
     "data": {
      "image/png": "[encoded data removed]",
      "text/plain": [
       "<Figure size 1440x720 with 1 Axes>"
      ]
     },
     "metadata": {},
     "output_type": "display_data"
    },
    {
     "data": {
      "image/png": "[encoded data removed]",
      "text/plain": [
       "<Figure size 1440x720 with 1 Axes>"
      ]
     },
     "metadata": {},
     "output_type": "display_data"
    },
    {
     "data": {
      "image/png": "[encoded data removed]",
      "text/plain": [
       "<Figure size 1440x720 with 1 Axes>"
      ]
     },
     "metadata": {},
     "output_type": "display_data"
    },
    {
     "data": {
      "image/png": "[encoded data removed]",
      "text/plain": [
       "<Figure size 1440x720 with 1 Axes>"
      ]
     },
     "metadata": {},
     "output_type": "display_data"
    },
    {
     "data": {
      "image/png": "[encoded data removed]",
      "text/plain": [
       "<Figure size 1440x720 with 1 Axes>"
      ]
     },
     "metadata": {},
     "output_type": "display_data"
    },
    {
     "data": {
      "image/png": "[encoded data removed]",
      "text/plain": [
       "<Figure size 1440x720 with 1 Axes>"
      ]
     },
     "metadata": {},
     "output_type": "display_data"
    }
   ],
   "source": [
    "figsize = (20,10)\n",
    "figures = []\n",
    "for graph_type in config['graph_type']:\n",
    "    default_column = ['n_enr_spk', 'n_enr_utter', 'n_neg']\n",
    "    if graph_type == 'acc':\n",
    "        target_column = ['base_acc', 'inc_acc']\n",
    "        target_ylim = [0.0, 1.0]\n",
    "    elif graph_type == 'enr':\n",
    "        target_column = ['inc_enr']\n",
    "        target_ylim = [0.0, 1.0]\n",
    "    elif graph_type == 'fpr':\n",
    "        target_column = ['base_fpr', 'inc_fpr']\n",
    "        target_ylim = [0.0, 0.5]\n",
    "    elif graph_type == 'fnr':\n",
    "        target_column = ['base_fnr', 'inc_fnr']\n",
    "        target_ylim = [0.0, 0.5]\n",
    "    elif graph_type == 'eer':\n",
    "        target_column = ['base_score', 'inc_score', 'label']\n",
    "        target_ylim = [0.0, 0.5]\n",
    "    elif graph_type == 'thres':\n",
    "        target_column = ['base_score', 'inc_score', 'label']\n",
    "        target_ylim = [0.3, 0.8]\n",
    "    \n",
    "    # Filtering and Drawing\n",
    "    result_df_ = result_df.loc[:, default_column + target_column]\n",
    "    if graph_type == 'eer':\n",
    "        apply_eer_df = result_df_.groupby(default_column).apply(compute_trials_eer_wrapper)\n",
    "        ax_ = apply_eer_df.groupby(default_column).mean().plot.bar(ylim=target_ylim, figsize=figsize, )\n",
    "    elif graph_type == 'thres':\n",
    "        apply_thres_df = result_df_.groupby(default_column).apply(compute_trials_thres_wrapper)\n",
    "        ax_ = apply_thres_df.groupby(default_column).mean().plot.bar(ylim=target_ylim, figsize=figsize, )\n",
    "    else:\n",
    "        apply_interval_df = result_df_.groupby(default_column).apply(r2_rmse_interval)\n",
    "        ax_ = result_df_.groupby(default_column).mean().plot.bar(ylim=target_ylim, figsize=figsize, yerr=apply_interval_df)\n",
    "    for p in ax_.patches:\n",
    "        ax_.annotate('{:.4f}'.format(p.get_height()), (p.get_x(), p.get_height()+0.005), color='blue', fontsize='20')\n",
    "    figures.append(ax_)"
   ]
  },
  {
   "cell_type": "code",
   "execution_count": 1340,
   "metadata": {},
   "outputs": [],
   "source": [
    "embeds_dir = enroll+'_'+test+'_'+case+'/'\n",
    "exp_dir = config['sim']\n",
    "if config['accept_thres_update']:\n",
    "    exp_dir += '_acceptThresUpdate'\n",
    "    \n",
    "if config['enroll_thres_update']:\n",
    "    exp_dir += '_enrollThresUpdate'\n",
    "\n",
    "if config['n_use_enroll'] == 'full':\n",
    "    exp_dir += '_' + config['trial_type'] + '_' + config['n_use_enroll']\n",
    "else:\n",
    "    exp_dir += '_' + config['trial_type'] + '_latest' + config['n_use_enroll']\n",
    "    \n",
    "    if config['include_init']:\n",
    "        exp_dir += '[1]'"
   ]
  },
  {
   "cell_type": "code",
   "execution_count": 1341,
   "metadata": {},
   "outputs": [],
   "source": [
    "v = 0\n",
    "dir_name = ''\n",
    "while True:\n",
    "    dir_name = fig_dir_name + embeds_dir + exp_dir + '_v' + str(v) + '/'\n",
    "    if not os.path.exists(dir_name):\n",
    "        os.makedirs(dir_name)\n",
    "        break\n",
    "    v += 1\n",
    "    \n",
    "with open(dir_name + 'config.txt', 'w') as f:\n",
    "    f.write(str(config)+'\\n')\n",
    "    # Please add if there is additional information\n",
    "\n",
    "pickle.dump(enroll_id_sets, open(dir_name+\"enroll_id_sets.pkl\", \"wb\"))\n",
    "pickle.dump(trials_id_sets, open(dir_name+\"trials_id_sets.pkl\", \"wb\"))\n",
    "pickle.dump(trials_label_sets, open(dir_name+\"trials_label_sets.pkl\", \"wb\"))\n",
    "    \n",
    "result_df.to_pickle(dir_name + 'result_df.pkl')\n",
    "for i, graph_type in enumerate(config['graph_type']):\n",
    "    fig_name = graph_type + '.pdf'\n",
    "    figures[i].get_figure().savefig(dir_name + fig_name, dpi=500)"
   ]
  },
  {
   "cell_type": "code",
   "execution_count": 1332,
   "metadata": {
    "scrolled": true
   },
   "outputs": [],
   "source": [
    "#plots = plot_wrapper(result_df[(result_df.n_neg == 360)], 'enroll', 55, 5)"
   ]
  },
  {
   "cell_type": "code",
   "execution_count": 1312,
   "metadata": {},
   "outputs": [],
   "source": [
    "#for k,v in plots.items():\n",
    "#    v.savefig(dir_name+k+'_timelines.pdf', dpi=500)"
   ]
  },
  {
   "cell_type": "code",
   "execution_count": null,
   "metadata": {},
   "outputs": [],
   "source": []
  },
  {
   "cell_type": "code",
   "execution_count": null,
   "metadata": {},
   "outputs": [],
   "source": []
  }
 ],
 "metadata": {
  "kernelspec": {
   "display_name": "Python 3",
   "language": "python",
   "name": "python3"
  },
  "language_info": {
   "codemirror_mode": {
    "name": "ipython",
    "version": 3
   },
   "file_extension": ".py",
   "mimetype": "text/x-python",
   "name": "python",
   "nbconvert_exporter": "python",
   "pygments_lexer": "ipython3",
   "version": "3.6.5"
  }
 },
 "nbformat": 4,
 "nbformat_minor": 2
}
