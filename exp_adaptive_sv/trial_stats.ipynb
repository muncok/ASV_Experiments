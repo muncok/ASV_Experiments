{
 "cells": [
  {
   "cell_type": "code",
   "execution_count": 1,
   "metadata": {},
   "outputs": [
    {
     "name": "stdout",
     "output_type": "stream",
     "text": [
      "Using matplotlib backend: TkAgg\n",
      "Populating the interactive namespace from numpy and matplotlib\n"
     ]
    }
   ],
   "source": [
    "%load_ext autoreload\n",
    "%autoreload 2\n",
    "%pylab\n",
    "%matplotlib inline\n",
    "\n",
    "import os\n",
    "import sys\n",
    "import pandas as pd\n",
    "import pickle\n",
    "import numpy as np"
   ]
  },
  {
   "cell_type": "code",
   "execution_count": 1012,
   "metadata": {},
   "outputs": [],
   "source": [
    "from batch_sv_system_utils import compute_eer\n",
    "from batch_sv_system_utils import compute_error"
   ]
  },
  {
   "cell_type": "code",
   "execution_count": 3,
   "metadata": {},
   "outputs": [],
   "source": [
    "def reduce_scores(score_list, fusion_type=\"avg\", feat_fn=None):\n",
    "    if not feat_fn:\n",
    "        if fusion_type ==\"avg\":\n",
    "            return np.concatenate([score.mean(0) for score in score_list], axis=0)\n",
    "        elif fusion_type ==\"init\":\n",
    "            return np.concatenate([score[0] for score in score_list], axis=0)\n",
    "        elif fusion_type == \"avg_std\":\n",
    "            return np.concatenate([score.mean(0)+score.std(0) for score in score_list], axis=0)\n",
    "        elif fusion_type == \"avg_max\":\n",
    "            return np.concatenate([score.mean(0)+score.max(0) for score in score_list], axis=0)\n",
    "        else:\n",
    "            raise NotImplementedError\n",
    "    else:\n",
    "        return np.concatenate([feat_fn(score) for score in score_list], axis=0)"
   ]
  },
  {
   "cell_type": "markdown",
   "metadata": {},
   "source": [
    "## Online mode "
   ]
  },
  {
   "cell_type": "markdown",
   "metadata": {},
   "source": [
    "### Total EERs"
   ]
  },
  {
   "cell_type": "code",
   "execution_count": 215,
   "metadata": {},
   "outputs": [],
   "source": [
    "eval_plda_trial_output = pickle.load(\n",
    "    open(\"trials/eval_165/hard_enr3x30_ntar9/online_plda_score_eT10.pkl\", \"rb\"))\n",
    "eval_plda_score_list = [x[0] for x in eval_plda_trial_output]\n",
    "eval_plda_labels = [x[1] for x in eval_plda_trial_output]"
   ]
  },
  {
   "cell_type": "code",
   "execution_count": 47,
   "metadata": {},
   "outputs": [
    {
     "name": "stdout",
     "output_type": "stream",
     "text": [
      "(0.10380144375827333, 0.10380173080231969, 0.10380115671422696, 4.669837)\n"
     ]
    }
   ],
   "source": [
    "test_adapt_scores = np.concatenate([reduce_scores(x, fusion_type=\"init\") \n",
    "                                    for x in eval_plda_score_list], axis=0)\n",
    "test_labels = np.concatenate(eval_plda_labels)\n",
    "print(compute_eer(test_adapt_scores, test_labels))"
   ]
  },
  {
   "cell_type": "code",
   "execution_count": 48,
   "metadata": {},
   "outputs": [
    {
     "name": "stdout",
     "output_type": "stream",
     "text": [
      "(0.03663154394893812, 0.03663135752385245, 0.036631730374023785, 4.527369817009434)\n"
     ]
    }
   ],
   "source": [
    "test_adapt_scores = np.concatenate([reduce_scores(x, fusion_type=\"avg\") \n",
    "                                    for x in eval_plda_score_list], axis=0)\n",
    "test_labels = np.concatenate(eval_plda_labels)\n",
    "print(compute_eer(test_adapt_scores, test_labels))"
   ]
  },
  {
   "cell_type": "code",
   "execution_count": 49,
   "metadata": {},
   "outputs": [
    {
     "name": "stdout",
     "output_type": "stream",
     "text": [
      "(0.04158457915566705, 0.04158469468617999, 0.04158446362515411, 25.589350599127517)\n"
     ]
    }
   ],
   "source": [
    "test_adapt_scores = np.concatenate([reduce_scores(x, fusion_type=\"avg_max\") \n",
    "                                    for x in eval_plda_score_list], axis=0)\n",
    "test_labels = np.concatenate(eval_plda_labels)\n",
    "print(compute_eer(test_adapt_scores, test_labels))"
   ]
  },
  {
   "cell_type": "code",
   "execution_count": 50,
   "metadata": {},
   "outputs": [
    {
     "name": "stdout",
     "output_type": "stream",
     "text": [
      "(0.0348589252504346, 0.03485935716518717, 0.03485849333568203, 10.839968570888322)\n"
     ]
    }
   ],
   "source": [
    "test_adapt_scores = np.concatenate([reduce_scores(x, fusion_type=\"avg_std\") \n",
    "                                    for x in eval_plda_score_list], axis=0)\n",
    "test_labels = np.concatenate(eval_plda_labels)\n",
    "test_labels = np.concatenate(eval_plda_labels)\n",
    "print(compute_eer(test_adapt_scores, test_labels))"
   ]
  },
  {
   "cell_type": "markdown",
   "metadata": {},
   "source": [
    "### Trial-wise EERs"
   ]
  },
  {
   "cell_type": "code",
   "execution_count": 67,
   "metadata": {},
   "outputs": [],
   "source": [
    "test_init_scores = [reduce_scores(x, fusion_type=\"init\") for x in eval_plda_score_list]\n",
    "test_labels = eval_plda_labels\n",
    "init_trial_eers = []\n",
    "for scores, labels in zip(test_init_scores, test_labels):\n",
    "    init_trial_eers.append(compute_eer(scores, labels)[0])"
   ]
  },
  {
   "cell_type": "code",
   "execution_count": 52,
   "metadata": {},
   "outputs": [],
   "source": [
    "test_avg_scores = [reduce_scores(x, fusion_type=\"avg\") for x in eval_plda_score_list]\n",
    "test_labels = eval_plda_labels\n",
    "avg_trial_eers = []\n",
    "for scores, labels in zip(test_avg_scores, test_labels):\n",
    "    avg_trial_eers.append(compute_eer(scores, labels)[0])"
   ]
  },
  {
   "cell_type": "code",
   "execution_count": 53,
   "metadata": {},
   "outputs": [],
   "source": [
    "test_avg_max_scores = [reduce_scores(x, fusion_type=\"avg_max\") for x in eval_plda_score_list]\n",
    "test_labels = eval_plda_labels\n",
    "avg_max_trial_eers = []\n",
    "for scores, labels in zip(test_avg_max_scores, test_labels):\n",
    "    avg_max_trial_eers.append(compute_eer(scores, labels)[0])"
   ]
  },
  {
   "cell_type": "code",
   "execution_count": 54,
   "metadata": {},
   "outputs": [],
   "source": [
    "test_avg_std_scores = [reduce_scores(x, fusion_type=\"avg_std\") for x in eval_plda_score_list]\n",
    "test_labels = eval_plda_labels\n",
    "avg_std_trial_eers = []\n",
    "for scores, labels in zip(test_avg_std_scores, test_labels):\n",
    "    avg_std_trial_eers.append(compute_eer(scores, labels)[0])"
   ]
  },
  {
   "cell_type": "code",
   "execution_count": 69,
   "metadata": {},
   "outputs": [],
   "source": [
    "online_eer_df = pd.DataFrame([init_trial_eers, avg_trial_eers, avg_max_trial_eers, avg_std_trial_eers]).T\n",
    "online_eer_df.columns = [\"init\", \"avg\", \"avg_max\", \"avg_std\"]\n",
    "online_eer_df.index.name = \"trial_idx\"\n",
    "online_eer_df = online_eer_df.assign(enr_spk=enr_spks)\n",
    "n_adapts = [len(x) for x in eval_plda_score_list]\n",
    "online_eer_df = online_eer_df.assign(n_adapt=n_adapts)"
   ]
  },
  {
   "cell_type": "code",
   "execution_count": 71,
   "metadata": {},
   "outputs": [],
   "source": [
    "online_eer_df.to_pickle(\"trials/eval_165/hard_enr3x30_ntar9/online_plda_eers.pkl\")"
   ]
  },
  {
   "cell_type": "code",
   "execution_count": null,
   "metadata": {},
   "outputs": [],
   "source": [
    "online_eer_df"
   ]
  },
  {
   "cell_type": "markdown",
   "metadata": {},
   "source": [
    "## Batch mode "
   ]
  },
  {
   "cell_type": "code",
   "execution_count": 539,
   "metadata": {},
   "outputs": [],
   "source": [
    "trials = pickle.load(open(\"trials/dev940_eval311/random_enr3xsess_ntar9/trials.pkl\", 'rb'))"
   ]
  },
  {
   "cell_type": "code",
   "execution_count": 600,
   "metadata": {},
   "outputs": [],
   "source": [
    "eval_plda_trial_output = pickle.load(\n",
    "    open(\"trials/dev940_eval311/hard_enr3xsess_ntar9/batch_eT0.8.pkl\", \"rb\"))"
   ]
  },
  {
   "cell_type": "code",
   "execution_count": 600,
   "metadata": {},
   "outputs": [],
   "source": [
    "eval_plda_score_list = [x[0] for x in eval_plda_trial_output]\n",
    "eval_plda_labels = [x[1] for x in eval_plda_trial_output]\n",
    "eval_plda_confids = [x[2] for x in eval_plda_trial_output]\n",
    "eval_n_adapts = [len(x[2]) for x in eval_plda_trial_output]\n",
    "eval_n_false_adapts = [(1-x[3]).sum() for x in eval_plda_trial_output]\n",
    "eval_plda_adapt_labels = [x[3] for x in eval_plda_trial_output]\n",
    "eval_spks = [x[4].split(\"_\")[0] for x in eval_plda_trial_output]"
   ]
  },
  {
   "cell_type": "markdown",
   "metadata": {},
   "source": [
    "## Split mode "
   ]
  },
  {
   "cell_type": "code",
   "execution_count": 1297,
   "metadata": {},
   "outputs": [],
   "source": [
    "eval_plda_trial_output = pickle.load(\n",
    "    open(\"trials/dev940_eval311/hard_enr3xsess_ntar9/proxy_eT5_small_fNorm.pkl\", \"rb\"))"
   ]
  },
  {
   "cell_type": "code",
   "execution_count": 1298,
   "metadata": {},
   "outputs": [],
   "source": [
    "n_adapt = 20\n",
    "# r_idx = [0,1,2] + np.random.randint(3, 15, n_adapt-1).tolist()\n",
    "eval_plda_score_list = [x[0][:n_adapt] for x in eval_plda_trial_output]\n",
    "eval_plda_adapt_labels = [x[3][:n_adapt] for x in eval_plda_trial_output]\n",
    "eval_plda_labels = [x[2] for x in eval_plda_trial_output]\n",
    "eval_plda_proxy_score_list = [x[1][:n_adapt] for x in eval_plda_trial_output]\n",
    "eval_plda_proxy_idx = [x[4][:n_adapt] for x in eval_plda_trial_output]"
   ]
  },
  {
   "cell_type": "markdown",
   "metadata": {},
   "source": [
    "#### init "
   ]
  },
  {
   "cell_type": "code",
   "execution_count": 1299,
   "metadata": {},
   "outputs": [
    {
     "name": "stdout",
     "output_type": "stream",
     "text": [
      "(0.08513993097596648, 0.08511485858451733, 0.08516500336741561, 2.8493434744413206)\n"
     ]
    }
   ],
   "source": [
    "test_adapt_scores = np.concatenate([x[:3].mean(0) for x in eval_plda_score_list], axis=0)\n",
    "test_labels = np.concatenate(eval_plda_labels)\n",
    "print(compute_eer(test_adapt_scores, test_labels))"
   ]
  },
  {
   "cell_type": "markdown",
   "metadata": {},
   "source": [
    "#### including false adapt "
   ]
  },
  {
   "cell_type": "code",
   "execution_count": 1300,
   "metadata": {},
   "outputs": [
    {
     "name": "stdout",
     "output_type": "stream",
     "text": [
      "with false adapt\n",
      "(0.041540203854907344, 0.0415693564638709, 0.041511051245943786, 2.834062913556947)\n",
      "(0.05456327971204601, 0.05457442570707741, 0.05455213371701462, 6.4914367108899516)\n",
      "(0.04233198866653494, 0.04229576573691487, 0.042368211596155, 3.2247668019505302)\n"
     ]
    }
   ],
   "source": [
    "print(\"with false adapt\")\n",
    "test_adapt_scores = np.concatenate([x.mean(0) for x in eval_plda_score_list], axis=0)\n",
    "test_labels = np.concatenate(eval_plda_labels)\n",
    "print(compute_eer(test_adapt_scores, test_labels))\n",
    "# print(compute_error(test_adapt_scores.mean(0) > 2.19, eval_test_labels))\n",
    "\n",
    "test_adapt_scores = np.concatenate([x.mean(0)+x.max(0) for x in eval_plda_score_list], axis=0)\n",
    "test_labels = np.concatenate(eval_plda_labels)\n",
    "print(compute_eer(test_adapt_scores, test_labels))\n",
    "\n",
    "test_adapt_scores = np.concatenate([x.mean(0)+x.std(0) for x in eval_plda_score_list], axis=0)\n",
    "test_labels = np.concatenate(eval_plda_labels)\n",
    "print(compute_eer(test_adapt_scores, test_labels))"
   ]
  },
  {
   "cell_type": "markdown",
   "metadata": {},
   "source": [
    "#### proxy "
   ]
  },
  {
   "cell_type": "code",
   "execution_count": 1301,
   "metadata": {},
   "outputs": [
    {
     "name": "stdout",
     "output_type": "stream",
     "text": [
      "adapt_acc: base, proxy\n",
      "0.8210000000000001\n",
      "0.9440000000000001\n"
     ]
    }
   ],
   "source": [
    "print(\"adapt_acc: base, proxy\")\n",
    "adapt_accs = []\n",
    "proxy_adapt_accs = []\n",
    "adapt_labels = [x[3] for x in eval_plda_trial_output]\n",
    "for i in range(len(eval_plda_score_list)):\n",
    "    adapt_accs.append(eval_plda_adapt_labels[i].mean())\n",
    "    proxy_adapt_accs.append(adapt_labels[i][eval_plda_proxy_idx[i]].mean())\n",
    "print(np.mean(adapt_accs))\n",
    "print(np.mean(proxy_adapt_accs))"
   ]
  },
  {
   "cell_type": "code",
   "execution_count": 1302,
   "metadata": {},
   "outputs": [
    {
     "name": "stdout",
     "output_type": "stream",
     "text": [
      "proxy adapt\n",
      "(0.03617823469170213, 0.03617205745663024, 0.03618441192677402, 2.894036006818561)\n",
      "(0.03603499500221896, 0.036008029556265475, 0.03606196044817245, 6.370787759189968)\n",
      "(0.03535130104428209, 0.03537535051200137, 0.0353272515765628, 3.175605140915528)\n"
     ]
    }
   ],
   "source": [
    "print(\"proxy adapt\")\n",
    "test_adapt_scores = np.concatenate([x.mean(0) for x in eval_plda_proxy_score_list], axis=0)\n",
    "test_labels = np.concatenate(eval_plda_labels)\n",
    "print(compute_eer(test_adapt_scores, test_labels))\n",
    "\n",
    "test_adapt_scores = np.concatenate([x.mean(0)+x.max(0) for x in eval_plda_proxy_score_list], axis=0)\n",
    "test_labels = np.concatenate(eval_plda_labels)\n",
    "print(compute_eer(test_adapt_scores, test_labels))\n",
    "\n",
    "test_adapt_scores = np.concatenate([x.mean(0)+x.std(0) for x in eval_plda_proxy_score_list], axis=0)\n",
    "test_labels = np.concatenate(eval_plda_labels)\n",
    "print(compute_eer(test_adapt_scores, test_labels))"
   ]
  },
  {
   "cell_type": "markdown",
   "metadata": {},
   "source": [
    "#### only correct adapt "
   ]
  },
  {
   "cell_type": "code",
   "execution_count": 1255,
   "metadata": {},
   "outputs": [],
   "source": [
    "eval_plda_true_score_list = [x[0][x[3]==1][:n_adapt] for x in eval_plda_trial_output]"
   ]
  },
  {
   "cell_type": "code",
   "execution_count": 1256,
   "metadata": {},
   "outputs": [
    {
     "name": "stdout",
     "output_type": "stream",
     "text": [
      "with only true\n",
      "(0.05469415289350306, 0.05469416503606087, 0.05469414075094525, 2.7774896767913413)\n",
      "(0.051712456084588146, 0.051713334291900316, 0.05171157787727598, 5.928294628819247)\n",
      "(0.05323153817788953, 0.05323162104096207, 0.05323145531481699, 3.0123771951145897)\n"
     ]
    }
   ],
   "source": [
    "print(\"with only true\")\n",
    "test_adapt_scores = np.concatenate([x.mean(0) for x in eval_plda_true_score_list], axis=0)\n",
    "test_labels = np.concatenate(eval_plda_labels)\n",
    "print(compute_eer(test_adapt_scores, test_labels))\n",
    "# print(compute_error(test_adapt_scores.mean(0) > 2.19, eval_test_labels))\n",
    "\n",
    "test_adapt_scores = np.concatenate([x.mean(0)+x.max(0) for x in eval_plda_true_score_list], axis=0)\n",
    "test_labels = np.concatenate(eval_plda_labels)\n",
    "print(compute_eer(test_adapt_scores, test_labels))\n",
    "\n",
    "test_adapt_scores = np.concatenate([x.mean(0)+x.std(0) for x in eval_plda_true_score_list], axis=0)\n",
    "test_labels = np.concatenate(eval_plda_labels)\n",
    "print(compute_eer(test_adapt_scores, test_labels))"
   ]
  },
  {
   "cell_type": "code",
   "execution_count": null,
   "metadata": {},
   "outputs": [],
   "source": [
    "for i in range(len(eval_plda_score_list)):\n",
    "    print(eval_plda_adapt_labels[i].mean())\n",
    "    print(compute_eer(eval_plda_score_list[i].mean(0), eval_plda_labels[i]))\n",
    "    print(eval_plda_adapt_labels[i][eval_plda_proxy_idx[i]].mean())\n",
    "    print(compute_eer(eval_plda_proxy_score_list[i].mean(0), eval_plda_labels[i]))\n",
    "    print()"
   ]
  },
  {
   "cell_type": "markdown",
   "metadata": {},
   "source": [
    "### Trial-wise EERs"
   ]
  },
  {
   "cell_type": "code",
   "execution_count": 592,
   "metadata": {},
   "outputs": [],
   "source": [
    "test_scores = [x[0] for x in eval_plda_score_list]\n",
    "test_labels = eval_plda_labels\n",
    "init_trial_eers = []\n",
    "for scores, labels in zip(test_scores, test_labels):\n",
    "    init_trial_eers.append(compute_eer(scores, labels)[0])"
   ]
  },
  {
   "cell_type": "code",
   "execution_count": 593,
   "metadata": {},
   "outputs": [],
   "source": [
    "test_scores = [x.mean(0) for x in eval_plda_score_list]\n",
    "test_labels = eval_plda_labels\n",
    "avg_trial_eers = []\n",
    "for scores, labels in zip(test_scores, test_labels):\n",
    "    avg_trial_eers.append(compute_eer(scores, labels)[0])"
   ]
  },
  {
   "cell_type": "code",
   "execution_count": 594,
   "metadata": {},
   "outputs": [],
   "source": [
    "test_scores = [x.mean(0)+x.max(0) for x in eval_plda_score_list]\n",
    "test_labels = eval_plda_labels\n",
    "avg_max_trial_eers = []\n",
    "for scores, labels in zip(test_scores, test_labels):\n",
    "    avg_max_trial_eers.append(compute_eer(scores, labels)[0])"
   ]
  },
  {
   "cell_type": "code",
   "execution_count": 595,
   "metadata": {},
   "outputs": [],
   "source": [
    "test_scores = [x.mean(0)+x.std(0) for x in eval_plda_score_list]\n",
    "test_labels = eval_plda_labels\n",
    "avg_std_trial_eers = []\n",
    "for scores, labels in zip(test_scores, test_labels):\n",
    "    avg_std_trial_eers.append(compute_eer(scores, labels)[0])"
   ]
  },
  {
   "cell_type": "code",
   "execution_count": 596,
   "metadata": {},
   "outputs": [],
   "source": [
    "batch_eer_df = pd.DataFrame([init_trial_eers, avg_trial_eers, avg_max_trial_eers, avg_std_trial_eers]).T\n",
    "batch_eer_df.columns = [\"init\", \"avg\", \"avg_max\", \"avg_std\"]\n",
    "batch_eer_df.index.name = \"trial_idx\"\n",
    "batch_eer_df = batch_eer_df.assign(enr_spk=eval_spks)\n",
    "batch_eer_df = batch_eer_df.assign(n_adapt=eval_n_adapts)\n",
    "batch_eer_df = batch_eer_df.assign(n_false_adapt=eval_n_false_adapts)\n",
    "batch_eer_df = batch_eer_df.assign(confids=eval_plda_confids)"
   ]
  },
  {
   "cell_type": "code",
   "execution_count": 597,
   "metadata": {},
   "outputs": [
    {
     "data": {
      "text/plain": [
       "<matplotlib.axes._subplots.AxesSubplot at 0x7f3490207278>"
      ]
     },
     "execution_count": 597,
     "metadata": {},
     "output_type": "execute_result"
    },
    {
     "data": {
      "image/png": "[encoded data removed]",
      "text/plain": [
       "<Figure size 432x288 with 1 Axes>"
      ]
     },
     "metadata": {},
     "output_type": "display_data"
    }
   ],
   "source": [
    "batch_eer_df.sort_values('enr_spk').reset_index()[[\"avg\", \"avg_max\", \"avg_std\"]].plot()"
   ]
  },
  {
   "cell_type": "code",
   "execution_count": 598,
   "metadata": {},
   "outputs": [
    {
     "data": {
      "text/html": [
       "<div>\n",
       "<style scoped>\n",
       "    .dataframe tbody tr th:only-of-type {\n",
       "        vertical-align: middle;\n",
       "    }\n",
       "\n",
       "    .dataframe tbody tr th {\n",
       "        vertical-align: top;\n",
       "    }\n",
       "\n",
       "    .dataframe thead th {\n",
       "        text-align: right;\n",
       "    }\n",
       "</style>\n",
       "<table border=\"1\" class=\"dataframe\">\n",
       "  <thead>\n",
       "    <tr style=\"text-align: right;\">\n",
       "      <th></th>\n",
       "      <th>init</th>\n",
       "      <th>avg</th>\n",
       "      <th>avg_max</th>\n",
       "      <th>avg_std</th>\n",
       "      <th>n_adapt</th>\n",
       "      <th>n_false_adapt</th>\n",
       "    </tr>\n",
       "    <tr>\n",
       "      <th>enr_spk</th>\n",
       "      <th></th>\n",
       "      <th></th>\n",
       "      <th></th>\n",
       "      <th></th>\n",
       "      <th></th>\n",
       "      <th></th>\n",
       "    </tr>\n",
       "  </thead>\n",
       "  <tbody>\n",
       "    <tr>\n",
       "      <th>id10020</th>\n",
       "      <td>0.009058</td>\n",
       "      <td>0.005670</td>\n",
       "      <td>0.004529</td>\n",
       "      <td>0.004457</td>\n",
       "      <td>153.000000</td>\n",
       "      <td>0.0</td>\n",
       "    </tr>\n",
       "    <tr>\n",
       "      <th>id10045</th>\n",
       "      <td>0.030178</td>\n",
       "      <td>0.026546</td>\n",
       "      <td>0.025675</td>\n",
       "      <td>0.025348</td>\n",
       "      <td>53.000000</td>\n",
       "      <td>0.0</td>\n",
       "    </tr>\n",
       "    <tr>\n",
       "      <th>id10096</th>\n",
       "      <td>0.023299</td>\n",
       "      <td>0.011941</td>\n",
       "      <td>0.010729</td>\n",
       "      <td>0.010280</td>\n",
       "      <td>159.000000</td>\n",
       "      <td>0.0</td>\n",
       "    </tr>\n",
       "    <tr>\n",
       "      <th>id10104</th>\n",
       "      <td>0.035629</td>\n",
       "      <td>0.028138</td>\n",
       "      <td>0.026690</td>\n",
       "      <td>0.026447</td>\n",
       "      <td>27.000000</td>\n",
       "      <td>0.0</td>\n",
       "    </tr>\n",
       "    <tr>\n",
       "      <th>id10105</th>\n",
       "      <td>0.015068</td>\n",
       "      <td>0.010208</td>\n",
       "      <td>0.011226</td>\n",
       "      <td>0.006366</td>\n",
       "      <td>2.000000</td>\n",
       "      <td>0.0</td>\n",
       "    </tr>\n",
       "    <tr>\n",
       "      <th>id10168</th>\n",
       "      <td>0.016109</td>\n",
       "      <td>0.008743</td>\n",
       "      <td>0.009144</td>\n",
       "      <td>0.007366</td>\n",
       "      <td>2.000000</td>\n",
       "      <td>0.0</td>\n",
       "    </tr>\n",
       "    <tr>\n",
       "      <th>id10203</th>\n",
       "      <td>0.061509</td>\n",
       "      <td>0.028283</td>\n",
       "      <td>0.026536</td>\n",
       "      <td>0.025564</td>\n",
       "      <td>32.666667</td>\n",
       "      <td>0.0</td>\n",
       "    </tr>\n",
       "    <tr>\n",
       "      <th>id10242</th>\n",
       "      <td>0.030854</td>\n",
       "      <td>0.027595</td>\n",
       "      <td>0.028798</td>\n",
       "      <td>0.028798</td>\n",
       "      <td>45.500000</td>\n",
       "      <td>0.0</td>\n",
       "    </tr>\n",
       "    <tr>\n",
       "      <th>id10248</th>\n",
       "      <td>0.063763</td>\n",
       "      <td>0.043999</td>\n",
       "      <td>0.040473</td>\n",
       "      <td>0.040473</td>\n",
       "      <td>12.000000</td>\n",
       "      <td>0.0</td>\n",
       "    </tr>\n",
       "    <tr>\n",
       "      <th>id10300</th>\n",
       "      <td>0.017224</td>\n",
       "      <td>0.013912</td>\n",
       "      <td>0.011090</td>\n",
       "      <td>0.014023</td>\n",
       "      <td>131.000000</td>\n",
       "      <td>0.0</td>\n",
       "    </tr>\n",
       "    <tr>\n",
       "      <th>id10326</th>\n",
       "      <td>0.031649</td>\n",
       "      <td>0.027513</td>\n",
       "      <td>0.033312</td>\n",
       "      <td>0.031835</td>\n",
       "      <td>17.500000</td>\n",
       "      <td>0.0</td>\n",
       "    </tr>\n",
       "    <tr>\n",
       "      <th>id10343</th>\n",
       "      <td>0.004456</td>\n",
       "      <td>0.002390</td>\n",
       "      <td>0.002307</td>\n",
       "      <td>0.002224</td>\n",
       "      <td>153.500000</td>\n",
       "      <td>0.0</td>\n",
       "    </tr>\n",
       "    <tr>\n",
       "      <th>id10352</th>\n",
       "      <td>0.049045</td>\n",
       "      <td>0.030474</td>\n",
       "      <td>0.031390</td>\n",
       "      <td>0.032746</td>\n",
       "      <td>20.000000</td>\n",
       "      <td>0.0</td>\n",
       "    </tr>\n",
       "    <tr>\n",
       "      <th>id10393</th>\n",
       "      <td>0.021886</td>\n",
       "      <td>0.022727</td>\n",
       "      <td>0.020269</td>\n",
       "      <td>0.021582</td>\n",
       "      <td>1.000000</td>\n",
       "      <td>0.0</td>\n",
       "    </tr>\n",
       "    <tr>\n",
       "      <th>id10397</th>\n",
       "      <td>0.011926</td>\n",
       "      <td>0.007246</td>\n",
       "      <td>0.005648</td>\n",
       "      <td>0.007742</td>\n",
       "      <td>152.333333</td>\n",
       "      <td>0.0</td>\n",
       "    </tr>\n",
       "    <tr>\n",
       "      <th>id10428</th>\n",
       "      <td>0.026818</td>\n",
       "      <td>0.015717</td>\n",
       "      <td>0.013154</td>\n",
       "      <td>0.014768</td>\n",
       "      <td>17.000000</td>\n",
       "      <td>0.0</td>\n",
       "    </tr>\n",
       "    <tr>\n",
       "      <th>id10520</th>\n",
       "      <td>0.007541</td>\n",
       "      <td>0.002077</td>\n",
       "      <td>0.002643</td>\n",
       "      <td>0.002562</td>\n",
       "      <td>134.666667</td>\n",
       "      <td>0.0</td>\n",
       "    </tr>\n",
       "    <tr>\n",
       "      <th>id10539</th>\n",
       "      <td>0.049514</td>\n",
       "      <td>0.047058</td>\n",
       "      <td>0.049809</td>\n",
       "      <td>0.051331</td>\n",
       "      <td>1.500000</td>\n",
       "      <td>0.0</td>\n",
       "    </tr>\n",
       "    <tr>\n",
       "      <th>id10560</th>\n",
       "      <td>0.030661</td>\n",
       "      <td>0.030820</td>\n",
       "      <td>0.034464</td>\n",
       "      <td>0.031927</td>\n",
       "      <td>10.666667</td>\n",
       "      <td>0.0</td>\n",
       "    </tr>\n",
       "    <tr>\n",
       "      <th>id10582</th>\n",
       "      <td>0.014794</td>\n",
       "      <td>0.009442</td>\n",
       "      <td>0.011018</td>\n",
       "      <td>0.009768</td>\n",
       "      <td>150.666667</td>\n",
       "      <td>0.0</td>\n",
       "    </tr>\n",
       "    <tr>\n",
       "      <th>id10583</th>\n",
       "      <td>0.040563</td>\n",
       "      <td>0.052016</td>\n",
       "      <td>0.049888</td>\n",
       "      <td>0.044904</td>\n",
       "      <td>3.000000</td>\n",
       "      <td>0.0</td>\n",
       "    </tr>\n",
       "    <tr>\n",
       "      <th>id10635</th>\n",
       "      <td>0.008783</td>\n",
       "      <td>0.006851</td>\n",
       "      <td>0.003894</td>\n",
       "      <td>0.005656</td>\n",
       "      <td>84.000000</td>\n",
       "      <td>0.0</td>\n",
       "    </tr>\n",
       "    <tr>\n",
       "      <th>id10662</th>\n",
       "      <td>0.047852</td>\n",
       "      <td>0.045963</td>\n",
       "      <td>0.037250</td>\n",
       "      <td>0.041030</td>\n",
       "      <td>2.333333</td>\n",
       "      <td>0.0</td>\n",
       "    </tr>\n",
       "    <tr>\n",
       "      <th>id10710</th>\n",
       "      <td>0.075828</td>\n",
       "      <td>0.064108</td>\n",
       "      <td>0.060102</td>\n",
       "      <td>0.061691</td>\n",
       "      <td>11.666667</td>\n",
       "      <td>0.0</td>\n",
       "    </tr>\n",
       "    <tr>\n",
       "      <th>id10715</th>\n",
       "      <td>0.003367</td>\n",
       "      <td>0.003912</td>\n",
       "      <td>0.003062</td>\n",
       "      <td>0.003912</td>\n",
       "      <td>325.000000</td>\n",
       "      <td>0.0</td>\n",
       "    </tr>\n",
       "    <tr>\n",
       "      <th>id10744</th>\n",
       "      <td>0.046585</td>\n",
       "      <td>0.027073</td>\n",
       "      <td>0.025211</td>\n",
       "      <td>0.025325</td>\n",
       "      <td>56.500000</td>\n",
       "      <td>0.0</td>\n",
       "    </tr>\n",
       "    <tr>\n",
       "      <th>id10786</th>\n",
       "      <td>0.021258</td>\n",
       "      <td>0.021517</td>\n",
       "      <td>0.021719</td>\n",
       "      <td>0.023363</td>\n",
       "      <td>47.000000</td>\n",
       "      <td>0.0</td>\n",
       "    </tr>\n",
       "    <tr>\n",
       "      <th>id10868</th>\n",
       "      <td>0.016426</td>\n",
       "      <td>0.008790</td>\n",
       "      <td>0.007924</td>\n",
       "      <td>0.008790</td>\n",
       "      <td>137.500000</td>\n",
       "      <td>0.0</td>\n",
       "    </tr>\n",
       "    <tr>\n",
       "      <th>id10870</th>\n",
       "      <td>0.182041</td>\n",
       "      <td>0.171380</td>\n",
       "      <td>0.166829</td>\n",
       "      <td>0.161879</td>\n",
       "      <td>1.250000</td>\n",
       "      <td>0.0</td>\n",
       "    </tr>\n",
       "    <tr>\n",
       "      <th>id10929</th>\n",
       "      <td>0.004831</td>\n",
       "      <td>0.003046</td>\n",
       "      <td>0.000314</td>\n",
       "      <td>0.001785</td>\n",
       "      <td>112.000000</td>\n",
       "      <td>0.0</td>\n",
       "    </tr>\n",
       "    <tr>\n",
       "      <th>id10935</th>\n",
       "      <td>0.014460</td>\n",
       "      <td>0.007067</td>\n",
       "      <td>0.005560</td>\n",
       "      <td>0.005365</td>\n",
       "      <td>143.000000</td>\n",
       "      <td>0.0</td>\n",
       "    </tr>\n",
       "    <tr>\n",
       "      <th>id10945</th>\n",
       "      <td>0.066781</td>\n",
       "      <td>0.045196</td>\n",
       "      <td>0.039050</td>\n",
       "      <td>0.043169</td>\n",
       "      <td>31.000000</td>\n",
       "      <td>0.0</td>\n",
       "    </tr>\n",
       "    <tr>\n",
       "      <th>id10977</th>\n",
       "      <td>0.012047</td>\n",
       "      <td>0.007600</td>\n",
       "      <td>0.006615</td>\n",
       "      <td>0.006755</td>\n",
       "      <td>142.000000</td>\n",
       "      <td>0.0</td>\n",
       "    </tr>\n",
       "    <tr>\n",
       "      <th>id10986</th>\n",
       "      <td>0.037590</td>\n",
       "      <td>0.017663</td>\n",
       "      <td>0.015961</td>\n",
       "      <td>0.016161</td>\n",
       "      <td>271.000000</td>\n",
       "      <td>0.0</td>\n",
       "    </tr>\n",
       "    <tr>\n",
       "      <th>id11088</th>\n",
       "      <td>0.011203</td>\n",
       "      <td>0.005688</td>\n",
       "      <td>0.004223</td>\n",
       "      <td>0.005429</td>\n",
       "      <td>125.500000</td>\n",
       "      <td>0.0</td>\n",
       "    </tr>\n",
       "    <tr>\n",
       "      <th>id11111</th>\n",
       "      <td>0.048742</td>\n",
       "      <td>0.041529</td>\n",
       "      <td>0.042403</td>\n",
       "      <td>0.042240</td>\n",
       "      <td>65.000000</td>\n",
       "      <td>0.0</td>\n",
       "    </tr>\n",
       "    <tr>\n",
       "      <th>id11120</th>\n",
       "      <td>0.026257</td>\n",
       "      <td>0.010287</td>\n",
       "      <td>0.011322</td>\n",
       "      <td>0.011322</td>\n",
       "      <td>15.500000</td>\n",
       "      <td>0.0</td>\n",
       "    </tr>\n",
       "    <tr>\n",
       "      <th>id11182</th>\n",
       "      <td>0.026686</td>\n",
       "      <td>0.015623</td>\n",
       "      <td>0.014100</td>\n",
       "      <td>0.014173</td>\n",
       "      <td>168.333333</td>\n",
       "      <td>0.0</td>\n",
       "    </tr>\n",
       "    <tr>\n",
       "      <th>id11184</th>\n",
       "      <td>0.020171</td>\n",
       "      <td>0.010899</td>\n",
       "      <td>0.010706</td>\n",
       "      <td>0.011472</td>\n",
       "      <td>122.250000</td>\n",
       "      <td>0.0</td>\n",
       "    </tr>\n",
       "    <tr>\n",
       "      <th>id11209</th>\n",
       "      <td>0.032860</td>\n",
       "      <td>0.020997</td>\n",
       "      <td>0.025128</td>\n",
       "      <td>0.030394</td>\n",
       "      <td>22.666667</td>\n",
       "      <td>0.0</td>\n",
       "    </tr>\n",
       "    <tr>\n",
       "      <th>id11211</th>\n",
       "      <td>0.011929</td>\n",
       "      <td>0.004749</td>\n",
       "      <td>0.004514</td>\n",
       "      <td>0.005078</td>\n",
       "      <td>158.333333</td>\n",
       "      <td>0.0</td>\n",
       "    </tr>\n",
       "  </tbody>\n",
       "</table>\n",
       "</div>"
      ],
      "text/plain": [
       "             init       avg   avg_max   avg_std     n_adapt  n_false_adapt\n",
       "enr_spk                                                                   \n",
       "id10020  0.009058  0.005670  0.004529  0.004457  153.000000            0.0\n",
       "id10045  0.030178  0.026546  0.025675  0.025348   53.000000            0.0\n",
       "id10096  0.023299  0.011941  0.010729  0.010280  159.000000            0.0\n",
       "id10104  0.035629  0.028138  0.026690  0.026447   27.000000            0.0\n",
       "id10105  0.015068  0.010208  0.011226  0.006366    2.000000            0.0\n",
       "id10168  0.016109  0.008743  0.009144  0.007366    2.000000            0.0\n",
       "id10203  0.061509  0.028283  0.026536  0.025564   32.666667            0.0\n",
       "id10242  0.030854  0.027595  0.028798  0.028798   45.500000            0.0\n",
       "id10248  0.063763  0.043999  0.040473  0.040473   12.000000            0.0\n",
       "id10300  0.017224  0.013912  0.011090  0.014023  131.000000            0.0\n",
       "id10326  0.031649  0.027513  0.033312  0.031835   17.500000            0.0\n",
       "id10343  0.004456  0.002390  0.002307  0.002224  153.500000            0.0\n",
       "id10352  0.049045  0.030474  0.031390  0.032746   20.000000            0.0\n",
       "id10393  0.021886  0.022727  0.020269  0.021582    1.000000            0.0\n",
       "id10397  0.011926  0.007246  0.005648  0.007742  152.333333            0.0\n",
       "id10428  0.026818  0.015717  0.013154  0.014768   17.000000            0.0\n",
       "id10520  0.007541  0.002077  0.002643  0.002562  134.666667            0.0\n",
       "id10539  0.049514  0.047058  0.049809  0.051331    1.500000            0.0\n",
       "id10560  0.030661  0.030820  0.034464  0.031927   10.666667            0.0\n",
       "id10582  0.014794  0.009442  0.011018  0.009768  150.666667            0.0\n",
       "id10583  0.040563  0.052016  0.049888  0.044904    3.000000            0.0\n",
       "id10635  0.008783  0.006851  0.003894  0.005656   84.000000            0.0\n",
       "id10662  0.047852  0.045963  0.037250  0.041030    2.333333            0.0\n",
       "id10710  0.075828  0.064108  0.060102  0.061691   11.666667            0.0\n",
       "id10715  0.003367  0.003912  0.003062  0.003912  325.000000            0.0\n",
       "id10744  0.046585  0.027073  0.025211  0.025325   56.500000            0.0\n",
       "id10786  0.021258  0.021517  0.021719  0.023363   47.000000            0.0\n",
       "id10868  0.016426  0.008790  0.007924  0.008790  137.500000            0.0\n",
       "id10870  0.182041  0.171380  0.166829  0.161879    1.250000            0.0\n",
       "id10929  0.004831  0.003046  0.000314  0.001785  112.000000            0.0\n",
       "id10935  0.014460  0.007067  0.005560  0.005365  143.000000            0.0\n",
       "id10945  0.066781  0.045196  0.039050  0.043169   31.000000            0.0\n",
       "id10977  0.012047  0.007600  0.006615  0.006755  142.000000            0.0\n",
       "id10986  0.037590  0.017663  0.015961  0.016161  271.000000            0.0\n",
       "id11088  0.011203  0.005688  0.004223  0.005429  125.500000            0.0\n",
       "id11111  0.048742  0.041529  0.042403  0.042240   65.000000            0.0\n",
       "id11120  0.026257  0.010287  0.011322  0.011322   15.500000            0.0\n",
       "id11182  0.026686  0.015623  0.014100  0.014173  168.333333            0.0\n",
       "id11184  0.020171  0.010899  0.010706  0.011472  122.250000            0.0\n",
       "id11209  0.032860  0.020997  0.025128  0.030394   22.666667            0.0\n",
       "id11211  0.011929  0.004749  0.004514  0.005078  158.333333            0.0"
      ]
     },
     "execution_count": 598,
     "metadata": {},
     "output_type": "execute_result"
    }
   ],
   "source": [
    "batch_eer_df.groupby('enr_spk').mean()"
   ]
  },
  {
   "cell_type": "code",
   "execution_count": 568,
   "metadata": {},
   "outputs": [
    {
     "data": {
      "text/plain": [
       "init               0.016674\n",
       "avg                0.005725\n",
       "avg_max            0.005128\n",
       "avg_std            0.005598\n",
       "n_adapt          220.830000\n",
       "n_false_adapt      0.010000\n",
       "dtype: float64"
      ]
     },
     "execution_count": 568,
     "metadata": {},
     "output_type": "execute_result"
    }
   ],
   "source": [
    "batch_eer_df.mean()"
   ]
  },
  {
   "cell_type": "code",
   "execution_count": 565,
   "metadata": {},
   "outputs": [
    {
     "name": "stdout",
     "output_type": "stream",
     "text": [
      "57\n",
      "18\n",
      "25\n"
     ]
    }
   ],
   "source": [
    "print(np.count_nonzero(batch_eer_df[\"avg\"] > batch_eer_df[\"avg_max\"]))\n",
    "print(np.count_nonzero(batch_eer_df[\"avg\"] == batch_eer_df[\"avg_max\"]))\n",
    "print(np.count_nonzero(batch_eer_df[\"avg\"] < batch_eer_df[\"avg_max\"]))"
   ]
  },
  {
   "cell_type": "code",
   "execution_count": 566,
   "metadata": {},
   "outputs": [
    {
     "name": "stdout",
     "output_type": "stream",
     "text": [
      "41\n",
      "25\n",
      "34\n"
     ]
    }
   ],
   "source": [
    "print(np.count_nonzero(batch_eer_df[\"avg\"] > batch_eer_df[\"avg_std\"]))\n",
    "print(np.count_nonzero(batch_eer_df[\"avg\"] == batch_eer_df[\"avg_std\"]))\n",
    "print(np.count_nonzero(batch_eer_df[\"avg\"] < batch_eer_df[\"avg_std\"]))"
   ]
  },
  {
   "cell_type": "markdown",
   "metadata": {},
   "source": [
    "### Enrollment importance "
   ]
  },
  {
   "cell_type": "code",
   "execution_count": 223,
   "metadata": {},
   "outputs": [],
   "source": [
    "t_idx = 3\n",
    "score = eval_plda_score_list[t_idx]\n",
    "confids = eval_plda_confids[t_idx]"
   ]
  },
  {
   "cell_type": "code",
   "execution_count": 225,
   "metadata": {},
   "outputs": [
    {
     "data": {
      "text/plain": [
       "(8, 2260)"
      ]
     },
     "execution_count": 225,
     "metadata": {},
     "output_type": "execute_result"
    }
   ],
   "source": [
    "score.shape"
   ]
  },
  {
   "cell_type": "markdown",
   "metadata": {},
   "source": [
    "###  budget"
   ]
  },
  {
   "cell_type": "code",
   "execution_count": 196,
   "metadata": {},
   "outputs": [],
   "source": [
    "budget = 20"
   ]
  },
  {
   "cell_type": "code",
   "execution_count": 214,
   "metadata": {},
   "outputs": [
    {
     "name": "stdout",
     "output_type": "stream",
     "text": [
      "(0.036102679606125974, 0.03610281091796501, 0.03610254829428694, 4.49718988101266)\n"
     ]
    }
   ],
   "source": [
    "# sorted_adapt_idx = [np.concatenate([np.array([0,1,2]),  np.argsort(x)+3])\n",
    "#                                    for x in eval_plda_confids]\n",
    "sorted_adapt_idx = [np.concatenate([np.array([0,1,2]),  \n",
    "                                    np.argsort(x[x>15])+3])\n",
    "                                   for x in eval_plda_confids]\n",
    "\n",
    "test_adapt_scores = np.concatenate([x[idx].mean(0) \n",
    "                                    for x, idx in \n",
    "                                    zip(eval_plda_score_list, sorted_adapt_idx)])\n",
    "test_labels = np.concatenate(eval_plda_labels)\n",
    "print(compute_eer(test_adapt_scores, test_labels))"
   ]
  },
  {
   "cell_type": "code",
   "execution_count": 213,
   "metadata": {},
   "outputs": [
    {
     "name": "stdout",
     "output_type": "stream",
     "text": [
      "(0.037581830023256005, 0.037581457004999506, 0.037582203041512496, 4.5940591699999995)\n"
     ]
    }
   ],
   "source": [
    "test_adapt_scores = np.concatenate([x[:budget].mean(0) \n",
    "                                    for x in eval_plda_score_list], axis=0)\n",
    "test_labels = np.concatenate(eval_plda_labels)\n",
    "print(compute_eer(test_adapt_scores, test_labels))"
   ]
  },
  {
   "cell_type": "code",
   "execution_count": 92,
   "metadata": {},
   "outputs": [],
   "source": [
    "batch_eer_df.to_pickle(\"trials/eval_165/hard_enr3x30_ntar9/batch_plda_eers_eT15.pkl\")"
   ]
  },
  {
   "cell_type": "code",
   "execution_count": 109,
   "metadata": {},
   "outputs": [],
   "source": [
    "batch_eer_df = pd.read_pickle(\"trials/eval_165/hard_enr3x30_ntar9/batch_plda_eers_eT10.pkl\")"
   ]
  },
  {
   "cell_type": "code",
   "execution_count": 98,
   "metadata": {},
   "outputs": [
    {
     "name": "stdout",
     "output_type": "stream",
     "text": [
      "2782\n",
      "387\n",
      "1781\n"
     ]
    }
   ],
   "source": [
    "print(np.count_nonzero(batch_eer_df[\"avg\"] > batch_eer_df[\"avg_max\"]))\n",
    "print(np.count_nonzero(batch_eer_df[\"avg\"] == batch_eer_df[\"avg_max\"]))\n",
    "print(np.count_nonzero(batch_eer_df[\"avg\"] < batch_eer_df[\"avg_max\"]))"
   ]
  },
  {
   "cell_type": "code",
   "execution_count": 100,
   "metadata": {},
   "outputs": [],
   "source": [
    "batch_eer_spks = batch_eer_df.groupby(\"enr_spk\").mean()"
   ]
  },
  {
   "cell_type": "code",
   "execution_count": null,
   "metadata": {},
   "outputs": [],
   "source": [
    "batch_eer_spks[(batch_eer_spks[\"avg\"] > batch_eer_spks[\"avg_std\"]) &\n",
    "               (batch_eer_spks[\"avg\"] > batch_eer_spks[\"avg_max\"])]"
   ]
  },
  {
   "cell_type": "code",
   "execution_count": 113,
   "metadata": {},
   "outputs": [
    {
     "name": "stdout",
     "output_type": "stream",
     "text": [
      "115\n",
      "49\n"
     ]
    }
   ],
   "source": [
    "print(np.count_nonzero(batch_eer_spks[\"avg\"] > batch_eer_spks[\"avg_max\"]))\n",
    "print(np.count_nonzero(batch_eer_spks[\"avg\"] < batch_eer_spks[\"avg_max\"]))"
   ]
  },
  {
   "cell_type": "code",
   "execution_count": 107,
   "metadata": {},
   "outputs": [
    {
     "data": {
      "text/plain": [
       "init         0.092698\n",
       "avg          0.035618\n",
       "avg_max      0.027601\n",
       "avg_std      0.032500\n",
       "n_adapt    184.871675\n",
       "dtype: float64"
      ]
     },
     "execution_count": 107,
     "metadata": {},
     "output_type": "execute_result"
    }
   ],
   "source": [
    "batch_eer_df[batch_eer_df[\"avg\"] > batch_eer_df[\"avg_skk\"]].mean()"
   ]
  },
  {
   "cell_type": "code",
   "execution_count": 108,
   "metadata": {},
   "outputs": [
    {
     "data": {
      "text/plain": [
       "init         0.077143\n",
       "avg          0.026569\n",
       "avg_max      0.031920\n",
       "avg_std      0.028983\n",
       "n_adapt    187.673779\n",
       "dtype: float64"
      ]
     },
     "execution_count": 108,
     "metadata": {},
     "output_type": "execute_result"
    }
   ],
   "source": [
    "batch_eer_df[batch_eer_df[\"avg\"] < batch_eer_df[\"avg_max\"]].mean()"
   ]
  },
  {
   "cell_type": "code",
   "execution_count": null,
   "metadata": {},
   "outputs": [],
   "source": []
  }
 ],
 "metadata": {
  "kernelspec": {
   "display_name": "Python 3",
   "language": "python",
   "name": "python3"
  },
  "language_info": {
   "codemirror_mode": {
    "name": "ipython",
    "version": 3
   },
   "file_extension": ".py",
   "mimetype": "text/x-python",
   "name": "python",
   "nbconvert_exporter": "python",
   "pygments_lexer": "ipython3",
   "version": "3.6.5"
  }
 },
 "nbformat": 4,
 "nbformat_minor": 2
}
