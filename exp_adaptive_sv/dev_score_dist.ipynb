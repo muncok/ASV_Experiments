{
 "cells": [
  {
   "cell_type": "markdown",
   "metadata": {},
   "source": [
    "# Adjusting thrshold using validation set"
   ]
  },
  {
   "cell_type": "code",
   "execution_count": 1,
   "metadata": {},
   "outputs": [
    {
     "name": "stdout",
     "output_type": "stream",
     "text": [
      "Using matplotlib backend: TkAgg\n",
      "Populating the interactive namespace from numpy and matplotlib\n"
     ]
    }
   ],
   "source": [
    "%load_ext autoreload\n",
    "%autoreload 2\n",
    "%pylab\n",
    "%matplotlib inline\n",
    "\n",
    "import pandas as pd\n",
    "import pickle\n",
    "import numpy as np\n",
    "import sys\n",
    "import os"
   ]
  },
  {
   "cell_type": "code",
   "execution_count": 7,
   "metadata": {},
   "outputs": [],
   "source": [
    "from utils import plot_ROC\n",
    "from adaptive_sv_system.utils import cos_dist_sim_torch, euc_dist_sim"
   ]
  },
  {
   "cell_type": "code",
   "execution_count": 12,
   "metadata": {},
   "outputs": [],
   "source": [
    "f_sim = 'cos'\n",
    "embeds = np.load('xvector_embeds/sv_embeds.npy')"
   ]
  },
  {
   "cell_type": "code",
   "execution_count": 16,
   "metadata": {},
   "outputs": [
    {
     "name": "stdout",
     "output_type": "stream",
     "text": [
      "Train Accuracy: 0.9320381628722325 \n",
      "Train AUC: 0.9362077392691408 \n",
      "Train Confusion Matrix:\n",
      "[[ 82474   4302]\n",
      " [ 12388 146415]]\n"
     ]
    },
    {
     "data": {
      "image/png": "[encoded data removed]",
      "text/plain": [
       "<Figure size 720x360 with 1 Axes>"
      ]
     },
     "metadata": {},
     "output_type": "display_data"
    }
   ],
   "source": [
    "# trial for finding best threshold\n",
    "trial_for_thresh = pd.read_pickle(\"trials/enr306_closedset/trial_for_thresh.pkl\")\n",
    "\n",
    "if f_sim == 'cos':\n",
    "    train_score_vector = cos_dist_sim_torch(embeds[trial_for_thresh.enrolment_id],\n",
    "                                      embeds[trial_for_thresh.test_id], dim=1)\n",
    "elif f_sim == 'euc':\n",
    "    train_score_vector =  euc_dist_sim(embeds[trial_for_thresh.enrolment_id], \n",
    "                                       embeds[trial_for_thresh.test_id], dim=1)\n",
    "    \n",
    "train_label_vector = trial_for_thresh.label.tolist()\n",
    "accept_thres, fpr_, tpr_, thres_ = plot_ROC(train_label_vector, train_score_vector)"
   ]
  },
  {
   "cell_type": "code",
   "execution_count": 17,
   "metadata": {},
   "outputs": [],
   "source": [
    "fnr_ = 1 - tpr_"
   ]
  },
  {
   "cell_type": "code",
   "execution_count": 22,
   "metadata": {},
   "outputs": [
    {
     "data": {
      "text/plain": [
       "array([9.99993703e-01, 9.99615876e-01, 9.99603282e-01, ...,\n",
       "       6.29711026e-06, 0.00000000e+00, 0.00000000e+00])"
      ]
     },
     "execution_count": 22,
     "metadata": {},
     "output_type": "execute_result"
    }
   ],
   "source": [
    "fnr_"
   ]
  },
  {
   "cell_type": "code",
   "execution_count": 29,
   "metadata": {},
   "outputs": [
    {
     "data": {
      "text/plain": [
       "0.46138534"
      ]
     },
     "execution_count": 29,
     "metadata": {},
     "output_type": "execute_result"
    }
   ],
   "source": [
    "thres_[np.where(fnr_ < 0.01)[0][0]]"
   ]
  },
  {
   "cell_type": "markdown",
   "metadata": {},
   "source": [
    "## PLDA score "
   ]
  },
  {
   "cell_type": "code",
   "execution_count": 2,
   "metadata": {},
   "outputs": [],
   "source": [
    "from batch_sv_system import get_embeds\n",
    "from utils import key2df, df2dict, compute_eer, get_id2idx\n",
    "from ioffe_plda.verifier import Verifier"
   ]
  },
  {
   "cell_type": "code",
   "execution_count": 3,
   "metadata": {},
   "outputs": [],
   "source": [
    "trials = pd.read_pickle(\"trials/dev940_eval311/dev_original_trials.pkl\")\n",
    "\n",
    "embed_dir = \"embeddings/voxc2_fbank64_voxc2untied_xvector/\"\n",
    "sv_embeds = np.load(embed_dir+\"ln_lda_sv_embeds.npy\")\n",
    "sv_keys = pickle.load(open(embed_dir + \"/sv_keys.pkl\", \"rb\"))\n",
    "sv_id2idx = get_id2idx(sv_keys)\n",
    "\n",
    "py_plda_model = Verifier()\n",
    "py_plda_model = Verifier(pickle.load(open(\"py_plda_model_ln_lda.pkl\", \"rb\")))"
   ]
  },
  {
   "cell_type": "code",
   "execution_count": 4,
   "metadata": {},
   "outputs": [],
   "source": [
    "dev_trial_ids = trials.groupby('enr_id', group_keys=False).apply(\n",
    "    lambda x: list(x.test_id)).to_dict()\n",
    "dev_trial_labels = trials.groupby('enr_id', group_keys=False).apply(\n",
    "    lambda x: list(x.label)).to_dict()"
   ]
  },
  {
   "cell_type": "code",
   "execution_count": 5,
   "metadata": {},
   "outputs": [
    {
     "name": "stderr",
     "output_type": "stream",
     "text": [
      "100%|██████████| 78658/78658 [34:36<00:00, 37.89it/s]\n"
     ]
    }
   ],
   "source": [
    "from tqdm import tqdm\n",
    "dev_scores = []\n",
    "dev_labels = []\n",
    "for (k, v), labels in tqdm(zip(dev_trial_ids.items(), dev_trial_labels.values()), \n",
    "                       total=len(dev_trial_ids)):\n",
    "    enr_embeds = get_embeds([k], sv_embeds, sv_id2idx, norm=False)\n",
    "    test_embeds = get_embeds(v, sv_embeds, sv_id2idx, norm=False)\n",
    "    dev_scores += py_plda_model.score_avg(enr_embeds, test_embeds).mean(0).tolist()\n",
    "    dev_labels += labels"
   ]
  },
  {
   "cell_type": "code",
   "execution_count": 10,
   "metadata": {},
   "outputs": [],
   "source": [
    "dev_scores = np.array(dev_scores)\n",
    "dev_labels = np.array(dev_labels)\n",
    "dev_score_labels = np.stack([dev_scores, dev_labels], axis=1)\n",
    "np.save(\"trials/dev940_eval311/dev_original_score_labels.npy\", dev_score_labels)"
   ]
  },
  {
   "cell_type": "code",
   "execution_count": 24,
   "metadata": {},
   "outputs": [
    {
     "data": {
      "text/plain": [
       "(0.19568278296632538, -11.4982)"
      ]
     },
     "execution_count": 24,
     "metadata": {},
     "output_type": "execute_result"
    }
   ],
   "source": [
    "from batch_sv_system import compute_minDCF\n",
    "compute_minDCF(dev_scores, dev_labels, p_tar=0.9, c_miss=1, c_fa=1)"
   ]
  },
  {
   "cell_type": "markdown",
   "metadata": {},
   "source": [
    "## Score distribution "
   ]
  },
  {
   "cell_type": "code",
   "execution_count": 94,
   "metadata": {},
   "outputs": [
    {
     "data": {
      "text/plain": [
       "GaussianMixture(covariance_type='full', init_params='random', max_iter=100,\n",
       "        means_init=None, n_components=12, n_init=1, precisions_init=None,\n",
       "        random_state=None, reg_covar=1e-06, tol=0.001, verbose=0,\n",
       "        verbose_interval=10, warm_start=False, weights_init=None)"
      ]
     },
     "execution_count": 94,
     "metadata": {},
     "output_type": "execute_result"
    }
   ],
   "source": [
    "from sklearn.mixture import GaussianMixture as gaussian\n",
    "\n",
    "target_score_model = gaussian(n_components=12, init_params='random')\n",
    "target_score_model.fit(dev_scores[dev_labels==1].reshape(-1, 1))\n",
    "\n",
    "imp_score_model = gaussian(n_components=12, init_params='random')\n",
    "imp_score_model.fit(dev_scores[dev_labels==0].reshape(-1, 1))"
   ]
  },
  {
   "cell_type": "code",
   "execution_count": 95,
   "metadata": {},
   "outputs": [],
   "source": [
    "cond_tar = target_score_model.score_samples(dev_scores[dev_labels==1].reshape(-1, 1))\n",
    "cond_imp = imp_score_model.score_samples(dev_scores[dev_labels==1].reshape(-1, 1))\n",
    "tar_probs = np.exp(cond_tar - np.logaddexp(cond_tar, cond_imp))"
   ]
  },
  {
   "cell_type": "code",
   "execution_count": 96,
   "metadata": {},
   "outputs": [],
   "source": [
    "cond_tar = target_score_model.score_samples(dev_scores[dev_labels==0].reshape(-1, 1))\n",
    "cond_imp = imp_score_model.score_samples(dev_scores[dev_labels==0].reshape(-1, 1))\n",
    "tar_probs = np.exp(cond_tar - np.logaddexp(cond_tar, cond_imp))"
   ]
  },
  {
   "cell_type": "code",
   "execution_count": null,
   "metadata": {},
   "outputs": [],
   "source": [
    "np.sort(tar_probs)[-1000:]"
   ]
  },
  {
   "cell_type": "code",
   "execution_count": 775,
   "metadata": {},
   "outputs": [
    {
     "data": {
      "text/plain": [
       "<matplotlib.axes._subplots.AxesSubplot at 0x7f25ef087ef0>"
      ]
     },
     "execution_count": 775,
     "metadata": {},
     "output_type": "execute_result"
    },
    {
     "data": {
      "image/png": "[encoded data removed]",
      "text/plain": [
       "<Figure size 432x288 with 1 Axes>"
      ]
     },
     "metadata": {},
     "output_type": "display_data"
    }
   ],
   "source": [
    "import seaborn as sns\n",
    "sns.distplot(norm_score_fusions[test_trial[1]==1], bins=30, kde=True)"
   ]
  },
  {
   "cell_type": "markdown",
   "metadata": {},
   "source": [
    "## Dev target trial "
   ]
  },
  {
   "cell_type": "code",
   "execution_count": null,
   "metadata": {},
   "outputs": [],
   "source": [
    "dev_target_trials = pickle.load(open(\"trials/dev940_eval311/dev_target_trials.pkl\", \"rb\"))\n",
    "\n",
    "dev_trial_keys = list(dev_target_trials.keys())\n",
    "\n",
    "dev_target_scores = []\n",
    "for k, v in tqdm(dev_target_trials.items(), total=len(dev_target_trials)):\n",
    "    enr_embeds = get_embeds([k], sv_embeds,  sv_id2idx, norm=False)\n",
    "    test_embeds = get_embeds(v, sv_embeds,  sv_id2idx, norm=False)\n",
    "    dev_target_scores += py_plda_model.multi_sess(enr_embeds, test_embeds, cov_scaling=False, cov_adapt=False).mean(0).tolist()\n",
    "\n",
    "pickle.dump(dev_target_scores, open(\"trials/dev940_eval311/dev_target_score.pkl\", \"wb\"))"
   ]
  }
 ],
 "metadata": {
  "kernelspec": {
   "display_name": "Python 3",
   "language": "python",
   "name": "python3"
  },
  "language_info": {
   "codemirror_mode": {
    "name": "ipython",
    "version": 3
   },
   "file_extension": ".py",
   "mimetype": "text/x-python",
   "name": "python",
   "nbconvert_exporter": "python",
   "pygments_lexer": "ipython3",
   "version": "3.6.5"
  }
 },
 "nbformat": 4,
 "nbformat_minor": 2
}
