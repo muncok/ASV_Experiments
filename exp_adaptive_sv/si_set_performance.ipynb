{
 "cells": [
  {
   "cell_type": "code",
   "execution_count": 4,
   "metadata": {},
   "outputs": [
    {
     "name": "stdout",
     "output_type": "stream",
     "text": [
      "Using matplotlib backend: TkAgg\n",
      "Populating the interactive namespace from numpy and matplotlib\n"
     ]
    }
   ],
   "source": [
    "%load_ext autoreload\n",
    "%autoreload 2\n",
    "%pylab\n",
    "%matplotlib inline\n",
    "\n",
    "import os\n",
    "import sys\n",
    "import pandas as pd\n",
    "import pickle\n",
    "import numpy as np"
   ]
  },
  {
   "cell_type": "code",
   "execution_count": 5,
   "metadata": {},
   "outputs": [],
   "source": [
    "from batch_sv_system_utils import run_trial, plot_score, get_embeds"
   ]
  },
  {
   "cell_type": "code",
   "execution_count": 6,
   "metadata": {},
   "outputs": [],
   "source": [
    "plda_model_dir = \"embeddings/voxc2_fbank64_voxc2untied_tdnn7_embeds/plda_train/\""
   ]
  },
  {
   "cell_type": "code",
   "execution_count": 7,
   "metadata": {},
   "outputs": [],
   "source": [
    "from utils import key2df, df2dict\n",
    "\n",
    "si_keys = pickle.load(open(\"embeddings/voxc2_fbank64_voxc2untied_tdnn7_embeds/si_keys.pkl\", \"rb\"))\n",
    "si_embeds = np.load(\"embeddings/voxc2_fbank64_voxc2untied_tdnn7_embeds/si_embeds.npy\")\n",
    "si_key_df = key2df(si_keys)\n",
    "si_id2idx, si_idx2id = df2dict(si_key_df) "
   ]
  },
  {
   "cell_type": "code",
   "execution_count": 8,
   "metadata": {},
   "outputs": [],
   "source": [
    "from utils import key2df, df2dict\n",
    "\n",
    "sv_keys = pickle.load(open(\"embeddings/voxc2_fbank64_voxc2untied_tdnn7_embeds/sv_keys.pkl\", \"rb\"))\n",
    "sv_embeds = np.load(\"embeddings/voxc2_fbank64_voxc2untied_tdnn7_embeds/sv_embeds.npy\")\n",
    "sv_key_df = key2df(sv_keys)\n",
    "sv_id2idx, sv_idx2id = df2dict(sv_key_df) "
   ]
  },
  {
   "cell_type": "code",
   "execution_count": 9,
   "metadata": {},
   "outputs": [],
   "source": [
    "large_si_spk = si_key_df.spk.value_counts().index[0:10]\n",
    "cohort_ids = si_key_df[si_key_df.spk.isin(large_si_spk)].sample(n=5000).index\n",
    "cohort_embeds = get_embeds(cohort_ids, si_embeds, si_id2idx, norm=False)"
   ]
  },
  {
   "cell_type": "code",
   "execution_count": 10,
   "metadata": {},
   "outputs": [
    {
     "name": "stdout",
     "output_type": "stream",
     "text": [
      "eer=0.5040, fpr=0.5040, fnr=0.5040\n"
     ]
    }
   ],
   "source": [
    "from batch_sv_system_utils import compute_eer\n",
    "\n",
    "small_train_set_spks = si_key_df.spk.value_counts()[:10].index.tolist()\n",
    "small_key_df = si_key_df[si_key_df.spk.isin(small_train_set_spks)].sample(n=3000)\n",
    "small_embeds = get_embeds(small_key_df.index, si_embeds, si_id2idx, norm=False) \n",
    "scores = run_trial(small_embeds, small_embeds, np.random.randint(0, 2, size=(len(small_embeds))), \n",
    "                  plda_dir=plda_model_dir, plot=False)\n",
    "\n",
    "label_mat = np.repeat(np.array(small_key_df.label).reshape(-1, 1), len(small_key_df), axis=1)\n",
    "trial_labels = label_mat == label_mat.T"
   ]
  },
  {
   "cell_type": "code",
   "execution_count": 11,
   "metadata": {},
   "outputs": [
    {
     "data": {
      "text/plain": [
       "(0.03194806997130336,\n",
       " 0.03194806997130336,\n",
       " 0.03194515061157155,\n",
       " -7.4263770000000005)"
      ]
     },
     "execution_count": 11,
     "metadata": {},
     "output_type": "execute_result"
    }
   ],
   "source": [
    "pos_scores = scores[np.nonzero(trial_labels)]\n",
    "neg_scores = scores[np.nonzero(~trial_labels)]\n",
    "compute_eer(pos_scores, neg_scores)"
   ]
  },
  {
   "cell_type": "code",
   "execution_count": 67,
   "metadata": {},
   "outputs": [
    {
     "name": "stdout",
     "output_type": "stream",
     "text": [
      "eer=0.5049, fpr=0.5049, fnr=0.5045\n"
     ]
    },
    {
     "data": {
      "text/plain": [
       "(0.04127386145115142, 0.041261698724344244, 0.04127386145115142, -4.255052)"
      ]
     },
     "execution_count": 67,
     "metadata": {},
     "output_type": "execute_result"
    }
   ],
   "source": [
    "from batch_sv_system_utils import compute_eer\n",
    "\n",
    "small_train_set_spks = sv_key_df.spk.value_counts()[-30:].index.tolist()\n",
    "small_key_df = sv_key_df[sv_key_df.spk.isin(small_train_set_spks)]\n",
    "small_embeds = get_embeds(small_key_df.index, sv_embeds, sv_id2idx, norm=False) \n",
    "scores = run_trial(small_embeds, small_embeds, np.random.randint(0, 2, size=(len(small_embeds))), \n",
    "                  plda_dir=plda_model_dir, plot=False)\n",
    "\n",
    "label_mat = np.repeat(np.array(small_key_df.label).reshape(-1, 1), len(small_key_df), axis=1)\n",
    "trial_labels = label_mat == label_mat.T\n",
    "pos_scores = scores[np.nonzero(trial_labels)]\n",
    "neg_scores = scores[np.nonzero(~trial_labels)]\n",
    "\n",
    "compute_eer(pos_scores, neg_scores)"
   ]
  },
  {
   "cell_type": "code",
   "execution_count": 12,
   "metadata": {},
   "outputs": [],
   "source": [
    "score_idx =np.arange(len(pos_scores)+len(neg_scores))\n",
    "np.random.shuffle(score_idx)\n",
    "pos_score_idx = score_idx[:len(pos_scores)]\n",
    "neg_score_idx = score_idx[:len(neg_scores)]"
   ]
  },
  {
   "cell_type": "code",
   "execution_count": null,
   "metadata": {},
   "outputs": [],
   "source": [
    "plt.figure(figsize=(20,5))\n",
    "plt.scatter(pos_score_idx, pos_scores, alpha=0.5, color='r')\n",
    "plt.scatter(neg_score_idx, neg_scores, alpha=0.5, color='b')"
   ]
  },
  {
   "cell_type": "code",
   "execution_count": 3,
   "metadata": {},
   "outputs": [
    {
     "ename": "NameError",
     "evalue": "name 'score_idx' is not defined",
     "output_type": "error",
     "traceback": [
      "\u001b[0;31m---------------------------------------------------------\u001b[0m",
      "\u001b[0;31mNameError\u001b[0m               Traceback (most recent call last)",
      "\u001b[0;32m<ipython-input-3-e19f9da3f778>\u001b[0m in \u001b[0;36m<module>\u001b[0;34m()\u001b[0m\n\u001b[0;32m----> 1\u001b[0;31m \u001b[0mscore_idx\u001b[0m\u001b[0;34m\u001b[0m\u001b[0m\n\u001b[0m",
      "\u001b[0;31mNameError\u001b[0m: name 'score_idx' is not defined"
     ]
    }
   ],
   "source": [
    "score_idx"
   ]
  },
  {
   "cell_type": "code",
   "execution_count": null,
   "metadata": {},
   "outputs": [],
   "source": []
  }
 ],
 "metadata": {
  "kernelspec": {
   "display_name": "Python 3",
   "language": "python",
   "name": "python3"
  },
  "language_info": {
   "codemirror_mode": {
    "name": "ipython",
    "version": 3
   },
   "file_extension": ".py",
   "mimetype": "text/x-python",
   "name": "python",
   "nbconvert_exporter": "python",
   "pygments_lexer": "ipython3",
   "version": "3.6.5"
  }
 },
 "nbformat": 4,
 "nbformat_minor": 2
}
