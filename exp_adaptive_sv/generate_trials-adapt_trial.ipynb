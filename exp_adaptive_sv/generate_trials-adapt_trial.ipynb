{
 "cells": [
  {
   "cell_type": "markdown",
   "metadata": {},
   "source": [
    "# Incremental Ernollment Trial with voxceleb1\n",
    "---------\n",
    "\n",
    "trial 길이가 충분히 긴 set을 만들고자 한다."
   ]
  },
  {
   "cell_type": "markdown",
   "metadata": {},
   "source": [
    "## Environment"
   ]
  },
  {
   "cell_type": "code",
   "execution_count": 2,
   "metadata": {},
   "outputs": [
    {
     "name": "stdout",
     "output_type": "stream",
     "text": [
      "Using matplotlib backend: TkAgg\n",
      "Populating the interactive namespace from numpy and matplotlib\n"
     ]
    }
   ],
   "source": [
    "%load_ext autoreload\n",
    "%autoreload 2\n",
    "%pylab\n",
    "%matplotlib inline\n",
    "\n",
    "import os\n",
    "import sys\n",
    "import pickle\n",
    "import pandas as pd\n",
    "from utils import key2df"
   ]
  },
  {
   "cell_type": "code",
   "execution_count": 8,
   "metadata": {},
   "outputs": [],
   "source": [
    "from batch_sv_system import get_embeds, cosine_sim, compute_plda_score\n",
    "from utils import key2df, df2dict, get_id2idx"
   ]
  },
  {
   "cell_type": "markdown",
   "metadata": {},
   "source": [
    "## Dataframes & embeddings"
   ]
  },
  {
   "cell_type": "code",
   "execution_count": 4,
   "metadata": {},
   "outputs": [],
   "source": [
    "# voxc1_df['label'] = voxc1_df.groupby('spk').ngroup().values\n",
    "# voxc1_df = voxc1_df.sort_values('id').reset_index(drop=True)\n",
    "# voxc1_df = voxc1_df.fillna('test')\n",
    "# voxc1_meta = pd.read_pickle(\"/dataset/SV_sets/voxceleb1/dataframes/voxc1_meta.pkl\")\n",
    "# spk2gender = voxc1_meta.Gender.to_dict()\n",
    "# voxc1_df['gender'] = voxc1_df.spk.apply(lambda x: spk2gender[x])\n",
    "# voxc1_df.to_csv(\"/dataset/SV_sets/voxceleb1/dataframes/voxc1.csv\", index=False)\n",
    "\n",
    "# voxc1_dev_df = voxc1_df[voxc1_df.spk.isin(dev_spks)]\n",
    "# voxc1_eval_df = voxc1_df[voxc1_df.spk.isin(eval_spks)]\n",
    "# voxc1_dev_df.to_csv(\"/dataset/SV_sets/voxceleb1/dataframes/voxc1_dev.csv\", index=False)\n",
    "# voxc1_eval_df.to_csv(\"/dataset/SV_sets/voxceleb1/dataframes/voxc1_eval.csv\", index=False)"
   ]
  },
  {
   "cell_type": "code",
   "execution_count": 9,
   "metadata": {},
   "outputs": [],
   "source": [
    "voxc1_df = pd.read_csv(\"/dataset/SV_sets/voxceleb1/dataframes/voxc1.csv\")\n",
    "spk_uttr_stat = voxc1_df.spk.value_counts()\n",
    "voxc1_meta = pd.read_pickle(\"/dataset/SV_sets/voxceleb1/dataframes/voxc1_meta.pkl\")\n",
    "spk2gender = voxc1_meta.Gender.to_dict()"
   ]
  },
  {
   "cell_type": "code",
   "execution_count": 21,
   "metadata": {},
   "outputs": [],
   "source": [
    "from utils import key2df\n",
    "\n",
    "embed_dir = \"embeddings/voxc2_fbank64_voxc2untied_xvector/\"\n",
    "si_embeds = np.load(embed_dir+\"ln_lda_si_embeds.npy\")\n",
    "sv_embeds = np.load(embed_dir+\"ln_lda_sv_embeds.npy\")\n",
    "si_keys = pickle.load(open(embed_dir + \"/si_keys.pkl\", \"rb\"))\n",
    "sv_keys = pickle.load(open(embed_dir + \"/sv_keys.pkl\", \"rb\"))\n",
    "sv_id2idx = get_id2idx(sv_keys)\n",
    "si_df = key2df(si_keys)"
   ]
  },
  {
   "cell_type": "code",
   "execution_count": 63,
   "metadata": {},
   "outputs": [],
   "source": [
    "from ioffe_plda.verifier import Verifier\n",
    "py_plda_model = Verifier()\n",
    "py_plda_model = Verifier(pickle.load(open(\"py_plda_model_ln_lda.pkl\", \"rb\")))"
   ]
  },
  {
   "cell_type": "markdown",
   "metadata": {},
   "source": [
    "## Hold-out Developement set\n",
    "\n",
    "utterance가 150개 넘는 것들을 evaluation spks로 빼고 나머지는 developement spk로 빼었다.  \n",
    "그리고 developement spk 음성을 이용해서 threshold를 정하기 위한 trial을 만든다."
   ]
  },
  {
   "cell_type": "code",
   "execution_count": 66,
   "metadata": {},
   "outputs": [],
   "source": [
    "dev_spks = spk_uttr_stat[(spk_uttr_stat < 150)].index.tolist()\n",
    "dev_uttrs = voxc1_df[voxc1_df.spk.isin(dev_spks)][['id', 'spk', 'gender', 'session']]\n",
    "eval_spks = spk_uttr_stat[spk_uttr_stat >= 150].index.tolist()\n",
    "eval_uttrs = voxc1_df[voxc1_df.spk.isin(eval_spks)][['id', 'spk', 'gender', 'session']]"
   ]
  },
  {
   "cell_type": "code",
   "execution_count": 64,
   "metadata": {},
   "outputs": [
    {
     "name": "stdout",
     "output_type": "stream",
     "text": [
      "number of dev spks: 940\n",
      "number of eval spks: 311\n"
     ]
    }
   ],
   "source": [
    "print(f\"number of dev spks: {len(dev_spks)}\")\n",
    "print(f\"number of eval spks: {len(eval_spks)}\")"
   ]
  },
  {
   "cell_type": "code",
   "execution_count": 7,
   "metadata": {},
   "outputs": [],
   "source": [
    "dev_uttrs.to_pickle(\"trials/dev940_eval311/dev_uttrs.pkl\")"
   ]
  },
  {
   "cell_type": "code",
   "execution_count": 7,
   "metadata": {},
   "outputs": [],
   "source": [
    "Dev_uttrs = pd.read_pickle(\"trials/dev940_eval311/dev_uttrs.pkl\")\n",
    "dev_cohort_embeds = get_embeds(dev_uttrs.sample(n=5000).id, plda_sv_embeds, plda_id2idx, norm=False)\n",
    "np.save(\"trials/dev940_eval311/dev_cohort_embeds.npy\", dev_cohort_embeds)\n",
    "\n",
    "dev_trials = pd.read_pickle(\"trials/enr306/trial_for_dev.pkl\")"
   ]
  },
  {
   "cell_type": "markdown",
   "metadata": {},
   "source": [
    "## Cohort Set"
   ]
  },
  {
   "cell_type": "code",
   "execution_count": 58,
   "metadata": {},
   "outputs": [],
   "source": [
    "cohort_ids = dev_uttrs.groupby(\"spk\", group_keys=False).apply(lambda x: x.sample(n=20)).id\n",
    "# cohort_embeds = get_embeds(cohort_ids, plda_sv_embeds, plda_id2idx, norm=True)\n",
    "# np.save(\"trials/dev317_eval934/cohort_embeds.npy\", cohort_embeds)"
   ]
  },
  {
   "cell_type": "code",
   "execution_count": 62,
   "metadata": {},
   "outputs": [],
   "source": [
    "np.save(\"trials/dev940_eval311/dev_cohort_ids.npy\", np.array(cohort_ids))"
   ]
  },
  {
   "cell_type": "markdown",
   "metadata": {},
   "source": [
    "## Random trials"
   ]
  },
  {
   "cell_type": "markdown",
   "metadata": {},
   "source": [
    "###  Dev trials"
   ]
  },
  {
   "cell_type": "code",
   "execution_count": 66,
   "metadata": {},
   "outputs": [
    {
     "name": "stderr",
     "output_type": "stream",
     "text": [
      "/opt/conda/envs/pytorch-py3.6/lib/python3.6/site-packages/pandas/core/indexing.py:543: SettingWithCopyWarning: \n",
      "A value is trying to be set on a copy of a slice from a DataFrame.\n",
      "Try using .loc[row_indexer,col_indexer] = value instead\n",
      "\n",
      "See the caveats in the documentation: http://pandas.pydata.org/pandas-docs/stable/indexing.html#indexing-view-versus-copy\n",
      "  self.obj[item] = s\n"
     ]
    }
   ],
   "source": [
    "dev_trials = []\n",
    "\n",
    "for dev_spk in dev_spks: # TODO: multiple enrolled speakers case\n",
    "    target_gender = spk2gender[dev_spk]\n",
    "    target_uttrs = dev_uttrs[dev_uttrs.spk == dev_spk]\n",
    "    nonTarget_uttrs = dev_uttrs[(dev_uttrs.spk != dev_spk)]\n",
    "    nonTarget_uttrs = nonTarget_uttrs[nonTarget_uttrs.gender == target_gender]\n",
    "    target_uttrs.loc[:, 'label'] = 1\n",
    "    nonTarget_uttrs.loc[:, 'label'] = 0\n",
    "    \n",
    "    enr_uttrs = target_uttrs.sample(n=20)\n",
    "    test_target_uttrs = target_uttrs.drop(index=enr_uttrs.index)\n",
    "    test_nonTarget_uttrs = nonTarget_uttrs.groupby('spk', group_keys=False).apply(lambda x: x.sample(n=10))\n",
    "    test_trial = pd.concat([test_target_uttrs, test_nonTarget_uttrs])\n",
    "    dev_trials += [[dev_spk, np.array(enr_uttrs.id), \n",
    "               (np.array(test_trial.id), np.array(test_trial.label)),\n",
    "             ]]\n",
    "    \n",
    "save_dir = \"./trials/dev317_eval934/dev_random_enr20_spk10_gender/\"\n",
    "if not os.path.isdir(save_dir):\n",
    "    os.makedirs(save_dir)\n",
    "pickle.dump(dev_trials, open(save_dir + \"/trials.pkl\", \"wb\"))    "
   ]
  },
  {
   "cell_type": "markdown",
   "metadata": {},
   "source": [
    "###  Eval trials"
   ]
  },
  {
   "cell_type": "code",
   "execution_count": 82,
   "metadata": {},
   "outputs": [],
   "source": [
    "eval_target_pool = eval_uttrs.groupby('spk', group_keys=False).apply(lambda x: x.sample(n=60))\n",
    "eval_nonTarget_pool = eval_uttrs.drop(index=eval_target_pool.index)"
   ]
  },
  {
   "cell_type": "markdown",
   "metadata": {},
   "source": [
    "#### normal "
   ]
  },
  {
   "cell_type": "code",
   "execution_count": 64,
   "metadata": {},
   "outputs": [
    {
     "name": "stderr",
     "output_type": "stream",
     "text": [
      "/opt/conda/envs/pytorch-py3.6/lib/python3.6/site-packages/pandas/core/indexing.py:543: SettingWithCopyWarning: \n",
      "A value is trying to be set on a copy of a slice from a DataFrame.\n",
      "Try using .loc[row_indexer,col_indexer] = value instead\n",
      "\n",
      "See the caveats in the documentation: http://pandas.pydata.org/pandas-docs/stable/indexing.html#indexing-view-versus-copy\n",
      "  self.obj[item] = s\n"
     ]
    }
   ],
   "source": [
    "eval_trials = []\n",
    "\n",
    "for eval_spk in eval_spks: # TODO: multiple enrolled speakers case\n",
    "    target_gender = spk2gender[eval_spk]\n",
    "    target_uttrs = eval_target_pool[eval_target_pool.spk == eval_spk]\n",
    "    nonTarget_uttrs = eval_nonTarget_pool[(eval_nonTarget_pool.spk != eval_spk)]\n",
    "    nonTarget_uttrs = nonTarget_uttrs[nonTarget_uttrs.gender == target_gender]\n",
    "    target_uttrs.loc[:, 'label'] = 1\n",
    "    nonTarget_uttrs.loc[:, 'label'] = 0\n",
    "    \n",
    "    enr_uttrs = target_uttrs.sample(n=10)\n",
    "    test_target_uttrs = target_uttrs.drop(index=enr_uttrs.index)\n",
    "#     test_nonTarget_uttrs = nonTarget_uttrs.sample(n=4950)\n",
    "    test_nonTarget_uttrs = nonTarget_uttrs.groupby(\"spk\", group_keys=False).apply(lambda x: x.sample(n=10))\n",
    "    test_trial = pd.concat([target_uttrs, test_nonTarget_uttrs])\n",
    "    eval_trials += [(eval_spk, np.array(enr_uttrs.id), test_trial)]\n",
    "    \n",
    "save_dir = \"./trials/dev317_eval934/eval_random_enr10_tar50_spk10_gender/\"\n",
    "if not os.path.isdir(save_dir):\n",
    "    os.makedirs(save_dir)\n",
    "pickle.dump(eval_trials, open(save_dir + \"/trials.pkl\", \"wb\"))    "
   ]
  },
  {
   "cell_type": "markdown",
   "metadata": {},
   "source": [
    "## Hard trials"
   ]
  },
  {
   "cell_type": "markdown",
   "metadata": {},
   "source": [
    "### Eval trial "
   ]
  },
  {
   "cell_type": "code",
   "execution_count": 108,
   "metadata": {},
   "outputs": [],
   "source": [
    "# eval_nonTarget_pool = eval_uttrs.groupby('spk', group_keys=False).apply(lambda x: x.sample(n=50))\n",
    "# eval_target_pool = eval_uttrs.drop(index=eval_nonTarget_pool.index)"
   ]
  },
  {
   "cell_type": "code",
   "execution_count": null,
   "metadata": {},
   "outputs": [],
   "source": [
    "eval_trials = []\n",
    "\n",
    "for eval_spk in eval_spks: # TODO: multiple enrolled speakers case\n",
    "    print(eval_spk)\n",
    "    target_gender = spk2gender[eval_spk]\n",
    "    target_uttrs = eval_uttrs[eval_uttrs.spk == eval_spk]\n",
    "#     nonTarget_uttrs = eval_nonTarget_pool[(eval_nonTarget_pool.spk != eval_spk)]\n",
    "    nonTarget_uttrs = dev_uttrs\n",
    "    target_uttrs.loc[:, 'label'] = 1\n",
    "    nonTarget_uttrs.loc[:, 'label'] = 0\n",
    "    \n",
    "    enr_uttrs = target_uttrs.sample(n=3)\n",
    "    test_target_uttrs = target_uttrs.drop(index=enr_uttrs.index)\n",
    "    \n",
    "    enr_embeds = get_embeds(enr_uttrs.id, sv_embeds, id2idx)\n",
    "    nonTarget_embeds = get_embeds(nonTarget_uttrs.id, sv_embeds, id2idx)\n",
    "    scores = py_plda_model.score_avg(enr_embeds, nonTarget_embeds)\n",
    "    \n",
    "    hard_neg_trials = np.argsort(scores.mean(0), axis=0)[-len(test_target_uttrs)*9:].ravel()\n",
    "    test_nonTarget_uttrs = nonTarget_uttrs.iloc[hard_neg_trials]\n",
    "    print(test_nonTarget_uttrs.spk.value_counts()[:5])\n",
    "    test_trial = pd.concat([target_uttrs, test_nonTarget_uttrs])\n",
    "    eval_trials += [(eval_spk, np.array(enr_uttrs.id), test_trial)]\n",
    "    \n",
    "save_dir = \"./trials/eval165/eval_hard_enr10_tarAll_devNonTarget/\"\n",
    "if not os.path.isdir(save_dir):\n",
    "    os.makedirs(save_dir)\n",
    "pickle.dump(eval_trials, open(save_dir + \"/trials.pkl\", \"wb\"))    "
   ]
  },
  {
   "cell_type": "markdown",
   "metadata": {},
   "source": [
    "## Dev Target trials "
   ]
  },
  {
   "cell_type": "code",
   "execution_count": 38,
   "metadata": {},
   "outputs": [],
   "source": [
    "import itertools\n",
    "\n",
    "dev_combs = dev_uttrs.groupby(\"spk\", group_keys=False).apply(lambda x: itertools.combinations(x.id, 2))\n",
    "dev_target_trials = []\n",
    "for comb in dev_combs:\n",
    "    dev_target_trials += list(comb)"
   ]
  },
  {
   "cell_type": "code",
   "execution_count": 44,
   "metadata": {},
   "outputs": [],
   "source": [
    "dev_target_trial_df = pd.DataFrame(dev_target_trials, columns=['enr', 'tst'])"
   ]
  },
  {
   "cell_type": "code",
   "execution_count": 55,
   "metadata": {},
   "outputs": [],
   "source": [
    "dev_target_trial_set = dev_target_trial_df.groupby('enr', group_keys=False).apply(lambda x: list(x.tst)).to_dict()"
   ]
  },
  {
   "cell_type": "code",
   "execution_count": 56,
   "metadata": {},
   "outputs": [
    {
     "data": {
      "text/plain": [
       "82141"
      ]
     },
     "execution_count": 56,
     "metadata": {},
     "output_type": "execute_result"
    }
   ],
   "source": [
    "len(dev_target_trial_set)"
   ]
  },
  {
   "cell_type": "code",
   "execution_count": 57,
   "metadata": {},
   "outputs": [],
   "source": [
    "pickle.dump(dev_target_trial_set, open(\"trials/dev940_eval311/dev_target_trials.pkl\", \"wb\"))"
   ]
  },
  {
   "cell_type": "code",
   "execution_count": null,
   "metadata": {},
   "outputs": [],
   "source": []
  }
 ],
 "metadata": {
  "kernelspec": {
   "display_name": "Python 3",
   "language": "python",
   "name": "python3"
  },
  "language_info": {
   "codemirror_mode": {
    "name": "ipython",
    "version": 3
   },
   "file_extension": ".py",
   "mimetype": "text/x-python",
   "name": "python",
   "nbconvert_exporter": "python",
   "pygments_lexer": "ipython3",
   "version": "3.6.5"
  }
 },
 "nbformat": 4,
 "nbformat_minor": 2
}
