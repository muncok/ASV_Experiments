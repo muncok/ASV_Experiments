{
 "cells": [
  {
   "cell_type": "markdown",
   "metadata": {},
   "source": [
    "# Incremental Ernollment Trial with voxceleb1\n",
    "---------\n",
    "\n",
    "trial 길이가 충분히 긴 set을 만들고자 한다."
   ]
  },
  {
   "cell_type": "markdown",
   "metadata": {},
   "source": [
    "## Environment"
   ]
  },
  {
   "cell_type": "code",
   "execution_count": 1,
   "metadata": {},
   "outputs": [
    {
     "name": "stdout",
     "output_type": "stream",
     "text": [
      "Using matplotlib backend: TkAgg\n",
      "Populating the interactive namespace from numpy and matplotlib\n"
     ]
    }
   ],
   "source": [
    "%load_ext autoreload\n",
    "%autoreload 2\n",
    "%pylab\n",
    "%matplotlib inline\n",
    "\n",
    "import os\n",
    "import sys\n",
    "import pickle\n",
    "import pandas as pd\n",
    "from utils import key2df"
   ]
  },
  {
   "cell_type": "code",
   "execution_count": 2,
   "metadata": {},
   "outputs": [],
   "source": [
    "from batch_sv_system_utils import get_embeds, cosine_sim, compute_plda_score\n",
    "from utils import key2df, df2dict\n",
    "def get_id2idx(keys):\n",
    "    key_df = key2df(keys)\n",
    "    id2idx, idx2id = df2dict(key_df) \n",
    "    return id2idx"
   ]
  },
  {
   "cell_type": "markdown",
   "metadata": {},
   "source": [
    "## Dataframes & embeddings"
   ]
  },
  {
   "cell_type": "code",
   "execution_count": 3,
   "metadata": {},
   "outputs": [],
   "source": [
    "# voxc1_df['label'] = voxc1_df.groupby('spk').ngroup().values\n",
    "# voxc1_df = voxc1_df.sort_values('id').reset_index(drop=True)\n",
    "# voxc1_df = voxc1_df.fillna('test')\n",
    "# voxc1_meta = pd.read_pickle(\"/dataset/SV_sets/voxceleb1/dataframes/voxc1_meta.pkl\")\n",
    "# spk2gender = voxc1_meta.Gender.to_dict()\n",
    "# voxc1_df['gender'] = voxc1_df.spk.apply(lambda x: spk2gender[x])\n",
    "# voxc1_df.to_csv(\"/dataset/SV_sets/voxceleb1/dataframes/voxc1.csv\", index=False)\n",
    "\n",
    "# voxc1_dev_df = voxc1_df[voxc1_df.spk.isin(dev_spks)]\n",
    "# voxc1_eval_df = voxc1_df[voxc1_df.spk.isin(eval_spks)]\n",
    "# voxc1_dev_df.to_csv(\"/dataset/SV_sets/voxceleb1/dataframes/voxc1_dev.csv\", index=False)\n",
    "# voxc1_eval_df.to_csv(\"/dataset/SV_sets/voxceleb1/dataframes/voxc1_eval.csv\", index=False)"
   ]
  },
  {
   "cell_type": "code",
   "execution_count": 4,
   "metadata": {},
   "outputs": [],
   "source": [
    "voxc1_df = pd.read_csv(\"/dataset/SV_sets/voxceleb1/dataframes/voxc1.csv\")\n",
    "spk_uttr_stat = voxc1_df.spk.value_counts()\n",
    "voxc1_meta = pd.read_pickle(\"/dataset/SV_sets/voxceleb1/dataframes/voxc1_meta.pkl\")\n",
    "spk2gender = voxc1_meta.Gender.to_dict()"
   ]
  },
  {
   "cell_type": "code",
   "execution_count": 124,
   "metadata": {},
   "outputs": [],
   "source": [
    "embed_dir = \"embeddings/voxc2_fbank64_voxc2untied_embeds/\"\n",
    "sv_embeds = np.load(embed_dir + \"/sv_embeds.npy\")\n",
    "keys = pickle.load(open(embed_dir + \"/sv_keys.pkl\", \"rb\"))\n",
    "id2idx = get_id2idx(keys)\n",
    "\n",
    "plda_embed_dir = \"embeddings/voxc2_fbank64_voxc2untied_xvector/\"\n",
    "plda_sv_embeds = np.load(plda_embed_dir + \"/sv_embeds.npy\")\n",
    "plda_model_dir = plda_embed_dir + \"plda_train/\"\n",
    "plda_keys = pickle.load(open(plda_embed_dir + \"/sv_keys.pkl\", \"rb\"))\n",
    "plda_id2idx = get_id2idx(plda_keys)"
   ]
  },
  {
   "cell_type": "markdown",
   "metadata": {},
   "source": [
    "## Hold-out Developement set\n",
    "\n",
    "utterance가 150개 넘는 것들을 evaluation spks로 빼고 나머지는 developement spk로 빼었다.  \n",
    "그리고 developement spk 음성을 이용해서 threshold를 정하기 위한 trial을 만든다."
   ]
  },
  {
   "cell_type": "code",
   "execution_count": 76,
   "metadata": {},
   "outputs": [
    {
     "data": {
      "text/html": [
       "<div>\n",
       "<style scoped>\n",
       "    .dataframe tbody tr th:only-of-type {\n",
       "        vertical-align: middle;\n",
       "    }\n",
       "\n",
       "    .dataframe tbody tr th {\n",
       "        vertical-align: top;\n",
       "    }\n",
       "\n",
       "    .dataframe thead th {\n",
       "        text-align: right;\n",
       "    }\n",
       "</style>\n",
       "<table border=\"1\" class=\"dataframe\">\n",
       "  <thead>\n",
       "    <tr style=\"text-align: right;\">\n",
       "      <th></th>\n",
       "      <th>file</th>\n",
       "      <th>frames</th>\n",
       "      <th>id</th>\n",
       "      <th>label</th>\n",
       "      <th>session</th>\n",
       "      <th>set</th>\n",
       "      <th>spk</th>\n",
       "      <th>gender</th>\n",
       "    </tr>\n",
       "  </thead>\n",
       "  <tbody>\n",
       "    <tr>\n",
       "      <th>487</th>\n",
       "      <td>id10005/1geDB-I2TjE-00001</td>\n",
       "      <td>1326</td>\n",
       "      <td>id10005-1geDB-I2TjE-00001</td>\n",
       "      <td>4</td>\n",
       "      <td>1geDB-I2TjE</td>\n",
       "      <td>train</td>\n",
       "      <td>id10005</td>\n",
       "      <td>m</td>\n",
       "    </tr>\n",
       "    <tr>\n",
       "      <th>488</th>\n",
       "      <td>id10005/38_N-A-QOUo-00001</td>\n",
       "      <td>512</td>\n",
       "      <td>id10005-38_N-A-QOUo-00001</td>\n",
       "      <td>4</td>\n",
       "      <td>38_N-A-QOUo</td>\n",
       "      <td>train</td>\n",
       "      <td>id10005</td>\n",
       "      <td>m</td>\n",
       "    </tr>\n",
       "    <tr>\n",
       "      <th>489</th>\n",
       "      <td>id10005/38_N-A-QOUo-00002</td>\n",
       "      <td>446</td>\n",
       "      <td>id10005-38_N-A-QOUo-00002</td>\n",
       "      <td>4</td>\n",
       "      <td>38_N-A-QOUo</td>\n",
       "      <td>train</td>\n",
       "      <td>id10005</td>\n",
       "      <td>m</td>\n",
       "    </tr>\n",
       "    <tr>\n",
       "      <th>490</th>\n",
       "      <td>id10005/38_N-A-QOUo-00003</td>\n",
       "      <td>648</td>\n",
       "      <td>id10005-38_N-A-QOUo-00003</td>\n",
       "      <td>4</td>\n",
       "      <td>38_N-A-QOUo</td>\n",
       "      <td>train</td>\n",
       "      <td>id10005</td>\n",
       "      <td>m</td>\n",
       "    </tr>\n",
       "    <tr>\n",
       "      <th>491</th>\n",
       "      <td>id10005/38_N-A-QOUo-00004</td>\n",
       "      <td>613</td>\n",
       "      <td>id10005-38_N-A-QOUo-00004</td>\n",
       "      <td>4</td>\n",
       "      <td>38_N-A-QOUo</td>\n",
       "      <td>train</td>\n",
       "      <td>id10005</td>\n",
       "      <td>m</td>\n",
       "    </tr>\n",
       "  </tbody>\n",
       "</table>\n",
       "</div>"
      ],
      "text/plain": [
       "                          file  frames                         id  label  \\\n",
       "487  id10005/1geDB-I2TjE-00001    1326  id10005-1geDB-I2TjE-00001      4   \n",
       "488  id10005/38_N-A-QOUo-00001     512  id10005-38_N-A-QOUo-00001      4   \n",
       "489  id10005/38_N-A-QOUo-00002     446  id10005-38_N-A-QOUo-00002      4   \n",
       "490  id10005/38_N-A-QOUo-00003     648  id10005-38_N-A-QOUo-00003      4   \n",
       "491  id10005/38_N-A-QOUo-00004     613  id10005-38_N-A-QOUo-00004      4   \n",
       "\n",
       "         session    set      spk gender  \n",
       "487  1geDB-I2TjE  train  id10005      m  \n",
       "488  38_N-A-QOUo  train  id10005      m  \n",
       "489  38_N-A-QOUo  train  id10005      m  \n",
       "490  38_N-A-QOUo  train  id10005      m  \n",
       "491  38_N-A-QOUo  train  id10005      m  "
      ]
     },
     "execution_count": 76,
     "metadata": {},
     "output_type": "execute_result"
    }
   ],
   "source": [
    "dev_uttrs.head()"
   ]
  },
  {
   "cell_type": "code",
   "execution_count": 197,
   "metadata": {},
   "outputs": [],
   "source": [
    "dev_spks = spk_uttr_stat[(spk_uttr_stat < 150)].index.tolist()\n",
    "dev_uttrs = voxc1_df[voxc1_df.spk.isin(dev_spks)][['id', 'spk', 'gender']]\n",
    "eval_spks = spk_uttr_stat[spk_uttr_stat >= 150].index.tolist()\n",
    "eval_uttrs = voxc1_df[voxc1_df.spk.isin(eval_spks)][['id', 'spk', 'gender']]"
   ]
  },
  {
   "cell_type": "code",
   "execution_count": 198,
   "metadata": {},
   "outputs": [
    {
     "name": "stdout",
     "output_type": "stream",
     "text": [
      "number of dev spks: 940\n",
      "number of eval spks: 311\n"
     ]
    }
   ],
   "source": [
    "print(f\"number of dev spks: {len(dev_spks)}\")\n",
    "print(f\"number of eval spks: {len(eval_spks)}\")"
   ]
  },
  {
   "cell_type": "code",
   "execution_count": 200,
   "metadata": {},
   "outputs": [],
   "source": [
    "dev_uttrs.to_pickle(\"trials/dev940_eval311/dev_uttrs.pkl\")"
   ]
  },
  {
   "cell_type": "code",
   "execution_count": 288,
   "metadata": {},
   "outputs": [],
   "source": [
    "from batch_sv_system_utils import compute_plda_score, get_embeds, cosine_sim\n",
    "dev_uttrs = pd.read_pickle(\"trials/dev940_eval311/dev_uttrs.pkl\")\n",
    "dev_cohort_embeds = get_embeds(dev_uttrs.sample(n=5000).id, plda_sv_embeds, plda_id2idx, norm=False)\n",
    "np.save(\"trials/dev940_eval311/dev_cohort_embeds.npy\", dev_cohort_embeds)"
   ]
  },
  {
   "cell_type": "code",
   "execution_count": 7,
   "metadata": {},
   "outputs": [],
   "source": [
    "dev_trials = pd.read_pickle(\"trials/enr306/trial_for_dev.pkl\")"
   ]
  },
  {
   "cell_type": "markdown",
   "metadata": {},
   "source": [
    "## Cohort Set"
   ]
  },
  {
   "cell_type": "code",
   "execution_count": 71,
   "metadata": {},
   "outputs": [],
   "source": [
    "# cohort_ids = dev_uttrs.groupby(\"spk\", group_keys=False).apply(lambda x: x.sample(n=20)).id\n",
    "# cohort_embeds = get_embeds(cohort_ids, plda_sv_embeds, plda_id2idx, norm=True)\n",
    "# np.save(\"trials/dev317_eval934/cohort_embeds.npy\", cohort_embeds)"
   ]
  },
  {
   "cell_type": "markdown",
   "metadata": {},
   "source": [
    "## Random trials"
   ]
  },
  {
   "cell_type": "markdown",
   "metadata": {},
   "source": [
    "###  Dev trials"
   ]
  },
  {
   "cell_type": "code",
   "execution_count": 66,
   "metadata": {},
   "outputs": [
    {
     "name": "stderr",
     "output_type": "stream",
     "text": [
      "/opt/conda/envs/pytorch-py3.6/lib/python3.6/site-packages/pandas/core/indexing.py:543: SettingWithCopyWarning: \n",
      "A value is trying to be set on a copy of a slice from a DataFrame.\n",
      "Try using .loc[row_indexer,col_indexer] = value instead\n",
      "\n",
      "See the caveats in the documentation: http://pandas.pydata.org/pandas-docs/stable/indexing.html#indexing-view-versus-copy\n",
      "  self.obj[item] = s\n"
     ]
    }
   ],
   "source": [
    "dev_trials = []\n",
    "\n",
    "for dev_spk in dev_spks: # TODO: multiple enrolled speakers case\n",
    "    target_gender = spk2gender[dev_spk]\n",
    "    target_uttrs = dev_uttrs[dev_uttrs.spk == dev_spk]\n",
    "    nonTarget_uttrs = dev_uttrs[(dev_uttrs.spk != dev_spk)]\n",
    "    nonTarget_uttrs = nonTarget_uttrs[nonTarget_uttrs.gender == target_gender]\n",
    "    target_uttrs.loc[:, 'label'] = 1\n",
    "    nonTarget_uttrs.loc[:, 'label'] = 0\n",
    "    \n",
    "    enr_uttrs = target_uttrs.sample(n=20)\n",
    "    test_target_uttrs = target_uttrs.drop(index=enr_uttrs.index)\n",
    "    test_nonTarget_uttrs = nonTarget_uttrs.groupby('spk', group_keys=False).apply(lambda x: x.sample(n=10))\n",
    "    test_trial = pd.concat([test_target_uttrs, test_nonTarget_uttrs])\n",
    "    dev_trials += [[dev_spk, np.array(enr_uttrs.id), \n",
    "               (np.array(test_trial.id), np.array(test_trial.label)),\n",
    "             ]]\n",
    "    \n",
    "save_dir = \"./trials/dev317_eval934/dev_random_enr20_spk10_gender/\"\n",
    "if not os.path.isdir(save_dir):\n",
    "    os.makedirs(save_dir)\n",
    "pickle.dump(dev_trials, open(save_dir + \"/trials.pkl\", \"wb\"))    "
   ]
  },
  {
   "cell_type": "markdown",
   "metadata": {},
   "source": [
    "###  Eval trials"
   ]
  },
  {
   "cell_type": "code",
   "execution_count": 82,
   "metadata": {},
   "outputs": [],
   "source": [
    "eval_target_pool = eval_uttrs.groupby('spk', group_keys=False).apply(lambda x: x.sample(n=60))\n",
    "eval_nonTarget_pool = eval_uttrs.drop(index=eval_target_pool.index)"
   ]
  },
  {
   "cell_type": "code",
   "execution_count": 73,
   "metadata": {},
   "outputs": [
    {
     "data": {
      "text/plain": [
       "934"
      ]
     },
     "execution_count": 73,
     "metadata": {},
     "output_type": "execute_result"
    }
   ],
   "source": [
    "len(eval_nonTarget_pool.spk.unique())"
   ]
  },
  {
   "cell_type": "code",
   "execution_count": 64,
   "metadata": {},
   "outputs": [
    {
     "name": "stderr",
     "output_type": "stream",
     "text": [
      "/opt/conda/envs/pytorch-py3.6/lib/python3.6/site-packages/pandas/core/indexing.py:543: SettingWithCopyWarning: \n",
      "A value is trying to be set on a copy of a slice from a DataFrame.\n",
      "Try using .loc[row_indexer,col_indexer] = value instead\n",
      "\n",
      "See the caveats in the documentation: http://pandas.pydata.org/pandas-docs/stable/indexing.html#indexing-view-versus-copy\n",
      "  self.obj[item] = s\n"
     ]
    }
   ],
   "source": [
    "eval_trials = []\n",
    "\n",
    "for eval_spk in eval_spks: # TODO: multiple enrolled speakers case\n",
    "    target_gender = spk2gender[eval_spk]\n",
    "    target_uttrs = eval_target_pool[eval_target_pool.spk == eval_spk]\n",
    "    nonTarget_uttrs = eval_nonTarget_pool[(eval_nonTarget_pool.spk != eval_spk)]\n",
    "    nonTarget_uttrs = nonTarget_uttrs[nonTarget_uttrs.gender == target_gender]\n",
    "    target_uttrs.loc[:, 'label'] = 1\n",
    "    nonTarget_uttrs.loc[:, 'label'] = 0\n",
    "    \n",
    "    enr_uttrs = target_uttrs.sample(n=10)\n",
    "    test_target_uttrs = target_uttrs.drop(index=enr_uttrs.index)\n",
    "#     test_nonTarget_uttrs = nonTarget_uttrs.sample(n=4950)\n",
    "    test_nonTarget_uttrs = nonTarget_uttrs.groupby(\"spk\", group_keys=False).apply(lambda x: x.sample(n=10))\n",
    "    test_trial = pd.concat([target_uttrs, test_nonTarget_uttrs])\n",
    "    eval_trials += [(eval_spk, np.array(enr_uttrs.id), test_trial)]\n",
    "    \n",
    "save_dir = \"./trials/dev317_eval934/eval_random_enr10_tar50_spk10_gender/\"\n",
    "if not os.path.isdir(save_dir):\n",
    "    os.makedirs(save_dir)\n",
    "pickle.dump(eval_trials, open(save_dir + \"/trials.pkl\", \"wb\"))    "
   ]
  },
  {
   "cell_type": "markdown",
   "metadata": {},
   "source": [
    "## Hard trials"
   ]
  },
  {
   "cell_type": "markdown",
   "metadata": {},
   "source": [
    "### Eval trial "
   ]
  },
  {
   "cell_type": "code",
   "execution_count": 108,
   "metadata": {},
   "outputs": [],
   "source": [
    "# eval_nonTarget_pool = eval_uttrs.groupby('spk', group_keys=False).apply(lambda x: x.sample(n=50))\n",
    "# eval_target_pool = eval_uttrs.drop(index=eval_nonTarget_pool.index)"
   ]
  },
  {
   "cell_type": "code",
   "execution_count": 140,
   "metadata": {},
   "outputs": [
    {
     "data": {
      "text/plain": [
       "997"
      ]
     },
     "execution_count": 140,
     "metadata": {},
     "output_type": "execute_result"
    }
   ],
   "source": [
    "len(test_target_uttrs)"
   ]
  },
  {
   "cell_type": "code",
   "execution_count": 142,
   "metadata": {},
   "outputs": [
    {
     "data": {
      "text/plain": [
       "array([35921])"
      ]
     },
     "execution_count": 142,
     "metadata": {},
     "output_type": "execute_result"
    }
   ],
   "source": [
    "hard_neg_trials"
   ]
  },
  {
   "cell_type": "code",
   "execution_count": 181,
   "metadata": {},
   "outputs": [
    {
     "name": "stderr",
     "output_type": "stream",
     "text": [
      "/opt/conda/envs/pytorch-py3.6/lib/python3.6/site-packages/pandas/core/indexing.py:362: SettingWithCopyWarning: \n",
      "A value is trying to be set on a copy of a slice from a DataFrame.\n",
      "Try using .loc[row_indexer,col_indexer] = value instead\n",
      "\n",
      "See the caveats in the documentation: http://pandas.pydata.org/pandas-docs/stable/indexing.html#indexing-view-versus-copy\n",
      "  self.obj[key] = _infer_fill_value(value)\n",
      "/opt/conda/envs/pytorch-py3.6/lib/python3.6/site-packages/pandas/core/indexing.py:543: SettingWithCopyWarning: \n",
      "A value is trying to be set on a copy of a slice from a DataFrame.\n",
      "Try using .loc[row_indexer,col_indexer] = value instead\n",
      "\n",
      "See the caveats in the documentation: http://pandas.pydata.org/pandas-docs/stable/indexing.html#indexing-view-versus-copy\n",
      "  self.obj[item] = s\n"
     ]
    }
   ],
   "source": [
    "eval_trials = []\n",
    "\n",
    "for eval_spk in eval_spks: # TODO: multiple enrolled speakers case\n",
    "    target_gender = spk2gender[eval_spk]\n",
    "    target_uttrs = eval_uttrs[eval_uttrs.spk == eval_spk]\n",
    "#     nonTarget_uttrs = eval_nonTarget_pool[(eval_nonTarget_pool.spk != eval_spk)]\n",
    "    nonTarget_uttrs = dev_uttrs\n",
    "    target_uttrs.loc[:, 'label'] = 1\n",
    "    nonTarget_uttrs.loc[:, 'label'] = 0\n",
    "    \n",
    "    enr_uttrs = target_uttrs.sample(n=6)\n",
    "    test_target_uttrs = target_uttrs.drop(index=enr_uttrs.index)\n",
    "    \n",
    "    enr_embeds = get_embeds(enr_uttrs.id, plda_sv_embeds, plda_id2idx)\n",
    "    nonTarget_embeds = get_embeds(nonTarget_uttrs.id, plda_sv_embeds, plda_id2idx)\n",
    "    scores = compute_plda_score(enr_embeds, nonTarget_embeds, plda_model_dir)\n",
    "    \n",
    "    for idx in range(0,6,3):\n",
    "        enr_uttrs_ = enr_uttrs[idx:idx+3]\n",
    "        hard_neg_trials = np.argsort(scores[idx:idx+3].mean(0), axis=0)[-len(test_target_uttrs)*9:].ravel()\n",
    "        test_nonTarget_uttrs = nonTarget_uttrs.iloc[hard_neg_trials]\n",
    "        test_trial = pd.concat([target_uttrs, test_nonTarget_uttrs])\n",
    "        eval_trials += [(eval_spk, np.array(enr_uttrs_.id), test_trial)]\n",
    "    break\n",
    "    \n",
    "save_dir = \"./trials/eval165/eval_hard_enr10_tarAll_devNonTarget/\"\n",
    "if not os.path.isdir(save_dir):\n",
    "    os.makedirs(save_dir)\n",
    "pickle.dump(eval_trials, open(save_dir + \"/trials.pkl\", \"wb\"))    "
   ]
  },
  {
   "cell_type": "code",
   "execution_count": 168,
   "metadata": {},
   "outputs": [
    {
     "data": {
      "text/plain": [
       "2"
      ]
     },
     "execution_count": 168,
     "metadata": {},
     "output_type": "execute_result"
    }
   ],
   "source": [
    "len(eval_trials)"
   ]
  },
  {
   "cell_type": "code",
   "execution_count": 132,
   "metadata": {},
   "outputs": [
    {
     "data": {
      "text/plain": [
       "('id10986', array(['id10986-lFEBeMFuL_M-00070', 'id10986-w7DmOHDIMQ8-00010',\n",
       "        'id10986-6SBGrr4iFp0-00032', 'id10986-w7DmOHDIMQ8-00013',\n",
       "        'id10986-Vzqmi3MAixQ-00118'], dtype=object),                                id      spk gender  label\n",
       " 119073  id10986-33NaEPsiFEA-00001  id10986      m      1\n",
       " 119074  id10986-33NaEPsiFEA-00002  id10986      m      1\n",
       " 119075  id10986-33NaEPsiFEA-00003  id10986      m      1\n",
       " 119076  id10986-33NaEPsiFEA-00004  id10986      m      1\n",
       " 119077  id10986-4p9Fm05hlIM-00001  id10986      m      1\n",
       " 119078  id10986-4p9Fm05hlIM-00002  id10986      m      1\n",
       " 119079  id10986-4p9Fm05hlIM-00003  id10986      m      1\n",
       " 119080  id10986-4p9Fm05hlIM-00004  id10986      m      1\n",
       " 119081  id10986-4p9Fm05hlIM-00005  id10986      m      1\n",
       " 119082  id10986-4p9Fm05hlIM-00006  id10986      m      1\n",
       " 119083  id10986-4p9Fm05hlIM-00007  id10986      m      1\n",
       " 119084  id10986-4p9Fm05hlIM-00008  id10986      m      1\n",
       " 119085  id10986-4p9Fm05hlIM-00009  id10986      m      1\n",
       " 119086  id10986-4p9Fm05hlIM-00010  id10986      m      1\n",
       " 119087  id10986-4p9Fm05hlIM-00011  id10986      m      1\n",
       " 119088  id10986-6SBGrr4iFp0-00001  id10986      m      1\n",
       " 119089  id10986-6SBGrr4iFp0-00002  id10986      m      1\n",
       " 119090  id10986-6SBGrr4iFp0-00003  id10986      m      1\n",
       " 119091  id10986-6SBGrr4iFp0-00004  id10986      m      1\n",
       " 119092  id10986-6SBGrr4iFp0-00005  id10986      m      1\n",
       " 119093  id10986-6SBGrr4iFp0-00006  id10986      m      1\n",
       " 119094  id10986-6SBGrr4iFp0-00007  id10986      m      1\n",
       " 119095  id10986-6SBGrr4iFp0-00008  id10986      m      1\n",
       " 119096  id10986-6SBGrr4iFp0-00009  id10986      m      1\n",
       " 119097  id10986-6SBGrr4iFp0-00010  id10986      m      1\n",
       " 119098  id10986-6SBGrr4iFp0-00011  id10986      m      1\n",
       " 119099  id10986-6SBGrr4iFp0-00012  id10986      m      1\n",
       " 119100  id10986-6SBGrr4iFp0-00013  id10986      m      1\n",
       " 119101  id10986-6SBGrr4iFp0-00014  id10986      m      1\n",
       " 119102  id10986-6SBGrr4iFp0-00015  id10986      m      1\n",
       " ...                           ...      ...    ...    ...\n",
       " 120046  id10986-xFTIClN5z70-00084  id10986      m      1\n",
       " 120047  id10986-xFTIClN5z70-00085  id10986      m      1\n",
       " 120048  id10986-xFTIClN5z70-00086  id10986      m      1\n",
       " 120049  id10986-xFTIClN5z70-00087  id10986      m      1\n",
       " 120050  id10986-xFTIClN5z70-00088  id10986      m      1\n",
       " 120051  id10986-xFTIClN5z70-00089  id10986      m      1\n",
       " 120052  id10986-xFTIClN5z70-00090  id10986      m      1\n",
       " 120053  id10986-xFTIClN5z70-00091  id10986      m      1\n",
       " 120054  id10986-xFTIClN5z70-00092  id10986      m      1\n",
       " 120055  id10986-xFTIClN5z70-00093  id10986      m      1\n",
       " 120056  id10986-xFTIClN5z70-00094  id10986      m      1\n",
       " 120057  id10986-xFTIClN5z70-00095  id10986      m      1\n",
       " 120058  id10986-xFTIClN5z70-00096  id10986      m      1\n",
       " 120059  id10986-xFTIClN5z70-00097  id10986      m      1\n",
       " 120060  id10986-xFTIClN5z70-00098  id10986      m      1\n",
       " 120061  id10986-xFTIClN5z70-00099  id10986      m      1\n",
       " 120062  id10986-xFTIClN5z70-00100  id10986      m      1\n",
       " 120063  id10986-xFTIClN5z70-00101  id10986      m      1\n",
       " 120064  id10986-xFTIClN5z70-00102  id10986      m      1\n",
       " 120065  id10986-xFTIClN5z70-00103  id10986      m      1\n",
       " 120066  id10986-xFTIClN5z70-00104  id10986      m      1\n",
       " 120067  id10986-xFTIClN5z70-00105  id10986      m      1\n",
       " 120068  id10986-xFTIClN5z70-00106  id10986      m      1\n",
       " 120069  id10986-xFTIClN5z70-00107  id10986      m      1\n",
       " 120070  id10986-xFTIClN5z70-00108  id10986      m      1\n",
       " 120071  id10986-xFTIClN5z70-00109  id10986      m      1\n",
       " 120072  id10986-xFTIClN5z70-00110  id10986      m      1\n",
       " 120073  id10986-xFTIClN5z70-00111  id10986      m      1\n",
       " 120074  id10986-xmf3xBGKSoA-00001  id10986      m      1\n",
       " 49706   id10407-kHiKqkxnypg-00021  id10407      f      0\n",
       " \n",
       " [1003 rows x 4 columns])"
      ]
     },
     "execution_count": 132,
     "metadata": {},
     "output_type": "execute_result"
    }
   ],
   "source": [
    "eval_trials[0]"
   ]
  },
  {
   "cell_type": "code",
   "execution_count": 186,
   "metadata": {},
   "outputs": [],
   "source": [
    "enr_embeds = get_embeds(eval_trials[1][1], plda_sv_embeds, plda_id2idx)\n",
    "test_embeds = get_embeds(eval_trials[1][2].id, plda_sv_embeds, plda_id2idx)\n",
    "scores = compute_plda_score(enr_embeds, test_embeds, plda_model_dir)"
   ]
  },
  {
   "cell_type": "code",
   "execution_count": 187,
   "metadata": {},
   "outputs": [
    {
     "data": {
      "text/plain": [
       "(0.026137818072021965,\n",
       " 0.026327532351628737,\n",
       " 0.02594810379241519,\n",
       " 20.468533333333333)"
      ]
     },
     "execution_count": 187,
     "metadata": {},
     "output_type": "execute_result"
    }
   ],
   "source": [
    "from batch_sv_system_utils import compute_eer\n",
    "compute_eer(scores.mean(0), eval_trials[0][2].label)"
   ]
  },
  {
   "cell_type": "code",
   "execution_count": 130,
   "metadata": {},
   "outputs": [
    {
     "data": {
      "text/plain": [
       "0.5455493"
      ]
     },
     "execution_count": 130,
     "metadata": {},
     "output_type": "execute_result"
    }
   ],
   "source": [
    "np.sort(scores.mean(0))[-8100]"
   ]
  },
  {
   "cell_type": "code",
   "execution_count": 131,
   "metadata": {},
   "outputs": [
    {
     "data": {
      "text/plain": [
       "0.15912044"
      ]
     },
     "execution_count": 131,
     "metadata": {},
     "output_type": "execute_result"
    }
   ],
   "source": [
    "scores.min()"
   ]
  },
  {
   "cell_type": "code",
   "execution_count": 122,
   "metadata": {},
   "outputs": [
    {
     "data": {
      "text/plain": [
       "(947, 4)"
      ]
     },
     "execution_count": 122,
     "metadata": {},
     "output_type": "execute_result"
    }
   ],
   "source": [
    "test_target_uttrs.shape"
   ]
  },
  {
   "cell_type": "code",
   "execution_count": null,
   "metadata": {},
   "outputs": [],
   "source": []
  },
  {
   "cell_type": "code",
   "execution_count": 112,
   "metadata": {},
   "outputs": [
    {
     "data": {
      "text/plain": [
       "(224,)"
      ]
     },
     "execution_count": 112,
     "metadata": {},
     "output_type": "execute_result"
    }
   ],
   "source": [
    "np.unique(hard_neg_trials).shape"
   ]
  },
  {
   "cell_type": "code",
   "execution_count": 120,
   "metadata": {},
   "outputs": [
    {
     "name": "stderr",
     "output_type": "stream",
     "text": [
      "/opt/conda/envs/pytorch-py3.6/lib/python3.6/site-packages/pandas/core/indexing.py:543: SettingWithCopyWarning: \n",
      "A value is trying to be set on a copy of a slice from a DataFrame.\n",
      "Try using .loc[row_indexer,col_indexer] = value instead\n",
      "\n",
      "See the caveats in the documentation: http://pandas.pydata.org/pandas-docs/stable/indexing.html#indexing-view-versus-copy\n",
      "  self.obj[item] = s\n"
     ]
    }
   ],
   "source": [
    "eval_trials = []\n",
    "\n",
    "for eval_spk in eval_spks: # TODO: multiple enrolled speakers case\n",
    "    target_uttrs = eval_uttrs[eval_uttrs.spk == eval_spk]\n",
    "    target_gender = spk2gender[eval_spk]\n",
    "#     nonTarget_uttrs = eval_uttrs[(eval_uttrs.spk != eval_spk) & (eval_uttrs.gender == target_gender)]\n",
    "    nonTarget_uttrs = eval_uttrs[(eval_uttrs.spk != eval_spk)]\n",
    "    target_uttrs.loc[:, 'label'] = 1\n",
    "    nonTarget_uttrs.loc[:, 'label'] = 0\n",
    "    \n",
    "    enr_uttrs = target_uttrs.sample(n=10)\n",
    "    target_uttrs = target_uttrs.drop(index=enr_uttrs.index)\n",
    "    \n",
    "    enr_embeds = get_embeds(enr_uttrs.id, sv_embeds, id2idx)\n",
    "    nonTarget_embeds = get_embeds(nonTarget_uttrs.id, sv_embeds, id2idx)\n",
    "    scores = cosine_sim(enr_embeds, nonTarget_embeds)\n",
    "    hard_neg_trials = np.argsort(scores, axis=1)[:, -100:].ravel()\n",
    "    \n",
    "    test_nonTarget_uttrs = nonTarget_uttrs.iloc[hard_neg_trials]\n",
    "    imposters = test_nonTarget_uttrs.spk.unique().tolist()\n",
    "    test_trial = pd.concat([target_uttrs, test_nonTarget_uttrs]).sample(frac=1)\n",
    "    eval_trials += [[eval_spk, imposters, enr_uttrs.id.tolist(), \n",
    "               (np.array(test_trial.id),np.array(test_trial.label)),\n",
    "             ]]\n",
    "\n",
    "save_dir = \"./trials/enr306/eval_hard_enr10_n1000/\"\n",
    "if not os.path.isdir(save_dir):\n",
    "    os.makedirs(save_dir)\n",
    "pickle.dump(eval_trials, open(save_dir + \"/trials.pkl\", \"wb\"))    "
   ]
  }
 ],
 "metadata": {
  "kernelspec": {
   "display_name": "Python 3",
   "language": "python",
   "name": "python3"
  },
  "language_info": {
   "codemirror_mode": {
    "name": "ipython",
    "version": 3
   },
   "file_extension": ".py",
   "mimetype": "text/x-python",
   "name": "python",
   "nbconvert_exporter": "python",
   "pygments_lexer": "ipython3",
   "version": "3.6.5"
  }
 },
 "nbformat": 4,
 "nbformat_minor": 2
}
