{
 "cells": [
  {
   "cell_type": "markdown",
   "metadata": {},
   "source": [
    "# incremental_enrollment_trial-processing_results\n",
    "---------\n",
    "\n",
    "결과 분석"
   ]
  },
  {
   "cell_type": "markdown",
   "metadata": {},
   "source": [
    "## Environment"
   ]
  },
  {
   "cell_type": "code",
   "execution_count": 1,
   "metadata": {},
   "outputs": [
    {
     "name": "stdout",
     "output_type": "stream",
     "text": [
      "Using matplotlib backend: TkAgg\n",
      "Populating the interactive namespace from numpy and matplotlib\n"
     ]
    }
   ],
   "source": [
    "%load_ext autoreload\n",
    "%autoreload 2\n",
    "%pylab\n",
    "%matplotlib inline\n",
    "\n",
    "import pandas as pd\n",
    "import pickle\n",
    "import numpy as np\n",
    "import sys\n",
    "import os"
   ]
  },
  {
   "cell_type": "code",
   "execution_count": 2,
   "metadata": {},
   "outputs": [],
   "source": [
    "sys.path.append('/host/projects/sv_experiments/sv_system')\n",
    "os.environ[\"CUDA_DEVICE_ORDER\"]=\"PCI_BUS_ID\"   # see issue #152\n",
    "os.environ[\"CUDA_VISIBLE_DEVICES\"]=\"1\""
   ]
  },
  {
   "cell_type": "code",
   "execution_count": 5,
   "metadata": {},
   "outputs": [],
   "source": [
    "from utils import key2df\n",
    "from utils import compute_eer"
   ]
  },
  {
   "cell_type": "markdown",
   "metadata": {},
   "source": [
    "## Results\n",
    "\n",
    "Meta data는 result.pkl에 저장되고, \n",
    "\n",
    "posScore(target sample에 대한 score), negScore(non-target sample에 대한 score), answer(verification output)만을 사용해서 결과를 뽑는다."
   ]
  },
  {
   "cell_type": "code",
   "execution_count": 1,
   "metadata": {},
   "outputs": [
    {
     "ename": "SyntaxError",
     "evalue": "EOL while scanning string literal (<ipython-input-1-f306a330c53c>, line 2)",
     "output_type": "error",
     "traceback": [
      "\u001b[0;36m  File \u001b[0;32m\"<ipython-input-1-f306a330c53c>\"\u001b[0;36m, line \u001b[0;32m2\u001b[0m\n\u001b[0;31m    base_dir = \"icassp19_result/enr306_uttr1/base/\"\"\u001b[0m\n\u001b[0m                                                    ^\u001b[0m\n\u001b[0;31mSyntaxError\u001b[0m\u001b[0;31m:\u001b[0m EOL while scanning string literal\n"
     ]
    }
   ],
   "source": [
    "records = {}\n",
    "base_dir = \"icassp19_result/enr306_uttr1/base/\"\"\n",
    "for t_dir in os.listdir(base_dir):\n",
    "    posScore = pickle.load(open(base_dir+t_dir+'/posScores.pkl', 'rb'))\n",
    "    negScore = pickle.load(open(base_dir+t_dir+'/negScores.pkl', 'rb'))\n",
    "    answers = pickle.load(open(base_dir+t_dir+'/answers.pkl', 'rb'))\n",
    "    acc = answers[0]/(answers[0]+answers[1])\n",
    "    eer = compute_eer(posScore, negScore)\n",
    "    print(\"[base_{}] eer:{:.4f}, acc:{:.4f}\".format(t_dir, eer*100, acc*100))\n",
    "    records['base_'+t_dir] = (eer, acc)"
   ]
  },
  {
   "cell_type": "code",
   "execution_count": 29,
   "metadata": {
    "scrolled": false
   },
   "outputs": [
    {
     "name": "stdout",
     "output_type": "stream",
     "text": [
      "inc_n_enr_3_pRatio_0.01: eer: 23.25179, acc: 91.40107\n",
      "inc_n_enr_3_pRatio_0.01_initEnr: eer: 5.97688, acc: 93.50839\n",
      "inc_n_enr_3_pRatio_0.01_initEnr_thresUpdt: eer: 5.89847, acc: 94.48203\n",
      "inc_n_enr_3_pRatio_0.01_thresUpdt: eer: 23.65971, acc: 92.59116\n",
      "inc_n_enr_3_pRatio_0.1: eer: 6.38161, acc: 93.52068\n",
      "inc_n_enr_3_pRatio_0.1_initEnr: eer: 4.20992, acc: 94.17560\n",
      "inc_n_enr_3_pRatio_0.1_initEnr_thresUpdt: eer: 4.24624, acc: 95.17737\n",
      "inc_n_enr_3_pRatio_0.1_thresUpdt: eer: 6.55011, acc: 94.46570\n",
      "inc_n_enr_3_pRatio_0.5: eer: 4.79223, acc: 94.80880\n",
      "inc_n_enr_3_pRatio_0.5_initEnr: eer: 4.09836, acc: 95.35176\n",
      "inc_n_enr_3_pRatio_0.5_initEnr_thresUpdt: eer: 4.10773, acc: 95.78460\n",
      "inc_n_enr_3_pRatio_0.5_thresUpdt: eer: 4.78272, acc: 95.22680\n",
      "inc_n_enr_3_pRatio_0.9: eer: 4.72146, acc: 95.73246\n",
      "inc_n_enr_3_pRatio_0.9_initEnr: eer: 4.03991, acc: 96.48286\n",
      "inc_n_enr_3_pRatio_0.9_initEnr_thresUpdt: eer: 4.05973, acc: 96.32106\n",
      "inc_n_enr_3_pRatio_0.9_thresUpdt: eer: 4.73212, acc: 95.44460\n",
      "inc_n_enr_5_pRatio_0.01: eer: 17.26919, acc: 91.98978\n",
      "inc_n_enr_5_pRatio_0.01_initEnr: eer: 7.32080, acc: 93.37691\n",
      "inc_n_enr_5_pRatio_0.01_initEnr_thresUpdt: eer: 7.54969, acc: 94.28469\n",
      "inc_n_enr_5_pRatio_0.01_thresUpdt: eer: 17.23144, acc: 93.13322\n",
      "inc_n_enr_5_pRatio_0.1: eer: 4.84766, acc: 93.96441\n",
      "inc_n_enr_5_pRatio_0.1_initEnr: eer: 4.10225, acc: 94.31592\n",
      "inc_n_enr_5_pRatio_0.1_initEnr_thresUpdt: eer: 4.09890, acc: 95.28380\n",
      "inc_n_enr_5_pRatio_0.1_thresUpdt: eer: 4.94501, acc: 94.93802\n",
      "inc_n_enr_5_pRatio_0.5: eer: 4.35348, acc: 95.12172\n",
      "inc_n_enr_5_pRatio_0.5_initEnr: eer: 3.97628, acc: 95.46534\n",
      "inc_n_enr_5_pRatio_0.5_initEnr_thresUpdt: eer: 3.97541, acc: 95.89681\n",
      "inc_n_enr_5_pRatio_0.5_thresUpdt: eer: 4.37236, acc: 95.54411\n",
      "inc_n_enr_5_pRatio_0.9: eer: 4.32768, acc: 96.14886\n",
      "inc_n_enr_5_pRatio_0.9_initEnr: eer: 3.96835, acc: 96.57643\n",
      "inc_n_enr_5_pRatio_0.9_initEnr_thresUpdt: eer: 3.96691, acc: 96.40696\n",
      "inc_n_enr_5_pRatio_0.9_thresUpdt: eer: 4.33725, acc: 95.95444\n",
      "inc_n_enr_7_pRatio_0.01: eer: 14.31844, acc: 92.47484\n",
      "inc_n_enr_7_pRatio_0.01_initEnr: eer: 8.32741, acc: 93.27407\n",
      "inc_n_enr_7_pRatio_0.01_initEnr_thresUpdt: eer: 8.16919, acc: 94.23565\n",
      "inc_n_enr_7_pRatio_0.01_thresUpdt: eer: 14.44323, acc: 93.47400\n",
      "inc_n_enr_7_pRatio_0.1: eer: 4.50581, acc: 94.09761\n",
      "inc_n_enr_7_pRatio_0.1_initEnr: eer: 4.08121, acc: 94.34114\n",
      "inc_n_enr_7_pRatio_0.1_initEnr_thresUpdt: eer: 4.09618, acc: 95.30036\n",
      "inc_n_enr_7_pRatio_0.1_thresUpdt: eer: 4.53307, acc: 95.09209\n",
      "inc_n_enr_7_pRatio_0.5: eer: 4.23313, acc: 95.23710\n",
      "inc_n_enr_7_pRatio_0.5_initEnr: eer: 3.97527, acc: 95.45489\n",
      "inc_n_enr_7_pRatio_0.5_initEnr_thresUpdt: eer: 3.98291, acc: 95.88478\n",
      "inc_n_enr_7_pRatio_0.5_thresUpdt: eer: 4.23327, acc: 95.67002\n",
      "inc_n_enr_7_pRatio_0.9: eer: 4.22360, acc: 96.30572\n",
      "inc_n_enr_7_pRatio_0.9_initEnr: eer: 3.92021, acc: 96.55616\n",
      "inc_n_enr_7_pRatio_0.9_initEnr_thresUpdt: eer: 3.96446, acc: 96.38669\n",
      "inc_n_enr_7_pRatio_0.9_thresUpdt: eer: 4.19321, acc: 96.13651\n"
     ]
    }
   ],
   "source": [
    "inc_records = {}\n",
    "base_dir = \"adaptive_sv_system/results/sortedPos/\"\n",
    "for enr in ['3','5','7', '9']: # n_enr cases\n",
    "    subpath = 'n_enr'+enr+'_results/'\n",
    "    for n in sorted(os.listdir(base_dir+subpath+'inc/')):\n",
    "        for t_dir in sorted(os.listdir(base_dir+subpath+'inc/'+ n)):\n",
    "            posScore = pickle.load(open(base_dir+subpath+'inc/'+n+'/'+t_dir+'/posScores.pkl', 'rb'))\n",
    "            negScore = pickle.load(open(base_dir+subpath+'inc/'+n+'/'+t_dir+'/negScores.pkl', 'rb'))\n",
    "            answers = pickle.load(open(base_dir+subpath+'inc/'+n+'/'+t_dir+'/answers.pkl', 'rb'))\n",
    "            acc = answers[0]/(answers[0]+answers[1])\n",
    "            eer = compute_eer(posScore, negScore)\n",
    "            print('inc_{}: eer: {:.5f}, acc: {:.5f}'.format(t_dir, eer*100, acc*100))\n",
    "            inc_records[n+'_inc_'+t_dir] = (eer, acc)"
   ]
  },
  {
   "cell_type": "markdown",
   "metadata": {},
   "source": [
    "### Write results to txt"
   ]
  },
  {
   "cell_type": "code",
   "execution_count": 27,
   "metadata": {
    "scrolled": false
   },
   "outputs": [],
   "source": [
    "eer_string = ''\n",
    "acc_string = ''\n",
    "#for trial in ['1','2','3','4','5']:\n",
    "for trial in ['1']:\n",
    "    eer_string += 'Q3\\tQ5\\tQ7\\tQ9\\tQ3\\tQ5\\tQ7\\tQ9\\tQ3\\tQ5\\tQ7\\tQ9\\tQ3\\tQ5\\tQ7\\tQ9\\n'\n",
    "    acc_string += 'Q3\\tQ5\\tQ7\\tQ9\\tQ3\\tQ5\\tQ7\\tQ9\\tQ3\\tQ5\\tQ7\\tQ9\\tQ3\\tQ5\\tQ7\\tQ9\\n'\n",
    "    for option in ['', '_initEnr', '_thresUpdt', '_initEnr_thresUpdt']:\n",
    "        for ratio in ['0.01', '0.1', '0.5', '0.9']:\n",
    "            for enr in ['3', '5', '7', '9']:\n",
    "                key = trial + '_inc_n_enr_' + enr + '_pRatio_' + ratio + option\n",
    "                #if key in inc_records.keys():\n",
    "                eer = inc_records[key][0]\n",
    "                acc = inc_records[key][1]\n",
    "                eer_string += '{:.5f}'.format(eer*100) + '\\t'\n",
    "                acc_string += '{:.5f}'.format(acc*100) + '\\t'\n",
    "\n",
    "        eer_string += '\\n'\n",
    "        acc_string += '\\n'\n",
    "    eer_string += '\\n'\n",
    "    acc_string += '\\n'\n",
    "\n",
    "with open(base_dir + 'acc_excel.txt', 'w') as f:\n",
    "    f.write(acc_string)\n",
    "with open(base_dir + 'eer_excel.txt', 'w') as f:\n",
    "    f.write(eer_string)"
   ]
  }
 ],
 "metadata": {
  "kernelspec": {
   "display_name": "Python 3",
   "language": "python",
   "name": "python3"
  },
  "language_info": {
   "codemirror_mode": {
    "name": "ipython",
    "version": 3
   },
   "file_extension": ".py",
   "mimetype": "text/x-python",
   "name": "python",
   "nbconvert_exporter": "python",
   "pygments_lexer": "ipython3",
   "version": "3.6.5"
  }
 },
 "nbformat": 4,
 "nbformat_minor": 2
}
