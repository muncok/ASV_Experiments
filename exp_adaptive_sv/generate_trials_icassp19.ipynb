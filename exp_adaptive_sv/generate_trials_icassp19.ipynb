{
 "cells": [
  {
   "cell_type": "markdown",
   "metadata": {},
   "source": [
    "# Incremental Ernollment Trial\n",
    "---------\n",
    "\n",
    "현재 speaker가 너무 적어서 명수를 늘려서 실험해보려고한다.  \n",
    "대신 verification set을 따로 떼어놓고 나머지 set에서 만들려고한다.  \n",
    "현재 최소 150개의 utterance를 가지고 있는 306명을 선정한다."
   ]
  },
  {
   "cell_type": "markdown",
   "metadata": {},
   "source": [
    "## Environment"
   ]
  },
  {
   "cell_type": "code",
   "execution_count": 1,
   "metadata": {},
   "outputs": [
    {
     "name": "stdout",
     "output_type": "stream",
     "text": [
      "Using matplotlib backend: TkAgg\n",
      "Populating the interactive namespace from numpy and matplotlib\n"
     ]
    }
   ],
   "source": [
    "%load_ext autoreload\n",
    "%autoreload 2\n",
    "%pylab\n",
    "%matplotlib inline\n",
    "\n",
    "import pandas as pd\n",
    "import pickle\n",
    "import numpy as np\n",
    "import sys\n",
    "import os"
   ]
  },
  {
   "cell_type": "code",
   "execution_count": 2,
   "metadata": {},
   "outputs": [],
   "source": [
    "sys.path.append('/host/projects/sv_experiments/sv_system')\n",
    "os.environ[\"CUDA_DEVICE_ORDER\"]=\"PCI_BUS_ID\"   # see issue #152\n",
    "os.environ[\"CUDA_VISIBLE_DEVICES\"]=\"1\""
   ]
  },
  {
   "cell_type": "code",
   "execution_count": 3,
   "metadata": {},
   "outputs": [],
   "source": [
    "from utils import key2df"
   ]
  },
  {
   "cell_type": "markdown",
   "metadata": {},
   "source": [
    "## Dataframes & embeddings"
   ]
  },
  {
   "cell_type": "code",
   "execution_count": 4,
   "metadata": {},
   "outputs": [],
   "source": [
    "keys = pickle.load(open(\"./xvector_embeds/sv_keys.pkl\", \"rb\"))\n",
    "keys = np.array(keys)\n",
    "embeds = np.load(\"./xvector_embeds/sv_embeds.npy\")\n",
    "embeds = embeds / np.linalg.norm(embeds, axis=1, keepdims=True)"
   ]
  },
  {
   "cell_type": "code",
   "execution_count": 5,
   "metadata": {},
   "outputs": [],
   "source": [
    "key_df = key2df(keys)\n",
    "key2index = {k:v for v, k in enumerate(keys)}  # it used for mapping from key to index"
   ]
  },
  {
   "cell_type": "code",
   "execution_count": 6,
   "metadata": {},
   "outputs": [],
   "source": [
    "spk_uttr_stat = key_df.spk.value_counts()"
   ]
  },
  {
   "cell_type": "markdown",
   "metadata": {},
   "source": [
    "## Held-out validation set\n",
    "\n",
    "utterance가 150개 넘는 것들을 trial spks로 빼고  \n",
    "나머지는 validation spk로 빼었다."
   ]
  },
  {
   "cell_type": "code",
   "execution_count": 7,
   "metadata": {},
   "outputs": [],
   "source": [
    "trial_enr_spks = spk_uttr_stat[spk_uttr_stat > 150].index.tolist()\n",
    "val_spks = spk_uttr_stat[spk_uttr_stat <= 150].index.tolist()\n",
    "val_embed_df = key_df[key_df.spk.isin(val_spks)]\n",
    "trial_embed_df = key_df[key_df.spk.isin(trial_enr_spks)]"
   ]
  },
  {
   "cell_type": "code",
   "execution_count": 9,
   "metadata": {},
   "outputs": [
    {
     "data": {
      "text/plain": [
       "945"
      ]
     },
     "execution_count": 9,
     "metadata": {},
     "output_type": "execute_result"
    }
   ],
   "source": [
    "len(val_spks)"
   ]
  },
  {
   "cell_type": "code",
   "execution_count": null,
   "metadata": {},
   "outputs": [],
   "source": [
    "voxc2_trial = pd.read_pickle(\"trials/voxc2_1211_trials.pkl\")\n",
    "trial_for_thresh = voxc2_trial[(voxc2_trial.enroll_spk.isin(val_spks)) & (voxc2_trial.test_spk.isin(val_spks))]"
   ]
  },
  {
   "cell_type": "code",
   "execution_count": null,
   "metadata": {},
   "outputs": [],
   "source": [
    "# os.makedirs(\"./cases/enr306_uttr1/\")\n",
    "# trial_for_thresh.to_pickle(\"cases/enr306_uttr1/trial_for_thresh.pkl\")\n",
    "# val_embed_df.to_pickle(\"./cases/enr306_uttr1/valdiation_df.pkl\")"
   ]
  },
  {
   "cell_type": "markdown",
   "metadata": {},
   "source": [
    "## Design trials for each enr_spk\n",
    "\n",
    "각 enr_spk당 10번 enr_uttrs "
   ]
  },
  {
   "cell_type": "code",
   "execution_count": null,
   "metadata": {},
   "outputs": [],
   "source": [
    "n_enroll_utters = 1"
   ]
  },
  {
   "cell_type": "code",
   "execution_count": null,
   "metadata": {},
   "outputs": [],
   "source": [
    "cases = []\n",
    "for enr_spk in trial_enr_spks:\n",
    "    target_uttrs = trial_embed_df[trial_embed_df.spk == enr_spk] \n",
    "    nonTarget_uttrs = trial_embed_df[trial_embed_df.spk != enr_spk]\n",
    "    # we have target ratios [0.9, 0.5, 0.1, 0.01]\n",
    "    nonTarget_n_uttrs = (np.array(len(target_uttrs) -1)*np.array([1/9, 1, 9])).astype(np.int64)\n",
    "    nonTarget_n_uttrs = np.append(nonTarget_n_uttrs, min(len(nonTarget_uttrs), 99*len(target_uttrs)))\n",
    "    enr_uttrs = target_uttrs.sample(n=10) # each speaker has 10 enrollment cases\n",
    "    for idx, enr_uttr in enr_uttrs.iterrows(): # for each enrollment utterance\n",
    "        for n_imp_uttr in nonTarget_n_uttrs: # neg_trial ratio \n",
    "            target_trial_uttrs = target_uttrs.drop(index=idx)\n",
    "            nonTarget_trial_uttrs = nonTarget_uttrs.sample(n=n_imp_uttr)\n",
    "            cases += [[enr_spk, \n",
    "                       [enr_uttr.name], \n",
    "                       target_trial_uttrs.index.tolist(),\n",
    "                       nonTarget_trial_uttrs.index.tolist()]]\n"
   ]
  },
  {
   "cell_type": "code",
   "execution_count": null,
   "metadata": {
    "scrolled": false
   },
   "outputs": [],
   "source": [
    "sorted_cases = sorted(cases, key=lambda x: len(x[3])) "
   ]
  },
  {
   "cell_type": "markdown",
   "metadata": {},
   "source": [
    "## Split trials according to pos_ratio"
   ]
  },
  {
   "cell_type": "code",
   "execution_count": null,
   "metadata": {},
   "outputs": [],
   "source": [
    "neg_legnth = list(map(lambda x: len(x[3]), cases))"
   ]
  },
  {
   "cell_type": "code",
   "execution_count": null,
   "metadata": {},
   "outputs": [],
   "source": [
    "pos_ratio_0 = cases[0:len(cases):4] # 0.9\n",
    "pos_ratio_1 = cases[1:len(cases):4] # 0.5\n",
    "pos_ratio_2 = cases[2:len(cases):4] # 0.1\n",
    "pos_ratio_3 = cases[3:len(cases):4] # 0.01"
   ]
  },
  {
   "cell_type": "code",
   "execution_count": null,
   "metadata": {},
   "outputs": [],
   "source": [
    "pickle.dump(pos_ratio_0, open(\"./cases/enr306_uttr1/trials_ratio_0.9.pkl\", \"wb\"))\n",
    "pickle.dump(pos_ratio_1, open(\"./cases/enr306_uttr1/trials_ratio_0.5.pkl\", \"wb\"))\n",
    "pickle.dump(pos_ratio_2, open(\"./cases/enr306_uttr1/trials_ratio_0.1.pkl\", \"wb\"))\n",
    "pickle.dump(pos_ratio_3, open(\"./cases/enr306_uttr1/trials_ratio_0.01.pkl\", \"wb\"))"
   ]
  }
 ],
 "metadata": {
  "kernelspec": {
   "display_name": "Python 3",
   "language": "python",
   "name": "python3"
  },
  "language_info": {
   "codemirror_mode": {
    "name": "ipython",
    "version": 3
   },
   "file_extension": ".py",
   "mimetype": "text/x-python",
   "name": "python",
   "nbconvert_exporter": "python",
   "pygments_lexer": "ipython3",
   "version": "3.6.5"
  }
 },
 "nbformat": 4,
 "nbformat_minor": 2
}
