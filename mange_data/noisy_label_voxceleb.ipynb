{
 "cells": [
  {
   "cell_type": "markdown",
   "metadata": {},
   "source": [
    "# Noisy Labels in Dataset (voxceleb)\n",
    "\n",
    "dataset의 labelling이 잘못 되었을 떄의  효과를 보기 위해."
   ]
  },
  {
   "cell_type": "code",
   "execution_count": 1,
   "metadata": {},
   "outputs": [],
   "source": [
    "import pandas as pd\n",
    "import numpy as np\n",
    "import random"
   ]
  },
  {
   "cell_type": "code",
   "execution_count": 2,
   "metadata": {},
   "outputs": [],
   "source": [
    "voxc1_si = pd.read_csv(\"/dataset/SV_sets/voxceleb1/dataframes/voxc1_si.csv\")"
   ]
  },
  {
   "cell_type": "code",
   "execution_count": 3,
   "metadata": {},
   "outputs": [],
   "source": [
    "# split voxc1_si into in_dist and out_dist\n",
    "voxc1_si_spks = voxc1_si.spk.unique().tolist()\n",
    "even_num = len(voxc1_si_spks)//2\n",
    "in_spks = np.random.choice(voxc1_si_spks, size=even_num, replace=False) \n",
    "out_spks = np.random.choice(list(set(voxc1_si_spks) - set(in_spks)), size=even_num, replace=False)"
   ]
  },
  {
   "cell_type": "code",
   "execution_count": 4,
   "metadata": {},
   "outputs": [
    {
     "name": "stderr",
     "output_type": "stream",
     "text": [
      "/opt/conda/envs/pytorch-py3.6/lib/python3.6/site-packages/pandas/core/indexing.py:543: SettingWithCopyWarning: \n",
      "A value is trying to be set on a copy of a slice from a DataFrame.\n",
      "Try using .loc[row_indexer,col_indexer] = value instead\n",
      "\n",
      "See the caveats in the documentation: http://pandas.pydata.org/pandas-docs/stable/indexing.html#indexing-view-versus-copy\n",
      "  self.obj[item] = s\n"
     ]
    }
   ],
   "source": [
    "voxc1_si_in = voxc1_si[voxc1_si.spk.isin(in_spks)]\n",
    "voxc1_si_out = voxc1_si[voxc1_si.spk.isin(out_spks)]\n",
    "\n",
    "voxc1_si_in.loc[:, 'label'] = voxc1_si_in.groupby(\"spk\").ngroup()\n",
    "voxc1_si_out.loc[:, 'label'] = voxc1_si_out.groupby(\"spk\").ngroup()"
   ]
  },
  {
   "cell_type": "code",
   "execution_count": 5,
   "metadata": {},
   "outputs": [],
   "source": [
    "voxc1_si_in.to_csv(\"/dataset/SV_sets/voxceleb1/dataframes/noisy_train/voxc1_si_in.csv\", index=False)"
   ]
  },
  {
   "cell_type": "markdown",
   "metadata": {},
   "source": [
    "## out-dist injection"
   ]
  },
  {
   "cell_type": "code",
   "execution_count": 20,
   "metadata": {},
   "outputs": [],
   "source": [
    "injected_out = voxc1_si_out.groupby(\"label\", group_keys=False).apply(lambda x: x.sample(frac=0.2))\n",
    "# injected noise are used for train set.\n",
    "injected_out.loc[:, 'set'] = 'train'"
   ]
  },
  {
   "cell_type": "code",
   "execution_count": 21,
   "metadata": {},
   "outputs": [],
   "source": [
    "# out-dist injected\n",
    "out_injected_si = pd.concat([voxc1_si_in, injected_out])\n",
    "out_injected_si = out_injected_si.sort_values('label')"
   ]
  },
  {
   "cell_type": "code",
   "execution_count": 22,
   "metadata": {},
   "outputs": [],
   "source": [
    "out_injected_si.to_csv(\"/dataset/SV_sets/voxceleb1/dataframes/noisy_train/voxc1_injected_si.csv\", index=False)"
   ]
  },
  {
   "cell_type": "markdown",
   "metadata": {},
   "source": [
    "## in-dist random labels"
   ]
  },
  {
   "cell_type": "code",
   "execution_count": 15,
   "metadata": {},
   "outputs": [],
   "source": [
    "# in-dist label random shuffle\n",
    "seleted_samples = voxc1_si_in.groupby(\"label\", group_keys=False).apply(lambda x: x.sample(frac=0.2))"
   ]
  },
  {
   "cell_type": "code",
   "execution_count": 16,
   "metadata": {},
   "outputs": [],
   "source": [
    "label_dist = voxc1_si_in.label.value_counts().values\n",
    "label_dist_norm = label_dist / label_dist.sum()"
   ]
  },
  {
   "cell_type": "code",
   "execution_count": 17,
   "metadata": {},
   "outputs": [],
   "source": [
    "random_label = np.random.randint(0, even_num, size=len(seleted_samples))"
   ]
  },
  {
   "cell_type": "code",
   "execution_count": 18,
   "metadata": {},
   "outputs": [],
   "source": [
    "random_label_si = voxc1_si_in.copy()\n",
    "random_label_si.loc[seleted_samples.index, 'label'] = random_label"
   ]
  },
  {
   "cell_type": "code",
   "execution_count": 19,
   "metadata": {},
   "outputs": [],
   "source": [
    "random_label_si.to_csv(\"/dataset/SV_sets/voxceleb1/dataframes/noisy_train/voxc1_randomLabel_si.csv\", index=False)"
   ]
  },
  {
   "cell_type": "code",
   "execution_count": null,
   "metadata": {},
   "outputs": [],
   "source": []
  }
 ],
 "metadata": {
  "kernelspec": {
   "display_name": "Python 3",
   "language": "python",
   "name": "python3"
  },
  "language_info": {
   "codemirror_mode": {
    "name": "ipython",
    "version": 3
   },
   "file_extension": ".py",
   "mimetype": "text/x-python",
   "name": "python",
   "nbconvert_exporter": "python",
   "pygments_lexer": "ipython3",
   "version": "3.6.5"
  }
 },
 "nbformat": 4,
 "nbformat_minor": 2
}
