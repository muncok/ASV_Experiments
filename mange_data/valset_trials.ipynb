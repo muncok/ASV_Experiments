{
 "cells": [
  {
   "cell_type": "markdown",
   "metadata": {},
   "source": [
    "# Generating valdiation set's trials"
   ]
  },
  {
   "cell_type": "markdown",
   "metadata": {},
   "source": [
    "## from validation set"
   ]
  },
  {
   "cell_type": "code",
   "execution_count": 1,
   "metadata": {},
   "outputs": [],
   "source": [
    "import pandas as pd"
   ]
  },
  {
   "cell_type": "code",
   "execution_count": 8,
   "metadata": {},
   "outputs": [],
   "source": [
    "val_df = pd.read_csv(\"/dataset/SV_sets/voxceleb1/dataframes/si_val.csv\")\n",
    "idx2key = val_df.id.to_dict()\n",
    "key2idx = {v:k for k,v in idx2key.items()}"
   ]
  },
  {
   "cell_type": "code",
   "execution_count": 10,
   "metadata": {},
   "outputs": [],
   "source": [
    "def diff_session(pair):\n",
    "    a, b = pair\n",
    "    if a[8:19] != b[8:19]:\n",
    "        return True\n",
    "    else:\n",
    "        return False"
   ]
  },
  {
   "cell_type": "code",
   "execution_count": 13,
   "metadata": {},
   "outputs": [],
   "source": [
    "# positive pair\n",
    "import itertools\n",
    "pos_trials = []\n",
    "pos_len = dict()\n",
    "val_spks = val_df.spk.unique().tolist()\n",
    "for spk in val_spks:\n",
    "    utters = val_df[val_df.spk == spk].id\n",
    "    every_pos_pair = list(filter(diff_session, itertools.combinations(utters, 2)))\n",
    "    pos_trials += every_pos_pair\n",
    "    pos_len[spk] = len(every_pos_pair) "
   ]
  },
  {
   "cell_type": "code",
   "execution_count": 33,
   "metadata": {},
   "outputs": [],
   "source": [
    "# negative m pair\n",
    "import itertools\n",
    "import random\n",
    "neg_trials = []\n",
    "for spk in val_spks:\n",
    "    utters = val_df[ (val_df.spk == spk)].id\n",
    "    neg_targets = val_df[(val_df.spk != spk)].sample(n=pos_len[spk]//len(utters)+1).id\n",
    "    neg_trials += list(itertools.product(utters, neg_targets))"
   ]
  },
  {
   "cell_type": "code",
   "execution_count": 53,
   "metadata": {},
   "outputs": [],
   "source": [
    "import numpy as np\n",
    "\n",
    "pairs = pos_trials + neg_trials\n",
    "enr_ids, test_ids = zip(*pairs)\n",
    "labels = np.ones(len(pos_trials), dtype=int).tolist() + \\\n",
    "            np.zeros(len(neg_trials), dtype=int).tolist()\n",
    "\n",
    "assert len(pairs) == len(labels)"
   ]
  },
  {
   "cell_type": "code",
   "execution_count": 55,
   "metadata": {},
   "outputs": [],
   "source": [
    "idx_pairs = [(key2idx[enr_id], key2idx[test_id])  for enr_id, test_id in pairs]\n",
    "enr_idxs, test_idxs = zip(*idx_pairs)"
   ]
  },
  {
   "cell_type": "code",
   "execution_count": 66,
   "metadata": {},
   "outputs": [],
   "source": [
    "val_trial_df = pd.DataFrame({'label':labels, 'enroll_id':enr_ids, 'test_id':test_ids, \n",
    "             'enroll_idx':enr_idxs, 'test_idx':test_idxs})\n",
    "val_trial_df.to_csv(\"/dataset/SV_sets/voxceleb1/val_trial.csv\", index=False)"
   ]
  },
  {
   "cell_type": "markdown",
   "metadata": {},
   "source": [
    "## from ood set"
   ]
  },
  {
   "cell_type": "code",
   "execution_count": 109,
   "metadata": {},
   "outputs": [],
   "source": [
    "val_df = pd.read_csv(\"/dataset/SV_sets/voxceleb2/dataframes/voxc2_si.csv\")\n",
    "val_spks = val_df.spk.value_counts().index[-1000:]\n",
    "val_df = val_df[val_df.spk.isin(val_spks)].reset_index()\n",
    "idx2key = val_df.id.to_dict()\n",
    "key2idx = {v:k for k,v in idx2key.items()}"
   ]
  },
  {
   "cell_type": "code",
   "execution_count": 110,
   "metadata": {},
   "outputs": [],
   "source": [
    "val_df.to_csv(\"/dataset/SV_sets/voxceleb1/voxc2_val.csv\", index=False)"
   ]
  },
  {
   "cell_type": "code",
   "execution_count": 111,
   "metadata": {},
   "outputs": [],
   "source": [
    "def diff_session(pair):\n",
    "    a, b = pair\n",
    "    if a[8:19] != b[8:19]:\n",
    "        return True\n",
    "    else:\n",
    "        return False"
   ]
  },
  {
   "cell_type": "code",
   "execution_count": 112,
   "metadata": {},
   "outputs": [],
   "source": [
    "# positive pair\n",
    "import itertools\n",
    "import random\n",
    "pos_trials = []\n",
    "pos_len = dict()\n",
    "for spk in val_spks:\n",
    "    utters = val_df[val_df.spk == spk].id\n",
    "    every_pos_pair = random.choices(list(filter(diff_session, itertools.combinations(utters, 2))), k=20)\n",
    "    pos_trials += every_pos_pair\n",
    "    pos_len[spk] = len(every_pos_pair) "
   ]
  },
  {
   "cell_type": "code",
   "execution_count": 114,
   "metadata": {},
   "outputs": [],
   "source": [
    "# negative m pair\n",
    "import itertools\n",
    "import random\n",
    "neg_trials = []\n",
    "for spk in val_spks:\n",
    "    utters = val_df[ (val_df.spk == spk)].id\n",
    "    neg_targets = val_df[(val_df.spk != spk)].sample(n=pos_len[spk]//len(utters)+1).id\n",
    "    neg_trials += list(itertools.product(utters, neg_targets))"
   ]
  },
  {
   "cell_type": "code",
   "execution_count": 115,
   "metadata": {},
   "outputs": [],
   "source": [
    "import numpy as np\n",
    "\n",
    "pairs = pos_trials + neg_trials\n",
    "enr_ids, test_ids = zip(*pairs)\n",
    "labels = np.ones(len(pos_trials), dtype=int).tolist() + \\\n",
    "            np.zeros(len(neg_trials), dtype=int).tolist()\n",
    "\n",
    "assert len(pairs) == len(labels)"
   ]
  },
  {
   "cell_type": "code",
   "execution_count": 121,
   "metadata": {},
   "outputs": [],
   "source": [
    "idx_pairs = [(key2idx[enr_id], key2idx[test_id])  for enr_id, test_id in pairs]\n",
    "enr_idxs, test_idxs = zip(*idx_pairs)"
   ]
  },
  {
   "cell_type": "code",
   "execution_count": 122,
   "metadata": {},
   "outputs": [],
   "source": [
    "val_trial_df = pd.DataFrame({'label':labels, 'enroll_id':enr_ids, 'test_id':test_ids, \n",
    "             'enroll_idx':enr_idxs, 'test_idx':test_idxs})\n",
    "val_trial_df.to_csv(\"/dataset/SV_sets/voxceleb1/voxc2_val_trial.csv\", index=False)"
   ]
  },
  {
   "cell_type": "code",
   "execution_count": null,
   "metadata": {},
   "outputs": [],
   "source": []
  }
 ],
 "metadata": {
  "kernelspec": {
   "display_name": "Python 3",
   "language": "python",
   "name": "python3"
  },
  "language_info": {
   "codemirror_mode": {
    "name": "ipython",
    "version": 3
   },
   "file_extension": ".py",
   "mimetype": "text/x-python",
   "name": "python",
   "nbconvert_exporter": "python",
   "pygments_lexer": "ipython3",
   "version": "3.6.5"
  }
 },
 "nbformat": 4,
 "nbformat_minor": 2
}
