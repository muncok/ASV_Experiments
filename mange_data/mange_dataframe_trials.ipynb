{
 "cells": [
  {
   "cell_type": "markdown",
   "metadata": {},
   "source": [
    "# Mange dataframes and trials\n",
    "------------------\n",
    "\n"
   ]
  },
  {
   "cell_type": "markdown",
   "metadata": {},
   "source": [
    "## Environment"
   ]
  },
  {
   "cell_type": "code",
   "execution_count": 2,
   "metadata": {},
   "outputs": [
    {
     "name": "stdout",
     "output_type": "stream",
     "text": [
      "Using matplotlib backend: TkAgg\n",
      "Populating the interactive namespace from numpy and matplotlib\n"
     ]
    }
   ],
   "source": [
    "%load_ext autoreload\n",
    "%autoreload 2\n",
    "%pylab\n",
    "%matplotlib inline\n",
    "\n",
    "import pandas as pd\n",
    "import pickle\n",
    "import numpy as np\n",
    "import sys\n",
    "import os"
   ]
  },
  {
   "cell_type": "code",
   "execution_count": null,
   "metadata": {},
   "outputs": [],
   "source": [
    "import shutil\n",
    "\n",
    "for idx, row in voxc12_si_fix_df.iterrows():\n",
    "    wrong_path = \"/dataset/SV_sets/voxceleb2/feats/xvector_npy/\" + row.feat\n",
    "    file_name = '-'.join(wrong_path.rsplit('-', 2)[-2:])\n",
    "    folder_path = \"/dataset/SV_sets/voxceleb2/feats/xvector_npy/\" + row.spk\n",
    "    correct_path = folder_path + '/' + file_name\n",
    "    if not os.path.isdir(folder_path):\n",
    "        os.makedirs(folder_path)\n",
    "    try:\n",
    "        shutil.move(wrong_path, correct_path)\n",
    "    except FileNotFoundError:\n",
    "        print(wrong_path)"
   ]
  },
  {
   "cell_type": "markdown",
   "metadata": {},
   "source": [
    "## Voxceleb 1"
   ]
  },
  {
   "cell_type": "markdown",
   "metadata": {},
   "source": [
    "### Parsing directory"
   ]
  },
  {
   "cell_type": "code",
   "execution_count": 54,
   "metadata": {},
   "outputs": [],
   "source": [
    "voxc1_dev = \"/dataset/SV_sets/voxceleb1/wav/voxc1_dev/\"\n",
    "voxc1_test = \"/dataset/SV_sets/voxceleb1/wav/voxc1_test/\"\n",
    "\n",
    "dev_wav_files = []\n",
    "for dirpath, dirnames, filenames in os.walk(voxc1_dev):\n",
    "    if len(filenames) == 0: continue\n",
    "    dev_wav_files += list(map(lambda x: os.path.join(dirpath, x), filenames))\n",
    "\n",
    "test_wav_files = []\n",
    "for dirpath, dirnames, filenames in os.walk(voxc1_test):\n",
    "    if len(filenames) == 0: continue\n",
    "    test_wav_files += list(map(lambda x: os.path.join(dirpath, x), filenames))"
   ]
  },
  {
   "cell_type": "markdown",
   "metadata": {},
   "source": [
    "### Parsed data to dataframes"
   ]
  },
  {
   "cell_type": "code",
   "execution_count": 69,
   "metadata": {},
   "outputs": [],
   "source": [
    "dev_df = pd.DataFrame(dev_wav_files, columns=['path'])\n",
    "dev_df['spk']  = dev_df.path.apply(lambda x: x.split('/')[-3])\n",
    "dev_df['session']  = dev_df.path.apply(lambda x: x.split('/')[-2])\n",
    "dev_df['file'] = dev_df.path.apply(lambda x: '/'.join(x.split('/')[-3:])[:-4])\n",
    "dev_df = dev_df.drop(columns=\"path\")\n",
    "dev_df = dev_df.set_index(dev_df.file.apply(lambda x: '-'.join(x.split('/')[-3:]).rstrip('.path')))\n",
    "dev_df.index.name = None\n",
    "dev_df['id'] = dev_df.index"
   ]
  },
  {
   "cell_type": "code",
   "execution_count": 120,
   "metadata": {},
   "outputs": [],
   "source": [
    "test_df = pd.DataFrame(test_wav_files, columns=['path'])\n",
    "test_df['spk']  = test_df.path.apply(lambda x: x.split('/')[-3])\n",
    "test_df['session']  = test_df.path.apply(lambda x: x.split('/')[-2])\n",
    "test_df['file'] = test_df.path.apply(lambda x: '/'.join(x.split('/')[-3:])[:-4])\n",
    "test_df = test_df.drop(columns=\"path\")\n",
    "test_df = test_df.set_index(test_df.file.apply(lambda x: '-'.join(x.split('/')[-3:]).rstrip('.path')))\n",
    "test_df.index.name = None\n",
    "test_df['id'] = test_df.index"
   ]
  },
  {
   "cell_type": "markdown",
   "metadata": {},
   "source": [
    "### Split dev set into dev_train, dev_val, dev_test sets"
   ]
  },
  {
   "cell_type": "code",
   "execution_count": 58,
   "metadata": {},
   "outputs": [],
   "source": [
    "voxc1_meta = pd.read_csv(\"/dataset/SV_sets/voxceleb12/vox1_meta.csv\")"
   ]
  },
  {
   "cell_type": "code",
   "execution_count": 106,
   "metadata": {},
   "outputs": [],
   "source": [
    "iden_split = pd.read_csv(\"/dataset/SV_sets/voxceleb1/iden_split.txt\", delimiter=' ', names=['set', 'path'])\n",
    "iden_split['id'] = iden_split.path.apply(lambda x: x.replace('/', '-')[:-4])\n",
    "iden_split = iden_split.set_index('id')"
   ]
  },
  {
   "cell_type": "code",
   "execution_count": 114,
   "metadata": {},
   "outputs": [],
   "source": [
    "set_info = dev_df.id.apply(lambda x: iden_split.loc[x].set)\n",
    "dev_df['set'] = set_info"
   ]
  },
  {
   "cell_type": "markdown",
   "metadata": {},
   "source": [
    "### Trials"
   ]
  },
  {
   "cell_type": "code",
   "execution_count": 134,
   "metadata": {},
   "outputs": [],
   "source": [
    "voxc1_sv_trials = pd.read_pickle(\"/dataset/SV_sets/voxceleb12/dataframes/voxc12_test_trial.pkl\")"
   ]
  },
  {
   "cell_type": "code",
   "execution_count": 135,
   "metadata": {},
   "outputs": [],
   "source": [
    "voxc1_sv_trials = voxc1_sv_trials.rename(columns={'enroll_idx':'enr_id', 'test_idx':'test_id', 'enrolment_id':'enr_embed_idx',\n",
    "                               'test_id':'test_embed_idx'})"
   ]
  },
  {
   "cell_type": "markdown",
   "metadata": {},
   "source": [
    "### Save dataframes"
   ]
  },
  {
   "cell_type": "code",
   "execution_count": 138,
   "metadata": {},
   "outputs": [],
   "source": [
    "dev_df.to_csv(\"/dataset/SV_sets/voxceleb1/dataframes/voxc1_si_dataset.csv\")"
   ]
  },
  {
   "cell_type": "code",
   "execution_count": 139,
   "metadata": {},
   "outputs": [],
   "source": [
    "test_df.to_csv(\"/dataset/SV_sets/voxceleb1/dataframes/voxc1_sv_dataset.csv\")"
   ]
  },
  {
   "cell_type": "markdown",
   "metadata": {},
   "source": [
    "### Kaldi files"
   ]
  },
  {
   "cell_type": "markdown",
   "metadata": {},
   "source": [
    "#### utt2spk, spk2utt\n",
    "\n",
    "TODO: sorting order로 저장해야한다!!"
   ]
  },
  {
   "cell_type": "code",
   "execution_count": null,
   "metadata": {},
   "outputs": [],
   "source": [
    "spks = df.spk.unique().tolist()\n",
    "spk2utt_dict = dict()\n",
    "for spk in spks:\n",
    "    spk2utt_dict[spk] = ' '.join(df[df.spk == spk].index.tolist())\n",
    "\n",
    "with open(\"/dataset/SV_sets/voxceleb1/spk2utt\", \"w\") as f:\n",
    "    for spk, utt in spk2utt_dict.items():\n",
    "        f.write(spk+\" \"+utt+\"\\n\")\n",
    "\n",
    "with open(\"/dataset/SV_sets/voxceleb1/utt2spk\", \"w\") as f:\n",
    "    for idx, row in df.iterrows():\n",
    "        f.write(idx+\" \"+row.spk+\"\\n\")"
   ]
  },
  {
   "cell_type": "markdown",
   "metadata": {},
   "source": [
    "### wav.scp"
   ]
  },
  {
   "cell_type": "code",
   "execution_count": null,
   "metadata": {},
   "outputs": [],
   "source": [
    "df = pd.DataFrame(dev_wav_files, columns=['wav'])\n",
    "df = df.set_index(df.wav.apply(lambda x: '-'.join(x.split('/')[-3:]).rstrip('.wav')))\n",
    "df.index.name = None\n",
    "\n",
    "with open(\"/dataset/SV_sets/voxceleb1/wav.scp\", \"w\") as f:\n",
    "    for idx, row in df.iterrows():\n",
    "        f.write(idx+' '+row.wav+'\\n')"
   ]
  },
  {
   "cell_type": "markdown",
   "metadata": {},
   "source": [
    "## voxceleb2"
   ]
  },
  {
   "cell_type": "code",
   "execution_count": 122,
   "metadata": {},
   "outputs": [],
   "source": [
    "# voxc2 trial 기준 dataframe\n",
    "voxc2_sv_test_df = pd.read_pickle(\"/dataset/SV_sets/voxceleb12/dataframes/voxc2_sv_test_dataframe.pkl\")"
   ]
  },
  {
   "cell_type": "code",
   "execution_count": 136,
   "metadata": {
    "scrolled": true
   },
   "outputs": [
    {
     "data": {
      "text/html": [
       "<div>\n",
       "<style scoped>\n",
       "    .dataframe tbody tr th:only-of-type {\n",
       "        vertical-align: middle;\n",
       "    }\n",
       "\n",
       "    .dataframe tbody tr th {\n",
       "        vertical-align: top;\n",
       "    }\n",
       "\n",
       "    .dataframe thead th {\n",
       "        text-align: right;\n",
       "    }\n",
       "</style>\n",
       "<table border=\"1\" class=\"dataframe\">\n",
       "  <thead>\n",
       "    <tr style=\"text-align: right;\">\n",
       "      <th></th>\n",
       "      <th>spk</th>\n",
       "      <th>feat</th>\n",
       "      <th>label</th>\n",
       "    </tr>\n",
       "  </thead>\n",
       "  <tbody>\n",
       "    <tr>\n",
       "      <th>id10001-1zcIwhmdeo4-00001</th>\n",
       "      <td>id10001</td>\n",
       "      <td>id10001/1zcIwhmdeo4-00001.npy</td>\n",
       "      <td>6114</td>\n",
       "    </tr>\n",
       "    <tr>\n",
       "      <th>id10001-1zcIwhmdeo4-00002</th>\n",
       "      <td>id10001</td>\n",
       "      <td>id10001/1zcIwhmdeo4-00002.npy</td>\n",
       "      <td>6114</td>\n",
       "    </tr>\n",
       "    <tr>\n",
       "      <th>id10001-1zcIwhmdeo4-00003</th>\n",
       "      <td>id10001</td>\n",
       "      <td>id10001/1zcIwhmdeo4-00003.npy</td>\n",
       "      <td>6114</td>\n",
       "    </tr>\n",
       "    <tr>\n",
       "      <th>id10001-7gWzIy6yIIk-00001</th>\n",
       "      <td>id10001</td>\n",
       "      <td>id10001/7gWzIy6yIIk-00001.npy</td>\n",
       "      <td>6114</td>\n",
       "    </tr>\n",
       "    <tr>\n",
       "      <th>id10001-7gWzIy6yIIk-00002</th>\n",
       "      <td>id10001</td>\n",
       "      <td>id10001/7gWzIy6yIIk-00002.npy</td>\n",
       "      <td>6114</td>\n",
       "    </tr>\n",
       "    <tr>\n",
       "      <th>id10001-7gWzIy6yIIk-00003</th>\n",
       "      <td>id10001</td>\n",
       "      <td>id10001/7gWzIy6yIIk-00003.npy</td>\n",
       "      <td>6114</td>\n",
       "    </tr>\n",
       "    <tr>\n",
       "      <th>id10001-7gWzIy6yIIk-00004</th>\n",
       "      <td>id10001</td>\n",
       "      <td>id10001/7gWzIy6yIIk-00004.npy</td>\n",
       "      <td>6114</td>\n",
       "    </tr>\n",
       "    <tr>\n",
       "      <th>id10001-7w0IBEWc9Qw-00001</th>\n",
       "      <td>id10001</td>\n",
       "      <td>id10001/7w0IBEWc9Qw-00001.npy</td>\n",
       "      <td>6114</td>\n",
       "    </tr>\n",
       "    <tr>\n",
       "      <th>id10001-7w0IBEWc9Qw-00002</th>\n",
       "      <td>id10001</td>\n",
       "      <td>id10001/7w0IBEWc9Qw-00002.npy</td>\n",
       "      <td>6114</td>\n",
       "    </tr>\n",
       "    <tr>\n",
       "      <th>id10001-7w0IBEWc9Qw-00003</th>\n",
       "      <td>id10001</td>\n",
       "      <td>id10001/7w0IBEWc9Qw-00003.npy</td>\n",
       "      <td>6114</td>\n",
       "    </tr>\n",
       "    <tr>\n",
       "      <th>id10001-7w0IBEWc9Qw-00004</th>\n",
       "      <td>id10001</td>\n",
       "      <td>id10001/7w0IBEWc9Qw-00004.npy</td>\n",
       "      <td>6114</td>\n",
       "    </tr>\n",
       "    <tr>\n",
       "      <th>id10001-7w0IBEWc9Qw-00005</th>\n",
       "      <td>id10001</td>\n",
       "      <td>id10001/7w0IBEWc9Qw-00005.npy</td>\n",
       "      <td>6114</td>\n",
       "    </tr>\n",
       "    <tr>\n",
       "      <th>id10001-7w0IBEWc9Qw-00006</th>\n",
       "      <td>id10001</td>\n",
       "      <td>id10001/7w0IBEWc9Qw-00006.npy</td>\n",
       "      <td>6114</td>\n",
       "    </tr>\n",
       "    <tr>\n",
       "      <th>id10001-7w0IBEWc9Qw-00007</th>\n",
       "      <td>id10001</td>\n",
       "      <td>id10001/7w0IBEWc9Qw-00007.npy</td>\n",
       "      <td>6114</td>\n",
       "    </tr>\n",
       "    <tr>\n",
       "      <th>id10001-7w0IBEWc9Qw-00008</th>\n",
       "      <td>id10001</td>\n",
       "      <td>id10001/7w0IBEWc9Qw-00008.npy</td>\n",
       "      <td>6114</td>\n",
       "    </tr>\n",
       "    <tr>\n",
       "      <th>id10001-7w0IBEWc9Qw-00009</th>\n",
       "      <td>id10001</td>\n",
       "      <td>id10001/7w0IBEWc9Qw-00009.npy</td>\n",
       "      <td>6114</td>\n",
       "    </tr>\n",
       "    <tr>\n",
       "      <th>id10001-7w0IBEWc9Qw-00010</th>\n",
       "      <td>id10001</td>\n",
       "      <td>id10001/7w0IBEWc9Qw-00010.npy</td>\n",
       "      <td>6114</td>\n",
       "    </tr>\n",
       "    <tr>\n",
       "      <th>id10001-9mQ11vBs1wc-00001</th>\n",
       "      <td>id10001</td>\n",
       "      <td>id10001/9mQ11vBs1wc-00001.npy</td>\n",
       "      <td>6114</td>\n",
       "    </tr>\n",
       "    <tr>\n",
       "      <th>id10001-9mQ11vBs1wc-00002</th>\n",
       "      <td>id10001</td>\n",
       "      <td>id10001/9mQ11vBs1wc-00002.npy</td>\n",
       "      <td>6114</td>\n",
       "    </tr>\n",
       "    <tr>\n",
       "      <th>id10001-9mQ11vBs1wc-00003</th>\n",
       "      <td>id10001</td>\n",
       "      <td>id10001/9mQ11vBs1wc-00003.npy</td>\n",
       "      <td>6114</td>\n",
       "    </tr>\n",
       "    <tr>\n",
       "      <th>id10001-9mQ11vBs1wc-00004</th>\n",
       "      <td>id10001</td>\n",
       "      <td>id10001/9mQ11vBs1wc-00004.npy</td>\n",
       "      <td>6114</td>\n",
       "    </tr>\n",
       "    <tr>\n",
       "      <th>id10001-DtdEYdViWdw-00001</th>\n",
       "      <td>id10001</td>\n",
       "      <td>id10001/DtdEYdViWdw-00001.npy</td>\n",
       "      <td>6114</td>\n",
       "    </tr>\n",
       "    <tr>\n",
       "      <th>id10001-DtdEYdViWdw-00002</th>\n",
       "      <td>id10001</td>\n",
       "      <td>id10001/DtdEYdViWdw-00002.npy</td>\n",
       "      <td>6114</td>\n",
       "    </tr>\n",
       "    <tr>\n",
       "      <th>id10001-DtdEYdViWdw-00003</th>\n",
       "      <td>id10001</td>\n",
       "      <td>id10001/DtdEYdViWdw-00003.npy</td>\n",
       "      <td>6114</td>\n",
       "    </tr>\n",
       "    <tr>\n",
       "      <th>id10001-J9lHsKG98U8-00001</th>\n",
       "      <td>id10001</td>\n",
       "      <td>id10001/J9lHsKG98U8-00001.npy</td>\n",
       "      <td>6114</td>\n",
       "    </tr>\n",
       "    <tr>\n",
       "      <th>id10001-J9lHsKG98U8-00002</th>\n",
       "      <td>id10001</td>\n",
       "      <td>id10001/J9lHsKG98U8-00002.npy</td>\n",
       "      <td>6114</td>\n",
       "    </tr>\n",
       "    <tr>\n",
       "      <th>id10001-J9lHsKG98U8-00003</th>\n",
       "      <td>id10001</td>\n",
       "      <td>id10001/J9lHsKG98U8-00003.npy</td>\n",
       "      <td>6114</td>\n",
       "    </tr>\n",
       "    <tr>\n",
       "      <th>id10001-J9lHsKG98U8-00004</th>\n",
       "      <td>id10001</td>\n",
       "      <td>id10001/J9lHsKG98U8-00004.npy</td>\n",
       "      <td>6114</td>\n",
       "    </tr>\n",
       "    <tr>\n",
       "      <th>id10001-J9lHsKG98U8-00005</th>\n",
       "      <td>id10001</td>\n",
       "      <td>id10001/J9lHsKG98U8-00005.npy</td>\n",
       "      <td>6114</td>\n",
       "    </tr>\n",
       "    <tr>\n",
       "      <th>id10001-J9lHsKG98U8-00006</th>\n",
       "      <td>id10001</td>\n",
       "      <td>id10001/J9lHsKG98U8-00006.npy</td>\n",
       "      <td>6114</td>\n",
       "    </tr>\n",
       "    <tr>\n",
       "      <th>...</th>\n",
       "      <td>...</td>\n",
       "      <td>...</td>\n",
       "      <td>...</td>\n",
       "    </tr>\n",
       "    <tr>\n",
       "      <th>id10309-rxnN8thYzEQ-00014</th>\n",
       "      <td>id10309</td>\n",
       "      <td>id10309/rxnN8thYzEQ-00014.npy</td>\n",
       "      <td>39</td>\n",
       "    </tr>\n",
       "    <tr>\n",
       "      <th>id10309-rxnN8thYzEQ-00015</th>\n",
       "      <td>id10309</td>\n",
       "      <td>id10309/rxnN8thYzEQ-00015.npy</td>\n",
       "      <td>39</td>\n",
       "    </tr>\n",
       "    <tr>\n",
       "      <th>id10309-rxnN8thYzEQ-00016</th>\n",
       "      <td>id10309</td>\n",
       "      <td>id10309/rxnN8thYzEQ-00016.npy</td>\n",
       "      <td>39</td>\n",
       "    </tr>\n",
       "    <tr>\n",
       "      <th>id10309-rxnN8thYzEQ-00017</th>\n",
       "      <td>id10309</td>\n",
       "      <td>id10309/rxnN8thYzEQ-00017.npy</td>\n",
       "      <td>39</td>\n",
       "    </tr>\n",
       "    <tr>\n",
       "      <th>id10309-rxnN8thYzEQ-00018</th>\n",
       "      <td>id10309</td>\n",
       "      <td>id10309/rxnN8thYzEQ-00018.npy</td>\n",
       "      <td>39</td>\n",
       "    </tr>\n",
       "    <tr>\n",
       "      <th>id10309-rxnN8thYzEQ-00019</th>\n",
       "      <td>id10309</td>\n",
       "      <td>id10309/rxnN8thYzEQ-00019.npy</td>\n",
       "      <td>39</td>\n",
       "    </tr>\n",
       "    <tr>\n",
       "      <th>id10309-tGEWD2GaiDw-00001</th>\n",
       "      <td>id10309</td>\n",
       "      <td>id10309/tGEWD2GaiDw-00001.npy</td>\n",
       "      <td>39</td>\n",
       "    </tr>\n",
       "    <tr>\n",
       "      <th>id10309-tGEWD2GaiDw-00002</th>\n",
       "      <td>id10309</td>\n",
       "      <td>id10309/tGEWD2GaiDw-00002.npy</td>\n",
       "      <td>39</td>\n",
       "    </tr>\n",
       "    <tr>\n",
       "      <th>id10309-tGEWD2GaiDw-00003</th>\n",
       "      <td>id10309</td>\n",
       "      <td>id10309/tGEWD2GaiDw-00003.npy</td>\n",
       "      <td>39</td>\n",
       "    </tr>\n",
       "    <tr>\n",
       "      <th>id10309-tGEWD2GaiDw-00004</th>\n",
       "      <td>id10309</td>\n",
       "      <td>id10309/tGEWD2GaiDw-00004.npy</td>\n",
       "      <td>39</td>\n",
       "    </tr>\n",
       "    <tr>\n",
       "      <th>id10309-tGEWD2GaiDw-00005</th>\n",
       "      <td>id10309</td>\n",
       "      <td>id10309/tGEWD2GaiDw-00005.npy</td>\n",
       "      <td>39</td>\n",
       "    </tr>\n",
       "    <tr>\n",
       "      <th>id10309-tGEWD2GaiDw-00006</th>\n",
       "      <td>id10309</td>\n",
       "      <td>id10309/tGEWD2GaiDw-00006.npy</td>\n",
       "      <td>39</td>\n",
       "    </tr>\n",
       "    <tr>\n",
       "      <th>id10309-uTOEzdTJNmU-00001</th>\n",
       "      <td>id10309</td>\n",
       "      <td>id10309/uTOEzdTJNmU-00001.npy</td>\n",
       "      <td>39</td>\n",
       "    </tr>\n",
       "    <tr>\n",
       "      <th>id10309-uTOEzdTJNmU-00002</th>\n",
       "      <td>id10309</td>\n",
       "      <td>id10309/uTOEzdTJNmU-00002.npy</td>\n",
       "      <td>39</td>\n",
       "    </tr>\n",
       "    <tr>\n",
       "      <th>id10309-uTOEzdTJNmU-00003</th>\n",
       "      <td>id10309</td>\n",
       "      <td>id10309/uTOEzdTJNmU-00003.npy</td>\n",
       "      <td>39</td>\n",
       "    </tr>\n",
       "    <tr>\n",
       "      <th>id10309-vobW27_-JyQ-00001</th>\n",
       "      <td>id10309</td>\n",
       "      <td>id10309/vobW27_-JyQ-00001.npy</td>\n",
       "      <td>39</td>\n",
       "    </tr>\n",
       "    <tr>\n",
       "      <th>id10309-vobW27_-JyQ-00002</th>\n",
       "      <td>id10309</td>\n",
       "      <td>id10309/vobW27_-JyQ-00002.npy</td>\n",
       "      <td>39</td>\n",
       "    </tr>\n",
       "    <tr>\n",
       "      <th>id10309-vobW27_-JyQ-00003</th>\n",
       "      <td>id10309</td>\n",
       "      <td>id10309/vobW27_-JyQ-00003.npy</td>\n",
       "      <td>39</td>\n",
       "    </tr>\n",
       "    <tr>\n",
       "      <th>id10309-vobW27_-JyQ-00004</th>\n",
       "      <td>id10309</td>\n",
       "      <td>id10309/vobW27_-JyQ-00004.npy</td>\n",
       "      <td>39</td>\n",
       "    </tr>\n",
       "    <tr>\n",
       "      <th>id10309-vobW27_-JyQ-00005</th>\n",
       "      <td>id10309</td>\n",
       "      <td>id10309/vobW27_-JyQ-00005.npy</td>\n",
       "      <td>39</td>\n",
       "    </tr>\n",
       "    <tr>\n",
       "      <th>id10309-vobW27_-JyQ-00006</th>\n",
       "      <td>id10309</td>\n",
       "      <td>id10309/vobW27_-JyQ-00006.npy</td>\n",
       "      <td>39</td>\n",
       "    </tr>\n",
       "    <tr>\n",
       "      <th>id10309-vobW27_-JyQ-00007</th>\n",
       "      <td>id10309</td>\n",
       "      <td>id10309/vobW27_-JyQ-00007.npy</td>\n",
       "      <td>39</td>\n",
       "    </tr>\n",
       "    <tr>\n",
       "      <th>id10309-vobW27_-JyQ-00008</th>\n",
       "      <td>id10309</td>\n",
       "      <td>id10309/vobW27_-JyQ-00008.npy</td>\n",
       "      <td>39</td>\n",
       "    </tr>\n",
       "    <tr>\n",
       "      <th>id10309-vobW27_-JyQ-00009</th>\n",
       "      <td>id10309</td>\n",
       "      <td>id10309/vobW27_-JyQ-00009.npy</td>\n",
       "      <td>39</td>\n",
       "    </tr>\n",
       "    <tr>\n",
       "      <th>id10309-vobW27_-JyQ-00010</th>\n",
       "      <td>id10309</td>\n",
       "      <td>id10309/vobW27_-JyQ-00010.npy</td>\n",
       "      <td>39</td>\n",
       "    </tr>\n",
       "    <tr>\n",
       "      <th>id10309-vobW27_-JyQ-00011</th>\n",
       "      <td>id10309</td>\n",
       "      <td>id10309/vobW27_-JyQ-00011.npy</td>\n",
       "      <td>39</td>\n",
       "    </tr>\n",
       "    <tr>\n",
       "      <th>id10309-vobW27_-JyQ-00012</th>\n",
       "      <td>id10309</td>\n",
       "      <td>id10309/vobW27_-JyQ-00012.npy</td>\n",
       "      <td>39</td>\n",
       "    </tr>\n",
       "    <tr>\n",
       "      <th>id10309-vobW27_-JyQ-00013</th>\n",
       "      <td>id10309</td>\n",
       "      <td>id10309/vobW27_-JyQ-00013.npy</td>\n",
       "      <td>39</td>\n",
       "    </tr>\n",
       "    <tr>\n",
       "      <th>id10309-vobW27_-JyQ-00014</th>\n",
       "      <td>id10309</td>\n",
       "      <td>id10309/vobW27_-JyQ-00014.npy</td>\n",
       "      <td>39</td>\n",
       "    </tr>\n",
       "    <tr>\n",
       "      <th>id10309-vobW27_-JyQ-00015</th>\n",
       "      <td>id10309</td>\n",
       "      <td>id10309/vobW27_-JyQ-00015.npy</td>\n",
       "      <td>39</td>\n",
       "    </tr>\n",
       "  </tbody>\n",
       "</table>\n",
       "<p>153516 rows × 3 columns</p>\n",
       "</div>"
      ],
      "text/plain": [
       "                               spk                           feat  label\n",
       "id10001-1zcIwhmdeo4-00001  id10001  id10001/1zcIwhmdeo4-00001.npy   6114\n",
       "id10001-1zcIwhmdeo4-00002  id10001  id10001/1zcIwhmdeo4-00002.npy   6114\n",
       "id10001-1zcIwhmdeo4-00003  id10001  id10001/1zcIwhmdeo4-00003.npy   6114\n",
       "id10001-7gWzIy6yIIk-00001  id10001  id10001/7gWzIy6yIIk-00001.npy   6114\n",
       "id10001-7gWzIy6yIIk-00002  id10001  id10001/7gWzIy6yIIk-00002.npy   6114\n",
       "id10001-7gWzIy6yIIk-00003  id10001  id10001/7gWzIy6yIIk-00003.npy   6114\n",
       "id10001-7gWzIy6yIIk-00004  id10001  id10001/7gWzIy6yIIk-00004.npy   6114\n",
       "id10001-7w0IBEWc9Qw-00001  id10001  id10001/7w0IBEWc9Qw-00001.npy   6114\n",
       "id10001-7w0IBEWc9Qw-00002  id10001  id10001/7w0IBEWc9Qw-00002.npy   6114\n",
       "id10001-7w0IBEWc9Qw-00003  id10001  id10001/7w0IBEWc9Qw-00003.npy   6114\n",
       "id10001-7w0IBEWc9Qw-00004  id10001  id10001/7w0IBEWc9Qw-00004.npy   6114\n",
       "id10001-7w0IBEWc9Qw-00005  id10001  id10001/7w0IBEWc9Qw-00005.npy   6114\n",
       "id10001-7w0IBEWc9Qw-00006  id10001  id10001/7w0IBEWc9Qw-00006.npy   6114\n",
       "id10001-7w0IBEWc9Qw-00007  id10001  id10001/7w0IBEWc9Qw-00007.npy   6114\n",
       "id10001-7w0IBEWc9Qw-00008  id10001  id10001/7w0IBEWc9Qw-00008.npy   6114\n",
       "id10001-7w0IBEWc9Qw-00009  id10001  id10001/7w0IBEWc9Qw-00009.npy   6114\n",
       "id10001-7w0IBEWc9Qw-00010  id10001  id10001/7w0IBEWc9Qw-00010.npy   6114\n",
       "id10001-9mQ11vBs1wc-00001  id10001  id10001/9mQ11vBs1wc-00001.npy   6114\n",
       "id10001-9mQ11vBs1wc-00002  id10001  id10001/9mQ11vBs1wc-00002.npy   6114\n",
       "id10001-9mQ11vBs1wc-00003  id10001  id10001/9mQ11vBs1wc-00003.npy   6114\n",
       "id10001-9mQ11vBs1wc-00004  id10001  id10001/9mQ11vBs1wc-00004.npy   6114\n",
       "id10001-DtdEYdViWdw-00001  id10001  id10001/DtdEYdViWdw-00001.npy   6114\n",
       "id10001-DtdEYdViWdw-00002  id10001  id10001/DtdEYdViWdw-00002.npy   6114\n",
       "id10001-DtdEYdViWdw-00003  id10001  id10001/DtdEYdViWdw-00003.npy   6114\n",
       "id10001-J9lHsKG98U8-00001  id10001  id10001/J9lHsKG98U8-00001.npy   6114\n",
       "id10001-J9lHsKG98U8-00002  id10001  id10001/J9lHsKG98U8-00002.npy   6114\n",
       "id10001-J9lHsKG98U8-00003  id10001  id10001/J9lHsKG98U8-00003.npy   6114\n",
       "id10001-J9lHsKG98U8-00004  id10001  id10001/J9lHsKG98U8-00004.npy   6114\n",
       "id10001-J9lHsKG98U8-00005  id10001  id10001/J9lHsKG98U8-00005.npy   6114\n",
       "id10001-J9lHsKG98U8-00006  id10001  id10001/J9lHsKG98U8-00006.npy   6114\n",
       "...                            ...                            ...    ...\n",
       "id10309-rxnN8thYzEQ-00014  id10309  id10309/rxnN8thYzEQ-00014.npy     39\n",
       "id10309-rxnN8thYzEQ-00015  id10309  id10309/rxnN8thYzEQ-00015.npy     39\n",
       "id10309-rxnN8thYzEQ-00016  id10309  id10309/rxnN8thYzEQ-00016.npy     39\n",
       "id10309-rxnN8thYzEQ-00017  id10309  id10309/rxnN8thYzEQ-00017.npy     39\n",
       "id10309-rxnN8thYzEQ-00018  id10309  id10309/rxnN8thYzEQ-00018.npy     39\n",
       "id10309-rxnN8thYzEQ-00019  id10309  id10309/rxnN8thYzEQ-00019.npy     39\n",
       "id10309-tGEWD2GaiDw-00001  id10309  id10309/tGEWD2GaiDw-00001.npy     39\n",
       "id10309-tGEWD2GaiDw-00002  id10309  id10309/tGEWD2GaiDw-00002.npy     39\n",
       "id10309-tGEWD2GaiDw-00003  id10309  id10309/tGEWD2GaiDw-00003.npy     39\n",
       "id10309-tGEWD2GaiDw-00004  id10309  id10309/tGEWD2GaiDw-00004.npy     39\n",
       "id10309-tGEWD2GaiDw-00005  id10309  id10309/tGEWD2GaiDw-00005.npy     39\n",
       "id10309-tGEWD2GaiDw-00006  id10309  id10309/tGEWD2GaiDw-00006.npy     39\n",
       "id10309-uTOEzdTJNmU-00001  id10309  id10309/uTOEzdTJNmU-00001.npy     39\n",
       "id10309-uTOEzdTJNmU-00002  id10309  id10309/uTOEzdTJNmU-00002.npy     39\n",
       "id10309-uTOEzdTJNmU-00003  id10309  id10309/uTOEzdTJNmU-00003.npy     39\n",
       "id10309-vobW27_-JyQ-00001  id10309  id10309/vobW27_-JyQ-00001.npy     39\n",
       "id10309-vobW27_-JyQ-00002  id10309  id10309/vobW27_-JyQ-00002.npy     39\n",
       "id10309-vobW27_-JyQ-00003  id10309  id10309/vobW27_-JyQ-00003.npy     39\n",
       "id10309-vobW27_-JyQ-00004  id10309  id10309/vobW27_-JyQ-00004.npy     39\n",
       "id10309-vobW27_-JyQ-00005  id10309  id10309/vobW27_-JyQ-00005.npy     39\n",
       "id10309-vobW27_-JyQ-00006  id10309  id10309/vobW27_-JyQ-00006.npy     39\n",
       "id10309-vobW27_-JyQ-00007  id10309  id10309/vobW27_-JyQ-00007.npy     39\n",
       "id10309-vobW27_-JyQ-00008  id10309  id10309/vobW27_-JyQ-00008.npy     39\n",
       "id10309-vobW27_-JyQ-00009  id10309  id10309/vobW27_-JyQ-00009.npy     39\n",
       "id10309-vobW27_-JyQ-00010  id10309  id10309/vobW27_-JyQ-00010.npy     39\n",
       "id10309-vobW27_-JyQ-00011  id10309  id10309/vobW27_-JyQ-00011.npy     39\n",
       "id10309-vobW27_-JyQ-00012  id10309  id10309/vobW27_-JyQ-00012.npy     39\n",
       "id10309-vobW27_-JyQ-00013  id10309  id10309/vobW27_-JyQ-00013.npy     39\n",
       "id10309-vobW27_-JyQ-00014  id10309  id10309/vobW27_-JyQ-00014.npy     39\n",
       "id10309-vobW27_-JyQ-00015  id10309  id10309/vobW27_-JyQ-00015.npy     39\n",
       "\n",
       "[153516 rows x 3 columns]"
      ]
     },
     "execution_count": 136,
     "metadata": {},
     "output_type": "execute_result"
    }
   ],
   "source": [
    "voxc2_sv_test_df"
   ]
  },
  {
   "cell_type": "markdown",
   "metadata": {},
   "source": [
    "### trials"
   ]
  },
  {
   "cell_type": "code",
   "execution_count": null,
   "metadata": {},
   "outputs": [],
   "source": [
    "voxc2_all_trial_df = pd.read_pickle(\"/dataset/SV_sets/voxceleb12/dataframes/voxc2_trials/voxc2_all_trials.pkl\")\n",
    "voxc2_all_trial_df['enroll_spk']     = voxc2_all_trial_df.enroll_idx.apply(lambda x: x[:7])\n",
    "voxc2_all_trial_df['test_spk']       = voxc2_all_trial_df.test_idx.apply(lambda x: x[:7])\n",
    "voxc2_all_trial_df.to_pickle(\"/dataset/SV_sets/voxceleb12/dataframes/voxc2_trials/voxc2_all_trials.pkl\")"
   ]
  },
  {
   "cell_type": "code",
   "execution_count": null,
   "metadata": {},
   "outputs": [],
   "source": [
    "voxc2_hard_trial_df = pd.read_pickle(\"/dataset/SV_sets/voxceleb12/dataframes/voxc2_trials/voxc2_hard_trial.pkl\")\n",
    "voxc2_hard_trial_df['enroll_spk']     = voxc2_all_trial_df.enroll_idx.apply(lambda x: x[:7])\n",
    "voxc2_hard_trial_df['test_spk']       = voxc2_all_trial_df.test_idx.apply(lambda x: x[:7])\n",
    "voxc2_hard_trial_df.to_pickle(\"/dataset/SV_sets/voxceleb12/dataframes/voxc2_trials/voxc2_hard_trials.pkl\")"
   ]
  },
  {
   "cell_type": "code",
   "execution_count": null,
   "metadata": {},
   "outputs": [],
   "source": [
    "voxc2_all_trial_df['is_target'] = voxc2_all_trial_df.label.apply(lambda x: 'target' if x==1 else 'nontarget')\n",
    "voxc2_all_trial_df.to_csv(\"/dataset/SV_sets/voxceleb12/kaldi_files/voxc2_all_sv\", sep=' ', header=False, index=False, columns=['enroll_idx', 'test_idx', 'is_target'])"
   ]
  },
  {
   "cell_type": "code",
   "execution_count": null,
   "metadata": {},
   "outputs": [],
   "source": [
    "voxc2_hard_trial_df['is_target'] = voxc2_hard_trial_df.label.apply(lambda x: 'target' if x==1 else 'nontarget')\n",
    "voxc2_hard_trial_df.to_csv(\"/dataset/SV_sets/voxceleb12/kaldi_files/voxc2_hard_sv\", sep=' ', header=False, index=False, columns=['enroll_idx', 'test_idx', 'is_target'])"
   ]
  },
  {
   "cell_type": "markdown",
   "metadata": {},
   "source": [
    "### utt2spk spk2utt"
   ]
  },
  {
   "cell_type": "code",
   "execution_count": null,
   "metadata": {},
   "outputs": [],
   "source": [
    "spk2utt = voxc2_si_train_df.sort_values(\"spk\").groupby(\"spk\").apply(lambda x: x.uttr_id.values)"
   ]
  },
  {
   "cell_type": "code",
   "execution_count": null,
   "metadata": {},
   "outputs": [],
   "source": [
    "with open(\"/dataset/SV_sets/gcommand/kaldi_files/spk2utt\", \"w\") as f:\n",
    "    for k, v in spk2utt.iteritems():\n",
    "        line = ' '.join([k]+v.tolist())\n",
    "        f.write(line+'\\n')"
   ]
  },
  {
   "cell_type": "code",
   "execution_count": null,
   "metadata": {},
   "outputs": [],
   "source": [
    "utt2spk = all_gcommand_df.sort_values(\"uttr_id\")['spk']"
   ]
  },
  {
   "cell_type": "code",
   "execution_count": null,
   "metadata": {},
   "outputs": [],
   "source": [
    "with open(\"/dataset/SV_sets/gcommand/kaldi_files/utt2spk\", \"w\") as f:\n",
    "    for k, v in utt2spk.iteritems():\n",
    "        line = ' '.join([k, v])\n",
    "        f.write(line+'\\n')"
   ]
  },
  {
   "cell_type": "markdown",
   "metadata": {},
   "source": [
    "## Voxceleb 1 + 2"
   ]
  },
  {
   "cell_type": "markdown",
   "metadata": {},
   "source": [
    "### voxc12 dataframes"
   ]
  },
  {
   "cell_type": "code",
   "execution_count": null,
   "metadata": {},
   "outputs": [],
   "source": [
    "voxc12_dev = \"/dataset/SV_sets/voxceleb12/feats//\"\n",
    "voxc12_test = \"/dataset/SV_sets/voxceleb12/feats/mfcc30_test/\""
   ]
  },
  {
   "cell_type": "code",
   "execution_count": null,
   "metadata": {},
   "outputs": [],
   "source": [
    "def append_dir(file):\n",
    "    return os.path.join(dirpath, file)"
   ]
  },
  {
   "cell_type": "code",
   "execution_count": null,
   "metadata": {},
   "outputs": [],
   "source": [
    "dev_npy_files = []\n",
    "for dirpath, dirnames, filenames in os.walk(voxc12_dev):\n",
    "    if len(filenames) == 0: continue\n",
    "    dev_npy_files += list(map(append_dir, filenames))\n",
    "\n",
    "test_npy_files = []\n",
    "for dirpath, dirnames, filenames in os.walk(voxc12_test):\n",
    "    if len(filenames) == 0: continue\n",
    "    test_npy_files += list(map(append_dir, filenames))"
   ]
  },
  {
   "cell_type": "code",
   "execution_count": null,
   "metadata": {},
   "outputs": [],
   "source": [
    "# voxc12_df = pd.DataFrame(dev_npy_files, columns=['wav'])\n",
    "voxc12_df = pd.DataFrame(test_npy_files, columns=['wav'])"
   ]
  },
  {
   "cell_type": "code",
   "execution_count": null,
   "metadata": {},
   "outputs": [],
   "source": [
    "voxc12_df['spk']  = voxc12_df.wav.apply(lambda x: x.split('/')[-2])\n",
    "voxc12_df = voxc12_df.set_index(voxc12_df.wav.apply(lambda x: '-'.join(x.split('/')[-2:]).rstrip('. npy')))\n",
    "voxc12_df.index.name = None\n",
    "voxc12_df['feat'] = voxc12_df.wav.apply(lambda x: '/'.join(x.split('/')[-2:]))\n",
    "voxc12_df = voxc12_df.drop(columns=\"wav\")\n",
    "\n",
    "voxc12_spks = voxc12_df.spk.unique().tolist()"
   ]
  },
  {
   "cell_type": "code",
   "execution_count": null,
   "metadata": {},
   "outputs": [],
   "source": [
    "voxc12_df['label'] = voxc12_df.groupby('spk').ngroup()"
   ]
  },
  {
   "cell_type": "code",
   "execution_count": null,
   "metadata": {},
   "outputs": [],
   "source": [
    "voxc12_df.to_pickle(\"/dataset/SV_sets/voxceleb12/dataframes/voxc12_sv_test_dataframe.pkl\")"
   ]
  },
  {
   "cell_type": "markdown",
   "metadata": {},
   "source": [
    "### voxc1_dev dataframe"
   ]
  },
  {
   "cell_type": "code",
   "execution_count": null,
   "metadata": {},
   "outputs": [],
   "source": [
    "voxc12_dev_df = pd.read_pickle(\"/dataset/SV_sets/voxceleb12/dataframes/voxc12_si_train_dataframe.pkl\")\n",
    "voxc12_dev_spks = voxc12_dev_df.spk.unique().tolist()"
   ]
  },
  {
   "cell_type": "code",
   "execution_count": null,
   "metadata": {},
   "outputs": [],
   "source": [
    "voxc1_dev_spks = [spk for spk in voxc12_dev_spks if spk.startswith('id1')]\n",
    "voxc1_dev_df = voxc12_dev_df[voxc12_dev_df.spk.isin(voxc1_dev_spks)]"
   ]
  },
  {
   "cell_type": "code",
   "execution_count": null,
   "metadata": {},
   "outputs": [],
   "source": [
    "voxc1_dev_df.loc[:, 'label'] = voxc1_dev_df.groupby('spk').ngroup()"
   ]
  },
  {
   "cell_type": "code",
   "execution_count": null,
   "metadata": {},
   "outputs": [],
   "source": [
    "voxc1_dev_df.to_pickle(\"/dataset/SV_sets/voxceleb12/dataframes/voxc1_si_train_dataframe.pkl\")"
   ]
  },
  {
   "cell_type": "markdown",
   "metadata": {},
   "source": [
    "#### session label\n"
   ]
  },
  {
   "cell_type": "code",
   "execution_count": null,
   "metadata": {},
   "outputs": [],
   "source": [
    "voxc1_dev_df = pd.read_pickle(\"/dataset/SV_sets/voxceleb12/dataframes/voxc1_si_train_dataframe.pkl\")"
   ]
  },
  {
   "cell_type": "code",
   "execution_count": null,
   "metadata": {},
   "outputs": [],
   "source": [
    "valid_session = voxc1_dev_df.session.value_counts()[voxc1_dev_df.session.value_counts() > 7].index.tolist()"
   ]
  },
  {
   "cell_type": "code",
   "execution_count": null,
   "metadata": {},
   "outputs": [],
   "source": [
    "voxc1_dev_df[voxc1_dev_df.session.isin(valid_session)]"
   ]
  },
  {
   "cell_type": "markdown",
   "metadata": {},
   "source": [
    "### speaker identificaiton data split "
   ]
  },
  {
   "cell_type": "code",
   "execution_count": null,
   "metadata": {},
   "outputs": [],
   "source": [
    "voxc12_dev_df['session'] = voxc12_dev_df.index"
   ]
  },
  {
   "cell_type": "code",
   "execution_count": null,
   "metadata": {},
   "outputs": [],
   "source": [
    "voxc12_dev_df['session'] = voxc12_dev_df.session.apply(lambda x: x[8:-6])"
   ]
  },
  {
   "cell_type": "code",
   "execution_count": null,
   "metadata": {},
   "outputs": [],
   "source": [
    "voxc12_dev_test_sessions = voxc12_dev_df.groupby('spk').apply(lambda x: x.session.sample(n=1))"
   ]
  },
  {
   "cell_type": "code",
   "execution_count": null,
   "metadata": {},
   "outputs": [],
   "source": [
    "voxc12_dev_df['set'] = 'train'"
   ]
  },
  {
   "cell_type": "code",
   "execution_count": null,
   "metadata": {},
   "outputs": [],
   "source": [
    "voxc12_dev_df.loc[voxc12_dev_df.session.isin(voxc12_dev_test_sessions), 'set'] = 'val'"
   ]
  },
  {
   "cell_type": "code",
   "execution_count": null,
   "metadata": {},
   "outputs": [],
   "source": [
    "len(voxc12_dev_df[voxc12_dev_df.set == 'val']) / len(voxc12_dev_df)"
   ]
  },
  {
   "cell_type": "code",
   "execution_count": null,
   "metadata": {},
   "outputs": [],
   "source": [
    "voxc12_dev_df.to_pickle('/dataset/SV_sets/voxceleb12/dataframes/voxc12_si_train_dataframe.pkl')"
   ]
  },
  {
   "cell_type": "markdown",
   "metadata": {},
   "source": [
    "### gender split"
   ]
  },
  {
   "cell_type": "code",
   "execution_count": null,
   "metadata": {},
   "outputs": [],
   "source": [
    "voxc1_dev_df = pd.read_pickle(\"/dataset/SV_sets/voxceleb12/dataframes/voxc1_si_train_dataframe.pkl\")\n",
    "voxc1_meta = pd.read_csv(\"/dataset/SV_sets/voxceleb12/vox1_meta.csv\")\n",
    "voxc1_meta = voxc1_meta.set_index('VoxCeleb1 ID')\n",
    "voxc1_dev_df['gender'] = voxc1_dev_df.spk.apply(lambda x: voxc1_meta.loc[x].Gender)\n",
    "voxc1_dev_df.to_pickle(\"/dataset/SV_sets/voxceleb12/dataframes/voxc1_si_train_dataframe.pkl\")"
   ]
  },
  {
   "cell_type": "code",
   "execution_count": null,
   "metadata": {},
   "outputs": [],
   "source": [
    "voxc1_test_df = pd.read_pickle(\"/dataset/SV_sets/voxceleb12/dataframes/voxc12_sv_test_dataframe.pkl\")\n",
    "voxc1_meta = pd.read_csv(\"/dataset/SV_sets/voxceleb12/vox1_meta.csv\")\n",
    "voxc1_meta = voxc1_meta.set_index('VoxCeleb1 ID')\n",
    "voxc1_test_df['gender'] = voxc1_test_df.spk.apply(lambda x: voxc1_meta.loc[x].Gender)\n",
    "voxc1_test_df.to_pickle(\"/dataset/SV_sets/voxceleb12/dataframes/voxc12_sv_test_dataframe.pkl\")"
   ]
  },
  {
   "cell_type": "code",
   "execution_count": null,
   "metadata": {},
   "outputs": [],
   "source": [
    "voxc1_dev_m = voxc1_dev_df[voxc1_dev_df.gender == 'm']\n",
    "voxc1_dev_f = voxc1_dev_df[voxc1_dev_df.gender == 'f']"
   ]
  },
  {
   "cell_type": "code",
   "execution_count": null,
   "metadata": {},
   "outputs": [],
   "source": [
    "voxc1_dev_m['label'] = voxc1_dev_m.groupby('spk').ngroup()\n",
    "voxc1_dev_f['label'] = voxc1_dev_f.groupby('spk').ngroup()"
   ]
  },
  {
   "cell_type": "code",
   "execution_count": null,
   "metadata": {},
   "outputs": [],
   "source": [
    "voxc1_dev_m.to_pickle(\"/dataset/SV_sets/voxceleb12/dataframes/voxc1_m_si_train_dataframe.pkl\")\n",
    "voxc1_dev_f.to_pickle(\"/dataset/SV_sets/voxceleb12/dataframes/voxc1_f_si_train_dataframe.pkl\")"
   ]
  },
  {
   "cell_type": "code",
   "execution_count": null,
   "metadata": {},
   "outputs": [],
   "source": [
    "voxc1_meta.to_pickle(\"/dataset/SV_sets/voxceleb12/dataframes/voxc1_meta.pkl\")"
   ]
  },
  {
   "cell_type": "markdown",
   "metadata": {},
   "source": [
    "### trial\n",
    "\n",
    "여러 trial이 있지만 일단은 voxc1의 sv_set을 사용하는 trial을 공용 trial로 지정했다."
   ]
  },
  {
   "cell_type": "code",
   "execution_count": null,
   "metadata": {},
   "outputs": [],
   "source": [
    "voxc1_test_df = pd.read_pickle(\"/dataset/SV_sets/voxceleb12/dataframes/voxc12_sv_test_dataframe.pkl\") # id의 기준이 되는 df\n",
    "voxc1_test_spks = voxc1_test_df.spk.unique().tolist()"
   ]
  },
  {
   "cell_type": "code",
   "execution_count": null,
   "metadata": {},
   "outputs": [],
   "source": [
    "voxc1_trial = pd.read_csv(\"/dataset/SV_sets/voxceleb12/trial_data/veri_test.txt\", sep=' ', header=None)\n",
    "voxc1_trial.columns = ['label', 'enroll', 'test']"
   ]
  },
  {
   "cell_type": "code",
   "execution_count": null,
   "metadata": {},
   "outputs": [],
   "source": [
    "enroll_idx = voxc1_trial.enroll.apply(lambda x: x.replace('/', '-').rstrip('.wav'))\n",
    "test_idx = voxc1_trial.test.apply(lambda x: x.replace('/', '-').rstrip('.wav'))\n",
    "\n",
    "voxc1_trial['enroll_idx'] = enroll_idx\n",
    "voxc1_trial['test_idx'] = test_idx"
   ]
  },
  {
   "cell_type": "code",
   "execution_count": null,
   "metadata": {},
   "outputs": [],
   "source": [
    "enroll_num_idx = voxc1_trial.enroll_idx.apply(lambda x: voxc1_test_df.index.get_loc(x))\n",
    "test_num_idx = voxc1_trial.test_idx.apply(lambda x: voxc1_test_df.index.get_loc(x))\n",
    "\n",
    "voxc1_trial['enrolment_id'] = enroll_num_idx\n",
    "voxc1_trial['test_id'] = test_num_idx"
   ]
  },
  {
   "cell_type": "code",
   "execution_count": null,
   "metadata": {},
   "outputs": [],
   "source": [
    "voxc1_trial = voxc1_trial.drop(columns=['enroll', 'test'])"
   ]
  },
  {
   "cell_type": "code",
   "execution_count": null,
   "metadata": {},
   "outputs": [],
   "source": [
    "voxc1_trial.to_pickle(\"/dataset/SV_sets/voxceleb12/dataframes/voxc12_test_trial.pkl\")"
   ]
  },
  {
   "cell_type": "markdown",
   "metadata": {},
   "source": [
    "plda를 위한 trial file"
   ]
  },
  {
   "cell_type": "code",
   "execution_count": null,
   "metadata": {},
   "outputs": [],
   "source": [
    "voxc1_trial['is_target'] = voxc1_trial.label.apply(lambda x: 'target' if x==1 else 'nontarget')"
   ]
  },
  {
   "cell_type": "code",
   "execution_count": null,
   "metadata": {},
   "outputs": [],
   "source": [
    "voxc1_trial.to_csv(\"/dataset/SV_sets/voxceleb12/trials/voxceleb12_sv\", sep=' ', header=False, index=False, columns=['enroll_idx', 'test_idx', 'is_target'])"
   ]
  },
  {
   "cell_type": "markdown",
   "metadata": {},
   "source": [
    "#### female-female case를 많이 추가한 trial"
   ]
  },
  {
   "cell_type": "code",
   "execution_count": null,
   "metadata": {},
   "outputs": [],
   "source": [
    "voxc1_m_spks = voxc1_meta[voxc1_meta.Gender == 'm'].index.tolist()"
   ]
  },
  {
   "cell_type": "code",
   "execution_count": null,
   "metadata": {},
   "outputs": [],
   "source": [
    "voxc1_f_spks = voxc1_meta[voxc1_meta.Gender == 'f'].index.tolist()"
   ]
  },
  {
   "cell_type": "code",
   "execution_count": null,
   "metadata": {},
   "outputs": [],
   "source": [
    "voxc1_test_m_spks = [spk for spk in voxc1_test_spks if spk in voxc1_m_spks]"
   ]
  },
  {
   "cell_type": "code",
   "execution_count": null,
   "metadata": {},
   "outputs": [],
   "source": [
    "voxc1_test_f_spks = [spk for spk in voxc1_test_spks if spk in voxc1_f_spks]"
   ]
  },
  {
   "cell_type": "code",
   "execution_count": null,
   "metadata": {},
   "outputs": [],
   "source": [
    "# positive pair\n",
    "import itertools\n",
    "pos_trials = []\n",
    "pos_len = dict()\n",
    "for spk in voxc1_test_spks:\n",
    "    utters = voxc1_test_df[voxc1_test_df.spk == spk].index\n",
    "    every_pos_pair = list(filter(diff_session, itertools.combinations(utters, 2)))\n",
    "    pos_trials += every_pos_pair\n",
    "    pos_len[spk] = len(every_pos_pair) "
   ]
  },
  {
   "cell_type": "code",
   "execution_count": null,
   "metadata": {},
   "outputs": [],
   "source": [
    "def diff_session(pair):\n",
    "    a, b = pair\n",
    "    if a[8:19] != b[8:19]:\n",
    "        return True\n",
    "    else:\n",
    "        return False"
   ]
  },
  {
   "cell_type": "code",
   "execution_count": null,
   "metadata": {},
   "outputs": [],
   "source": [
    "# negative m pair\n",
    "import itertools\n",
    "import random\n",
    "neg_m_trials = []\n",
    "for spk in voxc1_test_m_spks:\n",
    "    utters = voxc1_test_df[ (voxc1_test_df.spk == spk)].index.tolist()\n",
    "    neg_targets = voxc1_test_df[(voxc1_test_df.gender == 'm') & (voxc1_test_df.spk != spk)].index.tolist()\n",
    "    total_pairs = list(itertools.product(utters, neg_targets))\n",
    "    neg_m_trials += list(filter(diff_session, total_pairs))"
   ]
  },
  {
   "cell_type": "code",
   "execution_count": null,
   "metadata": {},
   "outputs": [],
   "source": [
    "# negative f pair\n",
    "import itertools\n",
    "import random\n",
    "neg_f_trials = []\n",
    "for spk in voxc1_test_f_spks:\n",
    "    utters = voxc1_test_df[ (voxc1_test_df.spk == spk)].index.tolist()\n",
    "    neg_targets = voxc1_test_df[(voxc1_test_df.gender == 'f') & (voxc1_test_df.spk != spk)].index.tolist()\n",
    "    total_pairs = list(itertools.product(utters, neg_targets))\n",
    "    neg_f_trials += list(filter(diff_session, total_pairs))"
   ]
  },
  {
   "cell_type": "code",
   "execution_count": null,
   "metadata": {},
   "outputs": [],
   "source": [
    "pos_trials = random.choices(pos_trials, k=10000)"
   ]
  },
  {
   "cell_type": "code",
   "execution_count": null,
   "metadata": {},
   "outputs": [],
   "source": [
    "neg_m_trials = random.choices(neg_m_trials, k=int(len(pos_trials)/2))"
   ]
  },
  {
   "cell_type": "code",
   "execution_count": null,
   "metadata": {},
   "outputs": [],
   "source": [
    "neg_f_trials = random.choices(neg_f_trials, k=int(len(pos_trials)/2))"
   ]
  },
  {
   "cell_type": "code",
   "execution_count": null,
   "metadata": {},
   "outputs": [],
   "source": [
    "neg_trials = neg_m_trials + neg_f_trials"
   ]
  },
  {
   "cell_type": "code",
   "execution_count": null,
   "metadata": {},
   "outputs": [],
   "source": [
    "voxc1_trials = pos_trials + neg_trials\n",
    "voxc1_trial_df = pd.DataFrame(voxc1_trials, columns=[\"enroll_idx\", \"test_idx\"])"
   ]
  },
  {
   "cell_type": "code",
   "execution_count": null,
   "metadata": {},
   "outputs": [],
   "source": [
    "voxc1_trial_df['enroll_uttr_id'] = voxc1_trial_df.enroll_idx.apply(lambda x: voxc1_test_df.index.get_loc(x))\n",
    "voxc1_trial_df['test_uttr_id'] = voxc1_trial_df.test_idx.apply(lambda x: voxc1_test_df.index.get_loc(x))\n",
    "voxc1_trial_df['enroll_spk'] = voxc1_trial_df.enroll_idx.apply(lambda x: x[:7])\n",
    "voxc1_trial_df['test_spk'] = voxc1_trial_df.test_idx.apply(lambda x: x[:7])\n",
    "voxc1_trial_df['label'] = [1]*len(pos_trials) + [0]*len(neg_trials)\n",
    "voxc1_trial_df.to_pickle(\"/dataset/SV_sets/voxceleb12/dataframes/voxc12_bal_sv_test_dataframe.pkl\")"
   ]
  },
  {
   "cell_type": "code",
   "execution_count": null,
   "metadata": {},
   "outputs": [],
   "source": [
    "voxc1_trial_df['is_target'] = voxc1_trial_df.label.apply(lambda x: 'target' if x==1 else 'nontarget')\n",
    "voxc1_trial_df.to_csv(\"/dataset/SV_sets/voxceleb12/trials/voxceleb12_bal_sv\", sep=' ', header=False, index=False, columns=['enroll_idx', 'test_idx', 'is_target'])"
   ]
  },
  {
   "cell_type": "markdown",
   "metadata": {},
   "source": [
    "## gcommand "
   ]
  },
  {
   "cell_type": "code",
   "execution_count": null,
   "metadata": {},
   "outputs": [],
   "source": [
    "gcommand_train_df = pd.read_pickle(\"/dataset/SV_sets/gcommand/dataframes/equal_num_30spk/equal_num_30spk_si.pkl\")\n",
    "gcommand_test_df = pd.read_pickle(\"/dataset/SV_sets/gcommand/dataframes/equal_num_30spk/equal_num_30spk_sv.pkl\")"
   ]
  },
  {
   "cell_type": "code",
   "execution_count": null,
   "metadata": {},
   "outputs": [],
   "source": [
    "val_uttrs_idx = gcommand_train_df.groupby('spk', group_keys=False).apply(lambda x: x.sample(n=2)).index"
   ]
  },
  {
   "cell_type": "code",
   "execution_count": null,
   "metadata": {},
   "outputs": [],
   "source": [
    "gcommand_train_df.set = 'train'"
   ]
  },
  {
   "cell_type": "code",
   "execution_count": null,
   "metadata": {},
   "outputs": [],
   "source": [
    "gcommand_train_df.label"
   ]
  },
  {
   "cell_type": "code",
   "execution_count": null,
   "metadata": {},
   "outputs": [],
   "source": [
    "gcommand_train_df.loc[val_uttrs_idx, 'set'] = 'val'"
   ]
  },
  {
   "cell_type": "code",
   "execution_count": null,
   "metadata": {},
   "outputs": [],
   "source": [
    "gcommand_train_df.set.value_counts()"
   ]
  },
  {
   "cell_type": "code",
   "execution_count": null,
   "metadata": {},
   "outputs": [],
   "source": [
    "gcommand_train_df.to_pickle(\"/dataset/SV_sets/gcommand/dataframes/equal_num_30spk/equal_num_30spk_si.pkl\")"
   ]
  },
  {
   "cell_type": "code",
   "execution_count": null,
   "metadata": {},
   "outputs": [],
   "source": [
    "all_gcommands_df = pd.read_pickle(\"/dataset/SV_sets/gcommand/dataframes/all_gcommands.pkl\")"
   ]
  },
  {
   "cell_type": "markdown",
   "metadata": {},
   "source": [
    "### utt2spk spk2utt"
   ]
  },
  {
   "cell_type": "code",
   "execution_count": null,
   "metadata": {},
   "outputs": [],
   "source": [
    "spk2utt = gcommand_train_df.sort_values(\"spk\").groupby(\"spk\").apply(lambda x: x.uttr_id.values)"
   ]
  },
  {
   "cell_type": "code",
   "execution_count": null,
   "metadata": {},
   "outputs": [],
   "source": [
    "with open(\"/dataset/SV_sets/gcommand/kaldi_files/train_spk2utt\", \"w\") as f:\n",
    "    for k, v in spk2utt.iteritems():\n",
    "        line = ' '.join([k]+v.tolist())\n",
    "        f.write(line+'\\n')"
   ]
  },
  {
   "cell_type": "code",
   "execution_count": null,
   "metadata": {},
   "outputs": [],
   "source": [
    "utt2spk = gcommand_train_df.sort_values(\"uttr_id\")['spk']"
   ]
  },
  {
   "cell_type": "code",
   "execution_count": null,
   "metadata": {},
   "outputs": [],
   "source": [
    "with open(\"/dataset/SV_sets/gcommand/kaldi_files/train_utt2spk\", \"w\") as f:\n",
    "    for k, v in utt2spk.iteritems():\n",
    "        line = ' '.join([k, v])\n",
    "        f.write(line+'\\n')"
   ]
  },
  {
   "cell_type": "markdown",
   "metadata": {},
   "source": [
    "### trials (self-made)"
   ]
  },
  {
   "cell_type": "code",
   "execution_count": null,
   "metadata": {},
   "outputs": [],
   "source": [
    "gcommand_test_spks = gcommand_test_df.spk.unique().tolist()"
   ]
  },
  {
   "cell_type": "code",
   "execution_count": null,
   "metadata": {},
   "outputs": [],
   "source": [
    "# positive pair\n",
    "import itertools\n",
    "pos_trials = []\n",
    "pos_len = []\n",
    "for spk in gcommand_test_spks:\n",
    "    utters = gcommand_test_df[gcommand_test_df.spk == spk].index\n",
    "    every_pos_pair = itertools.combinations(utters, 2)\n",
    "    pos_trials += every_pos_pair"
   ]
  },
  {
   "cell_type": "code",
   "execution_count": null,
   "metadata": {},
   "outputs": [],
   "source": [
    "# positive pair\n",
    "import itertools\n",
    "import random\n",
    "neg_trials = []\n",
    "for spk in gcommand_test_spks:\n",
    "    utters = gcommand_test_df[gcommand_test_df.spk == spk].index.tolist()\n",
    "    neg_targets = gcommand_test_df[gcommand_test_df.spk != spk].index.tolist()\n",
    "    total_pairs = list(itertools.product(utters, neg_targets))\n",
    "    neg_trials += random.choices(total_pairs, k=5995)"
   ]
  },
  {
   "cell_type": "code",
   "execution_count": null,
   "metadata": {},
   "outputs": [],
   "source": [
    "gcommand_trials = pos_trials + neg_trials\n",
    "gcommand_trial_df = pd.DataFrame(gcommand_trials, columns=[\"enroll_idx\", \"test_idx\"])"
   ]
  },
  {
   "cell_type": "code",
   "execution_count": null,
   "metadata": {},
   "outputs": [],
   "source": [
    "gcommand_trial_df['enrolment_id'] = gcommand_trial_df.enroll_idx.apply(lambda x: gcommand_test_df.index.get_loc(x))\n",
    "\n",
    "gcommand_trial_df['test_id'] = gcommand_trial_df.test_idx.apply(lambda x: gcommand_test_df.index.get_loc(x))\n",
    "\n",
    "gcommand_trial_df['enroll_spk'] = gcommand_trial_df.enroll_idx.apply(lambda x: x[:8])\n",
    "\n",
    "gcommand_trial_df['test_spk'] = gcommand_trial_df.test_idx.apply(lambda x: x[:8])\n",
    "\n",
    "gcommand_trial_df['label'] = [1]*len(pos_trials) + [0]*len(neg_trials)\n",
    "\n",
    "gcommand_trial_df.to_pickle(\"/dataset/SV_sets/gcommand/dataframes/equal_num_30spk/equal_num_30spk_test_trial.pkl\")"
   ]
  },
  {
   "cell_type": "code",
   "execution_count": null,
   "metadata": {},
   "outputs": [],
   "source": [
    "gcommand_trial_df['is_target'] = gcommand_trial_df.label.apply(lambda x: 'target' if x==1 else 'nontarget')\n",
    "\n",
    "gcommand_trial_df.to_csv(\"/dataset/SV_sets/gcommand/kaldi_files/gcommand_30spks_sv\", sep=' ', header=False, index=False, columns=['enroll_idx', 'test_idx', 'is_target'])"
   ]
  },
  {
   "cell_type": "code",
   "execution_count": null,
   "metadata": {},
   "outputs": [],
   "source": [
    "gcommand_train_df = gcommand_train_df.sort_index()"
   ]
  },
  {
   "cell_type": "code",
   "execution_count": null,
   "metadata": {},
   "outputs": [],
   "source": [
    "gcommand_train_df['label'] = gcommand_train_df.groupby('spk').ngroup()"
   ]
  },
  {
   "cell_type": "code",
   "execution_count": null,
   "metadata": {},
   "outputs": [],
   "source": [
    "gcommand_train_df.to_pickle(\"/dataset/SV_sets/gcommand/dataframes/equal_num_30spk/equal_num_30spk_si.pkl\")"
   ]
  }
 ],
 "metadata": {
  "kernelspec": {
   "display_name": "Python 3",
   "language": "python",
   "name": "python3"
  },
  "language_info": {
   "codemirror_mode": {
    "name": "ipython",
    "version": 3
   },
   "file_extension": ".py",
   "mimetype": "text/x-python",
   "name": "python",
   "nbconvert_exporter": "python",
   "pygments_lexer": "ipython3",
   "version": "3.6.5"
  }
 },
 "nbformat": 4,
 "nbformat_minor": 2
}
