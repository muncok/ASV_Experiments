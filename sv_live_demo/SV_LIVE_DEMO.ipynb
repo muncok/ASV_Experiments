{
 "cells": [
  {
   "cell_type": "markdown",
   "metadata": {},
   "source": [
    "# SV Live Demo"
   ]
  },
  {
   "cell_type": "code",
   "execution_count": 5,
   "metadata": {},
   "outputs": [
    {
     "name": "stdout",
     "output_type": "stream",
     "text": [
      "Populating the interactive namespace from numpy and matplotlib\n"
     ]
    }
   ],
   "source": [
    "%load_ext autoreload\n",
    "%autoreload 2\n",
    "%pylab inline"
   ]
  },
  {
   "cell_type": "code",
   "execution_count": 6,
   "metadata": {},
   "outputs": [],
   "source": [
    "import pandas as pd\n",
    "import os\n",
    "import itertools"
   ]
  },
  {
   "cell_type": "markdown",
   "metadata": {},
   "source": [
    "## Speaker Verification"
   ]
  },
  {
   "cell_type": "markdown",
   "metadata": {},
   "source": [
    "### Model Load"
   ]
  },
  {
   "cell_type": "code",
   "execution_count": 8,
   "metadata": {},
   "outputs": [],
   "source": [
    "from demo_ResNet34 import ResNet34, ResNet34_v1\n",
    "from demo_tdnnModel import tdnn_xvector, tdnn_xvector_v1\n",
    "\n",
    "config = dict(\n",
    "    loss=\"softmax\",\n",
    "    gpu_no=[0], no_cuda=True,\n",
    "    input_dim=40\n",
    ")"
   ]
  },
  {
   "cell_type": "code",
   "execution_count": 9,
   "metadata": {},
   "outputs": [],
   "source": [
    "# model = ResNet34(config, inplanes=16, n_labels=1759)\n",
    "# model = ResNet34_v4(config, layers=[3,4,6,3], n_labels=1260)\n",
    "# model = tdnn_xvector_v1(config, n_labels=1759)\n",
    "model = ResNet34_v1(config, n_labels=1759)"
   ]
  },
  {
   "cell_type": "code",
   "execution_count": 10,
   "metadata": {},
   "outputs": [
    {
     "name": "stdout",
     "output_type": "stream",
     "text": [
      "extractor loaded from model_best.pth.tar\n"
     ]
    }
   ],
   "source": [
    "model.load_extractor(\"model_best.pth.tar\")\n",
    "model.eval()\n",
    "\n",
    "if not config['no_cuda']:\n",
    "    model.cuda()"
   ]
  },
  {
   "cell_type": "code",
   "execution_count": 59,
   "metadata": {},
   "outputs": [
    {
     "data": {
      "text/plain": [
       "0.09366666666666666"
      ]
     },
     "execution_count": 59,
     "metadata": {},
     "output_type": "execute_result"
    }
   ],
   "source": [
    "torch.load(\"model_best.pth.tar\")[\"best_metric\"]"
   ]
  },
  {
   "cell_type": "markdown",
   "metadata": {},
   "source": [
    "###  Speaker Verification System"
   ]
  },
  {
   "cell_type": "code",
   "execution_count": 228,
   "metadata": {},
   "outputs": [],
   "source": [
    "import librosa\n",
    "# from pydub import AudioSegment\n",
    "from demo_manage_audio import strip_audio\n",
    "from demo_manage_audio import preprocess_audio\n",
    "import numpy as np\n",
    "import torch\n",
    "import torch.nn.functional as F\n",
    "import pickle\n",
    "from sklearn import preprocessing, cluster\n",
    "\n",
    "def seg2wav(seg):\n",
    "    wav_data = (np.array(seg.get_array_of_samples())\n",
    "                / 32768.0).astype(np.float32)\n",
    "    \n",
    "    return wav_data\n",
    "\n",
    "def zero_padding(data, in_len):\n",
    "    padding_len = max(0, in_len - len(data))\n",
    "    data = np.pad(data, (padding_len//2, padding_len - padding_len//2), \"constant\")\n",
    "    \n",
    "    return data\n",
    "\n",
    "class sv_system():\n",
    "    def __init__(self, model, spk_models=None, lda_model=None,\n",
    "                 n_dims=40, feat_format='fbank'):\n",
    "        self.lda_model = pickle.load(open(lda_model, \"rb\")) if lda_model \\\n",
    "                                else None\n",
    "        self.dct_filters = librosa.filters.dct(n_filters=n_dims, n_input=n_dims)\n",
    "        self.model = model\n",
    "        self.n_dims = n_dims\n",
    "        self.feat_format = feat_format\n",
    "        self.enrolled_feats = dict()\n",
    "        self.enrolled_dvectors = dict()\n",
    "        self.speaker_models =  pickle.load(open(spk_models, \"rb\")) if spk_models \\\n",
    "                                else None\n",
    "    \n",
    "    def enrol(self, wav, spk_name):\n",
    "        feat = self._wav2feat(wav)\n",
    "#         print(\"feat shape: {}\".format(feat.shape))\n",
    "        dvector = self._extract_dvector(feat).squeeze()\n",
    "        if spk_name not in self.enrolled_dvectors:\n",
    "            self.enrolled_feats[spk_name] = [feat]\n",
    "            self.enrolled_dvectors[spk_name] = [dvector]\n",
    "        else:\n",
    "            self.enrolled_feats[spk_name] += [feat]\n",
    "            self.enrolled_dvectors[spk_name] += [dvector]\n",
    "            \n",
    "        \n",
    "    def enrols(self, wav, spk_name):\n",
    "        feats = self._wav2feats(wav)\n",
    "        for feat in feats:\n",
    "            dvector = self._extract_dvector(feat).squeeze()\n",
    "\n",
    "            if spk_name not in self.enrolled_dvectors:\n",
    "                self.enrolled_dvectors[spk_name] = [dvector]\n",
    "            else:\n",
    "                self.enrolled_dvectors[spk_name] += [dvector]\n",
    "                   \n",
    "    def _extract_dvector(self, feat):\n",
    "        \"\"\"\n",
    "            dvector: ndarray\n",
    "        \"\"\"\n",
    "        if feat.dim() == 2:\n",
    "            feat = feat.unsqueeze(0).unsqueeze(0)\n",
    "        elif feat.dim() == 3:\n",
    "            if isinstance(self.model, ResNet34_v1):\n",
    "                feat = feat.unsqueeze(1)\n",
    "            else:\n",
    "                feat = feat.unsqueeze(0)\n",
    "                \n",
    "        \n",
    "        dvector = self.model.embed(feat).detach().cpu().numpy()\n",
    "        if self.lda_model:\n",
    "            dvector = self.lda_model.transform(dvector).astype(np.float32)\n",
    "                \n",
    "        return dvector\n",
    "    \n",
    "    def _wav2feats(self, wav):\n",
    "        wav_seg = AudioSegment.from_wav(wav)\n",
    "#         wav_seg = wav_seg.normalize()\n",
    "        voice_segs = pydub.silence.split_on_silence(wav_seg, min_silence_len=100, \n",
    "                keep_silence=500, silence_thresh=-32)\n",
    "        self.voice_segs = voice_segs\n",
    "        print([len(seg) for seg in voice_segs])\n",
    "#         max_len = int(len(max(voice_segs, key=len)) * 16000/1000)\n",
    "#         wav_data = [zero_padding(strip_audio(seg2wav(seg), rms_ths=0.10), 16000)\n",
    "#                     for seg in voice_segs]\n",
    "        wav_data = [seg2wav(seg) for seg in voice_segs]\n",
    "        feats = []\n",
    "        for wav_d in wav_data:\n",
    "            feat = preprocess_audio(wav_d, n_mels=self.n_dims, \n",
    "                        dct_filters=self.dct_filters, in_feature=self.feat_format)\n",
    "            feats.append(feat)\n",
    "        \n",
    "        return feats\n",
    "        \n",
    "    def _wav2feat(self, wav):\n",
    "        \"\"\"\n",
    "            extracting input feature from wav (mfcc, fbank)\n",
    "        \"\"\"\n",
    "        wav_data = librosa.core.load(wav, sr=16000)[0]\n",
    "#         wav_seg = AudioSegment.from_wav(wav)\n",
    "#         wav_seg = wav_seg.normalize()\n",
    "#         print(len(wav_seg))\n",
    "#         wav_seg = wav_seg.strip_silence(silence_len=200, padding=200, silence_thresh=-32)\n",
    "#         assert len(wav_seg) > 0, \"no voice\"\n",
    "#         wav_data = seg2wav(wav_seg)\n",
    "#         wav_data = strip_audio(wav_data, rms_ths=0.10)\n",
    "#         wav_data = zero_padding(wav_data, 16000)\n",
    "        \n",
    "        feat = preprocess_audio(wav_data, n_mels=self.n_dims, \n",
    "                    dct_filters=self.dct_filters, in_feature=self.feat_format)\n",
    "        \n",
    "        return feat\n",
    "    \n",
    "    def _wav2dvector(self, wav):\n",
    "        feat = self._wav2feat(wav)\n",
    "        dvector = self._extract_dvector(feat)\n",
    "        \n",
    "        return dvector\n",
    "        \n",
    "    def init_enrollemnt(self):\n",
    "        self.enrolled_feats = dict()\n",
    "        self.enrolled_dvectors = dict()\n",
    "    \n",
    "    def compute_spk_model(self, spk_model_type=\"avg\"):\n",
    "        self.spk_model_type = spk_model_type\n",
    "        if spk_model_type == \"avg\":\n",
    "            self.speaker_models = np.stack([np.mean(v, axis=0).squeeze() \n",
    "                                            for v in self.enrolled_dvectors.values()], \n",
    "                                            axis=0)\n",
    "        elif spk_model_type == \"concat\":\n",
    "            self.speaker_models = np.concatenate([self._extract_dvector(torch.cat(v, dim=0)) \n",
    "                                            for v in self.enrolled_feats.values()], \n",
    "                                              axis=0)\n",
    "        elif spk_model_type == \"cluster\":\n",
    "            self.speaker_models = dict()\n",
    "            for k, v in self.enrolled_dvectors.items():\n",
    "                v = np.array(v)\n",
    "#                 v_norm = preprocessing.normalize(v)\n",
    "                v_norm = v\n",
    "                cluster_ids = cluster.KMeans(3).fit_predict(v_norm)\n",
    "                speaker_model = []\n",
    "                for id_ in range(3):\n",
    "                     speaker_model += [np.mean(v[np.where(cluster_ids == id_)], axis=0)]\n",
    "                self.speaker_models[k] = np.array(speaker_model)\n",
    "\n",
    "            \n",
    "    def verify_from_dvectors(self, dvectors):\n",
    "        scores = []\n",
    "        pred_speakers = []\n",
    "        for test_dvector in dvectors:\n",
    "            if self.spk_model_type in ['avg', 'concat']:\n",
    "                score = F.cosine_similarity(torch.from_numpy(self.speaker_models).float(), \n",
    "                                                torch.from_numpy(test_dvector).float(), dim=1).numpy()\n",
    "            elif self.spk_model_type in ['median', 'mean']:            \n",
    "                score = []\n",
    "                for k, v in self.enrolled_dvectors.items():\n",
    "                    v = np.array(v)\n",
    "                    score_ = F.cosine_similarity(torch.from_numpy(v).float(), \n",
    "                                                torch.from_numpy(test_dvector).float(), dim=1).numpy()\n",
    "                    if self.spk_model_type == 'median':\n",
    "                        score.append(np.median(score_))\n",
    "                    else:\n",
    "                        score.append(np.mean(score_))\n",
    "            elif self.spk_model_type in ['cluster']:\n",
    "                score = []\n",
    "                for k, v in self.speaker_models.items():\n",
    "                    score_ = F.cosine_similarity(torch.from_numpy(v).float(),\n",
    "                                                torch.from_numpy(test_dvector).float(), dim=1).numpy()\n",
    "                    score.append(max(score_))\n",
    "\n",
    "\n",
    "            pred_speaker = list(self.enrolled_dvectors.keys())[np.argmax(score)]\n",
    "            \n",
    "            scores.append(score)\n",
    "            pred_speakers.append(pred_speaker)\n",
    "            \n",
    "        return pred_speakers, scores\n",
    "\n",
    "    def verify(self, wav):\n",
    "        \"\"\"\n",
    "            verify a input wav and output a verification result\n",
    "            and rank-1 identification\n",
    "        \"\"\"\n",
    "        feat = self._wav2feat(wav)\n",
    "        test_dvector = self._extract_dvector(feat)\n",
    "        if self.spk_model_type in ['avg', 'concat']:\n",
    "            score = F.cosine_similarity(torch.from_numpy(self.speaker_models).float(), \n",
    "                                            torch.from_numpy(test_dvector).float(), dim=1).numpy()\n",
    "        elif self.spk_model_type in ['median', 'mean']:            \n",
    "            score = []\n",
    "            for k, v in self.enrolled_dvectors.items():\n",
    "                v = np.array(v)\n",
    "                score_ = F.cosine_similarity(torch.from_numpy(v).float(), \n",
    "                                            torch.from_numpy(test_dvector).float(), dim=1).numpy()\n",
    "                if self.spk_model_type == 'median':\n",
    "                    score.append(np.median(score_))\n",
    "                else:\n",
    "                    score.append(np.mean(score_))\n",
    "        elif self.spk_model_type in ['cluster']:\n",
    "            score = []\n",
    "            for k, v in self.speaker_models.items():\n",
    "                score_ = F.cosine_similarity(torch.from_numpy(v).float(),\n",
    "                                            torch.from_numpy(test_dvector).float(), dim=1).numpy()\n",
    "                score.append(max(score_))\n",
    "                    \n",
    "        pred_speaker = list(self.enrolled_dvectors.keys())[np.argmax(score)]\n",
    "            \n",
    "        return pred_speaker, score"
   ]
  },
  {
   "cell_type": "markdown",
   "metadata": {},
   "source": [
    "### parse dataset "
   ]
  },
  {
   "cell_type": "code",
   "execution_count": 205,
   "metadata": {},
   "outputs": [],
   "source": [
    "kor_dataset = os.listdir(\"../dataset/kor_commands/wav/\")"
   ]
  },
  {
   "cell_type": "code",
   "execution_count": 206,
   "metadata": {},
   "outputs": [],
   "source": [
    "records = []\n",
    "for wav_file in kor_dataset:\n",
    "    filen = wav_file.rstrip('.wav')\n",
    "    spk, sent = filen.split('_')[0], filen.split('_')[1]\n",
    "    records.append((spk, sent, \"../dataset/kor_commands/wav/\"+wav_file))"
   ]
  },
  {
   "cell_type": "code",
   "execution_count": 207,
   "metadata": {},
   "outputs": [],
   "source": [
    "kor_dataset_df = pd.DataFrame.from_records(records, columns=['spk', 'sent', 'wav'])"
   ]
  },
  {
   "cell_type": "markdown",
   "metadata": {},
   "source": [
    "### Enrollment"
   ]
  },
  {
   "cell_type": "code",
   "execution_count": 208,
   "metadata": {},
   "outputs": [],
   "source": [
    "blacklist = ['hm', 'hs', 'be', 'ms', 'ds', 'cy', 'dw', 'dg', 'ej']\n",
    "blacklist = []"
   ]
  },
  {
   "cell_type": "code",
   "execution_count": 209,
   "metadata": {},
   "outputs": [],
   "source": [
    "white_df = kor_dataset_df[~kor_dataset_df.spk.isin(blacklist)]"
   ]
  },
  {
   "cell_type": "code",
   "execution_count": 210,
   "metadata": {},
   "outputs": [
    {
     "data": {
      "text/plain": [
       "array(['jw', 'ds', 'dg', 'kk', 'je', 'sm', 'hm', 'cy', 'jt', 'ej', 'hs',\n",
       "       'jr', 'sv', 'bh', 'be', 'jwc', 'ms', 'ip', 'dw'], dtype=object)"
      ]
     },
     "execution_count": 210,
     "metadata": {},
     "output_type": "execute_result"
    }
   ],
   "source": [
    "white_df.spk.unique()"
   ]
  },
  {
   "cell_type": "code",
   "execution_count": 211,
   "metadata": {},
   "outputs": [],
   "source": [
    "enroll_spks = ['jw', 'ds', 'dg']"
   ]
  },
  {
   "cell_type": "code",
   "execution_count": 212,
   "metadata": {},
   "outputs": [],
   "source": [
    "enrollment_df = white_df[(white_df.spk.isin(enroll_spks))].groupby(['spk']).apply(lambda x: x.sample(n=20))"
   ]
  },
  {
   "cell_type": "code",
   "execution_count": 213,
   "metadata": {},
   "outputs": [],
   "source": [
    "test_df = white_df[(~white_df.wav.isin(enrollment_df.wav))]\n",
    "# test_df = kor_dataset_df[kor_dataset_df.spk.isin(test_spks)]"
   ]
  },
  {
   "cell_type": "code",
   "execution_count": 214,
   "metadata": {},
   "outputs": [
    {
     "name": "stdout",
     "output_type": "stream",
     "text": [
      "enroll: 60, test: 540\n"
     ]
    }
   ],
   "source": [
    "print(\"enroll: {}, test: {}\".format(len(enrollment_df), len(test_df)))"
   ]
  },
  {
   "cell_type": "markdown",
   "metadata": {},
   "source": [
    "---------------------"
   ]
  },
  {
   "cell_type": "markdown",
   "metadata": {},
   "source": [
    "### sv_system"
   ]
  },
  {
   "cell_type": "code",
   "execution_count": 229,
   "metadata": {},
   "outputs": [],
   "source": [
    "test_sv_system = sv_system(model, spk_models=None, lda_model=None, n_dims=config['input_dim'])"
   ]
  },
  {
   "cell_type": "code",
   "execution_count": 230,
   "metadata": {},
   "outputs": [],
   "source": [
    "# enrollment\n",
    "test_sv_system.init_enrollemnt()\n",
    "for idx, row in enrollment_df.iterrows():\n",
    "    test_sv_system.enrol(row.wav, row.spk)"
   ]
  },
  {
   "cell_type": "code",
   "execution_count": 231,
   "metadata": {},
   "outputs": [],
   "source": [
    "test_sv_system.compute_spk_model(\"cluster\")"
   ]
  },
  {
   "cell_type": "code",
   "execution_count": 232,
   "metadata": {},
   "outputs": [
    {
     "data": {
      "text/plain": [
       "('jw', [0.95049566, 0.9178566, 0.9722069])"
      ]
     },
     "execution_count": 232,
     "metadata": {},
     "output_type": "execute_result"
    }
   ],
   "source": [
    "test_sv_system.verify(test_df.iloc[0].wav)"
   ]
  },
  {
   "cell_type": "markdown",
   "metadata": {},
   "source": [
    "---------------------"
   ]
  },
  {
   "cell_type": "code",
   "execution_count": 233,
   "metadata": {
    "scrolled": true
   },
   "outputs": [],
   "source": [
    "# extracting dvectors\n",
    "dvectors = []\n",
    "for idx, row in test_df.iterrows():\n",
    "    dvector = test_sv_system._wav2dvector(row.wav)\n",
    "    dvectors.append(dvector)"
   ]
  },
  {
   "cell_type": "code",
   "execution_count": 234,
   "metadata": {},
   "outputs": [
    {
     "name": "stdout",
     "output_type": "stream",
     "text": [
      "[avg   ] EER: 16.042\n",
      "[concat] EER: 16.875\n",
      "[median] EER: 18.333\n",
      "[mean  ] EER: 17.708\n",
      "[cluster] EER: 18.542\n"
     ]
    }
   ],
   "source": [
    "from sklearn.metrics import roc_curve, auc\n",
    "\n",
    "tp_counts = 0 # true positive\n",
    "fp_counts = 0 # false positive\n",
    "threshold = 0.90\n",
    "\n",
    "for spk_model_typ in ['avg', 'concat', 'median', 'mean', 'cluster']:\n",
    "    test_sv_system.compute_spk_model(spk_model_typ)\n",
    "    preds, scores_vector = test_sv_system.verify_from_dvectors(dvectors)\n",
    "    scores = []\n",
    "    labels = []\n",
    "    for i, (idx, row) in enumerate(test_df.iterrows()):\n",
    "        score = scores_vector[i]\n",
    "        if row.spk in enroll_spks and max(score) >= threshold:\n",
    "            tp_counts += 1\n",
    "            scores.append(score); labels.append(1)\n",
    "        elif row.spk in enroll_spks and max(score) < threshold:\n",
    "            scores.append(score); labels.append(1)\n",
    "        elif row.spk not in enroll_spks and max(score) >= threshold:\n",
    "            fp_counts += 1\n",
    "            scores.append(score); labels.append(0)\n",
    "        else:\n",
    "            scores.append(score); labels.append(0)\n",
    "    scores = np.array(scores)\n",
    "    labels = np.array(labels)\n",
    "    fpr, tpr, thres = roc_curve(\n",
    "            labels, np.max(scores, axis=1), pos_label=1)\n",
    "    eer = fpr[np.nanargmin(np.abs(fpr - (1 - tpr)))]\n",
    "    print(\"[{:6}] EER: {:.3f}\".format(spk_model_typ, eer*100))"
   ]
  },
  {
   "cell_type": "code",
   "execution_count": 67,
   "metadata": {},
   "outputs": [
    {
     "name": "stdout",
     "output_type": "stream",
     "text": [
      "tp: 0.19, fn: 0.81, fp: 1.01, tn: -0.01\n"
     ]
    }
   ],
   "source": [
    "# roc metrics\n",
    "\n",
    "tp_rate = tp_counts / len(test_df)\n",
    "fp_rate = fp_counts / len(test_df)\n",
    "\n",
    "print(\"tp: {:.2f}, fn: {:.2f}, fp: {:.2f}, tn: {:.2f}\".format(tp_rate, 1-tp_rate, fp_rate, 1-fp_rate))"
   ]
  },
  {
   "cell_type": "markdown",
   "metadata": {},
   "source": [
    "### Plot score histogram"
   ]
  },
  {
   "cell_type": "code",
   "execution_count": 859,
   "metadata": {},
   "outputs": [
    {
     "name": "stderr",
     "output_type": "stream",
     "text": [
      "/home/muncok/anaconda3/envs/pytorch/lib/python3.6/site-packages/ipykernel_launcher.py:1: SettingWithCopyWarning: \n",
      "A value is trying to be set on a copy of a slice from a DataFrame.\n",
      "Try using .loc[row_indexer,col_indexer] = value instead\n",
      "\n",
      "See the caveats in the documentation: http://pandas.pydata.org/pandas-docs/stable/indexing.html#indexing-view-versus-copy\n",
      "  \"\"\"Entry point for launching an IPython kernel.\n"
     ]
    }
   ],
   "source": [
    "test_df['score'] = np.max(scores, axis=1)"
   ]
  },
  {
   "cell_type": "code",
   "execution_count": 909,
   "metadata": {},
   "outputs": [
    {
     "data": {
      "text/plain": [
       "array([<matplotlib.axes._subplots.AxesSubplot object at 0x7f76a0db5f28>],\n",
       "      dtype=object)"
      ]
     },
     "execution_count": 909,
     "metadata": {},
     "output_type": "execute_result"
    },
    {
     "data": {
      "image/png": "[encoded data removed]",
      "text/plain": [
       "<matplotlib.figure.Figure at 0x7f76a0f75400>"
      ]
     },
     "metadata": {},
     "output_type": "display_data"
    }
   ],
   "source": [
    "fig, axes = plt.subplots(ncols=2)\n",
    "axes[0].set_title(\"postive score\")\n",
    "axes[0].set_xlim([0, 1])\n",
    "test_df[test_df.spk.isin(enroll_spks)].hist(ax=axes[0])\n",
    "\n",
    "axes[1].set_title(\"negative score\")\n",
    "axes[1].set_xlim([0, 1])\n",
    "test_df[~test_df.spk.isin(enroll_spks)].hist(ax=axes[1])"
   ]
  },
  {
   "cell_type": "code",
   "execution_count": 934,
   "metadata": {},
   "outputs": [
    {
     "data": {
      "image/png": "[encoded data removed]",
      "text/plain": [
       "<matplotlib.figure.Figure at 0x7f76a0fc6208>"
      ]
     },
     "metadata": {},
     "output_type": "display_data"
    }
   ],
   "source": [
    "ax = plt.axes()\n",
    "ax.set_xlim([0, 1])\n",
    "test_df[test_df.spk.isin(enroll_spks)].hist(alpha=0.8, ax=ax)\n",
    "test_df[~test_df.spk.isin(enroll_spks)].hist(alpha=0.5, ax=ax)\n",
    "ax.legend()\n",
    "plt.show()"
   ]
  },
  {
   "cell_type": "markdown",
   "metadata": {},
   "source": [
    "### Confusion matrix"
   ]
  },
  {
   "cell_type": "code",
   "execution_count": 935,
   "metadata": {
    "collapsed": true
   },
   "outputs": [],
   "source": [
    "def plot_confusion_matrix(cm, classes,\n",
    "                          normalize=False,\n",
    "                          title='Confusion matrix',\n",
    "                          cmap=plt.cm.Blues):\n",
    "    \"\"\"\n",
    "    This function prints and plots the confusion matrix.\n",
    "    Normalization can be applied by setting `normalize=True`.\n",
    "    \"\"\"\n",
    "    if normalize:\n",
    "        cm = cm.astype('float') / cm.sum(axis=1)[:, np.newaxis]\n",
    "        print(\"Normalized confusion matrix\")\n",
    "    else:\n",
    "        print('Confusion matrix, without normalization')\n",
    "\n",
    "    print(cm)\n",
    "\n",
    "    plt.imshow(cm, interpolation='nearest', cmap=cmap)\n",
    "    plt.title(title)\n",
    "    plt.colorbar()\n",
    "    tick_marks = np.arange(len(classes))\n",
    "    plt.xticks(tick_marks, classes, rotation=45)\n",
    "    plt.yticks(tick_marks, classes)\n",
    "\n",
    "    fmt = '.2f' if normalize else 'd'\n",
    "    thresh = cm.max() / 2.\n",
    "    for i, j in itertools.product(range(cm.shape[0]), range(cm.shape[1])):\n",
    "        plt.text(j, i, format(cm[i, j], fmt),\n",
    "                 horizontalalignment=\"center\",\n",
    "                 color=\"white\" if cm[i, j] > thresh else \"black\")\n",
    "\n",
    "    plt.tight_layout()\n",
    "    plt.ylabel('True label')\n",
    "    plt.xlabel('Predicted label')"
   ]
  },
  {
   "cell_type": "code",
   "execution_count": 938,
   "metadata": {
    "scrolled": false
   },
   "outputs": [
    {
     "name": "stdout",
     "output_type": "stream",
     "text": [
      "Confusion matrix, without normalization\n",
      "[[ 0  0  0  0  0  0  0 10  0 20  0  0  0  0  0  0  0  0  0]\n",
      " [ 0  0  0  0  0  0  0 10  0 20  0  0  0  0  0  0  0  0  0]\n",
      " [ 0  0  0  0  0  0  0 28  0  2  0  0  0  0  0  0  0  0  0]\n",
      " [ 0  0  0  0  0 30  0  0  0  0  0  0  0  0  0  0  0  0  0]\n",
      " [ 0  0  0  0  0  4  0  0  0  0 26  0  0  0  0  0  0  0  0]\n",
      " [ 0  0  0  0  0 29  0  0  0  0  0  0  0  0  0  0  0  0  0]\n",
      " [ 0  0  0  0  0 29  0  0  0  1  0  0  0  0  0  0  0  0  0]\n",
      " [ 0  0  0  0  0  0  0 21  0  8  0  0  0  0  0  0  0  0  0]\n",
      " [ 0  0  0  0  0  5  0  0  0  0 55  0  0  0  0  0  0  0  0]\n",
      " [ 0  0  0  0  0  0  0 22  0  7  0  0  0  0  0  0  0  0  0]\n",
      " [ 0  0  0  0  0  0  0  0  0  0 29  0  0  0  0  0  0  0  0]\n",
      " [ 0  0  0  0  0 30  0  0  0  0  0  0  0  0  0  0  0  0  0]\n",
      " [ 0  0  0  0  0  0  0  1  0 10 19  0  0  0  0  0  0  0  0]\n",
      " [ 0  0  0  0  0  0  0 23  0  7  0  0  0  0  0  0  0  0  0]\n",
      " [ 0  0  0  0  0  7  0  0  0  0 23  0  0  0  0  0  0  0  0]\n",
      " [ 0  0  0  0  0  2  0  0  0  0 28  0  0  0  0  0  0  0  0]\n",
      " [ 0  0  0  0  0 10  0  0  0  0 20  0  0  0  0  0  0  0  0]\n",
      " [ 0  0  0  0  0  0  0  0  0  0 30  0  0  0  0  0  0  0  0]\n",
      " [ 0  0  0  0  0 29  0  0  0  0  1  0  0  0  0  0  0  0  0]]\n"
     ]
    },
    {
     "data": {
      "image/png": "[encoded data removed]",
      "text/plain": [
       "<matplotlib.figure.Figure at 0x7f76a0baca58>"
      ]
     },
     "metadata": {},
     "output_type": "display_data"
    }
   ],
   "source": [
    "from sklearn.metrics import confusion_matrix\n",
    "\n",
    "cnf_matrix = confusion_matrix(test_df.spk.tolist(), preds, labels=test_df.spk.unique().tolist())\n",
    "np.set_printoptions(precision=2)\n",
    "\n",
    "# Plot non-normalized confusion matrix\n",
    "plt.figure(figsize=(10,10))\n",
    "plot_confusion_matrix(cnf_matrix, classes=test_df.spk.unique().tolist(),\n",
    "                      title='Confusion matrix, without normalization')"
   ]
  },
  {
   "cell_type": "markdown",
   "metadata": {},
   "source": [
    "### Recording score results"
   ]
  },
  {
   "cell_type": "code",
   "execution_count": 944,
   "metadata": {},
   "outputs": [],
   "source": [
    "result_df = pd.concat([test_df, pd.DataFrame.from_records(scores.round(4).tolist(), \n",
    "                                                          index=test_df.index, \n",
    "                                                          columns=test_sv_system.enrolled_dvectors.keys())], \n",
    "                      axis=1)"
   ]
  },
  {
   "cell_type": "code",
   "execution_count": 945,
   "metadata": {},
   "outputs": [],
   "source": [
    "result_df['pred'] = preds"
   ]
  },
  {
   "cell_type": "code",
   "execution_count": null,
   "metadata": {},
   "outputs": [],
   "source": [
    "result_df.drop(columns='score').to_csv(\"./ResNet34_v1_1/result.csv\", float_format='%.3f', index=False)"
   ]
  },
  {
   "cell_type": "code",
   "execution_count": null,
   "metadata": {},
   "outputs": [],
   "source": [
    "enrollment_df.to_csv(\"./ResNet34_v1_1/enrollment.csv\", index=False)"
   ]
  }
 ],
 "metadata": {
  "kernelspec": {
   "display_name": "Python 3",
   "language": "python",
   "name": "python3"
  },
  "language_info": {
   "codemirror_mode": {
    "name": "ipython",
    "version": 3
   },
   "file_extension": ".py",
   "mimetype": "text/x-python",
   "name": "python",
   "nbconvert_exporter": "python",
   "pygments_lexer": "ipython3",
   "version": "3.6.5"
  }
 },
 "nbformat": 4,
 "nbformat_minor": 2
}
