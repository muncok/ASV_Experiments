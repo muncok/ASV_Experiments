{
 "cells": [
  {
   "cell_type": "code",
   "execution_count": 1,
   "metadata": {},
   "outputs": [],
   "source": [
    "import os\n",
    "import pandas as pd\n",
    "import numpy as np\n",
    "import torch.nn.functional as F"
   ]
  },
  {
   "cell_type": "code",
   "execution_count": 2,
   "metadata": {},
   "outputs": [],
   "source": [
    "from sv_system.data.dataloader import init_default_loader\n",
    "from sv_system.data.dataset import SpeechDataset\n",
    "from sv_system.utils import secToSample, secToFrames\n",
    "from sv_system.sv_score import embeds"
   ]
  },
  {
   "cell_type": "code",
   "execution_count": 3,
   "metadata": {},
   "outputs": [],
   "source": [
    "from sv_system.utils.parser import get_sv_parser\n",
    "options = get_sv_parser().parse_args(args=[])\n",
    "options.n_dct_filters = 40\n",
    "options.n_mels = 40\n",
    "options.timeshift_ms = 100\n",
    "options.window_size= 0.025\n",
    "options.window_stride= 0.010\n",
    "options.cache_size = 32768"
   ]
  },
  {
   "cell_type": "code",
   "execution_count": 8,
   "metadata": {},
   "outputs": [],
   "source": [
    "options.input_format = 'fbank'\n",
    "options.input_clip = True\n",
    "options.input_length = secToSample(3)\n",
    "options.splice_frames = secToFrames(0.2)"
   ]
  },
  {
   "cell_type": "code",
   "execution_count": 9,
   "metadata": {},
   "outputs": [],
   "source": [
    "options.data_folder = \"wavs/reddots/\""
   ]
  },
  {
   "cell_type": "code",
   "execution_count": 10,
   "metadata": {},
   "outputs": [
    {
     "name": "stdout",
     "output_type": "stream",
     "text": [
      "loaded from models/voxc/si_train/full_train/si_voxc_longcnn_3s_3s_full.pt\n"
     ]
    }
   ],
   "source": [
    "from sv_system.model.AuxModels import LongCNN, SimpleCNN\n",
    "import pickle\n",
    "model = SimpleCNN(vars(options), 1300)\n",
    "model.load(\"models/voxc/si_train/full_train/si_voxc_longcnn_3s_3s_full.pt\")\n",
    "model.cuda()\n",
    "# lda = pickle.load(open(\"models/lda/si_reddots_0.2s_random_2_lda.pkl\", \"rb\"))\n",
    "lda = None"
   ]
  },
  {
   "cell_type": "code",
   "execution_count": 11,
   "metadata": {},
   "outputs": [],
   "source": [
    "test_samples = []\n",
    "for dirpath, dirnames, filenames in os.walk(\"../human_sv/wavs/reddots/\"):\n",
    "    filenames = [file for file in filenames if file.endswith(\".wav\")]\n",
    "    for file in filenames:\n",
    "        test_samples.append(os.path.abspath(os.path.join(dirpath,file)))\n",
    "test_samples = sorted(test_samples)        \n",
    "\n",
    "samples = [sample.split(\"/\")[-2:] + [os.path.join(*sample.split(\"/\")[-2:])] for sample in test_samples]\n",
    "test_df = pd.DataFrame.from_records(samples, columns=['spk', 'file_n', 'file'])\n",
    "usage = test_df.file_n.apply(lambda x: \"enroll\" if x.startswith(\"e\") else \"test\")\n",
    "test_df['usage'] = usage\n",
    "dataset = SpeechDataset.read_df(vars(options), test_df, \"test\")"
   ]
  },
  {
   "cell_type": "code",
   "execution_count": 12,
   "metadata": {},
   "outputs": [],
   "source": [
    "val_dataloader = init_default_loader(dataset, shuffle=False)"
   ]
  },
  {
   "cell_type": "code",
   "execution_count": 13,
   "metadata": {},
   "outputs": [],
   "source": [
    "embeddings, _ = embeds(options, val_dataloader, model, lda)"
   ]
  },
  {
   "cell_type": "code",
   "execution_count": 14,
   "metadata": {},
   "outputs": [
    {
     "name": "stdout",
     "output_type": "stream",
     "text": [
      "A_m0001_31\n",
      "B_m0015_40\n",
      "C_m0008_39\n"
     ]
    }
   ],
   "source": [
    "import torch\n",
    "spks = test_df.spk.unique().tolist()\n",
    "scores = dict()\n",
    "for spk in spks:\n",
    "    print(spk)\n",
    "    enroll_idxs = np.nonzero((test_df.spk == spk) & (test_df.usage == \"enroll\"))\n",
    "    test_idxs = np.nonzero((test_df.spk == spk) & (test_df.usage == \"test\"))\n",
    "    enroll_embeddings = torch.mean(embeddings[enroll_idxs], 0, True)\n",
    "    test_embeddings = embeddings[test_idxs]\n",
    "    scores[spk] = (F.cosine_similarity(enroll_embeddings, test_embeddings))"
   ]
  },
  {
   "cell_type": "code",
   "execution_count": 15,
   "metadata": {},
   "outputs": [],
   "source": [
    "spk_t = spks[1]"
   ]
  },
  {
   "cell_type": "code",
   "execution_count": 16,
   "metadata": {},
   "outputs": [],
   "source": [
    "labels = []\n",
    "with open(\"wavs/reddots/{0}/test_labels.txt\".format(spk_t), \"r\") as f:\n",
    "    for line in f.readlines():\n",
    "        labels.append(int(line.rstrip().split()[-1]))"
   ]
  },
  {
   "cell_type": "code",
   "execution_count": 17,
   "metadata": {},
   "outputs": [
    {
     "name": "stdout",
     "output_type": "stream",
     "text": [
      "(tensor(0.8863), 0)\n",
      "(tensor(0.9298), 0)\n",
      "(tensor(0.8992), 0)\n",
      "(tensor(0.8696), 1)\n",
      "(tensor(0.8928), 1)\n",
      "(tensor(0.8778), 1)\n",
      "(tensor(0.9181), 0)\n",
      "(tensor(0.8330), 1)\n",
      "(tensor(0.9142), 0)\n",
      "(tensor(0.8707), 1)\n"
     ]
    }
   ],
   "source": [
    "for row in zip(scores[spk_t], labels):\n",
    "    print(row)"
   ]
  },
  {
   "cell_type": "code",
   "execution_count": null,
   "metadata": {},
   "outputs": [],
   "source": []
  }
 ],
 "metadata": {
  "kernelspec": {
   "display_name": "Pytorch",
   "language": "python",
   "name": "pytorch"
  },
  "language_info": {
   "codemirror_mode": {
    "name": "ipython",
    "version": 3
   },
   "file_extension": ".py",
   "mimetype": "text/x-python",
   "name": "python",
   "nbconvert_exporter": "python",
   "pygments_lexer": "ipython3",
   "version": "3.6.2"
  }
 },
 "nbformat": 4,
 "nbformat_minor": 2
}
