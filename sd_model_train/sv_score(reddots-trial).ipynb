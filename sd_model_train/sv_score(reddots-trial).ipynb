{
 "cells": [
  {
   "cell_type": "code",
   "execution_count": 1,
   "metadata": {},
   "outputs": [
    {
     "name": "stdout",
     "output_type": "stream",
     "text": [
      "Populating the interactive namespace from numpy and matplotlib\n"
     ]
    }
   ],
   "source": [
    "%load_ext autoreload\n",
    "%autoreload 2\n",
    "%pylab inline\n",
    "import pandas as pd\n",
    "import os\n",
    "import pickle"
   ]
  },
  {
   "cell_type": "code",
   "execution_count": 2,
   "metadata": {},
   "outputs": [],
   "source": [
    "import sys\n",
    "sys.path.append(\"/home/muncok/DL/projects/\")"
   ]
  },
  {
   "cell_type": "code",
   "execution_count": 3,
   "metadata": {},
   "outputs": [],
   "source": [
    "from sv_system.data.dataloader import init_default_loader\n",
    "from sv_system.utils.parser import get_sv_parser\n",
    "from sv_system.train.si_train import set_seed\n",
    "from tqdm import tqdm_notebook as tqdm\n",
    "import torch.nn.functional as F\n",
    "from sv_system.data.dataset import SpeechDataset"
   ]
  },
  {
   "cell_type": "code",
   "execution_count": 4,
   "metadata": {},
   "outputs": [],
   "source": [
    "from sv_system.utils import secToFrames, secToSample\n",
    "from sv_system.utils.parser import test_config\n",
    "si_config = test_config('tdnn')\n",
    "si_config['input_clip'] = True\n",
    "si_config['input_length'] = secToSample(3)\n",
    "si_config['input_frames'] = secToFrames(3)\n",
    "si_config['splice_frames'] = secToFrames(0.1)\n",
    "si_config['input_format'] = 'fbank'\n",
    "si_config['data_folder'] = \"/home/muncok/DL/dataset/SV_sets/reddots_r2015q4_v1/wav/\""
   ]
  },
  {
   "cell_type": "code",
   "execution_count": 5,
   "metadata": {},
   "outputs": [],
   "source": [
    "import torch\n",
    "from torch.autograd import Variable\n",
    "from tqdm import tqdm_notebook\n",
    "from sklearn.discriminant_analysis import LinearDiscriminantAnalysis as LDA\n",
    "\n",
    "def lda_on_tensor(tensor, lda):\n",
    "    return torch.from_numpy(lda.transform(tensor.numpy()).astype(np.float32))\n",
    "\n",
    "def embeds_utterance(opt, val_dataloader, model, lda=None):\n",
    "    val_iter = iter(val_dataloader)\n",
    "    model.eval()\n",
    "    splice_dim = opt['splice_frames']\n",
    "    embeddings = []\n",
    "    labels = []\n",
    "    for batch in tqdm_notebook(val_iter, total=len(val_iter)):\n",
    "        x, y = batch\n",
    "        time_dim = x.size(2)\n",
    "        split_points = range(0, time_dim-splice_dim+1, splice_dim//2)\n",
    "        model_outputs = []\n",
    "        for point in split_points:\n",
    "            x_in = Variable(x.narrow(2, point, splice_dim))\n",
    "            if not opt['no_cuda']:\n",
    "                x_in = x_in.cuda()\n",
    "            model_outputs.append(model.embed(x_in).cpu().data)\n",
    "#         print(len(model_outputs))\n",
    "        model_output = torch.stack(model_outputs, dim=0)\n",
    "        model_output = model_output.mean(0)\n",
    "        if lda is not None:\n",
    "            model_output = torch.from_numpy(lda.transform(model_output.numpy()).astype(np.float32))\n",
    "        embeddings.append(model_output)\n",
    "        labels.append(y.numpy())\n",
    "    embeddings = torch.cat(embeddings)\n",
    "    labels = np.hstack(labels)\n",
    "    return embeddings, labels\n",
    "\n",
    "def embeds_one(opt, val_dataloader, model, lda=None):\n",
    "    val_iter = iter(val_dataloader)\n",
    "    model.eval()\n",
    "    model\n",
    "    embeddings = []\n",
    "    labels = []\n",
    "    for batch in tqdm_notebook(val_iter, total=len(val_iter)):\n",
    "        x, y = batch\n",
    "        if not opt['no_cuda']:\n",
    "            x = x.cuda()\n",
    "        model_output = model(x)\n",
    "        embeddings.append(model_output.cpu().detach())\n",
    "        if lda is not None:\n",
    "            model_output = torch.from_numpy(lda.transform(model_output.numpy()).astype(np.float32))\n",
    "        labels.append(y.numpy())\n",
    "    embeddings = torch.cat(embeddings)\n",
    "    labels = np.hstack(labels)\n",
    "    return embeddings, labels"
   ]
  },
  {
   "cell_type": "markdown",
   "metadata": {},
   "source": [
    "## SI_Model"
   ]
  },
  {
   "cell_type": "markdown",
   "metadata": {},
   "source": [
    "### TDNN"
   ]
  },
  {
   "cell_type": "code",
   "execution_count": 6,
   "metadata": {},
   "outputs": [
    {
     "name": "stdout",
     "output_type": "stream",
     "text": [
      "loaded from ../models/compare_train_methods/reddots/si_reddots_TDNN_3s_0.1s_fbank.pt\n"
     ]
    }
   ],
   "source": [
    "from sv_system.model.TDNN import TdnnModel\n",
    "model = TdnnModel(si_config, 70, embed_mode=True)\n",
    "model.load(\"../models/compare_train_methods/reddots/si_reddots_TDNN_3s_0.1s_fbank.pt\")\n",
    "model.cuda()\n",
    "# lda = pickle.load(open(\"models/lda/si_reddots_0.2s_random_2_lda.pkl\", \"rb\"))\n",
    "lda = None"
   ]
  },
  {
   "cell_type": "markdown",
   "metadata": {},
   "source": [
    "### SpeechModel"
   ]
  },
  {
   "cell_type": "code",
   "execution_count": 12,
   "metadata": {},
   "outputs": [
    {
     "name": "stdout",
     "output_type": "stream",
     "text": [
      "loaded from ../models/voxc/si_train/full_train/si_voxc_res15_0.1s_full_fbank.pt\n"
     ]
    }
   ],
   "source": [
    "from sv_system.model.SpeechModel import SpeechResModel, SpeechModel\n",
    "model = SpeechResModel(\"res15\", 1260)\n",
    "model.load(\"../models/voxc/si_train/full_train/si_voxc_res15_0.1s_full_fbank.pt\")\n",
    "model.cuda()\n",
    "# lda = pickle.load(open(\"models/lda/si_reddots_0.2s_random_2_lda.pkl\", \"rb\"))\n",
    "lda = None"
   ]
  },
  {
   "cell_type": "markdown",
   "metadata": {},
   "source": [
    "##  Reddots Trial"
   ]
  },
  {
   "cell_type": "code",
   "execution_count": 7,
   "metadata": {},
   "outputs": [],
   "source": [
    "ndx = pd.read_pickle(\"../dataset/dataframes/reddots/m_part1/m_part1_ndx.pkl\")\n",
    "trn = pd.read_pickle(\"../dataset/dataframes/reddots/m_part1/m_part1_trn.pkl\")\n",
    "cord = pickle.load(open(\"../dataset/dataframes/reddots/m_part1/ndx_idxs.pkl\", \"rb\"))\n",
    "# ndx = pd.read_pickle(\"../dataset/dataframes/Reddots/m_part4_tp/m_part4_tp_ndx.pkl\")\n",
    "# trn = pd.read_pickle(\"../dataset/dataframes/Reddots/m_part4_tp/m_part4_tp_trn.pkl\")"
   ]
  },
  {
   "cell_type": "code",
   "execution_count": 8,
   "metadata": {},
   "outputs": [
    {
     "data": {
      "application/vnd.jupyter.widget-view+json": {
       "model_id": "e30baef081cf4a88af3a977a1f2da5d0",
       "version_major": 2,
       "version_minor": 0
      },
      "text/plain": [
       "HBox(children=(IntProgress(value=0, max=320), HTML(value='')))"
      ]
     },
     "metadata": {},
     "output_type": "display_data"
    },
    {
     "name": "stdout",
     "output_type": "stream",
     "text": [
      "\n"
     ]
    }
   ],
   "source": [
    "# x_cord = []\n",
    "# y_cord = []\n",
    "# ndx_file =pd.DataFrame(ndx.file.unique().tolist(), columns=['file'])\n",
    "# all_trials = trn.id.unique().tolist()\n",
    "# for trial_id in tqdm(all_trials):\n",
    "#     trial_ndx = ndx[(ndx.id == trial_id)].reset_index()\n",
    "#     trial_embed_idx = np.nonzero(ndx_file.file.isin(trial_ndx.file))[0].tolist()\n",
    "#     x_cord += [all_trials.index(trial_id)] * len(trial_embed_idx)\n",
    "#     y_cord += trial_embed_idx\n",
    "\n",
    "# cord = [x_cord, y_cord]\n",
    "# pickle.dump(cord, open(\"../dataset/dataframes/reddots/m_part1/ndx_idxs.pkl\", \"wb\"))"
   ]
  },
  {
   "cell_type": "code",
   "execution_count": 12,
   "metadata": {},
   "outputs": [],
   "source": [
    "err_type = {0:'TC', 1:'TW', 2:'IC', 3:'IW'}"
   ]
  },
  {
   "cell_type": "code",
   "execution_count": 13,
   "metadata": {},
   "outputs": [],
   "source": [
    "si_config['batch_size'] = 64\n",
    "si_config['num_workers'] = 16"
   ]
  },
  {
   "cell_type": "markdown",
   "metadata": {},
   "source": [
    "###  Enrollment (trn)"
   ]
  },
  {
   "cell_type": "code",
   "execution_count": 14,
   "metadata": {},
   "outputs": [],
   "source": [
    "trn_dataset = SpeechDataset.read_df(si_config, trn, \"test\")\n",
    "\n",
    "val_dataloader = init_default_loader(si_config, trn_dataset, shuffle=False)\n",
    "trn_embeddings, _ = embeds_one(si_config, val_dataloader, model, lda)\n",
    "embed_dim = trn_embeddings.shape[-1]\n",
    "trn_id = list(trn.id.unique())\n",
    "spk_model_dict = {}\n",
    "for id in trn_id:\n",
    "    index = np.nonzero(trn.id == id)\n",
    "    spk_model_dict[id] = trn_embeddings[index].mean(0, True)\n",
    "\n",
    "spk_models = torch.cat([emb for emb in spk_model_dict.values()])"
   ]
  },
  {
   "cell_type": "markdown",
   "metadata": {},
   "source": [
    "###  SV Scoring (ndx)"
   ]
  },
  {
   "cell_type": "code",
   "execution_count": 17,
   "metadata": {},
   "outputs": [],
   "source": [
    "ndx_file =pd.DataFrame(ndx.file.unique().tolist(), columns=['file'])\n",
    "ndx_dataset = SpeechDataset.read_df(si_config, ndx_file, \"test\")\n",
    "val_dataloader = init_default_loader(si_config, ndx_dataset, shuffle=False) \n",
    "ndx_embeddings, _ = embeds_one(si_config, val_dataloader, model, lda)"
   ]
  },
  {
   "cell_type": "code",
   "execution_count": 26,
   "metadata": {},
   "outputs": [
    {
     "name": "stdout",
     "output_type": "stream",
     "text": [
      "TC mean:0.93, std:0.047\n",
      "TW mean:0.91, std:0.054\n",
      "IC mean:0.79, std:0.075\n",
      "IW mean:0.79, std:0.075\n"
     ]
    }
   ],
   "source": [
    "sim_matrix = F.cosine_similarity(spk_models.unsqueeze(1), ndx_embeddings.unsqueeze(0), dim=2)\n",
    "sims = sim_matrix[cord]\n",
    "\n",
    "scores = dict()\n",
    "for t in range(4):\n",
    "    trial_type_idx = ndx[ndx.trial_type == t].index\n",
    "    scores[t] = sims[trial_type_idx]\n",
    "\n",
    "for t in range(4):\n",
    "     print(\"{} mean:{:.2f}, std:{:.3f}\".format(err_type[t], scores[t].mean(), scores[t].std()))"
   ]
  },
  {
   "cell_type": "markdown",
   "metadata": {},
   "source": [
    "TD EERs"
   ]
  },
  {
   "cell_type": "code",
   "execution_count": 27,
   "metadata": {},
   "outputs": [
    {
     "name": "stdout",
     "output_type": "stream",
     "text": [
      "[TW] eer: 0.39, thres: 0.93219\n",
      "[IC] eer: 0.12, thres: 0.87977\n",
      "[IW] eer: 0.11, thres: 0.87452\n"
     ]
    }
   ],
   "source": [
    "from sklearn.metrics import roc_curve\n",
    "\n",
    "\n",
    "for t in range(1,4):\n",
    "    score_vector = np.concatenate((scores[0], scores[t]))\n",
    "    label_vector = np.concatenate((np.ones(len(scores[0])), \n",
    "                               np.zeros(len(scores[t]))))\n",
    "    fpr, tpr, thres = roc_curve(label_vector, score_vector, pos_label=1)\n",
    "    eer = fpr[np.nanargmin(np.abs(fpr - (1 - tpr)))]\n",
    "    thres = thres[np.nanargmin(np.abs(fpr - (1 - tpr)))]\n",
    "    print(\"[{}] eer: {:.2f}, thres: {:.5f}\".format(err_type[t], eer, thres))"
   ]
  },
  {
   "cell_type": "markdown",
   "metadata": {},
   "source": [
    "TI EERs"
   ]
  },
  {
   "cell_type": "code",
   "execution_count": 24,
   "metadata": {},
   "outputs": [
    {
     "name": "stdout",
     "output_type": "stream",
     "text": [
      "[TI] eer: 0.16\n"
     ]
    }
   ],
   "source": [
    "from sklearn.metrics import roc_curve\n",
    "\n",
    "score_vector = np.concatenate((scores[0], scores[1],\n",
    "                              scores[2], scores[3]))\n",
    "label_vector = np.concatenate((np.ones(len(scores[0]) + len(scores[1])), \n",
    "                           np.zeros(len(scores[2]) + len(scores[3]))))\n",
    "fpr, tpr, thres = roc_curve(label_vector, score_vector, pos_label=1)\n",
    "eer = fpr[np.nanargmin(np.abs(fpr - (1 - tpr)))]\n",
    "print(\"[TI] eer: {:.2f}\".format(eer))"
   ]
  },
  {
   "cell_type": "code",
   "execution_count": null,
   "metadata": {},
   "outputs": [],
   "source": []
  }
 ],
 "metadata": {
  "kernelspec": {
   "display_name": "Pytorch",
   "language": "python",
   "name": "pytorch"
  },
  "language_info": {
   "codemirror_mode": {
    "name": "ipython",
    "version": 3
   },
   "file_extension": ".py",
   "mimetype": "text/x-python",
   "name": "python",
   "nbconvert_exporter": "python",
   "pygments_lexer": "ipython3",
   "version": "3.6.2"
  }
 },
 "nbformat": 4,
 "nbformat_minor": 2
}
