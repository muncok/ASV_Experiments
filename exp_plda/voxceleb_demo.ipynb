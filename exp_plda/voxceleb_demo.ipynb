{
 "cells": [
  {
   "cell_type": "code",
   "execution_count": 1,
   "metadata": {},
   "outputs": [
    {
     "name": "stdout",
     "output_type": "stream",
     "text": [
      "Using matplotlib backend: TkAgg\n",
      "Populating the interactive namespace from numpy and matplotlib\n"
     ]
    }
   ],
   "source": [
    "%load_ext autoreload\n",
    "%autoreload 2\n",
    "%pylab\n",
    "%matplotlib inline\n",
    "\n",
    "import os\n",
    "import sys\n",
    "import pandas as pd\n",
    "import pickle\n",
    "import numpy as np"
   ]
  },
  {
   "cell_type": "code",
   "execution_count": 2,
   "metadata": {},
   "outputs": [],
   "source": [
    "import sys\n",
    "sys.path.append(\"../exp_adaptive_sv/\")"
   ]
  },
  {
   "cell_type": "code",
   "execution_count": 8,
   "metadata": {},
   "outputs": [],
   "source": [
    "from utils import get_id2idx\n",
    "si_embed_dir = \"embeddings/voxc2_fbank64_voxc2untied_xvector/\"\n",
    "si_embeds = np.load(si_embed_dir + \"/si_embeds.npy\")\n",
    "si_keys = pickle.load(open(si_embed_dir + \"/si_keys.pkl\", \"rb\"))\n",
    "si_id2idx = get_id2idx(si_keys)\n",
    "\n",
    "sv_embed_dir = \"embeddings/voxc2_fbank64_voxc2untied_xvector/\"\n",
    "sv_embeds = np.load(sv_embed_dir + \"/sv_embeds.npy\")\n",
    "sv_keys = pickle.load(open(sv_embed_dir + \"/sv_keys.pkl\", \"rb\"))\n",
    "sv_id2idx = get_id2idx(sv_keys)\n",
    "\n",
    "# from sklearn.discriminant_analysis import LinearDiscriminantAnalysis as LDA\n",
    "# si_embed_mean = si_embeds.mean(0)\n",
    "# centered_si_embeds = si_embeds - si_embed_mean.reshape(1, -1)\n",
    "# centered_sv_embeds = sv_embeds - si_embed_mean.reshape(1, -1)\n",
    "\n",
    "# clf = LDA(solver='svd', n_components=200)\n",
    "# clf.fit(centered_si_embeds, si_df.label)\n",
    "\n",
    "# lda_si_embeds = clf.transform(centered_si_embeds)\n",
    "# lda_sv_embeds = clf.transform(centered_sv_embeds)"
   ]
  },
  {
   "cell_type": "code",
   "execution_count": 11,
   "metadata": {},
   "outputs": [],
   "source": [
    "from utils import key2df\n",
    "si_df = key2df(si_keys)\n",
    "sv_df = key2df(sv_keys)"
   ]
  },
  {
   "cell_type": "code",
   "execution_count": 10,
   "metadata": {},
   "outputs": [],
   "source": [
    "plda_dir = sv_embed_dir + \"plda_train/\""
   ]
  },
  {
   "cell_type": "markdown",
   "metadata": {},
   "source": [
    "# Load Data."
   ]
  },
  {
   "cell_type": "code",
   "execution_count": 8,
   "metadata": {},
   "outputs": [],
   "source": [
    "lda_si_embeds = np.load(\"embeddings/voxc2_fbank64_voxc2untied_xvector/lda_si_embeds.npy\")\n",
    "lda_sv_embeds = np.load(\"embeddings/voxc2_fbank64_voxc2untied_xvector/lda_sv_embeds.npy\")"
   ]
  },
  {
   "cell_type": "code",
   "execution_count": 47,
   "metadata": {},
   "outputs": [],
   "source": [
    "# length normalization\n",
    "ln_lda_si_embeds = lda_si_embeds * np.sqrt(lda_si_embeds.shape[1]) / \\\n",
    "                                           np.linalg.norm(lda_si_embeds, axis=1, keepdims=True)\n",
    "ln_lda_sv_embeds = lda_sv_embeds * np.sqrt(lda_sv_embeds.shape[1]) / \\\n",
    "                                           np.linalg.norm(lda_sv_embeds, axis=1, keepdims=True)"
   ]
  },
  {
   "cell_type": "code",
   "execution_count": 60,
   "metadata": {},
   "outputs": [],
   "source": [
    "np.save(\"embeddings/voxc2_fbank64_voxc2untied_xvector/ln_lda_si_embeds.npy\", ln_lda_si_embeds)"
   ]
  },
  {
   "cell_type": "code",
   "execution_count": 61,
   "metadata": {},
   "outputs": [],
   "source": [
    "np.save(\"embeddings/voxc2_fbank64_voxc2untied_xvector/ln_lda_sv_embeds.npy\", ln_lda_sv_embeds)"
   ]
  },
  {
   "cell_type": "markdown",
   "metadata": {},
   "source": [
    "## PLDA Verifier "
   ]
  },
  {
   "cell_type": "code",
   "execution_count": 95,
   "metadata": {},
   "outputs": [],
   "source": [
    "from ioffe_plda.verifier import Verifier\n",
    "saved_model = pickle.load(open(\"verifier_lda_embeds.pkl\", \"rb\"))\n",
    "verifier = Verifier(saved_model)"
   ]
  },
  {
   "cell_type": "code",
   "execution_count": 72,
   "metadata": {},
   "outputs": [],
   "source": [
    "# verifier.fit(si_embeds, si_df.label)\n",
    "# pickle.dump(verifier, open(\"verifier_tmp.pkl\", \"wb\"))"
   ]
  },
  {
   "cell_type": "code",
   "execution_count": 85,
   "metadata": {},
   "outputs": [
    {
     "name": "stdout",
     "output_type": "stream",
     "text": [
      "CPU times: user 29 s, sys: 30.8 s, total: 59.8 s\n",
      "Wall time: 1.42 s\n"
     ]
    }
   ],
   "source": [
    "%%time\n",
    "py_plda_scores = verifier.multi_sess(ln_lda_sv_embeds[:20], ln_lda_sv_embeds[20:])"
   ]
  },
  {
   "cell_type": "code",
   "execution_count": 104,
   "metadata": {},
   "outputs": [
    {
     "name": "stdout",
     "output_type": "stream",
     "text": [
      "CPU times: user 3min 46s, sys: 3min 42s, total: 7min 29s\n",
      "Wall time: 13.2 s\n"
     ]
    }
   ],
   "source": [
    "%%time\n",
    "py_plda_scores = verifier.score_avg(ln_lda_sv_embeds[:20], ln_lda_sv_embeds[20:])"
   ]
  },
  {
   "cell_type": "code",
   "execution_count": 106,
   "metadata": {},
   "outputs": [
    {
     "name": "stdout",
     "output_type": "stream",
     "text": [
      "CPU times: user 27.6 s, sys: 35.9 s, total: 1min 3s\n",
      "Wall time: 1.97 s\n"
     ]
    }
   ],
   "source": [
    "%%time\n",
    "py_plda_scores = verifier.vector_avg(ln_lda_sv_embeds[:20], ln_lda_sv_embeds[20:])"
   ]
  },
  {
   "cell_type": "code",
   "execution_count": 54,
   "metadata": {},
   "outputs": [],
   "source": [
    "from batch_sv_system_utils import compute_plda_score\n",
    "kaldi_plda_scores = compute_plda_score(sv_embeds[:20], sv_embeds[20:], plda_dir, mean=True)"
   ]
  },
  {
   "cell_type": "code",
   "execution_count": 52,
   "metadata": {},
   "outputs": [],
   "source": [
    "labels = np.array(sv_df[20:].label == 0, dtype=np.int64)"
   ]
  },
  {
   "cell_type": "code",
   "execution_count": 107,
   "metadata": {},
   "outputs": [
    {
     "data": {
      "text/plain": [
       "(0.01754385964912286, 0.017335879404844923, 0.01754385964912286, 8.09347)"
      ]
     },
     "execution_count": 107,
     "metadata": {},
     "output_type": "execute_result"
    }
   ],
   "source": [
    "from batch_sv_system_utils import compute_eer\n",
    "compute_eer(np.round(py_plda_scores.mean(0), 5), labels)"
   ]
  },
  {
   "cell_type": "code",
   "execution_count": 56,
   "metadata": {},
   "outputs": [
    {
     "data": {
      "text/plain": [
       "(0.018117949152431912, 0.018117949152431912, 0.01754385964912286, -32.43853)"
      ]
     },
     "execution_count": 56,
     "metadata": {},
     "output_type": "execute_result"
    }
   ],
   "source": [
    "from batch_sv_system_utils import compute_eer\n",
    "compute_eer(np.round(kaldi_plda_scores[0], 5), labels)"
   ]
  }
 ],
 "metadata": {
  "kernelspec": {
   "display_name": "Python 3",
   "language": "python",
   "name": "python3"
  },
  "language_info": {
   "codemirror_mode": {
    "name": "ipython",
    "version": 3
   },
   "file_extension": ".py",
   "mimetype": "text/x-python",
   "name": "python",
   "nbconvert_exporter": "python",
   "pygments_lexer": "ipython3",
   "version": "3.6.5"
  },
  "widgets": {
   "state": {},
   "version": "1.1.2"
  }
 },
 "nbformat": 4,
 "nbformat_minor": 2
}
