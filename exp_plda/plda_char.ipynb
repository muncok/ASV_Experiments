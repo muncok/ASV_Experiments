{
 "cells": [
  {
   "cell_type": "code",
   "execution_count": 1,
   "metadata": {},
   "outputs": [
    {
     "name": "stdout",
     "output_type": "stream",
     "text": [
      "Using matplotlib backend: TkAgg\n",
      "Populating the interactive namespace from numpy and matplotlib\n"
     ]
    }
   ],
   "source": [
    "%load_ext autoreload\n",
    "%autoreload 2\n",
    "%pylab\n",
    "%matplotlib inline\n",
    "\n",
    "import os\n",
    "import sys\n",
    "import pandas as pd\n",
    "import pickle\n",
    "import numpy as np"
   ]
  },
  {
   "cell_type": "code",
   "execution_count": 7,
   "metadata": {},
   "outputs": [],
   "source": [
    "from batch_sv_system_utils import cosine_sim, compute_plda_score, get_embeds\n",
    "from utils import get_id2idx"
   ]
  },
  {
   "cell_type": "code",
   "execution_count": 5,
   "metadata": {},
   "outputs": [],
   "source": [
    "embed_dir = \"embeddings/voxc2_fbank64_voxc2untied_embeds/\"\n",
    "sv_embeds = np.load(embed_dir + \"/sv_embeds.npy\")\n",
    "keys = pickle.load(open(embed_dir + \"/sv_keys.pkl\", \"rb\"))\n",
    "id2idx = get_id2idx(keys)\n",
    "\n",
    "plda_embed_dir = \"embeddings/voxc2_fbank64_voxc2untied_xvector/\"\n",
    "plda_sv_embeds = np.load(plda_embed_dir + \"/sv_embeds.npy\")\n",
    "plda_model_dir = plda_embed_dir + \"plda_train/\"\n",
    "plda_keys = pickle.load(open(plda_embed_dir + \"/sv_keys.pkl\", \"rb\"))\n",
    "plda_id2idx = get_id2idx(plda_keys)\n",
    "\n",
    "cohort_embeds = np.load(\"trials/dev940_eval311/dev_cohort_embeds.npy\")"
   ]
  },
  {
   "cell_type": "markdown",
   "metadata": {},
   "source": [
    "## Cosine  "
   ]
  },
  {
   "cell_type": "code",
   "execution_count": 18,
   "metadata": {},
   "outputs": [],
   "source": [
    "a = get_embeds(keys[:5], sv_embeds, id2idx)\n",
    "b = get_embeds(keys[3:10], sv_embeds, id2idx)"
   ]
  },
  {
   "cell_type": "code",
   "execution_count": 19,
   "metadata": {},
   "outputs": [
    {
     "data": {
      "text/plain": [
       "array([0.79724103, 0.80605346, 0.7853865 , 0.79325885, 0.7850086 ,\n",
       "       0.77598035, 0.7555752 ], dtype=float32)"
      ]
     },
     "execution_count": 19,
     "metadata": {},
     "output_type": "execute_result"
    }
   ],
   "source": [
    "cosine_sim(a, b).mean(0)"
   ]
  },
  {
   "cell_type": "code",
   "execution_count": 21,
   "metadata": {},
   "outputs": [
    {
     "data": {
      "text/plain": [
       "array([0.797241  , 0.8060535 , 0.78538656, 0.79325885, 0.78500867,\n",
       "       0.77598053, 0.7555753 ], dtype=float32)"
      ]
     },
     "execution_count": 21,
     "metadata": {},
     "output_type": "execute_result"
    }
   ],
   "source": [
    "# not exact cosine similarity of a.mean(0), because it does not have unit norm.\n",
    "# however, it equals to the average of scores.\n",
    "cosine_sim(a.mean(0), b)"
   ]
  },
  {
   "cell_type": "markdown",
   "metadata": {},
   "source": [
    "## PLDA"
   ]
  },
  {
   "cell_type": "code",
   "execution_count": 35,
   "metadata": {},
   "outputs": [],
   "source": [
    "a = get_embeds(plda_keys[:2], plda_sv_embeds, plda_id2idx, norm=False)\n",
    "b = get_embeds(plda_keys[3:50], plda_sv_embeds, plda_id2idx, norm=False)"
   ]
  },
  {
   "cell_type": "code",
   "execution_count": 78,
   "metadata": {},
   "outputs": [],
   "source": [
    "average_sort = np.argsort(compute_plda_score(a, b, plda_model_dir, mean=False).mean(0))"
   ]
  },
  {
   "cell_type": "code",
   "execution_count": 85,
   "metadata": {},
   "outputs": [
    {
     "data": {
      "text/plain": [
       "array([[12.91658 , 19.67509 , 19.25675 , 16.11789 , 39.27283 , 33.40192 ,\n",
       "        32.1818  , 30.88167 , 21.53151 , 24.47119 , 34.96891 , 23.23224 ,\n",
       "        27.14427 , 27.84225 , 13.10076 , 16.24495 ,  6.494434, 10.79073 ,\n",
       "        24.23748 , 27.09806 , 34.80861 , 17.03445 , 17.71111 ,  8.220601,\n",
       "        11.6761  , 18.70403 , 22.8391  , 18.69051 ,  8.714568, 27.09784 ,\n",
       "         8.847136, 19.7783  , 23.19859 , 11.17869 , 18.75489 , 13.10855 ,\n",
       "        24.95004 , 29.37314 , 25.55992 , 23.34107 ,  4.83798 , 17.37362 ,\n",
       "        21.41072 , 27.01563 , 20.64428 , 13.75123 , 25.51117 ]])"
      ]
     },
     "execution_count": 85,
     "metadata": {},
     "output_type": "execute_result"
    }
   ],
   "source": [
    "compute_plda_score(a, b, plda_model_dir, mean=True)"
   ]
  },
  {
   "cell_type": "code",
   "execution_count": 88,
   "metadata": {},
   "outputs": [
    {
     "data": {
      "text/plain": [
       "array([40, 16, 23, 28, 30, 17, 24, 35, 33,  0, 14, 45,  3, 15, 41, 21, 22,\n",
       "       31,  1,  2, 25, 27, 34,  8, 44, 42, 11, 18, 26,  9, 39, 32, 36, 46,\n",
       "       38, 43, 29, 19, 12, 13, 37,  7,  6,  5, 20, 10,  4])"
      ]
     },
     "execution_count": 88,
     "metadata": {},
     "output_type": "execute_result"
    }
   ],
   "source": [
    "np.argsort(compute_plda_score(a, b, plda_model_dir, mean=False).mean(0))"
   ]
  },
  {
   "cell_type": "code",
   "execution_count": 87,
   "metadata": {},
   "outputs": [
    {
     "data": {
      "text/plain": [
       "array([[40, 16, 23, 28, 30, 17, 24, 35,  0, 33, 45, 14, 15, 41, 31,  3,\n",
       "        21,  1, 25, 22,  2, 27,  8, 34, 44, 18,  9, 11, 42, 26, 39, 32,\n",
       "        36, 46, 43, 29, 38, 19, 13, 12,  7, 37,  5,  6, 20, 10,  4]])"
      ]
     },
     "execution_count": 87,
     "metadata": {},
     "output_type": "execute_result"
    }
   ],
   "source": [
    "np.argsort(compute_plda_score(a, b, plda_model_dir, mean=True))"
   ]
  },
  {
   "cell_type": "code",
   "execution_count": 77,
   "metadata": {},
   "outputs": [],
   "source": [
    "cent_sort = np.argsort(compute_plda_score(a, b, plda_model_dir, mean=True))[0]"
   ]
  },
  {
   "cell_type": "code",
   "execution_count": 79,
   "metadata": {},
   "outputs": [
    {
     "data": {
      "text/plain": [
       "array([40, 16, 23, 28, 30, 17, 24, 35, 33,  0, 14, 45,  3, 15, 41, 21, 22,\n",
       "       31,  1,  2, 25, 27, 34,  8, 44, 42, 11, 18, 26,  9, 39, 32, 36, 46,\n",
       "       38, 43, 29, 19, 12, 13, 37,  7,  6,  5, 20, 10,  4])"
      ]
     },
     "execution_count": 79,
     "metadata": {},
     "output_type": "execute_result"
    }
   ],
   "source": [
    "average_sort"
   ]
  },
  {
   "cell_type": "code",
   "execution_count": 80,
   "metadata": {},
   "outputs": [
    {
     "data": {
      "text/plain": [
       "array([40, 16, 23, 28, 30, 17, 24, 35,  0, 33, 45, 14, 15, 41, 31,  3, 21,\n",
       "        1, 25, 22,  2, 27,  8, 34, 44, 18,  9, 11, 42, 26, 39, 32, 36, 46,\n",
       "       43, 29, 38, 19, 13, 12,  7, 37,  5,  6, 20, 10,  4])"
      ]
     },
     "execution_count": 80,
     "metadata": {},
     "output_type": "execute_result"
    }
   ],
   "source": [
    "cent_sort"
   ]
  },
  {
   "cell_type": "code",
   "execution_count": 60,
   "metadata": {},
   "outputs": [
    {
     "data": {
      "text/plain": [
       "array([False, False, False, False, False, False, False, False, False,\n",
       "       False, False, False, False, False, False, False, False, False,\n",
       "       False, False, False, False, False, False, False, False, False,\n",
       "       False, False, False, False, False, False, False, False, False,\n",
       "       False, False, False, False, False, False, False, False, False,\n",
       "       False, False])"
      ]
     },
     "execution_count": 60,
     "metadata": {},
     "output_type": "execute_result"
    }
   ],
   "source": [
    "average_sort == cent_sort"
   ]
  },
  {
   "cell_type": "code",
   "execution_count": null,
   "metadata": {},
   "outputs": [],
   "source": []
  }
 ],
 "metadata": {
  "kernelspec": {
   "display_name": "Python 3",
   "language": "python",
   "name": "python3"
  },
  "language_info": {
   "codemirror_mode": {
    "name": "ipython",
    "version": 3
   },
   "file_extension": ".py",
   "mimetype": "text/x-python",
   "name": "python",
   "nbconvert_exporter": "python",
   "pygments_lexer": "ipython3",
   "version": "3.6.5"
  }
 },
 "nbformat": 4,
 "nbformat_minor": 2
}
