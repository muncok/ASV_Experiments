{
 "cells": [
  {
   "cell_type": "code",
   "execution_count": 1,
   "metadata": {},
   "outputs": [],
   "source": [
    "from dnn.data.dataloader import init_default_loader\n",
    "from dnn.data.dataset import SpeechDataset\n",
    "from dnn.utils import secToSample, secToFrames\n",
    "from dnn.sv_score import embeds\n",
    "\n",
    "import torch.nn.functional as F\n",
    "import os\n",
    "import pandas as pd\n",
    "import numpy as np"
   ]
  },
  {
   "cell_type": "code",
   "execution_count": 2,
   "metadata": {},
   "outputs": [],
   "source": [
    "from dnn.utils.parser import get_sv_parser\n",
    "options = get_sv_parser().parse_args(args=[])\n",
    "options.n_dct_filters = 40\n",
    "options.n_mels = 40\n",
    "options.timeshift_ms = 100\n",
    "options.window_size= 0.025\n",
    "options.window_stride= 0.010\n",
    "options.cache_size = 32768"
   ]
  },
  {
   "cell_type": "code",
   "execution_count": 21,
   "metadata": {},
   "outputs": [],
   "source": [
    "options.input_format = 'fbank'\n",
    "options.input_clip = True\n",
    "options.input_length = secToSample(4)\n",
    "options.splice_frames = secToSample(0.1)//160+1"
   ]
  },
  {
   "cell_type": "code",
   "execution_count": 4,
   "metadata": {},
   "outputs": [],
   "source": [
    "options.data_folder = \"/home/muncok/DL/projects/human_sv/wavs/reddots/\""
   ]
  },
  {
   "cell_type": "code",
   "execution_count": 23,
   "metadata": {},
   "outputs": [
    {
     "name": "stdout",
     "output_type": "stream",
     "text": [
      "loaded from ../interspeech2018/models/voxc/si_train/full_train/si_voxc_res15_0.1s_full_fbank.pt\n"
     ]
    }
   ],
   "source": [
    "from dnn.model.SpeechModel import SpeechResModel\n",
    "model = SpeechResModel(\"res15\", 10)\n",
    "model.load_partial(\"../interspeech2018/models/voxc/si_train/full_train/si_voxc_res15_0.1s_full_fbank.pt\")\n",
    "model.cuda()\n",
    "lda = None  # None means not using lda"
   ]
  },
  {
   "cell_type": "code",
   "execution_count": 24,
   "metadata": {},
   "outputs": [],
   "source": [
    "test_samples = []\n",
    "for dirpath, dirnames, filenames in os.walk(\"../human_sv/wavs/reddots/\"):\n",
    "    filenames = [file for file in filenames if file.endswith(\".wav\")]\n",
    "    for file in filenames:\n",
    "        test_samples.append(os.path.abspath(os.path.join(dirpath,file)))\n",
    "test_samples = sorted(test_samples)        \n",
    "\n",
    "samples = [sample.split(\"/\")[-2:] + [os.path.join(*sample.split(\"/\")[-2:])] for sample in test_samples]\n",
    "test_df = pd.DataFrame.from_records(samples, columns=['spk', 'file', 'path'])\n",
    "usage = test_df.file.apply(lambda x: \"enroll\" if x.startswith(\"e\") else \"test\")\n",
    "test_df['usage'] = usage\n",
    "data = SpeechDataset.read_df(options.data_folder, test_df)"
   ]
  },
  {
   "cell_type": "code",
   "execution_count": 25,
   "metadata": {},
   "outputs": [],
   "source": [
    "config = vars(options)\n",
    "dataset = SpeechDataset(data, \"test\", config)\n",
    "val_dataloader = init_default_loader(dataset)"
   ]
  },
  {
   "cell_type": "code",
   "execution_count": 26,
   "metadata": {},
   "outputs": [],
   "source": [
    "embeddings, _ = embeds(options, val_dataloader, model, lda)"
   ]
  },
  {
   "cell_type": "code",
   "execution_count": 27,
   "metadata": {},
   "outputs": [
    {
     "name": "stdout",
     "output_type": "stream",
     "text": [
      "A_m0001_31\n",
      "tensor([ 0.9878,  0.9853,  0.9463,  0.9869,  0.9898,  0.9264,  0.9394,\n",
      "         0.9919,  0.9790,  0.9909])\n",
      "B_m0015_40\n",
      "tensor([ 0.9944,  0.9733,  0.9694,  0.9941,  0.9054,  0.9911,  0.9634,\n",
      "         0.9449,  0.9610,  0.9899])\n",
      "C_m0008_39\n",
      "tensor([ 0.9946,  0.9831,  0.9873,  0.9260,  0.9314,  0.9921,  0.9237,\n",
      "         0.9154,  0.9794,  0.9912])\n"
     ]
    }
   ],
   "source": [
    "import torch\n",
    "spks = test_df.spk.unique().tolist()\n",
    "for spk in spks:\n",
    "    print(spk)\n",
    "    enroll_idxs = np.nonzero((test_df.spk == spk) & (test_df.usage == \"enroll\"))\n",
    "    test_idxs = np.nonzero((test_df.spk == spk) & (test_df.usage == \"test\"))\n",
    "    enroll_embeddings = torch.mean(embeddings[enroll_idxs], 0, True)\n",
    "    test_embeddings = embeddings[test_idxs]\n",
    "    print(F.cosine_similarity(enroll_embeddings, test_embeddings))"
   ]
  },
  {
   "cell_type": "code",
   "execution_count": 34,
   "metadata": {},
   "outputs": [],
   "source": [
    "torch.cuda.set_device(0)"
   ]
  },
  {
   "cell_type": "code",
   "execution_count": 30,
   "metadata": {},
   "outputs": [],
   "source": [
    "t = iter(val_dataloader).__next__()"
   ]
  },
  {
   "cell_type": "code",
   "execution_count": 32,
   "metadata": {},
   "outputs": [
    {
     "data": {
      "text/plain": [
       "torch.Size([39, 401, 40])"
      ]
     },
     "execution_count": 32,
     "metadata": {},
     "output_type": "execute_result"
    }
   ],
   "source": [
    "t[0].shape"
   ]
  },
  {
   "cell_type": "code",
   "execution_count": null,
   "metadata": {},
   "outputs": [],
   "source": []
  }
 ],
 "metadata": {
  "kernelspec": {
   "display_name": "Pytorch",
   "language": "python",
   "name": "pytorch"
  },
  "language_info": {
   "codemirror_mode": {
    "name": "ipython",
    "version": 3
   },
   "file_extension": ".py",
   "mimetype": "text/x-python",
   "name": "python",
   "nbconvert_exporter": "python",
   "pygments_lexer": "ipython3",
   "version": "3.6.2"
  }
 },
 "nbformat": 4,
 "nbformat_minor": 2
}
