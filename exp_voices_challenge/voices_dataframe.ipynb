{
 "cells": [
  {
   "cell_type": "code",
   "execution_count": null,
   "metadata": {},
   "outputs": [],
   "source": [
    "import os\n",
    "import pandas as pd"
   ]
  },
  {
   "cell_type": "code",
   "execution_count": null,
   "metadata": {},
   "outputs": [],
   "source": [
    "data_dir = \"/dataset/SV_sets/voices/Development_Data/Speaker_Recognition/sid_dev/\""
   ]
  },
  {
   "cell_type": "markdown",
   "metadata": {},
   "source": [
    "### Dev Enroll List"
   ]
  },
  {
   "cell_type": "code",
   "execution_count": null,
   "metadata": {},
   "outputs": [],
   "source": [
    "dev_enroll_list = pd.read_csv(\"/dataset/SV_sets/voices/original_data/sid_dev_lists_and_keys/dev-enroll.lst\", \n",
    "                              names=[\"id\", \"wav\"], delimiter=' ')\n",
    "dev_enroll_list['file'] = dev_enroll_list.wav.apply(lambda x: \"/\".join(x.split(\"/\")[1:]).rstrip(\".wav\"))\n",
    "recs =  dev_enroll_list.id.apply(lambda x: x.split('-'))\n",
    "info = list(zip(*recs))[3:]\n",
    "info_df = pd.DataFrame(info).T\n",
    "info_df.columns = [\"room\", \"noise\", \"spk_id\", \"ch_id\", \"sg_id\", \"mc_id\", \"mc_t\", \"mc_l\", \"mc_deg\"]\n",
    "dev_enroll_df = pd.concat([dev_enroll_list, info_df], axis=1)\n",
    "dev_enroll_df.drop(columns=\"wav\", inplace=True)\n",
    "dev_enroll_df['set'] = \"enroll\""
   ]
  },
  {
   "cell_type": "code",
   "execution_count": null,
   "metadata": {},
   "outputs": [],
   "source": [
    "dev_enroll_df.head()"
   ]
  },
  {
   "cell_type": "markdown",
   "metadata": {},
   "source": [
    "### Dev Test List "
   ]
  },
  {
   "cell_type": "code",
   "execution_count": null,
   "metadata": {},
   "outputs": [],
   "source": [
    "dev_test_list = pd.read_csv(\"/dataset/SV_sets/voices/original_data/sid_dev_lists_and_keys/dev-test.lst\", names=[\"id\"])\n",
    "dev_test_list['file'] = dev_test_list.id.apply(lambda x: \"/\".join(x.split(\"/\")[1:]).rstrip(\".wav\"))\n",
    "recs = dev_test_list.id.apply(lambda x: x.rstrip(\".wav\").split('-'))\n",
    "info = list(zip(*recs))[3:]\n",
    "info_df = pd.DataFrame(info).T\n",
    "info_df.columns = [\"room\", \"noise\", \"spk_id\", \"ch_id\", \"sg_id\", \"mc_id\", \"mc_t\", \"mc_l\", \"mc_deg\"]\n",
    "dev_test_df = pd.concat([dev_test_list, info_df], axis=1)\n",
    "# dev_test_df.drop(columns=\"wav\", inplace=True)\n",
    "dev_test_df['set'] = \"test\""
   ]
  },
  {
   "cell_type": "code",
   "execution_count": null,
   "metadata": {},
   "outputs": [],
   "source": [
    "dev_test_df.head()"
   ]
  },
  {
   "cell_type": "code",
   "execution_count": null,
   "metadata": {},
   "outputs": [],
   "source": [
    "from IPython.display import Audio"
   ]
  },
  {
   "cell_type": "code",
   "execution_count": null,
   "metadata": {},
   "outputs": [],
   "source": [
    "Audio(\"/dataset/SV_sets/voices/sid_dev/sp0032/Lab41-SRI-VOiCES-rm2-babb-sp0032-ch021625-sg00"
   ]
  },
  {
   "cell_type": "code",
   "execution_count": null,
   "metadata": {},
   "outputs": [],
   "source": [
    "Audio(\"/dataset/SV_sets/voices/sid_dev/sp0032/Lab41-SRI-VOiCES-rm2-babb-sp0032-ch021631-sg00"
   ]
  },
  {
   "cell_type": "markdown",
   "metadata": {},
   "source": [
    "### Total Dev List"
   ]
  },
  {
   "cell_type": "code",
   "execution_count": null,
   "metadata": {},
   "outputs": [],
   "source": [
    "dev_df = pd.concat([dev_enroll_df, dev_test_df], sort=False)\n",
    "dev_df.to_csv(\"/dataset/SV_sets/voices/voices_dev.csv\", index=False)"
   ]
  },
  {
   "cell_type": "code",
   "execution_count": null,
   "metadata": {},
   "outputs": [],
   "source": [
    "wavs = dev_df.file.apply(lambda x: \"sid_dev/\"+x+\".wav\")\n",
    "ids = dev_df.id\n",
    "pd.DataFrame(ids).assign(wav=wavs).to_csv(\"/dataset/SV_sets/voices/kaldi_files/wav.scp\", index=False, sep=' ', header=None)\n",
    "spk2utt = dev_df.sort_values(\"spk_id\").groupby(\"spk_id\").apply(lambda x: x.id.values)\n",
    "\n",
    "with open(\"/dataset/SV_sets/voices/kaldi_files/spk2utt\", \"w\") as f:\n",
    "    for k, v in spk2utt.iteritems():\n",
    "        line = ' '.join([k]+v.tolist())\n",
    "        f.write(line+'\\n')"
   ]
  },
  {
   "cell_type": "markdown",
   "metadata": {},
   "source": [
    "### Dev Distribution"
   ]
  },
  {
   "cell_type": "code",
   "execution_count": null,
   "metadata": {},
   "outputs": [],
   "source": [
    "dev_df.groupby('spk_id').ch_id.value_counts()"
   ]
  },
  {
   "cell_type": "code",
   "execution_count": null,
   "metadata": {},
   "outputs": [],
   "source": [
    "# enrollemend room(\"rm1\") and test room(\"rm2\")\n",
    "dev_df.room.value_counts()"
   ]
  },
  {
   "cell_type": "code",
   "execution_count": null,
   "metadata": {},
   "outputs": [],
   "source": [
    "dev_df.noise.value_counts()"
   ]
  },
  {
   "cell_type": "code",
   "execution_count": null,
   "metadata": {},
   "outputs": [],
   "source": [
    "dev_df.spk_id.value_counts()"
   ]
  },
  {
   "cell_type": "markdown",
   "metadata": {},
   "source": [
    "### VOiECE trials"
   ]
  },
  {
   "cell_type": "code",
   "execution_count": null,
   "metadata": {},
   "outputs": [],
   "source": [
    "trial_list = pd.read_csv(\"/dataset/SV_sets/voices/original_data/sid_dev_lists_and_keys/dev-trial-keys.lst\", delimiter=\" \", names=[\"enroll_id\", \"test_id\", \"label\"])\n",
    "# trial_list.test_id = trial_list.test_id.apply(lambda x: x.split(\"/\")[2].rstrip(\".wav\"))"
   ]
  },
  {
   "cell_type": "code",
   "execution_count": null,
   "metadata": {},
   "outputs": [],
   "source": [
    "dev_ids = dev_df.id.tolist()\n",
    "id2idx = {v:i for i, v in enumerate(dev_ids)}\n",
    "enr_idx = trial_list.enroll_id.apply(lambda x: id2idx[x])\n",
    "test_idx = trial_list.test_id.apply(lambda x: id2idx[x])\n",
    "trial_list['enroll_idx'] = enr_idx\n",
    "trial_list['test_idx'] = test_idx\n",
    "trial_list.loc[trial_list.label == 'imp', 'label'] = 0\n",
    "trial_list.loc[trial_list.label == 'tgt', 'label'] = 1\n",
    "trial_list.to_csv(\"/dataset/SV_sets/voices/voices_dev_trial.csv\", index=False)"
   ]
  },
  {
   "cell_type": "code",
   "execution_count": null,
   "metadata": {},
   "outputs": [],
   "source": [
    "trial_list.label.value_counts()"
   ]
  },
  {
   "cell_type": "code",
   "execution_count": null,
   "metadata": {},
   "outputs": [],
   "source": [
    "print(f\"target_ratio: {20096 / 3985792}\")"
   ]
  },
  {
   "cell_type": "markdown",
   "metadata": {},
   "source": [
    "## Eval Set"
   ]
  },
  {
   "cell_type": "markdown",
   "metadata": {},
   "source": [
    "무조건 id는 패턴을 맞춰주는게 좋다 speaker-id로 시작해야 sorting이 올바르게 된다."
   ]
  },
  {
   "cell_type": "code",
   "execution_count": null,
   "metadata": {},
   "outputs": [],
   "source": [
    "eval_enroll = pd.read_csv(\"/dataset/SV_sets/voices/eval_set/sid_eval_lists/eval-enroll.lst\", delimiter=\" \", names=[\"id\", \"file\"])\n",
    "eval_test = pd.read_csv(\"/dataset/SV_sets/voices/eval_set/sid_eval_lists/eval-test.lst\", delimiter=\" \", names=[\"id\"])\n",
    "eval_test[\"file\"] = eval_test.id\n",
    "eval_test[\"id\"] = eval_test.id.apply(lambda x: x.split(\"/\")[1].rstrip(\".wav\"))\n",
    "eval_df = pd.concat([eval_enroll, eval_test])\n",
    "fake_spk_id = [\"spk\"+str(i).zfill(5) for i in range(len(eval_df))]\n",
    "eval_df[\"spk_id\"] = fake_spk_id\n",
    "eval_df[\"uttr_id\"] = eval_df.apply(lambda x: x.spk_id + \"/\" + x.id, axis=1)\n",
    "eval_df[\"file\"] = eval_df.file.apply(lambda x: x.rstrip(\".wav\"))\n",
    "eval_df = eval_df.reset_index(drop=True)\n",
    "eval_df.to_csv(\"/dataset/SV_sets/voices/eval_set/voices_eval.csv\")"
   ]
  },
  {
   "cell_type": "code",
   "execution_count": null,
   "metadata": {},
   "outputs": [],
   "source": [
    "eval_df"
   ]
  },
  {
   "cell_type": "code",
   "execution_count": null,
   "metadata": {},
   "outputs": [],
   "source": [
    "wavs = eval_df.file\n",
    "ids = eval_df.uttr_id\n",
    "pd.DataFrame(ids).assign(wav=wavs).to_csv(\"/dataset/SV_sets/voices/eval_set/kaldi_files/wav.scp\", index=False, sep=' ', header=None)"
   ]
  },
  {
   "cell_type": "code",
   "execution_count": null,
   "metadata": {},
   "outputs": [],
   "source": [
    "spk2utt = eval_df.sort_values(\"spk_id\").groupby(\"spk_id\").apply(lambda x: x.uttr_id.values)\n",
    "with open(\"/dataset/SV_sets/voices/eval_set/kaldi_files/spk2utt\", \"w\") as f:\n",
    "    for k, v in spk2utt.iteritems():\n",
    "        line = ' '.join([k]+v.tolist())\n",
    "        f.write(line+'\\n')"
   ]
  },
  {
   "cell_type": "code",
   "execution_count": null,
   "metadata": {},
   "outputs": [],
   "source": [
    "eval_trial = pd.read_csv(\"/dataset/SV_sets/voices/eval_set/sid_eval_lists/eval-trial.lst\", delimiter=\" \", names=[\"enroll_id\", \"test_id\"])\n",
    "eval_trial[\"test_id\"] = eval_trial.test_id.apply(lambda x: x.split(\"/\")[1].rstrip(\".wav\"))\n",
    "# eval_ids = eval_df.id.tolist()\n",
    "# id2idx = {v:i for i, v in enumerate(eval_ids)}\n",
    "# enr_idx = eval_trial.enroll_id.apply(lambda x: id2idx[x])\n",
    "# test_idx = eval_trial.test_id.apply(lambda x: id2idx[x])\n",
    "# eval_trial['enroll_idx'] = enr_idx\n",
    "# eval_trial['test_idx'] = test_idx\n",
    "\n",
    "eval_trial.to_csv(\"/dataset/SV_sets/voices/voices_eval_trial.csv\", index=False)\n",
    "eval_trial[[\"enroll_id\", \"test_id\"]].to_csv(\"/dataset/SV_sets/voices/eval_set/kaldi_files/voices_eval_sv\", sep=' ', header=None, index=False)"
   ]
  },
  {
   "cell_type": "markdown",
   "metadata": {},
   "source": [
    "## Join to VoxCeleb12"
   ]
  },
  {
   "cell_type": "code",
   "execution_count": null,
   "metadata": {},
   "outputs": [],
   "source": [
    "voxc12_si = pd.read_csv(\"/dataset/SV_sets/voxceleb12/dataframes/voxc12_si.csv\")\n",
    "voxc12_sv = pd.read_csv(\"/dataset/SV_sets/voxceleb12/dataframes/voxc12_sv.csv\")"
   ]
  },
  {
   "cell_type": "code",
   "execution_count": null,
   "metadata": {},
   "outputs": [],
   "source": [
    "voxc12_dev = pd.concat([voxc12_si, voxc12_sv])\n",
    "voxc12_dev = voxc12_dev[['id', 'spk', 'file']]"
   ]
  },
  {
   "cell_type": "code",
   "execution_count": null,
   "metadata": {},
   "outputs": [],
   "source": [
    "voices_dev = pd.read_csv(\"/dataset/SV_sets/voices/voices_dev.csv\")"
   ]
  },
  {
   "cell_type": "code",
   "execution_count": null,
   "metadata": {},
   "outputs": [],
   "source": [
    "voices_dev = voices_dev[['id', 'spk_id', 'file']]\n",
    "voices_dev.columns = "
   ]
  },
  {
   "cell_type": "code",
   "execution_count": null,
   "metadata": {},
   "outputs": [],
   "source": [
    "voices_dev.columns"
   ]
  },
  {
   "cell_type": "code",
   "execution_count": null,
   "metadata": {},
   "outputs": [],
   "source": []
  }
 ],
 "metadata": {
  "kernelspec": {
   "display_name": "Python 3",
   "language": "python",
   "name": "python3"
  },
  "language_info": {
   "codemirror_mode": {
    "name": "ipython",
    "version": 3
   },
   "file_extension": ".py",
   "mimetype": "text/x-python",
   "name": "python",
   "nbconvert_exporter": "python",
   "pygments_lexer": "ipython3",
   "version": "3.6.5"
  }
 },
 "nbformat": 4,
 "nbformat_minor": 2
}
