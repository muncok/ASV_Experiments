{
 "cells": [
  {
   "cell_type": "code",
   "execution_count": 2,
   "metadata": {},
   "outputs": [],
   "source": [
    "import os\n",
    "import pandas as pd"
   ]
  },
  {
   "cell_type": "code",
   "execution_count": 123,
   "metadata": {},
   "outputs": [],
   "source": [
    "data_dir = \"/dataset/SV_sets/voices/Development_Data/Speaker_Recognition/sid_dev/\""
   ]
  },
  {
   "cell_type": "markdown",
   "metadata": {},
   "source": [
    "### Dev Enroll List"
   ]
  },
  {
   "cell_type": "code",
   "execution_count": 282,
   "metadata": {},
   "outputs": [],
   "source": [
    "dev_enroll_list = pd.read_csv(\"/dataset/SV_sets/voices/Development_Data/Speaker_Recognition/sid_dev_lists_and_keys/dev-enroll.lst\", names=[\"id\", \"wav\"], delimiter=' ')\n",
    "dev_enroll_list['file'] = dev_enroll_list.wav.apply(lambda x: \"/\".join(x.split(\"/\")[1:]).rstrip(\".wav\"))\n",
    "recs =  dev_enroll_list.id.apply(lambda x: x.split('-'))\n",
    "info = list(zip(*recs))[3:]\n",
    "info_df = pd.DataFrame(info).T\n",
    "info_df.columns = [\"room\", \"noise\", \"spk_id\", \"ch_id\", \"sg_id\", \"mc_id\", \"mc_t\", \"mc_l\", \"mc_deg\"]\n",
    "dev_enroll_df = pd.concat([dev_enroll_list, info_df], axis=1)\n",
    "dev_enroll_df.drop(columns=\"wav\", inplace=True)\n",
    "dev_enroll_df['set'] = \"enroll\""
   ]
  },
  {
   "cell_type": "code",
   "execution_count": 283,
   "metadata": {},
   "outputs": [
    {
     "data": {
      "text/html": [
       "<div>\n",
       "<style scoped>\n",
       "    .dataframe tbody tr th:only-of-type {\n",
       "        vertical-align: middle;\n",
       "    }\n",
       "\n",
       "    .dataframe tbody tr th {\n",
       "        vertical-align: top;\n",
       "    }\n",
       "\n",
       "    .dataframe thead th {\n",
       "        text-align: right;\n",
       "    }\n",
       "</style>\n",
       "<table border=\"1\" class=\"dataframe\">\n",
       "  <thead>\n",
       "    <tr style=\"text-align: right;\">\n",
       "      <th></th>\n",
       "      <th>id</th>\n",
       "      <th>file</th>\n",
       "      <th>room</th>\n",
       "      <th>noise</th>\n",
       "      <th>spk_id</th>\n",
       "      <th>ch_id</th>\n",
       "      <th>sg_id</th>\n",
       "      <th>mc_id</th>\n",
       "      <th>mc_t</th>\n",
       "      <th>mc_l</th>\n",
       "      <th>mc_deg</th>\n",
       "      <th>set</th>\n",
       "    </tr>\n",
       "  </thead>\n",
       "  <tbody>\n",
       "    <tr>\n",
       "      <th>0</th>\n",
       "      <td>Lab41-SRI-VOiCES-rm1-none-sp3446-ch144019-sg00...</td>\n",
       "      <td>sp3446/Lab41-SRI-VOiCES-rm1-none-sp3446-ch1440...</td>\n",
       "      <td>rm1</td>\n",
       "      <td>none</td>\n",
       "      <td>sp3446</td>\n",
       "      <td>ch144019</td>\n",
       "      <td>sg0006</td>\n",
       "      <td>mc03</td>\n",
       "      <td>stu</td>\n",
       "      <td>mid</td>\n",
       "      <td>dg080</td>\n",
       "      <td>enroll</td>\n",
       "    </tr>\n",
       "    <tr>\n",
       "      <th>1</th>\n",
       "      <td>Lab41-SRI-VOiCES-rm1-none-sp3446-ch144019-sg00...</td>\n",
       "      <td>sp3446/Lab41-SRI-VOiCES-rm1-none-sp3446-ch1440...</td>\n",
       "      <td>rm1</td>\n",
       "      <td>none</td>\n",
       "      <td>sp3446</td>\n",
       "      <td>ch144019</td>\n",
       "      <td>sg0006</td>\n",
       "      <td>mc01</td>\n",
       "      <td>stu</td>\n",
       "      <td>clo</td>\n",
       "      <td>dg080</td>\n",
       "      <td>enroll</td>\n",
       "    </tr>\n",
       "    <tr>\n",
       "      <th>2</th>\n",
       "      <td>Lab41-SRI-VOiCES-rm1-none-sp2093-ch143262-sg00...</td>\n",
       "      <td>sp2093/Lab41-SRI-VOiCES-rm1-none-sp2093-ch1432...</td>\n",
       "      <td>rm1</td>\n",
       "      <td>none</td>\n",
       "      <td>sp2093</td>\n",
       "      <td>ch143262</td>\n",
       "      <td>sg0015</td>\n",
       "      <td>mc01</td>\n",
       "      <td>stu</td>\n",
       "      <td>clo</td>\n",
       "      <td>dg080</td>\n",
       "      <td>enroll</td>\n",
       "    </tr>\n",
       "    <tr>\n",
       "      <th>3</th>\n",
       "      <td>Lab41-SRI-VOiCES-rm1-none-sp2093-ch143262-sg00...</td>\n",
       "      <td>sp2093/Lab41-SRI-VOiCES-rm1-none-sp2093-ch1432...</td>\n",
       "      <td>rm1</td>\n",
       "      <td>none</td>\n",
       "      <td>sp2093</td>\n",
       "      <td>ch143262</td>\n",
       "      <td>sg0015</td>\n",
       "      <td>mc03</td>\n",
       "      <td>stu</td>\n",
       "      <td>mid</td>\n",
       "      <td>dg080</td>\n",
       "      <td>enroll</td>\n",
       "    </tr>\n",
       "    <tr>\n",
       "      <th>4</th>\n",
       "      <td>Lab41-SRI-VOiCES-rm1-none-sp2269-ch088761-sg00...</td>\n",
       "      <td>sp2269/Lab41-SRI-VOiCES-rm1-none-sp2269-ch0887...</td>\n",
       "      <td>rm1</td>\n",
       "      <td>none</td>\n",
       "      <td>sp2269</td>\n",
       "      <td>ch088761</td>\n",
       "      <td>sg0004</td>\n",
       "      <td>mc03</td>\n",
       "      <td>stu</td>\n",
       "      <td>mid</td>\n",
       "      <td>dg100</td>\n",
       "      <td>enroll</td>\n",
       "    </tr>\n",
       "  </tbody>\n",
       "</table>\n",
       "</div>"
      ],
      "text/plain": [
       "                                                  id  \\\n",
       "0  Lab41-SRI-VOiCES-rm1-none-sp3446-ch144019-sg00...   \n",
       "1  Lab41-SRI-VOiCES-rm1-none-sp3446-ch144019-sg00...   \n",
       "2  Lab41-SRI-VOiCES-rm1-none-sp2093-ch143262-sg00...   \n",
       "3  Lab41-SRI-VOiCES-rm1-none-sp2093-ch143262-sg00...   \n",
       "4  Lab41-SRI-VOiCES-rm1-none-sp2269-ch088761-sg00...   \n",
       "\n",
       "                                                file room noise  spk_id  \\\n",
       "0  sp3446/Lab41-SRI-VOiCES-rm1-none-sp3446-ch1440...  rm1  none  sp3446   \n",
       "1  sp3446/Lab41-SRI-VOiCES-rm1-none-sp3446-ch1440...  rm1  none  sp3446   \n",
       "2  sp2093/Lab41-SRI-VOiCES-rm1-none-sp2093-ch1432...  rm1  none  sp2093   \n",
       "3  sp2093/Lab41-SRI-VOiCES-rm1-none-sp2093-ch1432...  rm1  none  sp2093   \n",
       "4  sp2269/Lab41-SRI-VOiCES-rm1-none-sp2269-ch0887...  rm1  none  sp2269   \n",
       "\n",
       "      ch_id   sg_id mc_id mc_t mc_l mc_deg     set  \n",
       "0  ch144019  sg0006  mc03  stu  mid  dg080  enroll  \n",
       "1  ch144019  sg0006  mc01  stu  clo  dg080  enroll  \n",
       "2  ch143262  sg0015  mc01  stu  clo  dg080  enroll  \n",
       "3  ch143262  sg0015  mc03  stu  mid  dg080  enroll  \n",
       "4  ch088761  sg0004  mc03  stu  mid  dg100  enroll  "
      ]
     },
     "execution_count": 283,
     "metadata": {},
     "output_type": "execute_result"
    }
   ],
   "source": [
    "dev_enroll_df.head()"
   ]
  },
  {
   "cell_type": "markdown",
   "metadata": {},
   "source": [
    "### Dev Test List "
   ]
  },
  {
   "cell_type": "code",
   "execution_count": 279,
   "metadata": {},
   "outputs": [
    {
     "ename": "ValueError",
     "evalue": "Length mismatch: Expected axis has 20 elements, new values have 9 elements",
     "output_type": "error",
     "traceback": [
      "\u001b[0;31m---------------------------------------------------------------------------\u001b[0m",
      "\u001b[0;31mValueError\u001b[0m                                Traceback (most recent call last)",
      "\u001b[0;32m<ipython-input-279-8d0b58c063d4>\u001b[0m in \u001b[0;36m<module>\u001b[0;34m()\u001b[0m\n\u001b[1;32m      5\u001b[0m \u001b[0minfo\u001b[0m \u001b[0;34m=\u001b[0m \u001b[0mlist\u001b[0m\u001b[0;34m(\u001b[0m\u001b[0mzip\u001b[0m\u001b[0;34m(\u001b[0m\u001b[0;34m*\u001b[0m\u001b[0mrecs\u001b[0m\u001b[0;34m)\u001b[0m\u001b[0;34m)\u001b[0m\u001b[0;34m[\u001b[0m\u001b[0;36m3\u001b[0m\u001b[0;34m:\u001b[0m\u001b[0;34m]\u001b[0m\u001b[0;34m\u001b[0m\u001b[0m\n\u001b[1;32m      6\u001b[0m \u001b[0minfo_df\u001b[0m \u001b[0;34m=\u001b[0m \u001b[0mpd\u001b[0m\u001b[0;34m.\u001b[0m\u001b[0mDataFrame\u001b[0m\u001b[0;34m(\u001b[0m\u001b[0minfo\u001b[0m\u001b[0;34m)\u001b[0m\u001b[0;34m.\u001b[0m\u001b[0mT\u001b[0m\u001b[0;34m\u001b[0m\u001b[0m\n\u001b[0;32m----> 7\u001b[0;31m \u001b[0minfo_df\u001b[0m\u001b[0;34m.\u001b[0m\u001b[0mcolumns\u001b[0m \u001b[0;34m=\u001b[0m \u001b[0;34m[\u001b[0m\u001b[0;34m\"room\"\u001b[0m\u001b[0;34m,\u001b[0m \u001b[0;34m\"noise\"\u001b[0m\u001b[0;34m,\u001b[0m \u001b[0;34m\"spk_id\"\u001b[0m\u001b[0;34m,\u001b[0m \u001b[0;34m\"ch_id\"\u001b[0m\u001b[0;34m,\u001b[0m \u001b[0;34m\"sg_id\"\u001b[0m\u001b[0;34m,\u001b[0m \u001b[0;34m\"mc_id\"\u001b[0m\u001b[0;34m,\u001b[0m \u001b[0;34m\"mc_t\"\u001b[0m\u001b[0;34m,\u001b[0m \u001b[0;34m\"mc_l\"\u001b[0m\u001b[0;34m,\u001b[0m \u001b[0;34m\"mc_deg\"\u001b[0m\u001b[0;34m]\u001b[0m\u001b[0;34m\u001b[0m\u001b[0m\n\u001b[0m\u001b[1;32m      8\u001b[0m \u001b[0mdev_test_df\u001b[0m \u001b[0;34m=\u001b[0m \u001b[0mpd\u001b[0m\u001b[0;34m.\u001b[0m\u001b[0mconcat\u001b[0m\u001b[0;34m(\u001b[0m\u001b[0;34m[\u001b[0m\u001b[0mdev_test_list\u001b[0m\u001b[0;34m,\u001b[0m \u001b[0minfo_df\u001b[0m\u001b[0;34m]\u001b[0m\u001b[0;34m,\u001b[0m \u001b[0maxis\u001b[0m\u001b[0;34m=\u001b[0m\u001b[0;36m1\u001b[0m\u001b[0;34m)\u001b[0m\u001b[0;34m\u001b[0m\u001b[0m\n\u001b[1;32m      9\u001b[0m \u001b[0mdev_test_df\u001b[0m\u001b[0;34m.\u001b[0m\u001b[0mdrop\u001b[0m\u001b[0;34m(\u001b[0m\u001b[0mcolumns\u001b[0m\u001b[0;34m=\u001b[0m\u001b[0;34m\"wav\"\u001b[0m\u001b[0;34m,\u001b[0m \u001b[0minplace\u001b[0m\u001b[0;34m=\u001b[0m\u001b[0;32mTrue\u001b[0m\u001b[0;34m)\u001b[0m\u001b[0;34m\u001b[0m\u001b[0m\n",
      "\u001b[0;32m/opt/conda/envs/pytorch-py3.6/lib/python3.6/site-packages/pandas/core/generic.py\u001b[0m in \u001b[0;36m__setattr__\u001b[0;34m(self, name, value)\u001b[0m\n\u001b[1;32m   4383\u001b[0m         \u001b[0;32mtry\u001b[0m\u001b[0;34m:\u001b[0m\u001b[0;34m\u001b[0m\u001b[0m\n\u001b[1;32m   4384\u001b[0m             \u001b[0mobject\u001b[0m\u001b[0;34m.\u001b[0m\u001b[0m__getattribute__\u001b[0m\u001b[0;34m(\u001b[0m\u001b[0mself\u001b[0m\u001b[0;34m,\u001b[0m \u001b[0mname\u001b[0m\u001b[0;34m)\u001b[0m\u001b[0;34m\u001b[0m\u001b[0m\n\u001b[0;32m-> 4385\u001b[0;31m             \u001b[0;32mreturn\u001b[0m \u001b[0mobject\u001b[0m\u001b[0;34m.\u001b[0m\u001b[0m__setattr__\u001b[0m\u001b[0;34m(\u001b[0m\u001b[0mself\u001b[0m\u001b[0;34m,\u001b[0m \u001b[0mname\u001b[0m\u001b[0;34m,\u001b[0m \u001b[0mvalue\u001b[0m\u001b[0;34m)\u001b[0m\u001b[0;34m\u001b[0m\u001b[0m\n\u001b[0m\u001b[1;32m   4386\u001b[0m         \u001b[0;32mexcept\u001b[0m \u001b[0mAttributeError\u001b[0m\u001b[0;34m:\u001b[0m\u001b[0;34m\u001b[0m\u001b[0m\n\u001b[1;32m   4387\u001b[0m             \u001b[0;32mpass\u001b[0m\u001b[0;34m\u001b[0m\u001b[0m\n",
      "\u001b[0;32mpandas/_libs/properties.pyx\u001b[0m in \u001b[0;36mpandas._libs.properties.AxisProperty.__set__\u001b[0;34m()\u001b[0m\n",
      "\u001b[0;32m/opt/conda/envs/pytorch-py3.6/lib/python3.6/site-packages/pandas/core/generic.py\u001b[0m in \u001b[0;36m_set_axis\u001b[0;34m(self, axis, labels)\u001b[0m\n\u001b[1;32m    643\u001b[0m \u001b[0;34m\u001b[0m\u001b[0m\n\u001b[1;32m    644\u001b[0m     \u001b[0;32mdef\u001b[0m \u001b[0m_set_axis\u001b[0m\u001b[0;34m(\u001b[0m\u001b[0mself\u001b[0m\u001b[0;34m,\u001b[0m \u001b[0maxis\u001b[0m\u001b[0;34m,\u001b[0m \u001b[0mlabels\u001b[0m\u001b[0;34m)\u001b[0m\u001b[0;34m:\u001b[0m\u001b[0;34m\u001b[0m\u001b[0m\n\u001b[0;32m--> 645\u001b[0;31m         \u001b[0mself\u001b[0m\u001b[0;34m.\u001b[0m\u001b[0m_data\u001b[0m\u001b[0;34m.\u001b[0m\u001b[0mset_axis\u001b[0m\u001b[0;34m(\u001b[0m\u001b[0maxis\u001b[0m\u001b[0;34m,\u001b[0m \u001b[0mlabels\u001b[0m\u001b[0;34m)\u001b[0m\u001b[0;34m\u001b[0m\u001b[0m\n\u001b[0m\u001b[1;32m    646\u001b[0m         \u001b[0mself\u001b[0m\u001b[0;34m.\u001b[0m\u001b[0m_clear_item_cache\u001b[0m\u001b[0;34m(\u001b[0m\u001b[0;34m)\u001b[0m\u001b[0;34m\u001b[0m\u001b[0m\n\u001b[1;32m    647\u001b[0m \u001b[0;34m\u001b[0m\u001b[0m\n",
      "\u001b[0;32m/opt/conda/envs/pytorch-py3.6/lib/python3.6/site-packages/pandas/core/internals.py\u001b[0m in \u001b[0;36mset_axis\u001b[0;34m(self, axis, new_labels)\u001b[0m\n\u001b[1;32m   3321\u001b[0m             raise ValueError(\n\u001b[1;32m   3322\u001b[0m                 \u001b[0;34m'Length mismatch: Expected axis has {old} elements, new '\u001b[0m\u001b[0;34m\u001b[0m\u001b[0m\n\u001b[0;32m-> 3323\u001b[0;31m                 'values have {new} elements'.format(old=old_len, new=new_len))\n\u001b[0m\u001b[1;32m   3324\u001b[0m \u001b[0;34m\u001b[0m\u001b[0m\n\u001b[1;32m   3325\u001b[0m         \u001b[0mself\u001b[0m\u001b[0;34m.\u001b[0m\u001b[0maxes\u001b[0m\u001b[0;34m[\u001b[0m\u001b[0maxis\u001b[0m\u001b[0;34m]\u001b[0m \u001b[0;34m=\u001b[0m \u001b[0mnew_labels\u001b[0m\u001b[0;34m\u001b[0m\u001b[0m\n",
      "\u001b[0;31mValueError\u001b[0m: Length mismatch: Expected axis has 20 elements, new values have 9 elements"
     ]
    }
   ],
   "source": [
    "dev_test_list = pd.read_csv(\"/dataset/SV_sets/voices/Development_Data/Speaker_Recognition/sid_dev_lists_and_keys/dev-test.lst\", names=[\"wav\"])\n",
    "dev_test_list['id'] = 0 # for later, ordering problem\n",
    "dev_test_list['file'] = dev_test_list.wav.apply(lambda x: \"/\".join(x.split(\"/\")[1:]).rstrip(\".wav\"))\n",
    "recs =  dev_test_list.wav.apply(lambda x: x.split('-'))\n",
    "info = list(zip(*recs))[3:]\n",
    "info_df = pd.DataFrame(info).T\n",
    "info_df.columns = [\"room\", \"noise\", \"spk_id\", \"ch_id\", \"sg_id\", \"mc_id\", \"mc_t\", \"mc_l\", \"mc_deg\"]\n",
    "dev_test_df = pd.concat([dev_test_list, info_df], axis=1)\n",
    "dev_test_df.drop(columns=\"wav\", inplace=True)\n",
    "dev_test_df[\"id\"] = dev_test_df.file\n",
    "dev_test_df['set'] = \"test\""
   ]
  },
  {
   "cell_type": "code",
   "execution_count": null,
   "metadata": {},
   "outputs": [],
   "source": [
    "dev_test_df.head()"
   ]
  },
  {
   "cell_type": "markdown",
   "metadata": {},
   "source": [
    "### Total Dev List"
   ]
  },
  {
   "cell_type": "code",
   "execution_count": 175,
   "metadata": {},
   "outputs": [],
   "source": [
    "dev_df = pd.concat([dev_enroll_df, dev_test_df], sort=False)"
   ]
  },
  {
   "cell_type": "code",
   "execution_count": 285,
   "metadata": {},
   "outputs": [],
   "source": [
    "dev_df.to_csv(\"/dataset/SV_sets/voices/Development_Data/Speaker_Recognition/sv.csv\", index=False)"
   ]
  },
  {
   "cell_type": "code",
   "execution_count": 284,
   "metadata": {},
   "outputs": [
    {
     "data": {
      "text/html": [
       "<div>\n",
       "<style scoped>\n",
       "    .dataframe tbody tr th:only-of-type {\n",
       "        vertical-align: middle;\n",
       "    }\n",
       "\n",
       "    .dataframe tbody tr th {\n",
       "        vertical-align: top;\n",
       "    }\n",
       "\n",
       "    .dataframe thead th {\n",
       "        text-align: right;\n",
       "    }\n",
       "</style>\n",
       "<table border=\"1\" class=\"dataframe\">\n",
       "  <thead>\n",
       "    <tr style=\"text-align: right;\">\n",
       "      <th></th>\n",
       "      <th>id</th>\n",
       "      <th>file</th>\n",
       "      <th>room</th>\n",
       "      <th>noise</th>\n",
       "      <th>spk_id</th>\n",
       "      <th>ch_id</th>\n",
       "      <th>sg_id</th>\n",
       "      <th>mc_id</th>\n",
       "      <th>mc_t</th>\n",
       "      <th>mc_l</th>\n",
       "      <th>mc_deg</th>\n",
       "      <th>set</th>\n",
       "    </tr>\n",
       "  </thead>\n",
       "  <tbody>\n",
       "    <tr>\n",
       "      <th>0</th>\n",
       "      <td>sp3446/Lab41-SRI-VOiCES-rm1-none-sp3446-ch1440...</td>\n",
       "      <td>sp3446/Lab41-SRI-VOiCES-rm1-none-sp3446-ch1440...</td>\n",
       "      <td>rm1</td>\n",
       "      <td>none</td>\n",
       "      <td>sp3446</td>\n",
       "      <td>ch144019</td>\n",
       "      <td>sg0006</td>\n",
       "      <td>mc03</td>\n",
       "      <td>stu</td>\n",
       "      <td>mid</td>\n",
       "      <td>dg080</td>\n",
       "      <td>enroll</td>\n",
       "    </tr>\n",
       "    <tr>\n",
       "      <th>1</th>\n",
       "      <td>sp3446/Lab41-SRI-VOiCES-rm1-none-sp3446-ch1440...</td>\n",
       "      <td>sp3446/Lab41-SRI-VOiCES-rm1-none-sp3446-ch1440...</td>\n",
       "      <td>rm1</td>\n",
       "      <td>none</td>\n",
       "      <td>sp3446</td>\n",
       "      <td>ch144019</td>\n",
       "      <td>sg0006</td>\n",
       "      <td>mc01</td>\n",
       "      <td>stu</td>\n",
       "      <td>clo</td>\n",
       "      <td>dg080</td>\n",
       "      <td>enroll</td>\n",
       "    </tr>\n",
       "    <tr>\n",
       "      <th>2</th>\n",
       "      <td>sp2093/Lab41-SRI-VOiCES-rm1-none-sp2093-ch1432...</td>\n",
       "      <td>sp2093/Lab41-SRI-VOiCES-rm1-none-sp2093-ch1432...</td>\n",
       "      <td>rm1</td>\n",
       "      <td>none</td>\n",
       "      <td>sp2093</td>\n",
       "      <td>ch143262</td>\n",
       "      <td>sg0015</td>\n",
       "      <td>mc01</td>\n",
       "      <td>stu</td>\n",
       "      <td>clo</td>\n",
       "      <td>dg080</td>\n",
       "      <td>enroll</td>\n",
       "    </tr>\n",
       "    <tr>\n",
       "      <th>3</th>\n",
       "      <td>sp2093/Lab41-SRI-VOiCES-rm1-none-sp2093-ch1432...</td>\n",
       "      <td>sp2093/Lab41-SRI-VOiCES-rm1-none-sp2093-ch1432...</td>\n",
       "      <td>rm1</td>\n",
       "      <td>none</td>\n",
       "      <td>sp2093</td>\n",
       "      <td>ch143262</td>\n",
       "      <td>sg0015</td>\n",
       "      <td>mc03</td>\n",
       "      <td>stu</td>\n",
       "      <td>mid</td>\n",
       "      <td>dg080</td>\n",
       "      <td>enroll</td>\n",
       "    </tr>\n",
       "    <tr>\n",
       "      <th>4</th>\n",
       "      <td>sp2269/Lab41-SRI-VOiCES-rm1-none-sp2269-ch0887...</td>\n",
       "      <td>sp2269/Lab41-SRI-VOiCES-rm1-none-sp2269-ch0887...</td>\n",
       "      <td>rm1</td>\n",
       "      <td>none</td>\n",
       "      <td>sp2269</td>\n",
       "      <td>ch088761</td>\n",
       "      <td>sg0004</td>\n",
       "      <td>mc03</td>\n",
       "      <td>stu</td>\n",
       "      <td>mid</td>\n",
       "      <td>dg100</td>\n",
       "      <td>enroll</td>\n",
       "    </tr>\n",
       "  </tbody>\n",
       "</table>\n",
       "</div>"
      ],
      "text/plain": [
       "                                                  id  \\\n",
       "0  sp3446/Lab41-SRI-VOiCES-rm1-none-sp3446-ch1440...   \n",
       "1  sp3446/Lab41-SRI-VOiCES-rm1-none-sp3446-ch1440...   \n",
       "2  sp2093/Lab41-SRI-VOiCES-rm1-none-sp2093-ch1432...   \n",
       "3  sp2093/Lab41-SRI-VOiCES-rm1-none-sp2093-ch1432...   \n",
       "4  sp2269/Lab41-SRI-VOiCES-rm1-none-sp2269-ch0887...   \n",
       "\n",
       "                                                file room noise  spk_id  \\\n",
       "0  sp3446/Lab41-SRI-VOiCES-rm1-none-sp3446-ch1440...  rm1  none  sp3446   \n",
       "1  sp3446/Lab41-SRI-VOiCES-rm1-none-sp3446-ch1440...  rm1  none  sp3446   \n",
       "2  sp2093/Lab41-SRI-VOiCES-rm1-none-sp2093-ch1432...  rm1  none  sp2093   \n",
       "3  sp2093/Lab41-SRI-VOiCES-rm1-none-sp2093-ch1432...  rm1  none  sp2093   \n",
       "4  sp2269/Lab41-SRI-VOiCES-rm1-none-sp2269-ch0887...  rm1  none  sp2269   \n",
       "\n",
       "      ch_id   sg_id mc_id mc_t mc_l mc_deg     set  \n",
       "0  ch144019  sg0006  mc03  stu  mid  dg080  enroll  \n",
       "1  ch144019  sg0006  mc01  stu  clo  dg080  enroll  \n",
       "2  ch143262  sg0015  mc01  stu  clo  dg080  enroll  \n",
       "3  ch143262  sg0015  mc03  stu  mid  dg080  enroll  \n",
       "4  ch088761  sg0004  mc03  stu  mid  dg100  enroll  "
      ]
     },
     "execution_count": 284,
     "metadata": {},
     "output_type": "execute_result"
    }
   ],
   "source": [
    "dev_df.head()"
   ]
  },
  {
   "cell_type": "code",
   "execution_count": 245,
   "metadata": {},
   "outputs": [],
   "source": [
    "wavs = dev_df.file.apply(lambda x: \"dev_wav/\"+x+\".wav\")\n",
    "ids = dev_df.file\n",
    "pd.DataFrame(ids).assign(wav=wavs).to_csv(\"/dataset/SV_sets/voices/wav.scp\", index=False, sep=' ')\n",
    "spk2utt = dev_df.sort_values(\"spk_id\").groupby(\"spk_id\").apply(lambda x: x.file.values)\n",
    "\n",
    "with open(\"/dataset/SV_sets/voices/spk2utt\", \"w\") as f:\n",
    "    for k, v in spk2utt.iteritems():\n",
    "        line = ' '.join([k]+v.tolist())\n",
    "        f.write(line+'\\n')"
   ]
  },
  {
   "cell_type": "markdown",
   "metadata": {},
   "source": [
    "### Dev Distribution"
   ]
  },
  {
   "cell_type": "code",
   "execution_count": 166,
   "metadata": {},
   "outputs": [
    {
     "data": {
      "text/plain": [
       "rm2    15648\n",
       "rm1      256\n",
       "Name: room, dtype: int64"
      ]
     },
     "execution_count": 166,
     "metadata": {},
     "output_type": "execute_result"
    }
   ],
   "source": [
    "# enrollemend room(\"rm1\") and test room(\"rm2\")\n",
    "dev_df.room.value_counts()"
   ]
  },
  {
   "cell_type": "code",
   "execution_count": 167,
   "metadata": {},
   "outputs": [
    {
     "data": {
      "text/plain": [
       "none    4168\n",
       "tele    3912\n",
       "babb    3912\n",
       "musi    3912\n",
       "Name: noise, dtype: int64"
      ]
     },
     "execution_count": 167,
     "metadata": {},
     "output_type": "execute_result"
    }
   ],
   "source": [
    "dev_df.noise.value_counts()"
   ]
  },
  {
   "cell_type": "code",
   "execution_count": 168,
   "metadata": {},
   "outputs": [
    {
     "data": {
      "text/plain": [
       "sp5400    194\n",
       "sp1160    192\n",
       "sp0288    192\n",
       "sp0949    192\n",
       "sp6241    164\n",
       "sp1392    164\n",
       "sp0597    162\n",
       "sp2156    162\n",
       "sp0472    162\n",
       "sp0196    162\n",
       "sp7867    162\n",
       "sp0636    162\n",
       "sp6415    160\n",
       "sp7498    160\n",
       "sp5338    160\n",
       "sp0112    160\n",
       "sp6895    160\n",
       "sp2532    160\n",
       "sp1272    160\n",
       "sp4967    132\n",
       "sp3645    132\n",
       "sp1963    132\n",
       "sp7264    130\n",
       "sp5189    130\n",
       "sp1851    130\n",
       "sp7247    130\n",
       "sp7540    130\n",
       "sp1867    130\n",
       "sp2758    128\n",
       "sp0770    128\n",
       "         ... \n",
       "sp8635     34\n",
       "sp3446     34\n",
       "sp1737     34\n",
       "sp1052     32\n",
       "sp1335     32\n",
       "sp3994     32\n",
       "sp7276     32\n",
       "sp1182     32\n",
       "sp1383     32\n",
       "sp4145     32\n",
       "sp8575     32\n",
       "sp2074     32\n",
       "sp1970     32\n",
       "sp1607     32\n",
       "sp0204     32\n",
       "sp5157     32\n",
       "sp6519     32\n",
       "sp1961     32\n",
       "sp2012     32\n",
       "sp0307     32\n",
       "sp6544     32\n",
       "sp7517     32\n",
       "sp4586     32\n",
       "sp8605      4\n",
       "sp4331      2\n",
       "sp4110      2\n",
       "sp2412      2\n",
       "sp1212      2\n",
       "sp0403      2\n",
       "sp0159      2\n",
       "Name: spk_id, Length: 196, dtype: int64"
      ]
     },
     "execution_count": 168,
     "metadata": {},
     "output_type": "execute_result"
    }
   ],
   "source": [
    "dev_df.spk_id.value_counts()"
   ]
  },
  {
   "cell_type": "markdown",
   "metadata": {},
   "source": [
    "### VOiECE trials"
   ]
  },
  {
   "cell_type": "code",
   "execution_count": 217,
   "metadata": {},
   "outputs": [],
   "source": [
    "trial_list = pd.read_csv(\"/dataset/SV_sets/voices/Development_Data/Speaker_Recognition/sid_dev_lists_and_keys/dev-trial-keys.lst\", delimiter=\" \", names=[\"enroll_id\", \"test_id\", \"label\"])\n",
    "trial_list.test_id = trial_list.test_id.apply(lambda x: x.split(\"/\")[2].rstrip(\".wav\"))"
   ]
  },
  {
   "cell_type": "code",
   "execution_count": 218,
   "metadata": {},
   "outputs": [],
   "source": [
    "dev_ids = dev_df.id.tolist()\n",
    "id2idx = {v:i for i, v in enumerate(dev_ids)}\n",
    "enr_idx = trial_list.enroll_id.apply(lambda x: id2idx[x])\n",
    "test_idx = trial_list.test_id.apply(lambda x: id2idx[x])\n",
    "trial_list['enroll_idx'] = enr_idx\n",
    "trial_list['test_idx'] = test_idx"
   ]
  },
  {
   "cell_type": "code",
   "execution_count": 219,
   "metadata": {},
   "outputs": [],
   "source": [
    "trial_list.loc[trial_list.label == 'imp', 'label'] = 0\n",
    "trial_list.loc[trial_list.label == 'tgt', 'label'] = 1"
   ]
  },
  {
   "cell_type": "code",
   "execution_count": 224,
   "metadata": {},
   "outputs": [],
   "source": [
    "trial_list.to_csv(\"/dataset/SV_sets/voices/sv_trial.csv\", index=False)"
   ]
  },
  {
   "cell_type": "code",
   "execution_count": 221,
   "metadata": {},
   "outputs": [
    {
     "data": {
      "text/plain": [
       "0    3985792\n",
       "1      20096\n",
       "Name: label, dtype: int64"
      ]
     },
     "execution_count": 221,
     "metadata": {},
     "output_type": "execute_result"
    }
   ],
   "source": [
    "trial_list.label.value_counts()"
   ]
  },
  {
   "cell_type": "code",
   "execution_count": 223,
   "metadata": {},
   "outputs": [
    {
     "name": "stdout",
     "output_type": "stream",
     "text": [
      "target_ratio: 0.005041908860271685\n"
     ]
    }
   ],
   "source": [
    "print(f\"target_ratio: {20096 / 3985792}\")"
   ]
  }
 ],
 "metadata": {
  "kernelspec": {
   "display_name": "Python 3",
   "language": "python",
   "name": "python3"
  },
  "language_info": {
   "codemirror_mode": {
    "name": "ipython",
    "version": 3
   },
   "file_extension": ".py",
   "mimetype": "text/x-python",
   "name": "python",
   "nbconvert_exporter": "python",
   "pygments_lexer": "ipython3",
   "version": "3.6.5"
  }
 },
 "nbformat": 4,
 "nbformat_minor": 2
}
