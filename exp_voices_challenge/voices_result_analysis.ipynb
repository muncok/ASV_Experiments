{
 "cells": [
  {
   "cell_type": "code",
   "execution_count": null,
   "metadata": {},
   "outputs": [],
   "source": [
    "%load_ext autoreload\n",
    "%autoreload 2\n",
    "%pylab\n",
    "%matplotlib inline\n",
    "\n",
    "import pandas as pd"
   ]
  },
  {
   "cell_type": "code",
   "execution_count": null,
   "metadata": {},
   "outputs": [],
   "source": [
    "import sys\n",
    "sys.path.append(\"../sv_system/\")"
   ]
  },
  {
   "cell_type": "code",
   "execution_count": null,
   "metadata": {},
   "outputs": [],
   "source": [
    "import torch\n",
    "from system.sv_test import sv_test  \n",
    "\n",
    "sv_embeds = np.load(\"../sv_system/embeddings/voices_fbank64_voxc12_embeds/sv_embeds.npy\") \n",
    "sv_embeds = torch.from_numpy(sv_embeds) \n",
    "\n",
    "trial = pd.read_csv(\"../sv_system/datasets/voices/voices_dev_trial.csv\")\n",
    "eer, thres, scores = sv_test(sv_embeds, trial)\n",
    "trial = trial.assign(score=scores.numpy())"
   ]
  },
  {
   "cell_type": "code",
   "execution_count": null,
   "metadata": {},
   "outputs": [],
   "source": [
    "trial.groupby('label').score.hist(alpha=0.8)"
   ]
  },
  {
   "cell_type": "code",
   "execution_count": null,
   "metadata": {},
   "outputs": [],
   "source": [
    "fp_trials = trial[(trial.score > thres) & (trial.label == 0)] \n",
    "fn_trials = trial[(trial.score < thres) & (trial.label == 1)]"
   ]
  },
  {
   "cell_type": "code",
   "execution_count": null,
   "metadata": {},
   "outputs": [],
   "source": [
    "def get_info(id_str, q_key):\n",
    "    keys = [\"room\", \"noise\", \"spk_id\", \"ch_id\", \"sg_id\", \"mc_id\", \"mc_t\", \"mc_l\", \"mc_deg\"]\n",
    "    if q_key not in keys:\n",
    "        print(\"valid key:{}\".format(keys))\n",
    "        raise KeyError\n",
    "    id_splits = id_str.split('-')\n",
    "    info = {}\n",
    "    for i, key in enumerate(keys):\n",
    "        info[key] = id_splits[i+3] # first three are useless\n",
    "    \n",
    "    return info[q_key]"
   ]
  },
  {
   "cell_type": "code",
   "execution_count": null,
   "metadata": {},
   "outputs": [],
   "source": [
    "for key in ['ch_id', 'sg_id', 'noise', 'mc_id', 'mc_l', 'mc_deg']:\n",
    "    fn_trials['comp_'+key] = fn_trials.apply(lambda x: (get_info(x.enroll_id, key), get_info(x.test_id, key)), axis=1)"
   ]
  },
  {
   "cell_type": "code",
   "execution_count": null,
   "metadata": {},
   "outputs": [],
   "source": [
    "fn_trials.sort_values('score').head(20)"
   ]
  },
  {
   "cell_type": "code",
   "execution_count": null,
   "metadata": {},
   "outputs": [],
   "source": [
    "fn_trials.comp_mc_l.value_counts()"
   ]
  },
  {
   "cell_type": "code",
   "execution_count": null,
   "metadata": {},
   "outputs": [],
   "source": [
    "fn_trials.comp_mc_id.value_counts()"
   ]
  },
  {
   "cell_type": "code",
   "execution_count": null,
   "metadata": {},
   "outputs": [],
   "source": [
    "fn_trials.comp_mc_deg.value_counts()"
   ]
  },
  {
   "cell_type": "code",
   "execution_count": null,
   "metadata": {},
   "outputs": [],
   "source": [
    "for key in ['ch_id', 'sg_id', 'mc_id', 'mc_l', 'mc_deg']:\n",
    "    fp_trials['comp_'+key] = fp_trials.apply(lambda x: (get_info(x.enroll_id, key), get_info(x.test_id, key)), axis=1)"
   ]
  },
  {
   "cell_type": "code",
   "execution_count": null,
   "metadata": {},
   "outputs": [],
   "source": [
    "fp_trials.sort_values('score', ascending=False)[]"
   ]
  },
  {
   "cell_type": "code",
   "execution_count": null,
   "metadata": {},
   "outputs": [],
   "source": [
    "trial.head()"
   ]
  },
  {
   "cell_type": "markdown",
   "metadata": {},
   "source": [
    "### Unique configurations "
   ]
  },
  {
   "cell_type": "code",
   "execution_count": null,
   "metadata": {},
   "outputs": [],
   "source": [
    "trial.enroll_id.apply(lambda x: get_info(x, 'noise')).unique()"
   ]
  },
  {
   "cell_type": "code",
   "execution_count": null,
   "metadata": {},
   "outputs": [],
   "source": [
    "trial.test_id.apply(lambda x: get_info(x, 'noise')).unique()"
   ]
  },
  {
   "cell_type": "code",
   "execution_count": null,
   "metadata": {},
   "outputs": [],
   "source": []
  },
  {
   "cell_type": "code",
   "execution_count": null,
   "metadata": {},
   "outputs": [],
   "source": []
  }
 ],
 "metadata": {
  "kernelspec": {
   "display_name": "Python 3",
   "language": "python",
   "name": "python3"
  },
  "language_info": {
   "codemirror_mode": {
    "name": "ipython",
    "version": 3
   },
   "file_extension": ".py",
   "mimetype": "text/x-python",
   "name": "python",
   "nbconvert_exporter": "python",
   "pygments_lexer": "ipython3",
   "version": "3.6.5"
  }
 },
 "nbformat": 4,
 "nbformat_minor": 2
}
