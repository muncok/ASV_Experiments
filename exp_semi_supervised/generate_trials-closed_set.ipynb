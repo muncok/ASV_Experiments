{
 "cells": [
  {
   "cell_type": "markdown",
   "metadata": {},
   "source": [
    "# Incremental Ernollment Trial (Closed set)\n",
    "---------\n",
    "\n",
    "trial에 등장하는 대상을 소수의 인원으로 제한시킨 trial을 만들고자 한다."
   ]
  },
  {
   "cell_type": "markdown",
   "metadata": {},
   "source": [
    "## Environment"
   ]
  },
  {
   "cell_type": "code",
   "execution_count": 1,
   "metadata": {},
   "outputs": [
    {
     "name": "stdout",
     "output_type": "stream",
     "text": [
      "Using matplotlib backend: TkAgg\n",
      "Populating the interactive namespace from numpy and matplotlib\n"
     ]
    }
   ],
   "source": [
    "%load_ext autoreload\n",
    "%autoreload 2\n",
    "%pylab\n",
    "%matplotlib inline\n",
    "\n",
    "import os\n",
    "import sys\n",
    "import pickle\n",
    "import pandas as pd\n",
    "from utils import key2df"
   ]
  },
  {
   "cell_type": "markdown",
   "metadata": {},
   "source": [
    "## Dataframes & embeddings"
   ]
  },
  {
   "cell_type": "code",
   "execution_count": 2,
   "metadata": {},
   "outputs": [],
   "source": [
    "keys = pickle.load(open(\"./xvector_embeds/sv_keys.pkl\", \"rb\"))\n",
    "keys = np.array(keys)\n",
    "key_df = key2df(keys)\n",
    "spk_uttr_stat = key_df.spk.value_counts()"
   ]
  },
  {
   "cell_type": "markdown",
   "metadata": {},
   "source": [
    "## Held-out validation set\n",
    "\n",
    "utterance가 150개 넘는 것들을 trial spks로 빼고 나머지는 validation spk로 빼었다.  \n",
    "그리고 validation spk 음성을 이용해서 threshold를 정하기 위한 trial을 만든다."
   ]
  },
  {
   "cell_type": "code",
   "execution_count": 16,
   "metadata": {},
   "outputs": [],
   "source": [
    "trial_enr_spks = spk_uttr_stat[spk_uttr_stat > 150].index.tolist()\n",
    "val_spks = spk_uttr_stat[spk_uttr_stat <= 150].index.tolist()\n",
    "val_uttrs = key_df[key_df.spk.isin(val_spks)]\n",
    "trial_uttrs = key_df[key_df.spk.isin(trial_enr_spks)]\n",
    "\n",
    "# trial에 쓰이지 않는 dataset\n",
    "val_uttrs.to_pickle(\"trials/enr306/validation_set.pkl\")\n",
    "\n",
    "# vox2의 모든 trial 중에 validation set에 남아있는 음성으로 이루어진 trial을 추출한다.\n",
    "voxc2_trial = pd.read_pickle(\"trials/voxc2_1211_trials.pkl\")\n",
    "trial_for_validation = voxc2_trial[(voxc2_trial.enroll_spk.isin(val_spks)) & (voxc2_trial.test_spk.isin(val_spks))]\n",
    "trial_for_validation.to_pickle(\"trials/enr306/trial_for_validation.pkl\")"
   ]
  },
  {
   "cell_type": "markdown",
   "metadata": {},
   "source": [
    "## Design trials for each enr_spk\n",
    "\n",
    "우선 closed set에 포함될 스피커들을 뽑는다."
   ]
  },
  {
   "cell_type": "code",
   "execution_count": 6,
   "metadata": {},
   "outputs": [
    {
     "name": "stdout",
     "output_type": "stream",
     "text": [
      "number of spks: 306\n"
     ]
    }
   ],
   "source": [
    "all_spks = trial_uttrs.spk.unique().tolist()\n",
    "print(f\"number of spks: {len(all_spks)}\")"
   ]
  },
  {
   "cell_type": "code",
   "execution_count": 26,
   "metadata": {},
   "outputs": [],
   "source": [
    "family_sizes = [3, 5, 7, 9]\n",
    "n_enroll_utters = 3 # later we can use 1~3 enrollment cases\n",
    "n_family = 10 "
   ]
  },
  {
   "cell_type": "code",
   "execution_count": 51,
   "metadata": {
    "scrolled": false
   },
   "outputs": [
    {
     "name": "stderr",
     "output_type": "stream",
     "text": [
      "/opt/conda/envs/pytorch-py3.6/lib/python3.6/site-packages/pandas/core/indexing.py:543: SettingWithCopyWarning: \n",
      "A value is trying to be set on a copy of a slice from a DataFrame.\n",
      "Try using .loc[row_indexer,col_indexer] = value instead\n",
      "\n",
      "See the caveats in the documentation: http://pandas.pydata.org/pandas-docs/stable/indexing.html#indexing-view-versus-copy\n",
      "  self.obj[item] = s\n"
     ]
    }
   ],
   "source": [
    "cases = {} # total cases: n_family * family_size\n",
    "\n",
    "for family_size in family_sizes:\n",
    "    closed_sets = np.random.choice(all_spks, size=(n_family, family_size), replace=True)\n",
    "    for spk_set in closed_sets: \n",
    "        closed_set_uttrs = trial_uttrs[trial_uttrs.spk.isin(spk_set)]\n",
    "        open_set_uttrs = trial_uttrs[~trial_uttrs.spk.isin(spk_set)]\n",
    "        open_set_uttrs.loc[:, 'label'] = 0\n",
    "        for enr_spk in spk_set: # TODO: multiple enrolled speakers case\n",
    "            enr_uttrs = closed_set_uttrs[closed_set_uttrs.spk == enr_spk].sample(n=n_enroll_utters)\n",
    "            target_uttrs =  closed_set_uttrs[closed_set_uttrs.spk == enr_spk].drop(index=enr_uttrs.index)\n",
    "            nonTarget_uttrs = closed_set_uttrs[closed_set_uttrs.spk != enr_spk]\n",
    "            target_uttrs.loc[:, 'label'] = 1\n",
    "            nonTarget_uttrs.loc[:, 'label'] = 0\n",
    "\n",
    "            # adapt trials\n",
    "            n_adapt_trial = int(min(len(target_uttrs), len(nonTarget_uttrs))*0.8)\n",
    "            adapt_target_uttrs = target_uttrs.sample(n=n_adapt_trial)\n",
    "            adapt_nonTarget_uttrs = nonTarget_uttrs.sample(n=n_adapt_trial)\n",
    "            \n",
    "            # test trials\n",
    "            n_test_trial = min(len(target_uttrs), len(nonTarget_uttrs)) - n_adapt_trial \n",
    "            test_target_uttrs = target_uttrs.drop(index=adapt_target_uttrs.index).sample(n=n_test_trial)\n",
    "            test_nonTarget_uttrs = nonTarget_uttrs.drop(index=adapt_nonTarget_uttrs.index).sample(n=n_test_trial)\n",
    "            \n",
    "            # ood trials\n",
    "            ood_trial= open_set_uttrs.groupby('spk', group_keys=False).apply(lambda x: x.sample(n=1))[:len(test_trial)]\n",
    "            \n",
    "            # shuffle trials and it will be fixed for consistency\n",
    "            adapt_trial = pd.concat([adapt_target_uttrs, adapt_nonTarget_uttrs]).sample(frac=1)\n",
    "            test_trial = pd.concat([test_target_uttrs, test_nonTarget_uttrs]).sample(frac=1)\n",
    "            \n",
    "            if family_size not in cases:\n",
    "                cases[family_size] = []\n",
    "            cases[family_size] += [[enr_spk, \n",
    "                       enr_uttrs.index.tolist(), \n",
    "                       (adapt_trial.index.tolist(), adapt_trial.label.tolist()),\n",
    "                       (test_trial.index.tolist(),test_trial.label.tolist()),\n",
    "                       (ood_trial.index.tolist(), ood_trial.label.tolist())\n",
    "                     ]]"
   ]
  },
  {
   "cell_type": "markdown",
   "metadata": {},
   "source": [
    "## Save the trials"
   ]
  },
  {
   "cell_type": "code",
   "execution_count": 52,
   "metadata": {},
   "outputs": [],
   "source": [
    "for family_size in family_sizes:\n",
    "    save_dir = \"./trials/enr306/enr306_closedset/FS_{}/\".format(family_size)\n",
    "    if not os.path.isdir(save_dir):\n",
    "        os.makedirs(save_dir)\n",
    "    pickle.dump(cases[family_size], open(save_dir + \"/trials.pkl\", \"wb\"))    \n",
    "    trial_info = {'set_size':family_size, 'n_enrs':n_enroll_utters}\n",
    "    pickle.dump(trial_info, open(save_dir + \"/trial_info.pkl\", \"wb\"))"
   ]
  },
  {
   "cell_type": "code",
   "execution_count": 36,
   "metadata": {},
   "outputs": [
    {
     "data": {
      "text/plain": [
       "spk            id10003\n",
       "session    5ablueV_1tw\n",
       "label                2\n",
       "origin           voxc2\n",
       "Name: id10003-5ablueV_1tw-00001, dtype: object"
      ]
     },
     "execution_count": 36,
     "metadata": {},
     "output_type": "execute_result"
    }
   ],
   "source": [
    "key_df.loc['id10003-5ablueV_1tw-00001']"
   ]
  },
  {
   "cell_type": "code",
   "execution_count": null,
   "metadata": {},
   "outputs": [],
   "source": []
  }
 ],
 "metadata": {
  "kernelspec": {
   "display_name": "Python 3",
   "language": "python",
   "name": "python3"
  },
  "language_info": {
   "codemirror_mode": {
    "name": "ipython",
    "version": 3
   },
   "file_extension": ".py",
   "mimetype": "text/x-python",
   "name": "python",
   "nbconvert_exporter": "python",
   "pygments_lexer": "ipython3",
   "version": "3.6.5"
  }
 },
 "nbformat": 4,
 "nbformat_minor": 2
}
