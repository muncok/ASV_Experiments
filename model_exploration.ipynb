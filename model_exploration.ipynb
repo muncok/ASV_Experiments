{
 "cells": [
  {
   "cell_type": "code",
   "execution_count": 1,
   "metadata": {},
   "outputs": [],
   "source": [
    "%load_ext autoreload\n",
    "%autoreload 2\n",
    "import os"
   ]
  },
  {
   "cell_type": "code",
   "execution_count": 2,
   "metadata": {},
   "outputs": [],
   "source": [
    "from dnn.utils.parser import test_config\n",
    "from dnn.model.SpeechModel import SpeechModel\n",
    "from dnn.model.AuxModels import SimpleCNN\n",
    "import dnn.train.si_train as si_train\n",
    "import dnn.data.dataloader as dloader\n",
    "from dnn.data.dataset import SpeechDataset\n",
    "import pandas as pd"
   ]
  },
  {
   "cell_type": "code",
   "execution_count": 3,
   "metadata": {},
   "outputs": [],
   "source": [
    "model = \"SimpleCNN\"\n",
    "si_config = test_config(model)"
   ]
  },
  {
   "cell_type": "code",
   "execution_count": 4,
   "metadata": {},
   "outputs": [],
   "source": [
    "from dnn.utils import secToSample, secToFrames\n",
    "si_config['splice_frames'] = secToFrames(0.1)\n",
    "si_config['input_length'] = secToSample(1)\n",
    "si_config['input_clip'] = True\n",
    "si_config['input_format'] = 'fbank'"
   ]
  },
  {
   "cell_type": "code",
   "execution_count": 5,
   "metadata": {},
   "outputs": [
    {
     "name": "stdout",
     "output_type": "stream",
     "text": [
      "loaded from ../interspeech2018/models/commands/equal_num_102spk_dot1.pt\n"
     ]
    }
   ],
   "source": [
    "si_model = SimpleCNN(1880, si_config['splice_frames'])\n",
    "si_model.load(\"../interspeech2018/models/commands/equal_num_102spk_dot1.pt\")"
   ]
  },
  {
   "cell_type": "code",
   "execution_count": 6,
   "metadata": {},
   "outputs": [
    {
     "data": {
      "text/plain": [
       "SimpleCNN(\n",
       "  (convb_1): Sequential(\n",
       "    (0): Conv2d(1, 64, kernel_size=(3, 3), stride=(1, 1), padding=(1, 1))\n",
       "    (1): BatchNorm2d(64, eps=1e-05, momentum=0.1, affine=True, track_running_stats=True)\n",
       "    (2): ReLU()\n",
       "    (3): MaxPool2d(kernel_size=2, stride=2, padding=0, dilation=1, ceil_mode=False)\n",
       "  )\n",
       "  (convb_2): Sequential(\n",
       "    (0): Conv2d(64, 64, kernel_size=(3, 3), stride=(1, 1), padding=(1, 1))\n",
       "    (1): BatchNorm2d(64, eps=1e-05, momentum=0.1, affine=True, track_running_stats=True)\n",
       "    (2): ReLU()\n",
       "    (3): MaxPool2d(kernel_size=2, stride=2, padding=0, dilation=1, ceil_mode=False)\n",
       "  )\n",
       "  (convb_3): Sequential(\n",
       "    (0): Conv2d(64, 64, kernel_size=(3, 3), stride=(1, 1), padding=(1, 1))\n",
       "    (1): BatchNorm2d(64, eps=1e-05, momentum=0.1, affine=True, track_running_stats=True)\n",
       "    (2): ReLU()\n",
       "    (3): MaxPool2d(kernel_size=2, stride=2, padding=0, dilation=1, ceil_mode=False)\n",
       "  )\n",
       "  (convb_4): Sequential(\n",
       "    (0): Conv2d(64, 64, kernel_size=(3, 3), stride=(1, 1), padding=(1, 1))\n",
       "    (1): BatchNorm2d(64, eps=1e-05, momentum=0.1, affine=True, track_running_stats=True)\n",
       "    (2): ReLU()\n",
       "    (3): MaxPool2d(kernel_size=1, stride=1, padding=0, dilation=1, ceil_mode=False)\n",
       "  )\n",
       "  (output): Linear(in_features=320, out_features=1880, bias=True)\n",
       ")"
      ]
     },
     "execution_count": 6,
     "metadata": {},
     "output_type": "execute_result"
    }
   ],
   "source": [
    "si_model"
   ]
  },
  {
   "cell_type": "code",
   "execution_count": 7,
   "metadata": {},
   "outputs": [],
   "source": [
    "si_train.set_seed(si_config)\n",
    "si_config['n_epochs'] = 80\n",
    "si_config['output_file'] = \"models/commands/test.pt\""
   ]
  },
  {
   "cell_type": "code",
   "execution_count": 8,
   "metadata": {},
   "outputs": [],
   "source": [
    "si_config['data_folder'] = \"/home/muncok/DL/dataset/SV_sets/speech_commands/\""
   ]
  },
  {
   "cell_type": "code",
   "execution_count": 9,
   "metadata": {},
   "outputs": [],
   "source": [
    "iden_df = pd.read_pickle(\"trials/commands/final/equal_num_102spk_iden.pkl\")\n",
    "iden_df.file = iden_df.apply(lambda row: os.path.join(row.sent, row.file), axis=1)"
   ]
  },
  {
   "cell_type": "code",
   "execution_count": 10,
   "metadata": {},
   "outputs": [],
   "source": [
    "samples = SpeechDataset.read_df(si_config['data_folder'], iden_df)\n",
    "dataset = SpeechDataset(samples,\"test\", si_config)"
   ]
  },
  {
   "cell_type": "code",
   "execution_count": 12,
   "metadata": {},
   "outputs": [
    {
     "name": "stdout",
     "output_type": "stream",
     "text": [
      "epoch #0, dev accuracy: nan\n"
     ]
    },
    {
     "name": "stderr",
     "output_type": "stream",
     "text": [
      "/home/muncok/anaconda3/envs/pytorch/lib/python3.6/site-packages/numpy/core/fromnumeric.py:2957: RuntimeWarning: Mean of empty slice.\n",
      "  out=out, **kwargs)\n",
      "/home/muncok/anaconda3/envs/pytorch/lib/python3.6/site-packages/numpy/core/_methods.py:80: RuntimeWarning: invalid value encountered in double_scalars\n",
      "  ret = ret.dtype.type(ret / rcount)\n",
      "Process Process-81:\n",
      "Process Process-87:\n",
      "Process Process-84:\n",
      "Process Process-86:\n",
      "Process Process-85:\n",
      "Process Process-83:\n",
      "Process Process-82:\n",
      "Traceback (most recent call last):\n",
      "  File \"/home/muncok/anaconda3/envs/pytorch/lib/python3.6/multiprocessing/process.py\", line 249, in _bootstrap\n",
      "    self.run()\n",
      "Traceback (most recent call last):\n",
      "Traceback (most recent call last):\n",
      "Traceback (most recent call last):\n",
      "Process Process-88:\n",
      "  File \"/home/muncok/anaconda3/envs/pytorch/lib/python3.6/multiprocessing/process.py\", line 249, in _bootstrap\n",
      "    self.run()\n",
      "Traceback (most recent call last):\n",
      "  File \"/home/muncok/anaconda3/envs/pytorch/lib/python3.6/multiprocessing/process.py\", line 93, in run\n",
      "    self._target(*self._args, **self._kwargs)\n",
      "  File \"/home/muncok/anaconda3/envs/pytorch/lib/python3.6/multiprocessing/process.py\", line 249, in _bootstrap\n",
      "    self.run()\n",
      "  File \"/home/muncok/anaconda3/envs/pytorch/lib/python3.6/multiprocessing/process.py\", line 249, in _bootstrap\n",
      "    self.run()\n",
      "  File \"/home/muncok/anaconda3/envs/pytorch/lib/python3.6/site-packages/torch/utils/data/dataloader.py\", line 57, in _worker_loop\n",
      "    samples = collate_fn([dataset[i] for i in batch_indices])\n",
      "  File \"/home/muncok/anaconda3/envs/pytorch/lib/python3.6/multiprocessing/process.py\", line 249, in _bootstrap\n",
      "    self.run()\n",
      "  File \"/home/muncok/anaconda3/envs/pytorch/lib/python3.6/multiprocessing/process.py\", line 93, in run\n",
      "    self._target(*self._args, **self._kwargs)\n",
      "  File \"/home/muncok/anaconda3/envs/pytorch/lib/python3.6/multiprocessing/process.py\", line 93, in run\n",
      "    self._target(*self._args, **self._kwargs)\n",
      "  File \"/home/muncok/anaconda3/envs/pytorch/lib/python3.6/multiprocessing/process.py\", line 93, in run\n",
      "    self._target(*self._args, **self._kwargs)\n",
      "  File \"/home/muncok/anaconda3/envs/pytorch/lib/python3.6/site-packages/torch/utils/data/dataloader.py\", line 57, in _worker_loop\n",
      "    samples = collate_fn([dataset[i] for i in batch_indices])\n",
      "  File \"/home/muncok/anaconda3/envs/pytorch/lib/python3.6/site-packages/torch/utils/data/dataloader.py\", line 57, in <listcomp>\n",
      "    samples = collate_fn([dataset[i] for i in batch_indices])\n",
      "  File \"/home/muncok/anaconda3/envs/pytorch/lib/python3.6/multiprocessing/process.py\", line 93, in run\n",
      "    self._target(*self._args, **self._kwargs)\n",
      "Traceback (most recent call last):\n",
      "  File \"/home/muncok/anaconda3/envs/pytorch/lib/python3.6/site-packages/torch/utils/data/dataloader.py\", line 57, in _worker_loop\n",
      "    samples = collate_fn([dataset[i] for i in batch_indices])\n",
      "  File \"/home/muncok/DL/projects/sv_system/dnn/data/dataset.py\", line 177, in __getitem__\n",
      "    return self.preprocess(self.audio_files[index]), self.audio_labels[index]\n",
      "  File \"/home/muncok/anaconda3/envs/pytorch/lib/python3.6/site-packages/torch/utils/data/dataloader.py\", line 57, in <listcomp>\n",
      "    samples = collate_fn([dataset[i] for i in batch_indices])\n",
      "Traceback (most recent call last):\n",
      "Traceback (most recent call last):\n",
      "  File \"/home/muncok/anaconda3/envs/pytorch/lib/python3.6/site-packages/torch/utils/data/dataloader.py\", line 57, in <listcomp>\n",
      "    samples = collate_fn([dataset[i] for i in batch_indices])\n",
      "  File \"/home/muncok/anaconda3/envs/pytorch/lib/python3.6/site-packages/torch/utils/data/dataloader.py\", line 57, in _worker_loop\n",
      "    samples = collate_fn([dataset[i] for i in batch_indices])\n",
      "  File \"/home/muncok/anaconda3/envs/pytorch/lib/python3.6/multiprocessing/process.py\", line 249, in _bootstrap\n",
      "    self.run()\n",
      "  File \"/home/muncok/DL/projects/sv_system/dnn/data/dataset.py\", line 106, in preprocess\n",
      "    data = librosa.core.load(example, sr=16000)[0] if file_data is None else file_data\n",
      "  File \"/home/muncok/DL/projects/sv_system/dnn/data/dataset.py\", line 177, in __getitem__\n",
      "    return self.preprocess(self.audio_files[index]), self.audio_labels[index]\n",
      "  File \"/home/muncok/DL/projects/sv_system/dnn/data/dataset.py\", line 177, in __getitem__\n",
      "    return self.preprocess(self.audio_files[index]), self.audio_labels[index]\n",
      "  File \"/home/muncok/anaconda3/envs/pytorch/lib/python3.6/site-packages/torch/utils/data/dataloader.py\", line 57, in _worker_loop\n",
      "    samples = collate_fn([dataset[i] for i in batch_indices])\n",
      "  File \"/home/muncok/anaconda3/envs/pytorch/lib/python3.6/multiprocessing/process.py\", line 249, in _bootstrap\n",
      "    self.run()\n",
      "  File \"/home/muncok/anaconda3/envs/pytorch/lib/python3.6/multiprocessing/process.py\", line 249, in _bootstrap\n",
      "    self.run()\n",
      "  File \"/home/muncok/anaconda3/envs/pytorch/lib/python3.6/site-packages/librosa/core/audio.py\", line 107, in load\n",
      "    with audioread.audio_open(os.path.realpath(path)) as input_file:\n",
      "  File \"/home/muncok/anaconda3/envs/pytorch/lib/python3.6/multiprocessing/process.py\", line 93, in run\n",
      "    self._target(*self._args, **self._kwargs)\n",
      "  File \"/home/muncok/DL/projects/sv_system/dnn/data/dataset.py\", line 106, in preprocess\n",
      "    data = librosa.core.load(example, sr=16000)[0] if file_data is None else file_data\n",
      "  File \"/home/muncok/anaconda3/envs/pytorch/lib/python3.6/site-packages/torch/utils/data/dataloader.py\", line 57, in <listcomp>\n",
      "    samples = collate_fn([dataset[i] for i in batch_indices])\n",
      "  File \"/home/muncok/DL/projects/sv_system/dnn/data/dataset.py\", line 129, in preprocess\n",
      "    input_feature = preprocess_audio(data, self.n_mels, self.filters, self.input_format)\n",
      "  File \"/home/muncok/anaconda3/envs/pytorch/lib/python3.6/posixpath.py\", line 386, in realpath\n",
      "    path, ok = _joinrealpath(filename[:0], filename, {})\n",
      "  File \"/home/muncok/anaconda3/envs/pytorch/lib/python3.6/multiprocessing/process.py\", line 93, in run\n",
      "    self._target(*self._args, **self._kwargs)\n",
      "  File \"/home/muncok/anaconda3/envs/pytorch/lib/python3.6/site-packages/librosa/core/audio.py\", line 155, in load\n",
      "    y = resample(y, sr_native, sr, res_type=res_type)\n",
      "  File \"/home/muncok/anaconda3/envs/pytorch/lib/python3.6/site-packages/torch/utils/data/dataloader.py\", line 57, in <listcomp>\n",
      "    samples = collate_fn([dataset[i] for i in batch_indices])\n",
      "  File \"/home/muncok/anaconda3/envs/pytorch/lib/python3.6/multiprocessing/process.py\", line 93, in run\n",
      "    self._target(*self._args, **self._kwargs)\n",
      "  File \"/home/muncok/anaconda3/envs/pytorch/lib/python3.6/site-packages/torch/utils/data/dataloader.py\", line 57, in _worker_loop\n",
      "    samples = collate_fn([dataset[i] for i in batch_indices])\n",
      "  File \"/home/muncok/anaconda3/envs/pytorch/lib/python3.6/posixpath.py\", line 406, in _joinrealpath\n",
      "    name, _, rest = rest.partition(sep)\n",
      "  File \"/home/muncok/DL/projects/sv_system/dnn/data/manage_audio.py\", line 26, in preprocess_audio\n",
      "    data = librosa.feature.melspectrogram(data, sr=16000, n_mels=n_mels, hop_length=160, n_fft=480, fmin=20, fmax=4000)\n",
      "  File \"/home/muncok/DL/projects/sv_system/dnn/data/dataset.py\", line 177, in __getitem__\n",
      "    return self.preprocess(self.audio_files[index]), self.audio_labels[index]\n",
      "  File \"/home/muncok/anaconda3/envs/pytorch/lib/python3.6/site-packages/torch/utils/data/dataloader.py\", line 57, in _worker_loop\n",
      "    samples = collate_fn([dataset[i] for i in batch_indices])\n",
      "  File \"/home/muncok/anaconda3/envs/pytorch/lib/python3.6/site-packages/torch/utils/data/dataloader.py\", line 57, in _worker_loop\n",
      "    samples = collate_fn([dataset[i] for i in batch_indices])\n",
      "  File \"/home/muncok/anaconda3/envs/pytorch/lib/python3.6/site-packages/librosa/core/audio.py\", line 204, in resample\n",
      "    @cache(level=20)\n",
      "  File \"/home/muncok/DL/projects/sv_system/dnn/data/dataset.py\", line 177, in __getitem__\n",
      "    return self.preprocess(self.audio_files[index]), self.audio_labels[index]\n",
      "  File \"/home/muncok/anaconda3/envs/pytorch/lib/python3.6/site-packages/torch/utils/data/dataloader.py\", line 57, in <listcomp>\n",
      "    samples = collate_fn([dataset[i] for i in batch_indices])\n",
      "  File \"/home/muncok/anaconda3/envs/pytorch/lib/python3.6/site-packages/librosa/feature/spectral.py\", line 1388, in melspectrogram\n",
      "    power=power)\n",
      "  File \"/home/muncok/DL/projects/sv_system/dnn/data/dataset.py\", line 129, in preprocess\n",
      "    input_feature = preprocess_audio(data, self.n_mels, self.filters, self.input_format)\n"
     ]
    },
    {
     "name": "stderr",
     "output_type": "stream",
     "text": [
      "KeyboardInterrupt\n",
      "  File \"/home/muncok/anaconda3/envs/pytorch/lib/python3.6/site-packages/torch/utils/data/dataloader.py\", line 138, in default_collate\n",
      "    return [default_collate(samples) for samples in transposed]\n",
      "KeyboardInterrupt\n",
      "  File \"/home/muncok/anaconda3/envs/pytorch/lib/python3.6/site-packages/torch/utils/data/dataloader.py\", line 57, in <listcomp>\n",
      "    samples = collate_fn([dataset[i] for i in batch_indices])\n",
      "  File \"/home/muncok/DL/projects/sv_system/dnn/data/dataset.py\", line 177, in __getitem__\n",
      "    return self.preprocess(self.audio_files[index]), self.audio_labels[index]\n",
      "  File \"/home/muncok/DL/projects/sv_system/dnn/data/manage_audio.py\", line 27, in preprocess_audio\n",
      "    data[data > 0] = np.log(data[data > 0])\n",
      "  File \"/home/muncok/DL/projects/sv_system/dnn/data/dataset.py\", line 106, in preprocess\n",
      "    data = librosa.core.load(example, sr=16000)[0] if file_data is None else file_data\n",
      "  File \"/home/muncok/anaconda3/envs/pytorch/lib/python3.6/site-packages/torch/utils/data/dataloader.py\", line 138, in <listcomp>\n",
      "    return [default_collate(samples) for samples in transposed]\n",
      "  File \"/home/muncok/DL/projects/sv_system/dnn/data/dataset.py\", line 177, in __getitem__\n",
      "    return self.preprocess(self.audio_files[index]), self.audio_labels[index]\n",
      "  File \"/home/muncok/DL/projects/sv_system/dnn/data/dataset.py\", line 129, in preprocess\n",
      "    input_feature = preprocess_audio(data, self.n_mels, self.filters, self.input_format)\n",
      "  File \"/home/muncok/anaconda3/envs/pytorch/lib/python3.6/site-packages/librosa/core/audio.py\", line 107, in load\n",
      "    with audioread.audio_open(os.path.realpath(path)) as input_file:\n",
      "  File \"/home/muncok/anaconda3/envs/pytorch/lib/python3.6/site-packages/torch/utils/data/dataloader.py\", line 115, in default_collate\n",
      "    return torch.stack(batch, 0, out=out)\n",
      "  File \"/home/muncok/DL/projects/sv_system/dnn/data/dataset.py\", line 129, in preprocess\n",
      "    input_feature = preprocess_audio(data, self.n_mels, self.filters, self.input_format)\n",
      "  File \"/home/muncok/anaconda3/envs/pytorch/lib/python3.6/posixpath.py\", line 386, in realpath\n",
      "    path, ok = _joinrealpath(filename[:0], filename, {})\n",
      "KeyboardInterrupt\n",
      "  File \"/home/muncok/DL/projects/sv_system/dnn/data/manage_audio.py\", line 26, in preprocess_audio\n",
      "    data = librosa.feature.melspectrogram(data, sr=16000, n_mels=n_mels, hop_length=160, n_fft=480, fmin=20, fmax=4000)\n",
      "KeyboardInterrupt\n",
      "  File \"/home/muncok/DL/projects/sv_system/dnn/data/manage_audio.py\", line 26, in preprocess_audio\n",
      "    data = librosa.feature.melspectrogram(data, sr=16000, n_mels=n_mels, hop_length=160, n_fft=480, fmin=20, fmax=4000)\n",
      "  File \"/home/muncok/anaconda3/envs/pytorch/lib/python3.6/site-packages/librosa/core/spectrum.py\", line 1179, in _spectrogram\n",
      "    S = np.abs(stft(y, n_fft=n_fft, hop_length=hop_length))**power\n",
      "  File \"/home/muncok/anaconda3/envs/pytorch/lib/python3.6/site-packages/librosa/feature/spectral.py\", line 1388, in melspectrogram\n",
      "    power=power)\n",
      "  File \"/home/muncok/anaconda3/envs/pytorch/lib/python3.6/posixpath.py\", line 419, in _joinrealpath\n",
      "    newpath = join(path, name)\n",
      "  File \"/home/muncok/anaconda3/envs/pytorch/lib/python3.6/site-packages/librosa/feature/spectral.py\", line 1388, in melspectrogram\n",
      "    power=power)\n",
      "  File \"/home/muncok/anaconda3/envs/pytorch/lib/python3.6/site-packages/librosa/core/spectrum.py\", line 180, in stft\n",
      "    axis=0)[:stft_matrix.shape[0]].conj()\n",
      "  File \"/home/muncok/anaconda3/envs/pytorch/lib/python3.6/site-packages/librosa/core/spectrum.py\", line 1179, in _spectrogram\n",
      "    S = np.abs(stft(y, n_fft=n_fft, hop_length=hop_length))**power\n",
      "  File \"/home/muncok/anaconda3/envs/pytorch/lib/python3.6/posixpath.py\", line 87, in join\n",
      "    elif not path or path.endswith(sep):\n",
      "  File \"/home/muncok/anaconda3/envs/pytorch/lib/python3.6/site-packages/librosa/core/spectrum.py\", line 1179, in _spectrogram\n",
      "    S = np.abs(stft(y, n_fft=n_fft, hop_length=hop_length))**power\n",
      "KeyboardInterrupt\n",
      "  File \"/home/muncok/anaconda3/envs/pytorch/lib/python3.6/site-packages/librosa/core/spectrum.py\", line 180, in stft\n",
      "    axis=0)[:stft_matrix.shape[0]].conj()\n",
      "KeyboardInterrupt\n",
      "  File \"/home/muncok/anaconda3/envs/pytorch/lib/python3.6/site-packages/librosa/core/spectrum.py\", line 180, in stft\n",
      "    axis=0)[:stft_matrix.shape[0]].conj()\n",
      "KeyboardInterrupt\n",
      "  File \"/home/muncok/anaconda3/envs/pytorch/lib/python3.6/site-packages/scipy/fftpack/basic.py\", line 285, in fft\n",
      "    tmp = work_function(tmp,n,1,0,overwrite_x)\n",
      "KeyboardInterrupt\n",
      "ERROR:root:Internal Python error in the inspect module.\n",
      "Below is the traceback from this internal error.\n",
      "\n"
     ]
    },
    {
     "name": "stdout",
     "output_type": "stream",
     "text": [
      "Traceback (most recent call last):\n",
      "  File \"/home/muncok/anaconda3/envs/pytorch/lib/python3.6/site-packages/IPython/core/interactiveshell.py\", line 2963, in run_code\n",
      "    exec(code_obj, self.user_global_ns, self.user_ns)\n",
      "  File \"<ipython-input-12-36e7b639226f>\", line 2, in <module>\n",
      "    si_train.si_train(si_config, model=si_model, loaders=[loader, loader, loader])\n",
      "  File \"/home/muncok/DL/projects/sv_system/dnn/train/si_train.py\", line 113, in si_train\n",
      "    for X_batch, y_batch in dev_loader:\n",
      "  File \"/home/muncok/anaconda3/envs/pytorch/lib/python3.6/site-packages/torch/utils/data/dataloader.py\", line 280, in __next__\n",
      "    idx, batch = self._get_batch()\n",
      "  File \"/home/muncok/anaconda3/envs/pytorch/lib/python3.6/site-packages/torch/utils/data/dataloader.py\", line 259, in _get_batch\n",
      "    return self.data_queue.get()\n",
      "  File \"/home/muncok/anaconda3/envs/pytorch/lib/python3.6/multiprocessing/queues.py\", line 342, in get\n",
      "    res = self._reader.recv_bytes()\n",
      "  File \"/home/muncok/anaconda3/envs/pytorch/lib/python3.6/multiprocessing/connection.py\", line 216, in recv_bytes\n",
      "    buf = self._recv_bytes(maxlength)\n",
      "  File \"/home/muncok/anaconda3/envs/pytorch/lib/python3.6/multiprocessing/connection.py\", line 407, in _recv_bytes\n",
      "    buf = self._recv(4)\n",
      "  File \"/home/muncok/anaconda3/envs/pytorch/lib/python3.6/multiprocessing/connection.py\", line 379, in _recv\n",
      "    chunk = read(handle, remaining)\n",
      "KeyboardInterrupt\n",
      "\n",
      "During handling of the above exception, another exception occurred:\n",
      "\n",
      "Traceback (most recent call last):\n",
      "  File \"/home/muncok/anaconda3/envs/pytorch/lib/python3.6/site-packages/IPython/core/interactiveshell.py\", line 1863, in showtraceback\n",
      "    stb = value._render_traceback_()\n",
      "AttributeError: 'KeyboardInterrupt' object has no attribute '_render_traceback_'\n",
      "\n",
      "During handling of the above exception, another exception occurred:\n",
      "\n",
      "Traceback (most recent call last):\n",
      "  File \"/home/muncok/anaconda3/envs/pytorch/lib/python3.6/site-packages/IPython/core/ultratb.py\", line 1095, in get_records\n",
      "    return _fixed_getinnerframes(etb, number_of_lines_of_context, tb_offset)\n",
      "  File \"/home/muncok/anaconda3/envs/pytorch/lib/python3.6/site-packages/IPython/core/ultratb.py\", line 311, in wrapped\n",
      "    return f(*args, **kwargs)\n",
      "  File \"/home/muncok/anaconda3/envs/pytorch/lib/python3.6/site-packages/IPython/core/ultratb.py\", line 345, in _fixed_getinnerframes\n",
      "    records = fix_frame_records_filenames(inspect.getinnerframes(etb, context))\n",
      "  File \"/home/muncok/anaconda3/envs/pytorch/lib/python3.6/inspect.py\", line 1480, in getinnerframes\n",
      "    frameinfo = (tb.tb_frame,) + getframeinfo(tb, context)\n",
      "  File \"/home/muncok/anaconda3/envs/pytorch/lib/python3.6/inspect.py\", line 1438, in getframeinfo\n",
      "    filename = getsourcefile(frame) or getfile(frame)\n",
      "  File \"/home/muncok/anaconda3/envs/pytorch/lib/python3.6/inspect.py\", line 693, in getsourcefile\n",
      "    if getattr(getmodule(object, filename), '__loader__', None) is not None:\n",
      "  File \"/home/muncok/anaconda3/envs/pytorch/lib/python3.6/inspect.py\", line 739, in getmodule\n",
      "    os.path.realpath(f)] = module.__name__\n",
      "  File \"/home/muncok/anaconda3/envs/pytorch/lib/python3.6/posixpath.py\", line 387, in realpath\n",
      "    return abspath(path)\n",
      "  File \"/home/muncok/anaconda3/envs/pytorch/lib/python3.6/posixpath.py\", line 370, in abspath\n",
      "    if not isabs(path):\n",
      "  File \"/home/muncok/anaconda3/envs/pytorch/lib/python3.6/posixpath.py\", line 66, in isabs\n",
      "    return s.startswith(sep)\n",
      "  File \"/home/muncok/anaconda3/envs/pytorch/lib/python3.6/site-packages/torch/utils/data/dataloader.py\", line 178, in handler\n",
      "    _error_if_any_worker_fails()\n",
      "RuntimeError: DataLoader worker (pid 29067) exited unexpectedly with exit code 1.\n"
     ]
    },
    {
     "ename": "KeyboardInterrupt",
     "evalue": "",
     "output_type": "error",
     "traceback": [
      "\u001b[0;31m---------------------------------------------------------------------------\u001b[0m"
     ]
    }
   ],
   "source": [
    "loader = dloader.init_default_loader(dataset)\n",
    "si_train.si_train(si_config, model=si_model, loaders=[loader, loader, loader])"
   ]
  },
  {
   "cell_type": "code",
   "execution_count": null,
   "metadata": {},
   "outputs": [],
   "source": []
  }
 ],
 "metadata": {
  "kernelspec": {
   "display_name": "Pytorch",
   "language": "python",
   "name": "pytorch"
  },
  "language_info": {
   "codemirror_mode": {
    "name": "ipython",
    "version": 3
   },
   "file_extension": ".py",
   "mimetype": "text/x-python",
   "name": "python",
   "nbconvert_exporter": "python",
   "pygments_lexer": "ipython3",
   "version": "3.6.2"
  }
 },
 "nbformat": 4,
 "nbformat_minor": 2
}
