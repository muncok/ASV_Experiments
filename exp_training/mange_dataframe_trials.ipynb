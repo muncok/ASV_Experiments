{
 "cells": [
  {
   "cell_type": "markdown",
   "metadata": {},
   "source": [
    "Mange dataframes and trials\n",
    "------------------\n",
    "\n"
   ]
  },
  {
   "cell_type": "markdown",
   "metadata": {},
   "source": [
    "### Environment"
   ]
  },
  {
   "cell_type": "code",
   "execution_count": 2,
   "metadata": {},
   "outputs": [
    {
     "name": "stdout",
     "output_type": "stream",
     "text": [
      "Using matplotlib backend: TkAgg\n",
      "Populating the interactive namespace from numpy and matplotlib\n"
     ]
    }
   ],
   "source": [
    "%load_ext autoreload\n",
    "%autoreload 2\n",
    "%pylab\n",
    "%matplotlib inline\n",
    "\n",
    "import pandas as pd\n",
    "import pickle\n",
    "import numpy as np\n",
    "import sys\n",
    "import os"
   ]
  },
  {
   "cell_type": "code",
   "execution_count": 3,
   "metadata": {},
   "outputs": [],
   "source": [
    "sys.path.append('/host/projects/sv_experiments/')\n",
    "os.environ[\"CUDA_DEVICE_ORDER\"]=\"PCI_BUS_ID\"   # see issue #152\n",
    "os.environ[\"CUDA_VISIBLE_DEVICES\"]=\"3\""
   ]
  },
  {
   "cell_type": "markdown",
   "metadata": {},
   "source": [
    "## Correct wrong paths of old dataset"
   ]
  },
  {
   "cell_type": "code",
   "execution_count": null,
   "metadata": {},
   "outputs": [],
   "source": [
    "voxc1_trial = pd.read_pickle(\"/dataset/SV_sets/dataframes/voxc1/voxc_trial.pkl\")"
   ]
  },
  {
   "cell_type": "code",
   "execution_count": null,
   "metadata": {},
   "outputs": [],
   "source": [
    "voxc1_meta = pd.read_csv(\"../dataset/voxceleb1/vox1_meta.csv\", delimiter=\"\\t\")\n",
    "\n",
    "voxc1_si_df = pd.read_pickle(\"../dataset/dataframes/voxc1/si_voxc_dataframe.pkl\")\n",
    "voxc1_sv_df = pd.read_pickle(\"../dataset/dataframes/voxc1/sv_voxc_dataframe.pkl\")\n",
    "\n",
    "voxc12_si_df = pd.read_pickle(\"../dataset/dataframes/voxc12/si_voxc12_dataframe.pkl\")\n",
    "voxc12_sv_df = pd.read_pickle(\"../dataset/dataframes/voxc12/sv_voxc12_dataframe.pkl\")"
   ]
  },
  {
   "cell_type": "code",
   "execution_count": null,
   "metadata": {},
   "outputs": [],
   "source": [
    "import shutil\n",
    "\n",
    "for idx, row in voxc12_si_fix_df.iterrows():\n",
    "    wrong_path = \"/dataset/SV_sets/voxceleb2/feats/xvector_npy/\" + row.feat\n",
    "    file_name = '-'.join(wrong_path.rsplit('-', 2)[-2:])\n",
    "    folder_path = \"/dataset/SV_sets/voxceleb2/feats/xvector_npy/\" + row.spk\n",
    "    correct_path = folder_path + '/' + file_name\n",
    "    if not os.path.isdir(folder_path):\n",
    "        os.makedirs(folder_path)\n",
    "    try:\n",
    "        shutil.move(wrong_path, correct_path)\n",
    "    except FileNotFoundError:\n",
    "        print(wrong_path)"
   ]
  },
  {
   "cell_type": "code",
   "execution_count": null,
   "metadata": {},
   "outputs": [],
   "source": [
    "voxc12_si_df.apply(lambda x: x if x.feat )"
   ]
  },
  {
   "cell_type": "markdown",
   "metadata": {},
   "source": [
    "## voxceleb 1.1 - newly organized voxceleb1"
   ]
  },
  {
   "cell_type": "code",
   "execution_count": null,
   "metadata": {},
   "outputs": [],
   "source": [
    "voxc_11_dev = \"/dataset/SV_sets/voxceleb1.1/dev/wav/\"\n",
    "voxc_11_test = \"/dataset/SV_sets/voxceleb1.1/test/wav/\""
   ]
  },
  {
   "cell_type": "code",
   "execution_count": null,
   "metadata": {},
   "outputs": [],
   "source": [
    "def append_dir(file):\n",
    "    return os.path.join(dirpath, file)"
   ]
  },
  {
   "cell_type": "code",
   "execution_count": null,
   "metadata": {},
   "outputs": [],
   "source": [
    "dev_wav_files = []\n",
    "for dirpath, dirnames, filenames in os.walk(voxc_11_dev):\n",
    "    if len(filenames) == 0: continue\n",
    "    dev_wav_files += list(map(append_dir, filenames))\n",
    "\n",
    "test_wav_files = []\n",
    "for dirpath, dirnames, filenames in os.walk(voxc_11_test):\n",
    "    if len(filenames) == 0: continue\n",
    "    test_wav_files += list(map(append_dir, filenames))"
   ]
  },
  {
   "cell_type": "markdown",
   "metadata": {},
   "source": [
    "### utt2spk, spk2utt\n",
    "\n",
    "TODO: sorting order로 저장해야한다!!"
   ]
  },
  {
   "cell_type": "code",
   "execution_count": null,
   "metadata": {},
   "outputs": [],
   "source": [
    "voxc11_df = pd.DataFrame(test_wav_files, columns=['wav'])"
   ]
  },
  {
   "cell_type": "code",
   "execution_count": null,
   "metadata": {},
   "outputs": [],
   "source": [
    "voxc11_df['spk']  = voxc11_df.wav.apply(lambda x: x.split('/')[-3])\n",
    "voxc11_df['session']  = voxc11_df.wav.apply(lambda x: x.split('/')[-2])\n",
    "voxc11_df = voxc11_df.set_index(voxc11_df.wav.apply(lambda x: '-'.join(x.split('/')[-3:]).rstrip('.wav')))\n",
    "voxc11_df.index.name = None\n",
    "voxc11_df['wav'] = voxc11_df.wav.apply(lambda x: '/'.join(x.split('/')[-3:]))\n",
    "\n",
    "voxc11_spks = voxc11_df.spk.unique().tolist()\n",
    "\n",
    "spk2utt_dict = dict()\n",
    "for spk in voxc11_spks:\n",
    "    spk2utt_dict[spk] = ' '.join(voxc11_df[voxc11_df.spk == spk].index.tolist())"
   ]
  },
  {
   "cell_type": "code",
   "execution_count": null,
   "metadata": {},
   "outputs": [],
   "source": [
    "with open(\"/dataset/SV_sets/voxceleb1.1/test/spk2utt\", \"w\") as f:\n",
    "    for spk, utt in spk2utt_dict.items():\n",
    "        f.write(spk+\" \"+utt+\"\\n\")\n",
    "\n",
    "with open(\"/dataset/SV_sets/voxceleb1.1/test/utt2spk\", \"w\") as f:\n",
    "    for idx, row in voxc11_df.iterrows():\n",
    "        f.write(idx+\" \"+row.spk+\"\\n\")"
   ]
  },
  {
   "cell_type": "code",
   "execution_count": null,
   "metadata": {},
   "outputs": [],
   "source": [
    "voxc11_df.to_pickle(\"/dataset/SV_sets/voxceleb1.1/si_voxc11_dataframe.pkl\")"
   ]
  },
  {
   "cell_type": "markdown",
   "metadata": {},
   "source": [
    "### wav.scp"
   ]
  },
  {
   "cell_type": "code",
   "execution_count": null,
   "metadata": {},
   "outputs": [],
   "source": [
    "voxc11_df = pd.DataFrame(test_wav_files, columns=['wav'])\n",
    "voxc11_df = voxc11_df.set_index(voxc11_df.wav.apply(lambda x: '-'.join(x.split('/')[-3:]).rstrip('.wav')))\n",
    "voxc11_df.index.name = None"
   ]
  },
  {
   "cell_type": "code",
   "execution_count": null,
   "metadata": {},
   "outputs": [],
   "source": [
    "with open(\"/dataset/SV_sets/voxceleb1.1/dev/wav.scp\", \"w\") as f:\n",
    "    for idx, row in voxc11_df.iterrows():\n",
    "        f.write(idx+' '+row.wav+'\\n')"
   ]
  },
  {
   "cell_type": "markdown",
   "metadata": {},
   "source": [
    "## voxceleb new voxc12"
   ]
  },
  {
   "cell_type": "markdown",
   "metadata": {},
   "source": [
    "### voxc12 dataframes"
   ]
  },
  {
   "cell_type": "code",
   "execution_count": 3,
   "metadata": {},
   "outputs": [],
   "source": [
    "voxc12_dev = \"/dataset/SV_sets/voxceleb12/feats//\"\n",
    "voxc12_test = \"/dataset/SV_sets/voxceleb12/feats/mfcc30_test/\""
   ]
  },
  {
   "cell_type": "code",
   "execution_count": 231,
   "metadata": {},
   "outputs": [],
   "source": [
    "def append_dir(file):\n",
    "    return os.path.join(dirpath, file)"
   ]
  },
  {
   "cell_type": "code",
   "execution_count": 232,
   "metadata": {},
   "outputs": [],
   "source": [
    "dev_npy_files = []\n",
    "for dirpath, dirnames, filenames in os.walk(voxc12_dev):\n",
    "    if len(filenames) == 0: continue\n",
    "    dev_npy_files += list(map(append_dir, filenames))\n",
    "\n",
    "test_npy_files = []\n",
    "for dirpath, dirnames, filenames in os.walk(voxc12_test):\n",
    "    if len(filenames) == 0: continue\n",
    "    test_npy_files += list(map(append_dir, filenames))"
   ]
  },
  {
   "cell_type": "code",
   "execution_count": 233,
   "metadata": {},
   "outputs": [],
   "source": [
    "# voxc12_df = pd.DataFrame(dev_npy_files, columns=['wav'])\n",
    "voxc12_df = pd.DataFrame(test_npy_files, columns=['wav'])"
   ]
  },
  {
   "cell_type": "code",
   "execution_count": 234,
   "metadata": {},
   "outputs": [],
   "source": [
    "voxc12_df['spk']  = voxc12_df.wav.apply(lambda x: x.split('/')[-2])\n",
    "voxc12_df = voxc12_df.set_index(voxc12_df.wav.apply(lambda x: '-'.join(x.split('/')[-2:]).rstrip('. npy')))\n",
    "voxc12_df.index.name = None\n",
    "voxc12_df['feat'] = voxc12_df.wav.apply(lambda x: '/'.join(x.split('/')[-2:]))\n",
    "voxc12_df = voxc12_df.drop(columns=\"wav\")\n",
    "\n",
    "voxc12_spks = voxc12_df.spk.unique().tolist()"
   ]
  },
  {
   "cell_type": "code",
   "execution_count": 235,
   "metadata": {},
   "outputs": [],
   "source": [
    "voxc12_df['label'] = voxc12_df.groupby('spk').ngroup()"
   ]
  },
  {
   "cell_type": "code",
   "execution_count": 237,
   "metadata": {},
   "outputs": [],
   "source": [
    "voxc12_df.to_pickle(\"/dataset/SV_sets/voxceleb12/dataframes/voxc12_sv_test_dataframe.pkl\")"
   ]
  },
  {
   "cell_type": "markdown",
   "metadata": {},
   "source": [
    "### voxc1_dev dataframe"
   ]
  },
  {
   "cell_type": "code",
   "execution_count": 366,
   "metadata": {},
   "outputs": [],
   "source": [
    "voxc12_dev_df = pd.read_pickle(\"/dataset/SV_sets/voxceleb12/dataframes/voxc12_si_train_dataframe.pkl\")\n",
    "voxc12_dev_spks = voxc12_dev_df.spk.unique().tolist()"
   ]
  },
  {
   "cell_type": "code",
   "execution_count": 6,
   "metadata": {},
   "outputs": [],
   "source": [
    "voxc1_dev_spks = [spk for spk in voxc12_dev_spks if spk.startswith('id1')]\n",
    "voxc1_dev_df = voxc12_dev_df[voxc12_dev_df.spk.isin(voxc1_dev_spks)]"
   ]
  },
  {
   "cell_type": "code",
   "execution_count": 16,
   "metadata": {},
   "outputs": [
    {
     "name": "stderr",
     "output_type": "stream",
     "text": [
      "/opt/conda/envs/pytorch-py3.6/lib/python3.6/site-packages/pandas/core/indexing.py:543: SettingWithCopyWarning: \n",
      "A value is trying to be set on a copy of a slice from a DataFrame.\n",
      "Try using .loc[row_indexer,col_indexer] = value instead\n",
      "\n",
      "See the caveats in the documentation: http://pandas.pydata.org/pandas-docs/stable/indexing.html#indexing-view-versus-copy\n",
      "  self.obj[item] = s\n"
     ]
    }
   ],
   "source": [
    "voxc1_dev_df.loc[:, 'label'] = voxc1_dev_df.groupby('spk').ngroup()"
   ]
  },
  {
   "cell_type": "code",
   "execution_count": 18,
   "metadata": {},
   "outputs": [],
   "source": [
    "voxc1_dev_df.to_pickle(\"/dataset/SV_sets/voxceleb12/dataframes/voxc1_si_train_dataframe.pkl\")"
   ]
  },
  {
   "cell_type": "markdown",
   "metadata": {},
   "source": [
    "#### session label\n"
   ]
  },
  {
   "cell_type": "code",
   "execution_count": 35,
   "metadata": {},
   "outputs": [],
   "source": [
    "voxc1_dev_df = pd.read_pickle(\"/dataset/SV_sets/voxceleb12/dataframes/voxc1_si_train_dataframe.pkl\")"
   ]
  },
  {
   "cell_type": "code",
   "execution_count": 48,
   "metadata": {},
   "outputs": [],
   "source": [
    "valid_session = voxc1_dev_df.session.value_counts()[voxc1_dev_df.session.value_counts() > 7].index.tolist()"
   ]
  },
  {
   "cell_type": "code",
   "execution_count": 49,
   "metadata": {},
   "outputs": [
    {
     "data": {
      "text/html": [
       "<div>\n",
       "<style scoped>\n",
       "    .dataframe tbody tr th:only-of-type {\n",
       "        vertical-align: middle;\n",
       "    }\n",
       "\n",
       "    .dataframe tbody tr th {\n",
       "        vertical-align: top;\n",
       "    }\n",
       "\n",
       "    .dataframe thead th {\n",
       "        text-align: right;\n",
       "    }\n",
       "</style>\n",
       "<table border=\"1\" class=\"dataframe\">\n",
       "  <thead>\n",
       "    <tr style=\"text-align: right;\">\n",
       "      <th></th>\n",
       "      <th>spk</th>\n",
       "      <th>feat</th>\n",
       "      <th>label</th>\n",
       "      <th>session</th>\n",
       "      <th>set</th>\n",
       "      <th>gender</th>\n",
       "    </tr>\n",
       "  </thead>\n",
       "  <tbody>\n",
       "    <tr>\n",
       "      <th>id10001-7w0IBEWc9Qw-00001</th>\n",
       "      <td>id10001</td>\n",
       "      <td>id10001/7w0IBEWc9Qw-00001.npy</td>\n",
       "      <td>0</td>\n",
       "      <td>7w0IBEWc9Qw</td>\n",
       "      <td>train</td>\n",
       "      <td>m</td>\n",
       "    </tr>\n",
       "    <tr>\n",
       "      <th>id10001-7w0IBEWc9Qw-00002</th>\n",
       "      <td>id10001</td>\n",
       "      <td>id10001/7w0IBEWc9Qw-00002.npy</td>\n",
       "      <td>0</td>\n",
       "      <td>7w0IBEWc9Qw</td>\n",
       "      <td>train</td>\n",
       "      <td>m</td>\n",
       "    </tr>\n",
       "    <tr>\n",
       "      <th>id10001-7w0IBEWc9Qw-00003</th>\n",
       "      <td>id10001</td>\n",
       "      <td>id10001/7w0IBEWc9Qw-00003.npy</td>\n",
       "      <td>0</td>\n",
       "      <td>7w0IBEWc9Qw</td>\n",
       "      <td>train</td>\n",
       "      <td>m</td>\n",
       "    </tr>\n",
       "    <tr>\n",
       "      <th>id10001-7w0IBEWc9Qw-00004</th>\n",
       "      <td>id10001</td>\n",
       "      <td>id10001/7w0IBEWc9Qw-00004.npy</td>\n",
       "      <td>0</td>\n",
       "      <td>7w0IBEWc9Qw</td>\n",
       "      <td>train</td>\n",
       "      <td>m</td>\n",
       "    </tr>\n",
       "    <tr>\n",
       "      <th>id10001-7w0IBEWc9Qw-00005</th>\n",
       "      <td>id10001</td>\n",
       "      <td>id10001/7w0IBEWc9Qw-00005.npy</td>\n",
       "      <td>0</td>\n",
       "      <td>7w0IBEWc9Qw</td>\n",
       "      <td>train</td>\n",
       "      <td>m</td>\n",
       "    </tr>\n",
       "    <tr>\n",
       "      <th>id10001-7w0IBEWc9Qw-00006</th>\n",
       "      <td>id10001</td>\n",
       "      <td>id10001/7w0IBEWc9Qw-00006.npy</td>\n",
       "      <td>0</td>\n",
       "      <td>7w0IBEWc9Qw</td>\n",
       "      <td>train</td>\n",
       "      <td>m</td>\n",
       "    </tr>\n",
       "    <tr>\n",
       "      <th>id10001-7w0IBEWc9Qw-00007</th>\n",
       "      <td>id10001</td>\n",
       "      <td>id10001/7w0IBEWc9Qw-00007.npy</td>\n",
       "      <td>0</td>\n",
       "      <td>7w0IBEWc9Qw</td>\n",
       "      <td>train</td>\n",
       "      <td>m</td>\n",
       "    </tr>\n",
       "    <tr>\n",
       "      <th>id10001-7w0IBEWc9Qw-00008</th>\n",
       "      <td>id10001</td>\n",
       "      <td>id10001/7w0IBEWc9Qw-00008.npy</td>\n",
       "      <td>0</td>\n",
       "      <td>7w0IBEWc9Qw</td>\n",
       "      <td>train</td>\n",
       "      <td>m</td>\n",
       "    </tr>\n",
       "    <tr>\n",
       "      <th>id10001-7w0IBEWc9Qw-00009</th>\n",
       "      <td>id10001</td>\n",
       "      <td>id10001/7w0IBEWc9Qw-00009.npy</td>\n",
       "      <td>0</td>\n",
       "      <td>7w0IBEWc9Qw</td>\n",
       "      <td>train</td>\n",
       "      <td>m</td>\n",
       "    </tr>\n",
       "    <tr>\n",
       "      <th>id10001-7w0IBEWc9Qw-00010</th>\n",
       "      <td>id10001</td>\n",
       "      <td>id10001/7w0IBEWc9Qw-00010.npy</td>\n",
       "      <td>0</td>\n",
       "      <td>7w0IBEWc9Qw</td>\n",
       "      <td>train</td>\n",
       "      <td>m</td>\n",
       "    </tr>\n",
       "    <tr>\n",
       "      <th>id10001-J9lHsKG98U8-00001</th>\n",
       "      <td>id10001</td>\n",
       "      <td>id10001/J9lHsKG98U8-00001.npy</td>\n",
       "      <td>0</td>\n",
       "      <td>J9lHsKG98U8</td>\n",
       "      <td>train</td>\n",
       "      <td>m</td>\n",
       "    </tr>\n",
       "    <tr>\n",
       "      <th>id10001-J9lHsKG98U8-00002</th>\n",
       "      <td>id10001</td>\n",
       "      <td>id10001/J9lHsKG98U8-00002.npy</td>\n",
       "      <td>0</td>\n",
       "      <td>J9lHsKG98U8</td>\n",
       "      <td>train</td>\n",
       "      <td>m</td>\n",
       "    </tr>\n",
       "    <tr>\n",
       "      <th>id10001-J9lHsKG98U8-00003</th>\n",
       "      <td>id10001</td>\n",
       "      <td>id10001/J9lHsKG98U8-00003.npy</td>\n",
       "      <td>0</td>\n",
       "      <td>J9lHsKG98U8</td>\n",
       "      <td>train</td>\n",
       "      <td>m</td>\n",
       "    </tr>\n",
       "    <tr>\n",
       "      <th>id10001-J9lHsKG98U8-00004</th>\n",
       "      <td>id10001</td>\n",
       "      <td>id10001/J9lHsKG98U8-00004.npy</td>\n",
       "      <td>0</td>\n",
       "      <td>J9lHsKG98U8</td>\n",
       "      <td>train</td>\n",
       "      <td>m</td>\n",
       "    </tr>\n",
       "    <tr>\n",
       "      <th>id10001-J9lHsKG98U8-00005</th>\n",
       "      <td>id10001</td>\n",
       "      <td>id10001/J9lHsKG98U8-00005.npy</td>\n",
       "      <td>0</td>\n",
       "      <td>J9lHsKG98U8</td>\n",
       "      <td>train</td>\n",
       "      <td>m</td>\n",
       "    </tr>\n",
       "    <tr>\n",
       "      <th>id10001-J9lHsKG98U8-00006</th>\n",
       "      <td>id10001</td>\n",
       "      <td>id10001/J9lHsKG98U8-00006.npy</td>\n",
       "      <td>0</td>\n",
       "      <td>J9lHsKG98U8</td>\n",
       "      <td>train</td>\n",
       "      <td>m</td>\n",
       "    </tr>\n",
       "    <tr>\n",
       "      <th>id10001-J9lHsKG98U8-00007</th>\n",
       "      <td>id10001</td>\n",
       "      <td>id10001/J9lHsKG98U8-00007.npy</td>\n",
       "      <td>0</td>\n",
       "      <td>J9lHsKG98U8</td>\n",
       "      <td>train</td>\n",
       "      <td>m</td>\n",
       "    </tr>\n",
       "    <tr>\n",
       "      <th>id10001-J9lHsKG98U8-00008</th>\n",
       "      <td>id10001</td>\n",
       "      <td>id10001/J9lHsKG98U8-00008.npy</td>\n",
       "      <td>0</td>\n",
       "      <td>J9lHsKG98U8</td>\n",
       "      <td>train</td>\n",
       "      <td>m</td>\n",
       "    </tr>\n",
       "    <tr>\n",
       "      <th>id10001-J9lHsKG98U8-00009</th>\n",
       "      <td>id10001</td>\n",
       "      <td>id10001/J9lHsKG98U8-00009.npy</td>\n",
       "      <td>0</td>\n",
       "      <td>J9lHsKG98U8</td>\n",
       "      <td>train</td>\n",
       "      <td>m</td>\n",
       "    </tr>\n",
       "    <tr>\n",
       "      <th>id10001-J9lHsKG98U8-00010</th>\n",
       "      <td>id10001</td>\n",
       "      <td>id10001/J9lHsKG98U8-00010.npy</td>\n",
       "      <td>0</td>\n",
       "      <td>J9lHsKG98U8</td>\n",
       "      <td>train</td>\n",
       "      <td>m</td>\n",
       "    </tr>\n",
       "    <tr>\n",
       "      <th>id10001-J9lHsKG98U8-00011</th>\n",
       "      <td>id10001</td>\n",
       "      <td>id10001/J9lHsKG98U8-00011.npy</td>\n",
       "      <td>0</td>\n",
       "      <td>J9lHsKG98U8</td>\n",
       "      <td>train</td>\n",
       "      <td>m</td>\n",
       "    </tr>\n",
       "    <tr>\n",
       "      <th>id10001-J9lHsKG98U8-00012</th>\n",
       "      <td>id10001</td>\n",
       "      <td>id10001/J9lHsKG98U8-00012.npy</td>\n",
       "      <td>0</td>\n",
       "      <td>J9lHsKG98U8</td>\n",
       "      <td>train</td>\n",
       "      <td>m</td>\n",
       "    </tr>\n",
       "    <tr>\n",
       "      <th>id10001-J9lHsKG98U8-00013</th>\n",
       "      <td>id10001</td>\n",
       "      <td>id10001/J9lHsKG98U8-00013.npy</td>\n",
       "      <td>0</td>\n",
       "      <td>J9lHsKG98U8</td>\n",
       "      <td>train</td>\n",
       "      <td>m</td>\n",
       "    </tr>\n",
       "    <tr>\n",
       "      <th>id10001-J9lHsKG98U8-00014</th>\n",
       "      <td>id10001</td>\n",
       "      <td>id10001/J9lHsKG98U8-00014.npy</td>\n",
       "      <td>0</td>\n",
       "      <td>J9lHsKG98U8</td>\n",
       "      <td>train</td>\n",
       "      <td>m</td>\n",
       "    </tr>\n",
       "    <tr>\n",
       "      <th>id10001-J9lHsKG98U8-00015</th>\n",
       "      <td>id10001</td>\n",
       "      <td>id10001/J9lHsKG98U8-00015.npy</td>\n",
       "      <td>0</td>\n",
       "      <td>J9lHsKG98U8</td>\n",
       "      <td>train</td>\n",
       "      <td>m</td>\n",
       "    </tr>\n",
       "    <tr>\n",
       "      <th>id10001-J9lHsKG98U8-00016</th>\n",
       "      <td>id10001</td>\n",
       "      <td>id10001/J9lHsKG98U8-00016.npy</td>\n",
       "      <td>0</td>\n",
       "      <td>J9lHsKG98U8</td>\n",
       "      <td>train</td>\n",
       "      <td>m</td>\n",
       "    </tr>\n",
       "    <tr>\n",
       "      <th>id10001-J9lHsKG98U8-00017</th>\n",
       "      <td>id10001</td>\n",
       "      <td>id10001/J9lHsKG98U8-00017.npy</td>\n",
       "      <td>0</td>\n",
       "      <td>J9lHsKG98U8</td>\n",
       "      <td>train</td>\n",
       "      <td>m</td>\n",
       "    </tr>\n",
       "    <tr>\n",
       "      <th>id10001-J9lHsKG98U8-00018</th>\n",
       "      <td>id10001</td>\n",
       "      <td>id10001/J9lHsKG98U8-00018.npy</td>\n",
       "      <td>0</td>\n",
       "      <td>J9lHsKG98U8</td>\n",
       "      <td>train</td>\n",
       "      <td>m</td>\n",
       "    </tr>\n",
       "    <tr>\n",
       "      <th>id10001-J9lHsKG98U8-00019</th>\n",
       "      <td>id10001</td>\n",
       "      <td>id10001/J9lHsKG98U8-00019.npy</td>\n",
       "      <td>0</td>\n",
       "      <td>J9lHsKG98U8</td>\n",
       "      <td>train</td>\n",
       "      <td>m</td>\n",
       "    </tr>\n",
       "    <tr>\n",
       "      <th>id10001-J9lHsKG98U8-00020</th>\n",
       "      <td>id10001</td>\n",
       "      <td>id10001/J9lHsKG98U8-00020.npy</td>\n",
       "      <td>0</td>\n",
       "      <td>J9lHsKG98U8</td>\n",
       "      <td>train</td>\n",
       "      <td>m</td>\n",
       "    </tr>\n",
       "    <tr>\n",
       "      <th>...</th>\n",
       "      <td>...</td>\n",
       "      <td>...</td>\n",
       "      <td>...</td>\n",
       "      <td>...</td>\n",
       "      <td>...</td>\n",
       "      <td>...</td>\n",
       "    </tr>\n",
       "    <tr>\n",
       "      <th>id11250-iqGgKapY1EQ-00009</th>\n",
       "      <td>id11250</td>\n",
       "      <td>id11250/iqGgKapY1EQ-00009.npy</td>\n",
       "      <td>1209</td>\n",
       "      <td>iqGgKapY1EQ</td>\n",
       "      <td>train</td>\n",
       "      <td>f</td>\n",
       "    </tr>\n",
       "    <tr>\n",
       "      <th>id11250-iqGgKapY1EQ-00010</th>\n",
       "      <td>id11250</td>\n",
       "      <td>id11250/iqGgKapY1EQ-00010.npy</td>\n",
       "      <td>1209</td>\n",
       "      <td>iqGgKapY1EQ</td>\n",
       "      <td>train</td>\n",
       "      <td>f</td>\n",
       "    </tr>\n",
       "    <tr>\n",
       "      <th>id11250-iqGgKapY1EQ-00011</th>\n",
       "      <td>id11250</td>\n",
       "      <td>id11250/iqGgKapY1EQ-00011.npy</td>\n",
       "      <td>1209</td>\n",
       "      <td>iqGgKapY1EQ</td>\n",
       "      <td>train</td>\n",
       "      <td>f</td>\n",
       "    </tr>\n",
       "    <tr>\n",
       "      <th>id11250-mBV0J4uJL8Q-00001</th>\n",
       "      <td>id11250</td>\n",
       "      <td>id11250/mBV0J4uJL8Q-00001.npy</td>\n",
       "      <td>1209</td>\n",
       "      <td>mBV0J4uJL8Q</td>\n",
       "      <td>train</td>\n",
       "      <td>f</td>\n",
       "    </tr>\n",
       "    <tr>\n",
       "      <th>id11250-mBV0J4uJL8Q-00002</th>\n",
       "      <td>id11250</td>\n",
       "      <td>id11250/mBV0J4uJL8Q-00002.npy</td>\n",
       "      <td>1209</td>\n",
       "      <td>mBV0J4uJL8Q</td>\n",
       "      <td>train</td>\n",
       "      <td>f</td>\n",
       "    </tr>\n",
       "    <tr>\n",
       "      <th>id11250-mBV0J4uJL8Q-00003</th>\n",
       "      <td>id11250</td>\n",
       "      <td>id11250/mBV0J4uJL8Q-00003.npy</td>\n",
       "      <td>1209</td>\n",
       "      <td>mBV0J4uJL8Q</td>\n",
       "      <td>train</td>\n",
       "      <td>f</td>\n",
       "    </tr>\n",
       "    <tr>\n",
       "      <th>id11250-mBV0J4uJL8Q-00004</th>\n",
       "      <td>id11250</td>\n",
       "      <td>id11250/mBV0J4uJL8Q-00004.npy</td>\n",
       "      <td>1209</td>\n",
       "      <td>mBV0J4uJL8Q</td>\n",
       "      <td>train</td>\n",
       "      <td>f</td>\n",
       "    </tr>\n",
       "    <tr>\n",
       "      <th>id11250-mBV0J4uJL8Q-00005</th>\n",
       "      <td>id11250</td>\n",
       "      <td>id11250/mBV0J4uJL8Q-00005.npy</td>\n",
       "      <td>1209</td>\n",
       "      <td>mBV0J4uJL8Q</td>\n",
       "      <td>train</td>\n",
       "      <td>f</td>\n",
       "    </tr>\n",
       "    <tr>\n",
       "      <th>id11250-mBV0J4uJL8Q-00006</th>\n",
       "      <td>id11250</td>\n",
       "      <td>id11250/mBV0J4uJL8Q-00006.npy</td>\n",
       "      <td>1209</td>\n",
       "      <td>mBV0J4uJL8Q</td>\n",
       "      <td>train</td>\n",
       "      <td>f</td>\n",
       "    </tr>\n",
       "    <tr>\n",
       "      <th>id11250-mBV0J4uJL8Q-00007</th>\n",
       "      <td>id11250</td>\n",
       "      <td>id11250/mBV0J4uJL8Q-00007.npy</td>\n",
       "      <td>1209</td>\n",
       "      <td>mBV0J4uJL8Q</td>\n",
       "      <td>train</td>\n",
       "      <td>f</td>\n",
       "    </tr>\n",
       "    <tr>\n",
       "      <th>id11250-mBV0J4uJL8Q-00008</th>\n",
       "      <td>id11250</td>\n",
       "      <td>id11250/mBV0J4uJL8Q-00008.npy</td>\n",
       "      <td>1209</td>\n",
       "      <td>mBV0J4uJL8Q</td>\n",
       "      <td>train</td>\n",
       "      <td>f</td>\n",
       "    </tr>\n",
       "    <tr>\n",
       "      <th>id11251-gFfcgOVmiO0-00001</th>\n",
       "      <td>id11251</td>\n",
       "      <td>id11251/gFfcgOVmiO0-00001.npy</td>\n",
       "      <td>1210</td>\n",
       "      <td>gFfcgOVmiO0</td>\n",
       "      <td>train</td>\n",
       "      <td>f</td>\n",
       "    </tr>\n",
       "    <tr>\n",
       "      <th>id11251-gFfcgOVmiO0-00002</th>\n",
       "      <td>id11251</td>\n",
       "      <td>id11251/gFfcgOVmiO0-00002.npy</td>\n",
       "      <td>1210</td>\n",
       "      <td>gFfcgOVmiO0</td>\n",
       "      <td>train</td>\n",
       "      <td>f</td>\n",
       "    </tr>\n",
       "    <tr>\n",
       "      <th>id11251-gFfcgOVmiO0-00003</th>\n",
       "      <td>id11251</td>\n",
       "      <td>id11251/gFfcgOVmiO0-00003.npy</td>\n",
       "      <td>1210</td>\n",
       "      <td>gFfcgOVmiO0</td>\n",
       "      <td>train</td>\n",
       "      <td>f</td>\n",
       "    </tr>\n",
       "    <tr>\n",
       "      <th>id11251-gFfcgOVmiO0-00004</th>\n",
       "      <td>id11251</td>\n",
       "      <td>id11251/gFfcgOVmiO0-00004.npy</td>\n",
       "      <td>1210</td>\n",
       "      <td>gFfcgOVmiO0</td>\n",
       "      <td>train</td>\n",
       "      <td>f</td>\n",
       "    </tr>\n",
       "    <tr>\n",
       "      <th>id11251-gFfcgOVmiO0-00005</th>\n",
       "      <td>id11251</td>\n",
       "      <td>id11251/gFfcgOVmiO0-00005.npy</td>\n",
       "      <td>1210</td>\n",
       "      <td>gFfcgOVmiO0</td>\n",
       "      <td>train</td>\n",
       "      <td>f</td>\n",
       "    </tr>\n",
       "    <tr>\n",
       "      <th>id11251-gFfcgOVmiO0-00006</th>\n",
       "      <td>id11251</td>\n",
       "      <td>id11251/gFfcgOVmiO0-00006.npy</td>\n",
       "      <td>1210</td>\n",
       "      <td>gFfcgOVmiO0</td>\n",
       "      <td>train</td>\n",
       "      <td>f</td>\n",
       "    </tr>\n",
       "    <tr>\n",
       "      <th>id11251-gFfcgOVmiO0-00007</th>\n",
       "      <td>id11251</td>\n",
       "      <td>id11251/gFfcgOVmiO0-00007.npy</td>\n",
       "      <td>1210</td>\n",
       "      <td>gFfcgOVmiO0</td>\n",
       "      <td>train</td>\n",
       "      <td>f</td>\n",
       "    </tr>\n",
       "    <tr>\n",
       "      <th>id11251-gFfcgOVmiO0-00008</th>\n",
       "      <td>id11251</td>\n",
       "      <td>id11251/gFfcgOVmiO0-00008.npy</td>\n",
       "      <td>1210</td>\n",
       "      <td>gFfcgOVmiO0</td>\n",
       "      <td>train</td>\n",
       "      <td>f</td>\n",
       "    </tr>\n",
       "    <tr>\n",
       "      <th>id11251-gFfcgOVmiO0-00009</th>\n",
       "      <td>id11251</td>\n",
       "      <td>id11251/gFfcgOVmiO0-00009.npy</td>\n",
       "      <td>1210</td>\n",
       "      <td>gFfcgOVmiO0</td>\n",
       "      <td>train</td>\n",
       "      <td>f</td>\n",
       "    </tr>\n",
       "    <tr>\n",
       "      <th>id11251-gFfcgOVmiO0-00010</th>\n",
       "      <td>id11251</td>\n",
       "      <td>id11251/gFfcgOVmiO0-00010.npy</td>\n",
       "      <td>1210</td>\n",
       "      <td>gFfcgOVmiO0</td>\n",
       "      <td>train</td>\n",
       "      <td>f</td>\n",
       "    </tr>\n",
       "    <tr>\n",
       "      <th>id11251-s4R4hvqrhFw-00001</th>\n",
       "      <td>id11251</td>\n",
       "      <td>id11251/s4R4hvqrhFw-00001.npy</td>\n",
       "      <td>1210</td>\n",
       "      <td>s4R4hvqrhFw</td>\n",
       "      <td>train</td>\n",
       "      <td>f</td>\n",
       "    </tr>\n",
       "    <tr>\n",
       "      <th>id11251-s4R4hvqrhFw-00002</th>\n",
       "      <td>id11251</td>\n",
       "      <td>id11251/s4R4hvqrhFw-00002.npy</td>\n",
       "      <td>1210</td>\n",
       "      <td>s4R4hvqrhFw</td>\n",
       "      <td>train</td>\n",
       "      <td>f</td>\n",
       "    </tr>\n",
       "    <tr>\n",
       "      <th>id11251-s4R4hvqrhFw-00003</th>\n",
       "      <td>id11251</td>\n",
       "      <td>id11251/s4R4hvqrhFw-00003.npy</td>\n",
       "      <td>1210</td>\n",
       "      <td>s4R4hvqrhFw</td>\n",
       "      <td>train</td>\n",
       "      <td>f</td>\n",
       "    </tr>\n",
       "    <tr>\n",
       "      <th>id11251-s4R4hvqrhFw-00004</th>\n",
       "      <td>id11251</td>\n",
       "      <td>id11251/s4R4hvqrhFw-00004.npy</td>\n",
       "      <td>1210</td>\n",
       "      <td>s4R4hvqrhFw</td>\n",
       "      <td>train</td>\n",
       "      <td>f</td>\n",
       "    </tr>\n",
       "    <tr>\n",
       "      <th>id11251-s4R4hvqrhFw-00005</th>\n",
       "      <td>id11251</td>\n",
       "      <td>id11251/s4R4hvqrhFw-00005.npy</td>\n",
       "      <td>1210</td>\n",
       "      <td>s4R4hvqrhFw</td>\n",
       "      <td>train</td>\n",
       "      <td>f</td>\n",
       "    </tr>\n",
       "    <tr>\n",
       "      <th>id11251-s4R4hvqrhFw-00006</th>\n",
       "      <td>id11251</td>\n",
       "      <td>id11251/s4R4hvqrhFw-00006.npy</td>\n",
       "      <td>1210</td>\n",
       "      <td>s4R4hvqrhFw</td>\n",
       "      <td>train</td>\n",
       "      <td>f</td>\n",
       "    </tr>\n",
       "    <tr>\n",
       "      <th>id11251-s4R4hvqrhFw-00007</th>\n",
       "      <td>id11251</td>\n",
       "      <td>id11251/s4R4hvqrhFw-00007.npy</td>\n",
       "      <td>1210</td>\n",
       "      <td>s4R4hvqrhFw</td>\n",
       "      <td>train</td>\n",
       "      <td>f</td>\n",
       "    </tr>\n",
       "    <tr>\n",
       "      <th>id11251-s4R4hvqrhFw-00008</th>\n",
       "      <td>id11251</td>\n",
       "      <td>id11251/s4R4hvqrhFw-00008.npy</td>\n",
       "      <td>1210</td>\n",
       "      <td>s4R4hvqrhFw</td>\n",
       "      <td>train</td>\n",
       "      <td>f</td>\n",
       "    </tr>\n",
       "    <tr>\n",
       "      <th>id11251-s4R4hvqrhFw-00009</th>\n",
       "      <td>id11251</td>\n",
       "      <td>id11251/s4R4hvqrhFw-00009.npy</td>\n",
       "      <td>1210</td>\n",
       "      <td>s4R4hvqrhFw</td>\n",
       "      <td>train</td>\n",
       "      <td>f</td>\n",
       "    </tr>\n",
       "  </tbody>\n",
       "</table>\n",
       "<p>101239 rows × 6 columns</p>\n",
       "</div>"
      ],
      "text/plain": [
       "                               spk                           feat  label  \\\n",
       "id10001-7w0IBEWc9Qw-00001  id10001  id10001/7w0IBEWc9Qw-00001.npy      0   \n",
       "id10001-7w0IBEWc9Qw-00002  id10001  id10001/7w0IBEWc9Qw-00002.npy      0   \n",
       "id10001-7w0IBEWc9Qw-00003  id10001  id10001/7w0IBEWc9Qw-00003.npy      0   \n",
       "id10001-7w0IBEWc9Qw-00004  id10001  id10001/7w0IBEWc9Qw-00004.npy      0   \n",
       "id10001-7w0IBEWc9Qw-00005  id10001  id10001/7w0IBEWc9Qw-00005.npy      0   \n",
       "id10001-7w0IBEWc9Qw-00006  id10001  id10001/7w0IBEWc9Qw-00006.npy      0   \n",
       "id10001-7w0IBEWc9Qw-00007  id10001  id10001/7w0IBEWc9Qw-00007.npy      0   \n",
       "id10001-7w0IBEWc9Qw-00008  id10001  id10001/7w0IBEWc9Qw-00008.npy      0   \n",
       "id10001-7w0IBEWc9Qw-00009  id10001  id10001/7w0IBEWc9Qw-00009.npy      0   \n",
       "id10001-7w0IBEWc9Qw-00010  id10001  id10001/7w0IBEWc9Qw-00010.npy      0   \n",
       "id10001-J9lHsKG98U8-00001  id10001  id10001/J9lHsKG98U8-00001.npy      0   \n",
       "id10001-J9lHsKG98U8-00002  id10001  id10001/J9lHsKG98U8-00002.npy      0   \n",
       "id10001-J9lHsKG98U8-00003  id10001  id10001/J9lHsKG98U8-00003.npy      0   \n",
       "id10001-J9lHsKG98U8-00004  id10001  id10001/J9lHsKG98U8-00004.npy      0   \n",
       "id10001-J9lHsKG98U8-00005  id10001  id10001/J9lHsKG98U8-00005.npy      0   \n",
       "id10001-J9lHsKG98U8-00006  id10001  id10001/J9lHsKG98U8-00006.npy      0   \n",
       "id10001-J9lHsKG98U8-00007  id10001  id10001/J9lHsKG98U8-00007.npy      0   \n",
       "id10001-J9lHsKG98U8-00008  id10001  id10001/J9lHsKG98U8-00008.npy      0   \n",
       "id10001-J9lHsKG98U8-00009  id10001  id10001/J9lHsKG98U8-00009.npy      0   \n",
       "id10001-J9lHsKG98U8-00010  id10001  id10001/J9lHsKG98U8-00010.npy      0   \n",
       "id10001-J9lHsKG98U8-00011  id10001  id10001/J9lHsKG98U8-00011.npy      0   \n",
       "id10001-J9lHsKG98U8-00012  id10001  id10001/J9lHsKG98U8-00012.npy      0   \n",
       "id10001-J9lHsKG98U8-00013  id10001  id10001/J9lHsKG98U8-00013.npy      0   \n",
       "id10001-J9lHsKG98U8-00014  id10001  id10001/J9lHsKG98U8-00014.npy      0   \n",
       "id10001-J9lHsKG98U8-00015  id10001  id10001/J9lHsKG98U8-00015.npy      0   \n",
       "id10001-J9lHsKG98U8-00016  id10001  id10001/J9lHsKG98U8-00016.npy      0   \n",
       "id10001-J9lHsKG98U8-00017  id10001  id10001/J9lHsKG98U8-00017.npy      0   \n",
       "id10001-J9lHsKG98U8-00018  id10001  id10001/J9lHsKG98U8-00018.npy      0   \n",
       "id10001-J9lHsKG98U8-00019  id10001  id10001/J9lHsKG98U8-00019.npy      0   \n",
       "id10001-J9lHsKG98U8-00020  id10001  id10001/J9lHsKG98U8-00020.npy      0   \n",
       "...                            ...                            ...    ...   \n",
       "id11250-iqGgKapY1EQ-00009  id11250  id11250/iqGgKapY1EQ-00009.npy   1209   \n",
       "id11250-iqGgKapY1EQ-00010  id11250  id11250/iqGgKapY1EQ-00010.npy   1209   \n",
       "id11250-iqGgKapY1EQ-00011  id11250  id11250/iqGgKapY1EQ-00011.npy   1209   \n",
       "id11250-mBV0J4uJL8Q-00001  id11250  id11250/mBV0J4uJL8Q-00001.npy   1209   \n",
       "id11250-mBV0J4uJL8Q-00002  id11250  id11250/mBV0J4uJL8Q-00002.npy   1209   \n",
       "id11250-mBV0J4uJL8Q-00003  id11250  id11250/mBV0J4uJL8Q-00003.npy   1209   \n",
       "id11250-mBV0J4uJL8Q-00004  id11250  id11250/mBV0J4uJL8Q-00004.npy   1209   \n",
       "id11250-mBV0J4uJL8Q-00005  id11250  id11250/mBV0J4uJL8Q-00005.npy   1209   \n",
       "id11250-mBV0J4uJL8Q-00006  id11250  id11250/mBV0J4uJL8Q-00006.npy   1209   \n",
       "id11250-mBV0J4uJL8Q-00007  id11250  id11250/mBV0J4uJL8Q-00007.npy   1209   \n",
       "id11250-mBV0J4uJL8Q-00008  id11250  id11250/mBV0J4uJL8Q-00008.npy   1209   \n",
       "id11251-gFfcgOVmiO0-00001  id11251  id11251/gFfcgOVmiO0-00001.npy   1210   \n",
       "id11251-gFfcgOVmiO0-00002  id11251  id11251/gFfcgOVmiO0-00002.npy   1210   \n",
       "id11251-gFfcgOVmiO0-00003  id11251  id11251/gFfcgOVmiO0-00003.npy   1210   \n",
       "id11251-gFfcgOVmiO0-00004  id11251  id11251/gFfcgOVmiO0-00004.npy   1210   \n",
       "id11251-gFfcgOVmiO0-00005  id11251  id11251/gFfcgOVmiO0-00005.npy   1210   \n",
       "id11251-gFfcgOVmiO0-00006  id11251  id11251/gFfcgOVmiO0-00006.npy   1210   \n",
       "id11251-gFfcgOVmiO0-00007  id11251  id11251/gFfcgOVmiO0-00007.npy   1210   \n",
       "id11251-gFfcgOVmiO0-00008  id11251  id11251/gFfcgOVmiO0-00008.npy   1210   \n",
       "id11251-gFfcgOVmiO0-00009  id11251  id11251/gFfcgOVmiO0-00009.npy   1210   \n",
       "id11251-gFfcgOVmiO0-00010  id11251  id11251/gFfcgOVmiO0-00010.npy   1210   \n",
       "id11251-s4R4hvqrhFw-00001  id11251  id11251/s4R4hvqrhFw-00001.npy   1210   \n",
       "id11251-s4R4hvqrhFw-00002  id11251  id11251/s4R4hvqrhFw-00002.npy   1210   \n",
       "id11251-s4R4hvqrhFw-00003  id11251  id11251/s4R4hvqrhFw-00003.npy   1210   \n",
       "id11251-s4R4hvqrhFw-00004  id11251  id11251/s4R4hvqrhFw-00004.npy   1210   \n",
       "id11251-s4R4hvqrhFw-00005  id11251  id11251/s4R4hvqrhFw-00005.npy   1210   \n",
       "id11251-s4R4hvqrhFw-00006  id11251  id11251/s4R4hvqrhFw-00006.npy   1210   \n",
       "id11251-s4R4hvqrhFw-00007  id11251  id11251/s4R4hvqrhFw-00007.npy   1210   \n",
       "id11251-s4R4hvqrhFw-00008  id11251  id11251/s4R4hvqrhFw-00008.npy   1210   \n",
       "id11251-s4R4hvqrhFw-00009  id11251  id11251/s4R4hvqrhFw-00009.npy   1210   \n",
       "\n",
       "                               session    set gender  \n",
       "id10001-7w0IBEWc9Qw-00001  7w0IBEWc9Qw  train      m  \n",
       "id10001-7w0IBEWc9Qw-00002  7w0IBEWc9Qw  train      m  \n",
       "id10001-7w0IBEWc9Qw-00003  7w0IBEWc9Qw  train      m  \n",
       "id10001-7w0IBEWc9Qw-00004  7w0IBEWc9Qw  train      m  \n",
       "id10001-7w0IBEWc9Qw-00005  7w0IBEWc9Qw  train      m  \n",
       "id10001-7w0IBEWc9Qw-00006  7w0IBEWc9Qw  train      m  \n",
       "id10001-7w0IBEWc9Qw-00007  7w0IBEWc9Qw  train      m  \n",
       "id10001-7w0IBEWc9Qw-00008  7w0IBEWc9Qw  train      m  \n",
       "id10001-7w0IBEWc9Qw-00009  7w0IBEWc9Qw  train      m  \n",
       "id10001-7w0IBEWc9Qw-00010  7w0IBEWc9Qw  train      m  \n",
       "id10001-J9lHsKG98U8-00001  J9lHsKG98U8  train      m  \n",
       "id10001-J9lHsKG98U8-00002  J9lHsKG98U8  train      m  \n",
       "id10001-J9lHsKG98U8-00003  J9lHsKG98U8  train      m  \n",
       "id10001-J9lHsKG98U8-00004  J9lHsKG98U8  train      m  \n",
       "id10001-J9lHsKG98U8-00005  J9lHsKG98U8  train      m  \n",
       "id10001-J9lHsKG98U8-00006  J9lHsKG98U8  train      m  \n",
       "id10001-J9lHsKG98U8-00007  J9lHsKG98U8  train      m  \n",
       "id10001-J9lHsKG98U8-00008  J9lHsKG98U8  train      m  \n",
       "id10001-J9lHsKG98U8-00009  J9lHsKG98U8  train      m  \n",
       "id10001-J9lHsKG98U8-00010  J9lHsKG98U8  train      m  \n",
       "id10001-J9lHsKG98U8-00011  J9lHsKG98U8  train      m  \n",
       "id10001-J9lHsKG98U8-00012  J9lHsKG98U8  train      m  \n",
       "id10001-J9lHsKG98U8-00013  J9lHsKG98U8  train      m  \n",
       "id10001-J9lHsKG98U8-00014  J9lHsKG98U8  train      m  \n",
       "id10001-J9lHsKG98U8-00015  J9lHsKG98U8  train      m  \n",
       "id10001-J9lHsKG98U8-00016  J9lHsKG98U8  train      m  \n",
       "id10001-J9lHsKG98U8-00017  J9lHsKG98U8  train      m  \n",
       "id10001-J9lHsKG98U8-00018  J9lHsKG98U8  train      m  \n",
       "id10001-J9lHsKG98U8-00019  J9lHsKG98U8  train      m  \n",
       "id10001-J9lHsKG98U8-00020  J9lHsKG98U8  train      m  \n",
       "...                                ...    ...    ...  \n",
       "id11250-iqGgKapY1EQ-00009  iqGgKapY1EQ  train      f  \n",
       "id11250-iqGgKapY1EQ-00010  iqGgKapY1EQ  train      f  \n",
       "id11250-iqGgKapY1EQ-00011  iqGgKapY1EQ  train      f  \n",
       "id11250-mBV0J4uJL8Q-00001  mBV0J4uJL8Q  train      f  \n",
       "id11250-mBV0J4uJL8Q-00002  mBV0J4uJL8Q  train      f  \n",
       "id11250-mBV0J4uJL8Q-00003  mBV0J4uJL8Q  train      f  \n",
       "id11250-mBV0J4uJL8Q-00004  mBV0J4uJL8Q  train      f  \n",
       "id11250-mBV0J4uJL8Q-00005  mBV0J4uJL8Q  train      f  \n",
       "id11250-mBV0J4uJL8Q-00006  mBV0J4uJL8Q  train      f  \n",
       "id11250-mBV0J4uJL8Q-00007  mBV0J4uJL8Q  train      f  \n",
       "id11250-mBV0J4uJL8Q-00008  mBV0J4uJL8Q  train      f  \n",
       "id11251-gFfcgOVmiO0-00001  gFfcgOVmiO0  train      f  \n",
       "id11251-gFfcgOVmiO0-00002  gFfcgOVmiO0  train      f  \n",
       "id11251-gFfcgOVmiO0-00003  gFfcgOVmiO0  train      f  \n",
       "id11251-gFfcgOVmiO0-00004  gFfcgOVmiO0  train      f  \n",
       "id11251-gFfcgOVmiO0-00005  gFfcgOVmiO0  train      f  \n",
       "id11251-gFfcgOVmiO0-00006  gFfcgOVmiO0  train      f  \n",
       "id11251-gFfcgOVmiO0-00007  gFfcgOVmiO0  train      f  \n",
       "id11251-gFfcgOVmiO0-00008  gFfcgOVmiO0  train      f  \n",
       "id11251-gFfcgOVmiO0-00009  gFfcgOVmiO0  train      f  \n",
       "id11251-gFfcgOVmiO0-00010  gFfcgOVmiO0  train      f  \n",
       "id11251-s4R4hvqrhFw-00001  s4R4hvqrhFw  train      f  \n",
       "id11251-s4R4hvqrhFw-00002  s4R4hvqrhFw  train      f  \n",
       "id11251-s4R4hvqrhFw-00003  s4R4hvqrhFw  train      f  \n",
       "id11251-s4R4hvqrhFw-00004  s4R4hvqrhFw  train      f  \n",
       "id11251-s4R4hvqrhFw-00005  s4R4hvqrhFw  train      f  \n",
       "id11251-s4R4hvqrhFw-00006  s4R4hvqrhFw  train      f  \n",
       "id11251-s4R4hvqrhFw-00007  s4R4hvqrhFw  train      f  \n",
       "id11251-s4R4hvqrhFw-00008  s4R4hvqrhFw  train      f  \n",
       "id11251-s4R4hvqrhFw-00009  s4R4hvqrhFw  train      f  \n",
       "\n",
       "[101239 rows x 6 columns]"
      ]
     },
     "execution_count": 49,
     "metadata": {},
     "output_type": "execute_result"
    }
   ],
   "source": [
    "voxc1_dev_df[voxc1_dev_df.session.isin(valid_session)]"
   ]
  },
  {
   "cell_type": "markdown",
   "metadata": {},
   "source": [
    "### speaker identificaiton data split "
   ]
  },
  {
   "cell_type": "code",
   "execution_count": 169,
   "metadata": {},
   "outputs": [],
   "source": [
    "voxc12_dev_df['session'] = voxc12_dev_df.index"
   ]
  },
  {
   "cell_type": "code",
   "execution_count": 170,
   "metadata": {},
   "outputs": [],
   "source": [
    "voxc12_dev_df['session'] = voxc12_dev_df.session.apply(lambda x: x[8:-6])"
   ]
  },
  {
   "cell_type": "code",
   "execution_count": 179,
   "metadata": {},
   "outputs": [],
   "source": [
    "voxc12_dev_test_sessions = voxc12_dev_df.groupby('spk').apply(lambda x: x.session.sample(n=1))"
   ]
  },
  {
   "cell_type": "code",
   "execution_count": 190,
   "metadata": {},
   "outputs": [],
   "source": [
    "voxc12_dev_df['set'] = 'train'"
   ]
  },
  {
   "cell_type": "code",
   "execution_count": 198,
   "metadata": {},
   "outputs": [],
   "source": [
    "voxc12_dev_df.loc[voxc12_dev_df.session.isin(voxc12_dev_test_sessions), 'set'] = 'val'"
   ]
  },
  {
   "cell_type": "code",
   "execution_count": 200,
   "metadata": {},
   "outputs": [
    {
     "data": {
      "text/plain": [
       "0.0958903787859809"
      ]
     },
     "execution_count": 200,
     "metadata": {},
     "output_type": "execute_result"
    }
   ],
   "source": [
    "len(voxc12_dev_df[voxc12_dev_df.set == 'val']) / len(voxc12_dev_df)"
   ]
  },
  {
   "cell_type": "code",
   "execution_count": 201,
   "metadata": {},
   "outputs": [],
   "source": [
    "voxc12_dev_df.to_pickle('/dataset/SV_sets/voxceleb12/dataframes/voxc12_si_train_dataframe.pkl')"
   ]
  },
  {
   "cell_type": "markdown",
   "metadata": {},
   "source": [
    "### gender split"
   ]
  },
  {
   "cell_type": "code",
   "execution_count": 480,
   "metadata": {},
   "outputs": [],
   "source": [
    "voxc1_dev_df = pd.read_pickle(\"/dataset/SV_sets/voxceleb12/dataframes/voxc1_si_train_dataframe.pkl\")\n",
    "voxc1_meta = pd.read_csv(\"/dataset/SV_sets/voxceleb12/vox1_meta.csv\")\n",
    "voxc1_meta = voxc1_meta.set_index('VoxCeleb1 ID')\n",
    "voxc1_dev_df['gender'] = voxc1_dev_df.spk.apply(lambda x: voxc1_meta.loc[x].Gender)\n",
    "voxc1_dev_df.to_pickle(\"/dataset/SV_sets/voxceleb12/dataframes/voxc1_si_train_dataframe.pkl\")"
   ]
  },
  {
   "cell_type": "code",
   "execution_count": 484,
   "metadata": {},
   "outputs": [],
   "source": [
    "voxc1_test_df = pd.read_pickle(\"/dataset/SV_sets/voxceleb12/dataframes/voxc12_sv_test_dataframe.pkl\")\n",
    "voxc1_meta = pd.read_csv(\"/dataset/SV_sets/voxceleb12/vox1_meta.csv\")\n",
    "voxc1_meta = voxc1_meta.set_index('VoxCeleb1 ID')\n",
    "voxc1_test_df['gender'] = voxc1_test_df.spk.apply(lambda x: voxc1_meta.loc[x].Gender)\n",
    "voxc1_test_df.to_pickle(\"/dataset/SV_sets/voxceleb12/dataframes/voxc12_sv_test_dataframe.pkl\")"
   ]
  },
  {
   "cell_type": "code",
   "execution_count": 486,
   "metadata": {},
   "outputs": [],
   "source": [
    "voxc1_dev_m = voxc1_dev_df[voxc1_dev_df.gender == 'm']\n",
    "voxc1_dev_f = voxc1_dev_df[voxc1_dev_df.gender == 'f']"
   ]
  },
  {
   "cell_type": "code",
   "execution_count": 499,
   "metadata": {},
   "outputs": [
    {
     "name": "stderr",
     "output_type": "stream",
     "text": [
      "/opt/conda/envs/pytorch-py3.6/lib/python3.6/site-packages/ipykernel_launcher.py:1: SettingWithCopyWarning: \n",
      "A value is trying to be set on a copy of a slice from a DataFrame.\n",
      "Try using .loc[row_indexer,col_indexer] = value instead\n",
      "\n",
      "See the caveats in the documentation: http://pandas.pydata.org/pandas-docs/stable/indexing.html#indexing-view-versus-copy\n",
      "  \"\"\"Entry point for launching an IPython kernel.\n",
      "/opt/conda/envs/pytorch-py3.6/lib/python3.6/site-packages/ipykernel_launcher.py:2: SettingWithCopyWarning: \n",
      "A value is trying to be set on a copy of a slice from a DataFrame.\n",
      "Try using .loc[row_indexer,col_indexer] = value instead\n",
      "\n",
      "See the caveats in the documentation: http://pandas.pydata.org/pandas-docs/stable/indexing.html#indexing-view-versus-copy\n",
      "  \n"
     ]
    }
   ],
   "source": [
    "voxc1_dev_m['label'] = voxc1_dev_m.groupby('spk').ngroup()\n",
    "voxc1_dev_f['label'] = voxc1_dev_f.groupby('spk').ngroup()"
   ]
  },
  {
   "cell_type": "code",
   "execution_count": 500,
   "metadata": {},
   "outputs": [],
   "source": [
    "voxc1_dev_m.to_pickle(\"/dataset/SV_sets/voxceleb12/dataframes/voxc1_m_si_train_dataframe.pkl\")\n",
    "voxc1_dev_f.to_pickle(\"/dataset/SV_sets/voxceleb12/dataframes/voxc1_f_si_train_dataframe.pkl\")"
   ]
  },
  {
   "cell_type": "code",
   "execution_count": 502,
   "metadata": {},
   "outputs": [],
   "source": [
    "voxc1_meta.to_pickle(\"/dataset/SV_sets/voxceleb12/dataframes/voxc1_meta.pkl\")"
   ]
  },
  {
   "cell_type": "markdown",
   "metadata": {},
   "source": [
    "### trial\n",
    "\n",
    "여러 trial이 있지만 일단은 voxc1의 sv_set을 사용하는 trial을 공용 trial로 지정했다."
   ]
  },
  {
   "cell_type": "code",
   "execution_count": 15,
   "metadata": {},
   "outputs": [],
   "source": [
    "voxc1_test_df = pd.read_pickle(\"/dataset/SV_sets/voxceleb12/dataframes/voxc12_sv_test_dataframe.pkl\") # id의 기준이 되는 df\n",
    "voxc1_test_spks = voxc1_test_df.spk.unique().tolist()"
   ]
  },
  {
   "cell_type": "code",
   "execution_count": 16,
   "metadata": {},
   "outputs": [],
   "source": [
    "voxc1_trial = pd.read_csv(\"/dataset/SV_sets/voxceleb12/trial_data/veri_test.txt\", sep=' ', header=None)\n",
    "voxc1_trial.columns = ['label', 'enroll', 'test']"
   ]
  },
  {
   "cell_type": "code",
   "execution_count": 17,
   "metadata": {},
   "outputs": [],
   "source": [
    "enroll_idx = voxc1_trial.enroll.apply(lambda x: x.replace('/', '-').rstrip('.wav'))\n",
    "test_idx = voxc1_trial.test.apply(lambda x: x.replace('/', '-').rstrip('.wav'))\n",
    "\n",
    "voxc1_trial['enroll_idx'] = enroll_idx\n",
    "voxc1_trial['test_idx'] = test_idx"
   ]
  },
  {
   "cell_type": "code",
   "execution_count": 18,
   "metadata": {},
   "outputs": [],
   "source": [
    "enroll_num_idx = voxc1_trial.enroll_idx.apply(lambda x: voxc1_test_df.index.get_loc(x))\n",
    "test_num_idx = voxc1_trial.test_idx.apply(lambda x: voxc1_test_df.index.get_loc(x))\n",
    "\n",
    "voxc1_trial['enrolment_id'] = enroll_num_idx\n",
    "voxc1_trial['test_id'] = test_num_idx"
   ]
  },
  {
   "cell_type": "code",
   "execution_count": 19,
   "metadata": {},
   "outputs": [],
   "source": [
    "voxc1_trial = voxc1_trial.drop(columns=['enroll', 'test'])"
   ]
  },
  {
   "cell_type": "code",
   "execution_count": 20,
   "metadata": {},
   "outputs": [],
   "source": [
    "voxc1_trial.to_pickle(\"/dataset/SV_sets/voxceleb12/dataframes/voxc12_test_trial.pkl\")"
   ]
  },
  {
   "cell_type": "markdown",
   "metadata": {},
   "source": [
    "plda를 위한 trial file"
   ]
  },
  {
   "cell_type": "code",
   "execution_count": 26,
   "metadata": {},
   "outputs": [],
   "source": [
    "voxc1_trial['is_target'] = voxc1_trial.label.apply(lambda x: 'target' if x==1 else 'nontarget')"
   ]
  },
  {
   "cell_type": "code",
   "execution_count": 28,
   "metadata": {},
   "outputs": [],
   "source": [
    "voxc1_trial.to_csv(\"/dataset/SV_sets/voxceleb12/trials/voxceleb12_sv\", sep=' ', header=False, index=False, columns=['enroll_idx', 'test_idx', 'is_target'])"
   ]
  },
  {
   "cell_type": "markdown",
   "metadata": {},
   "source": [
    "#### female-female case를 많이 추가한 trial"
   ]
  },
  {
   "cell_type": "code",
   "execution_count": 583,
   "metadata": {},
   "outputs": [],
   "source": [
    "voxc1_m_spks = voxc1_meta[voxc1_meta.Gender == 'm'].index.tolist()"
   ]
  },
  {
   "cell_type": "code",
   "execution_count": 584,
   "metadata": {},
   "outputs": [],
   "source": [
    "voxc1_f_spks = voxc1_meta[voxc1_meta.Gender == 'f'].index.tolist()"
   ]
  },
  {
   "cell_type": "code",
   "execution_count": 587,
   "metadata": {},
   "outputs": [],
   "source": [
    "voxc1_test_m_spks = [spk for spk in voxc1_test_spks if spk in voxc1_m_spks]"
   ]
  },
  {
   "cell_type": "code",
   "execution_count": 589,
   "metadata": {},
   "outputs": [],
   "source": [
    "voxc1_test_f_spks = [spk for spk in voxc1_test_spks if spk in voxc1_f_spks]"
   ]
  },
  {
   "cell_type": "code",
   "execution_count": 557,
   "metadata": {},
   "outputs": [],
   "source": [
    "# positive pair\n",
    "import itertools\n",
    "pos_trials = []\n",
    "pos_len = dict()\n",
    "for spk in voxc1_test_spks:\n",
    "    utters = voxc1_test_df[voxc1_test_df.spk == spk].index\n",
    "    every_pos_pair = list(filter(diff_session, itertools.combinations(utters, 2)))\n",
    "    pos_trials += every_pos_pair\n",
    "    pos_len[spk] = len(every_pos_pair) "
   ]
  },
  {
   "cell_type": "code",
   "execution_count": 560,
   "metadata": {},
   "outputs": [],
   "source": [
    "def diff_session(pair):\n",
    "    a, b = pair\n",
    "    if a[8:19] != b[8:19]:\n",
    "        return True\n",
    "    else:\n",
    "        return False"
   ]
  },
  {
   "cell_type": "code",
   "execution_count": 610,
   "metadata": {},
   "outputs": [],
   "source": [
    "# negative m pair\n",
    "import itertools\n",
    "import random\n",
    "neg_m_trials = []\n",
    "for spk in voxc1_test_m_spks:\n",
    "    utters = voxc1_test_df[ (voxc1_test_df.spk == spk)].index.tolist()\n",
    "    neg_targets = voxc1_test_df[(voxc1_test_df.gender == 'm') & (voxc1_test_df.spk != spk)].index.tolist()\n",
    "    total_pairs = list(itertools.product(utters, neg_targets))\n",
    "    neg_m_trials += list(filter(diff_session, total_pairs))"
   ]
  },
  {
   "cell_type": "code",
   "execution_count": 611,
   "metadata": {},
   "outputs": [],
   "source": [
    "# negative f pair\n",
    "import itertools\n",
    "import random\n",
    "neg_f_trials = []\n",
    "for spk in voxc1_test_f_spks:\n",
    "    utters = voxc1_test_df[ (voxc1_test_df.spk == spk)].index.tolist()\n",
    "    neg_targets = voxc1_test_df[(voxc1_test_df.gender == 'f') & (voxc1_test_df.spk != spk)].index.tolist()\n",
    "    total_pairs = list(itertools.product(utters, neg_targets))\n",
    "    neg_f_trials += list(filter(diff_session, total_pairs))"
   ]
  },
  {
   "cell_type": "code",
   "execution_count": 626,
   "metadata": {},
   "outputs": [],
   "source": [
    "pos_trials = random.choices(pos_trials, k=10000)"
   ]
  },
  {
   "cell_type": "code",
   "execution_count": 627,
   "metadata": {},
   "outputs": [],
   "source": [
    "neg_m_trials = random.choices(neg_m_trials, k=int(len(pos_trials)/2))"
   ]
  },
  {
   "cell_type": "code",
   "execution_count": 628,
   "metadata": {},
   "outputs": [],
   "source": [
    "neg_f_trials = random.choices(neg_f_trials, k=int(len(pos_trials)/2))"
   ]
  },
  {
   "cell_type": "code",
   "execution_count": 629,
   "metadata": {},
   "outputs": [],
   "source": [
    "neg_trials = neg_m_trials + neg_f_trials"
   ]
  },
  {
   "cell_type": "code",
   "execution_count": 630,
   "metadata": {},
   "outputs": [],
   "source": [
    "voxc1_trials = pos_trials + neg_trials\n",
    "voxc1_trial_df = pd.DataFrame(voxc1_trials, columns=[\"enroll_idx\", \"test_idx\"])"
   ]
  },
  {
   "cell_type": "code",
   "execution_count": 631,
   "metadata": {},
   "outputs": [],
   "source": [
    "voxc1_trial_df['enroll_uttr_id'] = voxc1_trial_df.enroll_idx.apply(lambda x: voxc1_test_df.index.get_loc(x))\n",
    "voxc1_trial_df['test_uttr_id'] = voxc1_trial_df.test_idx.apply(lambda x: voxc1_test_df.index.get_loc(x))\n",
    "voxc1_trial_df['enroll_spk'] = voxc1_trial_df.enroll_idx.apply(lambda x: x[:7])\n",
    "voxc1_trial_df['test_spk'] = voxc1_trial_df.test_idx.apply(lambda x: x[:7])\n",
    "voxc1_trial_df['label'] = [1]*len(pos_trials) + [0]*len(neg_trials)\n",
    "voxc1_trial_df.to_pickle(\"/dataset/SV_sets/voxceleb12/dataframes/voxc12_bal_sv_test_dataframe.pkl\")"
   ]
  },
  {
   "cell_type": "code",
   "execution_count": 652,
   "metadata": {},
   "outputs": [],
   "source": [
    "voxc1_trial_df['is_target'] = voxc1_trial_df.label.apply(lambda x: 'target' if x==1 else 'nontarget')\n",
    "voxc1_trial_df.to_csv(\"/dataset/SV_sets/voxceleb12/trials/voxceleb12_bal_sv\", sep=' ', header=False, index=False, columns=['enroll_idx', 'test_idx', 'is_target'])"
   ]
  },
  {
   "cell_type": "markdown",
   "metadata": {},
   "source": [
    "## voxceleb2"
   ]
  },
  {
   "cell_type": "code",
   "execution_count": 661,
   "metadata": {},
   "outputs": [],
   "source": [
    "#voxc2 trial 기준 dataframe\n",
    "voxc2_sv_test_df = pd.read_pickle(\"/dataset/SV_sets/voxceleb12/dataframes/voxc2_sv_test_dataframe.pkl\")"
   ]
  },
  {
   "cell_type": "markdown",
   "metadata": {},
   "source": [
    "### trials"
   ]
  },
  {
   "cell_type": "code",
   "execution_count": 674,
   "metadata": {},
   "outputs": [],
   "source": [
    "voxc2_all_trial_df = pd.read_pickle(\"/dataset/SV_sets/voxceleb12/dataframes/voxc2_trials/voxc2_all_trials.pkl\")\n",
    "voxc2_all_trial_df['enroll_spk']     = voxc2_all_trial_df.enroll_idx.apply(lambda x: x[:7])\n",
    "voxc2_all_trial_df['test_spk']       = voxc2_all_trial_df.test_idx.apply(lambda x: x[:7])\n",
    "voxc2_all_trial_df.to_pickle(\"/dataset/SV_sets/voxceleb12/dataframes/voxc2_trials/voxc2_all_trials.pkl\")"
   ]
  },
  {
   "cell_type": "code",
   "execution_count": 682,
   "metadata": {},
   "outputs": [],
   "source": [
    "voxc2_hard_trial_df = pd.read_pickle(\"/dataset/SV_sets/voxceleb12/dataframes/voxc2_trials/voxc2_hard_trial.pkl\")\n",
    "voxc2_hard_trial_df['enroll_spk']     = voxc2_all_trial_df.enroll_idx.apply(lambda x: x[:7])\n",
    "voxc2_hard_trial_df['test_spk']       = voxc2_all_trial_df.test_idx.apply(lambda x: x[:7])\n",
    "voxc2_hard_trial_df.to_pickle(\"/dataset/SV_sets/voxceleb12/dataframes/voxc2_trials/voxc2_hard_trials.pkl\")"
   ]
  },
  {
   "cell_type": "code",
   "execution_count": 684,
   "metadata": {},
   "outputs": [],
   "source": [
    "voxc2_all_trial_df['is_target'] = voxc2_all_trial_df.label.apply(lambda x: 'target' if x==1 else 'nontarget')\n",
    "voxc2_all_trial_df.to_csv(\"/dataset/SV_sets/voxceleb12/kaldi_files/voxc2_all_sv\", sep=' ', header=False, index=False, columns=['enroll_idx', 'test_idx', 'is_target'])"
   ]
  },
  {
   "cell_type": "code",
   "execution_count": 685,
   "metadata": {},
   "outputs": [],
   "source": [
    "voxc2_hard_trial_df['is_target'] = voxc2_hard_trial_df.label.apply(lambda x: 'target' if x==1 else 'nontarget')\n",
    "voxc2_hard_trial_df.to_csv(\"/dataset/SV_sets/voxceleb12/kaldi_files/voxc2_hard_sv\", sep=' ', header=False, index=False, columns=['enroll_idx', 'test_idx', 'is_target'])"
   ]
  },
  {
   "cell_type": "markdown",
   "metadata": {},
   "source": [
    "### utt2spk spk2utt"
   ]
  },
  {
   "cell_type": "code",
   "execution_count": 294,
   "metadata": {},
   "outputs": [],
   "source": [
    "spk2utt = voxc2_si_train_df.sort_values(\"spk\").groupby(\"spk\").apply(lambda x: x.uttr_id.values)"
   ]
  },
  {
   "cell_type": "code",
   "execution_count": 299,
   "metadata": {},
   "outputs": [],
   "source": [
    "with open(\"/dataset/SV_sets/gcommand/kaldi_files/spk2utt\", \"w\") as f:\n",
    "    for k, v in spk2utt.iteritems():\n",
    "        line = ' '.join([k]+v.tolist())\n",
    "        f.write(line+'\\n')"
   ]
  },
  {
   "cell_type": "code",
   "execution_count": 300,
   "metadata": {},
   "outputs": [],
   "source": [
    "utt2spk = all_gcommand_df.sort_values(\"uttr_id\")['spk']"
   ]
  },
  {
   "cell_type": "code",
   "execution_count": 301,
   "metadata": {},
   "outputs": [],
   "source": [
    "with open(\"/dataset/SV_sets/gcommand/kaldi_files/utt2spk\", \"w\") as f:\n",
    "    for k, v in utt2spk.iteritems():\n",
    "        line = ' '.join([k, v])\n",
    "        f.write(line+'\\n')"
   ]
  },
  {
   "cell_type": "markdown",
   "metadata": {},
   "source": [
    "## gcommand "
   ]
  },
  {
   "cell_type": "code",
   "execution_count": 4,
   "metadata": {},
   "outputs": [],
   "source": [
    "gcommand_train_df = pd.read_pickle(\"/dataset/SV_sets/gcommand/dataframes/equal_num_30spk/equal_num_30spk_si.pkl\")\n",
    "gcommand_test_df = pd.read_pickle(\"/dataset/SV_sets/gcommand/dataframes/equal_num_30spk/equal_num_30spk_sv.pkl\")"
   ]
  },
  {
   "cell_type": "code",
   "execution_count": 19,
   "metadata": {},
   "outputs": [],
   "source": [
    "val_uttrs_idx = gcommand_train_df.groupby('spk', group_keys=False).apply(lambda x: x.sample(n=2)).index"
   ]
  },
  {
   "cell_type": "code",
   "execution_count": 20,
   "metadata": {},
   "outputs": [],
   "source": [
    "gcommand_train_df.set = 'train'"
   ]
  },
  {
   "cell_type": "code",
   "execution_count": 32,
   "metadata": {},
   "outputs": [
    {
     "data": {
      "text/plain": [
       "004ae714-down-0        0\n",
       "004ae714-eight-0       0\n",
       "004ae714-five-0        0\n",
       "004ae714-four-0        0\n",
       "004ae714-four-1        0\n",
       "004ae714-go-0          0\n",
       "004ae714-go-1          0\n",
       "004ae714-left-0        0\n",
       "004ae714-off-0         0\n",
       "004ae714-off-1         0\n",
       "004ae714-on-0          0\n",
       "004ae714-on-1          0\n",
       "004ae714-one-0         0\n",
       "004ae714-seven-0       0\n",
       "004ae714-seven-1       0\n",
       "004ae714-seven-2       0\n",
       "004ae714-six-0         0\n",
       "004ae714-six-1         0\n",
       "004ae714-stop-0        0\n",
       "004ae714-up-0          0\n",
       "004ae714-yes-0         0\n",
       "004ae714-yes-1         0\n",
       "004ae714-zero-0        0\n",
       "004ae714-zero-1        0\n",
       "00b01445-down-0        1\n",
       "00b01445-down-1        1\n",
       "00b01445-eight-0       1\n",
       "00b01445-five-0        1\n",
       "00b01445-five-1        1\n",
       "00b01445-go-0          1\n",
       "                    ... \n",
       "ffd2ba2f-up-4       1757\n",
       "ffd2ba2f-wow-0      1757\n",
       "ffd2ba2f-yes-0      1757\n",
       "ffd2ba2f-yes-1      1757\n",
       "ffd2ba2f-yes-2      1757\n",
       "ffd2ba2f-yes-3      1757\n",
       "ffd2ba2f-yes-4      1757\n",
       "ffd2ba2f-zero-0     1757\n",
       "ffd2ba2f-zero-1     1757\n",
       "ffd2ba2f-zero-2     1757\n",
       "ffd2ba2f-zero-3     1757\n",
       "ffd2ba2f-zero-4     1757\n",
       "fffcabd1-four-0     1758\n",
       "fffcabd1-nine-0     1758\n",
       "fffcabd1-nine-1     1758\n",
       "fffcabd1-no-0       1758\n",
       "fffcabd1-off-0      1758\n",
       "fffcabd1-off-1      1758\n",
       "fffcabd1-off-2      1758\n",
       "fffcabd1-off-3      1758\n",
       "fffcabd1-right-0    1758\n",
       "fffcabd1-seven-0    1758\n",
       "fffcabd1-seven-1    1758\n",
       "fffcabd1-six-0      1758\n",
       "fffcabd1-stop-0     1758\n",
       "fffcabd1-stop-1     1758\n",
       "fffcabd1-three-0    1758\n",
       "fffcabd1-three-1    1758\n",
       "fffcabd1-two-0      1758\n",
       "fffcabd1-zero-0     1758\n",
       "Name: label, Length: 44898, dtype: int64"
      ]
     },
     "execution_count": 32,
     "metadata": {},
     "output_type": "execute_result"
    }
   ],
   "source": [
    "gcommand_train_df.label"
   ]
  },
  {
   "cell_type": "code",
   "execution_count": 29,
   "metadata": {},
   "outputs": [],
   "source": [
    "gcommand_train_df.loc[val_uttrs_idx, 'set'] = 'val'"
   ]
  },
  {
   "cell_type": "code",
   "execution_count": 30,
   "metadata": {},
   "outputs": [
    {
     "data": {
      "text/plain": [
       "train    41380\n",
       "val       3518\n",
       "Name: set, dtype: int64"
      ]
     },
     "execution_count": 30,
     "metadata": {},
     "output_type": "execute_result"
    }
   ],
   "source": [
    "gcommand_train_df.set.value_counts()"
   ]
  },
  {
   "cell_type": "code",
   "execution_count": 31,
   "metadata": {},
   "outputs": [],
   "source": [
    "gcommand_train_df.to_pickle(\"/dataset/SV_sets/gcommand/dataframes/equal_num_30spk/equal_num_30spk_si.pkl\")"
   ]
  },
  {
   "cell_type": "code",
   "execution_count": 458,
   "metadata": {},
   "outputs": [],
   "source": [
    "all_gcommands_df = pd.read_pickle(\"/dataset/SV_sets/gcommand/dataframes/all_gcommands.pkl\")"
   ]
  },
  {
   "cell_type": "markdown",
   "metadata": {},
   "source": [
    "### utt2spk spk2utt"
   ]
  },
  {
   "cell_type": "code",
   "execution_count": 459,
   "metadata": {},
   "outputs": [],
   "source": [
    "spk2utt = gcommand_train_df.sort_values(\"spk\").groupby(\"spk\").apply(lambda x: x.uttr_id.values)"
   ]
  },
  {
   "cell_type": "code",
   "execution_count": 460,
   "metadata": {},
   "outputs": [],
   "source": [
    "with open(\"/dataset/SV_sets/gcommand/kaldi_files/train_spk2utt\", \"w\") as f:\n",
    "    for k, v in spk2utt.iteritems():\n",
    "        line = ' '.join([k]+v.tolist())\n",
    "        f.write(line+'\\n')"
   ]
  },
  {
   "cell_type": "code",
   "execution_count": 461,
   "metadata": {},
   "outputs": [],
   "source": [
    "utt2spk = gcommand_train_df.sort_values(\"uttr_id\")['spk']"
   ]
  },
  {
   "cell_type": "code",
   "execution_count": 462,
   "metadata": {},
   "outputs": [],
   "source": [
    "with open(\"/dataset/SV_sets/gcommand/kaldi_files/train_utt2spk\", \"w\") as f:\n",
    "    for k, v in utt2spk.iteritems():\n",
    "        line = ' '.join([k, v])\n",
    "        f.write(line+'\\n')"
   ]
  },
  {
   "cell_type": "markdown",
   "metadata": {},
   "source": [
    "### trials (self-made)"
   ]
  },
  {
   "cell_type": "code",
   "execution_count": 399,
   "metadata": {},
   "outputs": [],
   "source": [
    "gcommand_test_spks = gcommand_test_df.spk.unique().tolist()"
   ]
  },
  {
   "cell_type": "code",
   "execution_count": 438,
   "metadata": {},
   "outputs": [],
   "source": [
    "# positive pair\n",
    "import itertools\n",
    "pos_trials = []\n",
    "pos_len = []\n",
    "for spk in gcommand_test_spks:\n",
    "    utters = gcommand_test_df[gcommand_test_df.spk == spk].index\n",
    "    every_pos_pair = itertools.combinations(utters, 2)\n",
    "    pos_trials += every_pos_pair"
   ]
  },
  {
   "cell_type": "code",
   "execution_count": 439,
   "metadata": {},
   "outputs": [],
   "source": [
    "# positive pair\n",
    "import itertools\n",
    "import random\n",
    "neg_trials = []\n",
    "for spk in gcommand_test_spks:\n",
    "    utters = gcommand_test_df[gcommand_test_df.spk == spk].index.tolist()\n",
    "    neg_targets = gcommand_test_df[gcommand_test_df.spk != spk].index.tolist()\n",
    "    total_pairs = list(itertools.product(utters, neg_targets))\n",
    "    neg_trials += random.choices(total_pairs, k=5995)"
   ]
  },
  {
   "cell_type": "code",
   "execution_count": 441,
   "metadata": {},
   "outputs": [],
   "source": [
    "gcommand_trials = pos_trials + neg_trials\n",
    "gcommand_trial_df = pd.DataFrame(gcommand_trials, columns=[\"enroll_idx\", \"test_idx\"])"
   ]
  },
  {
   "cell_type": "code",
   "execution_count": 448,
   "metadata": {},
   "outputs": [],
   "source": [
    "gcommand_trial_df['enrolment_id'] = gcommand_trial_df.enroll_idx.apply(lambda x: gcommand_test_df.index.get_loc(x))\n",
    "\n",
    "gcommand_trial_df['test_id'] = gcommand_trial_df.test_idx.apply(lambda x: gcommand_test_df.index.get_loc(x))\n",
    "\n",
    "gcommand_trial_df['enroll_spk'] = gcommand_trial_df.enroll_idx.apply(lambda x: x[:8])\n",
    "\n",
    "gcommand_trial_df['test_spk'] = gcommand_trial_df.test_idx.apply(lambda x: x[:8])\n",
    "\n",
    "gcommand_trial_df['label'] = [1]*len(pos_trials) + [0]*len(neg_trials)\n",
    "\n",
    "gcommand_trial_df.to_pickle(\"/dataset/SV_sets/gcommand/dataframes/equal_num_30spk/equal_num_30spk_test_trial.pkl\")"
   ]
  },
  {
   "cell_type": "code",
   "execution_count": 450,
   "metadata": {},
   "outputs": [],
   "source": [
    "gcommand_trial_df['is_target'] = gcommand_trial_df.label.apply(lambda x: 'target' if x==1 else 'nontarget')\n",
    "\n",
    "gcommand_trial_df.to_csv(\"/dataset/SV_sets/gcommand/kaldi_files/gcommand_30spks_sv\", sep=' ', header=False, index=False, columns=['enroll_idx', 'test_idx', 'is_target'])"
   ]
  },
  {
   "cell_type": "code",
   "execution_count": 451,
   "metadata": {},
   "outputs": [],
   "source": [
    "gcommand_train_df = gcommand_train_df.sort_index()"
   ]
  },
  {
   "cell_type": "code",
   "execution_count": 452,
   "metadata": {},
   "outputs": [],
   "source": [
    "gcommand_train_df['label'] = gcommand_train_df.groupby('spk').ngroup()"
   ]
  },
  {
   "cell_type": "code",
   "execution_count": 453,
   "metadata": {},
   "outputs": [],
   "source": [
    "gcommand_train_df.to_pickle(\"/dataset/SV_sets/gcommand/dataframes/equal_num_30spk/equal_num_30spk_si.pkl\")"
   ]
  }
 ],
 "metadata": {
  "kernelspec": {
   "display_name": "Python 3",
   "language": "python",
   "name": "python3"
  },
  "language_info": {
   "codemirror_mode": {
    "name": "ipython",
    "version": 3
   },
   "file_extension": ".py",
   "mimetype": "text/x-python",
   "name": "python",
   "nbconvert_exporter": "python",
   "pygments_lexer": "ipython3",
   "version": "3.6.5"
  }
 },
 "nbformat": 4,
 "nbformat_minor": 2
}
