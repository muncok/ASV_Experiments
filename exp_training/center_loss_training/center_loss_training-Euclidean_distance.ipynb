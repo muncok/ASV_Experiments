{
 "cells": [
  {
   "cell_type": "markdown",
   "metadata": {},
   "source": [
    "# center_loss training\n",
    "\n",
    "paper:  http://ydwen.github.io/papers/WenECCV16.pdf  \n",
    "code: https://github.com/KaiyangZhou/pytorch-center-loss"
   ]
  },
  {
   "cell_type": "markdown",
   "metadata": {},
   "source": [
    "## Environment"
   ]
  },
  {
   "cell_type": "code",
   "execution_count": 11,
   "metadata": {},
   "outputs": [
    {
     "name": "stdout",
     "output_type": "stream",
     "text": [
      "The autoreload extension is already loaded. To reload it, use:\n",
      "  %reload_ext autoreload\n",
      "Using matplotlib backend: TkAgg\n",
      "Populating the interactive namespace from numpy and matplotlib\n"
     ]
    }
   ],
   "source": [
    "%load_ext autoreload\n",
    "%autoreload 2\n",
    "%pylab\n",
    "%matplotlib inline\n",
    "\n",
    "import pandas as pd\n",
    "import pickle\n",
    "import numpy as np\n",
    "import sys\n",
    "import os"
   ]
  },
  {
   "cell_type": "code",
   "execution_count": 12,
   "metadata": {},
   "outputs": [],
   "source": [
    "sys.path.append('../')\n",
    "os.environ[\"CUDA_DEVICE_ORDER\"]=\"PCI_BUS_ID\"   # see issue #152\n",
    "os.environ[\"CUDA_VISIBLE_DEVICES\"]=\"2\""
   ]
  },
  {
   "cell_type": "markdown",
   "metadata": {},
   "source": [
    "### Center-loss algorithm"
   ]
  },
  {
   "cell_type": "code",
   "execution_count": 13,
   "metadata": {},
   "outputs": [],
   "source": [
    "import torch                                                                                                                                                                                                                                                                 \n",
    "import torch.nn as nn                                                                                                                                                                                                                                                        \n",
    "\n",
    "class CenterLoss(nn.Module):                                                                                                                                                                                                                                                 \n",
    "    \"\"\"Center loss.                                                                                                                                                                                                                                                          \n",
    "\n",
    "    Reference:                                                                                                                                                                                                                                                               \n",
    "    Wen et al. A Discriminative Feature Learning Approach for Deep Face Recognition. ECCV 2016.                                                                                                                                                                              \n",
    "\n",
    "    Args:                                                                                                                                                                                                                                                                    \n",
    "     num_classes (int): number of classes.                                                                                                                                                                                                                                \n",
    "     feat_dim (int): feature dimension.                                                                                                                                                                                                                                   \n",
    "    \"\"\"                                                                                                                                                                                                                                                                      \n",
    "    def __init__(self, num_classes=10, feat_dim=2, use_gpu=True):                                                                                                                                                                                                            \n",
    "        super(CenterLoss, self).__init__()                                                                                                                                                                                                                                   \n",
    "        self.num_classes = num_classes                                                                                                                                                                                                                                       \n",
    "        self.feat_dim = feat_dim                                                                                                                                                                                                                                             \n",
    "        self.use_gpu = use_gpu                                                                                                                                                                                                                                               \n",
    "\n",
    "        if self.use_gpu:                                                                                                                                                                                                                                                     \n",
    "            self.centers = nn.Parameter(torch.randn(self.num_classes, self.feat_dim).cuda())                                                                                                                                                                                 \n",
    "        else:                                                                                                                                                                                                                                                                \n",
    "            self.centers = nn.Parameter(torch.randn(self.num_classes, self.feat_dim))                                                                                                                                                                                        \n",
    "\n",
    "    def forward(self, x, labels):                                                                                                                                                                                                                                            \n",
    "        \"\"\"                                                                                                                                                                                                                                                                  \n",
    "        Args:                                                                                                                                                                                                                                                                \n",
    "         x: feature matrix with shape (batch_size, feat_dim).                                                                                                                                                                                                             \n",
    "         labels: ground truth labels with shape (num_classes).                                                                                                                                                                                                            \n",
    "        \"\"\"                                                                                                                                                                                                                                                                  \n",
    "        batch_size = x.size(0)                                                                                                                                                                                                                                               \n",
    "        distmat = torch.pow(x, 2).sum(dim=1, keepdim=True).expand(batch_size, self.num_classes) + \\\n",
    "            torch.pow(self.centers, 2).sum(dim=1, keepdim=True).expand(self.num_classes, batch_size).t()                                                                                                                                                               \n",
    "        distmat.addmm_(1, -2, x, self.centers.t())                                                                                                                                                                                                                           \n",
    "\n",
    "        classes = torch.arange(self.num_classes).long()                                                                                                                                                                                                                      \n",
    "        if self.use_gpu: classes = classes.cuda()                                                                                                                                                                                                                            \n",
    "        labels = labels.unsqueeze(1).expand(batch_size, self.num_classes)                                                                                                                                                                                                    \n",
    "        mask = labels.eq(classes.expand(batch_size, self.num_classes))                                                                                                                                                                                                       \n",
    "\n",
    "        dist = []                                                                                                                                                                                                                                                            \n",
    "        for i in range(batch_size):                                                                                                                                                                                                                                          \n",
    "            value = distmat[i][mask[i]]                                                                                                                                                                                                                                      \n",
    "            value = value.clamp(min=1e-12, max=1e+12) # for numerical stability                                                                                                                                                                                              \n",
    "            dist.append(value)                                                                                                                                                                                                                                               \n",
    "        dist = torch.cat(dist)                                                                                                                                                                                                                                               \n",
    "        loss = dist.mean()                                                                                                                                                                                                                                                   \n",
    "\n",
    "        return loss"
   ]
  },
  {
   "cell_type": "markdown",
   "metadata": {},
   "source": [
    "### Configuration"
   ]
  },
  {
   "cell_type": "code",
   "execution_count": 58,
   "metadata": {},
   "outputs": [],
   "source": [
    "from sv_system.utils.parser import set_train_config\n",
    "import easydict\n",
    "args = easydict.EasyDict(dict(dataset=\"gcommand_equal30_wav\",\n",
    "                              input_frames=101, splice_frames=[50, 101], stride_frames=1, input_format='fbank',\n",
    "                              cuda=True,\n",
    "                              lrs=[0.01, 0.01], lr_schedule=[20], seed=1337,\n",
    "                              no_eer=False,\n",
    "                              batch_size=128,\n",
    "                              arch=\"ResNet34\", loss=\"softmax\",\n",
    "                              n_epochs=50\n",
    "                             ))\n",
    "config = set_train_config(args)"
   ]
  },
  {
   "cell_type": "markdown",
   "metadata": {},
   "source": [
    "### Dataset and Dataloader"
   ]
  },
  {
   "cell_type": "code",
   "execution_count": 47,
   "metadata": {},
   "outputs": [],
   "source": [
    "from sv_system.data.data_utils import find_dataset, find_trial\n",
    "\n",
    "_, datasets = find_dataset(config, basedir='../')\n",
    "trial = find_trial(config, basedir='../')"
   ]
  },
  {
   "cell_type": "code",
   "execution_count": 48,
   "metadata": {},
   "outputs": [],
   "source": [
    "from sv_system.data.dataloader import init_loaders\n",
    "\n",
    "dataloaders = init_loaders(config, datasets)"
   ]
  },
  {
   "cell_type": "markdown",
   "metadata": {},
   "source": [
    "### Define Model"
   ]
  },
  {
   "cell_type": "code",
   "execution_count": 49,
   "metadata": {},
   "outputs": [],
   "source": [
    "# from sv_system.model.model_utils import find_model\n",
    "# model = find_model(config)"
   ]
  },
  {
   "cell_type": "code",
   "execution_count": 50,
   "metadata": {},
   "outputs": [],
   "source": [
    "from sv_system.model.ResNet34 import ResNet34\n",
    "\n",
    "class ResNet34_v1(ResNet34):\n",
    "    \"\"\"\n",
    "        additional fc layer before output layer\n",
    "    \"\"\"\n",
    "    def __init__(self, config, inplanes=16, n_labels=1000, fc_dims=None):\n",
    "        super().__init__(config, inplanes, n_labels)\n",
    "\n",
    "        extractor_output_dim = 8*inplanes\n",
    "        if not fc_dims:\n",
    "            fc_dims = extractor_output_dim\n",
    "\n",
    "        classifier = [nn.Linear(extractor_output_dim,\n",
    "            fc_dims),\n",
    "            nn.ReLU(inplace=True)]\n",
    "\n",
    "        loss_type = config[\"loss\"]\n",
    "        if loss_type == \"angular\":\n",
    "            classifier.append(AngleLinear(fc_dims, n_labels))\n",
    "        elif loss_type == \"softmax\":\n",
    "            classifier.append(nn.Linear(fc_dims, n_labels))\n",
    "        else:\n",
    "            print(\"not implemented loss\")\n",
    "            raise NotImplementedError\n",
    "\n",
    "        self.classifier = nn.Sequential(*classifier)\n",
    "        \n",
    "    def forward(self, x):\n",
    "        feat = self.embed(x)\n",
    "        out = self.classifier(feat)\n",
    "        \n",
    "        return out\n",
    "    \n",
    "    def feat_output(self, x):\n",
    "        feat = self.embed(x)\n",
    "        out = self.classifier(feat)\n",
    "        \n",
    "        return feat, out"
   ]
  },
  {
   "cell_type": "code",
   "execution_count": 51,
   "metadata": {},
   "outputs": [],
   "source": [
    "model = ResNet34_v1(config, n_labels=config['n_labels'])\n",
    "\n",
    "if not config['no_cuda']:\n",
    "    model = model.cuda()"
   ]
  },
  {
   "cell_type": "markdown",
   "metadata": {},
   "source": [
    "### Model Train"
   ]
  },
  {
   "cell_type": "code",
   "execution_count": 52,
   "metadata": {},
   "outputs": [],
   "source": [
    "import torch\n",
    "\n",
    "is_cuda = True\n",
    "weight_cent = 0.01\n",
    "criterion_xent = nn.CrossEntropyLoss()\n",
    "criterion_cent = CenterLoss(num_classes=config['n_labels'], feat_dim=128, use_gpu=is_cuda)\n",
    "optimizer_model = torch.optim.SGD(model.parameters(), lr=config['lrs'][0], weight_decay=5e-04, momentum=0.9)\n",
    "optimizer_centloss = torch.optim.SGD(criterion_cent.parameters(), lr=0.5)"
   ]
  },
  {
   "cell_type": "code",
   "execution_count": 53,
   "metadata": {},
   "outputs": [],
   "source": [
    "from sv_system.train.train_utils import set_seed, find_optimizer\n",
    "\n",
    "criterion, optimizer = find_optimizer(config, model)"
   ]
  },
  {
   "cell_type": "code",
   "execution_count": 54,
   "metadata": {},
   "outputs": [],
   "source": [
    "set_seed(config)"
   ]
  },
  {
   "cell_type": "code",
   "execution_count": 55,
   "metadata": {},
   "outputs": [],
   "source": [
    "if not config['no_eer']:\n",
    "    train_loader, val_loader, test_loader, sv_loader = dataloaders\n",
    "else:\n",
    "    train_loader, val_loader, test_loader = dataloaders"
   ]
  },
  {
   "cell_type": "code",
   "execution_count": 56,
   "metadata": {},
   "outputs": [],
   "source": [
    "def train(model):\n",
    "    model.train()\n",
    "    loss_sum = 0\n",
    "    xent_loss_sum = 0\n",
    "    cent_loss_sum = 0\n",
    "    n_corrects = 0\n",
    "    total = 0\n",
    "    for batch_idx, (X, y) in enumerate(train_loader):\n",
    "        if is_cuda:\n",
    "            X = X.cuda()\n",
    "            y = y.cuda()\n",
    "\n",
    "        feats, outs  = model.feat_output(X)\n",
    "        loss_xent = criterion_xent(outs, y)\n",
    "        loss_cent = criterion_cent(feats, y)\n",
    "        loss_cent *= weight_cent\n",
    "        loss = loss_xent + loss_cent\n",
    "\n",
    "        optimizer_model.zero_grad()\n",
    "        optimizer_centloss.zero_grad()\n",
    "        loss.backward()\n",
    "        optimizer_model.step()\n",
    "        for param in criterion_cent.parameters():                                                                                 \n",
    "            param.grad.data *= (1. / weight_cent)                                                                            \n",
    "        optimizer_centloss.step()                                                                                                 \n",
    "                        \n",
    "        loss_sum += loss.item()\n",
    "        xent_loss_sum += loss_xent.item()\n",
    "        cent_loss_sum += loss_cent.item()\n",
    "        n_corrects += torch.sum(torch.eq(torch.argmax(outs, dim=1), y)).item()\n",
    "        total += y.size(0)\n",
    "        \n",
    "        if (batch_idx+1) % 100 == 0:\n",
    "            print(\"Batch {}/{}\\t Loss {:.6f} XentLoss {:.6f} CenterLoss {:.6f}\" \\\n",
    "                  .format(batch_idx+1, len(train_loader), loss_sum /(batch_idx+1), \n",
    "                        xent_loss_sum/(batch_idx+1), \n",
    "                        cent_loss_sum/(batch_idx+1))\n",
    "                 )\n",
    "        acc = n_corrects / total\n",
    "\n",
    "    acc = n_corrects / total\n",
    "    return loss_sum, acc "
   ]
  },
  {
   "cell_type": "code",
   "execution_count": null,
   "metadata": {},
   "outputs": [],
   "source": [
    "# from sv_system.train.si_train import val, sv_test, sv_euc_test\n",
    "from tqdm import tqdm_notebook\n",
    "\n",
    "for epoch_idx in range(0, config['n_epochs']):\n",
    "    print(\"-\"*30)\n",
    "    curr_lr = optimizer.state_dict()['param_groups'][0]['lr']\n",
    "    idx = 0\n",
    "    while(epoch_idx >= config['lr_schedule'][idx]):\n",
    "    # use new lr from schedule epoch not a next epoch\n",
    "        idx += 1\n",
    "        if idx == len(config['lr_schedule']):\n",
    "            break\n",
    "    curr_lr = config['lrs'][idx]\n",
    "    optimizer.state_dict()['param_groups'][0]['lr'] = curr_lr\n",
    "    print(\"curr_lr: {}\".format(curr_lr))\n",
    "\n",
    "#     train code\n",
    "    train_loss, train_acc = train(model)\n",
    "    print(\"epoch #{}, train accuracy: {}\".format(epoch_idx, train_acc))\n",
    "\n",
    "#     validation code\n",
    "    val_loss, val_acc = val(config, val_loader, model, criterion, tqdm=tqdm_notebook)\n",
    "    print(\"epoch #{}, val accuracy: {}\".format(epoch_idx, val_acc))\n",
    "\n",
    "#     evaluate best_metric\n",
    "    if not config['no_eer']:\n",
    "        # eer validation code\n",
    "#         eer, label, score = sv_test(config, sv_loader, model, trial, tqdm=tqdm_notebook)\n",
    "        eer, label, score = sv_euc_test(config, sv_loader, model, trial, tqdm=tqdm_notebook)\n",
    "        print(\"epoch #{}, sv eer: {}\".format(epoch_idx, eer))\n",
    "        \n",
    "#     torch.save(model.state_dict(), open(\"softmax_model_per_epoch/model_{}.pt\".format(epoch_idx), \"wb\"))"
   ]
  },
  {
   "cell_type": "code",
   "execution_count": null,
   "metadata": {},
   "outputs": [],
   "source": []
  }
 ],
 "metadata": {
  "kernelspec": {
   "display_name": "Python 3",
   "language": "python",
   "name": "python3"
  },
  "language_info": {
   "codemirror_mode": {
    "name": "ipython",
    "version": 3
   },
   "file_extension": ".py",
   "mimetype": "text/x-python",
   "name": "python",
   "nbconvert_exporter": "python",
   "pygments_lexer": "ipython3",
   "version": "3.6.5"
  }
 },
 "nbformat": 4,
 "nbformat_minor": 2
}
